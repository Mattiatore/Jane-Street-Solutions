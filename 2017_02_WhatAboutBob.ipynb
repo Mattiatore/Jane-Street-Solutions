{
 "cells": [
  {
   "cell_type": "code",
   "execution_count": 1,
   "metadata": {
    "id": "Oq1xibzMT1Wl"
   },
   "outputs": [],
   "source": [
    "import numpy as np\n",
    "import pandas as pd\n",
    "import time\n",
    "import requests\n",
    "from bs4 import BeautifulSoup\n",
    "\n"
   ]
  },
  {
   "cell_type": "code",
   "execution_count": 2,
   "metadata": {
    "id": "ICTfvjZUT1Wr"
   },
   "outputs": [
    {
     "name": "stdout",
     "output_type": "stream",
     "text": [
      "Puzzle\n",
      "~~~~~~\n",
      "The first player to make this running tally reach exactly N (some positive integer) wins the game.  A player can never choose a number that would make the tally be greater than N, and if a player cannot validly choose any numbers under the rules, then he/she loses the game. To clarify, numbers can potentially be repeated during the game, but just not consecutively.  There is no guarantee that Bob will get a turn (for small enough N). If Alice and Bob each play with perfect strategies, what are the 3 smallest values of N such that Bob wins the game?\n"
     ]
    }
   ],
   "source": [
    "url='https://www.janestreet.com/puzzles/what-about-bob/'\n",
    "res = requests.get(url)\n",
    "soup = BeautifulSoup(res.content, 'html.parser')\n",
    "y =[text for text in soup.body.stripped_strings]\n",
    "print(\"Puzzle\")\n",
    "print(\"~~~~~~\")\n",
    "print(\" \".join(y[8:11]))"
   ]
  },
  {
   "cell_type": "code",
   "execution_count": 3,
   "metadata": {
    "id": "844RhDFpT1Wu"
   },
   "outputs": [
    {
     "name": "stdout",
     "output_type": "stream",
     "text": [
      "For N = 11 Bob wins\n",
      "For N = 22 Bob wins\n",
      "For N = 32 Bob wins\n",
      "Solved in 5.5123 seconds\n"
     ]
    }
   ],
   "source": [
    "def bob_wins(target,last,choices):\n",
    "    #current move\n",
    "    poss = [i for i in choices if i<=target and i != last]\n",
    "    if target in poss:\n",
    "        return False\n",
    "    elif all([p > p for p in poss]):\n",
    "        return True\n",
    "    \n",
    "    # next move/s\n",
    "    else:\n",
    "        if any([bob_wins(target-p,p,choices) == True for p in poss]):\n",
    "            return False\n",
    "        else:\n",
    "            return True\n",
    "      \n",
    "start = time.time()    \n",
    "win_count = 0\n",
    "n=0\n",
    "while win_count < 3:\n",
    "    n += 1\n",
    "    if bob_wins(n,0,[i+1 for i in range(9)]):\n",
    "        win_count += 1\n",
    "        print(\"For N = {} Bob wins\".format(n))\n",
    "print(\"Solved in {:,.4f} seconds\".format(time.time()-start))"
   ]
  },
  {
   "cell_type": "code",
   "execution_count": 4,
   "metadata": {},
   "outputs": [
    {
     "name": "stdout",
     "output_type": "stream",
     "text": [
      "Solution\n",
      "~~~~~~~~\n",
      "This month’s puzzle proved pretty tricky, and we received many submissions which were very close but not quite right.  The smallest 3 numbers for which Bob will win the game are 11, 22, and 32 .  In fact, for larger numbers, Bob will win if N is congruent to 11, 22, or 0 mod 32. *Alice can obviously win for N=1 up to N=9, and she can also win when N=10 if she says 5 (forcing Bob to pick something other than 5). *When N=11, Bob wins:  If Alice picks some k>1, Bob will be able to pick 11-k.  If Alice picks 1, Bob will be able to pick 5. *For N = 12 up to N = 20, Alice can win by picking the number which gives Bob the tally of N-11.  For N = 21, Alice can also win if she picks 5, since Bob must pick something other than 5.  If he picks anything other than 8, Alice can win easily. If he picks 8, Alice can counter with 4, Then Bob with 2, then Alice with 1, and thus Alice wins anyway. *When N = 22, Bob wins, for similar reasons as when N = 11. *When N = 32, Bob wins as well.   If Alice says any k other than 5, Bob can say 10-k.  If Alice says 5, Bob can say 8, leaving Alice with a remaining sum of 19 but unable to say 8, which again forces a Bob win. Congratulations to everyone who solved this month’s puzzle!\n"
     ]
    }
   ],
   "source": [
    "url='https://www.janestreet.com/puzzles/solutions/february-2017-solution/'\n",
    "res = requests.get(url)\n",
    "soup = BeautifulSoup(res.content, 'html.parser')\n",
    "x =[text for text in soup.body.stripped_strings]\n",
    "\n",
    "print(\"Solution\")\n",
    "print(\"~~~~~~~~\")\n",
    "print(\" \".join(x[7:16]))"
   ]
  },
  {
   "cell_type": "code",
   "execution_count": null,
   "metadata": {},
   "outputs": [],
   "source": []
  }
 ],
 "metadata": {
  "colab": {
   "include_colab_link": true,
   "name": "JaneSt-Feb18.ipynb",
   "provenance": []
  },
  "kernelspec": {
   "display_name": "Python 3",
   "language": "python",
   "name": "python3"
  },
  "language_info": {
   "codemirror_mode": {
    "name": "ipython",
    "version": 3
   },
   "file_extension": ".py",
   "mimetype": "text/x-python",
   "name": "python",
   "nbconvert_exporter": "python",
   "pygments_lexer": "ipython3",
   "version": "3.7.7"
  }
 },
 "nbformat": 4,
 "nbformat_minor": 4
}
