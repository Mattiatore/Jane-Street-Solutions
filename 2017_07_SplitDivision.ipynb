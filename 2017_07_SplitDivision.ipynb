{
 "cells": [
  {
   "cell_type": "code",
   "execution_count": 2,
   "id": "posted-invasion",
   "metadata": {},
   "outputs": [],
   "source": [
    "import numpy as np\n",
    "import time\n",
    "import requests\n",
    "from bs4 import BeautifulSoup\n",
    "from z3 import *"
   ]
  },
  {
   "cell_type": "code",
   "execution_count": 3,
   "id": "accomplished-robert",
   "metadata": {},
   "outputs": [
    {
     "name": "stdout",
     "output_type": "stream",
     "text": [
      "Puzzle\n",
      "~~~~~~\n",
      "Two long division problems were calculated, and both problems had the exact same shape.  At some spots, both problems had positive digits, one of which divides evenly into the other.   All of those spots are marked below with their respective quotients. The answer to this month’s puzzle is the sum of the two 7-digit dividends in the completed long division problems.\n"
     ]
    }
   ],
   "source": [
    "# More z3 magic\n",
    "\n",
    "url='https://www.janestreet.com/puzzles/split-division/'\n",
    "res = requests.get(url)\n",
    "soup = BeautifulSoup(res.content, 'html.parser')\n",
    "y =[text for text in soup.body.stripped_strings]\n",
    "print(\"Puzzle\")\n",
    "print(\"~~~~~~\")\n",
    "print(\" \".join(y[7:9]))"
   ]
  },
  {
   "cell_type": "markdown",
   "id": "union-diagram",
   "metadata": {},
   "source": [
    "<img src=\"https://www.janestreet.com/puzzles/wp-content/uploads/2017/07/Jul17_puzzle-2.png\" width=\"300\" >"
   ]
  },
  {
   "cell_type": "code",
   "execution_count": 4,
   "id": "ambient-principal",
   "metadata": {},
   "outputs": [],
   "source": [
    "def to_number(x):\n",
    "    numb = 0\n",
    "    for i in range(len(x)):\n",
    "        numb += (10**i) *x[-(i+1)] \n",
    "    return numb     "
   ]
  },
  {
   "cell_type": "code",
   "execution_count": 43,
   "id": "joined-lesbian",
   "metadata": {},
   "outputs": [
    {
     "name": "stdout",
     "output_type": "stream",
     "text": [
      "Solved in 0.2573 seconds\n",
      "\n",
      "3,445,681 / 4,779 = 721 remainder 22\n",
      "\n",
      "row1: 33,453\n",
      "row2: 10,038\n",
      "row3: 9,558\n",
      "row4: 4,801\n",
      "row5: 4,779\n",
      "row6: 22\n",
      "\n",
      "2,071,127 / 3,277 = 632 remainder 63\n",
      "\n",
      "row1: 19,662\n",
      "row2: 10,492\n",
      "row3: 9,831\n",
      "row4: 6,617\n",
      "row5: 6,554\n",
      "row6: 63\n"
     ]
    }
   ],
   "source": [
    "start = time.time()\n",
    "\n",
    "#set up the variables and the numbers\n",
    "Adivisor  = [Int(\"Adivisor_{}\".format(i)) for i in range(4)] \n",
    "Adividend = [Int(\"Adividend_{}\".format(i)) for i in range(7)]\n",
    "Aquotient = [Int(\"Aquotient_{}\".format(i)) for i in range(3)] \n",
    "Arow1 = [Int(\"Arow1_{}\".format(i)) for i in range(5)] \n",
    "Arow2 = [Int(\"Arow2_{}\".format(i)) for i in range(5)] \n",
    "Arow3 = [Int(\"Arow3_{}\".format(i)) for i in range(4)] \n",
    "Arow4 = [Int(\"Arow4_{}\".format(i)) for i in range(4)] \n",
    "Arow5 = [Int(\"Arow5_{}\".format(i)) for i in range(4)] \n",
    "Arow6 = [Int(\"Arow6_{}\".format(i)) for i in range(2)] \n",
    "\n",
    "Bdivisor  = [Int(\"Bdivisor_{}\".format(i)) for i in range(4)] \n",
    "Bdividend = [Int(\"Bdividend_{}\".format(i)) for i in range(7)]\n",
    "Bquotient = [Int(\"Bquotient_{}\".format(i)) for i in range(3)] \n",
    "Brow1 = [Int(\"Brow1_{}\".format(i)) for i in range(5)] \n",
    "Brow2 = [Int(\"Brow2_{}\".format(i)) for i in range(5)] \n",
    "Brow3 = [Int(\"Brow3_{}\".format(i)) for i in range(4)] \n",
    "Brow4 = [Int(\"Brow4_{}\".format(i)) for i in range(4)] \n",
    "Brow5 = [Int(\"Brow5_{}\".format(i)) for i in range(4)] \n",
    "Brow6 = [Int(\"Brow6_{}\".format(i)) for i in range(2)] \n",
    "\n",
    "s = Solver()\n",
    "\n",
    "#numbers in a range\n",
    "s += [And(0 <= Adivisor[i],Adivisor[i] <= 9) for i in range(4)]\n",
    "s += [And(0 <= Adividend[i],Adividend[i] <= 9) for i in range(7)]\n",
    "s += [And(0 <= Aquotient[i],Aquotient[i] <= 9) for i in range(3)]\n",
    "s += [And(0 <= Arow1[i],Arow1[i] <= 9) for i in range(5)]\n",
    "s += [And(0 <= Arow2[i],Arow2[i] <= 9) for i in range(5)]\n",
    "s += [And(0 <= Arow3[i],Arow3[i] <= 9) for i in range(4)]\n",
    "s += [And(0 <= Arow4[i],Arow4[i] <= 9) for i in range(4)]\n",
    "s += [And(0 <= Arow5[i],Arow5[i] <= 9) for i in range(4)]\n",
    "s += [And(0 <= Arow6[i],Arow6[i] <= 9) for i in range(2)]\n",
    "\n",
    "s += [And(0 <= Bdivisor[i],Bdivisor[i] <= 9) for i in range(4)]\n",
    "s += [And(0 <= Bdividend[i],Bdividend[i] <= 9) for i in range(7)]\n",
    "s += [And(0 <= Bquotient[i],Bquotient[i] <= 9) for i in range(3)]\n",
    "s += [And(0 <= Brow1[i],Brow1[i] <= 9) for i in range(5)]\n",
    "s += [And(0 <= Brow2[i],Brow2[i] <= 9) for i in range(5)]\n",
    "s += [And(0 <= Brow3[i],Brow3[i] <= 9) for i in range(4)]\n",
    "s += [And(0 <= Brow4[i],Brow4[i] <= 9) for i in range(4)]\n",
    "s += [And(0 <= Brow5[i],Brow5[i] <= 9) for i in range(4)]\n",
    "s += [And(0 <= Brow6[i],Brow6[i] <= 9) for i in range(2)]\n",
    "\n",
    "# the long division\n",
    "# ~~~~~~~~~~~~~~~~~\n",
    "Adivisor_num  = sum([Adivisor[-(i+1)] * (10**i) for i in range(4)])\n",
    "Adividend_num  = sum([Adividend[-(i+1)] * (10**i) for i in range(7)])\n",
    "Aquotient_num  = sum([Aquotient[-(i+1)] * (10**i) for i in range(3)])\n",
    "\n",
    "Bdivisor_num  = sum([Bdivisor[-(i+1)] * (10**i) for i in range(4)])\n",
    "Bdividend_num  = sum([Bdividend[-(i+1)] * (10**i) for i in range(7)])\n",
    "Bquotient_num  = sum([Bquotient[-(i+1)] * (10**i) for i in range(3)])\n",
    "\n",
    "# line by line\n",
    "# ~~~~~~~~~~~~\n",
    "\n",
    "# the first quotient\n",
    "Ainitial_num = sum([Adividend[:5][-(i+1)] * (10**i) for i in range(5)])\n",
    "Arow1_num = sum([Arow1[-(i+1)] * (10**i) for i in range(5)])\n",
    "Aremainder1 = sum([Arow2[:4][-(i+1)] * (10**i) for i in range(4)])\n",
    "\n",
    "s += Arow1_num == Adivisor_num * Aquotient[0]\n",
    "s += Ainitial_num - Arow1_num == Aremainder1\n",
    "\n",
    "Binitial_num = sum([Bdividend[:5][-(i+1)] * (10**i) for i in range(5)])\n",
    "Brow1_num = sum([Brow1[-(i+1)] * (10**i) for i in range(5)])\n",
    "Bremainder1 = sum([Brow2[:4][-(i+1)] * (10**i) for i in range(4)])\n",
    "\n",
    "s += Brow1_num == Bdivisor_num * Bquotient[0]\n",
    "s += Binitial_num - Brow1_num == Bremainder1\n",
    "\n",
    "\n",
    "# the second quotient\n",
    "Arow2_num = sum([Arow2[-(i+1)] * (10**i) for i in range(5)])\n",
    "Arow3_num = sum([Arow3[-(i+1)] * (10**i) for i in range(4)])\n",
    "Aremainder2 = sum([Arow4[:3][-(i+1)] * (10**i) for i in range(3)])\n",
    "\n",
    "s += Arow2_num == Aremainder1*10+Adividend[5] \n",
    "s += Arow3_num == Adivisor_num * Aquotient[1]\n",
    "s += Arow2_num - Arow3_num == Aremainder2\n",
    "\n",
    "Brow2_num = sum([Brow2[-(i+1)] * (10**i) for i in range(5)])\n",
    "Brow3_num = sum([Brow3[-(i+1)] * (10**i) for i in range(4)])\n",
    "Bremainder2 = sum([Brow4[:3][-(i+1)] * (10**i) for i in range(3)])\n",
    "\n",
    "s += Brow2_num == Bremainder1*10+Bdividend[5] \n",
    "s += Brow3_num == Bdivisor_num * Bquotient[1]\n",
    "s += Brow2_num - Brow3_num == Bremainder2\n",
    "\n",
    "# the third quotient\n",
    "Arow4_num = sum([Arow4[-(i+1)] * (10**i) for i in range(4)])\n",
    "Arow5_num = sum([Arow5[-(i+1)] * (10**i) for i in range(4)])\n",
    "Arow6_num  = sum([Arow6[:4][-(i+1)] * (10**i) for i in range(2)])\n",
    "\n",
    "s += Arow4_num == Aremainder2*10+Adividend[6] \n",
    "s += Arow5_num == Adivisor_num * Aquotient[2]\n",
    "s += Arow4_num - Arow5_num == Arow6_num\n",
    "\n",
    "Brow4_num = sum([Brow4[-(i+1)] * (10**i) for i in range(4)])\n",
    "Brow5_num = sum([Brow5[-(i+1)] * (10**i) for i in range(4)])\n",
    "Brow6_num  = sum([Brow6[:4][-(i+1)] * (10**i) for i in range(2)])\n",
    "\n",
    "s += Brow4_num == Bremainder2*10+Bdividend[6] \n",
    "s += Brow5_num == Bdivisor_num * Bquotient[2]\n",
    "s += Brow4_num - Brow5_num == Brow6_num\n",
    "\n",
    "s +=  Adividend_num == Adivisor_num * Aquotient_num + Arow6_num\n",
    "s +=  Bdividend_num == Bdivisor_num * Bquotient_num + Brow6_num\n",
    "\n",
    "\n",
    "\n",
    "# Solution\n",
    "# ~~~~~~~~~~~~~\n",
    "s += Adividend_num  == 3445681\n",
    "s += Adivisor_num  == 4779\n",
    "\n",
    "s += Bdividend_num  == 2071127\n",
    "s += Bdivisor_num  == 3277\n",
    "\n",
    "\n",
    "# Fixed numbers\n",
    "# ~~~~~~~~~~~~~\n",
    "\n",
    "s+= And(Adivisor[2] !=0,Bdivisor[2] !=0)\n",
    "\n",
    "s+= Or(Adividend[3]/Bdividend[3] == 5,Bdividend[3]/Adividend[3] == 5)\n",
    "s+= Or(Adividend[4]/Bdividend[4] == 6,Bdividend[4]/Adividend[4] == 6)\n",
    "s+= Or(Adividend[5]/Bdividend[5] == 4,Bdividend[5]/Adividend[5] == 4)\n",
    "s+= Or(Adividend[6]/Bdividend[6] == 7,Bdividend[6]/Adividend[6] == 7)\n",
    "\n",
    "s+= Or(Aquotient[2]/Bquotient[2] == 2,Bquotient[2]/Aquotient[2] == 2)\n",
    "\n",
    "s+= Or(Arow1[0]/Brow1[0] == 3,Brow1[0]/Arow1[0] == 3)\n",
    "s+= Or(Arow1[1]/Brow1[1] == 3,Brow1[1]/Arow1[1] == 3)\n",
    "\n",
    "s+= And(Arow2[0] !=0,Brow2[0] !=0)\n",
    "s+= Or(Arow2[3]/Brow2[3] == 3,Brow2[3]/Arow2[3] == 3)\n",
    "s+= Or(Arow2[4]/Brow2[4] == 4,Brow2[4]/Arow2[4] == 4)\n",
    "\n",
    "s+= And(Arow3[0] !=0,Brow3[0] !=0)\n",
    "s+= Or(Arow3[3]/Brow3[3] == 8,Brow3[3]/Arow3[3] == 8)\n",
    "\n",
    "s+= And(Arow4[0] !=0,Brow4[0] !=0)\n",
    "s+= Or(Arow4[3]/Brow4[3] == 7,Brow4[3]/Arow4[3] == 7)\n",
    "\n",
    "s+= Or(Arow6[0]/Brow6[0] == 3,Brow6[0]/Arow6[0] == 3)\n",
    "\n",
    "\n",
    "\n",
    "\n",
    "#can't be a leading zero\n",
    "s += Adividend[0]>0\n",
    "s += Aquotient[0]>0\n",
    "s += Adivisor[0]>0\n",
    "\n",
    "s += Bdividend[0]>0\n",
    "s += Bquotient[0]>0\n",
    "s += Bdivisor[0]>0\n",
    "\n",
    "###################\n",
    "# Solve and Print #\n",
    "###################\n",
    "\n",
    "if s.check() == sat:\n",
    "    m = s.model()\n",
    "    print(\"Solved in {:.4} seconds\".format(time.time()-start))\n",
    "    \n",
    "    Adivisor_result =  to_number([ m.evaluate(Adivisor[i]).as_long() for i in range(4) ] )\n",
    "    Adividend_result = to_number([ m.evaluate(Adividend[i]).as_long() for i in range(7) ] )\n",
    "    Aquotient_result = to_number([ m.evaluate(Aquotient[i]).as_long() for i in range(3) ] )\n",
    "    Arow1_result = to_number([ m.evaluate(Arow1[i]).as_long() for i in range(5) ] )\n",
    "    Arow2_result = to_number([ m.evaluate(Arow2[i]).as_long() for i in range(5) ] )\n",
    "    Arow3_result = to_number([ m.evaluate(Arow3[i]).as_long() for i in range(4) ] )\n",
    "    Arow4_result = to_number([ m.evaluate(Arow4[i]).as_long() for i in range(4) ] )\n",
    "    Arow5_result = to_number([ m.evaluate(Arow5[i]).as_long() for i in range(4) ] )\n",
    "    Arow6_result = to_number([ m.evaluate(Arow6[i]).as_long() for i in range(2) ] )\n",
    "    print(\"\\n{:,.0f} / {:,.0f} = {:,.0f} remainder {}\\n\".format(Adividend_result,Adivisor_result,Aquotient_result,Arow6_result))\n",
    "    print(\"row1: {:,.0f}\".format(Arow1_result))\n",
    "    print(\"row2: {:,.0f}\".format(Arow2_result))\n",
    "    print(\"row3: {:,.0f}\".format(Arow3_result))\n",
    "    print(\"row4: {:,.0f}\".format(Arow4_result))\n",
    "    print(\"row5: {:,.0f}\".format(Arow5_result))\n",
    "    print(\"row6: {:,.0f}\".format(Arow6_result))\n",
    "        \n",
    "    Bdivisor_result =  to_number([ m.evaluate(Bdivisor[i]).as_long() for i in range(4) ] )\n",
    "    Bdividend_result = to_number([ m.evaluate(Bdividend[i]).as_long() for i in range(7) ] )\n",
    "    Bquotient_result = to_number([ m.evaluate(Bquotient[i]).as_long() for i in range(3) ] )\n",
    "    Brow1_result = to_number([ m.evaluate(Brow1[i]).as_long() for i in range(5) ] )\n",
    "    Brow2_result = to_number([ m.evaluate(Brow2[i]).as_long() for i in range(5) ] )\n",
    "    Brow3_result = to_number([ m.evaluate(Brow3[i]).as_long() for i in range(4) ] )\n",
    "    Brow4_result = to_number([ m.evaluate(Brow4[i]).as_long() for i in range(4) ] )\n",
    "    Brow5_result = to_number([ m.evaluate(Brow5[i]).as_long() for i in range(4) ] )\n",
    "    Brow6_result = to_number([ m.evaluate(Brow6[i]).as_long() for i in range(2) ] )\n",
    "    print(\"\\n{:,.0f} / {:,.0f} = {:,.0f} remainder {}\\n\".format(Bdividend_result,Bdivisor_result,Bquotient_result,Brow6_result))\n",
    "    print(\"row1: {:,.0f}\".format(Brow1_result))\n",
    "    print(\"row2: {:,.0f}\".format(Brow2_result))\n",
    "    print(\"row3: {:,.0f}\".format(Brow3_result))\n",
    "    print(\"row4: {:,.0f}\".format(Brow4_result))\n",
    "    print(\"row5: {:,.0f}\".format(Brow5_result))\n",
    "    print(\"row6: {:,.0f}\".format(Brow6_result))\n",
    "                    \n",
    "else:\n",
    "    print(\"Failed\")"
   ]
  },
  {
   "cell_type": "code",
   "execution_count": 14,
   "id": "military-opportunity",
   "metadata": {},
   "outputs": [
    {
     "name": "stdout",
     "output_type": "stream",
     "text": [
      "Solution\n",
      "~~~~~~~~\n",
      "The answer to November’s puzzle is 58975605.  Congratulations to the many correct solvers, especially Pallav Shinghal, this month’s randomly-chosen winner of a Jane Street t-shirt!\n"
     ]
    }
   ],
   "source": [
    "url='https://www.janestreet.com/puzzles/solutions/november-2014-solution/'\n",
    "res = requests.get(url)\n",
    "soup = BeautifulSoup(res.content, 'html.parser')\n",
    "y =[text for text in soup.body.stripped_strings]\n",
    "print(\"Solution\")\n",
    "print(\"~~~~~~~~\")\n",
    "print(\" \".join(y[7:8]))"
   ]
  },
  {
   "cell_type": "markdown",
   "id": "silent-electronics",
   "metadata": {},
   "source": [
    "<img src=\"https://www.janestreet.com/puzzles/wp-content/uploads/2017/08/20180101_split_division_ans.png\" width=\"300\" >"
   ]
  },
  {
   "cell_type": "code",
   "execution_count": 18,
   "id": "passing-amsterdam",
   "metadata": {},
   "outputs": [
    {
     "data": {
      "text/plain": [
       "632"
      ]
     },
     "execution_count": 18,
     "metadata": {},
     "output_type": "execute_result"
    }
   ],
   "source": [
    "2071127 // 3277"
   ]
  },
  {
   "cell_type": "code",
   "execution_count": 19,
   "id": "prescription-grain",
   "metadata": {},
   "outputs": [
    {
     "data": {
      "text/plain": [
       "63"
      ]
     },
     "execution_count": 19,
     "metadata": {},
     "output_type": "execute_result"
    }
   ],
   "source": [
    "2071127 % 3277"
   ]
  },
  {
   "cell_type": "code",
   "execution_count": 22,
   "id": "cognitive-entertainment",
   "metadata": {},
   "outputs": [
    {
     "data": {
      "text/plain": [
       "6.0"
      ]
     },
     "execution_count": 22,
     "metadata": {},
     "output_type": "execute_result"
    }
   ],
   "source": [
    "19662/3277\n"
   ]
  },
  {
   "cell_type": "code",
   "execution_count": null,
   "id": "reserved-press",
   "metadata": {},
   "outputs": [],
   "source": []
  }
 ],
 "metadata": {
  "kernelspec": {
   "display_name": "Python 3",
   "language": "python",
   "name": "python3"
  },
  "language_info": {
   "codemirror_mode": {
    "name": "ipython",
    "version": 3
   },
   "file_extension": ".py",
   "mimetype": "text/x-python",
   "name": "python",
   "nbconvert_exporter": "python",
   "pygments_lexer": "ipython3",
   "version": "3.7.7"
  }
 },
 "nbformat": 4,
 "nbformat_minor": 5
}
