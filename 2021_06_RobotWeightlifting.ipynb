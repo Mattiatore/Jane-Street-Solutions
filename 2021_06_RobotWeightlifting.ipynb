{
 "cells": [
  {
   "cell_type": "code",
   "execution_count": 1,
   "id": "a0be8c81",
   "metadata": {},
   "outputs": [],
   "source": [
    "import sympy\n",
    "from sympy.abc import a\n",
    "\n",
    "import time\n",
    "import matplotlib.pyplot as plt\n",
    "import pandas as pd\n",
    "import numpy as np\n",
    "\n",
    "import requests\n",
    "from bs4 import BeautifulSoup\n",
    "from IPython.display import Markdown, display\n",
    "\n",
    "from scipy.optimize import minimize\n"
   ]
  },
  {
   "cell_type": "code",
   "execution_count": 2,
   "id": "d2ce852a",
   "metadata": {},
   "outputs": [
    {
     "data": {
      "text/markdown": [
       "### June 2021 : Puzzle\n",
       "\n",
       "Show Solution\tThe Robot Weightlifting World Championship’s final round is about to\n",
       "begin!  Three robots, seeded 1, 2, and 3, remain in contention.  They\n",
       "take turns from the 3rd seed to the 1st seed publicly declaring\n",
       "exactly how much weight (any nonnegative real number) they will\n",
       "attempt to lift, and no robot can choose exactly the same amount as a\n",
       "previous robot.  Once the three weights have been announced, the\n",
       "robots attempt their lifts, and the robot that successfully lifts the\n",
       "most weight is the winner.  If all robots fail, they just repeat the\n",
       "same lift amounts until at least one succeeds.\tAssume the following:\t1) all the robots have the same probability\tp(w)\tof successfully\n",
       "   lifting a given weight\tw\t;\t2)\tp(w)\tis exactly known by all competitors, continuous, strictly\n",
       "   decreasing as the\tw\tincreases,\tp(0)\t= 1, and\tp(w)\t-> 0 as\tw\t-> infinity; and\t3) all competitors want to maximize their chance of winning the RWWC.\tIf\tw\tis the amount of weight the 3rd seed should request, find\tp(w)"
      ],
      "text/plain": [
       "<IPython.core.display.Markdown object>"
      ]
     },
     "metadata": {},
     "output_type": "display_data"
    }
   ],
   "source": [
    "url='https://www.janestreet.com/puzzles/robot-weightlifting-index/'\n",
    "res = requests.get(url)\n",
    "soup = BeautifulSoup(res.content, 'html.parser')\n",
    "y =[text for text in soup.body.stripped_strings]\n",
    "#display([(i,j) for i,j in enumerate(y)])\n",
    "display(Markdown(\"### \"+y[8]+\"\\n\\n\"+str(\"\\t\".join(y[9:33]))))\n",
    "\n",
    "# Here's the (incorrect) solution I submitted. Didn't take into account seed 1 and seed 2 trying to beat each other "
   ]
  },
  {
   "cell_type": "code",
   "execution_count": 3,
   "id": "ee32ce8b-461e-4a39-8ddf-48687e6b6253",
   "metadata": {},
   "outputs": [],
   "source": [
    "# Assume the other robots choices are\n",
    "# 1. go just higher so that p(w') = p(w)\n",
    "# 2. go lighter so that p(w') = 1\n",
    "# if b choses lighter will automatically lift if a fails.\n",
    "# so c must go heavier.\n",
    "\n",
    "@np.vectorize\n",
    "def a_wins(a,details = False):\n",
    "    x = a # b and c pick lighter and will lift so there will be no round 2 (not optimum for c)\n",
    "    y = a*(1-a) #b choses heavier and c chooses lighter if a & b fail c will win and there will be no round 2\n",
    "    z = a*(1-a)**2/(1-(1-a)**3) # need a to lift and b and c to fail. \n",
    "                                # Iterates so geometric series sum(x^n) = 1/(1-x)\n",
    "    if details:\n",
    "        return x,y,z,min(x,y,z)\n",
    "    else: \n",
    "        return -min(x,y,z)\n"
   ]
  },
  {
   "cell_type": "code",
   "execution_count": 4,
   "id": "8f11941b-ffdd-41cd-95db-cc27cdacf3bc",
   "metadata": {},
   "outputs": [
    {
     "data": {
      "image/png": "[encoded data removed]",
      "text/plain": [
       "<Figure size 432x288 with 1 Axes>"
      ]
     },
     "metadata": {
      "needs_background": "light"
     },
     "output_type": "display_data"
    }
   ],
   "source": [
    "interval = 0.01\n",
    "a = np.arange(interval,1,interval)\n",
    "\n",
    "plt.plot(a,a_wins(a,details=True)[1])\n",
    "plt.plot(a,a_wins(a,details=True)[2])\n",
    "plt.plot(a,a_wins(a,details=True)[3])\n",
    "plt.show()"
   ]
  },
  {
   "cell_type": "code",
   "execution_count": 5,
   "id": "f1b10953-20bc-483c-a98e-22fb11336bc4",
   "metadata": {},
   "outputs": [
    {
     "name": "stdout",
     "output_type": "stream",
     "text": [
      "Numerical solver 0.317672\n"
     ]
    }
   ],
   "source": [
    "print(\"Numerical solver {:.6f}\".format(minimize(a_wins,0.5).x[0]))\n"
   ]
  },
  {
   "cell_type": "code",
   "execution_count": 6,
   "id": "a4e33d9e-cf37-4298-b015-a17d1611247d",
   "metadata": {},
   "outputs": [
    {
     "name": "stdout",
     "output_type": "stream",
     "text": [
      "Solution is 0.317672\n"
     ]
    }
   ],
   "source": [
    "a = sympy.Symbol('a', real=True)\n",
    "\n",
    "f1 = sympy.Poly(a*(1-a),domain='R')\n",
    "f2 = sympy.Poly(a*(1-a)**2/(1-(1-a)**3),domain='R')\n",
    "\n",
    "A=sympy.solve(f1-f2,a)\n",
    "for sol in A:\n",
    "    if sol <1:\n",
    "        print('Solution is {:.6f}'.format(sol))"
   ]
  },
  {
   "cell_type": "code",
   "execution_count": 13,
   "id": "5ffffc17-c10c-4294-9d22-e6b94ee655a8",
   "metadata": {},
   "outputs": [
    {
     "data": {
      "text/markdown": [
       "### June 2021 : Solution\n",
       "\n",
       "To solve this problem, it’s best to work backwards from the decision\n",
       "of the 1st seed, who selects their attempted weight last.  We will\n",
       "work with the 1st, 2nd, and 3rd seed’s probability of successfully\n",
       "lifting their selected weights (we can ignore the actual weight\n",
       "amounts and just phrase everything in terms of these probabilities).\n",
       "So the 1st seed knows the probability that the 3rd seed will\n",
       "successfully lift (call it\n",
       "x\n",
       "), and the probability that the 2nd seed\n",
       "will succeed (\n",
       "y\n",
       ").  Given the 1st seed’s lift will only be judged\n",
       "against the other two lifts, there are three possible strategies to\n",
       "consider for the 1st seed, any other strategy is dominated by one of\n",
       "these:\n",
       "lift an arbitrarily small amount more than the 3rd seed, to have\n",
       "(\n",
       "x\n",
       "-ε) chance of success,\n",
       "lift an arbitrarily small amount more than the 2nd seed, to have\n",
       "(\n",
       "y\n",
       "-ε) chance of success, or\n",
       "lift zero weight with success probability 1.\n",
       "Without loss of generality, we can assume\n",
       "x\n",
       "<\n",
       "y\n",
       "and compute the curves\n",
       "that separate the regions where each of these strategies is optimal by\n",
       "setting their payoffs equal.  The probability of a 1st seed victory of\n",
       "the respective strategies, as ε -> 0+, are\n",
       "x\n",
       "/(1-(1-\n",
       "x\n",
       ")\n",
       "2\n",
       "(1-\n",
       "y\n",
       "))\n",
       "(1-\n",
       "x\n",
       ")\n",
       "y\n",
       "/(1-(1-\n",
       "x\n",
       ")(1-\n",
       "y\n",
       ")\n",
       "2\n",
       ")\n",
       "(1-\n",
       "x\n",
       ")(1-\n",
       "y\n",
       ")\n",
       "Setting these pairwise equal divides the space into three regions.  We\n",
       "can reflect this about the line\n",
       "x\n",
       "=\n",
       "y\n",
       "and get what the 1st seed will do\n",
       "in every circumstance (represented by the yellow, blue, and green\n",
       "regions in the graph).  We then can optimize the 2nd seed’s choice\n",
       "conditional on the 3rd seed’s selection (represented by the red line\n",
       "in the graph).\n",
       "Remarkably, the function for the 2nd seed’s optimal probability of\n",
       "lifting (\n",
       "y\n",
       "), dependent on\n",
       "x\n",
       ", is piecewise smooth with\n",
       "six\n",
       "different\n",
       "pieces and\n",
       "two\n",
       "jump discontinuities.  Once we have these we can detect\n",
       "the optimal choice for the 3rd seed (the circled point on the graph).\n",
       "This ends up being\n",
       "0.286833…\n",
       "which is one of the points of triple\n",
       "intersection of the three strategies listed above.  That is, it turns\n",
       "out to be in the best interest of the 3rd seed to “collaborate” with\n",
       "the 2nd seed to make the 1st seed indifferent between the three\n",
       "strategies listed\n",
       "1\n",
       ".  Unfortunately for the 3rd seed, the\n",
       "only way to get the 2nd seed to cooperate with this plan is to accept\n",
       "the worse of the two positions in this triple-intersection point.  So\n",
       "the selections will be:\n",
       "x\n",
       "= 0.286833…\n",
       "y\n",
       "= 0.436041…\n",
       "z\n",
       "= 1\n",
       "Which leads to the following probabilities of winning:\n",
       "3rd seed: 0.286833…\n",
       "2nd seed: 0.310970…\n",
       "1st seed: 0.402197…\n",
       "[1] While the 1st seed is indifferent between the three idealized\n",
       "strategies, only one of them is achievable because the other two\n",
       "strategies are limiting as ε -> 0.  So we can assume that if the\n",
       "3rd seed and 2nd seed exactly measured their weights to perfect\n",
       "precision, the 1st seed would choose the zero weight lift."
      ],
      "text/plain": [
       "<IPython.core.display.Markdown object>"
      ]
     },
     "metadata": {},
     "output_type": "display_data"
    }
   ],
   "source": [
    "url='https://www.janestreet.com/puzzles/robot-weightlifting-solution/'\n",
    "res = requests.get(url)\n",
    "soup = BeautifulSoup(res.content, 'html.parser')\n",
    "y =[text for text in soup.body.stripped_strings]\n",
    "#display([(i,j) for i,j in enumerate(y)])\n",
    "display(Markdown(\"### \"+y[8]+\"\\n\\n\"+str(\"\\n\".join(y[10:81]))))"
   ]
  },
  {
   "cell_type": "markdown",
   "id": "275b66ca-3abf-4150-9e7b-14f316115c8c",
   "metadata": {},
   "source": [
    "<img src='https://www.janestreet.com/puzzles/2021-06-01-robot-weightlifting-solution.jpg'>"
   ]
  },
  {
   "cell_type": "code",
   "execution_count": null,
   "id": "02f4d2b5-27ad-42d4-97b4-147b60cfee7c",
   "metadata": {},
   "outputs": [],
   "source": []
  }
 ],
 "metadata": {
  "kernelspec": {
   "display_name": "Python 3",
   "language": "python",
   "name": "python3"
  },
  "language_info": {
   "codemirror_mode": {
    "name": "ipython",
    "version": 3
   },
   "file_extension": ".py",
   "mimetype": "text/x-python",
   "name": "python",
   "nbconvert_exporter": "python",
   "pygments_lexer": "ipython3",
   "version": "3.7.10"
  }
 },
 "nbformat": 4,
 "nbformat_minor": 5
}
