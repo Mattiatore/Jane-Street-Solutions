{
 "cells": [
  {
   "cell_type": "code",
   "execution_count": 10,
   "metadata": {
    "id": "Oq1xibzMT1Wl"
   },
   "outputs": [],
   "source": [
    "import numpy as np\n",
    "import pandas as pd\n",
    "import time\n",
    "import seaborn as sns\n",
    "import matplotlib.pyplot as plt\n",
    "import requests\n",
    "from bs4 import BeautifulSoup\n",
    "import itertools\n",
    "from copy import deepcopy as dcopy,copy\n",
    "from skimage.morphology import label\n",
    "from scipy.ndimage import measurements\n",
    "import sys\n",
    "import numba as nb"
   ]
  },
  {
   "cell_type": "code",
   "execution_count": 11,
   "metadata": {
    "id": "ICTfvjZUT1Wr"
   },
   "outputs": [
    {
     "name": "stdout",
     "output_type": "stream",
     "text": [
      "The answer to this puzzle is the product of the areas of the connected groups of empty squares in the completed grid.  (Squares are “connected” if they border one another horizontally or vertically. The solution for Tile and Trouble contains a similar example.)\n"
     ]
    }
   ],
   "source": [
    "url='https://www.janestreet.com/puzzles/knight-moves-2/'\n",
    "res = requests.get(url)\n",
    "soup = BeautifulSoup(res.content, 'html.parser')\n",
    "x =[text for text in soup.body.stripped_strings]\n",
    "\n",
    "print(\" \".join(x[7:10]))"
   ]
  },
  {
   "cell_type": "markdown",
   "metadata": {
    "id": "U9Yh1D3HT1Ws"
   },
   "source": [
    "### Puzzle details\n",
    "<img src=\"https://www.janestreet.com/puzzles/wp-content/uploads/2017/04/Apr17__puzzle.png\" width=\"500\">"
   ]
  },
  {
   "cell_type": "code",
   "execution_count": 12,
   "metadata": {
    "id": "0VI0NM6ET1Wt"
   },
   "outputs": [
    {
     "name": "stdout",
     "output_type": "stream",
     "text": [
      "Inital Setup\n",
      "~~~~~~~~~~~~\n"
     ]
    },
    {
     "data": {
      "image/png": "[encoded data removed]",
      "text/plain": [
       "<Figure size 288x288 with 1 Axes>"
      ]
     },
     "metadata": {
      "needs_background": "light"
     },
     "output_type": "display_data"
    }
   ],
   "source": [
    "# Setup the constraints\n",
    "# Smallest group has 5 cells.\n",
    "# 12 hooks so max moves = 60\n",
    "# so 6 in each row and col\n",
    "\n",
    "groups =np.array([[0, 0, 0, 0, 1, 1, 1, 1, 1, 1],\n",
    "                  [0, 2, 2, 0, 1, 1, 1, 1, 1, 3],\n",
    "                  [0, 2, 4, 4, 4, 4, 4, 3, 3, 3],\n",
    "                  [0, 2, 2, 4, 4, 4, 4, 4, 5, 3],\n",
    "                  [6, 2, 2, 2, 2, 2, 4, 7, 5, 5],\n",
    "                  [6, 6, 8, 2,10, 7, 7, 7, 5, 5],\n",
    "                  [6, 8, 8, 9,10,10,10, 7, 7, 7],\n",
    "                  [6, 8, 9, 9,10,11,10, 7,10,10],\n",
    "                  [6, 8, 8, 9,11,11,10,10,10,10],\n",
    "                  [6, 9, 9, 9, 9,11,11,10,10,10]\n",
    "                 ],dtype=int)\n",
    "\n",
    "fixed =np.array([[ 1,  0,  0,  0,  0,  0, 43,  0,  0,  0],\n",
    "                 [ 0,  0,  0,  0,  0,  0,  0,  0,  0, 13],\n",
    "                 [ 0,  4,  0,  0,  0,  0,  0,  0,  0, 40],\n",
    "                 [ 0,  0, 46,  0,  0,  7,  0,  0,  0,  0],\n",
    "                 [ 0,  0,  0,  0,  0, 16,  0,  0,  0, 10],\n",
    "                 [ 0,  0,  0,  0, 28,  0,  0,  0, 34, 31],\n",
    "                 [49,  0,  0,  0,  0,  0,  0,  0,  0,  0],\n",
    "                 [ 0,  0,  0, 19,  0,  0,  0,  0,  0,  0],\n",
    "                 [ 0,  0, 25,  0,  0,  0,  0,  0, 37,  0],\n",
    "                 [ 0,  0, 22,  0,  0,  0,  0,  0,  0,  0]]\n",
    "                 ,dtype=int)\n",
    "\n",
    "#########################\n",
    "# Code to print in a \"nice\" format                         \n",
    "def sol_print(solved,groups):\n",
    "    fig,ax = plt.subplots(1,1,figsize=(4,4))\n",
    "    x = np.array((solved).astype('int').astype('str'))\n",
    "    x[x==\"0\"] =\"-\"\n",
    "    ax = sns.heatmap(groups,annot=x,cbar=False,cmap=\"tab20_r\",fmt=\"\",linewidths=1)\n",
    "    plt.tight_layout()\n",
    "    ax.axis(\"off\")\n",
    "\n",
    "print(\"Inital Setup\")\n",
    "print(\"~~~~~~~~~~~~\")\n",
    "sol_print(fixed,groups)\n",
    "\n"
   ]
  },
  {
   "cell_type": "code",
   "execution_count": 13,
   "metadata": {
    "id": "844RhDFpT1Wu"
   },
   "outputs": [],
   "source": [
    "class Matrix():\n",
    "    def __init__(self,fixed,groups):\n",
    "        self.fixed = fixed\n",
    "        self.groups = groups\n",
    "        x = fixed[fixed !=0]\n",
    "        self.given_dict = {}\n",
    "        for i in range (1,61):\n",
    "            self.given_dict[i] = i in x\n",
    "            \n",
    "    \n",
    "        # knight moves\n",
    "        self.x = [2, 1, -1, -2, -2, -1, 1, 2]\n",
    "        self.y = [1, 2, 2, 1, -1, -2, -2, -1]\n",
    "        self.solution = []\n",
    "        self.end_flag =0\n",
    "        \n",
    "    #############################################    \n",
    "    # Backtracking solver    \n",
    "    def fill(self,row,col,grid,count):\n",
    "        if self.end_flag ==0:\n",
    "            if count == 61:\n",
    "                print(\"\\nSolved\")\n",
    "                print(\"~~~~~~\")\n",
    "                print(\"Product of Areas : {:,.0f}\".format(self.areas(grid)))\n",
    "                self.end_flag =1\n",
    "                sol_print(grid,self.groups)\n",
    "                self.solution =dcopy(grid)\n",
    "                \n",
    "\n",
    "            for move in range(8):\n",
    "                if self.possible(move,row,col,grid,count):\n",
    "                    grid[row,col] = count\n",
    "                    count += 1\n",
    "                    row += self.x[move]\n",
    "                    col += self.y[move]                    \n",
    "                    self.fill(row,col,grid,count)\n",
    "                    row -= self.x[move]\n",
    "                    col -= self.y[move]\n",
    "                    grid[row,col] = 0\n",
    "                    count -= 1\n",
    "        return     \n",
    "        \n",
    "    def possible(self,move,row,col,grid,count):\n",
    "        if count > 60:\n",
    "            return True\n",
    "        \n",
    "        new_row = row + self.x[move]\n",
    "        new_col = col + self.y[move]\n",
    "        \n",
    "        # check if outside board\n",
    "        if (new_row > 9) or (new_row < 0):\n",
    "            return False\n",
    "        if (new_col > 9) or (new_col < 0):\n",
    "            return False  \n",
    "        \n",
    "        #check if position is filled\n",
    "        if grid[new_row,new_col] != 0:\n",
    "            return False\n",
    "        \n",
    "        if self.given_dict[count]:\n",
    "            if fixed[row,col] != count:\n",
    "                return False\n",
    "            \n",
    "        test = copy(grid)\n",
    "        test[row,col] = count\n",
    "        if not self.check_count(test,self.groups,row,col):\n",
    "            return False\n",
    "                \n",
    "        return True\n",
    "    \n",
    "    @staticmethod\n",
    "    @nb.njit\n",
    "    def check_count(grid,groups,row,col):\n",
    "        if np.sum(grid[row,:] !=0) >6:\n",
    "            return False\n",
    "        if np.sum(grid[:,col] != 0) >6:\n",
    "            return False\n",
    "        \n",
    "        group = groups[row,col]\n",
    "        if np.sum(np.ravel(grid)[np.ravel(groups) == group] !=0) >5:\n",
    "            return False\n",
    "\n",
    "        return True\n",
    "    \n",
    "    ##############################################\n",
    "    # Get the products of the areas of the connected cells    \n",
    "    def areas(self,grid):\n",
    "        labels, num = measurements.label(np.logical_not(grid!=0))\n",
    "        areas = measurements.sum(np.logical_not(grid!=0), labels, index=range(1, num+1))\n",
    "\n",
    "        return np.prod(areas)\n",
    "  \n",
    "    ##############################################\n",
    "    # Get the products of the areas of the connected cells\n",
    "    def product(self,grid):\n",
    "        return True\n",
    "                         \n",
    "    ###############################################\n",
    "    # Main solver.  \n",
    "    def solve(self,grid=np.zeros((10,10))):\n",
    "        solution =[]\n",
    "        print(\"checking ...\")\n",
    "        start = time.perf_counter()\n",
    "        self.fill(0,0,grid,1)\n",
    "        stop = time.perf_counter()\n",
    "        print('Solution took {:0.4f} seconds'.format((stop-start)))\n",
    "                \n",
    "        print('\\nGrid Solved')\n",
    "        print('~~~~~~~~~~~')\n",
    "\n"
   ]
  },
  {
   "cell_type": "code",
   "execution_count": 14,
   "metadata": {
    "colab": {
     "base_uri": "https://localhost:8080/",
     "height": 374
    },
    "id": "zexQ8t1kT1W3",
    "outputId": "7c2aec4e-d2fb-45d8-fc7e-679051faafed"
   },
   "outputs": [
    {
     "name": "stdout",
     "output_type": "stream",
     "text": [
      "checking ...\n",
      "\n",
      "Solved\n",
      "~~~~~~\n",
      "Product of Areas : 17,280\n",
      "Solution took 26.6862 seconds\n",
      "\n",
      "Grid Solved\n",
      "~~~~~~~~~~~\n"
     ]
    },
    {
     "data": {
      "image/png": "[encoded data removed]",
      "text/plain": [
       "<Figure size 288x288 with 1 Axes>"
      ]
     },
     "metadata": {
      "needs_background": "light"
     },
     "output_type": "display_data"
    }
   ],
   "source": [
    "test = Matrix(fixed,groups)\n",
    "test.solve()"
   ]
  },
  {
   "cell_type": "code",
   "execution_count": 30,
   "metadata": {},
   "outputs": [
    {
     "name": "stdout",
     "output_type": "stream",
     "text": [
      "The knight’s path is presented here, and the solution to this month’s puzzle is 10*9*4*3*2*2*2*2 = 17280 .\n"
     ]
    }
   ],
   "source": [
    "url='https://www.janestreet.com/puzzles/solutions/april-2017-solution/'\n",
    "res = requests.get(url)\n",
    "soup = BeautifulSoup(res.content, 'html.parser')\n",
    "x =[text for text in soup.body.stripped_strings]\n",
    "\n",
    "print(\" \".join(x[7:10]))"
   ]
  },
  {
   "cell_type": "markdown",
   "metadata": {
    "id": "ld_NFUIfT1W9"
   },
   "source": [
    "<img src=\"https://www.janestreet.com/puzzles/wp-content/uploads/2017/05/Apr17_solution.png\" width=\"300\" >"
   ]
  },
  {
   "cell_type": "code",
   "execution_count": 7,
   "metadata": {},
   "outputs": [],
   "source": []
  }
 ],
 "metadata": {
  "colab": {
   "include_colab_link": true,
   "name": "JaneSt-Feb18.ipynb",
   "provenance": []
  },
  "kernelspec": {
   "display_name": "Python 3",
   "language": "python",
   "name": "python3"
  },
  "language_info": {
   "codemirror_mode": {
    "name": "ipython",
    "version": 3
   },
   "file_extension": ".py",
   "mimetype": "text/x-python",
   "name": "python",
   "nbconvert_exporter": "python",
   "pygments_lexer": "ipython3",
   "version": "3.7.7"
  }
 },
 "nbformat": 4,
 "nbformat_minor": 4
}
