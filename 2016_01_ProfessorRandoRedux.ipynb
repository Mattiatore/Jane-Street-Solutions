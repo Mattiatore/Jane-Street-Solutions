{
 "cells": [
  {
   "cell_type": "code",
   "execution_count": 2,
   "metadata": {
    "id": "Oq1xibzMT1Wl"
   },
   "outputs": [],
   "source": [
    "import numpy as np\n",
    "import requests\n",
    "from bs4 import BeautifulSoup\n"
   ]
  },
  {
   "cell_type": "code",
   "execution_count": 11,
   "metadata": {
    "id": "ICTfvjZUT1Wr"
   },
   "outputs": [
    {
     "name": "stdout",
     "output_type": "stream",
     "text": [
      "Puzzle\n",
      "~~~~~~\n",
      "Puzzle Archive Professor Rando Redux You may have noticed from December’s puzzle that if Professor Rando selects his two integers uniformly from the range 1 to N, where N > 5, there is some chance that the game never ends. But, the professor has recently gotten a very bright new pupil, Tim, who wants to be included in the game.  Rando decides the game will work similarly as before: For some positive integer N, he generates two random integers independently and uniformly from 1 to N (inclusive), and then tells each of his students a different fact about the two numbers.  He tells: •\tDaphne the absolute difference of the integers, •\tMax the maximum of the integers, •\tMindy the minimum of the integers, •\tSam the sum of the integers, and •\tTim the product of the integers. Then, each day until the game ends, he congregates his students and asks them, in alphabetical order, for the identity of the two integers.  Each student has only one chance to answer each day, when she or he is called upon.  Each student answers ONLY when the answer is definitively known to him or her, and otherwise gives no answer that day.  All of the students know this, and there is no collusion.  Once a student gives an answer (which will be correct), that student wins and the game ends. Will this game always eventually end?  If so, submit “yes”.  If not,  submit the smallest N such that the game might not necessarily ever end.\n"
     ]
    }
   ],
   "source": [
    "url='https://www.janestreet.com/puzzles/professor-rando-redux/'\n",
    "res = requests.get(url)\n",
    "soup = BeautifulSoup(res.content, 'html.parser')\n",
    "y =[text for text in soup.body.stripped_strings]\n",
    "print(\"Puzzle\")\n",
    "print(\"~~~~~~\")\n",
    "print(\" \".join(y[5:17]))"
   ]
  },
  {
   "cell_type": "code",
   "execution_count": 77,
   "metadata": {
    "id": "844RhDFpT1Wu"
   },
   "outputs": [
    {
     "name": "stdout",
     "output_type": "stream",
     "text": [
      "For 2 numbers the winner is Daphne. [Daphne:2/4 Max:2/4 Mindy:0/4 Sam:0/4 Tim:0/4] Total = 4\n",
      "For 3 numbers the winner is Mindy. [Daphne:2/9 Max:1/9 Mindy:3/9 Sam:3/9 Tim:0/9] Total = 9\n",
      "For 4 numbers the winner is Sam. [Daphne:2/16 Max:1/16 Mindy:1/16 Sam:6/16 Tim:6/16] Total = 16\n",
      "For 5 numbers the winner is Tim. [Daphne:5/25 Max:1/25 Mindy:1/25 Sam:4/25 Tim:14/25] Total = 25\n",
      "For 6 numbers the winner is Tim. [Daphne:9/36 Max:1/36 Mindy:1/36 Sam:4/36 Tim:21/36] Total = 36\n",
      "For 7 numbers the winner is Tim. [Daphne:9/49 Max:5/49 Mindy:1/49 Sam:4/49 Tim:30/49] Total = 49\n",
      "For 8 numbers the winner is Tim. [Daphne:10/64 Max:8/64 Mindy:4/64 Sam:4/64 Tim:38/64] Total = 64\n",
      "For 9 numbers the winner is Tim. [Daphne:10/81 Max:4/81 Mindy:2/81 Sam:13/81 Tim:52/81] Total = 81\n",
      "For 10 numbers the winner is Tim. [Daphne:9/100 Max:12/100 Mindy:8/100 Sam:13/100 Tim:58/100] Total = 100\n",
      "For 11 numbers the winner is Tim. [Daphne:11/121 Max:10/121 Mindy:8/121 Sam:13/121 Tim:79/121] Total = 121\n",
      "For 12 numbers the winner is Tim. [Daphne:18/144 Max:13/144 Mindy:4/144 Sam:15/144 Tim:94/144] Total = 144\n",
      "For 13 numbers the winner is Tim. [Daphne:20/169 Max:13/169 Mindy:4/169 Sam:15/169 Tim:117/169] Total = 169\n",
      "For 14 numbers the winner is Tim. [Daphne:19/196 Max:11/196 Mindy:7/196 Sam:23/196 Tim:136/196] Total = 196\n",
      "===============================\n",
      "For 15 numbers there is no winner\n",
      "===============================\n"
     ]
    }
   ],
   "source": [
    "# goes into a loop when numbers =15\n",
    "\n",
    "players = [\"Daphne\",\"Max\",\"Mindy\",\"Sam\",\"Tim\"]\n",
    "\n",
    "for numbers in range(2,16):\n",
    "\n",
    "    outcomes =[[i,j,[abs(j-i),max(i,j),min(i,j),i+j,i*j]] for i in range(1,numbers+1) for j in range(i,numbers+1)]\n",
    "\n",
    "    player = 0 \n",
    "    winner = [0]*5\n",
    "    nochange =5\n",
    " \n",
    "    while len(outcomes)>0:\n",
    "        #determine the posible values and count them for each player \n",
    "        round = [x[2][player] for x in outcomes]\n",
    "        options = {x:round.count(x) for x in round}\n",
    "\n",
    "    \n",
    "        #if there is a single option eliminate it and mark the player as the winner (noting there are 2 ways to get double numbers)\n",
    "        for key,value in options.items():\n",
    "            if value ==1:\n",
    "                score = 1+np.sum([(x[0]!=x[1]) for x in outcomes if x[2][player] == key])\n",
    "                outcomes = [x for x in outcomes if x[2][player] != key]\n",
    "                winner[player] += score \n",
    "                nochange +=1\n",
    "        player = (player +1) % 5\n",
    "        nochange -=1    \n",
    "        if nochange==0:\n",
    "            break\n",
    "\n",
    "    if np.sum(winner) == numbers**2:\n",
    "        print(\"For {} numbers the winner is {}. [{}] Total = {}\".format(numbers,\n",
    "                                                             players[np.argmax(winner)],\n",
    "                                                             \" \".join([\"{}:{}/{}\".format(players[i],winner[i],numbers**2) for i in range(len(players))]), \n",
    "                                                                np.sum(winner) ))\n",
    "\n",
    "    else:\n",
    "        print(\"===============================\")\n",
    "        print(\"For {} numbers there is no winner\".format(numbers))\n",
    "        print(\"===============================\")\n"
   ]
  },
  {
   "cell_type": "code",
   "execution_count": 78,
   "metadata": {},
   "outputs": [
    {
     "name": "stdout",
     "output_type": "stream",
     "text": [
      "Solution\n",
      "~~~~~~~~\n",
      "The game does not always end!  When N = 15 (or higher), there are numbers Professor Rando could pick such that the game would never end. Congratulations to all of this month’s correct solvers, especially Mdavis, this month’s randomly-selected winner of a Jane Street t-shirt! Correct Submissions: Ted Zong Raymond Lo\n"
     ]
    }
   ],
   "source": [
    "url='https://www.janestreet.com/puzzles/solutions/january-2016-solution/'\n",
    "res = requests.get(url)\n",
    "soup = BeautifulSoup(res.content, 'html.parser')\n",
    "x =[text for text in soup.body.stripped_strings]\n",
    "\n",
    "print(\"Solution\")\n",
    "print(\"~~~~~~~~\")\n",
    "print(\" \".join(x[7:14]))"
   ]
  },
  {
   "cell_type": "code",
   "execution_count": null,
   "metadata": {},
   "outputs": [],
   "source": []
  }
 ],
 "metadata": {
  "colab": {
   "include_colab_link": true,
   "name": "JaneSt-Feb18.ipynb",
   "provenance": []
  },
  "kernelspec": {
   "display_name": "Python 3",
   "language": "python",
   "name": "python3"
  },
  "language_info": {
   "codemirror_mode": {
    "name": "ipython",
    "version": 3
   },
   "file_extension": ".py",
   "mimetype": "text/x-python",
   "name": "python",
   "nbconvert_exporter": "python",
   "pygments_lexer": "ipython3",
   "version": "3.7.7"
  }
 },
 "nbformat": 4,
 "nbformat_minor": 4
}
