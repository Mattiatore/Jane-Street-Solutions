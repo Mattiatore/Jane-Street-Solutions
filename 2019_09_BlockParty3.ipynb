{
 "cells": [
  {
   "cell_type": "code",
   "execution_count": 9,
   "metadata": {
    "id": "Oq1xibzMT1Wl"
   },
   "outputs": [],
   "source": [
    "import numpy as np\n",
    "import pandas as pd\n",
    "import time\n",
    "import seaborn as sns\n",
    "import matplotlib.pyplot as plt\n",
    "import requests\n",
    "from bs4 import BeautifulSoup\n",
    "import itertools\n",
    "from copy import deepcopy as dcopy,copy\n",
    "from skimage.morphology import label\n",
    "from scipy.ndimage import measurements\n",
    "import sys\n",
    "import time\n"
   ]
  },
  {
   "cell_type": "code",
   "execution_count": 11,
   "metadata": {
    "id": "ICTfvjZUT1Wr"
   },
   "outputs": [
    {
     "name": "stdout",
     "output_type": "stream",
     "text": [
      "Fill each region with the digits 1 though N , where N is the number of cells in the given region. For every cell in the grid, if K denotes the number in that cell, then the nearest value of K (looking only horizontally or vertically) must be located exactly K cells away. (As in the example, below.) Some of the cells have already been filled in. Once the grid is completed, take the largest “horizontally concatenated number” from each region and compute the sum of these values. Enter this sum as your answer. Good luck!\n"
     ]
    }
   ],
   "source": [
    "# Working through the hooks puzzles.\n",
    "# Back to my solution for hooks 3 with forced cells and then backtracking. \n",
    "# Determine the valid hook placements\n",
    "# then loop through the rows and columns to determine forced cells \n",
    "# if these are mismatched on the row and column loop flag as inconsistent\n",
    "# then solve the final grid with backtracking\n",
    "\n",
    "url='https://www.janestreet.com/puzzles/block-party-3/'\n",
    "res = requests.get(url)\n",
    "soup = BeautifulSoup(res.content, 'html.parser')\n",
    "x =[text for text in soup.body.stripped_strings]\n",
    "\n",
    "print(\" \".join(x[7:21]))"
   ]
  },
  {
   "cell_type": "markdown",
   "metadata": {
    "id": "U9Yh1D3HT1Ws"
   },
   "source": [
    "### Puzzle details\n",
    "<img src=\"https://www.janestreet.com/puzzles/wp-content/uploads/2019/09/20190903_block_party_3.png\" width=\"500\" height=\"300\">"
   ]
  },
  {
   "cell_type": "code",
   "execution_count": 12,
   "metadata": {
    "id": "0VI0NM6ET1Wt"
   },
   "outputs": [
    {
     "data": {
      "image/png": "[encoded data removed]",
      "text/plain": [
       "<Figure size 360x360 with 1 Axes>"
      ]
     },
     "metadata": {
      "needs_background": "light"
     },
     "output_type": "display_data"
    }
   ],
   "source": [
    "groups=np.array([[0 ,2 ,2 ,2 ,3 ,4 ,5 ,6 ,7 ],\n",
    "                 [0 ,1 ,2 ,3 ,3 ,3 ,5 ,7 ,7 ],\n",
    "                 [0 ,2 ,2 ,2 ,3 ,3 ,5 ,7 ,7 ],\n",
    "                 [0 ,0 ,2 ,8 ,3 ,9 ,9 ,7 ,7 ],\n",
    "                 [10,0 ,11,8 ,12,9 ,13,14,14],\n",
    "                 [10,10,11,11,12,9 ,13,14,14],\n",
    "                 [10,15,16,16,12,17,17,14,14],\n",
    "                 [15,15,15,16,16,16,18,19,19],\n",
    "                 [15,16,16,16,18,18,18,18,19]\n",
    "                 ],dtype=int)\n",
    "\n",
    "fixed =np.array([[0,0,0,0,0,0,0,0,0],\n",
    "                 [0,0,0,0,0,0,0,1,0],\n",
    "                 [0,3,0,0,0,0,0,0,0],\n",
    "                 [0,0,0,0,0,0,0,0,2],\n",
    "                 [0,0,0,0,1,0,0,0,0],\n",
    "                 [2,0,0,0,0,0,0,0,0],\n",
    "                 [0,0,0,0,0,0,0,4,0],\n",
    "                 [0,2,0,0,0,0,0,0,0],\n",
    "                 [0,0,0,0,0,0,0,0,0]\n",
    "                 ],dtype=int)\n",
    "\n",
    "def grid_print(groups,numbers):\n",
    "    fig,ax = plt.subplots(1,1,figsize=(5,5))\n",
    "    x = np.array((numbers).astype('int').astype('str'))\n",
    "    x[x==\"0\"] =\"-\"\n",
    "    ax = sns.heatmap(groups,annot=x,cbar=False,cmap=\"tab20\",fmt=\"\",linewidths=0.25)\n",
    "    ax.axis(\"off\")\n",
    "    \n",
    "grid_print(groups,fixed) \n"
   ]
  },
  {
   "cell_type": "markdown",
   "metadata": {
    "id": "844RhDFpT1Wu"
   },
   "source": [
    "### Puzzle details\n",
    "<img src=\"https://www.janestreet.com/puzzles/wp-content/uploads/2019/09/20190903_block_party_3.png\" width=\"400\" height=\"300\">"
   ]
  },
  {
   "cell_type": "code",
   "execution_count": 13,
   "metadata": {
    "colab": {
     "base_uri": "https://localhost:8080/",
     "height": 374
    },
    "id": "zexQ8t1kT1W3",
    "outputId": "7c2aec4e-d2fb-45d8-fc7e-679051faafed"
   },
   "outputs": [],
   "source": [
    "class Matrix():\n",
    "    def __init__(self,groups,fixed):\n",
    "        self.groups = groups\n",
    "        self.fixed = fixed\n",
    "        self.solution = []\n",
    "        self.group_dict ={}\n",
    "        for n in range(20):\n",
    "            self.group_dict[n] = list(np.arange(1,np.sum(self.groups==n)+1))\n",
    "    \n",
    "    def forced(self):\n",
    "        changed =1\n",
    "        while changed  ==1:\n",
    "            changed =0\n",
    "            for i,j in itertools.product(range(9),range(9)):\n",
    "                group = self.groups[i,j]\n",
    "                if self.fixed[i,j] == 0: \n",
    "                    if len(self.group_dict[group]) ==1:\n",
    "                        num = self.group_dict[group].pop(0)\n",
    "                        self.fixed[i,j] = num\n",
    "                        changed = 1\n",
    "                else:\n",
    "                    num = self.fixed[i,j]\n",
    "                    if num in self.group_dict[group]:\n",
    "                        self.group_dict[group].remove(num)\n",
    "                        changed=1     \n",
    "            \n",
    "                        \n",
    "    def solve(self):\n",
    "        for row,col in itertools.product(range(9),range(9)):\n",
    "            \n",
    "             if self.fixed[row,col]==0:\n",
    "                group = self.groups[row,col]\n",
    "                loop = dcopy(self.group_dict[group])\n",
    "                for n in loop:\n",
    "                    if self.possible(n,row,col):\n",
    "                        self.fixed[row,col] = n\n",
    "                        self.group_dict[group].remove(n)\n",
    "                        self.solve()\n",
    "                        self.fixed[row,col] = 0\n",
    "                        self.group_dict[group].append(n)\n",
    "                return\n",
    "        if self.final_test():    \n",
    "            self.solution.append(dcopy(self.fixed))\n",
    "\n",
    "    def possible(self,n,row,col):\n",
    "        for i in range(1,n):\n",
    "             if np.any(self.n_neighbour(i,row,col)==n):\n",
    "                    return False\n",
    "        neighbours = self.n_neighbour(n,row,col)\n",
    "        \n",
    "        if 0 not in neighbours:\n",
    "            if n not in neighbours:\n",
    "                return False \n",
    "        test =dcopy(self.fixed)\n",
    "        for i,j in itertools.product(range(9),range(9)):\n",
    "            num = self.fixed[i,j]\n",
    "            if num ==n :\n",
    "                neighbours = self.n_neighbour(num,i,j)\n",
    "                if 0 not in neighbours:\n",
    "                    if num not in neighbours:\n",
    "                        return False\n",
    "          \n",
    "        return True\n",
    "   \n",
    "    def final_test(self):\n",
    "        for i,j in itertools.product(range(9),range(9)):\n",
    "            num = self.fixed[i,j]\n",
    "            neighbours = self.n_neighbour(num,i,j)\n",
    "            if num not in neighbours:\n",
    "                return False\n",
    "        return True\n",
    "\n",
    "    def n_neighbour(self,n,row,col):\n",
    "        neighbours = []\n",
    "        if row-n >-1:\n",
    "            neighbours.append(self.fixed[row-n,col])\n",
    "        if col-n >-1:\n",
    "            neighbours.append(self.fixed[row,col-n])\n",
    "        if row+n <9:\n",
    "            neighbours.append(self.fixed[row+n,col])\n",
    "        if col+n <9:\n",
    "            neighbours.append(self.fixed[row,col+n])\n",
    "        return neighbours\n",
    "\n",
    "def counter(groups,solved):\n",
    "    group_poss = []\n",
    "    for i in range(20):\n",
    "        group_poss.append([0])\n",
    "    \n",
    "    group = 0\n",
    "    total =0\n",
    "    for i,j in itertools.product(range(9),range(9)):  \n",
    "        num = solved[i,j]\n",
    "        if groups[i,j] == group:\n",
    "            total *=10\n",
    "            total += num\n",
    "        else:\n",
    "            group_poss[group].append(total)\n",
    "            group = groups[i,j]\n",
    "            total = num\n",
    "     \n",
    "    prod = 0\n",
    "    for i in range(20):\n",
    "        prod +=max(group_poss[i])\n",
    "        \n",
    "    return prod"
   ]
  },
  {
   "cell_type": "code",
   "execution_count": 22,
   "metadata": {
    "colab": {
     "base_uri": "https://localhost:8080/",
     "height": 374
    },
    "id": "zexQ8t1kT1W3",
    "outputId": "7c2aec4e-d2fb-45d8-fc7e-679051faafed"
   },
   "outputs": [],
   "source": [
    "solution=np.array([[4,7,8,1,1,1,3,1,7],\n",
    "                   [1,1,2,7,2,6,1,1,3],\n",
    "                   [5,3,6,4,3,5,2,4,6],\n",
    "                   [3,2,5,2,4,2,3,5,2],\n",
    "                   [4,6,3,1,1,4,2,6,3],\n",
    "                   [2,1,2,1,3,1,1,1,2],\n",
    "                   [3,1,1,5,2,1,2,4,5],\n",
    "                   [5,2,3,2,4,6,1,1,3],\n",
    "                   [4,3,8,7,3,4,2,5,2]\n",
    "                 ])\n",
    "\n",
    "fixed =np.array([[0,7,8,0,0,0,0,0,7],\n",
    "                 [0,0,0,7,0,0,0,1,0],\n",
    "                 [0,3,0,0,0,0,0,0,0],\n",
    "                 [0,0,0,0,0,0,0,0,2],\n",
    "                 [0,0,0,0,1,0,0,0,0],\n",
    "                 [2,0,0,0,0,0,0,0,0],\n",
    "                 [0,0,0,0,0,0,0,4,0],\n",
    "                 [0,2,0,2,0,0,0,0,0],\n",
    "                 [0,0,8,7,0,0,0,0,0]\n",
    "                 ])\n",
    "\n"
   ]
  },
  {
   "cell_type": "code",
   "execution_count": null,
   "metadata": {
    "colab": {
     "base_uri": "https://localhost:8080/",
     "height": 374
    },
    "id": "zexQ8t1kT1W3",
    "outputId": "7c2aec4e-d2fb-45d8-fc7e-679051faafed"
   },
   "outputs": [],
   "source": [
    "start = time.perf_counter()\n",
    "matrix = Matrix(groups,fixed)          \n",
    "#display(matrix.group_dict)\n",
    "matrix.forced()\n",
    "#display(matrix.group_dict)\n",
    "matrix.solve()\n",
    "stop =  time.perf_counter()\n",
    "print('\\nSolution took {:0.6f} seconds\\n'.format((stop-start)))\n",
    "grid_print(matrix.groups,matrix.solution[0])\n",
    "#print(len(matrix.solution))\n",
    "print(\"number incorrect :\",np.sum(matrix.solution[0]!=solved))"
   ]
  },
  {
   "cell_type": "code",
   "execution_count": null,
   "metadata": {
    "colab": {
     "base_uri": "https://localhost:8080/",
     "height": 374
    },
    "id": "zexQ8t1kT1W3",
    "outputId": "7c2aec4e-d2fb-45d8-fc7e-679051faafed"
   },
   "outputs": [],
   "source": [
    "print(\"The sum of largest concatenated numbers is : {:,.0f}\".format(counter(matrix.groups,matrix.solution[0]))"
   ]
  },
  {
   "cell_type": "code",
   "execution_count": null,
   "metadata": {
    "colab": {
     "base_uri": "https://localhost:8080/",
     "height": 374
    },
    "id": "zexQ8t1kT1W3",
    "outputId": "7c2aec4e-d2fb-45d8-fc7e-679051faafed"
   },
   "outputs": [],
   "source": [
    "url='https://www.janestreet.com/puzzles/solutions/september-2019-solution/'\n",
    "res = requests.get(url)\n",
    "soup = BeautifulSoup(res.content, 'html.parser')\n",
    "x =[text for text in soup.body.stripped_strings]\n",
    "\n",
    "print(\" \".join(x[7:9]))"
   ]
  },
  {
   "cell_type": "markdown",
   "metadata": {
    "id": "ld_NFUIfT1W9"
   },
   "source": [
    "### Puzzle solution\n",
    "<img src=\"https://www.janestreet.com/puzzles/wp-content/uploads/2019/10/20190931_block_party_3_sol.png\" width=\"300\" height=\"400\">"
   ]
  },
  {
   "cell_type": "code",
   "execution_count": null,
   "metadata": {},
   "outputs": [],
   "source": [
    "solved=np.array([[4,7,8,1,1,1,3,1,7],\n",
    "                   [1,1,2,7,2,6,1,1,3],\n",
    "                   [5,3,6,4,3,5,2,4,6],\n",
    "                   [3,2,5,2,4,2,3,5,2],\n",
    "                   [4,6,3,1,1,4,2,6,3],\n",
    "                   [2,1,2,1,3,1,1,1,2],\n",
    "                   [3,1,1,5,2,1,2,4,5],\n",
    "                   [5,2,3,2,4,6,1,1,3],\n",
    "                   [4,3,8,7,3,4,2,5,2]\n",
    "                 ])"
   ]
  },
  {
   "cell_type": "code",
   "execution_count": null,
   "metadata": {},
   "outputs": [],
   "source": []
  }
 ],
 "metadata": {
  "colab": {
   "include_colab_link": true,
   "name": "JaneSt-Feb18.ipynb",
   "provenance": []
  },
  "kernelspec": {
   "display_name": "Python 3",
   "language": "python",
   "name": "python3"
  },
  "language_info": {
   "codemirror_mode": {
    "name": "ipython",
    "version": 3
   },
   "file_extension": ".py",
   "mimetype": "text/x-python",
   "name": "python",
   "nbconvert_exporter": "python",
   "pygments_lexer": "ipython3",
   "version": "3.7.7"
  }
 },
 "nbformat": 4,
 "nbformat_minor": 4
}
