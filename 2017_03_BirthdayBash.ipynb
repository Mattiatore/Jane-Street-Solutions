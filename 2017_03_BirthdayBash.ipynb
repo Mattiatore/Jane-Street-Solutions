{
 "cells": [
  {
   "cell_type": "code",
   "execution_count": 1,
   "id": "accomplished-premises",
   "metadata": {},
   "outputs": [],
   "source": [
    "import random\n",
    "import numpy as np\n",
    "import pandas as pd\n",
    "import time\n",
    "import seaborn as sns\n",
    "import matplotlib.pyplot as plt\n",
    "import requests\n",
    "from bs4 import BeautifulSoup\n",
    "import itertools\n",
    "from statistics import stdev,mean"
   ]
  },
  {
   "cell_type": "code",
   "execution_count": 2,
   "id": "veterinary-astronomy",
   "metadata": {},
   "outputs": [
    {
     "name": "stdout",
     "output_type": "stream",
     "text": [
      "Puzzle\n",
      "~~~~~~\n",
      "What is the minimum size of a randomly selected group of people such that there is a greater than 50% chance they can celebrate the birthday of at least one person in the group on every day of the year?  Assume that all years have 365 days, and that birthdays are evenly spread throughout the year. As always, you can use whatever techniques/resources you want to try and answer this puzzle, and we don’t expect you to submit anything other than your answer.  That said, if you want to challenge yourself, see how far you can get just using your intuition!  How about if you add pencil & paper?  How about if you add a calculator?  It could be difficult to arrive at an exact answer via these methods, but if so, how tightly can you bound the answer?\n"
     ]
    }
   ],
   "source": [
    "url='https://www.janestreet.com/puzzles/birthday-bash/'\n",
    "res = requests.get(url)\n",
    "soup = BeautifulSoup(res.content, 'html.parser')\n",
    "y =[text for text in soup.body.stripped_strings]\n",
    "print(\"Puzzle\")\n",
    "print(\"~~~~~~\")\n",
    "print(\" \".join(y[7:9]))"
   ]
  },
  {
   "cell_type": "code",
   "execution_count": 3,
   "id": "realistic-dictionary",
   "metadata": {},
   "outputs": [],
   "source": [
    "def prob(n):\n",
    "    dates =random.choices(range(365),k=n)\n",
    "    if len(set(dates)) ==365:\n",
    "        return 1\n",
    "    else:\n",
    "        return 0"
   ]
  },
  {
   "cell_type": "code",
   "execution_count": 4,
   "id": "heavy-marketplace",
   "metadata": {},
   "outputs": [],
   "source": [
    "def simulate(loops, nums, verbose= False):\n",
    "    means = []\n",
    "    stdevs = []\n",
    "    numbers = []\n",
    "    for n in nums:\n",
    "        start = time.time()\n",
    "        p =[sum([prob(n) for i in range(loops)])/loops for j in range(10)]\n",
    "        if verbose:\n",
    "            print(\"For {} the probability is {:.6f} with a stdeve of {:.6f}, Took {:.2f} seconds\".format(n,mean(p),stdev(p),time.time()-start))\n",
    "        means.append(mean(p))\n",
    "        stdevs.append(stdev(p))\n",
    "        numbers.append(n)\n",
    "    fig,ax = plt.subplots(1,1,figsize=(20,5))\n",
    "    ax.errorbar(numbers,means,yerr=stdevs,fmt='o',capsize=5)\n",
    "    ax.axhline(0.5,dashes=(2,4),color=\"r\",alpha=0.5)\n",
    "    if verbose:\n",
    "        plt.xticks(numbers)\n",
    "    plt.show()\n"
   ]
  },
  {
   "cell_type": "code",
   "execution_count": 5,
   "id": "surgical-terry",
   "metadata": {},
   "outputs": [
    {
     "data": {
      "image/png": "[encoded data removed]",
      "text/plain": [
       "<Figure size 1440x360 with 1 Axes>"
      ]
     },
     "metadata": {
      "needs_background": "light"
     },
     "output_type": "display_data"
    }
   ],
   "source": [
    "simulate(10000, range(2250,2300), verbose= False)"
   ]
  },
  {
   "cell_type": "code",
   "execution_count": 6,
   "id": "chubby-shoulder",
   "metadata": {},
   "outputs": [
    {
     "name": "stdout",
     "output_type": "stream",
     "text": [
      "For 2285 the probability is 0.498397 with a stdeve of 0.001464, Took 640.33 seconds\n",
      "For 2286 the probability is 0.498780 with a stdeve of 0.001594, Took 641.19 seconds\n",
      "For 2287 the probability is 0.501002 with a stdeve of 0.001839, Took 641.37 seconds\n",
      "For 2288 the probability is 0.501513 with a stdeve of 0.001916, Took 641.26 seconds\n",
      "For 2289 the probability is 0.502657 with a stdeve of 0.001068, Took 641.66 seconds\n"
     ]
    },
    {
     "data": {
      "image/png": "[encoded data removed]",
      "text/plain": [
       "<Figure size 1440x360 with 1 Axes>"
      ]
     },
     "metadata": {
      "needs_background": "light"
     },
     "output_type": "display_data"
    }
   ],
   "source": [
    "simulate(100000, range(2285,2290), verbose= True)"
   ]
  },
  {
   "cell_type": "code",
   "execution_count": 7,
   "id": "early-berkeley",
   "metadata": {},
   "outputs": [
    {
     "name": "stdout",
     "output_type": "stream",
     "text": [
      "Solution\n",
      "~~~~~~~~\n",
      "The answer to this month’s puzzle is that 2287 people are needed in order to make the probability that each birthday is covered greater than 50%. This number isn’t necessarily easy to compute, but there are some approximations we can make which show us the answer should be on that order. If we had asked for the average number of people needed (instead of the median), that would’ve been equivalent to the “coupon collector problem”.   The average number of people needed would’ve been 365 * (1/365 + 1/364 + 1/363 + … + 1) = roughly 2365.   Given that the average case incorporates what should be a long tail on the right side of the distribution, the average should be greater than the median, and thus 2365 would be an upper bound. We can also get a lower bound.  For a given day D, the probability of at least 1 out of N people having their birthday on that day would be [1 – (364/365)^N].   Given that at least 1 person has their birthday on D, it makes it slightly less likely that the other days are covered.  But if we ignore this effect and assume independence, we could ask how large N would need to be in order for the product of all 365 days’ individual probabilities to exceed 0.5.   The expression [1 – (364/365)^N]^365  becomes greater than 0.5 when N reaches 2285, so 2285 would be a lower bound.\n"
     ]
    }
   ],
   "source": [
    "url='https://www.janestreet.com/puzzles/solutions/march-2017-solution/'\n",
    "res = requests.get(url)\n",
    "soup = BeautifulSoup(res.content, 'html.parser')\n",
    "x =[text for text in soup.body.stripped_strings]\n",
    "\n",
    "print(\"Solution\")\n",
    "print(\"~~~~~~~~\")\n",
    "print(\" \".join(x[7:15]))"
   ]
  },
  {
   "cell_type": "code",
   "execution_count": null,
   "id": "scientific-experience",
   "metadata": {},
   "outputs": [],
   "source": []
  },
  {
   "cell_type": "code",
   "execution_count": null,
   "id": "annual-declaration",
   "metadata": {},
   "outputs": [],
   "source": []
  }
 ],
 "metadata": {
  "kernelspec": {
   "display_name": "Python 3",
   "language": "python",
   "name": "python3"
  },
  "language_info": {
   "codemirror_mode": {
    "name": "ipython",
    "version": 3
   },
   "file_extension": ".py",
   "mimetype": "text/x-python",
   "name": "python",
   "nbconvert_exporter": "python",
   "pygments_lexer": "ipython3",
   "version": "3.7.7"
  }
 },
 "nbformat": 4,
 "nbformat_minor": 5
}
