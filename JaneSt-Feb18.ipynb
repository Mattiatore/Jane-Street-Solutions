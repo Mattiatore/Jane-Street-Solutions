{
 "cells": [
  {
   "cell_type": "code",
   "execution_count": 63,
   "metadata": {},
   "outputs": [],
   "source": [
    "import pulp\n",
    "import numpy as np\n",
    "import pandas as pd\n",
    "import time\n",
    "import seaborn as sns\n",
    "import matplotlib.pyplot as plt\n",
    "import requests\n",
    "from bs4 import BeautifulSoup\n",
    "import itertools\n",
    "from copy import deepcopy as dcopy"
   ]
  },
  {
   "cell_type": "code",
   "execution_count": 64,
   "metadata": {},
   "outputs": [],
   "source": [
    "# Working through the hooks puzzles.\n",
    "# Different to #2 as many more limitations on potential hook placements. 24 instead of 3200\n",
    "# need to work out a good method of solving !"
   ]
  },
  {
   "cell_type": "markdown",
   "metadata": {},
   "source": [
    "### Puzzle details\n",
    "<img src=\"https://www.janestreet.com/puzzles/wp-content/uploads/2018/02/hook3_puzzle-01.png\" width=\"300\" height=\"300\">"
   ]
  },
  {
   "cell_type": "code",
   "execution_count": 105,
   "metadata": {},
   "outputs": [],
   "source": [
    "#Setup the constraints\n",
    "top_labels = [0,35,42,18,18,0, 36, 63,0]\n",
    "bot_labels = [0,40,32,40,10,12,0,56,0]\n",
    "left_labels = [0,56,0,32,40,15,16,25,0]\n",
    "right_labels =[0,49,63,0,18,42,63,54,0]\n",
    "params = [top_labels,bot_labels,left_labels,right_labels]"
   ]
  },
  {
   "cell_type": "code",
   "execution_count": 139,
   "metadata": {},
   "outputs": [],
   "source": [
    "class Matrix():\n",
    "    def __init__(self,top_labels,bot_labels,left_labels,right_labels):\n",
    "        self.top_labels = top_labels\n",
    "        self.bot_labels = bot_labels\n",
    "        self.left_labels = left_labels\n",
    "        self.right_labels = right_labels\n",
    "        self.potential_grids = [[-9,np.ones((9,9),dtype=int)*-1,[0,0,9,9]]] # list of all grids not yet ruled out.[Level,grid,coordinates of the grid yet to be filled]\n",
    "        self.solution = []\n",
    "        self.splits =  [list(i) for i in itertools.product([0, 1], repeat=9) if sum(i) > 1]\n",
    "     \n",
    "    def add_layer(self,grid,coords,lvl,alignment):\n",
    "        row_start,col_start,row_end, col_end = coords\n",
    "    \n",
    "        if alignment == 0:\n",
    "            grid[row_start:row_end,col_start] =lvl\n",
    "            grid[row_start,col_start:col_end] =lvl\n",
    "            row_start +=1\n",
    "            col_start +=1\n",
    "    \n",
    "        if alignment == 1:\n",
    "            grid[row_start:row_end,col_start] =lvl\n",
    "            grid[row_end-1,col_start:col_end] =lvl\n",
    "            row_end -=1\n",
    "            col_start +=1 \n",
    "\n",
    "        if alignment == 2:\n",
    "            grid[row_start:row_end,col_end-1] =lvl\n",
    "            grid[row_start,col_start:col_end] =lvl\n",
    "            row_start +=1\n",
    "            col_end -=1\n",
    "        \n",
    "        if alignment == 3:\n",
    "            grid[row_start:row_end,col_end-1] =lvl\n",
    "            grid[row_end-1,col_start:col_end] =lvl\n",
    "            row_end -=1\n",
    "            col_end -=1 \n",
    "    \n",
    "        coords = [row_start,col_start,row_end, col_end]\n",
    "        \n",
    "        return grid,coords    \n",
    "   \n",
    "    def check_grid(self,grid):\n",
    "        isValid = 1\n",
    "        for i in range(9):\n",
    "            row = grid[i,:]\n",
    "            col = grid[:,i]\n",
    "            if -1 not in row:\n",
    "                    isValid *= self.check_line(row,self.left_labels[i],self.right_labels[i])\n",
    "            if -1 not in col:\n",
    "                    isValid *= self.check_line(col,self.top_labels[i],self.bot_labels[i])  \n",
    "        return isValid\n",
    "                    \n",
    "    def check_line(self,line,start,end):\n",
    "        for split in self.splits:\n",
    "            test = line * split\n",
    "            if (test[test!=0][:2].prod() == start) or (start ==0):\n",
    "                if (test[test!=0][-2:].prod() == end) or (end ==0):\n",
    "                    return 1\n",
    "        return 0\n",
    "    \n",
    "    def solve(self):\n",
    "            \n",
    "        while len(self.potential_grids) > 0:\n",
    "            \n",
    "            temp_grid = self.potential_grids.pop(0)\n",
    "            #create the potential rotations at the given level\n",
    "            rotations = []\n",
    "        \n",
    "            for alignment in range(4):\n",
    "                lvl,grid,coords = dcopy(temp_grid)\n",
    "                grid,coords = self.add_layer(grid,coords,-lvl,alignment)\n",
    "                if lvl != -1 :\n",
    "                    rotations.append([lvl+1,grid,coords])\n",
    "                else:\n",
    "                     rotations = [[lvl+1,grid,coords]]\n",
    "    \n",
    "            \n",
    "            #check valid grids (where the sum can be made from available digits) and save the ones that work\n",
    "            for i in range(len(rotations)):\n",
    "                lvl,g,coords = rotations[i]\n",
    "                if self.check_grid(g):\n",
    "                    if lvl !=0:    \n",
    "                        self.potential_grids.append([lvl,g,coords])\n",
    "                    else:\n",
    "                        self.solution.append(g)\n",
    "                        \n",
    "        print(\"There are {} valid hooks\".format(len(self.solution)))\n",
    "        \n",
    "        #solve each grid in the cut down list\n",
    "        for i in range(len(self.solution)):\n",
    "            grid = self.solution[i]\n",
    "            #solved,matrix = self.solve_matrix(grid)\n",
    "            \n",
    "            #if np.sum(np.abs(np.sum(solved*matrix,axis=1)-self.row_labels)) + np.sum(np.abs(np.sum(solved*matrix,axis=0)-self.col_labels)) == 0:\n",
    "            #    self.final = [solved,matrix]\n",
    "            #    break\n",
    "                \n",
    "def sol_print(solved,matrix):\n",
    "    fig,ax = plt.subplots(1,1,figsize=(5,5))\n",
    "    ax = sns.heatmap(matrix,annot=solved*matrix,cbar=False,cmap=\"YlGnBu\")\n",
    "    ax.axis(\"off\")\n",
    "    \n",
    "    "
   ]
  },
  {
   "cell_type": "code",
   "execution_count": 140,
   "metadata": {},
   "outputs": [
    {
     "name": "stdout",
     "output_type": "stream",
     "text": [
      "There are 24 valid hooks\n",
      "Solution took 0.8307 seconds\n",
      "\n"
     ]
    }
   ],
   "source": [
    "start = time.perf_counter()\n",
    "test = Matrix(top_labels,bot_labels,left_labels,right_labels)\n",
    "test.solve()\n",
    "#solved,matrix = test.final\n",
    "stop =  time.perf_counter()\n",
    "print('Solution took {:0.4f} seconds\\n'.format((stop-start)))\n",
    "#sol_print(solved,matrix)"
   ]
  },
  {
   "cell_type": "markdown",
   "metadata": {},
   "source": [
    "### Puzzle solution\n",
    "<img src=\"https://www.janestreet.com/puzzles/wp-content/uploads/2018/03/20180228_hooks_3_ans.png\" width=\"300\" height=\"400\">"
   ]
  },
  {
   "cell_type": "code",
   "execution_count": 122,
   "metadata": {},
   "outputs": [
    {
     "name": "stdout",
     "output_type": "stream",
     "text": [
      "[8 5 6 7 9]\n"
     ]
    }
   ],
   "source": [
    "correct = np.array([[9, 9, 9, 9, 9, 9, 9, 9, 9],\n",
    "                    [8, 7, 7, 7, 7, 7, 7, 7, 9],\n",
    "                    [8, 6, 6, 6, 6, 6, 6, 7, 9],\n",
    "                    [8, 5, 4, 3, 2, 1, 6, 7, 9],\n",
    "                    [8, 5, 4, 3, 2, 2, 6, 7, 9],\n",
    "                    [8, 5, 4, 3, 3, 3, 6, 7, 9],\n",
    "                    [8, 5, 4, 4, 4, 4, 6, 7, 9],\n",
    "                    [8, 5, 5, 5, 5, 5, 6, 7, 9],                          \n",
    "                    [8, 8, 8, 8, 8, 8, 8, 8, 9]])\n",
    "\n",
    "solved=   np.array([[0, 0, 0, 0, 9, 9, 0, 9, 0],\n",
    "                    [8, 7, 7, 0, 0, 7, 0, 7, 0],\n",
    "                    [0, 0, 6, 6, 0, 6, 6, 7, 9],\n",
    "                    [8, 0, 4, 0, 0, 1, 0, 0, 9],\n",
    "                    [8, 5, 4, 3, 2, 2, 0, 0, 9],\n",
    "                    [0, 5, 0, 3, 0, 3, 6, 7, 0],\n",
    "                    [0, 0, 0, 4, 0, 4, 0, 7, 9],\n",
    "                    [0, 5, 0, 5, 5, 0, 6, 0, 9],                          \n",
    "                    [0, 8, 8, 8, 0, 0, 8, 8, 9]])\n",
    "\n",
    "incorrect=np.array([[9, 9, 9, 9, 9, 9, 9, 9, 9],\n",
    "                    [8, 7, 6, 6, 6, 6, 6, 6, 9],\n",
    "                    [8, 7, 5, 5, 5, 5, 5, 6, 9],\n",
    "                    [8, 7, 4, 3, 2, 1, 5, 6, 9],\n",
    "                    [8, 7, 4, 3, 2, 2, 5, 6, 9],\n",
    "                    [8, 7, 4, 3, 3, 3, 5, 6, 9],\n",
    "                    [8, 7, 4, 4, 4, 4, 5, 6, 9],\n",
    "                    [8, 7, 7, 7, 7, 7, 7, 7, 9],                          \n",
    "                    [8, 8, 8, 8, 8, 8, 8, 8, 9]])\n",
    "\n",
    "\n"
   ]
  },
  {
   "cell_type": "code",
   "execution_count": 129,
   "metadata": {},
   "outputs": [],
   "source": []
  },
  {
   "cell_type": "code",
   "execution_count": null,
   "metadata": {},
   "outputs": [],
   "source": []
  }
 ],
 "metadata": {
  "kernelspec": {
   "display_name": "Python 3",
   "language": "python",
   "name": "python3"
  },
  "language_info": {
   "codemirror_mode": {
    "name": "ipython",
    "version": 3
   },
   "file_extension": ".py",
   "mimetype": "text/x-python",
   "name": "python",
   "nbconvert_exporter": "python",
   "pygments_lexer": "ipython3",
   "version": "3.7.7"
  }
 },
 "nbformat": 4,
 "nbformat_minor": 4
}
