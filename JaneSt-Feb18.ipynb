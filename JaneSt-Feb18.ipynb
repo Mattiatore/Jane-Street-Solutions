{
 "cells": [
  {
   "cell_type": "code",
   "execution_count": 3,
   "metadata": {},
   "outputs": [
    {
     "name": "stderr",
     "output_type": "stream",
     "text": [
      "In d:\\Anaconda3\\lib\\site-packages\\matplotlib\\mpl-data\\stylelib\\_classic_test.mplstyle: \n",
      "The savefig.frameon rcparam was deprecated in Matplotlib 3.1 and will be removed in 3.3.\n",
      "In d:\\Anaconda3\\lib\\site-packages\\matplotlib\\mpl-data\\stylelib\\_classic_test.mplstyle: \n",
      "The verbose.level rcparam was deprecated in Matplotlib 3.1 and will be removed in 3.3.\n",
      "In d:\\Anaconda3\\lib\\site-packages\\matplotlib\\mpl-data\\stylelib\\_classic_test.mplstyle: \n",
      "The verbose.fileo rcparam was deprecated in Matplotlib 3.1 and will be removed in 3.3.\n"
     ]
    }
   ],
   "source": [
    "import pulp\n",
    "import numpy as np\n",
    "import time\n",
    "import seaborn as sns\n",
    "import matplotlib.pyplot as plt\n",
    "import requests\n",
    "from bs4 import BeautifulSoup\n",
    "import itertools\n",
    "import copy"
   ]
  },
  {
   "cell_type": "code",
   "execution_count": 4,
   "metadata": {},
   "outputs": [],
   "source": [
    "# Working through the hooks puzzles.\n",
    "# Solving the matrix is fast using the same tools as the Feb 14 puzzle \n",
    "# the checks are too slow to loop through all posibilities of the hooks \n",
    "# so look to solve hook by hook "
   ]
  },
  {
   "cell_type": "markdown",
   "metadata": {},
   "source": [
    "### Puzzle details\n",
    "<img src=\"https://www.janestreet.com/puzzles/wp-content/uploads/2018/02/hook3_puzzle-01.png\" width=\"500\" height=\"600\">"
   ]
  },
  {
   "cell_type": "code",
   "execution_count": 26,
   "metadata": {},
   "outputs": [],
   "source": [
    "#Setup the constraints\n",
    "top_labels = [0,35,42,18,18.0, 36, 63,0]\n",
    "bot_labels = [0,40,32,40,10,12,0,56,0]\n",
    "left_labels = [0,56,0,32,40,15,16,25,0]\n",
    "right_labels =[0,49,63,0,18,42,63,54,0]\n",
    "params = [top_labels,bot_labels,left_labels,right_labels]"
   ]
  },
  {
   "cell_type": "code",
   "execution_count": 61,
   "metadata": {},
   "outputs": [],
   "source": [
    "  \n",
    "    def possible(self,row,col,digit):\n",
    "        self.grid[row,col] = digit\n",
    "        #check counts\n",
    "        if np.sum((self.y*self.grid) == y[row,col]) > y[row,col]:\n",
    "            self.grid[row,col] = -1 \n",
    "            print(self.grid)\n",
    "            return False\n",
    "\n",
    "        #check looks\n",
    "        #if self.check_looks(row,col,digit):\n",
    "        #    self.grid[row,col] = -1  \n",
    "        #    return False\n",
    "        \n",
    "        self.grid[row,col] = -1                          \n",
    "        return True\n",
    "    \n",
    "\n",
    "    def check_looks(self,row,col,digit):\n",
    "        if self.left_looks[row] > 0:\n",
    "            found = 0\n",
    "            total = 1\n",
    "            for i in range(9):\n",
    "                if found < 2:\n",
    "                    if self.grid[row,i] != 0:\n",
    "                        found +=1\n",
    "                        total = total * (self.y*self.grid)[row,i]\n",
    "                if found == 2:\n",
    "                    if total != self.left_looks[row]:\n",
    "                        return True\n",
    "                       \n",
    "    \n",
    "        if self.top_looks[col] > 0:\n",
    "            found = 0\n",
    "            total = 1\n",
    "            for i in range(9):\n",
    "                if found < 2:\n",
    "                    if self.grid[i,col] != 0:\n",
    "                        found +=1\n",
    "                        total = total * (self.y*self.grid)[i,col]\n",
    "                if found == 2:\n",
    "                    if total != self.top_looks[col]:\n",
    "                        return True\n",
    "\n",
    "        if self.right_looks[row] > 0:\n",
    "            found = 0\n",
    "            total = 1\n",
    "            for i in range(8,-1,-1):\n",
    "                if found < 2:\n",
    "                    if self.grid[row,i] != 0:\n",
    "                        found +=1\n",
    "                        total = total * (self.y*self.grid)[row,i]\n",
    "                if found == 2:\n",
    "                    if total != self.right_looks[row]:\n",
    "                        return True\n",
    "    \n",
    "        if self.bot_looks[col] > 0:\n",
    "            found = 0\n",
    "            total = 1\n",
    "            for i in range(8,-1,-1):\n",
    "                if found < 2:\n",
    "                    if self.grid[i,col] != 0:\n",
    "                        found +=1\n",
    "                        total = total * (self.y*self.grid)[i,col]\n",
    "                if found == 2:\n",
    "                    if total != self.top_looks[col]:\n",
    "                        return True\n",
    "        return False    \n"
   ]
  },
  {
   "cell_type": "code",
   "execution_count": null,
   "metadata": {},
   "outputs": [],
   "source": [
    "class Matrix():\n",
    "    def __init__(self,top_labels,bot_labels,left_labels,right_labels):\n",
    "        self.valid_grids= [np.ones((9,9),dtype=int)*-1\n",
    "        self.coords = [0,0,9,9]\n",
    "        self.alignment = [0,0,0,0,0,0,0,0,0]\n",
    "        self.lvl = 9\n",
    "        self.top_looks = top_labels\n",
    "        self.bot_looks = bot_labels\n",
    "        self.left_looks = left_labels\n",
    "        self.right_looks = right_labels\n",
    "    \n",
    "    \n",
    "    def add_layer(self,lvl,alignment):\n",
    "        row_start,col_start,row_end, col_end = self.coords\n",
    "    \n",
    "        if alignment == 0:\n",
    "            self.grid[row_start:row_end,col_start] =lvl\n",
    "            self.grid[row_start,col_start:col_end] =lvl\n",
    "            row_start +=1\n",
    "            col_start +=1\n",
    "    \n",
    "        if alignment == 1:\n",
    "            self.grid[row_start:row_end,col_start] =lvl\n",
    "            self.grid[row_end-1,col_start:col_end] =lvl\n",
    "            row_end -=1\n",
    "            col_start +=1 \n",
    "\n",
    "        if alignment == 2:\n",
    "            self.grid[row_start:row_end,col_end-1] =lvl\n",
    "            self.grid[row_start,col_start:col_end] =lvl\n",
    "            row_start +=1\n",
    "            col_end -=1\n",
    "        \n",
    "        if alignment == 3:\n",
    "            self.grid[row_start:row_end,col_end-1] =lvl\n",
    "            self.grid[row_end-1,col_start:col_end] =lvl\n",
    "            row_end -=1\n",
    "            col_end -=1 \n",
    "    \n",
    "        self.coords = [row_start,col_start,row_end, col_end]\n",
    "\n"
   ]
  },
  {
   "cell_type": "markdown",
   "metadata": {},
   "source": [
    "### Puzzle solution\n",
    "<img src=\"https://www.janestreet.com/puzzles/wp-content/uploads/2018/03/20180228_hooks_3_ans.png\" width=\"500\" height=\"600\">"
   ]
  },
  {
   "cell_type": "code",
   "execution_count": 40,
   "metadata": {},
   "outputs": [],
   "source": [
    "def add_layer(grid,coords,lvl,alignment):\n",
    "        row_start,col_start,row_end, col_end = coords\n",
    "    \n",
    "        if alignment == 0:\n",
    "            grid[row_start:row_end,col_start] =lvl\n",
    "            grid[row_start,col_start:col_end] =lvl\n",
    "            row_start +=1\n",
    "            col_start +=1\n",
    "    \n",
    "        if alignment == 1:\n",
    "            grid[row_start:row_end,col_start] =lvl\n",
    "            grid[row_end-1,col_start:col_end] =lvl\n",
    "            row_end -=1\n",
    "            col_start +=1 \n",
    "\n",
    "        if alignment == 2:\n",
    "            grid[row_start:row_end,col_end-1] =lvl\n",
    "            grid[row_start,col_start:col_end] =lvl\n",
    "            row_start +=1\n",
    "            col_end -=1\n",
    "        \n",
    "        if alignment == 3:\n",
    "            grid[row_start:row_end,col_end-1] =lvl\n",
    "            grid[row_end-1,col_start:col_end] =lvl\n",
    "            row_end -=1\n",
    "            col_end -=1 \n",
    "    \n",
    "        coords = [row_start,col_start,row_end, col_end]\n",
    "        return grid,coords\n",
    "    \n",
    "def solve_layer(grid,lvl,coords,params):\n",
    "    row_start,col_start,row_end, col_end = coords\n",
    "    top_labels,bot_labels,left_labels,right_labels =params\n",
    "    nums = lvl*2-1\n",
    "    \n",
    "    problem = pulp.LpProblem('Problem') \n",
    "    mask = pulp.LpVariable.dicts('x', [ num for num in range(nums)],lowBound=0,upBound=1, cat='Integer') # declare decision variables\n",
    "\n",
    "    problem += pulp.lpSum([mask[num]for num in range(nums) ]) == lvl\n",
    "    "
   ]
  },
  {
   "cell_type": "code",
   "execution_count": null,
   "metadata": {},
   "outputs": [],
   "source": [
    "lvl = 9\n",
    "grid = np.ones((9,9),dtype=int)*-1\n",
    "coords = [0,0,9,9]\n",
    "\n",
    "for i in range(4):\n",
    "    temp_grid = copy.copy(grid)\n",
    "    temp_coords = copy.copy(coords)\n",
    "    grid,coords=add_layer(grid,coords,lvl,i)\n",
    "    mask=solve_layer(grid,lvl,temp_coords,params)\n",
    "    print(grid)\n",
    "    grid = copy.copy(temp_grid)\n",
    "    coords = copy.copy(temp_coords)\n",
    "    \n",
    "    "
   ]
  },
  {
   "cell_type": "code",
   "execution_count": 44,
   "metadata": {},
   "outputs": [],
   "source": [
    "grid = np.ones((9,9),dtype=int)*-1\n",
    "\n",
    "lvl = np.ones(17)*9\n",
    "\n",
    "for row,col in itertools.product(range(row_start:row_end,col\n",
    "\n"
   ]
  },
  {
   "cell_type": "code",
   "execution_count": 45,
   "metadata": {},
   "outputs": [
    {
     "name": "stdout",
     "output_type": "stream",
     "text": [
      "[[9 9 9 9 9 9 9 9 9]\n",
      " [9 8 8 8 8 8 8 8 8]\n",
      " [9 8 7 7 7 7 7 7 7]\n",
      " [9 8 7 6 6 6 6 6 6]\n",
      " [9 8 7 6 5 5 5 5 5]\n",
      " [9 8 7 6 5 4 4 4 4]\n",
      " [9 8 7 6 5 4 3 3 3]\n",
      " [9 8 7 6 5 4 3 2 2]\n",
      " [9 8 7 6 5 4 3 2 1]]\n"
     ]
    }
   ],
   "source": [
    "grid = np.ones((9,9),dtype=int)*-1\n",
    "coords = [0,0,9,9]\n",
    "alignment = [0,0,0,0,0,0,0,0,0]\n",
    "\n",
    "for i in range(9,0,-1):\n",
    "    grid,coords=add_layer(grid,coords,i,alignment[i-1])\n",
    "    \n",
    "print(grid)\n",
    "    "
   ]
  },
  {
   "cell_type": "code",
   "execution_count": null,
   "metadata": {},
   "outputs": [],
   "source": []
  }
 ],
 "metadata": {
  "kernelspec": {
   "display_name": "Python 3",
   "language": "python",
   "name": "python3"
  },
  "language_info": {
   "codemirror_mode": {
    "name": "ipython",
    "version": 3
   },
   "file_extension": ".py",
   "mimetype": "text/x-python",
   "name": "python",
   "nbconvert_exporter": "python",
   "pygments_lexer": "ipython3",
   "version": "3.7.7"
  }
 },
 "nbformat": 4,
 "nbformat_minor": 4
}
