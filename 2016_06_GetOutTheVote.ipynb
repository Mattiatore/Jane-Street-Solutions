{
 "cells": [
  {
   "cell_type": "code",
   "execution_count": 80,
   "id": "coastal-anthropology",
   "metadata": {},
   "outputs": [],
   "source": [
    "import numpy as np\n",
    "import time\n",
    "import seaborn as sns\n",
    "import matplotlib.pyplot as plt\n",
    "import requests\n",
    "from bs4 import BeautifulSoup\n",
    "import itertools\n",
    "from z3 import *\n",
    "import math"
   ]
  },
  {
   "cell_type": "code",
   "execution_count": 81,
   "id": "earned-citation",
   "metadata": {},
   "outputs": [
    {
     "name": "stdout",
     "output_type": "stream",
     "text": [
      "Primary elections in the micro-state of Neverland! This state follows the following rules: let D be the number of delegates to be elected, N the total number of votes and Xi the number of ballots cast for each candidate i. Initially, each candidate gets assigned floor(D * Xi/N) delegates where floor() is the standard floor function. Then, the remaining delegates (if any) get assigned in decreasing order of the remainders D*Xi/N – floor(D*Xi/N).  That is, if there are K remaining delegates, the K candidates who have the largest remainders D*Xi/N – floor(D*Xi/N) will each receive a delegate. After counting the votes, 102 ballots were found, none of which were invalid or void, and the only three candidates Harry, Larry, and Mary got assigned 2, 2, and 3 delegates respectively. Later on, an audit commission found two mistakes were made: – There were 8 delegates to assign, not 7. – A 103rd ballot had been missed, with an extra vote for Harry. After correcting for those errors, the final results show that Harry lost one delegate. Harry is outraged. How could this happen? How many votes did each candidate receive in this election?\n"
     ]
    }
   ],
   "source": [
    "url='https://www.janestreet.com/puzzles/get-out-the-vote/'\n",
    "res = requests.get(url)\n",
    "soup = BeautifulSoup(res.content, 'html.parser')\n",
    "x =[text for text in soup.body.stripped_strings]\n",
    "print(\" \".join(x[7:15]))"
   ]
  },
  {
   "cell_type": "code",
   "execution_count": 90,
   "id": "strange-marine",
   "metadata": {},
   "outputs": [
    {
     "name": "stdout",
     "output_type": "stream",
     "text": [
      "\n",
      "The original votes cast are Harry : 20, Larry : 34, Mary :48\n",
      "\n",
      "Votes/Remainder - Before : ([2, 2, 3], [38, 34, 30]) After : ([1, 3, 4], [65, 66, 75])\n"
     ]
    }
   ],
   "source": [
    "def delegates(h,l,m,delegates):\n",
    "    total = h+l+m\n",
    "    votes = [h,l,m]\n",
    "    floor = [x*delegates // total for x in votes]\n",
    "    remainder = [x*delegates % total for x in votes]\n",
    "\n",
    "    to_allocate = delegates - sum(floor)\n",
    "    if to_allocate ==1:\n",
    "        floor[np.argmax(remainder)] +=1\n",
    "    if to_allocate ==2:\n",
    "        floor = [x+1 for x in floor]\n",
    "        floor[np.argmin(remainder)] -=1\n",
    "    return floor,remainder\n",
    "\n",
    "for h in range(103):\n",
    "    for l in range(103-h):\n",
    "        m= 102-h-l\n",
    "        if (delegates(h,l,m,7)[0] == [2,2,3]) & (delegates(h+1,l,m,8)[0][0] == 1):\n",
    "            print(\"\\nThe original votes cast are Harry : {}, Larry : {}, Mary :{}\".format(h,l,m))\n",
    "            print(\"\\nVotes/Remainder - Before : {} After : {}\".format(delegates(h,l,m,7),delegates(h+1,l,m,8)))"
   ]
  },
  {
   "cell_type": "code",
   "execution_count": 83,
   "id": "complimentary-kingston",
   "metadata": {},
   "outputs": [
    {
     "name": "stdout",
     "output_type": "stream",
     "text": [
      "The only way in which Harry could have lost a delegate in this fashion would be for the original vote counts to have been  (Harry, Larry, Mary) = (20,34,48).   Originally Harry’s remainder is the highest of the 3, but after adding the extra delegate and his extra vote, Harry’s becomes the lowest of the 3!     Congratulations to all of this month’s correct solvers!\n"
     ]
    }
   ],
   "source": [
    "url='https://www.janestreet.com/puzzles/solutions/june-2016-solution/'\n",
    "res = requests.get(url)\n",
    "soup = BeautifulSoup(res.content, 'html.parser')\n",
    "x =[text for text in soup.body.stripped_strings]\n",
    "print(\" \".join(x[7:8]))"
   ]
  },
  {
   "cell_type": "code",
   "execution_count": null,
   "id": "muslim-server",
   "metadata": {},
   "outputs": [],
   "source": []
  }
 ],
 "metadata": {
  "kernelspec": {
   "display_name": "Python 3",
   "language": "python",
   "name": "python3"
  },
  "language_info": {
   "codemirror_mode": {
    "name": "ipython",
    "version": 3
   },
   "file_extension": ".py",
   "mimetype": "text/x-python",
   "name": "python",
   "nbconvert_exporter": "python",
   "pygments_lexer": "ipython3",
   "version": "3.7.7"
  }
 },
 "nbformat": 4,
 "nbformat_minor": 5
}
