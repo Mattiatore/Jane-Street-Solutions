{
 "cells": [
  {
   "cell_type": "code",
   "execution_count": 1,
   "id": "ec110b7b",
   "metadata": {},
   "outputs": [],
   "source": [
    "import networkx as nx\n",
    "from typing import List\n",
    "import math\n",
    "import random\n",
    "import time\n",
    "import sympy\n",
    "import matplotlib.pyplot as plt\n",
    "\n",
    "import requests\n",
    "from bs4 import BeautifulSoup\n",
    "from IPython.display import Markdown, display\n",
    "\n",
    "# Really interesting puzzle and plenty of info online\n",
    "# mostly as it was used as an NRICH puzzle\n",
    "# https://nrich.maths.org/factorsandmultiples\n",
    "# A few resources below \n",
    "#\n",
    "# https://theorie.ikp.physik.tu-darmstadt.de/qcd/numchain.pdf\n",
    "# https://math.dartmouth.edu/~carlp/divisorgraph.pdf\n",
    "# https://arxiv.org/pdf/1807.07783.pdf\n",
    "# http://www.m-hikari.com/imf-2010/37-40-2010/aladdasiIMF37-40-2010.pdf\n",
    "    "
   ]
  },
  {
   "cell_type": "code",
   "execution_count": 2,
   "id": "8c1e1297",
   "metadata": {},
   "outputs": [
    {
     "data": {
      "text/markdown": [
       "### July 2014 : Puzzle\n",
       "\n",
       "Write down a chain of integers between 1 and 100, with no repetition, such that\n",
       "if x and y are consecutive numbers in the chain, then x evenly divides y or y\n",
       "evenly divides x. Here is an example of such a chain, with length 12:\n",
       "37, 74, 2, 8, 4, 16, 48, 6, 3, 9, 27, 81\n",
       "What is the longest chain you can find?"
      ],
      "text/plain": [
       "<IPython.core.display.Markdown object>"
      ]
     },
     "metadata": {},
     "output_type": "display_data"
    }
   ],
   "source": [
    "url='https://www.janestreet.com/puzzles/chain-reaction-index/'\n",
    "res = requests.get(url)\n",
    "soup = BeautifulSoup(res.content, 'html.parser')\n",
    "y =[text for text in soup.body.stripped_strings]\n",
    "#display([(i,j) for i,j in enumerate(y)])\n",
    "display(Markdown(\"### \"+y[8]+\"\\n\\n\"+str(\"\\n\".join(y[10:13]))))"
   ]
  },
  {
   "cell_type": "code",
   "execution_count": 37,
   "id": "05011b36",
   "metadata": {},
   "outputs": [
    {
     "name": "stdout",
     "output_type": "stream",
     "text": [
      "[2, 3, 5, 7, 11, 13, 17, 19, 23, 29, 31, 37, 41, 43, 47, 53, 59, 61, 67, 71, 73, 79, 83, 89, 97]\n"
     ]
    }
   ],
   "source": [
    "primes = list(sympy.primerange(0, 100))\n",
    "\n",
    "# Question is to find the longest simple path on the divisor graph of the integers up to 100\n",
    "\n",
    "def longest_simple_path(numbs,a = 0,b = 0 ):\n",
    "    g = nx.Graph()\n",
    "    if a == 0:\n",
    "        a = numbs[0]\n",
    "    if b == 0:\n",
    "        b = numbs[-1]\n",
    "    numbs.sort()\n",
    "    #print(numbs,a,b)\n",
    "    \n",
    "    for i in range(len(numbs)):\n",
    "        for j in range(i+1,len(numbs)):\n",
    "            if numbs[j] % numbs[i] == 0:\n",
    "                g.add_edge(numbs[i],numbs[j])\n",
    "    \n",
    "    longest_paths = []\n",
    "    longest_path_length = 0\n",
    "    for path in nx.all_simple_paths(g,a,b):\n",
    "        if len(path) > longest_path_length:\n",
    "            #print(\"longest is now\",len(path),end=\" \")\n",
    "            longest_path_length = len(path)\n",
    "            longest_paths.clear()\n",
    "            longest_paths.append(path)\n",
    "    return longest_paths[0]\n",
    "           \n",
    "def bring_in(n,a,b,sequence):\n",
    "    raw = [i*n for i in range(1,50) if i*n <101 and i*n in sequence]\n",
    "    series = longest_simple_path(raw,n*a,n*b)\n",
    "    print(\"Adding {} uses {} of the {} available. Start: {} End: {}\".format(n,len(series),len(raw),series[0],series[-1]))\n",
    "    return series\n",
    "\n",
    "def left(x,give_up):\n",
    "    sequence = [*range(1,101)]\n",
    "    [sequence.remove(i) for i in give_up]\n",
    "    [sequence.remove(i) for i in x]\n",
    "    for i in range(1,len(x)):\n",
    "        if (x[i] % x[i-1] !=0) & (x[i-1] % x[i] !=0):\n",
    "            print(\"FAIL\",x[i], x[i-1])\n",
    "    return sequence\n",
    "    \n",
    "print(primes)"
   ]
  },
  {
   "cell_type": "code",
   "execution_count": 38,
   "id": "6efa6e15",
   "metadata": {},
   "outputs": [
    {
     "name": "stdout",
     "output_type": "stream",
     "text": [
      "After removing large primes there are 82 left\n",
      "The are 22 in the prime sequence \n",
      "The longest sequence is 21 long\n",
      "Adding 13 uses 5 of the 7 available. Start: 65 End: 78\n",
      "Adding 7 uses 12 of the 14 available. Start: 63 End: 70\n",
      "Adding 11 uses 8 of the 9 available. Start: 88 End: 77\n",
      "\n",
      "Final Sequence\n",
      "~~~~~~~~~~~~~~\n",
      "[51, 17, 34, 68, 1, 87, 29, 58, 2, 62, 31, 93, 3, 69, 23, 46, 92, 4, 76, 38, 19, 95, 5, 65, 13, 52, 26, 78, 6, 36, 18, 54, 27, 81, 9, 63, 21, 42, 84, 28, 56, 14, 98, 49, 7, 35, 70, 10, 20, 100, 50, 25, 75, 15, 45, 90, 30, 60, 12, 72, 24, 48, 96, 32, 64, 16, 80, 40, 8, 88, 44, 22, 66, 33, 99, 11, 77]\n",
      "Length is 77\n",
      "[39, 55, 57, 85, 91]\n",
      "\n",
      "ELEMENTS\n",
      "[51, 17, 34, 68, 1, 87, 29, 58, 2, 62, 31, 93, 3, 69, 23, 46, 92, 4, 76, 38, 19]\n",
      "[95, 5]\n",
      "[65, 13, 52, 26, 78]\n",
      "[6, 36, 18, 54, 27, 81, 9]\n",
      "[63, 21, 42, 84, 28, 56, 14, 98, 49, 7, 35, 70]\n",
      "[10, 20, 100, 50, 25, 75, 15, 45, 90, 30, 60, 12, 72, 24, 48, 96, 32, 64, 16, 80, 40, 8]\n",
      "[88, 44, 22, 66, 33, 99, 11, 77]\n"
     ]
    }
   ],
   "source": [
    "# based largely on the logic here https://theorie.ikp.physik.tu-darmstadt.de/qcd/numchain.pdf\n",
    "# Both the solution in this paper and the Jane St solution have similar logic but make different choices on ordering and links\n",
    "# Finding the longest path on the large graph is too hard but if you break it down into areas it becomes solveable.\n",
    "\n",
    "# start with the list of integers\n",
    "sequence = [*range(1,101)]\n",
    "\n",
    "# give up on primes 37+ \n",
    "give_up = [37, 74, 41, 82, 43, 86, 47, 94, 53, 59, 61, 67, 71, 73, 79, 83, 89, 97]\n",
    "[sequence.remove(i) for i in give_up]\n",
    "\n",
    "print(\"After removing large primes there are {} left\".format(len(sequence)))\n",
    "\n",
    "# for primes above 13 [17,19,23,29,31] use up  4,3,2,1 to capture as many multiples as possible finishing at 19 or 17 so I can use 5 to link to 13\n",
    "prime_series =[i*j for i in [1,17,19,23,29,31] for j in [1,2,3,4] if i*j < 101]\n",
    "prime_ordered = longest_simple_path(prime_series,17*3,19)\n",
    "[sequence.remove(i) for i in prime_ordered]\n",
    "\n",
    "print(\"The are {} in the prime sequence \".format(len(prime_series)))\n",
    "print(\"The longest sequence is {} long\".format(len(prime_ordered)))\n",
    "\n",
    "# bring in mutiples of 13 using 5 to link to 17/19 and use 6 at the end to maximise the length\n",
    "link1 = [19*5,5]\n",
    "[sequence.remove(i) for i in link_1]\n",
    "series_13 = bring_in(13,5,6,sequence)\n",
    "[sequence.remove(i) for i in series_13]\n",
    "\n",
    "#link between 6 and 9 - I haven't found a solution that doesn't use this link\n",
    "link_2=[6, 36, 18, 54, 27, 81, 9]\n",
    "[sequence.remove(i) for i in link_2]\n",
    "\n",
    "# bring in mutiples of 7 using 9/10 ... starting or ending with 6 doesn't work\n",
    "series_7 = bring_in(7,9,10,sequence)\n",
    "[sequence.remove(i) for i in series_7]\n",
    "\n",
    "# bring in mutiples of 11 by using 8 at the end\n",
    "series_11 = bring_in(11,8,7,sequence)  # can have choose either 5 or 7 at the end\n",
    "[sequence.remove(i) for i in series_11]\n",
    "\n",
    "# find the longest path between 10 and 8 in the rest\n",
    "rest= longest_simple_path(sequence,10,8)\n",
    "[sequence.remove(i) for i in rest]\n",
    "last_few = []\n",
    "[sequence.remove(i) for i in last_few]\n",
    "\n",
    "print(\"\\nFinal Sequence\")\n",
    "print(\"~~~~~~~~~~~~~~\")\n",
    "final_sequence = prime_ordered+link_1+series_13+link_2+series_7+rest+series_11\n",
    "print(final_sequence)\n",
    "print(\"Length is {}\".format(len(set(final_sequence))))\n",
    "\n",
    "print(left(final_sequence,give_up))\n",
    "\n",
    "print(\"\\nELEMENTS\")\n",
    "print(prime_ordered)\n",
    "print(link_1)\n",
    "print(series_13)\n",
    "print(link_2)\n",
    "print(series_7)\n",
    "print(rest)\n",
    "print(series_11)\n"
   ]
  },
  {
   "cell_type": "code",
   "execution_count": 16,
   "id": "6c1e7873",
   "metadata": {},
   "outputs": [
    {
     "name": "stdout",
     "output_type": "stream",
     "text": [
      "[39, 51, 77, 91, 95]\n",
      "[51, 55, 57, 65, 77]\n"
     ]
    }
   ],
   "source": [
    "soln1 = [62, 31, 93, 1, 87, 29, 58, 2, 46, 92, 23, 69, 3, 57, 19, 38, 76, 4, 68, 34, 17, 85, 5, 65, 13, 52, 26, 78, 6, 36, 18, 54, 27, 81, 9, 63, 21, 42, 84, 28, 56, 14, 98, 49, 7, 35, 70, 10, 40, 80, 20, 100, 50, 25, 75, 15, 45, 90, 30, 60, 12, 72, 24, 48, 16, 96, 32, 64, 8, 88, 44, 22, 66, 33, 99, 11, 55]\n",
    "soln2 = [69, 23, 46, 92, 4, 76, 38, 19, 95, 5, 85, 17, 68, 34, 2, 62, 31, 93, 3, 87, 29, 58, 1, 49, 98, 14, 56, 28, 84, 42, 21, 63, 9, 81, 27, 54, 18, 72, 36, 12, 6, 66, 33, 99, 11, 22, 44, 88, 8, 24, 48, 96, 32, 64, 16, 80, 40, 20, 60, 30, 90, 45, 15, 75, 25, 100, 50, 10, 70, 35, 7, 91, 13, 39, 78, 26, 52]\n",
    "print(left(soln1,give_up))\n",
    "print(left(soln2,give_up))"
   ]
  },
  {
   "cell_type": "code",
   "execution_count": 6,
   "id": "87896c31",
   "metadata": {},
   "outputs": [
    {
     "data": {
      "text/markdown": [
       "### July 2014 : Solution\n",
       "\n",
       "Tough, open-ended puzzle this month! Many came close, but we received 7\n",
       "submissions with chains of length 77, which is also the longest we could find.\n",
       "Congratulations to Alexander Chappell, one of the 7, and this month’s randomly\n",
       "chosen winner of a Jane Street t-shirt! His submission was: 69 23 46 92 4 76 38\n",
       "19 95 5 85 17 68 34 2 62 31 93 3 87 29 58 1 49 98 14 56 28 84 42 21 63 9 81 27\n",
       "54 18 72 36 12 6 66 33 99 11 22 44 88 8 24 48 96 32 64 16 80 40 20 60 30 90 45\n",
       "15 75 25 100 50 10 70 35 7 91 13 39 78 26 52"
      ],
      "text/plain": [
       "<IPython.core.display.Markdown object>"
      ]
     },
     "metadata": {},
     "output_type": "display_data"
    }
   ],
   "source": [
    "url='https://www.janestreet.com/puzzles/chain-reaction-solution/'\n",
    "res = requests.get(url)\n",
    "soup = BeautifulSoup(res.content, 'html.parser')\n",
    "y =[text for text in soup.body.stripped_strings]\n",
    "#display([(i,j) for i,j in enumerate(y)])\n",
    "display(Markdown(\"### \"+y[8]+\"\\n\\n\"+str(\"\\n\".join(y[10:11]))))"
   ]
  },
  {
   "cell_type": "code",
   "execution_count": 31,
   "id": "7958314a",
   "metadata": {},
   "outputs": [
    {
     "name": "stdout",
     "output_type": "stream",
     "text": [
      "Adding 13 uses 5 of the 7 available. Start: 65 End: 78\n",
      "5 6\n",
      "Adding 13 uses 3 of the 7 available. Start: 65 End: 91\n",
      "5 7\n",
      "Adding 13 uses 5 of the 7 available. Start: 78 End: 91\n",
      "6 7\n"
     ]
    }
   ],
   "source": [
    "n = 13\n",
    "x = 100//n\n",
    "\n",
    "sequence = [*range(1,101)]\n",
    "for i in range(5,x+1):\n",
    "    for j in range(i+1,x+1):\n",
    "        bring_in(n,i,j,sequence)\n",
    "        print(i,j)"
   ]
  },
  {
   "cell_type": "code",
   "execution_count": 32,
   "id": "1f5ca0ab",
   "metadata": {},
   "outputs": [
    {
     "name": "stdout",
     "output_type": "stream",
     "text": [
      "Adding 11 uses 6 of the 9 available. Start: 55 End: 66\n",
      "5 6\n",
      "Adding 11 uses 3 of the 9 available. Start: 55 End: 77\n",
      "5 7\n",
      "Adding 11 uses 8 of the 9 available. Start: 55 End: 88\n",
      "5 8\n",
      "Adding 11 uses 8 of the 9 available. Start: 55 End: 99\n",
      "5 9\n",
      "Adding 11 uses 6 of the 9 available. Start: 66 End: 77\n",
      "6 7\n",
      "Adding 11 uses 7 of the 9 available. Start: 66 End: 88\n",
      "6 8\n",
      "Adding 11 uses 7 of the 9 available. Start: 66 End: 99\n",
      "6 9\n",
      "Adding 11 uses 8 of the 9 available. Start: 77 End: 88\n",
      "7 8\n",
      "Adding 11 uses 8 of the 9 available. Start: 77 End: 99\n",
      "7 9\n",
      "Adding 11 uses 7 of the 9 available. Start: 88 End: 99\n",
      "8 9\n"
     ]
    }
   ],
   "source": [
    "n = 11\n",
    "x = 100//n\n",
    "\n",
    "sequence = [*range(1,101)]\n",
    "for i in range(5,x+1):\n",
    "    for j in range(i+1,x+1):\n",
    "        bring_in(n,i,j,sequence)\n",
    "        print(i,j)"
   ]
  },
  {
   "cell_type": "code",
   "execution_count": 33,
   "id": "2149e48b",
   "metadata": {},
   "outputs": [
    {
     "name": "stdout",
     "output_type": "stream",
     "text": [
      "Adding 7 uses 11 of the 14 available. Start: 35 End: 42\n",
      "5 6\n",
      "Adding 7 uses 12 of the 14 available. Start: 35 End: 49\n",
      "5 7\n",
      "Adding 7 uses 12 of the 14 available. Start: 35 End: 56\n",
      "5 8\n",
      "Adding 7 uses 12 of the 14 available. Start: 35 End: 63\n",
      "5 9\n",
      "Adding 7 uses 10 of the 14 available. Start: 35 End: 70\n",
      "5 10\n",
      "Adding 7 uses 11 of the 14 available. Start: 35 End: 77\n",
      "5 11\n",
      "Adding 7 uses 10 of the 14 available. Start: 35 End: 84\n",
      "5 12\n",
      "Adding 7 uses 11 of the 14 available. Start: 35 End: 91\n",
      "5 13\n",
      "Adding 7 uses 12 of the 14 available. Start: 35 End: 98\n",
      "5 14\n",
      "Adding 7 uses 11 of the 14 available. Start: 42 End: 49\n",
      "6 7\n",
      "Adding 7 uses 10 of the 14 available. Start: 42 End: 56\n",
      "6 8\n",
      "Adding 7 uses 10 of the 14 available. Start: 42 End: 63\n",
      "6 9\n",
      "Adding 7 uses 11 of the 14 available. Start: 42 End: 70\n",
      "6 10\n",
      "Adding 7 uses 10 of the 14 available. Start: 42 End: 77\n",
      "6 11\n",
      "Adding 7 uses 10 of the 14 available. Start: 42 End: 84\n",
      "6 12\n",
      "Adding 7 uses 10 of the 14 available. Start: 42 End: 91\n",
      "6 13\n",
      "Adding 7 uses 11 of the 14 available. Start: 42 End: 98\n",
      "6 14\n",
      "Adding 7 uses 12 of the 14 available. Start: 49 End: 56\n",
      "7 8\n",
      "Adding 7 uses 12 of the 14 available. Start: 49 End: 63\n",
      "7 9\n",
      "Adding 7 uses 12 of the 14 available. Start: 49 End: 70\n",
      "7 10\n",
      "Adding 7 uses 11 of the 14 available. Start: 49 End: 77\n",
      "7 11\n",
      "Adding 7 uses 10 of the 14 available. Start: 49 End: 84\n",
      "7 12\n",
      "Adding 7 uses 11 of the 14 available. Start: 49 End: 91\n",
      "7 13\n",
      "Adding 7 uses 10 of the 14 available. Start: 49 End: 98\n",
      "7 14\n",
      "Adding 7 uses 10 of the 14 available. Start: 56 End: 63\n",
      "8 9\n",
      "Adding 7 uses 11 of the 14 available. Start: 56 End: 70\n",
      "8 10\n",
      "Adding 7 uses 10 of the 14 available. Start: 56 End: 77\n",
      "8 11\n",
      "Adding 7 uses 10 of the 14 available. Start: 56 End: 84\n",
      "8 12\n",
      "Adding 7 uses 10 of the 14 available. Start: 56 End: 91\n",
      "8 13\n",
      "Adding 7 uses 11 of the 14 available. Start: 56 End: 98\n",
      "8 14\n",
      "Adding 7 uses 12 of the 14 available. Start: 63 End: 70\n",
      "9 10\n",
      "Adding 7 uses 11 of the 14 available. Start: 63 End: 77\n",
      "9 11\n",
      "Adding 7 uses 10 of the 14 available. Start: 63 End: 84\n",
      "9 12\n",
      "Adding 7 uses 11 of the 14 available. Start: 63 End: 91\n",
      "9 13\n",
      "Adding 7 uses 12 of the 14 available. Start: 63 End: 98\n",
      "9 14\n",
      "Adding 7 uses 10 of the 14 available. Start: 70 End: 77\n",
      "10 11\n",
      "Adding 7 uses 10 of the 14 available. Start: 70 End: 84\n",
      "10 12\n",
      "Adding 7 uses 10 of the 14 available. Start: 70 End: 91\n",
      "10 13\n",
      "Adding 7 uses 11 of the 14 available. Start: 70 End: 98\n",
      "10 14\n",
      "Adding 7 uses 9 of the 14 available. Start: 77 End: 84\n",
      "11 12\n",
      "Adding 7 uses 3 of the 14 available. Start: 77 End: 91\n",
      "11 13\n",
      "Adding 7 uses 10 of the 14 available. Start: 77 End: 98\n",
      "11 14\n",
      "Adding 7 uses 9 of the 14 available. Start: 84 End: 91\n",
      "12 13\n",
      "Adding 7 uses 10 of the 14 available. Start: 84 End: 98\n",
      "12 14\n",
      "Adding 7 uses 10 of the 14 available. Start: 91 End: 98\n",
      "13 14\n"
     ]
    }
   ],
   "source": [
    "n = 7\n",
    "x = 100//n\n",
    "\n",
    "sequence = [*range(1,101)]\n",
    "for i in range(5,x+1):\n",
    "    for j in range(i+1,x+1):\n",
    "        bring_in(n,i,j,sequence)\n",
    "        print(i,j)"
   ]
  },
  {
   "cell_type": "code",
   "execution_count": null,
   "id": "7679fe04",
   "metadata": {},
   "outputs": [],
   "source": []
  }
 ],
 "metadata": {
  "kernelspec": {
   "display_name": "Python 3",
   "language": "python",
   "name": "python3"
  },
  "language_info": {
   "codemirror_mode": {
    "name": "ipython",
    "version": 3
   },
   "file_extension": ".py",
   "mimetype": "text/x-python",
   "name": "python",
   "nbconvert_exporter": "python",
   "pygments_lexer": "ipython3",
   "version": "3.7.10"
  }
 },
 "nbformat": 4,
 "nbformat_minor": 5
}
