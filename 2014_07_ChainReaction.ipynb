{
 "cells": [
  {
   "cell_type": "code",
   "execution_count": 17,
   "id": "1f2b7880",
   "metadata": {},
   "outputs": [],
   "source": [
    "import networkx as nx\n",
    "from typing import List\n",
    "import math\n",
    "import random\n",
    "import time\n",
    "import sympy\n",
    "import matplotlib.pyplot as plt\n",
    "\n",
    "import requests\n",
    "from bs4 import BeautifulSoup\n",
    "from IPython.display import Markdown, display\n",
    "\n",
    "# Really interesting puzzle and plenty of info online\n",
    "# mostly as it was used as an NRICH puzzle\n",
    "# https://nrich.maths.org/factorsandmultiples\n",
    "# A few resources below \n",
    "#\n",
    "# https://theorie.ikp.physik.tu-darmstadt.de/qcd/numchain.pdf\n",
    "# https://math.dartmouth.edu/~carlp/divisorgraph.pdf\n",
    "# https://arxiv.org/pdf/1807.07783.pdf\n",
    "# http://www.m-hikari.com/imf-2010/37-40-2010/aladdasiIMF37-40-2010.pdf\n",
    "    "
   ]
  },
  {
   "cell_type": "code",
   "execution_count": 2,
   "id": "0a5cb9d4",
   "metadata": {},
   "outputs": [
    {
     "data": {
      "text/markdown": [
       "### July 2014 : Puzzle\n",
       "\n",
       "Write down a chain of integers between 1 and 100, with no repetition, such that\n",
       "if x and y are consecutive numbers in the chain, then x evenly divides y or y\n",
       "evenly divides x. Here is an example of such a chain, with length 12:\n",
       "37, 74, 2, 8, 4, 16, 48, 6, 3, 9, 27, 81\n",
       "What is the longest chain you can find?"
      ],
      "text/plain": [
       "<IPython.core.display.Markdown object>"
      ]
     },
     "metadata": {},
     "output_type": "display_data"
    }
   ],
   "source": [
    "url='https://www.janestreet.com/puzzles/chain-reaction-index/'\n",
    "res = requests.get(url)\n",
    "soup = BeautifulSoup(res.content, 'html.parser')\n",
    "y =[text for text in soup.body.stripped_strings]\n",
    "#display([(i,j) for i,j in enumerate(y)])\n",
    "display(Markdown(\"### \"+y[8]+\"\\n\\n\"+str(\"\\n\".join(y[10:13]))))"
   ]
  },
  {
   "cell_type": "code",
   "execution_count": 3,
   "id": "5f87080a",
   "metadata": {},
   "outputs": [
    {
     "name": "stdout",
     "output_type": "stream",
     "text": [
      "[2, 3, 5, 7, 11, 13, 17, 19, 23, 29, 31, 37, 41, 43, 47, 53, 59, 61, 67, 71, 73, 79, 83, 89, 97]\n"
     ]
    }
   ],
   "source": [
    "primes = list(sympy.primerange(0, 100))\n",
    "\n",
    "# Question is to find the longest simple path on the divisor graph of the integers up to 100\n",
    "\n",
    "def longest_simple_path(numbs,a = 0,b = 0 ):\n",
    "    g = nx.Graph()\n",
    "    if a == 0:\n",
    "        a = numbs[0]\n",
    "    if b == 0:\n",
    "        b = numbs[-1]\n",
    "    numbs.sort()\n",
    "    #print(numbs,a,b)\n",
    "    \n",
    "    for i in range(len(numbs)):\n",
    "        for j in range(i+1,len(numbs)):\n",
    "            if numbs[j] % numbs[i] == 0:\n",
    "                g.add_edge(numbs[i],numbs[j])\n",
    "    \n",
    "    longest_paths = []\n",
    "    longest_path_length = 0\n",
    "    for path in nx.all_simple_paths(g,a,b):\n",
    "        if len(path) > longest_path_length:\n",
    "            #print(\"longest is now\",len(path),end=\" \")\n",
    "            longest_path_length = len(path)\n",
    "            longest_paths.clear()\n",
    "            longest_paths.append(path)\n",
    "        if len(path) > 32:\n",
    "            break\n",
    "    return longest_paths[0]\n",
    "           \n",
    "def bring_in(n,a,b,sequence):\n",
    "    raw = [i*n for i in range(1,50) if i*n <101 and i*n in sequence]\n",
    "    series = longest_simple_path(raw,n*a,n*b)\n",
    "    print(\"Adding {} uses {} of the {} available. Start: {} End: {}\".format(n,len(series),len(raw),series[0],series[-1]))\n",
    "    return series\n",
    "\n",
    "def left(x,give_up):\n",
    "    sequence = [*range(1,101)]\n",
    "    [sequence.remove(i) for i in give_up]\n",
    "    [sequence.remove(i) for i in x]\n",
    "    for i in range(1,len(x)):\n",
    "        if (x[i] % x[i-1] !=0) & (x[i-1] % x[i] !=0):\n",
    "            print(\"FAIL\",x[i], x[i-1])\n",
    "    return sequence\n",
    "    \n",
    "print(primes)"
   ]
  },
  {
   "cell_type": "code",
   "execution_count": 4,
   "id": "3822bbd2",
   "metadata": {},
   "outputs": [
    {
     "name": "stdout",
     "output_type": "stream",
     "text": [
      "After removing large primes there are 82 left\n",
      "The are 22 in the prime sequence \n",
      "The longest sequence is 21 long\n",
      "Adding 13 uses 5 of the 7 available. Start: 65 End: 78\n",
      "Adding 7 uses 12 of the 14 available. Start: 63 End: 70\n",
      "Adding 11 uses 8 of the 9 available. Start: 88 End: 77\n",
      "\n",
      "Final Sequence\n",
      "~~~~~~~~~~~~~~\n",
      "[62, 31, 93, 1, 57, 19, 38, 76, 2, 58, 29, 87, 3, 69, 23, 46, 92, 4, 68, 34, 17, 85, 5, 65, 13, 52, 26, 78, 6, 36, 18, 54, 27, 81, 9, 63, 21, 42, 84, 28, 56, 14, 98, 49, 7, 35, 70, 10, 20, 100, 50, 25, 75, 15, 45, 90, 30, 60, 12, 72, 24, 48, 96, 32, 64, 16, 80, 40, 8, 88, 44, 22, 66, 33, 99, 11, 77]\n",
      "Length is 77\n",
      "[39, 51, 55, 91, 95]\n",
      "\n",
      "ELEMENTS\n",
      "[62, 31, 93, 1, 57, 19, 38, 76, 2, 58, 29, 87, 3, 69, 23, 46, 92, 4, 68, 34, 17]\n",
      "[85, 5]\n",
      "[65, 13, 52, 26, 78]\n",
      "[6, 36, 18, 54, 27, 81, 9]\n",
      "[63, 21, 42, 84, 28, 56, 14, 98, 49, 7, 35, 70]\n",
      "[10, 20, 100, 50, 25, 75, 15, 45, 90, 30, 60, 12, 72, 24, 48, 96, 32, 64, 16, 80, 40, 8]\n",
      "[88, 44, 22, 66, 33, 99, 11, 77]\n"
     ]
    }
   ],
   "source": [
    "# start with the list of integers\n",
    "sequence = [*range(1,101)]\n",
    "\n",
    "# give up on primes 37+ \n",
    "give_up = [37, 74, 41, 82, 43, 86, 47, 94, 53, 59, 61, 67, 71, 73, 79, 83, 89, 97]\n",
    "[sequence.remove(i) for i in give_up]\n",
    "\n",
    "print(\"After removing large primes there are {} left\".format(len(sequence)))\n",
    "\n",
    "# for primes above 13 [17,19,23,29,31] use up  4,3,2,1 to capture as many as possible\n",
    "prime_series =[i*j for i in [1,17,19,23,29,31] for j in [1,2,3,4] if i*j < 101]\n",
    "prime_ordered = longest_simple_path(prime_series,31*2,17)\n",
    "[sequence.remove(i) for i in prime_ordered]\n",
    "\n",
    "print(\"The are {} in the prime sequence \".format(len(prime_series)))\n",
    "print(\"The longest sequence is {} long\".format(len(prime_ordered)))\n",
    "\n",
    "# bring in mutiples of 13 using 5 to link to 17 and use 6 at the end to maximse (choice between linking in with 5 or 7)\n",
    "link_1 =[17*5,5]\n",
    "[sequence.remove(i) for i in link_1]\n",
    "series_13 = bring_in(13,5,6,sequence)\n",
    "[sequence.remove(i) for i in series_13]\n",
    "\n",
    "#link between 6 and 9\n",
    "link_2=[6, 36, 18, 54, 27, 81, 9]\n",
    "[sequence.remove(i) for i in link_2]\n",
    "\n",
    "# bring in mutiples of 7 using 9/10\n",
    "series_7 = bring_in(7,9,10,sequence)\n",
    "[sequence.remove(i) for i in series_7]\n",
    "\n",
    "# bring in mutiples of 11 by using 8 at the end\n",
    "series_11 = bring_in(11,8,7,sequence)  # can have choose either 5 or 7 at the end\n",
    "[sequence.remove(i) for i in series_11]\n",
    "\n",
    "# find the longest path between 10 and 8 in the rest\n",
    "rest= longest_simple_path(sequence,10,8)\n",
    "[sequence.remove(i) for i in rest]\n",
    "last_few = []\n",
    "[sequence.remove(i) for i in last_few]\n",
    "\n",
    "print(\"\\nFinal Sequence\")\n",
    "print(\"~~~~~~~~~~~~~~\")\n",
    "final_sequence = prime_ordered+link_1+series_13+link_2+series_7+rest+series_11\n",
    "print(final_sequence)\n",
    "print(\"Length is {}\".format(len(set(final_sequence))))\n",
    "\n",
    "print(left(final_sequence,give_up))\n",
    "\n",
    "print(\"\\nELEMENTS\")\n",
    "print(prime_ordered)\n",
    "print(link_1)\n",
    "print(series_13)\n",
    "print(link_2)\n",
    "print(series_7)\n",
    "print(rest)\n",
    "print(series_11)\n"
   ]
  },
  {
   "cell_type": "code",
   "execution_count": 8,
   "id": "4f18ba58",
   "metadata": {},
   "outputs": [
    {
     "name": "stdout",
     "output_type": "stream",
     "text": [
      "[51, 55, 57, 65, 77]\n",
      "[39, 51, 77, 91, 95]\n"
     ]
    }
   ],
   "source": [
    "soln1 = [62, 31, 93, 1, 87, 29, 58, 2, 46, 92, 23, 69, 3, 57, 19, 38, 76, 4, 68, 34, 17, 85, 5, 65, 13, 52, 26, 78, 6, 36, 18, 54, 27, 81, 9, 63, 21, 42, 84, 28, 56, 14, 98, 49, 7, 35, 70, 10, 40, 80, 20, 100, 50, 25, 75, 15, 45, 90, 30, 60, 12, 72, 24, 48, 16, 96, 32, 64, 8, 88, 44, 22, 66, 33, 99, 11, 55]\n",
    "soln2 = [69, 23, 46, 92, 4, 76, 38, 19, 95, 5, 85, 17, 68, 34, 2, 62, 31, 93, 3, 87, 29, 58, 1, 49, 98, 14, 56, 28, 84, 42, 21, 63, 9, 81, 27, 54, 18, 72, 36, 12, 6, 66, 33, 99, 11, 22, 44, 88, 8, 24, 48, 96, 32, 64, 16, 80, 40, 20, 60, 30, 90, 45, 15, 75, 25, 100, 50, 10, 70, 35, 7, 91, 13, 39, 78, 26, 52]\n",
    "print(left(soln2,give_up))\n",
    "print(left(soln1,give_up))"
   ]
  },
  {
   "cell_type": "code",
   "execution_count": 7,
   "id": "32bb6ad1",
   "metadata": {},
   "outputs": [
    {
     "data": {
      "text/markdown": [
       "### July 2014 : Solution\n",
       "\n",
       "Tough, open-ended puzzle this month! Many came close, but we received 7\n",
       "submissions with chains of length 77, which is also the longest we could find.\n",
       "Congratulations to Alexander Chappell, one of the 7, and this month’s randomly\n",
       "chosen winner of a Jane Street t-shirt! His submission was: 69 23 46 92 4 76 38\n",
       "19 95 5 85 17 68 34 2 62 31 93 3 87 29 58 1 49 98 14 56 28 84 42 21 63 9 81 27\n",
       "54 18 72 36 12 6 66 33 99 11 22 44 88 8 24 48 96 32 64 16 80 40 20 60 30 90 45\n",
       "15 75 25 100 50 10 70 35 7 91 13 39 78 26 52"
      ],
      "text/plain": [
       "<IPython.core.display.Markdown object>"
      ]
     },
     "metadata": {},
     "output_type": "display_data"
    }
   ],
   "source": [
    "url='https://www.janestreet.com/puzzles/chain-reaction-solution/'\n",
    "res = requests.get(url)\n",
    "soup = BeautifulSoup(res.content, 'html.parser')\n",
    "y =[text for text in soup.body.stripped_strings]\n",
    "#display([(i,j) for i,j in enumerate(y)])\n",
    "display(Markdown(\"### \"+y[8]+\"\\n\\n\"+str(\"\\n\".join(y[10:11]))))"
   ]
  },
  {
   "cell_type": "code",
   "execution_count": null,
   "id": "ed55494b",
   "metadata": {},
   "outputs": [],
   "source": []
  }
 ],
 "metadata": {
  "kernelspec": {
   "display_name": "Python 3",
   "language": "python",
   "name": "python3"
  },
  "language_info": {
   "codemirror_mode": {
    "name": "ipython",
    "version": 3
   },
   "file_extension": ".py",
   "mimetype": "text/x-python",
   "name": "python",
   "nbconvert_exporter": "python",
   "pygments_lexer": "ipython3",
   "version": "3.7.10"
  }
 },
 "nbformat": 4,
 "nbformat_minor": 5
}
