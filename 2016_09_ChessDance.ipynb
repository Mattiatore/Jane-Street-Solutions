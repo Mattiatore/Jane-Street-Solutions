{
 "cells": [
  {
   "cell_type": "code",
   "execution_count": 3,
   "metadata": {
    "id": "Oq1xibzMT1Wl"
   },
   "outputs": [],
   "source": [
    "import pandas as pd\n",
    "import numpy as np\n",
    "import time\n",
    "import seaborn as sns\n",
    "from matplotlib.colors import ListedColormap\n",
    "import matplotlib.pyplot as plt\n",
    "import requests\n",
    "from bs4 import BeautifulSoup\n",
    "import itertools\n",
    "from copy import deepcopy as dcopy,copy\n",
    "\n",
    "from z3 import *\n",
    "from IPython.display import Markdown, display"
   ]
  },
  {
   "cell_type": "code",
   "execution_count": 4,
   "metadata": {
    "id": "ICTfvjZUT1Wr"
   },
   "outputs": [
    {
     "data": {
      "text/markdown": [
       "**Chess Dance**\n",
       "\n",
       "Five chess pieces are placed on a chessboard:  a Q ueen, K ing, R ook, B ishop, and k N ight, as shown. They all move simultaneously, and finish at squares that we’ll label Q1, K1, B1, R1, and N1.  They continue moving, and no square is ever visited more than once, for a total of 8 moves .  (So in total, 45 squares will be labeled:  Q0 through Q8, K0 through K8, etc.) Pieces move according to the same rules as chess (e.g. a Rook can move anywhere along its row or column).  After each move, no piece is allowed to be under attack from any other piece. The numbers along the rows and columns presented here are the products of the non-zero numbers that were visible after only 7 moves After all 8 moves are finished, the 8 row products and the 8 column products are recalculated (non-zero numbers only). The answer to this month’s puzzle is the largest possible sum for these 16 products."
      ],
      "text/plain": [
       "<IPython.core.display.Markdown object>"
      ]
     },
     "metadata": {},
     "output_type": "display_data"
    }
   ],
   "source": [
    "url='https://www.janestreet.com/puzzles/chess-dance/'\n",
    "res = requests.get(url)\n",
    "soup = BeautifulSoup(res.content, 'html.parser')\n",
    "y =[text for text in soup.body.stripped_strings]\n",
    "\n",
    "display(Markdown(\"**\"+y[6]+\"**\\n\\n\"+str(\" \".join(y[7:26]))))"
   ]
  },
  {
   "cell_type": "markdown",
   "metadata": {
    "id": "844RhDFpT1Wu"
   },
   "source": [
    "<img src=\"https://www.janestreet.com/puzzles/wp-content/uploads/2016/09/sep16_puzzle.png\" width=350>"
   ]
  },
  {
   "cell_type": "code",
   "execution_count": 5,
   "metadata": {
    "id": "844RhDFpT1Wu"
   },
   "outputs": [],
   "source": [
    "col_tot = [2744,36,375,336,108,240,20,504]\n",
    "row_tot = [7,1890,8,10080,20,840,144,1260]"
   ]
  },
  {
   "cell_type": "code",
   "execution_count": 11,
   "metadata": {
    "id": "844RhDFpT1Wu"
   },
   "outputs": [
    {
     "name": "stdout",
     "output_type": "stream",
     "text": [
      "Solved in 559.27 seconds\n",
      "The sum of products is 62,943\n",
      "\n"
     ]
    },
    {
     "data": {
      "image/png": "[encoded data removed]",
      "text/plain": [
       "<Figure size 324x324 with 1 Axes>"
      ]
     },
     "metadata": {
      "needs_background": "light"
     },
     "output_type": "display_data"
    }
   ],
   "source": [
    "start = time.time()\n",
    "s = Optimize()\n",
    "\n",
    "#set up the variables\n",
    "Q = [Int(\"Q_%s\" % (i+1)) for i in range(9) ]\n",
    "K = [Int(\"K_%s\" % (i+1)) for i in range(9) ]\n",
    "R = [Int(\"R_%s\" % (i+1)) for i in range(9) ]\n",
    "N = [Int(\"N_%s\" % (i+1)) for i in range(9) ]\n",
    "B = [Int(\"B_%s\" % (i+1)) for i in range(9) ]\n",
    "\n",
    "# add the objective\n",
    "s.maximize(Sum([Product([If(i % 8==x,y,1) for y in range(1,9) for i in [Q[y],K[y],R[y],N[y],B[y]]]) +\n",
    "               Product([If(i / 8==x,y,1) for y in range(1,9) for i in [Q[y],K[y],R[y],N[y],B[y]]])\n",
    "               for x in range(8)]))\n",
    "\n",
    "#fixed\n",
    "s += Q[0] == 8\n",
    "s += Q[8] == 49 #doesn't seem to like putting this in the optimum spot !\n",
    "s += K[0] == 57\n",
    "s += R[0] == 36\n",
    "s += N[0] == 6\n",
    "s += B[0] == 55\n",
    "\n",
    "#distinct placements on the board \n",
    "pieces = Q+K+R+N+B\n",
    " \n",
    "s += Distinct([i for i in pieces])\n",
    "s += [And(i>-1,i<64) for i in pieces]\n",
    "\n",
    "# valid moves\n",
    "a = [(i,j) for i,j in itertools.product((1, -1),(2,-2))]\n",
    "n_moves = [f(i,j) for i,j in itertools.product([1, -1],[2,-2]) for f in [lambda i,j:(i,j),lambda i,j:(j,i)]]\n",
    "r_moves = [f(i) for i in range(1,8) for f in [lambda x:(x,0),lambda x:(0,x),lambda x:(0,-x),lambda x:(-x,0)]]\n",
    "k_moves = [(i,j) for (i,j) in itertools.product([-1,0,1],[-1,0,1]) if (i,j) != (0,0)]\n",
    "b_moves = [f(i) for i in range(1,8) for f in [lambda x:(x,x),lambda x:(-x,x),lambda x:(x,-x),lambda x:(-x,-x)]]\n",
    "q_moves = b_moves+r_moves\n",
    "\n",
    "s += [Or([And(Q[i]%8 - Q[i-1]%8 == x,Q[i]/8 - Q[i-1]/8 == y) for x,y in q_moves]) for i in range(1,9)]\n",
    "s += [Or([And(K[i]%8 - K[i-1]%8 == x,K[i]/8 - K[i-1]/8 == y) for x,y in k_moves]) for i in range(1,9)]\n",
    "s += [Or([And(R[i]%8 - R[i-1]%8 == x,R[i]/8 - R[i-1]/8 == y) for x,y in r_moves]) for i in range(1,9)]\n",
    "s += [Or([And(N[i]%8 - N[i-1]%8 == x,N[i]/8 - N[i-1]/8 == y) for x,y in n_moves]) for i in range(1,9)]\n",
    "s += [Or([And(B[i]%8 - B[i-1]%8 == x,B[i]/8 - B[i-1]/8 == y) for x,y in b_moves]) for i in range(1,9)]\n",
    "\n",
    "# not under attack\n",
    "s += [And([Not(And(K[i]%8 - Q[i]%8 == x,K[i]/8 - Q[i]/8 == y)) for x,y in q_moves]) for i in range(1,9)]\n",
    "s += [And([Not(And(R[i]%8 - Q[i]%8 == x,R[i]/8 - Q[i]/8 == y)) for x,y in q_moves]) for i in range(1,9)]\n",
    "s += [And([Not(And(N[i]%8 - Q[i]%8 == x,N[i]/8 - Q[i]/8 == y)) for x,y in q_moves]) for i in range(1,9)]\n",
    "s += [And([Not(And(B[i]%8 - Q[i]%8 == x,B[i]/8 - Q[i]/8 == y)) for x,y in q_moves]) for i in range(1,9)]\n",
    "\n",
    "s += [And([Not(And(Q[i]%8 - K[i]%8 == x,Q[i]/8 - K[i]/8 == y)) for x,y in k_moves]) for i in range(1,9)]\n",
    "s += [And([Not(And(R[i]%8 - K[i]%8 == x,R[i]/8 - K[i]/8 == y)) for x,y in k_moves]) for i in range(1,9)]\n",
    "s += [And([Not(And(N[i]%8 - K[i]%8 == x,N[i]/8 - K[i]/8 == y)) for x,y in k_moves]) for i in range(1,9)]\n",
    "s += [And([Not(And(B[i]%8 - K[i]%8 == x,B[i]/8 - K[i]/8 == y)) for x,y in k_moves]) for i in range(1,9)]\n",
    "\n",
    "s += [And([Not(And(Q[i]%8 - R[i]%8 == x,Q[i]/8 - R[i]/8 == y)) for x,y in r_moves]) for i in range(1,9)]\n",
    "s += [And([Not(And(K[i]%8 - R[i]%8 == x,K[i]/8 - R[i]/8 == y)) for x,y in r_moves]) for i in range(1,9)]\n",
    "s += [And([Not(And(N[i]%8 - R[i]%8 == x,N[i]/8 - R[i]/8 == y)) for x,y in r_moves]) for i in range(1,9)]\n",
    "s += [And([Not(And(B[i]%8 - R[i]%8 == x,B[i]/8 - R[i]/8 == y)) for x,y in r_moves]) for i in range(1,9)]\n",
    "\n",
    "s += [And([Not(And(Q[i]%8 - N[i]%8 == x,Q[i]/8 - N[i]/8 == y)) for x,y in n_moves]) for i in range(1,9)]\n",
    "s += [And([Not(And(K[i]%8 - N[i]%8 == x,K[i]/8 - N[i]/8 == y)) for x,y in n_moves]) for i in range(1,9)]\n",
    "s += [And([Not(And(R[i]%8 - N[i]%8 == x,R[i]/8 - N[i]/8 == y)) for x,y in n_moves]) for i in range(1,9)]\n",
    "s += [And([Not(And(B[i]%8 - N[i]%8 == x,B[i]/8 - N[i]/8 == y)) for x,y in n_moves]) for i in range(1,9)]\n",
    "\n",
    "s += [And([Not(And(Q[i]%8 - B[i]%8 == x,Q[i]/8 - B[i]/8 == y)) for x,y in b_moves]) for i in range(1,9)]\n",
    "s += [And([Not(And(K[i]%8 - B[i]%8 == x,K[i]/8 - B[i]/8 == y)) for x,y in b_moves]) for i in range(1,9)]\n",
    "s += [And([Not(And(R[i]%8 - B[i]%8 == x,R[i]/8 - B[i]/8 == y)) for x,y in b_moves]) for i in range(1,9)]\n",
    "s += [And([Not(And(N[i]%8 - B[i]%8 == x,N[i]/8 - B[i]/8 == y)) for x,y in b_moves]) for i in range(1,9)]\n",
    "\n",
    "# row_col sums\n",
    "for x in range(8):\n",
    "    s += row_tot[x] == Product([If(i % 8==x,y,1) for y in range(1,8) for i in [Q[y],K[y],R[y],N[y],B[y]]])\n",
    "    s += col_tot[x] == Product([If(i / 8==x,y,1) for y in range(1,8) for i in [Q[y],K[y],R[y],N[y],B[y]]])\n",
    "\n",
    "\n",
    "# cut down the search space by looking at divisors of the totals\n",
    "for n in range(1,8):\n",
    "    poss = [i*8+j for i in range(8) for j in range(8) if (col_tot[i] % n ==0) and (row_tot[j] % n ==0) ]\n",
    "    s += Or([Q[n]== p for p in poss])\n",
    "    s += Or([K[n]== p for p in poss])\n",
    "    s += Or([R[n]== p for p in poss])\n",
    "    s += Or([N[n]== p for p in poss])\n",
    "    s += Or([B[n]== p for p in poss])\n",
    "\n",
    "if s.check() == sat:\n",
    "    m = s.model()\n",
    "    q = [m.evaluate(Q[i]).as_long() for i in range(9)]\n",
    "    k = [m.evaluate(K[i]).as_long() for i in range(9)]\n",
    "    r = [m.evaluate(R[i]).as_long() for i in range(9)]\n",
    "    n = [m.evaluate(N[i]).as_long() for i in range(9)]\n",
    "    b = [m.evaluate(B[i]).as_long() for i in range(9)]\n",
    "    print(\"Solved in {:.2f} seconds\".format(time.time()-start))\n",
    "\n",
    "    board= [[\"\" for i in range(8)] for j in range(8)]\n",
    "    colours = np.zeros((8,8))\n",
    "    prod = np.zeros((8,8))\n",
    "    for i in range(9):\n",
    "        board[q[i] % 8][q[i] // 8] = \"Q%s\"% i\n",
    "        board[k[i] % 8][k[i] // 8] = \"K%s\"% i        \n",
    "        board[r[i] % 8][r[i] // 8] = \"R%s\"% i        \n",
    "        board[n[i] % 8][n[i] // 8] = \"N%s\"% i        \n",
    "        board[b[i] % 8][b[i] // 8] = \"B%s\"% i        \n",
    "        colours[q[i] % 8][q[i] // 8] = 1\n",
    "        colours[k[i] % 8][k[i] // 8] = 2\n",
    "        colours[r[i] % 8][r[i] // 8] = 3\n",
    "        colours[n[i] % 8][n[i] // 8] = 4\n",
    "        colours[b[i] % 8][b[i] // 8] = 5\n",
    "        prod[q[i] % 8][q[i] // 8] = i\n",
    "        prod[k[i] % 8][k[i] // 8] = i\n",
    "        prod[r[i] % 8][r[i] // 8] = i\n",
    "        prod[n[i] % 8][n[i] // 8] = i\n",
    "        prod[b[i] % 8][b[i] // 8] = i    \n",
    "    \n",
    "    prod[prod==0] = 1\n",
    "    \n",
    "    soln = np.sum(np.product(prod,0))+np.sum(np.product(prod,1))\n",
    "    print(\"The sum of products is {:,.0f}\\n\".format(soln))\n",
    "        \n",
    "    fig,ax = plt.subplots(1,1,figsize=(4.5,4.5))    \n",
    "    ax =sns.heatmap(colours,annot=board,cbar=False,cmap=ListedColormap([\"w\",\"gold\",\"lime\",\"c\",\"r\",\"darkorange\"]),fmt=\"\",linewidths=1,linecolor=\"k\",annot_kws={\"size\":12,\"color\":\"k\"},alpha=.15,\n",
    "                    xticklabels=col_tot, yticklabels=row_tot)\n",
    "    ax.tick_params(left=False, bottom=False,labelleft=False, labelright=True)\n",
    "    plt.xticks(rotation=0,fontsize =10)\n",
    "    plt.yticks(rotation=0,fontsize =10)\n",
    "    plt.tight_layout()\n",
    "    plt.show()   \n",
    "else:\n",
    "    print(\"failed to solve\")  "
   ]
  },
  {
   "cell_type": "code",
   "execution_count": 14,
   "metadata": {},
   "outputs": [
    {
     "name": "stdout",
     "output_type": "stream",
     "text": [
      "Solution\n",
      "~~~~~~~~\n",
      "There’s quite a bit of logic to sift through with this month’s puzzle, but when the dust settles, this is the completed grid that maximizes the sum of the 16 products, which is 62,943 .   Congratulations to everyone who managed to crack this one! Correct Submissions:\n"
     ]
    }
   ],
   "source": [
    "url='https://www.janestreet.com/puzzles/solutions/september-2016-solution/'\n",
    "res = requests.get(url)\n",
    "soup = BeautifulSoup(res.content, 'html.parser')\n",
    "x =[text for text in soup.body.stripped_strings]\n",
    "\n",
    "print(\"Solution\")\n",
    "print(\"~~~~~~~~\")\n",
    "print(\" \".join(x[7:11]))"
   ]
  },
  {
   "cell_type": "markdown",
   "metadata": {},
   "source": [
    "<img src=\"https://www.janestreet.com/puzzles/sep16_solution.png\" width=450>"
   ]
  },
  {
   "cell_type": "code",
   "execution_count": 16,
   "metadata": {},
   "outputs": [
    {
     "data": {
      "image/png": "[encoded data removed]",
      "text/plain": [
       "<Figure size 288x288 with 1 Axes>"
      ]
     },
     "metadata": {
      "needs_background": "light"
     },
     "output_type": "display_data"
    },
    {
     "data": {
      "text/plain": [
       "[0, 1, 3, 5, 7, 24, 25, 27, 29, 31, 56, 57, 59, 61, 63]"
      ]
     },
     "execution_count": 16,
     "metadata": {},
     "output_type": "execute_result"
    }
   ],
   "source": [
    "n =7\n",
    "\n",
    "board= [[\"\" for i in range(8)] for j in range(8)]\n",
    "for i in range(64):\n",
    "    board[i % 8][i // 8] = i\n",
    "\n",
    "possible = np.array([[(col_tot[i] % n ==0) and (row_tot[j] % n ==0) for i in range(8)] for j in range(8)])\n",
    "\n",
    "\n",
    "fig,ax = plt.subplots(1,1,figsize=(4,4))    \n",
    "ax =sns.heatmap(possible,annot=board,cbar=False,cmap='Greys',fmt=\"\",linewidths=1,linecolor=\"k\",annot_kws={\"size\":12,\"color\":\"k\"},alpha=.15,\n",
    "                    xticklabels=col_tot, yticklabels=row_tot)\n",
    "ax.tick_params(left=False, bottom=False,labelleft=False, labelright=True)\n",
    "plt.xticks(rotation=0,fontsize =10)\n",
    "plt.yticks(rotation=0,fontsize =10)\n",
    "plt.tight_layout()\n",
    "plt.show()   \n",
    "\n",
    "[i*8+j for i in range(8) for j in range(8) if (col_tot[i] % n ==0) and (row_tot[j] % n ==0) ]"
   ]
  },
  {
   "cell_type": "code",
   "execution_count": null,
   "metadata": {},
   "outputs": [],
   "source": [
    "# using some of the solutions to test\n",
    "q_solve = [8,0,7,63,61,52,59,56,49]\n",
    "k_solve = [57,50,43,35,28,21,14,5,4]\n",
    "r_solve = [36,39,38,30,46,41,47,31,29]\n",
    "n_solve = [6,12,27,17,2,19,9,3,18]\n",
    "b_solve = [55,62,26,33,51,23,37,1,10]\n",
    "\n",
    "n=3\n",
    "s+= [Q[i] == q_solve[i] for i in range(n)]\n",
    "s+= [K[i] == k_solve[i] for i in range(n)]\n",
    "s+= [R[i] == r_solve[i] for i in range(n)]\n",
    "s+= [N[i] == n_solve[i] for i in range(n)]\n",
    "s+= [B[i] == b_solve[i] for i in range(n)]"
   ]
  },
  {
   "cell_type": "code",
   "execution_count": null,
   "metadata": {},
   "outputs": [],
   "source": []
  }
 ],
 "metadata": {
  "colab": {
   "include_colab_link": true,
   "name": "JaneSt-Feb18.ipynb",
   "provenance": []
  },
  "kernelspec": {
   "display_name": "Python 3",
   "language": "python",
   "name": "python3"
  },
  "language_info": {
   "codemirror_mode": {
    "name": "ipython",
    "version": 3
   },
   "file_extension": ".py",
   "mimetype": "text/x-python",
   "name": "python",
   "nbconvert_exporter": "python",
   "pygments_lexer": "ipython3",
   "version": "3.7.10"
  }
 },
 "nbformat": 4,
 "nbformat_minor": 4
}
