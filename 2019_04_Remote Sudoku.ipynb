{
 "cells": [
  {
   "cell_type": "code",
   "execution_count": 2,
   "metadata": {
    "id": "Oq1xibzMT1Wl"
   },
   "outputs": [],
   "source": [
    "import numpy as np\n",
    "import pandas as pd\n",
    "import time\n",
    "import seaborn as sns\n",
    "import matplotlib.pyplot as plt\n",
    "import requests\n",
    "from bs4 import BeautifulSoup\n",
    "import itertools\n",
    "from copy import deepcopy as dcopy,copy\n",
    "from scipy.ndimage import measurements"
   ]
  },
  {
   "cell_type": "code",
   "execution_count": 106,
   "metadata": {
    "id": "ICTfvjZUT1Wr"
   },
   "outputs": [
    {
     "name": "stdout",
     "output_type": "stream",
     "text": [
      "Fill each cell — even the ones with grey numbers — with a digit between 1 and 9 so that each row, column, and outlined 3-by-3 squares contains each digit once. A grey number N indicates that there is an N exactly N squares away (horizontally or vertically). The answer to this month’s puzzle is the sum of the squares of the numbers written over the gray numbers in the completed grid. (For example, if a 7 is written over one of the grey numbers, that would contribute 49 towards the sum.)\n"
     ]
    }
   ],
   "source": [
    "# Different approach needed for this one as no obvious end point.\n",
    "# Looks to have worked well. \n",
    "\n",
    "url='https://www.janestreet.com/puzzles/remote-sudoku/'\n",
    "res = requests.get(url)\n",
    "soup = BeautifulSoup(res.content, 'html.parser')\n",
    "x =[text for text in soup.body.stripped_strings]\n",
    "\n",
    "print(\" \".join(x[7:17]))"
   ]
  },
  {
   "cell_type": "markdown",
   "metadata": {
    "id": "U9Yh1D3HT1Ws"
   },
   "source": [
    "### Puzzle details\n",
    "<img src=\"https://www.janestreet.com/puzzles/wp-content/uploads/2019/04/20190401_remote_sudoku.png\" width=\"350\">"
   ]
  },
  {
   "cell_type": "code",
   "execution_count": 107,
   "metadata": {
    "id": "844RhDFpT1Wu"
   },
   "outputs": [],
   "source": [
    "# Setup the constraints\n",
    "fixed = np.array([[2, 0, 0, 0, 7, 1, 8, 3, 6],\n",
    "                  [0, 0, 0, 0, 0, 0, 0, 2, 0],\n",
    "                  [0, 0, 5, 0, 0, 5, 4, 0, 2],\n",
    "                  [0, 0, 0, 1, 0, 0, 5, 0, 1],\n",
    "                  [8, 3, 3, 0, 1, 0, 2, 4, 4],\n",
    "                  [3, 0, 4, 0, 0, 3, 0, 0, 0],\n",
    "                  [6, 0, 2, 3, 0, 0, 5, 0, 0],\n",
    "                  [0, 4, 0, 0, 0, 0, 0, 0, 0],\n",
    "                  [7, 2, 7, 3, 1, 0, 0, 0, 3]],dtype=int)"
   ]
  },
  {
   "cell_type": "code",
   "execution_count": 112,
   "metadata": {
    "id": "844RhDFpT1Wu"
   },
   "outputs": [],
   "source": [
    "class Matrix():\n",
    "    def __init__(self,fixed,filled = np.zeros((9,9),dtype=int)):\n",
    "        self.fixed = fixed\n",
    "        self.filled = filled\n",
    "        x= np.ones((3,3))\n",
    "        self.groups = np.block([[x*0,x*1,x*2],[x*3,x*4,x*5],[x*6,x*7,x*8]])\n",
    "  \n",
    "    ################################################\n",
    "    # \n",
    "    \n",
    "\n",
    "  \n",
    "   \n",
    "    ##############################################\n",
    "    # Two last functions\n",
    "    # From the solved grid get the score  \n",
    "    # Loop through and print the grids\n",
    "    def score(self):\n",
    "        return  np.sum((self.filled[self.fixed>0]**2))\n",
    "    \n",
    "    def sol_print(self):      \n",
    "        fig,ax = plt.subplots(1,1,figsize=(3,3))\n",
    "        count = 0\n",
    "        y = (self.fixed > 0) + self.groups*2\n",
    "        ax = sns.heatmap(y,annot=self.filled,cbar=False,cmap=\"tab20\",fmt=\"\",vmin=0,vmax=19,linewidths=1,)\n",
    "        ax.axis(\"off\")\n",
    "        plt.tight_layout()\n",
    "   \n",
    "                         \n",
    "    ###############################################\n",
    "    # Main solver.  \n",
    "    def solve(self):\n",
    "        start = time.perf_counter()\n",
    "        stop = time.perf_counter()\n",
    "        print(\"***Solved in {:.4f} seconds***\".format(stop - start))\n",
    "        print(\"The sum of the squares of the numbers  is {:,.0f}\".format(self.score()))\n",
    "        print(\"\\nSolved Grid\")\n",
    "        print(\"~~~~~~~~~~~~\")\n",
    "        self.sol_print()\n",
    "        "
   ]
  },
  {
   "cell_type": "code",
   "execution_count": 113,
   "metadata": {
    "colab": {
     "base_uri": "https://localhost:8080/",
     "height": 374
    },
    "id": "zexQ8t1kT1W3",
    "outputId": "7c2aec4e-d2fb-45d8-fc7e-679051faafed"
   },
   "outputs": [
    {
     "name": "stdout",
     "output_type": "stream",
     "text": [
      "***Solved in 0.0000 seconds***\n",
      "The sum of the squares of the numbers  is 0\n",
      "\n",
      "Solved Grid\n",
      "~~~~~~~~~~~~\n"
     ]
    },
    {
     "data": {
      "image/png": "[encoded data removed]",
      "text/plain": [
       "<Figure size 216x216 with 1 Axes>"
      ]
     },
     "metadata": {
      "needs_background": "light"
     },
     "output_type": "display_data"
    }
   ],
   "source": [
    "test = Matrix(fixed)\n",
    "test.solve()"
   ]
  },
  {
   "cell_type": "code",
   "execution_count": 110,
   "metadata": {},
   "outputs": [
    {
     "name": "stdout",
     "output_type": "stream",
     "text": [
      "The completed grid is shown to the left. The sum of the squares of the numbers written over the gray clues is 1105 . Congrats to this month’s solvers!\n"
     ]
    }
   ],
   "source": [
    "url='https://www.janestreet.com/puzzles/solutions/april-2019-solution/'\n",
    "res = requests.get(url)\n",
    "soup = BeautifulSoup(res.content, 'html.parser')\n",
    "x =[text for text in soup.body.stripped_strings]\n",
    "\n",
    "print(\" \".join(x[7:10]))"
   ]
  },
  {
   "cell_type": "markdown",
   "metadata": {
    "id": "ld_NFUIfT1W9"
   },
   "source": [
    "<img src=\"https://www.janestreet.com/puzzles/wp-content/uploads/2019/05/20190430_remote_sudoku_ans.png\" width=\"300\" >"
   ]
  },
  {
   "cell_type": "code",
   "execution_count": 12,
   "metadata": {},
   "outputs": [],
   "source": [
    "filled = np.array([[6, 9, 2, 5, 3, 7, 1, 8, 4],\n",
    "                  [1, 3, 7, 8, 4, 2, 5, 6, 9],\n",
    "                  [5, 8, 4, 1, 9, 6, 2, 3, 7],\n",
    "                  [4, 5, 3, 7, 8, 9, 6, 1, 2],\n",
    "                  [9, 1, 6, 4, 2, 3, 7, 5, 8],\n",
    "                  [7, 2, 8, 6, 1, 5, 4, 9, 3],\n",
    "                  [2, 7, 1, 9, 5, 8, 3, 4, 6],\n",
    "                  [8, 6, 5, 3, 7, 4, 9, 2, 1],\n",
    "                  [3, 4, 9, 2, 6, 1, 8, 7, 5]],dtype=int)"
   ]
  },
  {
   "cell_type": "code",
   "execution_count": 115,
   "metadata": {},
   "outputs": [
    {
     "data": {
      "text/plain": [
       "array([[0, 0, 0, 1, 1, 1, 2, 2, 2],\n",
       "       [0, 0, 0, 1, 1, 1, 2, 2, 2],\n",
       "       [0, 0, 0, 1, 1, 1, 2, 2, 2],\n",
       "       [3, 3, 3, 4, 4, 4, 5, 5, 5],\n",
       "       [3, 3, 3, 4, 4, 4, 5, 5, 5],\n",
       "       [3, 3, 3, 4, 4, 4, 5, 5, 5],\n",
       "       [6, 6, 6, 7, 7, 7, 8, 8, 8],\n",
       "       [6, 6, 6, 7, 7, 7, 8, 8, 8],\n",
       "       [6, 6, 6, 7, 7, 7, 8, 8, 8]])"
      ]
     },
     "execution_count": 115,
     "metadata": {},
     "output_type": "execute_result"
    }
   ],
   "source": [
    "x= np.ones((3,3),dtype=int)\n",
    "np.block([[x*0,x*1,x*2],[x*3,x*4,x*5],[x*6,x*7,x*8]])"
   ]
  },
  {
   "cell_type": "code",
   "execution_count": null,
   "metadata": {},
   "outputs": [],
   "source": []
  }
 ],
 "metadata": {
  "colab": {
   "include_colab_link": true,
   "name": "JaneSt-Feb18.ipynb",
   "provenance": []
  },
  "kernelspec": {
   "display_name": "Python 3",
   "language": "python",
   "name": "python3"
  },
  "language_info": {
   "codemirror_mode": {
    "name": "ipython",
    "version": 3
   },
   "file_extension": ".py",
   "mimetype": "text/x-python",
   "name": "python",
   "nbconvert_exporter": "python",
   "pygments_lexer": "ipython3",
   "version": "3.7.7"
  }
 },
 "nbformat": 4,
 "nbformat_minor": 4
}
