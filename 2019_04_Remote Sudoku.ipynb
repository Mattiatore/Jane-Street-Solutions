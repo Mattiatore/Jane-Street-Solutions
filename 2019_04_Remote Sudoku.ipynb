{
 "cells": [
  {
   "cell_type": "code",
   "execution_count": 1,
   "metadata": {
    "id": "Oq1xibzMT1Wl"
   },
   "outputs": [],
   "source": [
    "import numpy as np\n",
    "import pandas as pd\n",
    "import time\n",
    "import seaborn as sns\n",
    "import matplotlib.pyplot as plt\n",
    "import requests\n",
    "from bs4 import BeautifulSoup\n",
    "import itertools\n",
    "from copy import deepcopy as dcopy,copy\n",
    "from scipy.ndimage import measurements"
   ]
  },
  {
   "cell_type": "code",
   "execution_count": 2,
   "metadata": {
    "id": "ICTfvjZUT1Wr"
   },
   "outputs": [
    {
     "name": "stdout",
     "output_type": "stream",
     "text": [
      "Fill each cell — even the ones with grey numbers — with a digit between 1 and 9 so that each row, column, and outlined 3-by-3 squares contains each digit once. A grey number N indicates that there is an N exactly N squares away (horizontally or vertically). The answer to this month’s puzzle is the sum of the squares of the numbers written over the gray numbers in the completed grid. (For example, if a 7 is written over one of the grey numbers, that would contribute 49 towards the sum.)\n"
     ]
    }
   ],
   "source": [
    "# Nice one this time. Plan was to check the cells forced by\n",
    "# constraints and then backtrack but the constraints were enough\n",
    "\n",
    "url='https://www.janestreet.com/puzzles/remote-sudoku/'\n",
    "res = requests.get(url)\n",
    "soup = BeautifulSoup(res.content, 'html.parser')\n",
    "x =[text for text in soup.body.stripped_strings]\n",
    "\n",
    "print(\" \".join(x[7:17]))"
   ]
  },
  {
   "cell_type": "markdown",
   "metadata": {
    "id": "U9Yh1D3HT1Ws"
   },
   "source": [
    "<img src=\"https://www.janestreet.com/puzzles/20190401_remote_sudoku.png\" width=\"250\">"
   ]
  },
  {
   "cell_type": "code",
   "execution_count": 3,
   "metadata": {
    "id": "844RhDFpT1Wu"
   },
   "outputs": [],
   "source": [
    "# Setup the constraints\n",
    "fixed = np.array([[2, 0, 0, 0, 7, 1, 8, 3, 6],\n",
    "                  [0, 0, 0, 0, 0, 0, 0, 2, 0],\n",
    "                  [0, 0, 5, 0, 0, 5, 4, 0, 2],\n",
    "                  [0, 0, 0, 1, 0, 0, 5, 0, 1],\n",
    "                  [8, 3, 3, 0, 1, 0, 2, 4, 4],\n",
    "                  [3, 0, 4, 0, 0, 3, 0, 0, 0],\n",
    "                  [6, 0, 2, 3, 0, 0, 5, 0, 0],\n",
    "                  [0, 4, 0, 0, 0, 0, 0, 0, 0],\n",
    "                  [7, 2, 7, 3, 1, 0, 0, 0, 3]],dtype=int)"
   ]
  },
  {
   "cell_type": "code",
   "execution_count": 14,
   "metadata": {
    "id": "844RhDFpT1Wu"
   },
   "outputs": [],
   "source": [
    "class Matrix():\n",
    "    def __init__(self,fixed,filled = np.zeros((9,9),dtype=int)):\n",
    "        self.fixed = fixed\n",
    "        self.filled = filled\n",
    "        x= np.ones((3,3))\n",
    "        self.groups = np.block([[x*0,x*1,x*2],[x*3,x*4,x*5],[x*6,x*7,x*8]])\n",
    "  \n",
    "    ################################################\n",
    "    # Two functions. One to check if the remotes force\n",
    "    # the number and one to check if the cell forces\n",
    "    \n",
    "    def forced_by_remote(self):\n",
    "        #loop while changes made\n",
    "        changed = True\n",
    "        while changed:\n",
    "            changed = False\n",
    "            #run through the grid\n",
    "            for row in range(9):\n",
    "                for col in range(9):\n",
    "                    num = self.fixed[row,col]\n",
    "                    if num == 0:\n",
    "                        continue\n",
    "                    # pull out the looks cells\n",
    "                    poss_cells = []\n",
    "                    if row-num >-1:\n",
    "                        poss_cells.append((row-num,col))\n",
    "                    if row+num <9:\n",
    "                        poss_cells.append((row+num,col))\n",
    "                    if col-num >-1:\n",
    "                        poss_cells.append((row,col-num))\n",
    "                    if col+num <9:\n",
    "                        poss_cells.append((row,col+num))\n",
    "                \n",
    "                    # check which of the look cells could be filled\n",
    "                    # if it's only one fill it.\n",
    "                    valid_cells =[]    \n",
    "                    for r,c in poss_cells:\n",
    "                        if self.filled[r,c] ==0:\n",
    "                            if num not in self.filled[r,:]:\n",
    "                                if num not in self.filled[:,c]:\n",
    "                                    if num not in self.filled[self.groups==self.groups[r,c]]:\n",
    "                                        valid_cells.append((r,c))\n",
    "                    if len(valid_cells) ==1:\n",
    "                        self.filled[valid_cells[0][0],valid_cells[0][1]]=num\n",
    "                        changed = True\n",
    "\n",
    "    def forced_by_constraint(self):\n",
    "        #loop while changes made\n",
    "        changed = True\n",
    "        while changed:\n",
    "            changed = False\n",
    "            #run through the grid\n",
    "            for row in range(9):\n",
    "                for col in range(9):\n",
    "                    #check the numbers allowed by the group,row,col\n",
    "                    #if unique place\n",
    "                    if self.filled[row,col]==0:\n",
    "                        poss_nums =[]\n",
    "                        for num in range(1,10):\n",
    "                            if num not in self.filled[row,:]:\n",
    "                                if num not in self.filled[:,col]:\n",
    "                                    if num not in self.filled[self.groups==self.groups[row,col]]:\n",
    "                                        poss_nums.append(num)\n",
    "                        if len(poss_nums) == 1:\n",
    "                            self.filled[row,col] = poss_nums[0]\n",
    "                            changed = True\n",
    "  \n",
    "   \n",
    "    ##############################################\n",
    "    # Two more functions\n",
    "    # From the solved grid get the score  \n",
    "    # Loop through and print the grids\n",
    "    \n",
    "    def score(self):\n",
    "        return  np.sum((self.filled[self.fixed>0]**2))\n",
    "    \n",
    "    def sol_print(self):      \n",
    "        fig,ax = plt.subplots(1,1,figsize=(4,4))\n",
    "        count = 0\n",
    "        x = np.array(self.filled.astype('int').astype('str'))\n",
    "        x[x==\"0\"] =\"-\"\n",
    "        y = (self.fixed > 0) + self.groups*2\n",
    "        ax = sns.heatmap(y,annot=x,cbar=False,cmap=\"tab20\",fmt=\"\",vmin=0,vmax=19,linewidths=1,annot_kws={\"size\":16})\n",
    "        ax.axis(\"off\")\n",
    "        plt.tight_layout()\n",
    "   \n",
    "                         \n",
    "    ###############################################\n",
    "    # Main solver.  \n",
    "    def solve(self):\n",
    "        start = time.perf_counter()\n",
    "        while np.sum(self.filled==0) >0:\n",
    "            self.forced_by_remote()\n",
    "            self.forced_by_constraint()\n",
    "        stop = time.perf_counter()\n",
    "        print(\"***Solved in {:.4f} seconds***\".format(stop - start))\n",
    "        print(\"The sum of the squares of the numbers  is {:,.0f}\".format(self.score()))\n",
    "        #print(\"Still unsolved\",np.sum(self.filled==0))\n",
    "        print(\"\\nSolved Grid\")\n",
    "        print(\"~~~~~~~~~~~~\")\n",
    "        self.sol_print()\n",
    "        "
   ]
  },
  {
   "cell_type": "code",
   "execution_count": 15,
   "metadata": {
    "colab": {
     "base_uri": "https://localhost:8080/",
     "height": 374
    },
    "id": "zexQ8t1kT1W3",
    "outputId": "7c2aec4e-d2fb-45d8-fc7e-679051faafed"
   },
   "outputs": [
    {
     "name": "stdout",
     "output_type": "stream",
     "text": [
      "***Solved in 0.0220 seconds***\n",
      "The sum of the squares of the numbers  is 1,105\n",
      "\n",
      "Solved Grid\n",
      "~~~~~~~~~~~~\n"
     ]
    },
    {
     "data": {
      "image/png": "[encoded data removed]",
      "text/plain": [
       "<Figure size 288x288 with 1 Axes>"
      ]
     },
     "metadata": {
      "needs_background": "light"
     },
     "output_type": "display_data"
    }
   ],
   "source": [
    "test = Matrix(fixed)\n",
    "test.solve()"
   ]
  },
  {
   "cell_type": "code",
   "execution_count": 6,
   "metadata": {},
   "outputs": [
    {
     "name": "stdout",
     "output_type": "stream",
     "text": [
      "The completed grid is shown to the left. The sum of the squares of the numbers written over the gray clues is 1105 . Congrats to this month’s solvers!\n"
     ]
    }
   ],
   "source": [
    "url='https://www.janestreet.com/puzzles/solutions/april-2019-solution/'\n",
    "res = requests.get(url)\n",
    "soup = BeautifulSoup(res.content, 'html.parser')\n",
    "x =[text for text in soup.body.stripped_strings]\n",
    "\n",
    "print(\" \".join(x[7:10]))"
   ]
  },
  {
   "cell_type": "markdown",
   "metadata": {
    "id": "ld_NFUIfT1W9"
   },
   "source": [
    "<img src=\"https://www.janestreet.com/puzzles/20190430_remote_sudoku_ans.png\" width=\"250\" >"
   ]
  },
  {
   "cell_type": "code",
   "execution_count": 7,
   "metadata": {},
   "outputs": [],
   "source": [
    "filled = np.array([[6, 9, 2, 5, 3, 7, 1, 8, 4],\n",
    "                  [1, 3, 7, 8, 4, 2, 5, 6, 9],\n",
    "                  [5, 8, 4, 1, 9, 6, 2, 3, 7],\n",
    "                  [4, 5, 3, 7, 8, 9, 6, 1, 2],\n",
    "                  [9, 1, 6, 4, 2, 3, 7, 5, 8],\n",
    "                  [7, 2, 8, 6, 1, 5, 4, 9, 3],\n",
    "                  [2, 7, 1, 9, 5, 8, 3, 4, 6],\n",
    "                  [8, 6, 5, 3, 7, 4, 9, 2, 1],\n",
    "                  [3, 4, 9, 2, 6, 1, 8, 7, 5]],dtype=int)"
   ]
  }
 ],
 "metadata": {
  "colab": {
   "include_colab_link": true,
   "name": "JaneSt-Feb18.ipynb",
   "provenance": []
  },
  "kernelspec": {
   "display_name": "Python 3",
   "language": "python",
   "name": "python3"
  },
  "language_info": {
   "codemirror_mode": {
    "name": "ipython",
    "version": 3
   },
   "file_extension": ".py",
   "mimetype": "text/x-python",
   "name": "python",
   "nbconvert_exporter": "python",
   "pygments_lexer": "ipython3",
   "version": "3.7.10"
  }
 },
 "nbformat": 4,
 "nbformat_minor": 4
}
