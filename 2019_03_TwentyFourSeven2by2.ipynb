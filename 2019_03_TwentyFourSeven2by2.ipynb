{
 "cells": [
  {
   "cell_type": "code",
   "execution_count": 20,
   "metadata": {
    "id": "dNYS_x46HZvl"
   },
   "outputs": [],
   "source": [
    "import numpy as np\n",
    "import time\n",
    "from skimage.morphology import label\n",
    "import requests\n",
    "from bs4 import BeautifulSoup\n",
    "import copy\n",
    "import seaborn as sns\n",
    "import matplotlib.pyplot as plt\n",
    "\n",
    "\n",
    "# Using old puzzles to inform my solution for the Dec 20 puzzle\n",
    "# Could do far more on limiting the permissible placements. \n",
    "# Especially including the looks in limiting what could be placed \n",
    "# which would speed up the bottom left puzzle which at present is very slow"
   ]
  },
  {
   "cell_type": "markdown",
   "metadata": {
    "id": "UtUiEvDCHZvo"
   },
   "source": [
    "### Puzzle details\n",
    "<img src=\"https://www.janestreet.com/puzzles/wp-content/uploads/2019/03/20190306_20_4_7.png\" width=\"500\" height=\"600\">"
   ]
  },
  {
   "cell_type": "code",
   "execution_count": 12,
   "metadata": {
    "id": "I03uDzGSHZvo"
   },
   "outputs": [],
   "source": [
    "# Set up the grids to be solved\n",
    "\n",
    "grid4 =np.array([[0,0,0,7,0,0,0],\n",
    "                 [5,0,0,0,0,6,0],\n",
    "                 [0,0,2,0,0,0,0],\n",
    "                 [5,0,0,0,0,0,7],\n",
    "                 [0,0,0,0,7,0,0],\n",
    "                 [0,7,0,0,0,0,3],\n",
    "                 [0,0,0,6,0,0,0]])\n",
    "\n",
    "top_looks4 = [5,0,5,0,2,0,7]\n",
    "bot_looks4 = [4,0,6,0,4,0,3]\n",
    "left_looks4 = [5,0,0,0,4,0,0]\n",
    "right_looks4 = [0,0,7,0,0,0,4]\n",
    "\n",
    "grid3 =np.array([[0,0,4,0,0,0,0],\n",
    "                 [0,4,0,0,0,0,0],\n",
    "                 [4,0,0,0,0,0,0],\n",
    "                 [0,0,0,0,0,0,0],\n",
    "                 [0,0,0,0,0,0,7],\n",
    "                 [0,0,0,0,0,5,0],\n",
    "                 [0,0,0,0,7,0,0]])\n",
    "\n",
    "top_looks3 = [0,0,0,6,3,7,0]\n",
    "bot_looks3 = [0,3,6,7,0,0,0]\n",
    "left_looks3 = [0,0,0,2,6,3,0]\n",
    "right_looks3 = [0,4,3,5,0,0,0]\n",
    "\n",
    "grid2 =np.array([[0,0,0,0,0,0,0],\n",
    "                 [0,0,0,0,0,0,0],\n",
    "                 [0,0,0,0,0,0,0],\n",
    "                 [0,0,0,0,0,0,0],\n",
    "                 [0,0,0,0,0,0,0],\n",
    "                 [0,0,0,0,0,0,0],\n",
    "                 [0,0,0,0,0,0,0]])\n",
    "\n",
    "top_looks2 = [6,4,4,6,7,3,3]\n",
    "bot_looks2 = [2,6,7,7,2,4,7]\n",
    "left_looks2 = [4,6,5,7,5,2,7]\n",
    "right_looks2 = [3,6,3,3,7,6,7]\n",
    "\n",
    "grid1=np.array([[0,7,6,0,0,0,0],\n",
    "                [0,0,0,6,6,0,0],\n",
    "                [5,0,0,0,0,0,0],\n",
    "                [0,6,0,0,0,4,0],\n",
    "                [0,0,0,0,0,0,6],\n",
    "                [0,0,4,7,0,0,0],\n",
    "                [0,0,0,0,7,7,5]])\n",
    "\n",
    "top_looks1 = [0,0,0,0,0,5,7]\n",
    "bot_looks1 = [7,2,0,0,0,0,0]\n",
    "left_looks1 = [0,3,0,0,5,0,1]\n",
    "right_looks1 = [7,2,0,0,0,0,0]\n",
    "\n",
    "\n",
    "# Use -1 for empty rather than zero to track completion of cells\n",
    "grid1[grid1==0]=-1\n",
    "grid2[grid2==0]=-1\n",
    "grid3[grid3==0]=-1\n",
    "grid4[grid4==0]=-1"
   ]
  },
  {
   "cell_type": "code",
   "execution_count": 13,
   "metadata": {
    "id": "HiU0IzRrHZvq"
   },
   "outputs": [],
   "source": [
    "# Set up a class to represent the matrix\n",
    "# methods to \n",
    "# - print\n",
    "# - check a possible placement\n",
    "#   - to check 2x2 placement isn't violated\n",
    "#   - to check there aren't too many small numbers in a row or column\n",
    "#   - to check looks aren't violated\n",
    "#  - Recursively solve the problem\n",
    "\n",
    "class Matrix():\n",
    "    def __init__(self,input_grid,top_looks,bot_looks,left_looks,right_looks):\n",
    "        self.grid = input_grid\n",
    "        self.top_looks = top_looks\n",
    "        self.bot_looks = bot_looks\n",
    "        self.left_looks =left_looks\n",
    "        self.right_looks = right_looks\n",
    "        self.counts = {i:i-np.sum(self.grid==i) for i in range(8)}\n",
    "        print(\"Starting number count\",self.counts)\n",
    "        print('\\nThe problem - Start {}'.format(time.strftime('%X')))\n",
    "        self.printGrid()\n",
    "\n",
    "# Function to print the grid\n",
    "    def printGrid(self):\n",
    "        print(self.grid)\n",
    "        \n",
    "# Function to check if a digit can be placed in the given block\n",
    "# Various checks in the main block with more complex checks on small numbers, 2x2 and \"looks\" moved to separate functions\n",
    "    def possible(self,row,col,digit):\n",
    "\n",
    "        # Check row and columns don't have too many zeros\n",
    "        if digit ==0:\n",
    "            if np.sum(self.grid[:,col]==0) > 2:\n",
    "                #print('fail1')\n",
    "                return False\n",
    "            if np.sum(self.grid[row,:]==0) > 2:\n",
    "                #print('fail2')\n",
    "                return False\n",
    "            \n",
    "        # Check that final number placed completes\n",
    "        if digit !=0:\n",
    "            if np.sum(self.grid[row,:]>0) > 2:\n",
    "                if np.sum(self.grid[row,:])+digit+np.sum(self.grid[row,:]==-1)  != 20:\n",
    "                    return False\n",
    "                    \n",
    "            if np.sum(self.grid[:,col]>0) > 2:\n",
    "                if np.sum(self.grid[:,col])+digit+np.sum(self.grid[:,col]==-1)  != 20:\n",
    "                    return False\n",
    "        \n",
    "        # Check row and columns don't exceed sum\n",
    "        if np.sum(self.grid[:,col])+digit+np.sum(self.grid[:,col]==-1) > 20:\n",
    "            return False\n",
    "        \n",
    "        if np.sum(self.grid[row,:])+digit+np.sum(self.grid[row,:]==-1)  > 20:\n",
    "            return False\n",
    "        \n",
    "        #check 2x2\n",
    "        if digit !=0:\n",
    "            if self.twobytwo(row,col):\n",
    "                return False\n",
    "            \n",
    "        # Check forbidden nums\n",
    "            if self.more_constraints(self.grid[row,:],digit):\n",
    "                return False\n",
    "        \n",
    "            if self.more_constraints(self.grid[:,col],digit):\n",
    "                return False\n",
    "            \n",
    "            if self.check_looks(row,col,digit):\n",
    "                return False\n",
    "        \n",
    "        #checkconnected (nice trick with sk-image -thanks stackexchange!)\n",
    "        if np.max(label(self.grid!=0,connectivity=1)) >1 :\n",
    "            return False\n",
    "        \n",
    "        # All tests pass return True\n",
    "        return True\n",
    "    \n",
    "# check if placing a number violates the 2x2 rule\n",
    "    def twobytwo(self,i,j):\n",
    "        if (i > 0 and j > 0 and \n",
    "        self.grid[i-1,j-1] > 0 and \n",
    "        self.grid[i-1,j] > 0 and \n",
    "        self.grid[i,j-1] > 0):\n",
    "            return True\n",
    "    \n",
    "        if (i > 0 and j < 6 and\n",
    "        self.grid[i-1,j+1] > 0 and \n",
    "        self.grid[i-1,j] > 0 and \n",
    "        self.grid[i,j+1] > 0):\n",
    "            return True\n",
    "    \n",
    "        if (i < 6 and j > 0 and\n",
    "        self.grid[i+1,j-1] > 0 and \n",
    "        self.grid[i+1,j] > 0 and \n",
    "        self.grid[i,j-1] > 0):\n",
    "            return True\n",
    "\n",
    "    \n",
    "        if (i < 6 and j < 6 and\n",
    "        self.grid[i+1,j+1] > 0 and \n",
    "        self.grid[i+1,j] > 0 and \n",
    "        self.grid[i,j+1] > 0):\n",
    "            return True\n",
    "    \n",
    "        return False\n",
    "    \n",
    "# check to see if there are too many small numbers in a row or column\n",
    "    def more_constraints(self,array,digit):\n",
    "        if np.sum(array==1) > 0:\n",
    "            if digit < 5:\n",
    "                return True\n",
    "            return False\n",
    "        \n",
    "        if np.sum(array==2) > 0:\n",
    "            if digit < 4 :\n",
    "                return True\n",
    "            return False\n",
    "    \n",
    "        if np.sum(array==3) > 0:\n",
    "            if digit < 3 :\n",
    "                return True\n",
    "            return False\n",
    "    \n",
    "        if np.sum(array==4) > 0:\n",
    "            if digit < 2 :\n",
    "                return True\n",
    "            return False\n",
    "        \n",
    "        return False\n",
    "        \n",
    "# check to see if the looks are correct \n",
    "    def check_looks(self,row,col,digit):\n",
    "        if self.left_looks[row] > 0:\n",
    "            found = False\n",
    "            for i in range(5):\n",
    "                if found == False:\n",
    "                    if self.grid[row,i] != 0:\n",
    "                        found = True\n",
    "                        if i == col:\n",
    "                            if self.left_looks[row] != digit:\n",
    "                                return True\n",
    "    \n",
    "        if self.top_looks[col] > 0:\n",
    "            found = False\n",
    "            for i in range(5):\n",
    "                if found == False:\n",
    "                    if self.grid[i,col] != 0:\n",
    "                        found = True\n",
    "                        if i == row:\n",
    "                            if self.top_looks[col] != digit:\n",
    "                                return True\n",
    "\n",
    "        if self.right_looks[row] > 0:\n",
    "            found = False\n",
    "            for i in range(6,4,-1):\n",
    "                if found == False:\n",
    "                    if self.grid[row,i] != 0:\n",
    "                        found = True\n",
    "                        if i == col:\n",
    "                            if self.right_looks[row] != digit:\n",
    "                                return True\n",
    "    \n",
    "        if self.bot_looks[col] > 0:\n",
    "            found = False\n",
    "            for i in range(6,4,-1):\n",
    "                if found == False:\n",
    "                    if self.grid[i,col] != 0:\n",
    "                        found = True\n",
    "                        if i == row:\n",
    "                            if self.bot_looks[col] != digit:\n",
    "                                return True\n",
    "        return False    \n",
    "        \n",
    "# ======================================================================================================\n",
    "# The main function. Loop throught the cells trying to place a digit, if the digit is allowed carry on \n",
    "# and recall the function recursively until that is not allowed. Then backtrack and retry. Based on the \n",
    "# simple soduku solver here :\n",
    "# https://medium.com/daily-python/solving-sudoku-puzzle-using-backtracking-in-python-daily-python-29-99a825042e\n",
    "# which is where I started on this.\n",
    "\n",
    "    def solve(self):\n",
    "   \n",
    "        for row in range(7):\n",
    "            for col in range(7):\n",
    "                if self.grid[row,col] == -1:\n",
    "                    for digit in range(7,-1,-1):\n",
    "                        if (digit ==0 or self.counts[digit]>0):\n",
    "                            if self.possible(row,col,digit):\n",
    "                                self.grid[row,col] = digit\n",
    "                                self.counts[digit] -= 1\n",
    "                                self.solve()\n",
    "                                self.grid[row,col] = -1  #Backtrack step\n",
    "                                self.counts[digit] += 1\n",
    "                    return \n",
    "        \n",
    "        print('\\nThe solution - End {}'.format(time.strftime('%X')))\n",
    "        self.solution = copy.copy(self.grid)"
   ]
  },
  {
   "cell_type": "code",
   "execution_count": 4,
   "metadata": {
    "colab": {
     "base_uri": "https://localhost:8080/"
    },
    "id": "qD-3QLThHZvx",
    "outputId": "1c26109a-0a73-4d7b-c5e4-383740ed5f9d"
   },
   "outputs": [
    {
     "name": "stdout",
     "output_type": "stream",
     "text": [
      "Starting number count {0: 0, 1: 1, 2: 2, 3: 3, 4: 2, 5: 3, 6: 1, 7: 3}\n",
      "\n",
      "The problem - Start 10:04:45\n",
      "[[-1  7  6 -1 -1 -1 -1]\n",
      " [-1 -1 -1  6  6 -1 -1]\n",
      " [ 5 -1 -1 -1 -1 -1 -1]\n",
      " [-1  6 -1 -1 -1  4 -1]\n",
      " [-1 -1 -1 -1 -1 -1  6]\n",
      " [-1 -1  4  7 -1 -1 -1]\n",
      " [-1 -1 -1 -1  7  7  5]]\n",
      "\n",
      "The solution - End 10:04:48\n",
      "[[3 7 6 0 4 0 0]\n",
      " [0 0 3 6 6 5 0]\n",
      " [5 5 0 6 0 4 0]\n",
      " [0 6 0 0 3 4 7]\n",
      " [5 2 7 0 0 0 6]\n",
      " [7 0 4 7 0 0 2]\n",
      " [0 0 0 1 7 7 5]]\n",
      "\n",
      " Finish 10:04:49\n"
     ]
    }
   ],
   "source": [
    "# Create a separate instance of the Matrix class for each puzzle and solve.\n",
    "# x1 -> x4\n",
    "\n",
    "x1 = Matrix(grid1,top_looks1,bot_looks1,left_looks1,right_looks1)\n",
    "output1 = x1.solve()\n",
    "print(x1.solution)\n",
    "print('\\n Finish {}'.format(time.strftime('%X')))"
   ]
  },
  {
   "cell_type": "code",
   "execution_count": 26,
   "metadata": {
    "colab": {
     "base_uri": "https://localhost:8080/"
    },
    "id": "wZGMHWEuHZv4",
    "outputId": "d7d5147c-91ae-4433-e0de-3f7e6ff6b1f4"
   },
   "outputs": [
    {
     "name": "stdout",
     "output_type": "stream",
     "text": [
      "Starting number count {0: 0, 1: 1, 2: 2, 3: 3, 4: 4, 5: 5, 6: 6, 7: 7}\n",
      "\n",
      "The problem - Start 11:03:45\n",
      "[[-1 -1 -1 -1 -1 -1 -1]\n",
      " [-1 -1 -1 -1 -1 -1 -1]\n",
      " [-1 -1 -1 -1 -1 -1 -1]\n",
      " [-1 -1 -1 -1 -1 -1 -1]\n",
      " [-1 -1 -1 -1 -1 -1 -1]\n",
      " [-1 -1 -1 -1 -1 -1 -1]\n",
      " [-1 -1 -1 -1 -1 -1 -1]]\n",
      "\n",
      "The solution - End 11:29:33\n",
      "\n",
      "The solution - End 11:29:34\n",
      "\n",
      "The solution - End 11:30:10\n",
      "\n",
      "The solution - End 11:30:10\n",
      "\n",
      "The solution - End 11:30:11\n",
      "\n",
      "The solution - End 11:35:16\n",
      "[[0 0 4 6 7 3 0]\n",
      " [6 4 4 0 6 0 0]\n",
      " [0 5 0 0 5 7 3]\n",
      " [7 5 5 0 0 0 3]\n",
      " [5 0 7 1 0 0 7]\n",
      " [2 6 0 6 0 6 0]\n",
      " [0 0 0 7 2 4 7]]\n",
      "\n",
      " Finish 11:48:29\n"
     ]
    }
   ],
   "source": [
    "x2 = Matrix(grid2,top_looks2,bot_looks2,left_looks2,right_looks2)\n",
    "x2.solve()\n",
    "print(x2.solution)\n",
    "print('\\n Finish {}'.format(time.strftime('%X')))"
   ]
  },
  {
   "cell_type": "code",
   "execution_count": 14,
   "metadata": {
    "colab": {
     "base_uri": "https://localhost:8080/"
    },
    "id": "gz8ec3kmHZv5",
    "outputId": "d87f71e8-8d4c-4fd0-b00e-004c297ed8a7"
   },
   "outputs": [
    {
     "name": "stdout",
     "output_type": "stream",
     "text": [
      "Starting number count {0: 0, 1: 1, 2: 2, 3: 3, 4: 1, 5: 4, 6: 6, 7: 5}\n",
      "\n",
      "The problem - Start 10:53:48\n",
      "[[-1 -1  4 -1 -1 -1 -1]\n",
      " [-1  4 -1 -1 -1 -1 -1]\n",
      " [ 4 -1 -1 -1 -1 -1 -1]\n",
      " [-1 -1 -1 -1 -1 -1 -1]\n",
      " [-1 -1 -1 -1 -1 -1  7]\n",
      " [-1 -1 -1 -1 -1  5 -1]\n",
      " [-1 -1 -1 -1  7 -1 -1]]\n",
      "\n",
      "The solution - End 10:54:02\n",
      "[[7 0 4 6 3 0 0]\n",
      " [7 4 5 0 4 0 0]\n",
      " [4 0 0 0 6 7 3]\n",
      " [2 7 0 6 0 0 5]\n",
      " [0 6 0 1 0 6 7]\n",
      " [0 3 5 7 0 5 0]\n",
      " [0 0 6 0 7 2 5]]\n",
      "\n",
      " Finish 10:57:50\n"
     ]
    }
   ],
   "source": [
    "x3 = Matrix(grid3,top_looks3,bot_looks3,left_looks3,right_looks3)\n",
    "x3.solve()\n",
    "print(x3.solution)\n",
    "print('\\n Finish {}'.format(time.strftime('%X')))"
   ]
  },
  {
   "cell_type": "code",
   "execution_count": 15,
   "metadata": {
    "colab": {
     "base_uri": "https://localhost:8080/"
    },
    "id": "ZINVfgskHZv5",
    "outputId": "0d318b4c-6f5f-487d-f971-c400d36aa989"
   },
   "outputs": [
    {
     "name": "stdout",
     "output_type": "stream",
     "text": [
      "Starting number count {0: 0, 1: 1, 2: 1, 3: 2, 4: 4, 5: 3, 6: 4, 7: 3}\n",
      "\n",
      "The problem - Start 10:57:50\n",
      "[[-1 -1 -1  7 -1 -1 -1]\n",
      " [ 5 -1 -1 -1 -1  6 -1]\n",
      " [-1 -1  2 -1 -1 -1 -1]\n",
      " [ 5 -1 -1 -1 -1 -1  7]\n",
      " [-1 -1 -1 -1  7 -1 -1]\n",
      " [-1  7 -1 -1 -1 -1  3]\n",
      " [-1 -1 -1  6 -1 -1 -1]]\n",
      "\n",
      "The solution - End 10:57:54\n",
      "[[0 5 0 7 2 6 0]\n",
      " [5 4 5 0 0 6 0]\n",
      " [6 0 2 0 0 5 7]\n",
      " [5 0 7 1 0 0 7]\n",
      " [4 0 0 6 7 0 3]\n",
      " [0 7 0 0 7 3 3]\n",
      " [0 4 6 6 4 0 0]]\n",
      "\n",
      " Finish 10:58:03\n"
     ]
    }
   ],
   "source": [
    "x4 = Matrix(grid4,top_looks4,bot_looks4,left_looks4,right_looks4)\n",
    "x4.solve()\n",
    "print(x4.solution)\n",
    "print('\\n Finish {}'.format(time.strftime('%X')))"
   ]
  },
  {
   "cell_type": "code",
   "execution_count": 16,
   "metadata": {
    "colab": {
     "base_uri": "https://localhost:8080/"
    },
    "id": "FKh3j3sYHZv6",
    "outputId": "7f4e03f6-1e1d-401e-a59e-ad8697776ea9"
   },
   "outputs": [
    {
     "name": "stdout",
     "output_type": "stream",
     "text": [
      "The solution is:  8150\n"
     ]
    }
   ],
   "source": [
    "# Calculate the solution based on the grids\n",
    "\n",
    "solved = np.sum((x1.solution+x2.solution+x3.solution+x4.solution)**2)\n",
    "print(\"The solution is: \",solved)"
   ]
  },
  {
   "cell_type": "code",
   "execution_count": 27,
   "metadata": {
    "colab": {
     "base_uri": "https://localhost:8080/"
    },
    "id": "D3wKz5QoHZv7",
    "outputId": "f30ca213-6a39-4a00-deb1-7c379112435e"
   },
   "outputs": [
    {
     "name": "stdout",
     "output_type": "stream",
     "text": [
      "The completed grids are shown to the left, and below (in blue) is the “sum” grid. The sum of the squares of the values in this grid is 8150\n"
     ]
    }
   ],
   "source": [
    "# Pull in the puzzle solution and grids from the solution page\n",
    "\n",
    "url='https://www.janestreet.com/puzzles/solutions/march-2019-solution/'\n",
    "res = requests.get(url)\n",
    "soup = BeautifulSoup(res.content, 'html.parser')\n",
    "x =[text for text in soup.body.stripped_strings]\n",
    "\n",
    "print(\" \".join(x[7:9]))"
   ]
  },
  {
   "cell_type": "code",
   "execution_count": 28,
   "metadata": {
    "colab": {
     "base_uri": "https://localhost:8080/"
    },
    "id": "D3wKz5QoHZv7",
    "outputId": "f30ca213-6a39-4a00-deb1-7c379112435e"
   },
   "outputs": [
    {
     "data": {
      "text/plain": [
       "(0.0, 7.0, 7.0, 0.0)"
      ]
     },
     "execution_count": 28,
     "metadata": {},
     "output_type": "execute_result"
    },
    {
     "data": {
      "image/png": "[encoded data removed]",
      "text/plain": [
       "<Figure size 432x432 with 4 Axes>"
      ]
     },
     "metadata": {
      "needs_background": "light"
     },
     "output_type": "display_data"
    }
   ],
   "source": [
    "# Print the grids in a nice format\n",
    "y = np.zeros((7,7))\n",
    "fig,ax = plt.subplots(2,2,figsize =(6,6))\n",
    "fig.tight_layout()\n",
    "\n",
    "\n",
    "x_1 = np.array((x1.solution)).astype('int').astype('str')\n",
    "x_1[x_1==\"0\"] =\"-\"\n",
    "sns.heatmap(y,annot=x_1,cbar=False,cmap=\"gray_r\",fmt=\"\",linewidths=0.5,linecolor=\"k\",ax=ax[0,0])\n",
    "ax[0,0].axis(\"off\")\n",
    "\n",
    "x_2 = np.array((x3.solution)).astype('int').astype('str')\n",
    "x_2[x_2==\"0\"] =\"-\"\n",
    "sns.heatmap(y,annot=x_2,cbar=False,cmap=\"gray_r\",fmt=\"\",linewidths=0.5,linecolor=\"k\",ax=ax[0,1])\n",
    "ax[0,1].axis(\"off\")\n",
    "\n",
    "x_3 = np.array((x2.solution)).astype('int').astype('str')\n",
    "x_3[x_3==\"0\"] =\"-\"\n",
    "sns.heatmap(y,annot=x_3,cbar=False,cmap=\"gray_r\",fmt=\"\",linewidths=0.5,linecolor=\"k\",ax=ax[1,0])\n",
    "ax[1,0].axis(\"off\")\n",
    "\n",
    "x_4 = np.array((x4.solution)).astype('int').astype('str')\n",
    "x_4[x_4==\"0\"] =\"-\"\n",
    "sns.heatmap(y,annot=x_4,cbar=False,cmap=\"gray_r\",fmt=\"\",linewidths=0.5,linecolor=\"k\",ax=ax[1,1])\n",
    "ax[1,1].axis(\"off\")"
   ]
  },
  {
   "cell_type": "markdown",
   "metadata": {
    "id": "jsahvqLtHZv7"
   },
   "source": [
    "### Solution is :\n",
    "\n",
    "<img src=\"https://www.janestreet.com/puzzles/wp-content/uploads/2019/04/20190329_20_4_7_solved.png\" width=\"500\" height=\"600\">"
   ]
  },
  {
   "cell_type": "code",
   "execution_count": 9,
   "metadata": {
    "id": "CVzHamFYHZv8"
   },
   "outputs": [],
   "source": []
  }
 ],
 "metadata": {
  "colab": {
   "include_colab_link": true,
   "name": "JaneSt_Mar19.ipynb",
   "provenance": []
  },
  "kernelspec": {
   "display_name": "Python 3",
   "language": "python",
   "name": "python3"
  },
  "language_info": {
   "codemirror_mode": {
    "name": "ipython",
    "version": 3
   },
   "file_extension": ".py",
   "mimetype": "text/x-python",
   "name": "python",
   "nbconvert_exporter": "python",
   "pygments_lexer": "ipython3",
   "version": "3.7.7"
  }
 },
 "nbformat": 4,
 "nbformat_minor": 4
}
