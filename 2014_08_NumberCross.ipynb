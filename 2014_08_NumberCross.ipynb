{
 "cells": [
  {
   "cell_type": "code",
   "execution_count": 1,
   "metadata": {
    "id": "Oq1xibzMT1Wl"
   },
   "outputs": [],
   "source": [
    "import numpy as np\n",
    "import sympy\n",
    "\n",
    "import time\n",
    "import seaborn as sns\n",
    "import matplotlib.pyplot as plt\n",
    "import requests\n",
    "from bs4 import BeautifulSoup\n",
    "from IPython.display import Markdown, display\n",
    "import itertools\n",
    "\n",
    "from z3 import *"
   ]
  },
  {
   "cell_type": "code",
   "execution_count": 2,
   "metadata": {
    "id": "ICTfvjZUT1Wr"
   },
   "outputs": [
    {
     "data": {
      "text/markdown": [
       "### August 2014 : Puzzle\n",
       "\n",
       "Place the digits 1 thru 9 (no zeroes) in the crossword grid below so that all of\n",
       "the clues are satisfied. No digit is repeated in any one grid entry (e.g.\n",
       "1-across is a grid entry), and no grid entry is used more than once within the\n",
       "puzzle.\n",
       "\n",
       "For your answer, submit the sum of the 8 5-digit grid entries in the completed\n",
       "grid (e.g. 4-down, 18-across, etc.)"
      ],
      "text/plain": [
       "<IPython.core.display.Markdown object>"
      ]
     },
     "metadata": {},
     "output_type": "display_data"
    }
   ],
   "source": [
    "url='https://www.janestreet.com/puzzles/number-cross-index/'\n",
    "res = requests.get(url)\n",
    "soup = BeautifulSoup(res.content, 'html.parser')\n",
    "y =[text for text in soup.body.stripped_strings]\n",
    "#display([(i,j) for i,j in enumerate(y)])\n",
    "display(Markdown(\"### \"+y[8]+\"\\n\\n\"+str(\"\\n\\n\".join(y[10:12]))))"
   ]
  },
  {
   "cell_type": "markdown",
   "metadata": {
    "id": "U9Yh1D3HT1Ws"
   },
   "source": [
    "<img src=\"https://www.janestreet.com/puzzles/number_crossword_with_clues.png\" width=\"650\">"
   ]
  },
  {
   "cell_type": "code",
   "execution_count": 3,
   "metadata": {
    "id": "844RhDFpT1Wu"
   },
   "outputs": [],
   "source": [
    "grid = np.array([[0, 0, 0, 1, 0, 0, 0, 1, 0, 0, 0],\n",
    "                 [0, 0, 0, 1, 0, 0, 0, 1, 0, 0, 0],\n",
    "                 [0, 0, 0, 1, 0, 0, 0, 0, 0, 0, 0],\n",
    "                 [1, 1, 0, 0, 0, 0, 0, 0, 1, 1, 1],\n",
    "                 [0, 0, 0, 0, 0, 1, 0, 0, 0, 0, 0],\n",
    "                 [0, 0, 0, 0, 1, 1, 1, 0, 0, 0, 0],\n",
    "                 [0, 0, 0, 0, 0, 1, 0, 0, 0, 0, 0],\n",
    "                 [1, 1, 1, 0, 0, 0, 0, 0, 0, 1, 1],\n",
    "                 [0, 0, 0, 0, 0, 0, 0, 1, 0, 0, 0],\n",
    "                 [0, 0, 0, 1, 0, 0, 0, 1, 0, 0, 0],\n",
    "                 [0, 0, 0, 1, 0, 0, 0, 1, 0, 0, 0]\n",
    "                ],dtype=int)"
   ]
  },
  {
   "cell_type": "code",
   "execution_count": 4,
   "metadata": {
    "id": "844RhDFpT1Wu"
   },
   "outputs": [],
   "source": [
    "# some utility functions\n",
    "def mult(x):\n",
    "    n=len(x)\n",
    "    return Sum([x[i] *10**((n-1)-i)  for i in range(n)]) \n",
    "\n",
    "def sum_dig(x):\n",
    "    return Sum([i for i in x])\n",
    "\n",
    "def make_across(x,y,n):\n",
    "    return [X[x][y+i] for i in range(n)]\n",
    "\n",
    "def make_down(x,y,n):\n",
    "    return [X[x+i][y] for i in range(n)]"
   ]
  },
  {
   "cell_type": "code",
   "execution_count": 5,
   "metadata": {
    "id": "844RhDFpT1Wu"
   },
   "outputs": [
    {
     "name": "stdout",
     "output_type": "stream",
     "text": [
      "Solved in 139.6733 seconds\n",
      "\n",
      "Solution is : 407,358\n",
      "\n",
      "Solved Grid\n",
      "~~~~~~~~~~~\n"
     ]
    },
    {
     "data": {
      "image/png": "[encoded data removed]",
      "text/plain": [
       "<Figure size 360x360 with 1 Axes>"
      ]
     },
     "metadata": {
      "needs_background": "light"
     },
     "output_type": "display_data"
    }
   ],
   "source": [
    "start = time.time()\n",
    "######################################################\n",
    "# Setup # 11x11 matrix of integer variables and solver #\n",
    "######################################################\n",
    "X = [[Int(\"x_%s_%s\" % (i+1, j+1)) for j in range(11)] for i in range(11)]\n",
    "s = Solver()\n",
    "\n",
    "###################\n",
    "# The constraints #\n",
    "###################\n",
    "\n",
    "# each non-black cell contains a value in {1, ..., 9} black cells = 0\n",
    "s += [And(1 <= X[i][j], X[i][j] <= 9) for i in range(11) for j in range(11) if grid[i,j] != 1]\n",
    "s+= [X[i][j] == 0 for i in range(11) for j in range(11) if grid[i,j] == 1]\n",
    "\n",
    "####################\n",
    "# Set up the clues #\n",
    "###################=\n",
    "\n",
    "across = {}\n",
    "across[1]  = make_across(0,0,3)\n",
    "across[4]  = make_across(0,4,3)\n",
    "across[7]  = make_across(0,8,3)\n",
    "across[10] = make_across(1,0,3)\n",
    "across[11] = make_across(1,4,3)\n",
    "across[12] = make_across(1,8,3)\n",
    "across[13] = make_across(2,0,3)\n",
    "across[14] = make_across(2,4,7)\n",
    "across[16] = make_across(3,2,6)\n",
    "across[18] = make_across(4,0,5)\n",
    "across[20] = make_across(4,6,5)\n",
    "across[24] = make_across(5,0,4)\n",
    "across[25] = make_across(5,7,4)\n",
    "across[26] = make_across(6,0,5)\n",
    "across[28] = make_across(6,6,5)\n",
    "across[29] = make_across(7,3,6)\n",
    "across[31] = make_across(8,0,7)\n",
    "across[34] = make_across(8,8,3)\n",
    "across[37] = make_across(9,0,3)\n",
    "across[38] = make_across(9,4,3)\n",
    "across[39] = make_across(9,8,3)\n",
    "across[40] = make_across(10,0,3)\n",
    "across[41] = make_across(10,4,3)\n",
    "across[42] = make_across(10,8,3)\n",
    "\n",
    "down = {}\n",
    "down[1] = make_down(0,0,3)\n",
    "down[2] = make_down(0,1,3)\n",
    "down[3] = make_down(0,2,7)\n",
    "down[4] = make_down(0,4,5)\n",
    "down[5] = make_down(0,5,4)\n",
    "down[6] = make_down(0,6,5)\n",
    "down[7] = make_down(0,8,3)\n",
    "down[8] = make_down(0,9,3)\n",
    "down[9] = make_down(0,10,3)\n",
    "down[15] = make_down(2,7,6)\n",
    "down[17] = make_down(3,3,6)\n",
    "down[18] = make_down(4,0,3)\n",
    "down[19] = make_down(4,1,3)\n",
    "down[21] = make_down(4,8,7)\n",
    "down[22] = make_down(4,9,3)\n",
    "down[23] = make_down(4,10,3)\n",
    "down[27] = make_down(6,4,5)\n",
    "down[28] = make_down(6,6,5)\n",
    "down[30] = make_down(7,5,4)\n",
    "down[31] = make_down(8,0,3)\n",
    "down[32] = make_down(8,1,3)\n",
    "down[33] = make_down(8,2,3)\n",
    "down[35] = make_down(8,9,3)\n",
    "down[36] = make_down(8,10,3)\n",
    "\n",
    "clues =[v for k,v in across.items()]+[v for k,v in down.items()]\n",
    "\n",
    "#distinct clues and letters in clues\n",
    "s += Distinct([mult(i) for i in clues])\n",
    "s += [Distinct([x for x in i]) for i in clues]\n",
    "\n",
    "#############\n",
    "# The clues #\n",
    "#############\n",
    "\n",
    "#squares\n",
    "square_numbers = [i**2 for i in range(10,32)]\n",
    "sq_across = [1,4,7,11,12]\n",
    "s += [Or([mult(across[i]) == x for x in square_numbers]) for i in sq_across]\n",
    "sq_down = [1,7,8,18,19,36]\n",
    "s += [Or([mult(down[i]) == x for x in square_numbers]) for i in sq_down]\n",
    "\n",
    "#primes\n",
    "prime_numbers = [*sympy.primerange(100,1000)]\n",
    "pr_across = [39]\n",
    "s += [Or([mult(across[i]) == x*2 for x in prime_numbers]) for i in pr_across]\n",
    "pr_down = [9,22]\n",
    "s += [Or([mult(down[i]) == x for x in prime_numbers]) for i in pr_down]\n",
    "\n",
    "# simple across\n",
    "s += mult(across[10]) < mult(down[23])\n",
    "s += And([mult(across[13]) <= mult(i) for i in clues])\n",
    "s += sum_dig(across[14]) ==42\n",
    "s += mult(across[16]) % 6 ==0\n",
    "s += mult(across[18]) == (mult(across[37])+mult(down[6]))\n",
    "s += And([And(mult(across[20]) >= mult(i),mult(across[20][::-1]) > mult(i)) for i in clues if len(i) == 5])\n",
    "s += Or([And([across[24][i]==j[i] for i in range(4)]) for j in itertools.permutations(down[5],4)])\n",
    "s += And([across[28][i-1] < across[28][i] for i in range(1,len(across[28]))])\n",
    "s += mult(across[25]) == (mult(across[42])+mult(down[7]))\n",
    "s += sum_dig(across[26]) == 26\n",
    "s += And([across[28][i-1] < across[28][i] for i in range(1,len(across[28]))])\n",
    "s += mult(across[29]) == (mult(across[4])*mult(down[35]))\n",
    "s += mult(across[31]) % 3 ==0\n",
    "s += mult(across[34]) % 3 ==0\n",
    "s += And([across[37][i-1] < across[37][i] for i in range(1,len(across[37]))])\n",
    "s += mult(across[38]) == (mult(across[39])-mult(across[13]))\n",
    "s += mult(across[40]) > mult(across[1])\n",
    "s += mult(across[41]) % 25 ==0\n",
    "s += mult(across[42]) %  2 ==1\n",
    "\n",
    "# simple down\n",
    "s += mult(down[2]) % 11 ==0\n",
    "s += And([mult(down[3]) >= mult(i) for i in clues])\n",
    "s += sum_dig(down[4]) == 16\n",
    "s += mult(down[5]) % mult(down[9])  ==0\n",
    "s += sum_dig(down[6]) == 35\n",
    "s += mult(down[15]) % 11 ==0\n",
    "s += mult(down[17]) % 9 ==0\n",
    "s += sum_dig(down[21]) == 41\n",
    "s += mult(down[23]) > mult(down[32])\n",
    "s += mult(down[27]) == mult(down[6])/2\n",
    "s += mult(down[28]) % 125 ==0\n",
    "s += And([down[30][i-1] > down[30][i] for i in range(1,len(down[30]))])\n",
    "s += sum_dig(down[31]) == 6\n",
    "s += mult(down[32]) % mult(down[31])  ==0\n",
    "s += mult(down[33]) % mult(down[31])  ==0\n",
    "s += mult(down[35]) % 2 ==0\n",
    "\n",
    "###################\n",
    "# Solve and print #\n",
    "###################\n",
    "if s.check() == sat:\n",
    "    m = s.model()\n",
    "    r = [[ m.evaluate(X[i][j]).as_long() for j in range(11) ] for i in range(11)]\n",
    "\n",
    "    stop = time.time()\n",
    "    print(\"Solved in {:.4f} seconds\".format(stop-start))\n",
    "    \n",
    "    #### set up a nice output grid\n",
    "    annot = np.array(r)\n",
    "    print(\"\\nSolution is : {:,.0f}\".format(np.sum([np.sum([m.evaluate(x[i]).as_long() *10**(4-i)  for i in range(5)]) for x in clues if len(x) ==5])))\n",
    "    print(\"\\nSolved Grid\")\n",
    "    print(\"~~~~~~~~~~~\")\n",
    "    annot = annot.astype('str')\n",
    "    annot[annot==\"0\"] =\"\"\n",
    "    fig,ax = plt.subplots(1,1,figsize=(5,5))\n",
    "    ax =sns.heatmap(grid,annot=annot,cbar=False,cmap=\"Greys\",fmt=\"\",linewidths=1,annot_kws={\"size\":14},linecolor='k')\n",
    "    ax.axis(\"off\")\n",
    "    plt.show()\n",
    "\n",
    "else:\n",
    "    print(\"Failed\")  "
   ]
  },
  {
   "cell_type": "code",
   "execution_count": 6,
   "metadata": {},
   "outputs": [
    {
     "data": {
      "text/markdown": [
       "### August 2014 : Solution\n",
       "\n",
       "The answer to August’s puzzle is 407358. Congratulations to Chen-Yu Yang, this\n",
       "month’s randomly chosen winner and proud recipient of a Jane Street t-shirt!\n",
       "\n",
       "The full solution is presented here."
      ],
      "text/plain": [
       "<IPython.core.display.Markdown object>"
      ]
     },
     "metadata": {},
     "output_type": "display_data"
    }
   ],
   "source": [
    "url='https://www.janestreet.com/puzzles/number-cross-solution/'\n",
    "\n",
    "res = requests.get(url)\n",
    "soup = BeautifulSoup(res.content, 'html.parser')\n",
    "y =[text for text in soup.body.stripped_strings]\n",
    "#display([(i,j) for i,j in enumerate(y)])\n",
    "display(Markdown(\"### \"+y[8]+\"\\n\\n\"+str(\"\\n\\n\".join(y[10:12]))))"
   ]
  },
  {
   "cell_type": "markdown",
   "metadata": {
    "id": "ld_NFUIfT1W9"
   },
   "source": [
    "<img src=\"https://www.janestreet.com/puzzles/Aug14_Solution.png\" width=\"700\" >"
   ]
  },
  {
   "cell_type": "code",
   "execution_count": 7,
   "metadata": {},
   "outputs": [
    {
     "data": {
      "text/plain": [
       "0"
      ]
     },
     "execution_count": 7,
     "metadata": {},
     "output_type": "execute_result"
    }
   ],
   "source": [
    "solution = np.array([[3,2,4,0,2,5,6,0,5,2,9],\n",
    "                     [6,5,9,0,1,6,9,0,7,8,4],\n",
    "                     [1,3,2,0,4,8,5,3,6,9,7],\n",
    "                     [0,0,1,3,6,2,7,8,0,0,0],\n",
    "                     [6,9,7,1,3,0,8,7,2,1,9],\n",
    "                     [2,6,5,8,0,0,0,1,4,3,7],\n",
    "                     [5,1,8,9,3,0,3,4,5,7,8],\n",
    "                     [0,0,0,2,4,9,8,5,6,0,0],\n",
    "                     [2,6,8,4,7,5,1,0,7,9,8],                 \n",
    "                     [1,3,5,0,8,4,2,0,9,7,4],\n",
    "                     [3,9,2,0,9,2,5,0,8,6,1]\n",
    "                    ],dtype=int)\n",
    "\n",
    "s+= [X[i][j] == int(solution[i,j]) for i in range(11) for j in range(11) if grid[i,j] != 1]\n",
    "np.sum(np.array(r) != solution)"
   ]
  },
  {
   "cell_type": "code",
   "execution_count": null,
   "metadata": {},
   "outputs": [],
   "source": []
  }
 ],
 "metadata": {
  "colab": {
   "include_colab_link": true,
   "name": "JaneSt-Feb18.ipynb",
   "provenance": []
  },
  "kernelspec": {
   "display_name": "Python 3",
   "language": "python",
   "name": "python3"
  },
  "language_info": {
   "codemirror_mode": {
    "name": "ipython",
    "version": 3
   },
   "file_extension": ".py",
   "mimetype": "text/x-python",
   "name": "python",
   "nbconvert_exporter": "python",
   "pygments_lexer": "ipython3",
   "version": "3.7.10"
  }
 },
 "nbformat": 4,
 "nbformat_minor": 4
}
