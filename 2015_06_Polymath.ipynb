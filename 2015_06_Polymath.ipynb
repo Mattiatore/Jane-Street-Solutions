{
 "cells": [
  {
   "cell_type": "code",
   "execution_count": 1,
   "id": "artificial-traveler",
   "metadata": {},
   "outputs": [],
   "source": [
    "import numpy as np\n",
    "import pandas as pd\n",
    "import time\n",
    "import seaborn as sns\n",
    "import matplotlib.pyplot as plt\n",
    "import requests\n",
    "from bs4 import BeautifulSoup\n",
    "import itertools\n",
    "from copy import deepcopy as dcopy,copy\n",
    "from skimage.morphology import label\n",
    "from scipy.ndimage import measurements\n",
    "import sys\n",
    "import numba as nb"
   ]
  },
  {
   "cell_type": "code",
   "execution_count": 6,
   "id": "saving-decrease",
   "metadata": {},
   "outputs": [],
   "source": [
    "url='https://www.janestreet.com/puzzles/polymath/'\n",
    "res = requests.get(url)\n",
    "soup = BeautifulSoup(res.content, 'html.parser')\n",
    "y =[text for text in soup.body.stripped_strings]\n",
    "print(\"Puzzle\")\n",
    "print(\"~~~~~~\")\n",
    "print(\" \".join(y[8:24]))"
   ]
  },
  {
   "cell_type": "markdown",
   "id": "international-rally",
   "metadata": {},
   "source": [
    "\n",
    "<img src=\"https://www.janestreet.com/puzzles/wp-content/uploads/2015/06/Jun15_puzzle.png\" width=\"300\" >\n"
   ]
  },
  {
   "cell_type": "code",
   "execution_count": 16,
   "id": "biological-italy",
   "metadata": {},
   "outputs": [
    {
     "data": {
      "image/png": "[encoded data removed]",
      "text/plain": [
       "<Figure size 288x288 with 1 Axes>"
      ]
     },
     "metadata": {
      "needs_background": "light"
     },
     "output_type": "display_data"
    }
   ],
   "source": [
    "fixed = [[6,7,5,2,6,4,2,1,4,4],\n",
    "         [5,4,6,7,7,2,4,2,6,1],\n",
    "         [5,1,7,3,4,5,5,4,7,4],\n",
    "         [2,7,6,5,1,1,2,4,6,1],\n",
    "         [1,5,3,5,3,5,3,4,5,1],\n",
    "         [6,1,2,3,4,4,5,7,2,3],\n",
    "         [1,6,5,3,3,6,5,1,1,7],\n",
    "         [2,1,1,2,1,7,1,3,3,3],\n",
    "         [7,4,4,6,3,4,1,1,6,2],\n",
    "         [4,6,5,6,2,3,7,2,3,6]]\n",
    "         \n",
    "def grid_print(fixed):\n",
    "    fig,ax = plt.subplots(1,1,figsize=(4,4))\n",
    "    ax = sns.heatmap(fixed,annot=fixed,cbar=False,cmap=\"tab20_r\",fmt=\"\",linewidths=1,annot_kws={\"size\":14})\n",
    "    ax.axis(\"off\")\n",
    "    plt.tight_layout()\n",
    "    \n",
    "grid_print(fixed)"
   ]
  },
  {
   "cell_type": "code",
   "execution_count": 12,
   "id": "green-glass",
   "metadata": {},
   "outputs": [
    {
     "name": "stdout",
     "output_type": "stream",
     "text": [
      "Puzzle\n",
      "~~~~~~\n",
      "As most solvers realized, it was better to try and use a large n with fewer n-ominoes than a smaller n with many n-ominoes.   The top score we received from a handful of solvers was 20,160.  Interestingly, there are (at least) 2 different ways of getting to this score — one way is presented here, see if you can find the other! Congratulations to Wouter Bosma, one of the 20,160 submitters, and this month’s randomly-chosen winner of a Jane Street t-shirt!\n"
     ]
    }
   ],
   "source": [
    "url='https://www.janestreet.com/puzzles/solutions/june-2015-solution/'\n",
    "res = requests.get(url)\n",
    "soup = BeautifulSoup(res.content, 'html.parser')\n",
    "y =[text for text in soup.body.stripped_strings]\n",
    "print(\"Puzzle\")\n",
    "print(\"~~~~~~\")\n",
    "print(\" \".join(y[7:9]))"
   ]
  },
  {
   "cell_type": "markdown",
   "id": "supported-recovery",
   "metadata": {},
   "source": [
    "\n",
    "<img src=\"https://www.janestreet.com/puzzles/wp-content/uploads/2015/07/polymath_solution.png\" width=\"300\" >\n"
   ]
  },
  {
   "cell_type": "code",
   "execution_count": 15,
   "id": "arbitrary-feelings",
   "metadata": {},
   "outputs": [
    {
     "data": {
      "text/plain": [
       "20160"
      ]
     },
     "execution_count": 15,
     "metadata": {},
     "output_type": "execute_result"
    }
   ],
   "source": [
    "import math\n",
    "\n",
    "math.factorial(7)*4"
   ]
  },
  {
   "cell_type": "code",
   "execution_count": null,
   "id": "genuine-martin",
   "metadata": {},
   "outputs": [],
   "source": []
  }
 ],
 "metadata": {
  "kernelspec": {
   "display_name": "Python 3",
   "language": "python",
   "name": "python3"
  },
  "language_info": {
   "codemirror_mode": {
    "name": "ipython",
    "version": 3
   },
   "file_extension": ".py",
   "mimetype": "text/x-python",
   "name": "python",
   "nbconvert_exporter": "python",
   "pygments_lexer": "ipython3",
   "version": "3.7.7"
  }
 },
 "nbformat": 4,
 "nbformat_minor": 5
}
