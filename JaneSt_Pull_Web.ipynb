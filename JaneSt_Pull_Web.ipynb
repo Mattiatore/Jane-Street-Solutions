{
 "cells": [
  {
   "cell_type": "code",
   "execution_count": 2,
   "id": "aging-quantum",
   "metadata": {},
   "outputs": [],
   "source": [
    "import numpy as np\n",
    "import pandas as pd\n",
    "import requests\n",
    "from bs4 import BeautifulSoup\n",
    "import xlwings as xw\n"
   ]
  },
  {
   "cell_type": "code",
   "execution_count": 3,
   "id": "severe-cycling",
   "metadata": {},
   "outputs": [],
   "source": [
    "url = \"https://www.janestreet.com/puzzles/archive/page/\"\n",
    "data =[]\n",
    "\n",
    "for i in range(1,9):   \n",
    "    res = requests.get(url+str(i))\n",
    "    soup = BeautifulSoup(res.content, 'html.parser')\n",
    "    x =[text for text in soup.body.stripped_strings]\n",
    "\n",
    "    for i in range(6,46,4):\n",
    "        data.append([x[i],x[i+1]])\n",
    "        \n",
    "res = requests.get(url+str(9))\n",
    "soup = BeautifulSoup(res.content, 'html.parser')\n",
    "x =[text for text in soup.body.stripped_strings]\n",
    "\n",
    "for i in range(6,20,4):  \n",
    "    data.append([x[i],x[i+1]])        \n"
   ]
  },
  {
   "cell_type": "code",
   "execution_count": 4,
   "id": "known-superior",
   "metadata": {},
   "outputs": [],
   "source": [
    "sht = xw.Book().sheets[0]\n",
    "sht.range('a1').options(index=False).value = pd.DataFrame(data)"
   ]
  },
  {
   "cell_type": "code",
   "execution_count": null,
   "id": "unauthorized-increase",
   "metadata": {},
   "outputs": [],
   "source": []
  }
 ],
 "metadata": {
  "kernelspec": {
   "display_name": "Python 3",
   "language": "python",
   "name": "python3"
  },
  "language_info": {
   "codemirror_mode": {
    "name": "ipython",
    "version": 3
   },
   "file_extension": ".py",
   "mimetype": "text/x-python",
   "name": "python",
   "nbconvert_exporter": "python",
   "pygments_lexer": "ipython3",
   "version": "3.7.7"
  }
 },
 "nbformat": 4,
 "nbformat_minor": 5
}
