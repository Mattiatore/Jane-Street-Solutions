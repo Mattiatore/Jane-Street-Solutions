{
 "cells": [
  {
   "cell_type": "code",
   "execution_count": 21,
   "metadata": {},
   "outputs": [],
   "source": [
    "import pulp\n",
    "import numpy as np\n",
    "import time\n",
    "import seaborn as sns\n",
    "import matplotlib.pyplot as plt\n",
    "import requests\n",
    "from bs4 import BeautifulSoup\n",
    "import itertools"
   ]
  },
  {
   "cell_type": "code",
   "execution_count": 23,
   "metadata": {},
   "outputs": [
    {
     "name": "stdout",
     "output_type": "stream",
     "text": [
      "The grid below can be partitioned into 9 L-shaped “hooks”.  The largest is 9-by-9 (contains 17 squares), the next largest is 8-by-8 (contains 15 squares), and so on.  The smallest hook is just a single square. Find where the hooks are located, and place nine 9’s in the largest hook, eight 8’s in the next-largest, etc., down to one 1 in the smallest hook. The goal is for the sum of the numbers in each row and column to match the number given outside the grid. As your answer to this puzzle, submit the largest product one can achieve using a subset of the numbered squares in the completed grid, satisfying the condition that no two squares in the subset are in the same row or column.\n"
     ]
    }
   ],
   "source": [
    "# Working through the hooks puzzles.\n",
    "# Solving the matrix is fast using the same tools as the Feb 14 puzzle \n",
    "# but I'm looping through all possible arrangements of hooks which is slow\n",
    "\n",
    "url='https://www.janestreet.com/puzzles/hooks-2/'\n",
    "res = requests.get(url)\n",
    "soup = BeautifulSoup(res.content, 'html.parser')\n",
    "x =[text for text in soup.body.stripped_strings]\n",
    "\n",
    "print(\" \".join(x[7:]))"
   ]
  },
  {
   "cell_type": "markdown",
   "metadata": {},
   "source": [
    "### Puzzle details\n",
    "<img src=\"https://www.janestreet.com/puzzles/wp-content/uploads/2016/05/may16_puzzle_expanded.png\" width=\"500\" height=\"600\">"
   ]
  },
  {
   "cell_type": "code",
   "execution_count": 3,
   "metadata": {},
   "outputs": [],
   "source": [
    "#Setup the constraints\n",
    "col_labels = [45,44,4, 48, 7, 14, 47, 43, 33]\n",
    "row_labels = [36, 5, 47, 35, 17, 30, 21,49, 45]"
   ]
  },
  {
   "cell_type": "code",
   "execution_count": 24,
   "metadata": {},
   "outputs": [],
   "source": [
    "# 3 functions.\n",
    "# - one to create possible grids\n",
    "# - one to solve the puzzle for a given set of \"L\"s\n",
    "# - one to print showing the \"L\"s\n",
    "\n",
    "def setup_grid(alignments):\n",
    "    y = np.array([[1]])\n",
    "    for i in range(0,8):\n",
    "        temp = np.ones((i+2,i+2),dtype=int)*(i+2)\n",
    "        if alignments[i] == 0:         \n",
    "            temp[:-1,:-1] = y\n",
    "        if alignments[i] == 1:         \n",
    "            temp[1:,:-1] = y\n",
    "        if alignments[i] == 2:         \n",
    "            temp[:-1,1:] = y\n",
    "        if alignments[i] == 3:         \n",
    "            temp[1:,1:] = y                  \n",
    "        y=temp\n",
    "    return y\n",
    "\n",
    "    \n",
    "def solve_matrix(y,col_labels,row_labels):\n",
    "    nums = range(1, 10)\n",
    "    problem = pulp.LpProblem('Problem') \n",
    "    x = pulp.LpVariable.dicts('x', [(row, col) for row in nums for col in nums],lowBound=0,upBound=1, cat='Binary') # declare decision variables\n",
    "\n",
    "    for index in nums:\n",
    "        mask = (y == index)\n",
    "        problem += pulp.lpSum([x[(row, col)] * mask[row-1,col-1] for row in range(1, 10) for col in range(1,10)]) == index\n",
    "\n",
    "    for row in nums:\n",
    "        problem += pulp.lpSum([y[row-1, col-1] * x[(row, col)] for col in nums]) == col_labels[row - 1]\n",
    "\n",
    "    for col in nums:\n",
    "        problem += pulp.lpSum([y[row-1, col-1] * x[(row, col)] for row in nums]) == row_labels[col - 1]\n",
    "\n",
    "    #Solve LP\n",
    "    problem.solve()\n",
    "\n",
    "    solution = np.zeros((9,9),dtype=int)\n",
    "    for row in nums:\n",
    "        for col in nums:\n",
    "            solution[row - 1][col - 1] = x[(row, col)].varValue\n",
    "\n",
    "    return np.array(solution) , y\n",
    "\n",
    "def sol_print(solved,matrix):\n",
    "    fig,ax = plt.subplots(1,1,figsize=(5,5))\n",
    "    ax = sns.heatmap(matrix,annot=solved*matrix,cbar=False,cmap=\"YlGnBu\")\n",
    "    ax.axis(\"off\")"
   ]
  },
  {
   "cell_type": "code",
   "execution_count": null,
   "metadata": {},
   "outputs": [],
   "source": [
    "start =  time.perf_counter()\n",
    "\n",
    "for a,b,c,d,e,f,g,h in itertools.product(range(4),range(4),range(4),range(4),range(4),range(4),range(4),range(4)):\n",
    "    arrangment = [a,b,c,d,e,f,g,h]\n",
    "    y = setup_grid(arrangment)\n",
    "    solved,matrix = solve_matrix(y,col_labels,row_labels)\n",
    "    if np.sum(np.abs(np.sum(solved*matrix,axis=0)-row_labels)) + np.sum(np.abs(np.sum(solved*matrix,axis=1)-col_labels)) == 0:\n",
    "        print(\"solved with arrangement\",arrangment)\n",
    "        break                                                                                                                                                                  \n",
    "\n",
    "stop =  time.perf_counter()\n",
    "print('Solution took {:0.4f} seconds\\n'.format((stop-start)))\n",
    "sol_print(solved,matrix)\n",
    "print(\"row check\",np.sum(solved*matrix,axis=0)-row_labels)\n",
    "print(\"col check\",np.sum(solved*matrix,axis=1)-col_labels)\n",
    "print(\"\\n\")"
   ]
  },
  {
   "cell_type": "markdown",
   "metadata": {},
   "source": [
    "### Puzzle solution\n",
    "<img src=\"https://www.janestreet.com/puzzles/wp-content/uploads/2016/06/may16_solution.png\" width=\"500\" height=\"600\">"
   ]
  },
  {
   "cell_type": "code",
   "execution_count": null,
   "metadata": {},
   "outputs": [],
   "source": [
    "###test with correct alignment\n",
    "\n",
    "start =  time.perf_counter()\n",
    "\n",
    "alignments = [2,1,3,3,2,0,0,1]\n",
    "\n",
    "y = setup_grid(alignments)\n",
    "solved,matrix = solve_matrix(y,col_labels,row_labels)\n",
    "\n",
    "stop =  time.perf_counter()\n",
    "print('Solution took {:0.4f} seconds\\n'.format((stop-start)))\n",
    "sol_print(solved,matrix)\n",
    "print(\"row check\",np.sum(solved*matrix,axis=0)-row_labels)\n",
    "print(\"col check\",np.sum(solved*matrix,axis=1)-col_labels)\n",
    "print(\"\\n\")"
   ]
  },
  {
   "cell_type": "code",
   "execution_count": null,
   "metadata": {},
   "outputs": [],
   "source": []
  }
 ],
 "metadata": {
  "kernelspec": {
   "display_name": "Python 3",
   "language": "python",
   "name": "python3"
  },
  "language_info": {
   "codemirror_mode": {
    "name": "ipython",
    "version": 3
   },
   "file_extension": ".py",
   "mimetype": "text/x-python",
   "name": "python",
   "nbconvert_exporter": "python",
   "pygments_lexer": "ipython3",
   "version": "3.7.7"
  }
 },
 "nbformat": 4,
 "nbformat_minor": 4
}
