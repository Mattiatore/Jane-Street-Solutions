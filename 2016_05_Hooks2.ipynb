{
 "cells": [
  {
   "cell_type": "code",
   "execution_count": 1,
   "metadata": {},
   "outputs": [
    {
     "name": "stderr",
     "output_type": "stream",
     "text": [
      "In d:\\Anaconda3\\lib\\site-packages\\matplotlib\\mpl-data\\stylelib\\_classic_test.mplstyle: \n",
      "The savefig.frameon rcparam was deprecated in Matplotlib 3.1 and will be removed in 3.3.\n",
      "In d:\\Anaconda3\\lib\\site-packages\\matplotlib\\mpl-data\\stylelib\\_classic_test.mplstyle: \n",
      "The verbose.level rcparam was deprecated in Matplotlib 3.1 and will be removed in 3.3.\n",
      "In d:\\Anaconda3\\lib\\site-packages\\matplotlib\\mpl-data\\stylelib\\_classic_test.mplstyle: \n",
      "The verbose.fileo rcparam was deprecated in Matplotlib 3.1 and will be removed in 3.3.\n"
     ]
    }
   ],
   "source": [
    "import pulp\n",
    "import numpy as np\n",
    "import time\n",
    "import seaborn as sns\n",
    "import matplotlib.pyplot as plt\n",
    "import requests\n",
    "from bs4 import BeautifulSoup\n",
    "import itertools\n",
    "from copy import deepcopy as dcopy\n"
   ]
  },
  {
   "cell_type": "code",
   "execution_count": 2,
   "metadata": {},
   "outputs": [
    {
     "name": "stdout",
     "output_type": "stream",
     "text": [
      "The grid below can be partitioned into 9 L-shaped “hooks”.  The largest is 9-by-9 (contains 17 squares), the next largest is 8-by-8 (contains 15 squares), and so on.  The smallest hook is just a single square. Find where the hooks are located, and place nine 9’s in the largest hook, eight 8’s in the next-largest, etc., down to one 1 in the smallest hook. The goal is for the sum of the numbers in each row and column to match the number given outside the grid. As your answer to this puzzle, submit the largest product one can achieve using a subset of the numbered squares in the completed grid, satisfying the condition that no two squares in the subset are in the same row or column.\n"
     ]
    }
   ],
   "source": [
    "# Working through the hooks puzzles.\n",
    "# Solving the matrix is fast using the same tools as the Feb 14 puzzle \n",
    "# this time I've managed to cut the number of possible grids down to 3200 from 65k \n",
    "# 16 times speed up when you factor in the cost of cutting down the grids\n",
    "# also sorted out some confusion between row and col labels\n",
    "# tried backtracking but was v. slow and doing a more sophisticated cut down of the \n",
    "# splits just makes it slower\n",
    "\n",
    "url='https://www.janestreet.com/puzzles/hooks-2/'\n",
    "res = requests.get(url)\n",
    "soup = BeautifulSoup(res.content, 'html.parser')\n",
    "x =[text for text in soup.body.stripped_strings]\n",
    "\n",
    "print(\" \".join(x[7:]))"
   ]
  },
  {
   "cell_type": "markdown",
   "metadata": {},
   "source": [
    "### Puzzle details\n",
    "<img src=\"https://www.janestreet.com/puzzles/wp-content/uploads/2016/05/may16_puzzle_expanded.png\" width=\"500\" height=\"600\">"
   ]
  },
  {
   "cell_type": "code",
   "execution_count": 3,
   "metadata": {},
   "outputs": [],
   "source": [
    "#Setup the constraints\n",
    "row_labels = [45,44,4, 48, 7, 14, 47, 43, 33]\n",
    "col_labels = [36, 5, 47, 35, 17, 30, 21,49, 45]"
   ]
  },
  {
   "cell_type": "code",
   "execution_count": 4,
   "metadata": {},
   "outputs": [],
   "source": [
    "# Doing this as a class now\n",
    "# First work out the valid hook placements\n",
    "# then solve for each one\n",
    "#\n",
    "# set up the matrix\n",
    "# - function to add another layer to the hooks\n",
    "# - function to check to see if the hook placements allow the outside number to be made \n",
    "#   from available digits (i.e. 33 cannot be made from 9s so the 9s cannot be on the bottom row)\n",
    "# - make change is the function to check the partitions are allowable\n",
    "# - solve matrix is the function to solve the matrix for a given placement of hooks (next step to do this \n",
    "#   with backtracking as lp will be tough for the next puzzle)\n",
    "\n",
    "class Matrix():\n",
    "    def __init__(self,col_labels,row_labels):\n",
    "        self.col_labels = col_labels\n",
    "        self.row_labels = row_labels\n",
    "        self.potential_grids = [[-9,np.ones((9,9),dtype=int)*-1,[0,0,9,9]]] # list of all grids not yet ruled out.[Level,grid,coordinates of the grid yet to be filled]\n",
    "        self.solution = []\n",
    "\n",
    "     \n",
    "    def add_layer(self,grid,coords,lvl,alignment):\n",
    "        row_start,col_start,row_end, col_end = coords\n",
    "    \n",
    "        if alignment == 0:\n",
    "            grid[row_start:row_end,col_start] =lvl\n",
    "            grid[row_start,col_start:col_end] =lvl\n",
    "            row_start +=1\n",
    "            col_start +=1\n",
    "    \n",
    "        if alignment == 1:\n",
    "            grid[row_start:row_end,col_start] =lvl\n",
    "            grid[row_end-1,col_start:col_end] =lvl\n",
    "            row_end -=1\n",
    "            col_start +=1 \n",
    "\n",
    "        if alignment == 2:\n",
    "            grid[row_start:row_end,col_end-1] =lvl\n",
    "            grid[row_start,col_start:col_end] =lvl\n",
    "            row_start +=1\n",
    "            col_end -=1\n",
    "        \n",
    "        if alignment == 3:\n",
    "            grid[row_start:row_end,col_end-1] =lvl\n",
    "            grid[row_end-1,col_start:col_end] =lvl\n",
    "            row_end -=1\n",
    "            col_end -=1 \n",
    "    \n",
    "        coords = [row_start,col_start,row_end, col_end]\n",
    "        \n",
    "        return grid,coords    \n",
    "\n",
    "    def check_grid(self,grid):\n",
    "        for row in range(9):\n",
    "            if self.row_labels[row] != 0:\n",
    "                min = np.min(grid[row,:])\n",
    "                if min > 0:\n",
    "                    if not(self.make_change(self.row_labels[row],list(np.arange(9,min-1,-1)))):\n",
    "                        return False\n",
    "                    \n",
    "        for col in range(9):\n",
    "            if self.col_labels[col] != 0:\n",
    "                min = np.min(grid[:,col])\n",
    "                if min > 0:\n",
    "                    if not(self.make_change(self.col_labels[col],list(np.arange(9,min-1,-1)))):\n",
    "                        return False\n",
    "        return True\n",
    "    \n",
    "    \n",
    "    def make_change(self,amount,coins):\n",
    "        if amount == 0:\n",
    "            ret = True\n",
    "        elif len(coins)==0:\n",
    "            ret = False\n",
    "        elif amount < 0:\n",
    "            ret = False \n",
    "        else:\n",
    "            ret = self.make_change(amount-coins[0], coins) or self.make_change(amount, coins[1:])\n",
    "        return ret\n",
    "  \n",
    "    def solve_matrix(self,y):\n",
    "        nums = range(1, 10)\n",
    "        problem = pulp.LpProblem('Problem') \n",
    "        x = pulp.LpVariable.dicts('x', [(row, col) for row in nums for col in nums],lowBound=0,upBound=1, cat='Binary') # declare decision variables\n",
    "\n",
    "        for index in nums:\n",
    "            mask = (y == index)\n",
    "            problem += pulp.lpSum([x[(row, col)] * mask[row-1,col-1] for row in range(1, 10) for col in range(1,10)]) == index\n",
    "\n",
    "        for row in nums:\n",
    "            problem += pulp.lpSum([y[row-1, col-1] * x[(row, col)] for col in nums]) == self.row_labels[row - 1]\n",
    "\n",
    "        for col in nums:\n",
    "            problem += pulp.lpSum([y[row-1, col-1] * x[(row, col)] for row in nums]) == self.col_labels[col - 1]\n",
    "\n",
    "        #Solve LP\n",
    "        problem.solve()\n",
    "\n",
    "        solution = np.zeros((9,9),dtype=int)\n",
    "        for row in nums:\n",
    "            for col in nums:\n",
    "                solution[row - 1][col - 1] = x[(row, col)].varValue\n",
    "\n",
    "        return np.array(solution) , y\n",
    "\n",
    "    def solve(self):\n",
    "            \n",
    "        while len(self.potential_grids) > 0:\n",
    "            \n",
    "            temp_grid = self.potential_grids.pop(0)\n",
    "            #create the potential rotations at the given level\n",
    "            rotations = []\n",
    "        \n",
    "            for alignment in range(4):\n",
    "                lvl,grid,coords = dcopy(temp_grid)\n",
    "                grid,coords = self.add_layer(grid,coords,-lvl,alignment)\n",
    "                if lvl != -1 :\n",
    "                    rotations.append([lvl+1,grid,coords])\n",
    "                else:\n",
    "                     rotations = [[lvl+1,grid,coords]]\n",
    "    \n",
    "            \n",
    "            #check valid grids (where the sum can be made from available digits) and save the ones that work\n",
    "            for i in range(len(rotations)):\n",
    "                lvl,g,coords = rotations[i]\n",
    "                if self.check_grid(g):\n",
    "                    if lvl !=0:    \n",
    "                        self.potential_grids.append([lvl,g,coords])\n",
    "                    else:\n",
    "                        self.solution.append(g)\n",
    "                        \n",
    "        print(\"There are {} valid hooks\".format(len(self.solution)))\n",
    "        \n",
    "        #solve each grid in the cut down list\n",
    "        for i in range(len(self.solution)):\n",
    "            grid = self.solution[i]\n",
    "            solved,matrix = self.solve_matrix(grid)\n",
    "            \n",
    "            if np.sum(np.abs(np.sum(solved*matrix,axis=1)-self.row_labels)) + np.sum(np.abs(np.sum(solved*matrix,axis=0)-self.col_labels)) == 0:\n",
    "                self.final = [solved,matrix]\n",
    "                break\n",
    "                \n",
    "def sol_print(solved,matrix):\n",
    "    fig,ax = plt.subplots(1,1,figsize=(5,5))\n",
    "    ax = sns.heatmap(matrix,annot=solved*matrix,cbar=False,cmap=\"YlGnBu\")\n",
    "    ax.axis(\"off\")"
   ]
  },
  {
   "cell_type": "code",
   "execution_count": 5,
   "metadata": {},
   "outputs": [
    {
     "name": "stdout",
     "output_type": "stream",
     "text": [
      "There are 3200 valid hooks\n",
      "Solution took 52.2173 seconds\n",
      "\n",
      "row check [0 0 0 0 0 0 0 0 0]\n",
      "col check [0 0 0 0 0 0 0 0 0]\n",
      "\n",
      "\n"
     ]
    },
    {
     "data": {
      "image/png": "[encoded data removed]",
      "text/plain": [
       "<Figure size 360x360 with 1 Axes>"
      ]
     },
     "metadata": {
      "needs_background": "light"
     },
     "output_type": "display_data"
    }
   ],
   "source": [
    "start = time.perf_counter()\n",
    "test = Matrix(col_labels,row_labels)\n",
    "test.solve()\n",
    "solved,matrix = test.final\n",
    "stop =  time.perf_counter()\n",
    "print('Solution took {:0.4f} seconds\\n'.format((stop-start)))\n",
    "sol_print(solved,matrix)\n",
    "print(\"row check\",np.sum(solved*matrix,axis=1)-row_labels)\n",
    "print(\"col check\",np.sum(solved*matrix,axis=0)-col_labels)\n",
    "print(\"\\n\")"
   ]
  },
  {
   "cell_type": "markdown",
   "metadata": {},
   "source": [
    "### Puzzle solution\n",
    "<img src=\"https://www.janestreet.com/puzzles/wp-content/uploads/2016/06/may16_solution.png\" width=\"500\" height=\"600\">"
   ]
  },
  {
   "cell_type": "code",
   "execution_count": 11,
   "metadata": {},
   "outputs": [],
   "source": [
    "# Few failed attempts at speeding up\n",
    "# below some useful test grids\n",
    "# then try to \n",
    "    \n",
    "correct = np.array([[9, 9, 9, 9, 9, 9, 9, 9, 9],\n",
    "                    [6, 5, 5, 5, 5, 5, 7, 8, 9],\n",
    "                    [6, 5, 4, 4, 4, 4, 7, 8, 9],\n",
    "                    [6, 5, 4, 3, 3, 3, 7, 8, 9],\n",
    "                    [6, 5, 4, 2, 1, 3, 7, 8, 9],\n",
    "                    [6, 5, 4, 2, 2, 3, 7, 8, 9],\n",
    "                    [6, 6, 6, 6, 6, 6, 7, 8, 9],\n",
    "                    [7, 7, 7, 7, 7, 7, 7, 8, 9],                          \n",
    "                    [8, 8, 8, 8, 8, 8, 8, 8, 9]])\n",
    "\n",
    "solved=np.array([[9, 0, 9, 0, 0, 9, 0, 9, 9],\n",
    "                 [0, 0, 5, 5, 5, 5, 7, 8, 9],\n",
    "                 [0, 0, 0, 4, 0, 0, 0, 0, 0],\n",
    "                 [6, 5, 4, 3, 3, 3, 7, 8, 9],\n",
    "                 [0, 0, 4, 2, 1, 0, 0, 0, 0],\n",
    "                 [0, 0, 4, 0, 2, 0, 0, 8, 0],\n",
    "                 [6, 0, 6, 6, 6, 6, 0, 8, 9],\n",
    "                 [7, 0, 7, 7, 0, 7, 7, 8, 0],\n",
    "                 [8, 0, 8, 8, 0, 0, 0, 0, 9]]\n",
    "        "
   ]
  },
  {
   "cell_type": "code",
   "execution_count": 42,
   "metadata": {},
   "outputs": [
    {
     "data": {
      "text/plain": [
       "True"
      ]
     },
     "execution_count": 42,
     "metadata": {},
     "output_type": "execute_result"
    }
   ],
   "source": [
    "# Having limited coins does not reduce the count but slows down the calc due to extra computation\n",
    "def limited_coins(n,min_coin):\n",
    "    cs = []\n",
    "    for i in range(9,min_coin-1,-1):\n",
    "        cs.append((i,i))\n",
    "    r = [1] + [0] * n\n",
    "    for c, k in cs:\n",
    "        rs = r[:]\n",
    "        for i in range(c, n+1):\n",
    "            rs[i] += rs[i-c]\n",
    "            r[i] += rs[i-c] - (0 if i<c*(k+1) else rs[i-c*(k+1)])\n",
    "    if r[n]== 0:\n",
    "        return False\n",
    "    else:\n",
    "        return True\n",
    "        \n",
    "\n",
    "limited_coins(45,9)"
   ]
  },
  {
   "cell_type": "code",
   "execution_count": 43,
   "metadata": {},
   "outputs": [
    {
     "name": "stdout",
     "output_type": "stream",
     "text": [
      "[16 22 13 17 31 13 28]\n",
      "[18  7 18 21 12 36 28]\n",
      "SOLVED\n",
      "[[1 2 3 4 0 6 0]\n",
      " [2 0 3 4 0 6 7]\n",
      " [3 0 0 4 0 6 0]\n",
      " [0 0 0 4 0 6 7]\n",
      " [5 5 5 5 5 6 0]\n",
      " [0 0 0 0 0 6 7]\n",
      " [7 0 7 0 7 0 7]]\n",
      "Solution took 5.5520 seconds\n",
      "\n"
     ]
    }
   ],
   "source": [
    "# Backtracking is WAY too slow - gets slower by an order of magnitude as we increase the size\n",
    "\n",
    "test_hooks = np.array([[1,2,3,4,5,6,7],\n",
    "                       [2,2,3,4,5,6,7],\n",
    "                       [3,3,3,4,5,6,7],\n",
    "                       [4,4,4,4,5,6,7],\n",
    "                       [5,5,5,5,5,6,7],\n",
    "                       [6,6,6,6,6,6,7],\n",
    "                       [7,7,7,7,7,7,7]])\n",
    "\n",
    "test_correct = np.array([[1,2,3,4,0,6,0],\n",
    "                         [2,0,3,4,0,6,7],\n",
    "                         [3,0,0,4,0,6,0],\n",
    "                         [0,0,0,4,0,6,7],\n",
    "                         [5,5,5,5,5,6,0],\n",
    "                         [0,0,0,0,0,6,7],\n",
    "                         [7,0,7,0,7,0,7] ])  \n",
    "shape = 7\n",
    "\n",
    "row_labels = np.sum(test_correct,axis=1)\n",
    "print(row_labels)\n",
    "col_labels = np.sum(test_correct,axis=0)\n",
    "print(col_labels)\n",
    "\n",
    "def solve_matrix(y,solution = np.ones((shape,shape),dtype = int)*-1):\n",
    "        for row in range(shape):\n",
    "            for col in range(shape):\n",
    "                #print(row,col,solution)\n",
    "                if solution[row,col] == -1:\n",
    "                    for digit in range(2):\n",
    "                        if possible(row,col,digit,solution,y):\n",
    "                            solution[row,col] = digit\n",
    "                            solve_matrix(y,solution=solution)\n",
    "                            solution[row,col] = -1\n",
    "                    return\n",
    "        print(\"SOLVED\")        \n",
    "        print(solution*y)\n",
    "    \n",
    "def possible(row,col,digit,solution,y):\n",
    "        num = y[row,col]\n",
    "        #check counts\n",
    "        if digit == 1:\n",
    "            #print(\"count check: count {} num{}\\n\".format(np.sum((y == num)* (solution ==1)),num ),solution)\n",
    "            if  np.sum((y == num)* (solution ==1)) > num-1:\n",
    "                #print(\"count fail\")\n",
    "                return False\n",
    "        \n",
    "        if np.sum(solution[row,:]==-1) == 1:\n",
    "            #print(\"row check : row {} col {} sum {} row label {}\\n\".format(row,col,np.sum(solution[row,:]*y[row,:]) + 2* num,row_labels[row]),solution)\n",
    "            if np.sum(solution[row,:]*y[row,:]) + num * (1+digit)  != row_labels[row]:\n",
    "                #print(\"row fail\")\n",
    "                return False\n",
    "                \n",
    "        if np.sum(solution[:,col]==-1) == 1:\n",
    "            #print(\"col check : row {} col {} sum {} row label {}\\n\".format(row,col,np.sum(solution[:,col]*y[:,col]) +  2* num,row_labels[row]),solution)\n",
    "            if np.sum(solution[:,col]*y[:,col]) +  num *(1+digit)  != col_labels[col]:\n",
    "                #print(\"col fail\")\n",
    "                return False    \n",
    "            \n",
    "        #print(\"pass\",digit)    \n",
    "        return True\n",
    "    \n",
    "start = time.perf_counter() \n",
    "solve_matrix(test_hooks)\n",
    "stop =  time.perf_counter()\n",
    "print('Solution took {:0.4f} seconds\\n'.format((stop-start)))"
   ]
  },
  {
   "cell_type": "code",
   "execution_count": null,
   "metadata": {},
   "outputs": [],
   "source": []
  }
 ],
 "metadata": {
  "kernelspec": {
   "display_name": "Python 3",
   "language": "python",
   "name": "python3"
  },
  "language_info": {
   "codemirror_mode": {
    "name": "ipython",
    "version": 3
   },
   "file_extension": ".py",
   "mimetype": "text/x-python",
   "name": "python",
   "nbconvert_exporter": "python",
   "pygments_lexer": "ipython3",
   "version": "3.7.7"
  }
 },
 "nbformat": 4,
 "nbformat_minor": 4
}
