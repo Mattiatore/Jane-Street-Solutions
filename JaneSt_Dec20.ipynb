{
  "nbformat": 4,
  "nbformat_minor": 0,
  "metadata": {
    "kernelspec": {
      "display_name": "Python 3",
      "language": "python",
      "name": "python3"
    },
    "language_info": {
      "codemirror_mode": {
        "name": "ipython",
        "version": 3
      },
      "file_extension": ".py",
      "mimetype": "text/x-python",
      "name": "python",
      "nbconvert_exporter": "python",
      "pygments_lexer": "ipython3",
      "version": "3.7.6"
    },
    "colab": {
      "name": "JaneSt_Dec20.ipynb",
      "provenance": []
    }
  },
  "cells": [
    {
      "cell_type": "code",
      "metadata": {
        "id": "_-C_WtzyHqCB"
      },
      "source": [
        "import numpy as np\n",
        "import time\n",
        "from skimage.morphology import label\n",
        "import requests\n",
        "from bs4 import BeautifulSoup\n",
        "import copy"
      ],
      "execution_count": 1,
      "outputs": []
    },
    {
      "cell_type": "code",
      "metadata": {
        "colab": {
          "base_uri": "https://localhost:8080/"
        },
        "id": "N9rYPOlaHqCF",
        "outputId": "ee3a87a7-80ac-48cb-b287-a507cb846510"
      },
      "source": [
        "# Going back to look at an old puzzle to try to get started on the Dec 2020\n",
        "# Use backtracking to solve\n",
        "\n",
        "\n",
        "url='https://www.janestreet.com/puzzles/twenty-four-seven-2-by-2-2/'\n",
        "res = requests.get(url)\n",
        "soup = BeautifulSoup(res.content, 'html.parser')\n",
        "x =[text for text in soup.body.stripped_strings]\n",
        "\n",
        "print(\"\".join(x[7:]))"
      ],
      "execution_count": 2,
      "outputs": [
        {
          "output_type": "stream",
          "text": [
            "Each of the grids below is incomplete. Place numbers in some of the empty cells so that in total each grid’s interior contains one 1, two 2’s, etc., up to seven 7’s. Furthermore, each row and column within each grid must contain exactly 4 numbers which sum to 20. Finally, the numbered cells must form a connected region, but every 2-by-2 subsquare in the completed grid must contain at least one empty cell.Some numbers have been placed inside each grid. Additionally, some blue numbers have been placed outside of the grids. These blue numbers indicate the first value seen in the corresponding row or column when looking into the grid from that location.Once each of the grids is complete, create a 7-by-7 grid by “adding” the four grids’ interiors together (as if they were 7-by-7 matrices). The answer to this month’s puzzle is the sum of thesquaresof the values in this final grid.\n"
          ],
          "name": "stdout"
        }
      ]
    },
    {
      "cell_type": "code",
      "metadata": {
        "id": "37BYx-gCHsAO"
      },
      "source": [
        ""
      ],
      "execution_count": 2,
      "outputs": []
    },
    {
      "cell_type": "markdown",
      "metadata": {
        "id": "KeNiW2HgHqCH"
      },
      "source": [
        "### Puzzle details\n",
        "<img src=\"https://www.janestreet.com/puzzles/wp-content/uploads/2020/12/image.png\" width=\"500\" height=\"600\">"
      ]
    },
    {
      "cell_type": "code",
      "metadata": {
        "id": "_Gk3AOhkHqCI"
      },
      "source": [
        "grid4 =np.array([[0,0,0,0,0,0,0],\n",
        "                 [0,0,0,0,0,0,0],\n",
        "                 [0,0,0,0,0,0,3],\n",
        "                 [0,0,0,0,0,0,0],\n",
        "                 [0,0,0,0,4,0,0],\n",
        "                 [0,0,0,0,0,0,0],\n",
        "                 [0,0,3,0,0,0,0]])\n",
        "\n",
        "top_looks4 = [0,0,0,0,0,0,0]\n",
        "bot_looks4 = [0,6,0,5,0,4,0]\n",
        "left_looks4 = [1,2,3,4,5,6,7]\n",
        "right_looks4 = [0,6,0,4,0,2,0]\n",
        "\n",
        "grid4[grid4==0]=-1\n",
        "\n",
        "grid3 =np.array([[0,0,0,0,4,0,0],\n",
        "                 [0,6,0,0,0,0,0],\n",
        "                 [4,0,0,0,0,0,6],\n",
        "                 [0,0,0,0,0,0,0],\n",
        "                 [6,0,0,0,0,0,4],\n",
        "                 [0,0,0,0,0,6,0],\n",
        "                 [0,0,4,0,0,0,0]])\n",
        "\n",
        "top_looks3 = [7,0,0,5,0,7,0]\n",
        "bot_looks3 = [0,7,0,3,0,0,5]\n",
        "left_looks3 = [0,0,0,7,0,0,0]\n",
        "right_looks3 = [0,0,0,5,0,0,0]\n",
        "\n",
        "grid3[grid3==0]=-1\n",
        "\n",
        "grid2 =np.array([[0,2,0,0,0,0,0],\n",
        "                 [2,0,0,0,0,0,0],\n",
        "                 [0,0,0,0,0,0,0],\n",
        "                 [0,0,0,0,0,3,0],\n",
        "                 [0,0,0,0,3,0,0],\n",
        "                 [0,0,0,3,0,0,0],\n",
        "                 [0,0,0,0,0,0,1]])\n",
        "\n",
        "top_looks2 = [0,0,5,6,0,6,7]\n",
        "bot_looks2 = [6,7,5,0,0,0,0]\n",
        "left_looks2 = [0,0,5,6,0,7,6]\n",
        "right_looks2 = [6,6,4,0,0,0,0]\n",
        "\n",
        "grid2[grid2==0]=-1\n",
        "\n",
        "grid1 =np.array([[0,0,4,0,0,0,0],\n",
        "                 [0,0,0,6,0,0,0],\n",
        "                 [5,0,0,0,0,0,0],\n",
        "                 [0,3,0,0,0,6,0],\n",
        "                 [0,0,0,0,0,0,2],\n",
        "                 [0,0,0,1,0,0,0],\n",
        "                 [0,0,0,0,4,0,0]])\n",
        "\n",
        "top_looks1 = [5,4,0,0,0,7,5]\n",
        "bot_looks1 = [5,7,0,0,0,3,6]\n",
        "left_looks1 = [5,7,0,0,0,5,7]\n",
        "right_looks1 = [7,4,0,0,0,7,6]\n",
        "\n",
        "grid1[grid1==0]=-1"
      ],
      "execution_count": 3,
      "outputs": []
    },
    {
      "cell_type": "code",
      "metadata": {
        "id": "qn-Se_W-HqCJ"
      },
      "source": [
        "#Forming the Puzzle Grid\n",
        "class Matrix():\n",
        "    def __init__(self,input_grid,top_looks,bot_looks,left_looks,right_looks):\n",
        "        self.grid = input_grid\n",
        "        self.top_looks = top_looks\n",
        "        self.bot_looks = bot_looks\n",
        "        self.left_looks =left_looks\n",
        "        self.right_looks = right_looks\n",
        "        self.counts = {i:i-np.sum(self.grid==i) for i in range(8)}\n",
        "        print(self.counts)\n",
        "        print('The problem - Start {}'.format(time.strftime('%X')))\n",
        "        self.printGrid()\n",
        "    \n",
        "#Function to print the grid\n",
        "    def printGrid(self):\n",
        "        print(self.grid)\n",
        "        \n",
        "#Function to check if a digit can be placed in the given block\n",
        "#Various checks in her but the \"looks\" and constraints on rows with low numbers in separate functions\n",
        "    def possible(self,row,col,digit):\n",
        "\n",
        "        # Check row and columns count\n",
        "        if digit ==0:\n",
        "            if np.sum(self.grid[:,col]==0) > 2:\n",
        "                #print('fail1')\n",
        "                return False\n",
        "            if np.sum(self.grid[row,:]==0) > 2:\n",
        "                #print('fail2')\n",
        "                return False\n",
        "            \n",
        "        # Check that final number completes\n",
        "        if digit !=0:\n",
        "            if np.sum(self.grid[row,:]>0) > 2:\n",
        "                if np.sum(self.grid[row,:])+digit+np.sum(self.grid[row,:]==-1)  != 20:\n",
        "                    return False\n",
        "                    \n",
        "            if np.sum(self.grid[:,col]>0) > 2:\n",
        "                if np.sum(self.grid[:,col])+digit+np.sum(self.grid[:,col]==-1)  != 20:\n",
        "                    return False\n",
        "        \n",
        "        # Check row and columns sum\n",
        "        if np.sum(self.grid[:,col])+digit+np.sum(self.grid[:,col]==-1) > 20:\n",
        "            #print('fail5')\n",
        "            #print(col,self.grid[:,col],np.sum(self.grid[:,col]),digit,np.sum(self.grid[:,col]==-1))\n",
        "            return False\n",
        "        \n",
        "        if np.sum(self.grid[row,:])+digit+np.sum(self.grid[row,:]==-1)  > 20:\n",
        "            #print('fail6')\n",
        "            return False\n",
        "        \n",
        "        #check 2x2\n",
        "        if digit !=0:\n",
        "            if self.twobytwo(row,col):\n",
        "                #print('fail7')\n",
        "                return False\n",
        "            \n",
        "        # Check Fobidden nums\n",
        "            if self.more_constraints(self.grid[row,:],digit):\n",
        "                #print('fail8')\n",
        "                return False\n",
        "        \n",
        "            if self.more_constraints(self.grid[:,col],digit):\n",
        "                #print('fail9')\n",
        "                return False\n",
        "            \n",
        "            if self.check_looks(row,col,digit):\n",
        "                return False\n",
        "        \n",
        "        #checkconnected\n",
        "        if np.max(label(self.grid!=0,connectivity=1)) >1 :\n",
        "            #print('fail10')\n",
        "            return False\n",
        "        \n",
        "        # All tests pass return True\n",
        "        return True\n",
        "    \n",
        "    def twobytwo(self,i,j):\n",
        "        if (i > 0 and j > 0 and \n",
        "        self.grid[i-1,j-1] > 0 and \n",
        "        self.grid[i-1,j] > 0 and \n",
        "        self.grid[i,j-1] > 0):\n",
        "            return True\n",
        "    \n",
        "        if (i > 0 and j < 6 and\n",
        "        self.grid[i-1,j+1] > 0 and \n",
        "        self.grid[i-1,j] > 0 and \n",
        "        self.grid[i,j+1] > 0):\n",
        "            return True\n",
        "    \n",
        "        if (i < 6 and j > 0 and\n",
        "        self.grid[i+1,j-1] > 0 and \n",
        "        self.grid[i+1,j] > 0 and \n",
        "        self.grid[i,j-1] > 0):\n",
        "            return True\n",
        "\n",
        "    \n",
        "        if (i < 6 and j < 6 and\n",
        "        self.grid[i+1,j+1] > 0 and \n",
        "        self.grid[i+1,j] > 0 and \n",
        "        self.grid[i,j+1] > 0):\n",
        "            return True\n",
        "    \n",
        "        return False\n",
        "    \n",
        "    def more_constraints(self,array,digit):\n",
        "    \n",
        "        if np.sum(array==1) > 0:\n",
        "            if digit < 5:\n",
        "                return True\n",
        "            return False\n",
        "        \n",
        "        if np.sum(array==2) > 0:\n",
        "            if digit < 4 :\n",
        "                return True\n",
        "            return False\n",
        "    \n",
        "        if np.sum(array==3) > 0:\n",
        "            if digit < 3 :\n",
        "                return True\n",
        "            return False\n",
        "    \n",
        "        if np.sum(array==4) > 0:\n",
        "            if digit < 2 :\n",
        "                return True\n",
        "            return False\n",
        "        \n",
        "        return False\n",
        "        \n",
        "    def check_looks(self,row,col,digit):\n",
        "        if self.left_looks[row] > 0:\n",
        "            found = False\n",
        "            for i in range(5):\n",
        "                if found == False:\n",
        "                    if self.grid[row,i] != 0:\n",
        "                        found = True\n",
        "                        if i == col:\n",
        "                            if self.left_looks[row] != digit:\n",
        "                                return True\n",
        "    \n",
        "        if self.top_looks[col] > 0:\n",
        "            found = False\n",
        "            for i in range(5):\n",
        "                if found == False:\n",
        "                    if self.grid[i,col] != 0:\n",
        "                        found = True\n",
        "                        if i == row:\n",
        "                            if self.top_looks[col] != digit:\n",
        "                                return True\n",
        "\n",
        "        if self.right_looks[row] > 0:\n",
        "            found = False\n",
        "            for i in range(6,4,-1):\n",
        "                if found == False:\n",
        "                    if self.grid[row,i] != 0:\n",
        "                        found = True\n",
        "                        if i == col:\n",
        "                            if self.right_looks[row] != digit:\n",
        "                                return True\n",
        "    \n",
        "        if self.bot_looks[col] > 0:\n",
        "            found = False\n",
        "            for i in range(6,4,-1):\n",
        "                if found == False:\n",
        "                    if self.grid[i,col] != 0:\n",
        "                        found = True\n",
        "                        if i == row:\n",
        "                            if self.bot_looks[col] != digit:\n",
        "                                return True\n",
        "        return False    \n",
        "        \n",
        "        \n",
        "    def solve(self):\n",
        "        \n",
        "        for row in range(7):\n",
        "            for col in range(7):\n",
        "                if self.grid[row,col] == -1:\n",
        "                    for digit in range(7,-1,-1):\n",
        "                        if (digit ==0 or self.counts[digit]>0):\n",
        "                            if self.possible(row,col,digit):\n",
        "                                #print(row,col,digit,self.grid[row,col],self.grid[0,0])\n",
        "                                #print(self.counts)\n",
        "                                #print(self.grid)\n",
        "                                self.grid[row,col] = digit\n",
        "                                self.counts[digit] -= 1\n",
        "                                self.solve()\n",
        "                                self.grid[row,col] = -1  #Backtrack step\n",
        "                                self.counts[digit] += 1\n",
        "                    return \n",
        "        \n",
        "        print('\\nThe solution - End {}'.format(time.strftime('%X')))\n",
        "        self.solution = copy.copy(self.grid)"
      ],
      "execution_count": 4,
      "outputs": []
    },
    {
      "cell_type": "code",
      "metadata": {
        "colab": {
          "base_uri": "https://localhost:8080/"
        },
        "id": "lk_3CbpDHqCR",
        "outputId": "f9739e06-7b09-4f29-9e1b-8b9b24f9a0b8"
      },
      "source": [
        "x1 = Matrix(grid1,top_looks1,bot_looks1,left_looks1,right_looks1)\n",
        "x1.solve()\n",
        "print(x1.solution)\n",
        "print('\\n Finish {}'.format(time.strftime('%X')))"
      ],
      "execution_count": 5,
      "outputs": [
        {
          "output_type": "stream",
          "text": [
            "{0: 0, 1: 0, 2: 1, 3: 2, 4: 2, 5: 4, 6: 4, 7: 7}\n",
            "The problem - Start 15:36:00\n",
            "[[-1 -1  4 -1 -1 -1 -1]\n",
            " [-1 -1 -1  6 -1 -1 -1]\n",
            " [ 5 -1 -1 -1 -1 -1 -1]\n",
            " [-1  3 -1 -1 -1  6 -1]\n",
            " [-1 -1 -1 -1 -1 -1  2]\n",
            " [-1 -1 -1  1 -1 -1 -1]\n",
            " [-1 -1 -1 -1  4 -1 -1]]\n",
            "\n",
            "The solution - End 15:36:04\n",
            "[[5 4 4 0 0 7 0]\n",
            " [0 0 7 6 3 4 0]\n",
            " [5 6 2 0 7 0 0]\n",
            " [0 3 0 0 6 6 5]\n",
            " [5 7 0 6 0 0 2]\n",
            " [5 0 7 1 0 0 7]\n",
            " [0 0 0 7 4 3 6]]\n",
            "\n",
            " Finish 15:36:05\n"
          ],
          "name": "stdout"
        }
      ]
    },
    {
      "cell_type": "code",
      "metadata": {
        "colab": {
          "base_uri": "https://localhost:8080/"
        },
        "id": "DcX2kvpGHqCW",
        "outputId": "778ead48-588c-49d7-cecc-092240701aee"
      },
      "source": [
        "x2 = Matrix(grid2,top_looks2,bot_looks2,left_looks2,right_looks2)\n",
        "x2.solve()\n",
        "print(x2.solution)\n",
        "print('\\n Finish {}'.format(time.strftime('%X')))"
      ],
      "execution_count": 6,
      "outputs": [
        {
          "output_type": "stream",
          "text": [
            "{0: 0, 1: 0, 2: 0, 3: 0, 4: 4, 5: 5, 6: 6, 7: 7}\n",
            "The problem - Start 15:36:05\n",
            "[[-1  2 -1 -1 -1 -1 -1]\n",
            " [ 2 -1 -1 -1 -1 -1 -1]\n",
            " [-1 -1 -1 -1 -1 -1 -1]\n",
            " [-1 -1 -1 -1 -1  3 -1]\n",
            " [-1 -1 -1 -1  3 -1 -1]\n",
            " [-1 -1 -1  3 -1 -1 -1]\n",
            " [-1 -1 -1 -1 -1 -1  1]]\n",
            "\n",
            "The solution - End 15:36:15\n",
            "[[7 2 5 6 0 0 0]\n",
            " [2 0 0 5 7 6 0]\n",
            " [5 7 4 0 0 4 0]\n",
            " [0 0 6 0 4 3 7]\n",
            " [6 4 0 0 3 0 7]\n",
            " [0 7 5 3 0 0 5]\n",
            " [0 0 0 6 6 7 1]]\n",
            "\n",
            " Finish 15:37:01\n"
          ],
          "name": "stdout"
        }
      ]
    },
    {
      "cell_type": "code",
      "metadata": {
        "colab": {
          "base_uri": "https://localhost:8080/"
        },
        "id": "_c8ly-kUHqCW",
        "outputId": "ecea6ba3-72ac-4bd4-c004-8d106450c048"
      },
      "source": [
        "x3 = Matrix(grid3,top_looks3,bot_looks3,left_looks3,right_looks3)\n",
        "x3.solve()\n",
        "print(x3.solution)\n",
        "print('\\n Finish {}'.format(time.strftime('%X')))"
      ],
      "execution_count": 7,
      "outputs": [
        {
          "output_type": "stream",
          "text": [
            "{0: 0, 1: 1, 2: 2, 3: 3, 4: 0, 5: 5, 6: 2, 7: 7}\n",
            "The problem - Start 15:37:01\n",
            "[[-1 -1 -1 -1  4 -1 -1]\n",
            " [-1  6 -1 -1 -1 -1 -1]\n",
            " [ 4 -1 -1 -1 -1 -1  6]\n",
            " [-1 -1 -1 -1 -1 -1 -1]\n",
            " [ 6 -1 -1 -1 -1 -1  4]\n",
            " [-1 -1 -1 -1 -1  6 -1]\n",
            " [-1 -1  4 -1 -1 -1 -1]]\n",
            "\n",
            "The solution - End 15:37:03\n",
            "[[7 2 0 0 4 7 0]\n",
            " [0 6 7 5 2 0 0]\n",
            " [4 5 0 5 0 0 6]\n",
            " [0 0 0 7 7 1 5]\n",
            " [6 7 3 0 0 0 4]\n",
            " [3 0 6 0 0 6 5]\n",
            " [0 0 4 3 7 6 0]]\n",
            "\n",
            " Finish 15:38:09\n"
          ],
          "name": "stdout"
        }
      ]
    },
    {
      "cell_type": "code",
      "metadata": {
        "colab": {
          "base_uri": "https://localhost:8080/"
        },
        "id": "Zjoigfi4HqCY",
        "outputId": "f957a50b-8266-4cde-df7f-c33af4a98805"
      },
      "source": [
        "x4 = Matrix(grid4,top_looks4,bot_looks4,left_looks4,right_looks4)\r\n",
        "x4.solve()\r\n",
        "print(x4.solution)\r\n",
        "print('\\n Finish {}'.format(time.strftime('%X')))"
      ],
      "execution_count": 8,
      "outputs": [
        {
          "output_type": "stream",
          "text": [
            "{0: 0, 1: 1, 2: 2, 3: 1, 4: 3, 5: 5, 6: 6, 7: 7}\n",
            "The problem - Start 15:38:09\n",
            "[[-1 -1 -1 -1 -1 -1 -1]\n",
            " [-1 -1 -1 -1 -1 -1 -1]\n",
            " [-1 -1 -1 -1 -1 -1  3]\n",
            " [-1 -1 -1 -1 -1 -1 -1]\n",
            " [-1 -1 -1 -1  4 -1 -1]\n",
            " [-1 -1 -1 -1 -1 -1 -1]\n",
            " [-1 -1  3 -1 -1 -1 -1]]\n",
            "\n",
            "The solution - End 15:42:52\n",
            "\n",
            "The solution - End 15:45:38\n",
            "[[0 0 0 1 5 7 7]\n",
            " [0 2 5 7 0 0 6]\n",
            " [3 7 0 7 0 0 3]\n",
            " [4 0 0 0 5 7 4]\n",
            " [0 5 6 5 4 0 0]\n",
            " [6 0 6 0 6 2 0]\n",
            " [7 6 3 0 0 4 0]]\n",
            "\n",
            " Finish 15:45:44\n"
          ],
          "name": "stdout"
        }
      ]
    },
    {
      "cell_type": "code",
      "metadata": {
        "colab": {
          "base_uri": "https://localhost:8080/"
        },
        "id": "Gc3bV7xcItkt",
        "outputId": "27dad185-b825-462e-a96b-1b8357234844"
      },
      "source": [
        "solved = np.sum((x1.solution+x2.solution+x3.solution+x4.solution)**2)\r\n",
        "print(solved)"
      ],
      "execution_count": 9,
      "outputs": [
        {
          "output_type": "stream",
          "text": [
            "8520\n"
          ],
          "name": "stdout"
        }
      ]
    },
    {
      "cell_type": "code",
      "metadata": {
        "id": "vxcNSIrdOufo"
      },
      "source": [
        ""
      ],
      "execution_count": 9,
      "outputs": []
    }
  ]
}