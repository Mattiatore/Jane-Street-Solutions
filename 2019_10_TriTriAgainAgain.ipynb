{
 "cells": [
  {
   "cell_type": "code",
   "execution_count": 1,
   "metadata": {
    "id": "Oq1xibzMT1Wl"
   },
   "outputs": [],
   "source": [
    "import numpy as np\n",
    "import pandas as pd\n",
    "import time\n",
    "import seaborn as sns\n",
    "import matplotlib.pyplot as plt\n",
    "import requests\n",
    "from bs4 import BeautifulSoup\n",
    "import itertools\n",
    "from copy import deepcopy as dcopy,copy\n",
    "from skimage.morphology import label\n",
    "from scipy.ndimage import measurements\n",
    "import sys\n",
    "import numba as nb\n",
    "from collections import defaultdict\n"
   ]
  },
  {
   "cell_type": "code",
   "execution_count": 2,
   "metadata": {
    "id": "ICTfvjZUT1Wr"
   },
   "outputs": [
    {
     "name": "stdout",
     "output_type": "stream",
     "text": [
      "Description Place a collection of right triangles into the grid below. The triangles must have integer-length legs, and the legs must be along grid lines. Each triangle must contain exactly one number. That number represents the area of the triangle containing it. (Every number must eventually be contained in exactly one triangle.) The entire square (1-by-1 cell) containing the number must be inside the triangle. Triangles’ interiors may not overlap. (But triangles’ boundaries may intersect, as seen in the example.) As your answer to this month’s puzzle, please send in the product of the odd horizontal leg lengths.\n"
     ]
    }
   ],
   "source": [
    "# STILL A WORK IN PROGRESS\n",
    "# STARTED WITH SHAPELY WHICH WORKS BUT IS VERY SLOW\n",
    "# NEED TO WRITE MY OWN INTERSECTION CODE !\n",
    "\n",
    "url='https://www.janestreet.com/puzzles/tri-tri-again-again/'\n",
    "res = requests.get(url)\n",
    "soup = BeautifulSoup(res.content, 'html.parser')\n",
    "x =[text for text in soup.body.stripped_strings]\n",
    "\n",
    "print(\" \".join(x[7:19]))"
   ]
  },
  {
   "cell_type": "markdown",
   "metadata": {
    "id": "U9Yh1D3HT1Ws"
   },
   "source": [
    "### Puzzle details\n",
    "<img src=\"https://www.janestreet.com/puzzles/wp-content/uploads/2019/10/20191002_tri_again.png\" width=\"350\" >"
   ]
  },
  {
   "cell_type": "code",
   "execution_count": 3,
   "metadata": {
    "id": "0VI0NM6ET1Wt"
   },
   "outputs": [],
   "source": [
    "# set up the groups\n",
    "grid = np.array([[ 0,  0,  0,  0,  0,  0,  0,  0,  0,  8,  0,  0,  0,  2,  0,  0, 0],\n",
    "                 [ 0,  0,  0, 12,  0,  0,  0,  0,  0,  0,  0,  0,  0,  0,  7,  0, 0],\n",
    "                 [ 4,  0,  0,  0,  0, 10,  0,  0,  0,  0,  0,  0,  3,  0,  0,  0, 0],\n",
    "                 [ 0,  0,  0,  0,  0,  0,  0,  0,  0,  0,  0,  0,  0,  0,  0,  0, 5],\n",
    "                 [ 0,  0,  0,  0,  0,  0,  0,  7,  0,  0,  0,  0,  0, 10,  0,  0, 0],\n",
    "                 [ 0,  0,  3,  0,  0,  0,  0,  0,  0,  0,  0,  0,  0,  0,  0,  0, 0],\n",
    "                 [ 0,  7,  0,  0,  0,  0,  0,  0,  0,  0,  0,  3,  0,  0,  0,  0, 3],\n",
    "                 [ 0,  0,  0,  0,  0,  0,  0,  0,  0,  0,  0,  0,  0,  0,  0,  0, 0],\n",
    "                 [ 0,  0,  0,  0,  0,  0,  0,  0, 20,  0,  0,  0,  0,  0,  0,  0, 0],\n",
    "                 [ 0,  0,  0,  0,  0,  0,  0,  0,  0,  0,  0,  0,  0,  0,  0,  0, 0],\n",
    "                 [ 4,  0,  0,  0,  0, 14,  0,  0,  0,  0,  0,  0,  0,  0,  0, 18, 0],\n",
    "                 [ 0,  0,  0,  0,  0,  0,  0,  0,  0,  0,  0,  0,  0,  0,  8,  0, 0],\n",
    "                 [ 0,  0,  0,  9,  0,  0,  0,  0,  0, 11,  0,  0,  0,  0,  0,  0, 0],\n",
    "                 [ 6,  0,  0,  0,  0,  0,  0,  0,  0,  0,  0,  0,  0,  0,  0,  0, 0],\n",
    "                 [ 0,  0,  0,  0,  3,  0,  0,  0,  0,  0,  0,  7,  0,  0,  0,  0, 6],\n",
    "                 [ 0,  0, 12,  0,  0,  0,  0,  0,  0,  0,  0,  0,  0,  4,  0,  0, 0],\n",
    "                 [ 0,  0,  0,  2,  0,  0,  0, 18,  0,  0,  0,  0,  0,  0,  0,  0, 0]\n",
    "                ],dtype =int)\n",
    "\n",
    "test_triangles  =  [[[0, 14], [0, 12], [2, 14]], [[0, 14], [0, 16], [7, 14]], [[5, 17], [5, 15], [0, 17]],\n",
    "                    [[7, 17], [7, 14], [5, 17]], [[7, 17], [7, 11], [13, 17]], [[3, 14], [3, 9], [7, 14]],\n",
    "                    [[3, 12], [3, 14], [0, 12]],[[7, 11], [7, 14], [5, 11]], [[17, 3], [17, 0], [9, 3]],\n",
    "                    [[11, 0], [11, 2], [7, 0]], [[11, 0], [11, 2], [17, 0]], [[17, 3], [17, 5], [15, 3]],\n",
    "                    [[4, 2], [4, 0], [11, 2]], [[4, 0], [4, 2], [0, 0]], [[0, 4], [0, 0], [6, 4]],\n",
    "                    [[6, 2], [6, 4], [3, 2]], [[0, 12], [0, 4], [2, 12]], [[1, 4], [1, 8], [6, 4]],\n",
    "                    [[4, 8], [4, 6], [11, 8]], [[11, 8], [11, 12], [1, 8]], [[6, 6], [6, 2], [13, 6]],\n",
    "                    [[14, 3], [14, 6], [8, 3]],[[13, 6], [13, 17], [11, 6]], [[12, 12], [12, 16], [8, 12]],\n",
    "                    [[14, 5], [14, 3], [17, 5]], [[17, 5], [17, 17], [14, 5]], [[14, 13], [14, 6], [16, 13]], \n",
    "                    [[16, 13], [16, 17], [14, 13]], [[13, 17], [13, 13], [16, 17]]]\n",
    "\n"
   ]
  },
  {
   "cell_type": "code",
   "execution_count": 16,
   "metadata": {
    "colab": {
     "base_uri": "https://localhost:8080/",
     "height": 374
    },
    "id": "zexQ8t1kT1W3",
    "outputId": "7c2aec4e-d2fb-45d8-fc7e-679051faafed"
   },
   "outputs": [],
   "source": [
    "class Matrix():\n",
    "    def __init__(self,grid,tris=[]):\n",
    "        self.tris = tris\n",
    "        self.grid = grid\n",
    "        # have a grid of labeled points and \n",
    "        # numbers representing each one\n",
    "        self.grid_points = dcopy(grid)\n",
    "        self.numbers = self.grid_points[self.grid_points!=0] # the number \n",
    "        labels = np.arange(np.sum(self.grid_points!= 0))\n",
    "        # store the status of each placed triangle\n",
    "        self.placed = np.zeros(np.sum(self.grid_points!= 0))\n",
    "        # lable each number and store the number \n",
    "        # fiddle around to have the points numbered from 0-28        \n",
    "        self.grid_points[self.grid_points==0] = -1\n",
    "        self.grid_points[self.grid_points!=-1] = labels \n",
    "        self.end_flag = 0\n",
    "\n",
    "        \n",
    "    ################\n",
    "    # run through the grid determining which triangles are possible for each number\n",
    "    def possible_triangles(self):\n",
    "        triangle_dict = defaultdict(list)\n",
    "            # loop throught all the cells create every triangle then\n",
    "            # check the cells to see which numbers are fully in the \n",
    "            # triangle if there are any check there is only one and \n",
    "            # check the area is correct\n",
    "        for row,col in itertools.product(range(18),range(18)):\n",
    "            for h,v in itertools.product(range(18),range(18)):\n",
    "                area =self.area(row,col,h,v)\n",
    "                if area not in self.numbers:\n",
    "                    continue\n",
    "                triangle = [[row,col],[h,col],[row,v]]\n",
    "                cells = self.cells_in_area(triangle)                \n",
    "                labels_in_cell = self.grid_points[cells == 1]\n",
    "                label = labels_in_cell[labels_in_cell != -1]\n",
    "                if len(label) ==1:\n",
    "                    if area == self.numbers[label[0]]:\n",
    "                        triangle_dict[label[0]].append(triangle)\n",
    "                \n",
    "        return triangle_dict \n",
    "    \n",
    "    def area(self,row,col,h,v):\n",
    "        return 0.5 * abs(row-h)*abs(col-v)\n",
    "    \n",
    "    def cells_in_area(self,triangle):\n",
    "        coords = np.array(triangle)\n",
    "        row_min = int(np.min(coords[:,0]))\n",
    "        row_max = int(np.max(coords[:,0]))\n",
    "        col_min = int(np.min(coords[:,1]))\n",
    "        col_max = int(np.max(coords[:,1]))\n",
    "        cells = np.zeros((17,17))\n",
    "        for i in range(row_min,row_max):\n",
    "            for j in range(col_min,col_max):\n",
    "                check = 1\n",
    "                check *= self.point_in_tri(i  ,j  ,triangle)\n",
    "                check *= self.point_in_tri(i+1,j  ,triangle)\n",
    "                check *= self.point_in_tri(i  ,j+1,triangle)\n",
    "                check *= self.point_in_tri(i+1,j+1,triangle)      \n",
    "                cells[i,j] = check\n",
    "        return cells\n",
    "    \n",
    "    def point_in_tri(self,x,y,triangle):\n",
    "        return False\n",
    "    \n",
    "    def place_tris(self):\n",
    "        if self.end_flag == 0:\n",
    "            for label in range(29):\n",
    "                if self.placed[label] == 0:\n",
    "                    if len(self.poss_tris[label]) > 0:                \n",
    "                        for tri in self.poss_tris[label]:\n",
    "                            if self.possible(tri):\n",
    "                                self.tris.append(tri)\n",
    "                                self.placed[label] = 1\n",
    "                                self.place_tris()\n",
    "                                self.tris.remove(tri)\n",
    "                                self.placed[label] = 0\n",
    "                        return\n",
    "            self.end_flag=1\n",
    "            self.lengths()\n",
    "            grid_print(self.grid,self.tris)\n",
    "            \n",
    "    def possible(self,tri):\n",
    "        if len(self.tris) == 0:\n",
    "            return True\n",
    "        for placed_tri in self.tris:\n",
    "            if self.overlaps(tri,placed_tri):\n",
    "                return False\n",
    "        return True\n",
    "    \n",
    "    def overlaps(self,tri1,tri2):\n",
    "        return True\n",
    "    \n",
    "   \n",
    "    # work out the product of the odd horizontal leg lengths the solution\n",
    "    def lengths(self):\n",
    "        lengths = []\n",
    "        for [x0,x1],[y0,y1],_  in self.tris:\n",
    "                length = abs(x1-y1)\n",
    "                if length % 2 == 1: \n",
    "                    lengths.append(length)\n",
    "        print(\"The product of the odd horizontal leg lengths = {:,.0f}\\n\".format(np.prod(lengths)))            \n",
    "        \n",
    "    def solve(self):\n",
    "        poss_tris = self.possible_triangles()\n",
    "        #print({key:len(poss_tris[key]) for key in poss_tris})\n",
    "        self.poss_tris = poss_tris\n",
    "        self.place_tris()\n",
    "        \n",
    "#############################    \n",
    "# print out the result nicely    \n",
    "    \n",
    "def grid_print(grid,tris):\n",
    "        fig,ax = plt.subplots(1,1,figsize=(5,5))\n",
    "        x = np.array((grid).astype('int').astype('str'))\n",
    "        x[x==\"0\"] =\"\"\n",
    "        y = grid !=0\n",
    "        ax = sns.heatmap(y,annot=x,cbar=False,cmap=\"Reds\",center =2,fmt=\"\",linewidths=1,linecolor=\"lightgrey\")\n",
    "        ax.axis(\"off\")\n",
    "        for tri in tris:\n",
    "            for points in itertools.combinations(tri,2):\n",
    "                plt.plot([points[0][1],points[1][1]],[points[0][0],points[1][0]], linewidth=1,color=\"b\")\n",
    "        plt.tight_layout()       \n",
    "        "
   ]
  },
  {
   "cell_type": "code",
   "execution_count": 18,
   "metadata": {
    "colab": {
     "base_uri": "https://localhost:8080/",
     "height": 374
    },
    "id": "zexQ8t1kT1W3",
    "outputId": "7c2aec4e-d2fb-45d8-fc7e-679051faafed"
   },
   "outputs": [
    {
     "name": "stdout",
     "output_type": "stream",
     "text": [
      "The product of the odd horizontal leg lengths = 31,185\n",
      "\n",
      "Solution took 1.8590 seconds\n",
      "\n",
      "Solved Grid\n",
      "~~~~~~~~~~~\n"
     ]
    },
    {
     "data": {
      "image/png": "[encoded data removed]",
      "text/plain": [
       "<Figure size 360x360 with 1 Axes>"
      ]
     },
     "metadata": {
      "needs_background": "light"
     },
     "output_type": "display_data"
    }
   ],
   "source": [
    "start = time.perf_counter()\n",
    "test = Matrix(grid,test_triangles)\n",
    "test.solve()\n",
    "stop =  time.perf_counter()\n",
    "print('Solution took {:0.4f} seconds'.format((stop-start)))\n",
    "\n",
    "print('\\nSolved Grid')\n",
    "print('~~~~~~~~~~~')\n",
    "\n"
   ]
  },
  {
   "cell_type": "code",
   "execution_count": 19,
   "metadata": {
    "colab": {
     "base_uri": "https://localhost:8080/",
     "height": 374
    },
    "id": "zexQ8t1kT1W3",
    "outputId": "7c2aec4e-d2fb-45d8-fc7e-679051faafed"
   },
   "outputs": [
    {
     "name": "stdout",
     "output_type": "stream",
     "text": [
      "The answer to this month’s puzzle is 31185 , and the completed grid is presented here.  Congratulations to everyone who got the correct answer this month!\n"
     ]
    }
   ],
   "source": [
    "url='https://www.janestreet.com/puzzles/solutions/october-2019-solution/'\n",
    "res = requests.get(url)\n",
    "soup = BeautifulSoup(res.content, 'html.parser')\n",
    "x =[text for text in soup.body.stripped_strings]\n",
    "\n",
    "print(\" \".join(x[7:10]))"
   ]
  },
  {
   "cell_type": "markdown",
   "metadata": {
    "id": "ld_NFUIfT1W9"
   },
   "source": [
    "### Puzzle solution\n",
    "<img src=\"https://www.janestreet.com/puzzles/wp-content/uploads/2019/11/Oct19_Solution.png\" width=\"300\" >"
   ]
  },
  {
   "cell_type": "code",
   "execution_count": 41,
   "metadata": {},
   "outputs": [
    {
     "name": "stdout",
     "output_type": "stream",
     "text": [
      "POLYGON ((4 0, 4 2, 0 0, 4 0))\n"
     ]
    },
    {
     "data": {
      "image/png": "[encoded data removed]",
      "text/plain": [
       "<Figure size 360x360 with 1 Axes>"
      ]
     },
     "metadata": {
      "needs_background": "light"
     },
     "output_type": "display_data"
    }
   ],
   "source": [
    "obj_tri = []\n",
    "for tri in test_triangles:\n",
    "    obj_tri.append(Polygon(tri))\n",
    "\n",
    "\n",
    "def cells_in_area(triangle):\n",
    "        coords = np.array(mapping(triangle)['coordinates'])[0,:-1,:]\n",
    "\n",
    "        row_min = int(np.min(coords[:,0]))\n",
    "        row_max = int(np.max(coords[:,0]))\n",
    "        col_min = int(np.min(coords[:,1]))\n",
    "        col_max = int(np.max(coords[:,1]))\n",
    "        cells = np.zeros((17,17))\n",
    "        for i in range(row_min,row_max):\n",
    "            for j in range(col_min,col_max):\n",
    "                cell =Polygon([[i,j],[i+1,j],[i,j+1],[i+1,j+1]])\n",
    "                cells[i,j] = cell.within(triangle.buffer(1e-14))\n",
    "        return cells\n",
    "\n",
    "    \n",
    "for triangle in obj_tri[13:14]: \n",
    "    print(triangle)\n",
    "    test = cells_in_area(triangle)\n",
    "    grid_print(test,[np.array(mapping(triangle)['coordinates'])[0,:-1,:]])\n",
    "    \n",
    "    \n",
    "\n",
    "    "
   ]
  },
  {
   "cell_type": "code",
   "execution_count": 248,
   "metadata": {},
   "outputs": [
    {
     "name": "stdout",
     "output_type": "stream",
     "text": [
      "True\n"
     ]
    },
    {
     "data": {
      "image/png": "[encoded data removed]",
      "text/plain": [
       "<Figure size 360x360 with 1 Axes>"
      ]
     },
     "metadata": {
      "needs_background": "light"
     },
     "output_type": "display_data"
    }
   ],
   "source": [
    "tri1 = [[0,0],[0,4],[4,4]]\n",
    "tri2 = [[0,0],[3,0],[3,4]]\n",
    "t1 = Polygon(tri1)\n",
    "t2 = Polygon(tri2)\n",
    "\n",
    "print(t1.overlaps(t2))\n",
    "\n",
    "grid_print(grid,[tri1,tri2])"
   ]
  },
  {
   "cell_type": "code",
   "execution_count": null,
   "metadata": {},
   "outputs": [],
   "source": []
  }
 ],
 "metadata": {
  "colab": {
   "include_colab_link": true,
   "name": "JaneSt-Feb18.ipynb",
   "provenance": []
  },
  "kernelspec": {
   "display_name": "Python 3",
   "language": "python",
   "name": "python3"
  },
  "language_info": {
   "codemirror_mode": {
    "name": "ipython",
    "version": 3
   },
   "file_extension": ".py",
   "mimetype": "text/x-python",
   "name": "python",
   "nbconvert_exporter": "python",
   "pygments_lexer": "ipython3",
   "version": "3.7.7"
  }
 },
 "nbformat": 4,
 "nbformat_minor": 4
}
