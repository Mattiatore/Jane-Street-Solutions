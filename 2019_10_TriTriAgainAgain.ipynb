{
 "cells": [
  {
   "cell_type": "code",
   "execution_count": 1,
   "metadata": {
    "id": "Oq1xibzMT1Wl"
   },
   "outputs": [],
   "source": [
    "import numpy as np\n",
    "import pandas as pd\n",
    "import time\n",
    "import seaborn as sns\n",
    "import matplotlib.pyplot as plt\n",
    "import requests\n",
    "from bs4 import BeautifulSoup\n",
    "import itertools\n",
    "from copy import deepcopy as dcopy,copy\n",
    "from collections import defaultdict\n",
    "from shapely import speedups\n",
    "from shapely.geometry import Polygon,Point,mapping\n",
    "speedups.enable()"
   ]
  },
  {
   "cell_type": "code",
   "execution_count": 2,
   "metadata": {
    "id": "ICTfvjZUT1Wr"
   },
   "outputs": [
    {
     "name": "stdout",
     "output_type": "stream",
     "text": [
      "Description Place a collection of right triangles into the grid below. The triangles must have integer-length legs, and the legs must be along grid lines. Each triangle must contain exactly one number. That number represents the area of the triangle containing it. (Every number must eventually be contained in exactly one triangle.) The entire square (1-by-1 cell) containing the number must be inside the triangle. Triangles’ interiors may not overlap. (But triangles’ boundaries may intersect, as seen in the example.) As your answer to this month’s puzzle, please send in the product of the odd horizontal leg lengths.\n"
     ]
    }
   ],
   "source": [
    "# Another good one. I went for shapely to handle the triangles but \n",
    "# the gain I get from optimised code is offset by that code being\n",
    "# very general. I wrote my own area function to speed up the triangle finding\n",
    "# copying and pasting stackexchange code for the polygon intersections will\n",
    "# probably speed up immensely\n",
    "# I managed to swap x & y coordinates round early on and bug fixed until it's\n",
    "# all consistent! One to fix on a very dull day.\n",
    "\n",
    "url='https://www.janestreet.com/puzzles/tri-tri-again-again/'\n",
    "res = requests.get(url)\n",
    "soup = BeautifulSoup(res.content, 'html.parser')\n",
    "x =[text for text in soup.body.stripped_strings]\n",
    "\n",
    "print(\" \".join(x[7:19]))"
   ]
  },
  {
   "cell_type": "markdown",
   "metadata": {
    "id": "U9Yh1D3HT1Ws"
   },
   "source": [
    "### Puzzle details\n",
    "<img src=\"https://www.janestreet.com/puzzles/wp-content/uploads/2019/10/20191002_tri_again.png\" width=\"350\" >"
   ]
  },
  {
   "cell_type": "code",
   "execution_count": 3,
   "metadata": {
    "id": "0VI0NM6ET1Wt"
   },
   "outputs": [],
   "source": [
    "# set up the groups\n",
    "grid = np.array([[ 0,  0,  0,  0,  0,  0,  0,  0,  0,  8,  0,  0,  0,  2,  0,  0, 0],\n",
    "                 [ 0,  0,  0, 12,  0,  0,  0,  0,  0,  0,  0,  0,  0,  0,  7,  0, 0],\n",
    "                 [ 4,  0,  0,  0,  0, 10,  0,  0,  0,  0,  0,  0,  3,  0,  0,  0, 0],\n",
    "                 [ 0,  0,  0,  0,  0,  0,  0,  0,  0,  0,  0,  0,  0,  0,  0,  0, 5],\n",
    "                 [ 0,  0,  0,  0,  0,  0,  0,  7,  0,  0,  0,  0,  0, 10,  0,  0, 0],\n",
    "                 [ 0,  0,  3,  0,  0,  0,  0,  0,  0,  0,  0,  0,  0,  0,  0,  0, 0],\n",
    "                 [ 0,  7,  0,  0,  0,  0,  0,  0,  0,  0,  0,  3,  0,  0,  0,  0, 3],\n",
    "                 [ 0,  0,  0,  0,  0,  0,  0,  0,  0,  0,  0,  0,  0,  0,  0,  0, 0],\n",
    "                 [ 0,  0,  0,  0,  0,  0,  0,  0, 20,  0,  0,  0,  0,  0,  0,  0, 0],\n",
    "                 [ 0,  0,  0,  0,  0,  0,  0,  0,  0,  0,  0,  0,  0,  0,  0,  0, 0],\n",
    "                 [ 4,  0,  0,  0,  0, 14,  0,  0,  0,  0,  0,  0,  0,  0,  0, 18, 0],\n",
    "                 [ 0,  0,  0,  0,  0,  0,  0,  0,  0,  0,  0,  0,  0,  0,  8,  0, 0],\n",
    "                 [ 0,  0,  0,  9,  0,  0,  0,  0,  0, 11,  0,  0,  0,  0,  0,  0, 0],\n",
    "                 [ 6,  0,  0,  0,  0,  0,  0,  0,  0,  0,  0,  0,  0,  0,  0,  0, 0],\n",
    "                 [ 0,  0,  0,  0,  3,  0,  0,  0,  0,  0,  0,  7,  0,  0,  0,  0, 6],\n",
    "                 [ 0,  0, 12,  0,  0,  0,  0,  0,  0,  0,  0,  0,  0,  4,  0,  0, 0],\n",
    "                 [ 0,  0,  0,  2,  0,  0,  0, 18,  0,  0,  0,  0,  0,  0,  0,  0, 0]\n",
    "                ],dtype =int)"
   ]
  },
  {
   "cell_type": "code",
   "execution_count": 4,
   "metadata": {
    "colab": {
     "base_uri": "https://localhost:8080/",
     "height": 374
    },
    "id": "zexQ8t1kT1W3",
    "outputId": "7c2aec4e-d2fb-45d8-fc7e-679051faafed"
   },
   "outputs": [],
   "source": [
    "class Matrix():\n",
    "    def __init__(self,grid,tris=[]):\n",
    "        self.tris = tris\n",
    "        self.grid = grid\n",
    "        # have a grid of labeled points and \n",
    "        # numbers representing each one\n",
    "        self.grid_points = dcopy(grid)\n",
    "        self.numbers = self.grid_points[self.grid_points!=0] # the number \n",
    "        labels = np.arange(np.sum(self.grid_points!= 0))\n",
    "        # store the status of each placed triangle\n",
    "        self.placed = np.zeros(np.sum(self.grid_points!= 0))\n",
    "        # label each number and store the number \n",
    "        # fiddle around to have the points numbered from 0-28        \n",
    "        self.grid_points[self.grid_points==0] = -1\n",
    "        self.grid_points[self.grid_points!=-1] = labels \n",
    "        self.end_flag = 0\n",
    "\n",
    "        \n",
    "    ################\n",
    "    # run through the grid determining which triangles are possible for each number\n",
    "    def possible_triangles(self):\n",
    "        triangle_dict = defaultdict(list)\n",
    "            # loop throught all the cells create every triangle then\n",
    "            # check the cells to see which numbers are fully in the \n",
    "            # triangle if there are any check check the area is correct \n",
    "            # and there is only one touching the triangle \n",
    "            # touching condition important. Will solve without but\n",
    "            # Takes 4 hours due to increased number of possibilities\n",
    "        for row,col in itertools.product(range(18),range(18)):\n",
    "            for h,v in itertools.product(range(18),range(18)):\n",
    "                area =self.area(row,col,h,v)\n",
    "                if area not in self.numbers:\n",
    "                    continue\n",
    "                triangle = Polygon([[row,col],[h,col],[row,v]])\n",
    "                cells = self.cells_in_area(triangle)                \n",
    "                labels_in_cell = self.grid_points[cells == 1]\n",
    "                label = labels_in_cell[labels_in_cell != -1]\n",
    "                if len(label) ==1:\n",
    "                    if area == self.numbers[label[0]]:\n",
    "                        check_cell = self.cells_touching_area(triangle)\n",
    "                        # touching does not include contains so need an or here\n",
    "                        labels_touching_cell = self.grid_points[(check_cell == 1) | (cells == 1)]\n",
    "                        if np.any(labels_touching_cell ==label) ==1:                       \n",
    "                            triangle_dict[label[0]].append(triangle)\n",
    "                \n",
    "        return triangle_dict \n",
    "    \n",
    "    # simple area for a right triangle, quicker than using shapely\n",
    "    def area(self,row,col,h,v):\n",
    "        return 0.5 * abs(row-h)*abs(col-v)\n",
    "    \n",
    "    # find cells fully in each triangle. Forming a square round each cell \n",
    "    # and checking intersection\n",
    "    def cells_in_area(self,triangle):\n",
    "        coords = np.array(mapping(triangle)['coordinates'])[0,:-1,:]\n",
    "        row_min = int(np.min(coords[:,0]))\n",
    "        row_max = int(np.max(coords[:,0]))\n",
    "        col_min = int(np.min(coords[:,1]))\n",
    "        col_max = int(np.max(coords[:,1]))\n",
    "        cells = np.zeros((17,17))\n",
    "        for i in range(row_min,row_max):\n",
    "            for j in range(col_min,col_max):\n",
    "                cell =Polygon([[i,j],[i+1,j],[i,j+1],[i+1,j+1]])\n",
    "                cells[i,j] = cell.within(triangle.buffer(1e-14))\n",
    "        return cells\n",
    "    \n",
    "    #find cells partially (but not fully .. that took a while to find) in each triangle\n",
    "    # as above forming a square and checking intersection\n",
    "    def cells_touching_area(self,triangle):\n",
    "        coords = np.array(mapping(triangle)['coordinates'])[0,:-1,:]\n",
    "        row_min = int(np.min(coords[:,0]))\n",
    "        row_max = int(np.max(coords[:,0]))\n",
    "        col_min = int(np.min(coords[:,1]))\n",
    "        col_max = int(np.max(coords[:,1]))\n",
    "        cells = np.zeros((17,17))\n",
    "        for i in range(row_min,row_max):\n",
    "            for j in range(col_min,col_max):\n",
    "                cell =Polygon([[i,j],[i+1,j],[i,j+1],[i+1,j+1]])\n",
    "                cells[i,j] = cell.overlaps(triangle.buffer(-1e-14))\n",
    "        return cells\n",
    "    \n",
    "    ########################################################\n",
    "    # Backtracking loop through the triangle placements until\n",
    "    # they all fit. As usual, solving in the obvious order is slow\n",
    "    def place_tris(self):\n",
    "        if self.end_flag == 0:\n",
    "            for label in range(28,-1,-1):\n",
    "                if self.placed[label] == 0:\n",
    "                    if len(self.poss_tris[label]) > 0:                \n",
    "                        for tri in self.poss_tris[label]:\n",
    "                            if self.possible(tri):\n",
    "                                self.tris.append(tri)\n",
    "                                self.placed[label] = 1\n",
    "                                self.place_tris()\n",
    "                                self.tris.remove(tri)\n",
    "                                self.placed[label] = 0\n",
    "                        return\n",
    "            self.end_flag=1\n",
    "            output = [np.array(mapping(x)['coordinates'])[0,:-1,:] for x in self.tris]\n",
    "            self.lengths(output)\n",
    "            grid_print(self.grid,output)\n",
    "            \n",
    "    # Check that the triangles doesn't intersect any of the placed triangles\n",
    "    def possible(self,tri):\n",
    "        if len(self.tris) == 0:\n",
    "            return True\n",
    "        for placed_tri in self.tris:\n",
    "            if tri.overlaps(placed_tri):\n",
    "                return False\n",
    "        return True\n",
    "                            \n",
    "    # work out the product of the odd horizontal leg lengths the solution\n",
    "    def lengths(self,tris):\n",
    "        lengths = []\n",
    "\n",
    "        for tri in tris:\n",
    "            [x0,y0],[x1,y1],[x2,y2] = tri\n",
    "            length = abs(y1-y2)\n",
    "            if length % 2 == 1: \n",
    "                lengths.append(length)\n",
    "        print(\"The product of the odd horizontal leg lengths = {:,.0f}\".format(np.prod(lengths)))            \n",
    "        \n",
    "    # main loop to pull it all together\n",
    "    # find the possible triangles and then send to solve\n",
    "    # to place\n",
    "    def solve(self):\n",
    "        start = time.perf_counter()\n",
    "        print(\"Finding all triangles ...\")\n",
    "        poss_tris = self.possible_triangles()\n",
    "        mid =  time.perf_counter()\n",
    "        print('All possible triangles found after {:0.2f} seconds'.format((mid-start)))\n",
    "        print(\"Number of points picked :\",len(poss_tris))\n",
    "        print('Number of possible placements for each point:',{key:len(poss_tris[key]) for key in poss_tris})\n",
    "        print(\"\\nPlacing triangles ...\")\n",
    "        self.poss_tris = poss_tris\n",
    "        self.place_tris()\n",
    "        end =  time.perf_counter()\n",
    "        print(\"Placing triangles took {:0.2f} seconds\".format(end-mid))\n",
    "        \n",
    "#############################    \n",
    "# print out the result nicely    \n",
    "def grid_print(grid,tris):        \n",
    "        fig,ax = plt.subplots(1,1,figsize=(5,5))\n",
    "        x = np.array((grid).astype('int').astype('str'))\n",
    "        x[x==\"0\"] =\"\"\n",
    "        y = grid !=0\n",
    "        ax = sns.heatmap(y,annot=x,cbar=False,cmap=\"Reds\",center =2,fmt=\"\",linewidths=1,linecolor=\"lightgrey\")\n",
    "        ax.axis(\"off\")\n",
    "        for tri in tris:\n",
    "            for points in itertools.combinations(tri,2):\n",
    "                plt.plot([points[0][1],points[1][1]],[points[0][0],points[1][0]], linewidth=1,color=\"b\")\n",
    "        plt.tight_layout()       \n",
    "        "
   ]
  },
  {
   "cell_type": "code",
   "execution_count": 5,
   "metadata": {
    "colab": {
     "base_uri": "https://localhost:8080/",
     "height": 374
    },
    "id": "zexQ8t1kT1W3",
    "outputId": "7c2aec4e-d2fb-45d8-fc7e-679051faafed"
   },
   "outputs": [
    {
     "name": "stdout",
     "output_type": "stream",
     "text": [
      "Finding all triangles ...\n",
      "All possible triangles found after 79.57 seconds\n",
      "Number of points picked : 29\n",
      "Number of possible placements for each point: {2: 39, 5: 44, 0: 16, 1: 2, 3: 10, 4: 5, 9: 50, 8: 20, 14: 152, 6: 8, 7: 5, 17: 26, 11: 16, 10: 8, 16: 71, 12: 8, 13: 4, 18: 31, 15: 6, 19: 47, 21: 14, 20: 22, 24: 12, 22: 8, 23: 16, 25: 21, 26: 12, 27: 2, 28: 23}\n",
      "\n",
      "Placing triangles ...\n",
      "The product of the odd horizontal leg lengths = 31,185\n",
      "Placing triangles took 186.24 seconds\n",
      "\n",
      "Solved Grid\n",
      "~~~~~~~~~~~\n"
     ]
    },
    {
     "data": {
      "image/png": "[encoded data removed]",
      "text/plain": [
       "<Figure size 360x360 with 1 Axes>"
      ]
     },
     "metadata": {
      "needs_background": "light"
     },
     "output_type": "display_data"
    }
   ],
   "source": [
    "test = Matrix(grid)\n",
    "test.solve()\n",
    "print('\\nSolved Grid')\n",
    "print('~~~~~~~~~~~')"
   ]
  },
  {
   "cell_type": "code",
   "execution_count": 6,
   "metadata": {
    "colab": {
     "base_uri": "https://localhost:8080/",
     "height": 374
    },
    "id": "zexQ8t1kT1W3",
    "outputId": "7c2aec4e-d2fb-45d8-fc7e-679051faafed"
   },
   "outputs": [
    {
     "name": "stdout",
     "output_type": "stream",
     "text": [
      "The answer to this month’s puzzle is 31185 , and the completed grid is presented here.  Congratulations to everyone who got the correct answer this month!\n"
     ]
    }
   ],
   "source": [
    "url='https://www.janestreet.com/puzzles/solutions/october-2019-solution/'\n",
    "res = requests.get(url)\n",
    "soup = BeautifulSoup(res.content, 'html.parser')\n",
    "x =[text for text in soup.body.stripped_strings]\n",
    "\n",
    "print(\" \".join(x[7:10]))"
   ]
  },
  {
   "cell_type": "markdown",
   "metadata": {
    "id": "ld_NFUIfT1W9"
   },
   "source": [
    "### Puzzle solution\n",
    "<img src=\"https://www.janestreet.com/puzzles/wp-content/uploads/2019/11/Oct19_Solution.png\" width=\"350\" >"
   ]
  },
  {
   "cell_type": "code",
   "execution_count": 7,
   "metadata": {},
   "outputs": [],
   "source": [
    "# ************* Bug finding code that I'll keep for when I improve this ***********************************\n",
    "\n",
    "test_triangles  =  [[[0, 14], [0, 12], [2, 14]], [[0, 14], [0, 16], [7, 14]], [[5, 17], [5, 15], [0, 17]],\n",
    "                    [[7, 17], [7, 14], [5, 17]], [[7, 17], [7, 11], [13, 17]], [[3, 14], [3, 9], [7, 14]],\n",
    "                    [[3, 12], [3, 14], [0, 12]],[[7, 11], [7, 14], [5, 11]], [[17, 3], [17, 0], [9, 3]],\n",
    "                    [[11, 0], [11, 2], [7, 0]], [[11, 0], [11, 2], [17, 0]], [[17, 3], [17, 5], [15, 3]],\n",
    "                    [[4, 2], [4, 0], [11, 2]], [[4, 0], [4, 2], [0, 0]], [[0, 4], [0, 0], [6, 4]],\n",
    "                    [[6, 2], [6, 4], [3, 2]], [[0, 12], [0, 4], [2, 12]], [[1, 4], [1, 8], [6, 4]],\n",
    "                    [[4, 8], [4, 6], [11, 8]], [[11, 8], [11, 12], [1, 8]], [[6, 6], [6, 2], [13, 6]],\n",
    "                    [[14, 3], [14, 6], [8, 3]],[[13, 6], [13, 17], [11, 6]], [[12, 12], [12, 16], [8, 12]],\n",
    "                    [[14, 5], [14, 3], [17, 5]], [[17, 5], [17, 17], [14, 5]], [[14, 13], [14, 6], [16, 13]], \n",
    "                    [[16, 13], [16, 17], [14, 13]], [[13, 17], [13, 13], [16, 17]]]\n",
    "\n",
    "obj_tris = []\n",
    "\n",
    "for tri in test_triangles:\n",
    "    obj_tris.append(Polygon(tri)) "
   ]
  },
  {
   "cell_type": "code",
   "execution_count": 8,
   "metadata": {},
   "outputs": [],
   "source": [
    " def cells_touching_area(triangle):\n",
    "        coords = np.array(mapping(triangle)['coordinates'])[0,:-1,:]\n",
    "        row_min = int(np.min(coords[:,0]))\n",
    "        row_max = int(np.max(coords[:,0]))\n",
    "        col_min = int(np.min(coords[:,1]))\n",
    "        col_max = int(np.max(coords[:,1]))\n",
    "        cells = np.zeros((17,17))\n",
    "        for i in range(row_min,row_max):\n",
    "            for j in range(col_min,col_max):\n",
    "                cell =Polygon([[i,j],[i+1,j],[i,j+1],[i+1,j+1]])\n",
    "                cells[i,j] = cell.overlaps(triangle.buffer(-1e-14))\n",
    "        return cells\n",
    "    \n",
    "def cells_in_area(triangle):\n",
    "        coords = np.array(mapping(triangle)['coordinates'])[0,:-1,:]\n",
    "        row_min = int(np.min(coords[:,0]))\n",
    "        row_max = int(np.max(coords[:,0]))\n",
    "        col_min = int(np.min(coords[:,1]))\n",
    "        col_max = int(np.max(coords[:,1]))\n",
    "        cells = np.zeros((17,17))\n",
    "        for i in range(row_min,row_max):\n",
    "            for j in range(col_min,col_max):\n",
    "                cell =Polygon([[i,j],[i+1,j],[i,j+1],[i+1,j+1]])\n",
    "                cells[i,j] = cell.within(triangle.buffer(1e-14))\n",
    "        return cells"
   ]
  },
  {
   "cell_type": "code",
   "execution_count": 10,
   "metadata": {},
   "outputs": [],
   "source": [
    "for t in obj_tris:\n",
    "    x= cells_touching_area(t)\n",
    "    y = cells_in_area(t)\n",
    "    #print(grid[x==1],grid[(y==1) | (x==1)])\n",
    "\n",
    "    #grid_print(x,[np.array(mapping(t)['coordinates'])[0,:-1,:]])"
   ]
  },
  {
   "cell_type": "code",
   "execution_count": null,
   "metadata": {},
   "outputs": [],
   "source": []
  }
 ],
 "metadata": {
  "colab": {
   "include_colab_link": true,
   "name": "JaneSt-Feb18.ipynb",
   "provenance": []
  },
  "kernelspec": {
   "display_name": "Python 3",
   "language": "python",
   "name": "python3"
  },
  "language_info": {
   "codemirror_mode": {
    "name": "ipython",
    "version": 3
   },
   "file_extension": ".py",
   "mimetype": "text/x-python",
   "name": "python",
   "nbconvert_exporter": "python",
   "pygments_lexer": "ipython3",
   "version": "3.7.7"
  }
 },
 "nbformat": 4,
 "nbformat_minor": 4
}
