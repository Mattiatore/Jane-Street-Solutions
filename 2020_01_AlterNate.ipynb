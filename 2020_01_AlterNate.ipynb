{
 "cells": [
  {
   "cell_type": "code",
   "execution_count": 1,
   "metadata": {
    "id": "Oq1xibzMT1Wl"
   },
   "outputs": [],
   "source": [
    "import numpy as np\n",
    "import time\n",
    "import requests\n",
    "from bs4 import BeautifulSoup\n",
    "import functools\n",
    "from IPython.display import Markdown, display"
   ]
  },
  {
   "cell_type": "code",
   "execution_count": 21,
   "metadata": {
    "id": "ICTfvjZUT1Wr"
   },
   "outputs": [
    {
     "data": {
      "text/markdown": [
       "### Alter/Nate\n",
       "\n",
       "Two friends, Alter and Nate, have a conversation:\n",
       "\n",
       "Alter: Nate, let’s play a game.  I’ll pick an integer between 1 and 10 (inclusive), then you’ll pick an integer between 1 and 10 (inclusive), and then I’ll go again, then you’ll go again, and so on and so forth.  We’ll keep adding our numbers together to make a running total.  And whoever makes the running total be greater than or equal to 100 loses.  You go first.\n",
       "\n",
       "Nate:  That’s not fair!  Whenever I pick a number X, you’ll just pick 11-X, and then I’ll always get stuck with 99 and I’ll make the total go greater than 100.\n",
       "\n",
       "Alter:  Ok fine.  New rule then, no one can pick a number that would make the sum of that number and the previous number equal to 11.  You still go first. Now can we play?\n",
       "\n",
       "Nate:  Um… sure.\n",
       "\n",
       "Who wins, and what is their strategy?"
      ],
      "text/plain": [
       "<IPython.core.display.Markdown object>"
      ]
     },
     "metadata": {},
     "output_type": "display_data"
    }
   ],
   "source": [
    "url='https://www.janestreet.com/puzzles/alter-nate/'\n",
    "res = requests.get(url)\n",
    "soup = BeautifulSoup(res.content, 'html.parser')\n",
    "y =[text for text in soup.body.stripped_strings]\n",
    "#display([[i,j] for i,j in enumerate(y)])\n",
    "display(Markdown(\"### \"+y[6]+\"\\n\\n\"+str(\"\\n\\n\".join(y[7:13]))))"
   ]
  },
  {
   "cell_type": "code",
   "execution_count": 23,
   "metadata": {
    "id": "844RhDFpT1Wu"
   },
   "outputs": [
    {
     "name": "stdout",
     "output_type": "stream",
     "text": [
      "For N = 3 Nate wins\n",
      "Solved in 0.001996 seconds\n"
     ]
    }
   ],
   "source": [
    "# copying code from \"what about bob\" ... alter to  \"first player to hit 99 wins\"\n",
    "# start with the first move having been made\n",
    "\n",
    "@functools.lru_cache(maxsize=None)\n",
    "def nate_wins(target,last,choices):\n",
    "    poss = [i for i in choices if i<=target and i != 11-last]\n",
    "    # if the next move can win then the next player wins(Alter in the first move)\n",
    "    if target in poss:\n",
    "        return False\n",
    "    else:\n",
    "        # if all of the next +1  moves win (return= false) then the player next +1 wins (Nate on the first loop)\n",
    "        if all([nate_wins(target-p,p,choices) == False for p in poss]):\n",
    "            return True\n",
    "        else:\n",
    "            return False\n",
    "\n",
    "start = time.time()    \n",
    "values = tuple([i+1 for i in range(10)])\n",
    "\n",
    "for n in range(1,11):\n",
    "    if nate_wins(99-n,n,values):\n",
    "        print(\"For N = {} Nate wins\".format(n))\n",
    "\n",
    "print(\"Solved in {:,.6f} seconds\".format(time.time()-start))"
   ]
  },
  {
   "cell_type": "code",
   "execution_count": 22,
   "metadata": {},
   "outputs": [
    {
     "name": "stdout",
     "output_type": "stream",
     "text": [
      "Solution\n",
      "~~~~~~~~\n",
      "Nate (the first player) can always win in this game, by starting with the number 3.    After this first turn, Nate can force the running total to increment by units of 12.  This could happen 2 different ways: If Alter picks some number X between 2 and 10, Nate chooses 12-X If Alter picks 1, Nate responds by picking 1 as well.  Now Alter cannot pick 10 (since this would force the sum of the previous two numbers to be 11), and must pick some other number Y.  Nate then picks 10-Y. In this way, Nate can force Alter to choose numbers when the running total is equal to 3, 15, 27, 39, 51, 63, 75, 87, and 99.  At this point, Alter is forced to take the total to 100 or greater. Congratulations to everyone who solved this month’s puzzle!\n"
     ]
    }
   ],
   "source": [
    "url='https://www.janestreet.com/puzzles/solutions/january-2020-solution/'\n",
    "res = requests.get(url)\n",
    "soup = BeautifulSoup(res.content, 'html.parser')\n",
    "x =[text for text in soup.body.stripped_strings]\n",
    "\n",
    "print(\"Solution\")\n",
    "print(\"~~~~~~~~\")\n",
    "print(\" \".join(x[7:13]))"
   ]
  },
  {
   "cell_type": "code",
   "execution_count": null,
   "metadata": {},
   "outputs": [],
   "source": []
  },
  {
   "cell_type": "code",
   "execution_count": null,
   "metadata": {},
   "outputs": [],
   "source": []
  }
 ],
 "metadata": {
  "colab": {
   "include_colab_link": true,
   "name": "JaneSt-Feb18.ipynb",
   "provenance": []
  },
  "kernelspec": {
   "display_name": "Python 3",
   "language": "python",
   "name": "python3"
  },
  "language_info": {
   "codemirror_mode": {
    "name": "ipython",
    "version": 3
   },
   "file_extension": ".py",
   "mimetype": "text/x-python",
   "name": "python",
   "nbconvert_exporter": "python",
   "pygments_lexer": "ipython3",
   "version": "3.7.10"
  }
 },
 "nbformat": 4,
 "nbformat_minor": 4
}
