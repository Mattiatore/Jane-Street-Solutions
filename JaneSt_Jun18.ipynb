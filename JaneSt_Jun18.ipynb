{
 "cells": [
  {
   "cell_type": "code",
   "execution_count": 1,
   "metadata": {},
   "outputs": [],
   "source": [
    "import numpy as np\n",
    "import time\n",
    "from skimage.morphology import label\n",
    "import requests\n",
    "from bs4 import BeautifulSoup"
   ]
  },
  {
   "cell_type": "code",
   "execution_count": 2,
   "metadata": {},
   "outputs": [
    {
     "name": "stdout",
     "output_type": "stream",
     "text": [
      "The grid is incomplete. Place numbers in some of the empty cells below so that in total the grid contains one 1, two 2’s, etc., up to seven 7’s. Furthermore, each row and column must contain exactly 4 numbers which sum to 20. Finally, the numbered cells must form a connected region*, but every 2-by-2 subsquare in the completed grid must contain at least one empty cell.The answer to this puzzle is the product of the areas of the connected groups of empty squares in the completed grid.(*Updated 2018-06-14 to clarify that cells connect alongedges only.)\n"
     ]
    }
   ],
   "source": [
    "# Going back to look at an old puzzle to try to get started on the Dec 2020\n",
    "# Use backtracking to solve\n",
    "\n",
    "\n",
    "url='https://www.janestreet.com/puzzles/twenty-four-seven/'\n",
    "res = requests.get(url)\n",
    "soup = BeautifulSoup(res.content, 'html.parser')\n",
    "x =[text for text in soup.body.stripped_strings]\n",
    "\n",
    "print(\"\".join(x[7:]))"
   ]
  },
  {
   "cell_type": "markdown",
   "metadata": {},
   "source": [
    "<img src=\"https://www.janestreet.com/puzzles/wp-content/uploads/2018/06/20180604_20_4_7.png\" width=\"250\" height=\"300\">"
   ]
  },
  {
   "cell_type": "code",
   "execution_count": 3,
   "metadata": {},
   "outputs": [],
   "source": [
    "grid =np.array([[0,4,0,0,0,0,0],\n",
    "                [0,0,6,3,0,0,6],\n",
    "                [0,0,0,0,0,5,5],\n",
    "                [0,0,0,4,0,0,0],\n",
    "                [4,7,0,0,0,0,0],\n",
    "                [2,0,0,7,4,0,0],\n",
    "                [0,0,0,0,0,1,0]])\n",
    "\n",
    "\n",
    "grid[grid==0]=-1"
   ]
  },
  {
   "cell_type": "code",
   "execution_count": 4,
   "metadata": {},
   "outputs": [],
   "source": [
    "#Forming the Puzzle Grid\n",
    "class Matrix():\n",
    "    def __init__(self,puzzle_string):\n",
    "        self.grid = puzzle_string\n",
    "        self.counts = {i:i-np.sum(self.grid==i) for i in range(8)}\n",
    "        print('The problem - Start {}'.format(time.strftime('%X')))\n",
    "        self.printGrid()\n",
    "    \n",
    "#Function to print the grid\n",
    "    def printGrid(self):\n",
    "        print(self.grid)\n",
    "        \n",
    "#Function to check if a digit can be placed in the given block\n",
    "#Various checks\n",
    "    def possible(self,row,col,digit):\n",
    "\n",
    "        # Check row and columns count\n",
    "        if digit ==0:\n",
    "            if np.sum(self.grid[:,col]==0) > 2:\n",
    "                return False\n",
    "            if np.sum(self.grid[row,:]==0) > 2:\n",
    "                return False\n",
    "            \n",
    "        # Check that final number completes\n",
    "            if np.sum(self.grid[row,:]==-1) ==1:\n",
    "                 if np.sum(self.grid[row,:])+digit+1  != 20:\n",
    "                        return False\n",
    "                    \n",
    "            if np.sum(self.grid[:,col]==-1) ==1:\n",
    "                 if np.sum(self.grid[:,col])+digit+1  != 20:\n",
    "                        return False\n",
    "        \n",
    "        # Check row and columns sum\n",
    "        if np.sum(self.grid[:,col])+digit+np.sum(self.grid[:,col]==-1) > 20:\n",
    "            return False\n",
    "        \n",
    "        if np.sum(self.grid[row,:])+digit+np.sum(self.grid[row,:]==-1)  > 20:\n",
    "            return False\n",
    "        \n",
    "        #check 2x2\n",
    "        if digit !=0:\n",
    "            if self.twobytwo(row,col):\n",
    "                return False\n",
    "            \n",
    "        # Check Fobidden nums\n",
    "            if self.more_constraints(self.grid[row,:],digit):\n",
    "                return False\n",
    "        \n",
    "            if self.more_constraints(self.grid[:,col],digit):\n",
    "                return False\n",
    "            \n",
    "        #checkconnected\n",
    "        if np.max(label(self.grid!=0,connectivity=1)) >1 :\n",
    "            return False\n",
    "        \n",
    "        # All tests pass return True\n",
    "        return True\n",
    "    \n",
    "    def twobytwo(self,i,j):\n",
    "        if (i > 0 and j > 0 and \n",
    "        self.grid[i-1,j-1] > 0 and \n",
    "        self.grid[i-1,j] > 0 and \n",
    "        self.grid[i,j-1] > 0):\n",
    "            return True\n",
    "    \n",
    "        if (i > 0 and j < 6 and\n",
    "        self.grid[i-1,j+1] > 0 and \n",
    "        self.grid[i-1,j] > 0 and \n",
    "        self.grid[i,j+1] > 0):\n",
    "            return True\n",
    "    \n",
    "        if (i < 6 and j > 0 and\n",
    "        self.grid[i+1,j-1] > 0 and \n",
    "        self.grid[i+1,j] > 0 and \n",
    "        self.grid[i,j-1] > 0):\n",
    "            return True\n",
    "\n",
    "    \n",
    "        if (i < 6 and j < 6 and\n",
    "        self.grid[i+1,j+1] > 0 and \n",
    "        self.grid[i+1,j] > 0 and \n",
    "        self.grid[i,j+1] > 0):\n",
    "            return True\n",
    "    \n",
    "        return False\n",
    "    \n",
    "    def more_constraints(self,array,digit):\n",
    "    \n",
    "        if np.sum(array==1) > 0:\n",
    "            if digit < 5:\n",
    "                return True\n",
    "            return False\n",
    "        \n",
    "        if np.sum(array==2) > 0:\n",
    "            if digit < 4 :\n",
    "                return True\n",
    "            return False\n",
    "    \n",
    "        if np.sum(array==3) > 0:\n",
    "            if digit < 3 :\n",
    "                return True\n",
    "            return False\n",
    "    \n",
    "        if np.sum(array==4) > 0:\n",
    "            if digit < 2 :\n",
    "                return True\n",
    "            return False\n",
    "        \n",
    "        return False\n",
    "        \n",
    "\n",
    "    def solve(self):\n",
    "        \n",
    "        for row in range(7):\n",
    "            for col in range(7):\n",
    "                if self.grid[row][col] == -1:\n",
    "                    for digit in range(7,-1,-1):\n",
    "                        if (digit ==0 or self.counts[digit]>0):\n",
    "                            if self.possible(row,col,digit):\n",
    "                                self.grid[row,col] = digit\n",
    "                                self.counts[digit] -= 1\n",
    "                                self.solve()\n",
    "                                self.grid[row,col] = -1  #Backtrack step\n",
    "                                self.counts[digit] += 1\n",
    "                    return False\n",
    "        \n",
    "        print('\\nThe solution - End {}'.format(time.strftime('%X')))\n",
    "        self.printGrid()"
   ]
  },
  {
   "cell_type": "code",
   "execution_count": null,
   "metadata": {},
   "outputs": [
    {
     "name": "stdout",
     "output_type": "stream",
     "text": [
      "The problem - Start 09:31:55\n",
      "[[-1  4 -1 -1 -1 -1 -1]\n",
      " [-1 -1  6  3 -1 -1  6]\n",
      " [-1 -1 -1 -1 -1  5  5]\n",
      " [-1 -1 -1  4 -1 -1 -1]\n",
      " [ 4  7 -1 -1 -1 -1 -1]\n",
      " [ 2 -1 -1  7  4 -1 -1]\n",
      " [-1 -1 -1 -1 -1  1 -1]]\n",
      "\n",
      "The solution - End 09:32:24\n",
      "[[7 4 3 0 6 0 0]\n",
      " [0 0 6 3 5 0 6]\n",
      " [0 0 5 0 5 5 5]\n",
      " [0 3 6 4 0 0 7]\n",
      " [4 7 0 0 0 7 2]\n",
      " [2 0 0 7 4 7 0]\n",
      " [7 6 0 6 0 1 0]]\n"
     ]
    }
   ],
   "source": [
    "x = Matrix(grid)\n",
    "x.solve()\n",
    "print('\\n Finish {}'.format(time.strftime('%X')))"
   ]
  },
  {
   "cell_type": "markdown",
   "metadata": {},
   "source": [
    "### Solution is :\n",
    "\n",
    "<img src=\"https://www.janestreet.com/puzzles/wp-content/uploads/2018/07/20180702_20_4_7_ans.png\" width=\"250\" height=\"300\">"
   ]
  },
  {
   "cell_type": "code",
   "execution_count": null,
   "metadata": {},
   "outputs": [],
   "source": []
  },
  {
   "cell_type": "code",
   "execution_count": null,
   "metadata": {},
   "outputs": [],
   "source": []
  }
 ],
 "metadata": {
  "kernelspec": {
   "display_name": "Python 3",
   "language": "python",
   "name": "python3"
  },
  "language_info": {
   "codemirror_mode": {
    "name": "ipython",
    "version": 3
   },
   "file_extension": ".py",
   "mimetype": "text/x-python",
   "name": "python",
   "nbconvert_exporter": "python",
   "pygments_lexer": "ipython3",
   "version": "3.7.6"
  }
 },
 "nbformat": 4,
 "nbformat_minor": 4
}
