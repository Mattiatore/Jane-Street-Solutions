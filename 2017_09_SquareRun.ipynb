{
 "cells": [
  {
   "cell_type": "code",
   "execution_count": 21,
   "metadata": {
    "id": "Oq1xibzMT1Wl"
   },
   "outputs": [],
   "source": [
    "import numpy as np\n",
    "import time\n",
    "import seaborn as sns\n",
    "import matplotlib.pyplot as plt\n",
    "import requests\n",
    "from bs4 import BeautifulSoup\n",
    "import itertools\n",
    "from copy import deepcopy as dcopy,copy\n",
    "from scipy.ndimage import measurements\n",
    "from collections import defaultdict"
   ]
  },
  {
   "cell_type": "code",
   "execution_count": 22,
   "metadata": {
    "id": "ICTfvjZUT1Wr"
   },
   "outputs": [
    {
     "name": "stdout",
     "output_type": "stream",
     "text": [
      "A queen is located at a1 and wishes to travel to h8 via a series of one or more moves. (These must be legal queen’s moves.) After each move, the numbers on each of the squares change. If the move is between two spaces which sum to a perfect square, every number on the board decreases by 1 after the move. Otherwise, each number decreases by 5. (The queen may stop on a square more than once.) What is the largest sum you can obtain from the squares you visit over each move in your journey? Please send us your sum and your list of moves. Example: a5 , a3 , b3 , d1 , a1 , d4 , h8 , a1 , h8 would have a sum of 0 + 26 + 29 + 12 – 7 + 17 + 20 – 10 + 18 = 105.\n"
     ]
    }
   ],
   "source": [
    "# Different approach needed for this one as no obvious end point.\n",
    "# Looks to have worked well. \n",
    "\n",
    "url='https://www.janestreet.com/puzzles/square-run/'\n",
    "res = requests.get(url)\n",
    "soup = BeautifulSoup(res.content, 'html.parser')\n",
    "x =[text for text in soup.body.stripped_strings]\n",
    "\n",
    "print(\" \".join(x[7:35]))"
   ]
  },
  {
   "cell_type": "markdown",
   "metadata": {
    "id": "U9Yh1D3HT1Ws"
   },
   "source": [
    "### Puzzle details\n",
    "<img src=\"https://www.janestreet.com/puzzles/wp-content/uploads/2017/09/20170905_square_run.png\" width=\"350\">"
   ]
  },
  {
   "cell_type": "code",
   "execution_count": 24,
   "metadata": {
    "id": "844RhDFpT1Wu"
   },
   "outputs": [
    {
     "data": {
      "text/plain": [
       "31"
      ]
     },
     "execution_count": 24,
     "metadata": {},
     "output_type": "execute_result"
    }
   ],
   "source": [
    "# Setup the constraints\n",
    "fixed = np.rot90([\n",
    "    [8,5,13,23,29,15,23,30],\n",
    "    [17,22,30,3,13,25,2,14],\n",
    "    [10,15,18,28,2,18,27,6],\n",
    "    [0,31,1,11,22,7,16,20],\n",
    "    [12,17,24,26,3,24,25,5],\n",
    "    [27,31,8,11,19,4,12,21],\n",
    "    [21,20,28,4,9,26,7,14],\n",
    "    [1,6,9,19,29,10,16,0]\n",
    "    ],3)\n",
    "\n",
    "np.max(fixed)"
   ]
  },
  {
   "cell_type": "code",
   "execution_count": 53,
   "metadata": {
    "id": "844RhDFpT1Wu"
   },
   "outputs": [],
   "source": [
    "class Matrix():\n",
    "    def __init__(self,fixed):\n",
    "        self.fixed = fixed\n",
    "        squares = []\n",
    "        #for the answer given 0 is a perfect square\n",
    "        for i in range(0,32):\n",
    "            squares.append(i**2)\n",
    "        self.squares = set(squares)\n",
    "      \n",
    "    #########################################\n",
    "    # define possible moves \n",
    "    def poss_moves(self,x,y):        \n",
    "        temp = []\n",
    "        for i in range(1,8):\n",
    "            temp.append([x-i,y+i])\n",
    "            temp.append([x  ,y+i])\n",
    "            temp.append([x+i,y+i])\n",
    "            temp.append([x-i,y  ])\n",
    "            temp.append([x+i,y  ])\n",
    "            temp.append([x-i,y-i])\n",
    "            temp.append([x  ,y-i])\n",
    "            temp.append([x+i,y-i])\n",
    "        \n",
    "        ans = []\n",
    "        for c in temp:\n",
    "            if np.min(c) < 0 or np.max(c) >7:\n",
    "                continue\n",
    "            ans.append(c)\n",
    "        return ans\n",
    "\n",
    "   \n",
    "    ##############################################\n",
    "    # Turn the grid moves into a nice format\n",
    "    def print_route(self,route):\n",
    "        letters =[\"a\",\"b\",\"c\",\"d\",\"e\",\"f\",\"g\",\"h\"]\n",
    "        out = \"\"\n",
    "        for r,c in route:\n",
    "            out += letters[r]+str(c+1)+\",\"\n",
    "        return out\n",
    "\n",
    "                         \n",
    "    ###############################################\n",
    "    # Main solver.  \n",
    "    def solve(self):\n",
    "        start = time.perf_counter()\n",
    "        poss_route = [[[[0,0]], 0, 0 ]]  #Route, Score, Points deducted\n",
    "        max_num = 0\n",
    "        scores = defaultdict(int)\n",
    "        while len(poss_route) > 0 :\n",
    "            route,score,deduct = poss_route.pop()\n",
    "            g = dcopy(self.fixed) - deduct \n",
    "            row,col = route[-1]\n",
    "        \n",
    "            if scores[((row,col),deduct)] <= score:\n",
    "                scores[((row,col),deduct)]  = score \n",
    "                start_num = g[row,col]\n",
    "                end = g[7,7]\n",
    "                poss_move = self.poss_moves(row,col)\n",
    "            \n",
    "               # if you can jump to the end do so\n",
    "                if score + end> max_num:\n",
    "                    if [7,7] in poss_move:\n",
    "                        max_route = route + [[7,7]]\n",
    "                        max_num = score + end\n",
    "                        #print(\"Score = {} Route:{}\".format(max_num,self.print_route(max_route)))\n",
    "\n",
    "                poss_num =[]\n",
    "            \n",
    "                for r,c in poss_move:\n",
    "                    poss_num.append([[r,c],g[r,c]])\n",
    "            \n",
    "                poss_num.sort(key=lambda x:x[1],reverse=True)               \n",
    "        \n",
    "                for x,new_num in poss_num:\n",
    "                    r,c = x\n",
    "                    total = new_num + start_num\n",
    "                    if total < 0:\n",
    "                        continue\n",
    "                    if total in self.squares:\n",
    "                        new_deduct = deduct + 1\n",
    "                    else:\n",
    "                        new_deduct = deduct + 5\n",
    "\n",
    "                    x = [route + [[r,c]], score+new_num, new_deduct]\n",
    "                \n",
    "                    poss_route.insert(0,x)\n",
    "                    \n",
    "        print(\"Solved in {:.4f} seconds\".format(time.perf_counter() - start))        \n",
    "        print(\"Final Score = {} Route:{}\".format(max_num,self.print_route(max_route)))\n",
    "        "
   ]
  },
  {
   "cell_type": "code",
   "execution_count": 54,
   "metadata": {
    "colab": {
     "base_uri": "https://localhost:8080/",
     "height": 374
    },
    "id": "zexQ8t1kT1W3",
    "outputId": "7c2aec4e-d2fb-45d8-fc7e-679051faafed"
   },
   "outputs": [
    {
     "name": "stdout",
     "output_type": "stream",
     "text": [
      "Solved in 46.61739940000189 seconds\n",
      "Final Score = 305 Route:a1,c3,c7,d8,d1,g4,h3,a3,a4,e8,f7,b3,a3,e7,e5,b5,c4,f4,d4,f2,a2,c2,c7,d8,g8,e8,h8,d4,h8,\n"
     ]
    }
   ],
   "source": [
    "test = Matrix(fixed)\n",
    "test.solve()"
   ]
  },
  {
   "cell_type": "code",
   "execution_count": 58,
   "metadata": {},
   "outputs": [
    {
     "name": "stdout",
     "output_type": "stream",
     "text": [
      "The largest sum possible for the queen’s journey is 305 . It turns out that there are 36 paths that achieve such a score, one of which is: c3, c7, d8, d1, g4, h3, a3, a4, e8, f7, b3, a3, e7, e5, b5, c4, f4, d4, f2, c2, c8, e8, b5, c4, c2, b3, f7, e8, h8 , which scores as 8 + 29 + 21 + 16 + 21 + 16 + 21 + 5 + 21 + 16 + 21 + 16 + 1 + 9 + 17 + 9 + 8 + 9 + 8 + 9 – 7 + 8 + 9 + 1 + 4 + 6 – 1 + 2 + 2 = 305 . Maximum scores from:\n"
     ]
    }
   ],
   "source": [
    "url='https://www.janestreet.com/puzzles/solutions/september-2017-solution/'\n",
    "res = requests.get(url)\n",
    "soup = BeautifulSoup(res.content, 'html.parser')\n",
    "x =[text for text in soup.body.stripped_strings]\n",
    "\n",
    "print(\" \".join(x[7:18]))"
   ]
  },
  {
   "cell_type": "code",
   "execution_count": null,
   "metadata": {},
   "outputs": [],
   "source": []
  }
 ],
 "metadata": {
  "colab": {
   "include_colab_link": true,
   "name": "JaneSt-Feb18.ipynb",
   "provenance": []
  },
  "kernelspec": {
   "display_name": "Python 3",
   "language": "python",
   "name": "python3"
  },
  "language_info": {
   "codemirror_mode": {
    "name": "ipython",
    "version": 3
   },
   "file_extension": ".py",
   "mimetype": "text/x-python",
   "name": "python",
   "nbconvert_exporter": "python",
   "pygments_lexer": "ipython3",
   "version": "3.7.7"
  }
 },
 "nbformat": 4,
 "nbformat_minor": 4
}
