{
  "nbformat": 4,
  "nbformat_minor": 0,
  "metadata": {
    "kernelspec": {
      "display_name": "Python 3",
      "language": "python",
      "name": "python3"
    },
    "language_info": {
      "codemirror_mode": {
        "name": "ipython",
        "version": 3
      },
      "file_extension": ".py",
      "mimetype": "text/x-python",
      "name": "python",
      "nbconvert_exporter": "python",
      "pygments_lexer": "ipython3",
      "version": "3.7.6"
    },
    "colab": {
      "name": "JaneSt_Mar19.ipynb",
      "provenance": []
    }
  },
  "cells": [
    {
      "cell_type": "code",
      "metadata": {
        "id": "NLmfUTLLTVaJ"
      },
      "source": [
        "import numpy as np\n",
        "import time\n",
        "from skimage.morphology import label\n",
        "import requests\n",
        "from bs4 import BeautifulSoup\n",
        "import copy"
      ],
      "execution_count": 1,
      "outputs": []
    },
    {
      "cell_type": "markdown",
      "metadata": {
        "id": "YF8AA0McTVaQ"
      },
      "source": [
        "### Puzzle details\n",
        "<img src=\"https://www.janestreet.com/puzzles/wp-content/uploads/2019/03/20190306_20_4_7.png\" width=\"500\" height=\"600\">"
      ]
    },
    {
      "cell_type": "code",
      "metadata": {
        "id": "yla0HSvQTVaS"
      },
      "source": [
        "grid4 =np.array([[0,0,0,7,0,0,0],\n",
        "                 [5,0,0,0,0,6,0],\n",
        "                 [0,0,2,0,0,0,0],\n",
        "                 [5,0,0,0,0,0,7],\n",
        "                 [0,0,0,0,7,0,0],\n",
        "                 [0,7,0,0,0,0,3],\n",
        "                 [0,0,0,6,0,0,0]])\n",
        "\n",
        "top_looks4 = [5,0,5,0,2,0,7]\n",
        "bot_looks4 = [4,0,6,0,4,0,3]\n",
        "left_looks4 = [5,0,0,0,4,0,0]\n",
        "right_looks4 = [0,0,7,0,0,0,4]\n",
        "\n",
        "grid3 =np.array([[0,0,4,0,0,0,0],\n",
        "                 [0,4,0,0,0,0,0],\n",
        "                 [4,0,0,0,0,0,0],\n",
        "                 [0,0,0,0,0,0,0],\n",
        "                 [0,0,0,0,0,0,7],\n",
        "                 [0,0,0,0,0,5,0],\n",
        "                 [0,0,0,0,7,0,0]])\n",
        "\n",
        "top_looks3 = [0,0,0,6,3,7,0]\n",
        "bot_looks3 = [0,3,6,7,0,0,0]\n",
        "left_looks3 = [0,0,0,2,6,3,0]\n",
        "right_looks3 = [0,4,3,5,0,0,0]\n",
        "\n",
        "grid2 =np.array([[0,0,0,0,0,0,0],\n",
        "                 [0,0,0,0,0,0,0],\n",
        "                 [0,0,0,0,0,0,0],\n",
        "                 [0,0,0,0,0,0,0],\n",
        "                 [0,0,0,0,0,0,0],\n",
        "                 [0,0,0,0,0,0,0],\n",
        "                 [0,0,0,0,0,0,0]])\n",
        "\n",
        "top_looks2 = [6,4,4,6,7,3,3]\n",
        "bot_looks2 = [2,6,7,7,2,4,7]\n",
        "left_looks2 = [4,6,5,7,5,2,7]\n",
        "right_looks2 = [3,6,3,3,7,6,7]\n",
        "\n",
        "grid1=np.array([[0,7,6,0,0,0,0],\n",
        "                [0,0,0,6,6,0,0],\n",
        "                [5,0,0,0,0,0,0],\n",
        "                [0,6,0,0,0,4,0],\n",
        "                [0,0,0,0,0,0,6],\n",
        "                [0,0,4,7,0,0,0],\n",
        "                [0,0,0,0,7,7,5]])\n",
        "\n",
        "top_looks1 = [0,0,0,0,0,5,7]\n",
        "bot_looks1 = [7,2,0,0,0,0,0]\n",
        "left_looks1 = [0,3,0,0,5,0,1]\n",
        "right_looks1 = [7,2,0,0,0,0,0]\n",
        "\n",
        "grid1[grid1==0]=-1\n",
        "grid2[grid2==0]=-1\n",
        "grid3[grid3==0]=-1\n",
        "grid4[grid4==0]=-1"
      ],
      "execution_count": 12,
      "outputs": []
    },
    {
      "cell_type": "code",
      "metadata": {
        "id": "2IrRLiQgTVaU"
      },
      "source": [
        "#Forming the Puzzle Grid\n",
        "class Matrix():\n",
        "    def __init__(self,input_grid,top_looks,bot_looks,left_looks,right_looks):\n",
        "        self.grid = input_grid\n",
        "        self.top_looks = top_looks\n",
        "        self.bot_looks = bot_looks\n",
        "        self.left_looks =left_looks\n",
        "        self.right_looks = right_looks\n",
        "        self.counts = {i:i-np.sum(self.grid==i) for i in range(8)}\n",
        "        print(self.counts)\n",
        "        print('The problem - Start {}'.format(time.strftime('%X')))\n",
        "        self.printGrid()\n",
        "    \n",
        "#Function to print the grid\n",
        "    def printGrid(self):\n",
        "        print(self.grid)\n",
        "        \n",
        "#Function to check if a digit can be placed in the given block\n",
        "#Various checks\n",
        "    def possible(self,row,col,digit):\n",
        "\n",
        "        # Check row and columns count\n",
        "        if digit ==0:\n",
        "            if np.sum(self.grid[:,col]==0) > 2:\n",
        "                #print('fail1')\n",
        "                return False\n",
        "            if np.sum(self.grid[row,:]==0) > 2:\n",
        "                #print('fail2')\n",
        "                return False\n",
        "            \n",
        "        # Check that final number completes\n",
        "        if digit !=0:\n",
        "            if np.sum(self.grid[row,:]>0) > 2:\n",
        "                if np.sum(self.grid[row,:])+digit+np.sum(self.grid[row,:]==-1)  != 20:\n",
        "                    return False\n",
        "                    \n",
        "            if np.sum(self.grid[:,col]>0) > 2:\n",
        "                if np.sum(self.grid[:,col])+digit+np.sum(self.grid[:,col]==-1)  != 20:\n",
        "                    return False\n",
        "        \n",
        "        # Check row and columns sum\n",
        "        if np.sum(self.grid[:,col])+digit+np.sum(self.grid[:,col]==-1) > 20:\n",
        "            #print('fail5')\n",
        "            #print(col,self.grid[:,col],np.sum(self.grid[:,col]),digit,np.sum(self.grid[:,col]==-1))\n",
        "            return False\n",
        "        \n",
        "        if np.sum(self.grid[row,:])+digit+np.sum(self.grid[row,:]==-1)  > 20:\n",
        "            #print('fail6')\n",
        "            return False\n",
        "        \n",
        "        #check 2x2\n",
        "        if digit !=0:\n",
        "            if self.twobytwo(row,col):\n",
        "                #print('fail7')\n",
        "                return False\n",
        "            \n",
        "        # Check Fobidden nums\n",
        "            if self.more_constraints(self.grid[row,:],digit):\n",
        "                #print('fail8')\n",
        "                return False\n",
        "        \n",
        "            if self.more_constraints(self.grid[:,col],digit):\n",
        "                #print('fail9')\n",
        "                return False\n",
        "            \n",
        "            if self.check_looks(row,col,digit):\n",
        "                return False\n",
        "        \n",
        "        #checkconnected\n",
        "        if np.max(label(self.grid!=0,connectivity=1)) >1 :\n",
        "            #print('fail10')\n",
        "            return False\n",
        "        \n",
        "        # All tests pass return True\n",
        "        return True\n",
        "    \n",
        "    def twobytwo(self,i,j):\n",
        "        if (i > 0 and j > 0 and \n",
        "        self.grid[i-1,j-1] > 0 and \n",
        "        self.grid[i-1,j] > 0 and \n",
        "        self.grid[i,j-1] > 0):\n",
        "            return True\n",
        "    \n",
        "        if (i > 0 and j < 6 and\n",
        "        self.grid[i-1,j+1] > 0 and \n",
        "        self.grid[i-1,j] > 0 and \n",
        "        self.grid[i,j+1] > 0):\n",
        "            return True\n",
        "    \n",
        "        if (i < 6 and j > 0 and\n",
        "        self.grid[i+1,j-1] > 0 and \n",
        "        self.grid[i+1,j] > 0 and \n",
        "        self.grid[i,j-1] > 0):\n",
        "            return True\n",
        "\n",
        "    \n",
        "        if (i < 6 and j < 6 and\n",
        "        self.grid[i+1,j+1] > 0 and \n",
        "        self.grid[i+1,j] > 0 and \n",
        "        self.grid[i,j+1] > 0):\n",
        "            return True\n",
        "    \n",
        "        return False\n",
        "    \n",
        "    def more_constraints(self,array,digit):\n",
        "    \n",
        "        if np.sum(array==1) > 0:\n",
        "            if digit < 5:\n",
        "                return True\n",
        "            return False\n",
        "        \n",
        "        if np.sum(array==2) > 0:\n",
        "            if digit < 4 :\n",
        "                return True\n",
        "            return False\n",
        "    \n",
        "        if np.sum(array==3) > 0:\n",
        "            if digit < 3 :\n",
        "                return True\n",
        "            return False\n",
        "    \n",
        "        if np.sum(array==4) > 0:\n",
        "            if digit < 2 :\n",
        "                return True\n",
        "            return False\n",
        "        \n",
        "        return False\n",
        "        \n",
        "    def check_looks(self,row,col,digit):\n",
        "        if self.left_looks[row] > 0:\n",
        "            found = False\n",
        "            for i in range(5):\n",
        "                if found == False:\n",
        "                    if self.grid[row,i] != 0:\n",
        "                        found = True\n",
        "                        if i == col:\n",
        "                            if self.left_looks[row] != digit:\n",
        "                                return True\n",
        "    \n",
        "        if self.top_looks[col] > 0:\n",
        "            found = False\n",
        "            for i in range(5):\n",
        "                if found == False:\n",
        "                    if self.grid[i,col] != 0:\n",
        "                        found = True\n",
        "                        if i == row:\n",
        "                            if self.top_looks[col] != digit:\n",
        "                                return True\n",
        "\n",
        "        if self.right_looks[row] > 0:\n",
        "            found = False\n",
        "            for i in range(6,4,-1):\n",
        "                if found == False:\n",
        "                    if self.grid[row,i] != 0:\n",
        "                        found = True\n",
        "                        if i == col:\n",
        "                            if self.right_looks[row] != digit:\n",
        "                                return True\n",
        "    \n",
        "        if self.bot_looks[col] > 0:\n",
        "            found = False\n",
        "            for i in range(6,4,-1):\n",
        "                if found == False:\n",
        "                    if self.grid[i,col] != 0:\n",
        "                        found = True\n",
        "                        if i == row:\n",
        "                            if self.bot_looks[col] != digit:\n",
        "                                return True\n",
        "        return False    \n",
        "        \n",
        "        \n",
        "    def solve(self):\n",
        "        \n",
        "        for row in range(7):\n",
        "            for col in range(7):\n",
        "                if self.grid[row,col] == -1:\n",
        "                    for digit in range(7,-1,-1):\n",
        "                        if (digit ==0 or self.counts[digit]>0):\n",
        "                            if self.possible(row,col,digit):\n",
        "                                #print(row,col,digit,self.grid[row,col],self.grid[0,0])\n",
        "                                #print(self.counts)\n",
        "                                #print(self.grid)\n",
        "                                self.grid[row,col] = digit\n",
        "                                self.counts[digit] -= 1\n",
        "                                self.solve()\n",
        "                                self.grid[row,col] = -1  #Backtrack step\n",
        "                                self.counts[digit] += 1\n",
        "                    return \n",
        "        \n",
        "        print('\\nThe solution - End {}'.format(time.strftime('%X')))\n",
        "        self.solution = copy.copy(self.grid)"
      ],
      "execution_count": 3,
      "outputs": []
    },
    {
      "cell_type": "code",
      "metadata": {
        "colab": {
          "base_uri": "https://localhost:8080/"
        },
        "id": "hCokMQGbTVad",
        "outputId": "8a9ad6a1-1c6e-4ab2-8dfd-4ab9cd440dac"
      },
      "source": [
        "x1 = Matrix(grid1,top_looks1,bot_looks1,left_looks1,right_looks1)\n",
        "output1 = x1.solve()\n",
        "print(x1.solution)\n",
        "print('\\n Finish {}'.format(time.strftime('%X')))"
      ],
      "execution_count": 4,
      "outputs": [
        {
          "output_type": "stream",
          "text": [
            "{0: 0, 1: 1, 2: 2, 3: 3, 4: 2, 5: 3, 6: 1, 7: 3}\n",
            "The problem - Start 15:52:50\n",
            "[[-1  7  6 -1 -1 -1 -1]\n",
            " [-1 -1 -1  6  6 -1 -1]\n",
            " [ 5 -1 -1 -1 -1 -1 -1]\n",
            " [-1  6 -1 -1 -1  4 -1]\n",
            " [-1 -1 -1 -1 -1 -1  6]\n",
            " [-1 -1  4  7 -1 -1 -1]\n",
            " [-1 -1 -1 -1  7  7  5]]\n",
            "\n",
            "The solution - End 15:52:53\n",
            "[[3 7 6 0 4 0 0]\n",
            " [0 0 3 6 6 5 0]\n",
            " [5 5 0 6 0 4 0]\n",
            " [0 6 0 0 3 4 7]\n",
            " [5 2 7 0 0 0 6]\n",
            " [7 0 4 7 0 0 2]\n",
            " [0 0 0 1 7 7 5]]\n",
            "\n",
            " Finish 15:52:53\n"
          ],
          "name": "stdout"
        }
      ]
    },
    {
      "cell_type": "code",
      "metadata": {
        "colab": {
          "base_uri": "https://localhost:8080/"
        },
        "id": "a_9URhT6TVaj",
        "outputId": "b6358ca9-0307-4148-bf73-96129db839b8"
      },
      "source": [
        "x2 = Matrix(grid2,top_looks2,bot_looks2,left_looks2,right_looks2)\n",
        "x2.solve()\n",
        "print(x2.solution)\n",
        "print('\\n Finish {}'.format(time.strftime('%X')))"
      ],
      "execution_count": 11,
      "outputs": [
        {
          "output_type": "stream",
          "text": [
            "{0: 0, 1: 1, 2: 2, 3: 3, 4: 4, 5: 5, 6: 6, 7: 7}\n",
            "The problem - Start 16:06:25\n",
            "[[-1 -1 -1 -1 -1 -1 -1]\n",
            " [-1 -1 -1 -1 -1 -1 -1]\n",
            " [-1 -1 -1 -1 -1 -1 -1]\n",
            " [-1 -1 -1 -1 -1 -1 -1]\n",
            " [-1 -1 -1 -1 -1 -1 -1]\n",
            " [-1 -1 -1 -1 -1 -1 -1]\n",
            " [-1 -1 -1 -1 -1 -1 -1]]\n",
            "\n",
            "The solution - End 16:31:00\n",
            "\n",
            "The solution - End 16:31:01\n",
            "\n",
            "The solution - End 16:31:37\n",
            "\n",
            "The solution - End 16:31:37\n",
            "\n",
            "The solution - End 16:31:38\n",
            "\n",
            "The solution - End 16:36:36\n",
            "[[0 0 4 6 7 3 0]\n",
            " [6 4 4 0 6 0 0]\n",
            " [0 5 0 0 5 7 3]\n",
            " [7 5 5 0 0 0 3]\n",
            " [5 0 7 1 0 0 7]\n",
            " [2 6 0 6 0 6 0]\n",
            " [0 0 0 7 2 4 7]]\n",
            "\n",
            " Finish 16:49:08\n"
          ],
          "name": "stdout"
        }
      ]
    },
    {
      "cell_type": "code",
      "metadata": {
        "colab": {
          "base_uri": "https://localhost:8080/"
        },
        "id": "TnnmAymKTVak",
        "outputId": "0a08f8a9-b2ad-4163-dd98-cc27c8e3b3ea"
      },
      "source": [
        "x3 = Matrix(grid3,top_looks3,bot_looks3,left_looks3,right_looks3)\n",
        "x3.solve()\n",
        "print(x3.solution)\n",
        "print('\\n Finish {}'.format(time.strftime('%X')))"
      ],
      "execution_count": 8,
      "outputs": [
        {
          "output_type": "stream",
          "text": [
            "{0: 0, 1: 1, 2: 2, 3: 3, 4: 1, 5: 4, 6: 6, 7: 5}\n",
            "The problem - Start 16:02:25\n",
            "[[-1 -1  4 -1 -1 -1 -1]\n",
            " [-1  4 -1 -1 -1 -1 -1]\n",
            " [ 4 -1 -1 -1 -1 -1 -1]\n",
            " [-1 -1 -1 -1 -1 -1 -1]\n",
            " [-1 -1 -1 -1 -1 -1  7]\n",
            " [-1 -1 -1 -1 -1  5 -1]\n",
            " [-1 -1 -1 -1  7 -1 -1]]\n",
            "\n",
            "The solution - End 16:02:39\n",
            "[[7 0 4 6 3 0 0]\n",
            " [7 4 5 0 4 0 0]\n",
            " [4 0 0 0 6 7 3]\n",
            " [2 7 0 6 0 0 5]\n",
            " [0 6 0 1 0 6 7]\n",
            " [0 3 5 7 0 5 0]\n",
            " [0 0 6 0 7 2 5]]\n",
            "\n",
            " Finish 16:06:24\n"
          ],
          "name": "stdout"
        }
      ]
    },
    {
      "cell_type": "code",
      "metadata": {
        "colab": {
          "base_uri": "https://localhost:8080/"
        },
        "id": "VmqMGotbTVak",
        "outputId": "8dc9e574-c915-4b10-ffd7-1d67245a20f2"
      },
      "source": [
        "x4 = Matrix(grid4,top_looks4,bot_looks4,left_looks4,right_looks4)\n",
        "x4.solve()\n",
        "print(x4.solution)\n",
        "print('\\n Finish {}'.format(time.strftime('%X')))"
      ],
      "execution_count": 13,
      "outputs": [
        {
          "output_type": "stream",
          "text": [
            "{0: 0, 1: 1, 2: 1, 3: 2, 4: 4, 5: 3, 6: 4, 7: 3}\n",
            "The problem - Start 16:49:10\n",
            "[[-1 -1 -1  7 -1 -1 -1]\n",
            " [ 5 -1 -1 -1 -1  6 -1]\n",
            " [-1 -1  2 -1 -1 -1 -1]\n",
            " [ 5 -1 -1 -1 -1 -1  7]\n",
            " [-1 -1 -1 -1  7 -1 -1]\n",
            " [-1  7 -1 -1 -1 -1  3]\n",
            " [-1 -1 -1  6 -1 -1 -1]]\n",
            "\n",
            "The solution - End 16:49:14\n",
            "[[0 5 0 7 2 6 0]\n",
            " [5 4 5 0 0 6 0]\n",
            " [6 0 2 0 0 5 7]\n",
            " [5 0 7 1 0 0 7]\n",
            " [4 0 0 6 7 0 3]\n",
            " [0 7 0 0 7 3 3]\n",
            " [0 4 6 6 4 0 0]]\n",
            "\n",
            " Finish 16:49:22\n"
          ],
          "name": "stdout"
        }
      ]
    },
    {
      "cell_type": "markdown",
      "metadata": {
        "id": "sdOS-roCTVal"
      },
      "source": [
        "### Solution is :\n",
        "\n",
        "<img src=\"https://www.janestreet.com/puzzles/wp-content/uploads/2019/04/20190329_20_4_7_solved.png\" width=\"500\" height=\"600\">"
      ]
    },
    {
      "cell_type": "code",
      "metadata": {
        "colab": {
          "base_uri": "https://localhost:8080/"
        },
        "id": "seNyfOu2TVam",
        "outputId": "eb755fd4-4a7b-41ed-f31e-5ed6aff6422d"
      },
      "source": [
        "solved = np.sum((x1.solution+x2.solution+x3.solution+x4.solution)**2)\n",
        "print(\"The solution is: \",solved)"
      ],
      "execution_count": 14,
      "outputs": [
        {
          "output_type": "stream",
          "text": [
            "The solution is:  8150\n"
          ],
          "name": "stdout"
        }
      ]
    },
    {
      "cell_type": "code",
      "metadata": {
        "colab": {
          "base_uri": "https://localhost:8080/"
        },
        "id": "ip7EgdF8TVan",
        "outputId": "ef7d5f13-3cce-4d93-fdf4-51fd69543e86"
      },
      "source": [
        "url='https://www.janestreet.com/puzzles/solutions/march-2019-solution/'\n",
        "res = requests.get(url)\n",
        "soup = BeautifulSoup(res.content, 'html.parser')\n",
        "x =[text for text in soup.body.stripped_strings]\n",
        "\n",
        "print(\" \".join(x[7:9]))"
      ],
      "execution_count": 15,
      "outputs": [
        {
          "output_type": "stream",
          "text": [
            "The completed grids are shown to the left, and below (in blue) is the “sum” grid. The sum of the squares of the values in this grid is 8150\n"
          ],
          "name": "stdout"
        }
      ]
    },
    {
      "cell_type": "code",
      "metadata": {
        "id": "6-0yao_4TVao"
      },
      "source": [
        ""
      ],
      "execution_count": null,
      "outputs": []
    }
  ]
}