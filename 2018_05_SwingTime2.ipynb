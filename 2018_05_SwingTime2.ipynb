{
 "cells": [
  {
   "cell_type": "code",
   "execution_count": 1,
   "id": "3bfb79e1-6379-422d-a45f-44e55f6d94e3",
   "metadata": {},
   "outputs": [],
   "source": [
    "import numpy as np\n",
    "import time\n",
    "import requests\n",
    "from copy import deepcopy as dc\n",
    "from bs4 import BeautifulSoup\n",
    "from IPython.display import Markdown, display\n",
    "import itertools\n",
    "import string\n",
    "from collections import defaultdict\n",
    "import seaborn as sns\n",
    "import matplotlib.pyplot as plt\n",
    "import numba as nb\n",
    "\n",
    "# Dissapearing hooks"
   ]
  },
  {
   "cell_type": "code",
   "execution_count": 2,
   "id": "f3477d10-8ac9-49a3-869b-2cab0ff4eb70",
   "metadata": {},
   "outputs": [],
   "source": [
    "coords1= [(0, 0), (0, 2), (0, 4), (0, 10), (0, 14), (0, 16), (1, 17), (1, 18), (2, 7), (2, 13), (2, 15),\n",
    "           (2, 18), (3, 0), (3, 8), (3, 14), (3, 19), (4, 3), (4, 4), (4, 11), (4, 17), (5, 15), (5, 19),\n",
    "           (6, 12), (7, 7), (7, 15), (7, 18), (8, 19), (9, 0), (9, 3), (11, 15), (12, 4), (12, 7), (13, 11),\n",
    "           (13, 17), (14, 15), (15, 13), (15, 19), (16, 11), (16, 16), (17, 9), (18, 7), (18, 14),(19, 5), (19, 19)]"
   ]
  },
  {
   "cell_type": "code",
   "execution_count": 3,
   "id": "d892a265-03a1-450b-a9d1-74647fd7b667",
   "metadata": {},
   "outputs": [],
   "source": [
    "#function to print out the grid and swings\n",
    "def print_coord(coords,start=[],swings=[]):\n",
    "    grid = np.zeros((20,20))\n",
    "    for (x,y) in coords:    \n",
    "        grid[x,y] = 1\n",
    "    fig,ax = plt.subplots(1,1,figsize=(4,4))\n",
    "    sns.heatmap(grid,cmap='Greys',cbar=False,linecolor=\"grey\",\n",
    "            linewidths=0.5,fmt=\"\",annot_kws={\"size\":10,\"weight\": \"bold\"},alpha =0.7)\n",
    "    for (a,b),(c,d) in swings:\n",
    "        ax.plot([b+0.5,d+0.5],[a+0.5,c+0.5], linewidth=1,color=\"r\")\n",
    "    for (a,b),(c,d) in start:\n",
    "        ax.plot([b+0.5,d+0.5],[a+0.5,c+0.5], linewidth=1,color=\"g\")\n",
    "    ax.axis('off')  \n",
    "    plt.show()"
   ]
  },
  {
   "cell_type": "code",
   "execution_count": 4,
   "id": "4730a180-ad5f-4e8b-8786-554b91bffb81",
   "metadata": {},
   "outputs": [],
   "source": [
    "#work out the angles for the lines\n",
    "def to_polar(start,pivot):\n",
    "    s = np.array(start)\n",
    "    p = np.array(pivot)\n",
    "    l = p-s\n",
    "    r = np.sum(np.power(l,2))\n",
    "    cosTh = np.dot(l,[-1,0])\n",
    "    sinTh = np.cross(l,[-1,0])\n",
    "    a = np.rad2deg(np.arctan2(sinTh,cosTh)+np.pi) % 360\n",
    "    return r,a\n",
    "\n",
    "lines = {((x,y),(i,j)):to_polar((x,y),(i,j)) for x,y,i,j in itertools.product(range(20),repeat=4) }"
   ]
  },
  {
   "cell_type": "code",
   "execution_count": 5,
   "id": "49bc5702-f8ff-46b3-af30-dd076d7e8e6d",
   "metadata": {},
   "outputs": [],
   "source": [
    "#work out the angles the lines hit the boundary\n",
    "def edge_hit(c):\n",
    "    N =20\n",
    "    not_c = [(i,j) for i,j in itertools.product(range(20),repeat=2) if (i,j) not in c]\n",
    "    angles = defaultdict(list)\n",
    "    for a,b in c:\n",
    "        for i,j in not_c:\n",
    "            d,angle = lines[((a,b),(i,j))]\n",
    "            dist = d**.5\n",
    "            if b+.5 < dist:\n",
    "                la = np.rad2deg(np.arccos((b+0.5)/dist))\n",
    "                angles[((a,b),(i,j))] += [270+la,270-la]\n",
    "            if N-(b+0.5) < dist:\n",
    "                ra = np.rad2deg(np.arccos((N-(b+0.5))/dist))\n",
    "                angles[((a,b),(i,j))] += [90+ra,90-ra]\n",
    "            if a+.5 < dist:\n",
    "                ta = np.rad2deg(np.arccos((a+0.5)/dist))\n",
    "                angles[((a,b),(i,j))] += [ta,360-ta]\n",
    "            if N-(a+0.5) < dist:\n",
    "                ba = np.rad2deg(np.arccos((N-(a+0.5))/dist))\n",
    "                angles[((a,b),(i,j))] += [180+ba,180-ba]             \n",
    "    return angles\n",
    "\n",
    "edge_angles = edge_hit(coords1)"
   ]
  },
  {
   "cell_type": "code",
   "execution_count": 6,
   "id": "92962823-7678-4d21-acaf-9280cebfeb01",
   "metadata": {},
   "outputs": [],
   "source": [
    "#work out if a swing is possible given the edges and blocking cells\n",
    "def between_angle(start_angle,end_angle,block_angles):\n",
    "    blocks = np.concatenate((block_angles-360,block_angles+0,block_angles+360))\n",
    "    min_angle = np.max(blocks[blocks <= start_angle])\n",
    "    max_angle = np.min(blocks[blocks >= start_angle])\n",
    "    if end_angle >= min_angle and end_angle <= max_angle:\n",
    "        return True\n",
    "    if end_angle+360 >= min_angle and end_angle+360 <= max_angle:\n",
    "        return True\n",
    "    if end_angle-360 >= min_angle and end_angle-360 <= max_angle:\n",
    "        return True \n",
    "    else:\n",
    "        return False"
   ]
  },
  {
   "cell_type": "code",
   "execution_count": 7,
   "id": "76775033-2b2f-4cd3-8bf9-7e8019371899",
   "metadata": {},
   "outputs": [],
   "source": [
    "#work out all possible swings based on distance and blocking cells\n",
    "def poss_swing(x,y,coords,lines,edges):  \n",
    "    poss = []\n",
    "    scores = []\n",
    "    for (a,b) in coords:\n",
    "        distance,start_angle = lines[((x,y),(a,b))]\n",
    "        blocks = np.array([angle for dist,angle in \n",
    "                         [lines[((i,j),(a,b))] for (i,j) in coords if (i,j) !=(a,b)] \n",
    "                          if dist < distance ] \n",
    "                          + edges[((a,b),(x,y))] \n",
    "                          +[-1080,+1080])\n",
    "        poss += [((a,b),(i,j),distance) for i,j in itertools.product(range(20),repeat=2) \n",
    "                 if (i,j) not in coords \n",
    "                 and (i,j) != (x,y)          \n",
    "                 and lines[((i,j),(a,b))][0] == distance\n",
    "                 and between_angle(start_angle,lines[((i,j),(a,b))][1],blocks)\n",
    "                 ]\n",
    "    return poss "
   ]
  },
  {
   "cell_type": "code",
   "execution_count": 8,
   "id": "2f349926-f5d2-426f-957b-f39a42613907",
   "metadata": {},
   "outputs": [],
   "source": [
    "# loop through all paths. Assume it has to pivot via (1,18) and jump to one of the possible cells from there\n",
    "def solver(target,coords,lines,edges,initial=(19,0)):\n",
    "    soln = []\n",
    "    paths=[[initial,coords,0,[],[]]] #current point, coords left,score,path,pivots\n",
    "    best_score = 1\n",
    "    \n",
    "    while len(soln) == 0:\n",
    "        (x,y),c,s,p,pv = paths.pop(0)\n",
    "        if s < best_score:\n",
    "            if (x,y) == target:\n",
    "                #print([s,p,pv])\n",
    "                soln = [s,p,pv]\n",
    "                best_score = np.copy(s)\n",
    "            else:\n",
    "                swings = poss_swing(x,y,c,lines,edges)\n",
    "                for (a,b),(i,j),distance in swings:\n",
    "                    if distance <9:\n",
    "                        continue\n",
    "                    new_c=dc(c)\n",
    "                    new_c.remove((a,b))\n",
    "                    new_path = p+[(i,j)]\n",
    "                    new_pivot = pv+[(a,b)]\n",
    "                    new_s = s + 1/distance**2\n",
    "                    paths.append([(i,j),new_c,new_s,new_path,new_pivot])\n",
    "    return(soln)"
   ]
  },
  {
   "cell_type": "code",
   "execution_count": null,
   "id": "fa23dcaf-77b1-4585-b787-c43d0c75ebb3",
   "metadata": {},
   "outputs": [],
   "source": [
    "#run the solution and print the score\n",
    "start = time.time()\n",
    "initial= (19,0)\n",
    "score,path,pivots = solver((0,19),coords1,lines,edge_angles,initial)\n",
    "\n",
    "print(\"Best Score is {:.4f} in {:.4f} secs\".format(score,time.time()-start))\n",
    "swings = ([[x,pivots[i]] for i,x in enumerate(path)])\n",
    "starts = [initial]+[i[0] for i in swings[:-1]] \n",
    "pivots = [i[1] for i in swings]\n",
    "print(starts)\n",
    "print(pivots)\n",
    "start = [i for i in zip(starts,pivots)]\n",
    "#print_coord(coords1,start=start,swings=swings)"
   ]
  },
  {
   "cell_type": "code",
   "execution_count": null,
   "id": "205defc7-af06-420d-8bcf-78b9d57ec361",
   "metadata": {},
   "outputs": [],
   "source": [
    "#convert solution to submission format\n",
    "letters =[i for i in string.ascii_lowercase[:20]]\n",
    "print(\"Score:{:.4f}\".format(score),[i for i in zip([letters[j]+str(20-i) for i,j in pivots],[letters[j]+str(20-i) for ((i,j),(a,b)) in swings])])"
   ]
  },
  {
   "cell_type": "code",
   "execution_count": null,
   "id": "f5b39000-1263-4521-981b-55079c9be005",
   "metadata": {},
   "outputs": [],
   "source": [
    "#print the steps\n",
    "x = [np.sum(np.power(np.array(starts[i],dtype=np.float64)-np.array(pivots[i],dtype=np.float64),2)) for i in range(len(starts))]\n",
    "print(\"The distances are: \",x)\n",
    "print(\"Checking the score: {:.4f}\".format(np.sum(np.power(x,-1))))\n",
    "\n",
    "grid = np.zeros((20,20))\n",
    "\n",
    "fig,ax = plt.subplots(2,4,figsize=(16,8))\n",
    "for i in range(len(start)):\n",
    "    sns.heatmap(grid,cmap='Greys',cbar=False,linecolor=\"grey\",\n",
    "                linewidths=1,fmt=\"\",annot_kws={\"size\":10,\"weight\": \"bold\"},ax=ax[i//4,i%4],yticklabels=range(20,0,-1), xticklabels=letters)\n",
    "    ax[i//4,i%4].tick_params(left=False, bottom=False,labelleft=True, labelright=False,labelsize=6)\n",
    "    for (a,b),(c,d) in swings[i:i+1]:\n",
    "        ax[i//4,i%4].plot([b+0.5,d+0.5],[a+0.5,c+0.5], linewidth=1.5,color=\"r\")\n",
    "    for (a,b),(c,d) in start[i:i+1]:\n",
    "        ax[i//4,i%4].plot([b+0.5,d+0.5],[a+0.5,c+0.5], linewidth=1.5,color=\"g\")\n",
    "    for (x,y) in coords1:  \n",
    "        ax[i//4,i%4].plot(y+0.5,x+0.5,'ko',markersize=1)\n",
    "        ax[i//4,i%4].set_title(\"From {} to {} pivot {}\".format(starts[i],swings[i][0],swings[i][1]),fontsize=10)         \n",
    "ax[1,3].axis('off')  \n",
    "plt.show()"
   ]
  },
  {
   "cell_type": "code",
   "execution_count": null,
   "id": "eb276327-b998-467c-81ad-34f494ad49bc",
   "metadata": {},
   "outputs": [],
   "source": [
    "url='https://www.janestreet.com/puzzles/swing-time-solution/'\n",
    "res = requests.get(url)\n",
    "soup = BeautifulSoup(res.content, 'html.parser')\n",
    "y =[text for text in soup.body.stripped_strings]\n",
    "#display([(i,j) for i,j in enumerate(y)])\n",
    "display(Markdown(\"### \"+y[8]+\"\\n\\n\"+str(\"\\n\".join(y[10:14]))))"
   ]
  },
  {
   "cell_type": "code",
   "execution_count": null,
   "id": "655feaec-7e8d-43d7-abfe-b17901cdfd4d",
   "metadata": {},
   "outputs": [],
   "source": [
    "# use the solution provided in the video which doesn't rely on a wrap-around\n",
    "soln = [(\"a11\",\"i5\"), (\"r16\",\"g7\"), (\"o17\",\"e9\"), (\"t17\",\"f8\"), (\"m14\",\"g7\"), (\"p15\",\"h6\"), (\"n18\",\"j6\"), (\"s13\",\"h10\"), (\"s18\",\"k7\"), (\"s19\",\"g11\"), (\"q4\",\"j14\"), (\"p6\",\"s13\"),\n",
    "(\"e20\",\"t20\")]\n",
    "letters =[i for i in string.ascii_lowercase[:20]]\n",
    "\n",
    "swings1 = [((20-int(i[1:]),letters.index(i[0])),(20-int(j[1:]),letters.index(j[0]))) for (j,i) in soln]\n",
    "starts1 = [(19,0)]+[i[0] for i in swings1[:-1]] \n",
    "pivots1 = [i[1] for i in swings1]\n",
    "\n",
    "start1 = [i for i in zip(starts1,pivots1)]\n",
    "\n",
    "print_coord(coords1,start=start1,swings=swings1)\n",
    "print(starts1)\n",
    "print(pivots1)\n",
    "x = [np.sum(np.power(np.array(starts1[i],dtype=np.float64)-np.array(pivots1[i],dtype=np.float64),2)) for i in range(len(starts1))]\n",
    "print(x)\n",
    "print(np.sum(np.power(x,-1)))"
   ]
  },
  {
   "cell_type": "code",
   "execution_count": null,
   "id": "df02c445-01eb-4987-b321-3925746ffe5c",
   "metadata": {},
   "outputs": [],
   "source": []
  }
 ],
 "metadata": {
  "kernelspec": {
   "display_name": "Python 3",
   "language": "python",
   "name": "python3"
  },
  "language_info": {
   "codemirror_mode": {
    "name": "ipython",
    "version": 3
   },
   "file_extension": ".py",
   "mimetype": "text/x-python",
   "name": "python",
   "nbconvert_exporter": "python",
   "pygments_lexer": "ipython3",
   "version": "3.7.10"
  }
 },
 "nbformat": 4,
 "nbformat_minor": 5
}
