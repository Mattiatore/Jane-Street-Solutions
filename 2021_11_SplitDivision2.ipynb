{
 "cells": [
  {
   "cell_type": "code",
   "execution_count": 1,
   "id": "86211ea4",
   "metadata": {},
   "outputs": [],
   "source": [
    "import numpy as np\n",
    "import math\n",
    "import time\n",
    "import requests\n",
    "from bs4 import BeautifulSoup\n",
    "from IPython.display import Markdown, display\n",
    "from z3 import *\n",
    "from collections import defaultdict"
   ]
  },
  {
   "cell_type": "code",
   "execution_count": 7,
   "id": "e0403ffc",
   "metadata": {},
   "outputs": [
    {
     "data": {
      "text/markdown": [
       "### November 2021 : Puzzle\n",
       "\n",
       "Two long division problems were calculated, and both problems had the\n",
       "exact same shape. At some places, the digits from the two problems\n",
       "were both positive and had a greatest common divisor that was larger\n",
       "than 1.\n",
       "All\n",
       "of those spots are marked with their respective GCDs.\n",
       "The answer to this puzzle is the\n",
       "sum\n",
       "of the two 7-digit dividends in\n",
       "the completed long division problems."
      ],
      "text/plain": [
       "<IPython.core.display.Markdown object>"
      ]
     },
     "metadata": {},
     "output_type": "display_data"
    }
   ],
   "source": [
    "url='https://www.janestreet.com/puzzles/split-division-2-index/'\n",
    "res = requests.get(url)\n",
    "soup = BeautifulSoup(res.content, 'html.parser')\n",
    "y =[text for text in soup.body.stripped_strings]\n",
    "#display([[i,j] for i,j in enumerate(y)])\n",
    "display(Markdown(\"### \"+y[8]+\"\\n\\n\"+str(\"\\n\".join(y[10:16]))))"
   ]
  },
  {
   "cell_type": "markdown",
   "id": "1920bbbf",
   "metadata": {},
   "source": [
    "<img src=\"https://www.janestreet.com/puzzles/2021-11-01-split-division-2.png\" width=\"300\" >"
   ]
  },
  {
   "cell_type": "code",
   "execution_count": 3,
   "id": "e2412d92",
   "metadata": {},
   "outputs": [],
   "source": [
    "# set up the constraints given by the GCDs \n",
    "def constrain(x,y,c):\n",
    "    if c>0:\n",
    "        return Or([And(x==i,y==j) for i in range(10) for j in range(10) if math.gcd(i,j)==c])\n",
    "    else:\n",
    "        return And(x>=0, x<=9, y>=0, y<=9,\n",
    "                  And([Implies(x==d,And([y!=i for i in range(2,10) if math.gcd(d,i) > 1])) for d in range(2,10)]),\n",
    "                  And([Implies(y==d,And([x!=i for i in range(2,10) if math.gcd(d,i) > 1])) for d in range(2,10)])\n",
    "                  )    "
   ]
  },
  {
   "cell_type": "code",
   "execution_count": 4,
   "id": "116a40e9-141a-4ff7-8e35-6b188936d442",
   "metadata": {},
   "outputs": [
    {
     "name": "stdout",
     "output_type": "stream",
     "text": [
      "Setup took 0.19 seconds\n"
     ]
    }
   ],
   "source": [
    "start = time.time()\n",
    "\n",
    "# set up the variables and the solver\n",
    "# ~~~~~~~~~~~~~~~~~~~~~~~~~~~~~~~~~~~~\n",
    "names = [\"divisor\",\"dividend\",\"quotient\",\"row1\",\"row2\",\"row3\",\"row4\",\"row5\",\"row6\"]\n",
    "lengths = [4,7,3,5,5,4,5,5,2]\n",
    "\n",
    "for n in range(len(names)):\n",
    "    locals()[\"A\"+names[n]] = IntVector(\"A\"+names[n],lengths[n])\n",
    "    locals()[\"B\"+names[n]] = IntVector(\"B\"+names[n],lengths[n])\n",
    "\n",
    "s = Tactic(\"qfnia\").solver()\n",
    "\n",
    "# The Constraints\n",
    "# ~~~~~~~~~~~~~~~\n",
    "Cdivisor = [3,0,2,2]\n",
    "Cdividend = [0,7,0,0,0,2,3]\n",
    "Cquotient = [4,0,2]\n",
    "Crow1 = [0,0,0,0,2]\n",
    "Crow2 = [0,0,0,0,2]\n",
    "Crow3 = [9,0,3,8]\n",
    "Crow4 = [0,3,0,2,3]\n",
    "Crow5 = [0,3,2,7,2]\n",
    "Crow6 = [3,7]\n",
    "\n",
    "for i in range(len(names)):\n",
    "    for j in range(len(eval(\"A\"+names[i]))):\n",
    "        s += constrain(eval(\"A\"+names[i])[j],eval(\"B\"+names[i])[j],eval(\"C\"+names[i])[j])\n",
    "\n",
    "v =[\"A\",\"B\"]        \n",
    "        \n",
    "# the long division elements\n",
    "# ~~~~~~~~~~~~~~~~~~~~~~~~~~\n",
    "for i in v:\n",
    "    locals()[i+\"initial\"]= eval(i+\"dividend\")[:-2]\n",
    "    locals()[i+\"remainder1\"] = eval(i+\"row2\")[:-1]\n",
    "    locals()[i+\"remainder2\"] = eval(i+\"row4\")[:-1]\n",
    "\n",
    "# function to convert from list to number\n",
    "# ~~~~~~~~~~~~~~~~~~~~~~~~~~~~~~~~~~~~~~~\n",
    "num = lambda x: Sum([x[-(i+1)] * (10**i) for i in range(len(x))])\n",
    "\n",
    "# line by line\n",
    "# ~~~~~~~~~~~~\n",
    "# the first quotient\n",
    "s += [num(eval(i+\"row1\")) == num(eval(i+\"divisor\")) * eval(i+\"quotient\")[0] for i in v]\n",
    "s += [num(eval(i+\"initial\")) - num(eval(i+\"row1\")) == num(eval(i+\"remainder1\")) for i in v]\n",
    "\n",
    "# the second quotient\n",
    "s += [num(eval(i+\"row2\")) == num(eval(i+\"remainder1\")) * 10 + eval(i+\"dividend\")[5] for i in v]\n",
    "s += [num(eval(i+\"row3\")) == num(eval(i+\"divisor\")) * eval(i+\"quotient\")[1] for i in v]\n",
    "s += [num(eval(i+\"row2\")) - num(eval(i+\"row3\")) == num(eval(i+\"remainder2\")) for i in v]\n",
    "\n",
    "# the third quotient\n",
    "s += [num(eval(i+\"row4\")) == num(eval(i+\"remainder2\")) * 10 + eval(i+\"dividend\")[6] for i in v]\n",
    "s += [num(eval(i+\"row5\")) == num(eval(i+\"divisor\")) * eval(i+\"quotient\")[2] for i in v]\n",
    "s += [num(eval(i+\"row4\")) - num(eval(i+\"row5\")) == num(eval(i+\"row6\")) for i in v]\n",
    "\n",
    "# no leading zeros\n",
    "s += And([eval(i+j)[0] != 0 for i in v for j in names])\n",
    "\n",
    "# overall\n",
    "s +=  [num(eval(i+\"dividend\")) == num(eval(i+\"divisor\")) * num(eval(i+\"quotient\")) + num(eval(i+\"row6\")) for i in v]\n",
    "\n",
    "\n",
    "print(\"Setup took {:,.2f} seconds\".format(time.time()-start))"
   ]
  },
  {
   "cell_type": "code",
   "execution_count": 5,
   "id": "b5ea2562-14b4-496e-a007-63195607450d",
   "metadata": {},
   "outputs": [
    {
     "name": "stdout",
     "output_type": "stream",
     "text": [
      "Solved in 37.37 seconds\n",
      "\n",
      "2,713,723 / 3,246 = 836 remainder 67\n",
      "\n",
      "row1: 25,968\n",
      "row2: 11,692\n",
      "row3: 9,738\n",
      "row4: 19,543\n",
      "row5: 19,476\n",
      "row6: 67\n",
      "\n",
      "3,754,249 / 9,068 = 414 remainder 97\n",
      "\n",
      "row1: 36,272\n",
      "row2: 12,704\n",
      "row3: 9,068\n",
      "row4: 36,369\n",
      "row5: 36,272\n",
      "row6: 97\n",
      "\n",
      "Solution is: 6,467,972\n"
     ]
    }
   ],
   "source": [
    "# Solve and Display\n",
    "# ~~~~~~~~~~~~~~~~~\n",
    "start = time.time()\n",
    "if s.check() == sat:\n",
    "    m = s.model()\n",
    "    print(\"Solved in {:,.2f} seconds\".format(time.time()-start))\n",
    "    \n",
    "    #calculate functions\n",
    "    evalu = np.vectorize(lambda x :m.evaluate(x).as_long())\n",
    "    eval_num = lambda x :int(\"\".join(str(i) for i in evalu(x)))                    \n",
    "    \n",
    "    a_result = [eval_num(eval(\"A\"+i)) for i in names]\n",
    "    b_result = [eval_num(eval(\"B\"+i)) for i in names]                    \n",
    "                        \n",
    "    print(\"\\n{:,.0f} / {:,.0f} = {:,.0f} remainder {}\\n\".format(a_result[1],a_result[0],a_result[2],a_result[-1]))\n",
    "    for x in range(1,7):\n",
    "        print(\"row{}: {:,.0f}\".format(x,a_result[2+x]))           \n",
    "    \n",
    "    print(\"\\n{:,.0f} / {:,.0f} = {:,.0f} remainder {}\\n\".format(b_result[1],b_result[0],b_result[2],b_result[-1]))    \n",
    "    for x in range(1,7):\n",
    "        print(\"row{}: {:,.0f}\".format(x,b_result[2+x]))\n",
    "    \n",
    "    print(\"\\nSolution is: {:,.0f}\".format(a_result[1]+b_result[1]))\n",
    "                    \n",
    "else:\n",
    "    print(\"Failed\")"
   ]
  },
  {
   "cell_type": "code",
   "execution_count": 6,
   "id": "f69a9856",
   "metadata": {},
   "outputs": [
    {
     "data": {
      "text/markdown": [
       "### November 2021 : Solution\n",
       "\n",
       "Show Puzzle\n",
       "The above image shows the two division problems for which\n",
       "all\n",
       "of\n",
       "the GCDs larger than 1 are as specified in the original puzzle. The\n",
       "sum of the two seven-digit dividends is\n",
       "6467972\n",
       "."
      ],
      "text/plain": [
       "<IPython.core.display.Markdown object>"
      ]
     },
     "metadata": {},
     "output_type": "display_data"
    }
   ],
   "source": [
    "url='https://www.janestreet.com/puzzles/split-division-2-solution/'\n",
    "res = requests.get(url)\n",
    "soup = BeautifulSoup(res.content, 'html.parser')\n",
    "y =[text for text in soup.body.stripped_strings]\n",
    "#display([[i,j] for i,j in enumerate(y)])\n",
    "display(Markdown(\"### \"+y[8]+\"\\n\\n\"+str(\"\\n\".join(y[9:15]))))"
   ]
  },
  {
   "cell_type": "markdown",
   "id": "4058f43f",
   "metadata": {},
   "source": [
    "<img src=\"https://www.janestreet.com/puzzles/2021-11-01-split-division-2-solution.png\" width=\"300\" >"
   ]
  },
  {
   "cell_type": "code",
   "execution_count": null,
   "id": "f7ebaa48-8d2c-4e49-accc-adc32e13178b",
   "metadata": {},
   "outputs": [],
   "source": []
  },
  {
   "cell_type": "code",
   "execution_count": null,
   "id": "1edadc5c-7b38-4d6a-84d5-80252b04e5e4",
   "metadata": {},
   "outputs": [],
   "source": []
  }
 ],
 "metadata": {
  "kernelspec": {
   "display_name": "Python 3",
   "language": "python",
   "name": "python3"
  },
  "language_info": {
   "codemirror_mode": {
    "name": "ipython",
    "version": 3
   },
   "file_extension": ".py",
   "mimetype": "text/x-python",
   "name": "python",
   "nbconvert_exporter": "python",
   "pygments_lexer": "ipython3",
   "version": "3.7.10"
  }
 },
 "nbformat": 4,
 "nbformat_minor": 5
}
