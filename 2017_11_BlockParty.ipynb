{
 "cells": [
  {
   "cell_type": "code",
   "execution_count": 2,
   "metadata": {
    "id": "Oq1xibzMT1Wl"
   },
   "outputs": [],
   "source": [
    "import numpy as np\n",
    "import pandas as pd\n",
    "import time\n",
    "import seaborn as sns\n",
    "import matplotlib.pyplot as plt\n",
    "import requests\n",
    "from bs4 import BeautifulSoup\n",
    "import itertools\n",
    "from copy import deepcopy as dcopy,copy\n",
    "from skimage.morphology import label\n",
    "from scipy.ndimage import measurements\n",
    "import sys\n",
    "import time\n"
   ]
  },
  {
   "cell_type": "markdown",
   "metadata": {
    "id": "U9Yh1D3HT1Ws"
   },
   "source": [
    "### Puzzle details\n",
    "<img src=\"https://www.janestreet.com/puzzles/wp-content/uploads/2017/11/20171101_block_party.png\" width=\"300\" height=\"300\">"
   ]
  },
  {
   "cell_type": "code",
   "execution_count": 85,
   "metadata": {
    "id": "0VI0NM6ET1Wt"
   },
   "outputs": [
    {
     "data": {
      "image/png": "[encoded data removed]",
      "text/plain": [
       "<Figure size 288x288 with 1 Axes>"
      ]
     },
     "metadata": {
      "needs_background": "light"
     },
     "output_type": "display_data"
    }
   ],
   "source": [
    "groups=np.array([[0 ,0 ,22,2 ,2 ,3 ,3 ,3 ,4 ],\n",
    "                 [0 ,0 ,2 ,2 ,6 ,7 ,3 ,3 ,4 ],\n",
    "                 [0 ,5 ,6 ,6 ,6 ,7 ,7 ,4 ,4 ],\n",
    "                 [9 ,5 ,6 ,21,6 ,12,7 ,10,10],\n",
    "                 [9 ,9 ,13,13,14,14,16,17,17],\n",
    "                 [9 ,9 ,14,14,14,15,16,18,17],\n",
    "                 [19,9 ,23,23,20,20,18,18,18],\n",
    "                 [19,8 ,8 ,11,11,20,20,1 ,18],\n",
    "                 [19,11,11,11,11,1 ,1 ,1 ,18]\n",
    "                 ],dtype=int)\n",
    "\n",
    "fixed =np.array([[0,0,0,0,0,0,0,0,0],\n",
    "                 [0,0,0,0,2,0,0,0,0],\n",
    "                 [0,0,0,0,0,0,0,0,0],\n",
    "                 [0,0,0,0,0,0,0,0,0],\n",
    "                 [0,4,0,0,0,0,0,1,0],\n",
    "                 [0,0,0,0,0,0,0,0,0],\n",
    "                 [0,0,0,0,0,0,0,0,0],\n",
    "                 [0,0,0,0,1,0,0,0,0],\n",
    "                 [0,0,0,0,0,0,0,0,0]\n",
    "                 ],dtype=int)\n",
    "\n",
    "def grid_print(groups,numbers):\n",
    "    fig,ax = plt.subplots(1,1,figsize=(4,4))\n",
    "    x = np.array((numbers).astype('int').astype('str'))\n",
    "    x[x==\"0\"] =\"-\"\n",
    "    ax = sns.heatmap(groups,annot=x,cbar=False,cmap=\"tab20\",fmt=\"\",linewidths=0.25)\n",
    "    ax.axis(\"off\")\n",
    "    \n",
    "grid_print(groups,fixed) \n"
   ]
  },
  {
   "cell_type": "code",
   "execution_count": 74,
   "metadata": {
    "colab": {
     "base_uri": "https://localhost:8080/",
     "height": 374
    },
    "id": "zexQ8t1kT1W3",
    "outputId": "7c2aec4e-d2fb-45d8-fc7e-679051faafed"
   },
   "outputs": [],
   "source": [
    "class Matrix():\n",
    "    def __init__(self,groups,fixed):\n",
    "        self.groups = groups\n",
    "        self.fixed = fixed\n",
    "        self.solution = []\n",
    "        self.group_dict ={}\n",
    "        for n in range(24):\n",
    "            self.group_dict[n] = list(np.arange(1,np.sum(self.groups==n)+1))\n",
    "    \n",
    "    def forced(self):\n",
    "        changed =1\n",
    "        while changed  ==1:\n",
    "            changed =0\n",
    "            for i,j in itertools.product(range(9),range(9)):\n",
    "                group = self.groups[i,j]\n",
    "                if self.fixed[i,j] == 0: \n",
    "                    if len(self.group_dict[group]) ==1:\n",
    "                        num = self.group_dict[group].pop(0)\n",
    "                        self.fixed[i,j] = num\n",
    "                        changed = 1\n",
    "                else:\n",
    "                    num = self.fixed[i,j]\n",
    "                    if num in self.group_dict[group]:\n",
    "                        self.group_dict[group].remove(num)\n",
    "                        changed=1     \n",
    "\n",
    "    def solve(self):\n",
    "        for row,col in itertools.product(range(9),range(9)):\n",
    "            \n",
    "             if self.fixed[row,col]==0:\n",
    "                group = self.groups[row,col]\n",
    "                loop = dcopy(self.group_dict[group])\n",
    "                for n in loop:\n",
    "                    if self.possible(n,row,col):\n",
    "                        self.fixed[row,col] = n\n",
    "                        self.group_dict[group].remove(n)\n",
    "                        self.solve()\n",
    "                        self.fixed[row,col] = 0\n",
    "                        self.group_dict[group].append(n)\n",
    "                return\n",
    "        if self.final_test():    \n",
    "            self.solution.append(dcopy(self.fixed))\n",
    "\n",
    "    def possible(self,n,row,col):\n",
    "        #keep large numbers out of the middle\n",
    "      \n",
    "        for i in range(1,n):\n",
    "             if np.any(self.n_neighbour(i,row,col)==n):\n",
    "                    return False\n",
    "        neighbours = self.n_neighbour(n,row,col)\n",
    "        \n",
    " \n",
    "        \n",
    "        if 0 not in neighbours:\n",
    "            if n not in neighbours:\n",
    "                return False \n",
    "            \n",
    "            \n",
    "        test =dcopy(self.fixed)\n",
    "        for i,j in itertools.product(range(9),range(9)):\n",
    "            num = self.fixed[i,j]\n",
    "            if num ==n :\n",
    "                neighbours = self.n_neighbour(num,i,j)\n",
    "                if 0 not in neighbours:\n",
    "                    if num not in neighbours:\n",
    "                        return False\n",
    "          \n",
    "        return True\n",
    "   \n",
    "    def final_test(self):\n",
    "        for i,j in itertools.product(range(9),range(9)):\n",
    "            num = self.fixed[i,j]\n",
    "            neighbours = self.n_neighbour(num,i,j)\n",
    "            if num not in neighbours:\n",
    "                return False\n",
    "        return True\n",
    "\n",
    "    def n_neighbour(self,n,row,col):\n",
    "        neighbours = []\n",
    "        if row-n >-1:\n",
    "            neighbours.append(self.fixed[row-n,col])\n",
    "        if col-n >-1:\n",
    "            neighbours.append(self.fixed[row,col-n])\n",
    "        if row+n <9:\n",
    "            neighbours.append(self.fixed[row+n,col])\n",
    "        if col+n <9:\n",
    "            neighbours.append(self.fixed[row,col+n])\n",
    "        return neighbours\n",
    "\n",
    "def counter(groups,solved):\n",
    "    group_poss = []\n",
    "    for i in range(24):\n",
    "        group_poss.append([0])\n",
    "    \n",
    "    group = 0\n",
    "    total =0\n",
    "    for i,j in itertools.product(range(9),range(9)):  \n",
    "        num = solved[i,j]\n",
    "        if groups[i,j] == group:\n",
    "            total *=10\n",
    "            total += num\n",
    "        else:\n",
    "            group_poss[group].append(total)\n",
    "            group = groups[i,j]\n",
    "            total = num\n",
    "     \n",
    "    prod = 0\n",
    "    for i in range(24):\n",
    "        prod +=max(group_poss[i])\n",
    "        \n",
    "    return prod"
   ]
  },
  {
   "cell_type": "code",
   "execution_count": 82,
   "metadata": {
    "colab": {
     "base_uri": "https://localhost:8080/",
     "height": 374
    },
    "id": "zexQ8t1kT1W3",
    "outputId": "7c2aec4e-d2fb-45d8-fc7e-679051faafed"
   },
   "outputs": [
    {
     "name": "stdout",
     "output_type": "stream",
     "text": [
      "\n",
      "Forced took 0.000721 seconds\n",
      "\n",
      "\n",
      "Solution took 662.359835 seconds\n",
      "\n",
      "number incorrect : 2\n"
     ]
    },
    {
     "data": {
      "image/png": "[encoded data removed]",
      "text/plain": [
       "<Figure size 288x288 with 1 Axes>"
      ]
     },
     "metadata": {
      "needs_background": "light"
     },
     "output_type": "display_data"
    }
   ],
   "source": [
    "start = time.perf_counter()\n",
    "matrix = Matrix(groups,fixed)  \n",
    "matrix.forced()\n",
    "print('\\nForced took {:0.6f} seconds\\n'.format((time.perf_counter()-start)))\n",
    "matrix.solve()\n",
    "print('\\nSolution took {:0.6f} seconds\\n'.format((time.perf_counter()-start)))\n",
    "grid_print(matrix.groups,matrix.solution[0])\n",
    "#print(len(matrix.solution))\n",
    "print(\"number incorrect :\",np.sum(matrix.solution[0]!=solved))"
   ]
  },
  {
   "cell_type": "code",
   "execution_count": 83,
   "metadata": {
    "colab": {
     "base_uri": "https://localhost:8080/",
     "height": 374
    },
    "id": "zexQ8t1kT1W3",
    "outputId": "7c2aec4e-d2fb-45d8-fc7e-679051faafed"
   },
   "outputs": [
    {
     "name": "stdout",
     "output_type": "stream",
     "text": [
      "The sum of largest concatenated numbers is : 6,647\n"
     ]
    }
   ],
   "source": [
    "print(\"The sum of largest concatenated numbers is : {:,.0f}\".format(counter(matrix.groups,matrix.solution[0])))"
   ]
  },
  {
   "cell_type": "code",
   "execution_count": 84,
   "metadata": {
    "colab": {
     "base_uri": "https://localhost:8080/",
     "height": 374
    },
    "id": "zexQ8t1kT1W3",
    "outputId": "7c2aec4e-d2fb-45d8-fc7e-679051faafed"
   },
   "outputs": [
    {
     "name": "stdout",
     "output_type": "stream",
     "text": [
      "There are two ways to complete this month’s puzzle, one of which is shown below. (The other comes from switching the 1 and 2 in the shaded region.) In either case, the sum of the largest concatenated values (the values in red) in each region is 6647\n"
     ]
    }
   ],
   "source": [
    "url='https://www.janestreet.com/puzzles/solutions/november-2017-solution/'\n",
    "res = requests.get(url)\n",
    "soup = BeautifulSoup(res.content, 'html.parser')\n",
    "x =[text for text in soup.body.stripped_strings]\n",
    "\n",
    "print(\" \".join(x[7:9]))"
   ]
  },
  {
   "cell_type": "markdown",
   "metadata": {
    "id": "ld_NFUIfT1W9"
   },
   "source": [
    "### Puzzle solution\n",
    "<img src=\"https://www.janestreet.com/puzzles/wp-content/uploads/2017/12/20171201_block_party_completed.png\" width=\"300\" height=\"400\">"
   ]
  },
  {
   "cell_type": "code",
   "execution_count": null,
   "metadata": {},
   "outputs": [],
   "source": [
    "solved=np.array([[3,4,1,1,3,4,2,3,2],\n",
    "                 [2,5,2,4,2,3,5,1,3],\n",
    "                   [1,1,3,6,1,1,2,1,4],\n",
    "                   [3,2,4,1,5,1,4,1,2],\n",
    "                   [5,4,2,1,2,5,1,1,3],\n",
    "                   [1,2,3,4,1,1,2,3,2],\n",
    "                   [1,6,1,2,4,2,5,6,4],\n",
    "                   [3,2,1,3,1,1,3,1,1],\n",
    "                   [2,4,2,6,5,4,2,3,2]\n",
    "                 ])"
   ]
  },
  {
   "cell_type": "code",
   "execution_count": 34,
   "metadata": {},
   "outputs": [
    {
     "data": {
      "image/png": "[encoded data removed]",
      "text/plain": [
       "<Figure size 288x288 with 1 Axes>"
      ]
     },
     "metadata": {
      "needs_background": "light"
     },
     "output_type": "display_data"
    }
   ],
   "source": [
    "grid_print(groups,solved) "
   ]
  },
  {
   "cell_type": "code",
   "execution_count": null,
   "metadata": {},
   "outputs": [],
   "source": []
  }
 ],
 "metadata": {
  "colab": {
   "include_colab_link": true,
   "name": "JaneSt-Feb18.ipynb",
   "provenance": []
  },
  "kernelspec": {
   "display_name": "Python 3",
   "language": "python",
   "name": "python3"
  },
  "language_info": {
   "codemirror_mode": {
    "name": "ipython",
    "version": 3
   },
   "file_extension": ".py",
   "mimetype": "text/x-python",
   "name": "python",
   "nbconvert_exporter": "python",
   "pygments_lexer": "ipython3",
   "version": "3.7.7"
  }
 },
 "nbformat": 4,
 "nbformat_minor": 4
}
