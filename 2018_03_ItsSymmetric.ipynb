{
 "cells": [
  {
   "cell_type": "code",
   "execution_count": 1,
   "metadata": {
    "id": "Oq1xibzMT1Wl"
   },
   "outputs": [],
   "source": [
    "import pandas as pd\n",
    "import numpy as np\n",
    "import time\n",
    "import seaborn as sns\n",
    "import matplotlib.pyplot as plt\n",
    "import requests\n",
    "from bs4 import BeautifulSoup\n",
    "import itertools\n",
    "from copy import deepcopy as dcopy,copy\n",
    "\n",
    "from z3 import *\n",
    "import grilops\n",
    "import grilops.regions"
   ]
  },
  {
   "cell_type": "code",
   "execution_count": 2,
   "metadata": {
    "id": "ICTfvjZUT1Wr"
   },
   "outputs": [
    {
     "name": "stdout",
     "output_type": "stream",
     "text": [
      "Puzzle\n",
      "~~~~~~\n",
      "(A few examples: In a 1-by-N region, all cells could be labeled 0, since a reflection across the longer mid-line takes every cell to itself. In the “S”-shaped Tetris piece, the cells could be labeled 3, 1, 1, 3.) The answer to this puzzle is the\n"
     ]
    }
   ],
   "source": [
    "# Back to the first problem. Redoing withh Z3\n",
    "url='https://www.janestreet.com/puzzles/its-symmetric/'\n",
    "res = requests.get(url)\n",
    "soup = BeautifulSoup(res.content, 'html.parser')\n",
    "y =[text for text in soup.body.stripped_strings]\n",
    "print(\"Puzzle\")\n",
    "print(\"~~~~~~\")\n",
    "print(\" \".join(y[8:10]))"
   ]
  },
  {
   "cell_type": "markdown",
   "metadata": {
    "id": "U9Yh1D3HT1Ws"
   },
   "source": [
    "### Puzzle details\n",
    "<img src=\"https://www.janestreet.com/puzzles/wp-content/uploads/2018/03/20180301_symmetric.png\" width=\"350\" >\n"
   ]
  },
  {
   "cell_type": "code",
   "execution_count": 3,
   "metadata": {
    "id": "844RhDFpT1Wu"
   },
   "outputs": [
    {
     "data": {
      "image/png": "[encoded data removed]",
      "text/plain": [
       "<Figure size 288x288 with 1 Axes>"
      ]
     },
     "metadata": {
      "needs_background": "light"
     },
     "output_type": "display_data"
    }
   ],
   "source": [
    "givens = np.array([[-1, -1, -1, 14, -1, -1, -1,  6, -1, -1, -1],\n",
    "                   [ 3, -1, 21, -1,  4, -1,  0, -1,  4, -1, -1],\n",
    "                   [ 7, -1, -1,  8, -1, 12, -1,  8, -1,  8,  4],\n",
    "                   [-1, -1, -1, -1, -1, -1, -1, -1, -1, -1,  6],\n",
    "                   [ 1,  1, -1,  1, -1, -1, -1,  5, -1, -1, -1],\n",
    "                   [-1,  5, -1, -1, -1,  1, -1, -1, -1,  2, -1],\n",
    "                   [-1, -1, -1,  7, -1, -1, -1,  8, -1, 19, 12],\n",
    "                   [ 9, -1, -1, -1, -1, -1, -1, -1, -1, -1, -1],\n",
    "                   [ 4,  7, -1,  1, -1,  5, -1, 15, -1, -1,  6],\n",
    "                   [-1, -1,  3, -1,  0, -1,  1, -1,  4, -1,  4],\n",
    "                   [-1, -1, -1,  3, -1, -1, -1,  3, -1, -1, -1]])\n",
    "\n",
    "fig,ax = plt.subplots(1,1,figsize=(4,4))\n",
    "x = np.array((givens).astype('int').astype('str'))\n",
    "x[x==\"-1\"] =\"\"\n",
    "ax =sns.heatmap(givens!=-1,annot=x,cbar=False,center=3,cmap=\"Greys\",fmt=\"\",linewidths=1,linecolor=\"grey\",annot_kws={\"size\":12})\n",
    "ax.axis(\"off\")\n",
    "plt.tight_layout()"
   ]
  },
  {
   "cell_type": "code",
   "execution_count": 4,
   "metadata": {
    "id": "844RhDFpT1Wu"
   },
   "outputs": [],
   "source": [
    "givens=np.array([[-1,-1, 4, 9],\n",
    "                 [-1,-1, 0,-1],\n",
    "                 [-1, 2,-1,-1],\n",
    "                 [ 3, 1,-1,-1]])\n"
   ]
  },
  {
   "cell_type": "code",
   "execution_count": 5,
   "metadata": {
    "id": "844RhDFpT1Wu"
   },
   "outputs": [],
   "source": [
    "N= givens.shape[0]\n",
    "\n",
    "# longhand in z3py\n",
    "def neigbours(grid, i, j):     \n",
    "    l = []\n",
    "    (rows,cols) = grid.shape\n",
    "    if i-1 >= 0:\n",
    "            l.append((i-1,j))\n",
    "    if i+1 < rows:\n",
    "            l.append((i+1,j))\n",
    "    if j-1 >= 0:\n",
    "            l.append((i,j-1))\n",
    "    if j+1 < cols:\n",
    "            l.append((i,j+1))\n",
    "    return l"
   ]
  },
  {
   "cell_type": "code",
   "execution_count": 14,
   "metadata": {
    "id": "844RhDFpT1Wu"
   },
   "outputs": [
    {
     "name": "stdout",
     "output_type": "stream",
     "text": [
      "Solved in 0.13 seconds\n"
     ]
    },
    {
     "data": {
      "image/png": "[encoded data removed]",
      "text/plain": [
       "<Figure size 288x288 with 1 Axes>"
      ]
     },
     "metadata": {
      "needs_background": "light"
     },
     "output_type": "display_data"
    }
   ],
   "source": [
    "start = time.time()    \n",
    "s = Solver()\n",
    "\n",
    "# Directed edges\n",
    "edge = {}\n",
    "for i in range(N):\n",
    "    for j in range(N):  \n",
    "        for (k,l) in neigbours(givens,i,j) :\n",
    "            edge[(i,j,k,l)] = Int(\"e%d%d%d%d\" % (i,j,k,l))\n",
    "            s += Or(edge[(i,j,k,l)] ==0,edge[(i,j,k,l)]==1) \n",
    "            \n",
    "# Define a variable to determine if there is an edge between 2 cells\n",
    "for i in range(N):\n",
    "    for j in range(N):  \n",
    "        for (k,l) in neigbours(givens,i,j):\n",
    "            s += (edge[(i,j,k,l)] + edge[(k,l,i,j)]) <= 1\n",
    "    \n",
    "# Make edges one way to form a tree\n",
    "for i in range(N):\n",
    "    for j in range(N):  \n",
    "        s += Sum([edge[(k,l,i,j)] for (k,l) in neigbours(givens,i,j) ]) <=1    \n",
    "\n",
    "# Set up a variable for the number in a cell  \n",
    "X = [[Int(\"x%d%d\" % (i,j)) for j in range (N) ] for i in range (N) ] \n",
    "s += [And(X[i][j]>= 0,X[i][j]<=21) for i in range(N) for j in range(N)]\n",
    "\n",
    "# Place the fixed cells\n",
    "for i in range(N):\n",
    "    for j in range(N):  \n",
    "        if givens[i,j] > -1:\n",
    "            s += X[i][j] == int(givens[i,j])  \n",
    "            \n",
    "# Set up a variable for the size of the tree at each point       \n",
    "size = [[Int(\"s%d%d\" % (i,j)) for j in range (N) ] for i in range (N) ]\n",
    "\n",
    "# Calculate size of cell as 1 + the cells it feeds into\n",
    "for i in range(N):\n",
    "    for j in range(N):   \n",
    "        s +=  size[i][j] == Sum([If(edge[(i,j,k,l)]==1,size[k][l],0) for (k,l) in neigbours(givens,i,j)])+1\n",
    "        \n",
    "# For roots (cells with no cells feeding in) size of cell must be equal to number in cell\n",
    "for i in range(N):\n",
    "    for j in range(N):  \n",
    "        s+= Implies(Sum([edge[(k,l,i,j)] for (k,l) in neigbours(givens,i,j)]) == 0 ,size[i][j]> X[i][j])      \n",
    "    \n",
    "# Cells with an edge have the same value\n",
    "for i in range (N) :\n",
    "    for j in range (N) : \n",
    "        for (k,l) in neigbours(givens,i,j) :\n",
    "            s +=Implies(edge[(i,j,k,l)] == 1,Or(X[i][j] == X[k][l]-2,X[i][j]-2 == X[k][l],And(X[i][j] ==1, X[k][l]==1)))\n",
    "    \n",
    "# Variables for the root of each tree\n",
    "root = [[Int(\"r%d%d\" % (i,j)) for j in range (N) ] for i in range (N) ]\n",
    "\n",
    "# Define the areas based on the root of the tree\n",
    "for i in range(N):\n",
    "    for j in range(N):  \n",
    "        s+= Implies(Sum([edge[(k,l,i,j)] for (k,l) in neigbours(givens,i,j)]) == 0 ,root[i][j]==i*N+j)      \n",
    "        \n",
    "# Neighboring cells with same number must be in same area        \n",
    "for i in range (N) :\n",
    "    for j in range (N) : \n",
    "        for (k,l) in neigbours(givens,i,j) :\n",
    "            s +=Implies(edge[(k,l,i,j)] ==1,root[i][j]==root[k][l])    \n",
    "        \n",
    "if s.check() == sat:\n",
    "    print(\"Solved in {:.2f} seconds\".format(time.time()-start))\n",
    "    m = s.model()\n",
    "    r = [ [ m.evaluate(X[i][j]).as_long() for j in range(N) ] for i in range(N) ]\n",
    "    roots = [ [ m.evaluate(root[i][j]).as_long() for j in range(N) ] for i in range(N) ]\n",
    "    fig,ax = plt.subplots(1,1,figsize=(4,4))\n",
    "    ax =sns.heatmap(np.array(roots),annot=np.array(r),cbar=False,center=3,cmap=\"tab20_r\",fmt=\"\",linewidths=1,linecolor=\"grey\",annot_kws={\"size\":16})\n",
    "    ax.axis(\"off\")\n",
    "    plt.tight_layout()\n",
    "    plt.show()\n",
    "    \n",
    "else:\n",
    "    print(\"failed to solve\")"
   ]
  },
  {
   "cell_type": "code",
   "execution_count": 10,
   "metadata": {},
   "outputs": [
    {
     "name": "stdout",
     "output_type": "stream",
     "text": [
      "Solution\n",
      "~~~~~~~~\n",
      "The completed grid is presented here, and the sum of the cubes of the areas of the different regions is 33,679 .  Congrats to everyone who solved this month’s puzzle!\n"
     ]
    }
   ],
   "source": [
    "url='https://www.janestreet.com/puzzles/solutions/march-2018-solution/'\n",
    "res = requests.get(url)\n",
    "soup = BeautifulSoup(res.content, 'html.parser')\n",
    "x =[text for text in soup.body.stripped_strings]\n",
    "\n",
    "print(\"Solution\")\n",
    "print(\"~~~~~~~~\")\n",
    "print(\" \".join(x[7:10]))"
   ]
  },
  {
   "cell_type": "markdown",
   "metadata": {
    "id": "ld_NFUIfT1W9"
   },
   "source": [
    "### Solution\n",
    "<img src=\"https://www.janestreet.com/puzzles/wp-content/uploads/2018/04/Mar18_solution.png\" width=\"400\">\n"
   ]
  },
  {
   "cell_type": "code",
   "execution_count": 8,
   "metadata": {},
   "outputs": [
    {
     "data": {
      "text/plain": [
       "array([[-1, -1, -1, -1, -1, -1, -1, -1, -1, -1, -1],\n",
       "       [-1, -1, -1, -1, -1, -1, -1, -1, -1, -1, -1],\n",
       "       [-1, -1, -1, -1, -1, -1, -1, -1, -1, -1, -1],\n",
       "       [-1, -1, -1, -1, -1, -1, -1, -1, -1, -1, -1],\n",
       "       [-1, -1, -1, -1, -1, -1, -1, -1, -1, -1, -1],\n",
       "       [-1, -1, -1, -1, -1, -1, -1, -1, -1, -1, -1],\n",
       "       [-1, -1, -1, -1, -1, -1, -1, -1, -1, -1, -1],\n",
       "       [-1, -1, -1, -1, -1, -1, -1, -1, -1, -1, -1],\n",
       "       [-1, -1, -1, -1, -1, -1, -1, -1, -1, -1, -1],\n",
       "       [-1, -1, -1, -1, -1, -1, -1, -1, -1, -1, -1],\n",
       "       [-1, -1, -1, -1, -1, -1, -1, -1, -1, -1, -1]])"
      ]
     },
     "execution_count": 8,
     "metadata": {},
     "output_type": "execute_result"
    }
   ],
   "source": [
    "np.ones((11,11),dtype=int)*-1"
   ]
  },
  {
   "cell_type": "code",
   "execution_count": null,
   "metadata": {},
   "outputs": [],
   "source": []
  }
 ],
 "metadata": {
  "colab": {
   "include_colab_link": true,
   "name": "JaneSt-Feb18.ipynb",
   "provenance": []
  },
  "kernelspec": {
   "display_name": "Python 3",
   "language": "python",
   "name": "python3"
  },
  "language_info": {
   "codemirror_mode": {
    "name": "ipython",
    "version": 3
   },
   "file_extension": ".py",
   "mimetype": "text/x-python",
   "name": "python",
   "nbconvert_exporter": "python",
   "pygments_lexer": "ipython3",
   "version": "3.7.7"
  }
 },
 "nbformat": 4,
 "nbformat_minor": 4
}
