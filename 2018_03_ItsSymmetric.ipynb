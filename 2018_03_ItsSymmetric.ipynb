{
 "cells": [
  {
   "cell_type": "code",
   "execution_count": 13,
   "metadata": {
    "id": "Oq1xibzMT1Wl"
   },
   "outputs": [],
   "source": [
    "import pandas as pd\n",
    "import numpy as np\n",
    "import time\n",
    "import seaborn as sns\n",
    "import matplotlib.pyplot as plt\n",
    "import requests\n",
    "from bs4 import BeautifulSoup\n",
    "import itertools\n",
    "from copy import deepcopy as dcopy,copy\n",
    "from IPython.display import Markdown, display\n",
    "\n",
    "from z3 import *\n",
    "import grilops\n",
    "import grilops.regions"
   ]
  },
  {
   "cell_type": "code",
   "execution_count": 16,
   "metadata": {
    "id": "ICTfvjZUT1Wr"
   },
   "outputs": [
    {
     "data": {
      "text/markdown": [
       "### It’s Symmetric!\n",
       "The grid below can be partitioned into several regions, each of which is\n",
       "symmetric in some way (be it rotation or reflection). A cell with a number\n",
       "indicates the length of the shortest walk, within that region, to an “opposite”\n",
       "cell in the region. (I.e., a cell that could potentially be moved to the\n",
       "location of the numbered cell under a non-trivial rotation or reflection of the\n",
       "plane.)\n",
       "(A few examples: In a 1-by-N region, all cells could be labeled 0, since a\n",
       "reflection across the longer mid-line takes every cell to itself. In the\n",
       "“S”-shaped Tetris piece, the cells could be labeled 3, 1, 1, 3.)\n",
       "The answer to this puzzle is the\n",
       "sum of the cubes of the areas"
      ],
      "text/plain": [
       "<IPython.core.display.Markdown object>"
      ]
     },
     "metadata": {},
     "output_type": "display_data"
    }
   ],
   "source": [
    "# Back to the first problem. Redoing withh Z3\n",
    "url='https://www.janestreet.com/puzzles/it-s-symmetric-index/'\n",
    "res = requests.get(url)\n",
    "soup = BeautifulSoup(res.content, 'html.parser')\n",
    "y =[text for text in soup.body.stripped_strings]\n",
    "\n",
    "#display([(i,j) for i,j in enumerate(y)])\n",
    "display(Markdown(\"### \"+y[7]+\"\\n\"+\"\\n\".join(y[10:14])))"
   ]
  },
  {
   "cell_type": "markdown",
   "metadata": {
    "id": "U9Yh1D3HT1Ws"
   },
   "source": [
    "\n",
    "<img src=\"https://www.janestreet.com/puzzles/20180301_symmetric.png\" width=\"350\" >\n"
   ]
  },
  {
   "cell_type": "code",
   "execution_count": 29,
   "metadata": {
    "id": "844RhDFpT1Wu"
   },
   "outputs": [
    {
     "data": {
      "image/png": "[encoded data removed]",
      "text/plain": [
       "<Figure size 288x288 with 1 Axes>"
      ]
     },
     "metadata": {
      "needs_background": "light"
     },
     "output_type": "display_data"
    }
   ],
   "source": [
    "givens = np.array([[-1, -1, -1, 14, -1, -1, -1,  6, -1, -1, -1],\n",
    "                   [ 3, -1, 21, -1,  4, -1,  0, -1,  4, -1, -1],\n",
    "                   [ 7, -1, -1,  8, -1, 12, -1,  8, -1,  8,  4],\n",
    "                   [-1, -1, -1, -1, -1, -1, -1, -1, -1, -1,  6],\n",
    "                   [ 1,  1, -1,  1, -1, -1, -1,  5, -1, -1, -1],\n",
    "                   [-1,  5, -1, -1, -1,  1, -1, -1, -1,  2, -1],\n",
    "                   [-1, -1, -1,  7, -1, -1, -1,  8, -1, 19, 12],\n",
    "                   [ 9, -1, -1, -1, -1, -1, -1, -1, -1, -1, -1],\n",
    "                   [ 4,  7, -1,  1, -1,  5, -1, 15, -1, -1,  6],\n",
    "                   [-1, -1,  3, -1,  0, -1,  1, -1,  4, -1,  4],\n",
    "                   [-1, -1, -1,  3, -1, -1, -1,  3, -1, -1, -1]])\n",
    "\n",
    "fig,ax = plt.subplots(1,1,figsize=(4,4))\n",
    "x = np.array((givens).astype('int').astype('str'))\n",
    "x[x==\"-1\"] =\"\"\n",
    "ax =sns.heatmap(givens!=-1,annot=x,cbar=False,center=3,cmap=\"Greys\",fmt=\"\",linewidths=1,linecolor=\"grey\",annot_kws={\"size\":12})\n",
    "ax.axis(\"off\")\n",
    "plt.tight_layout()"
   ]
  },
  {
   "cell_type": "code",
   "execution_count": 4,
   "metadata": {
    "id": "844RhDFpT1Wu"
   },
   "outputs": [],
   "source": [
    "givens=np.array([[-1,-1, 4, 9],\n",
    "                 [-1,-1, 0,-1],\n",
    "                 [-1, 2,-1,-1],\n",
    "                 [ 3, 1,-1,-1]])"
   ]
  },
  {
   "cell_type": "code",
   "execution_count": 5,
   "metadata": {
    "id": "844RhDFpT1Wu"
   },
   "outputs": [
    {
     "data": {
      "image/png": "[encoded data removed]",
      "text/plain": [
       "<Figure size 288x288 with 1 Axes>"
      ]
     },
     "metadata": {
      "needs_background": "light"
     },
     "output_type": "display_data"
    }
   ],
   "source": [
    "givens = np.array([[ 0,  1,  3, 14, 12, 10,  8,  6,  4,  2,  0],\n",
    "                   [ 3,  1, 21,  6,  4,  2,  0,  2,  4,  6,  2],\n",
    "                   [ 7,  5, 19,  8, 15, 12, 10,  8,  6,  8,  4],\n",
    "                   [ 0,  3, 17, 15, 13, 11,  9,  7,  4,  2,  6],\n",
    "                   [ 1,  1, 19,  1,  3,  5,  0,  5,  7,  0,  8],\n",
    "                   [ 3,  5,  3,  1,  3,  1,  1,  3,  4,  2, 10],\n",
    "                   [ 5,  7,  0,  7,  5, 12, 10,  8,  6, 19, 12],\n",
    "                   [ 9,  7,  5,  3,  7,  9, 11, 13, 15, 17, 14],\n",
    "                   [ 4,  7,  0,  1,  3,  5,  3, 15,  6, 19,  6],\n",
    "                   [ 2,  5,  3,  1,  0,  7,  1,  1,  4, 21,  4],\n",
    "                   [ 0,  2,  4,  3,  5,  7,  9,  3,  2,  0,  2]])\n",
    "\n",
    "fig,ax = plt.subplots(1,1,figsize=(4,4))\n",
    "x = np.array((givens).astype('int').astype('str'))\n",
    "x[x==\"-1\"] =\"\"\n",
    "ax =sns.heatmap(givens!=-1,annot=x,cbar=False,center=3,cmap=\"Greys\",fmt=\"\",linewidths=1,linecolor=\"grey\",annot_kws={\"size\":12})\n",
    "ax.axis(\"off\")\n",
    "plt.tight_layout()"
   ]
  },
  {
   "cell_type": "code",
   "execution_count": null,
   "metadata": {
    "id": "844RhDFpT1Wu"
   },
   "outputs": [],
   "source": [
    "N= givens.shape[0]\n",
    "\n",
    "\n",
    "def neigbours(grid, i, j):     \n",
    "    l = []\n",
    "    (rows,cols) = grid.shape\n",
    "    if i-1 >= 0:\n",
    "            l.append((i-1,j))\n",
    "    if i+1 < rows:\n",
    "            l.append((i+1,j))\n",
    "    if j-1 >= 0:\n",
    "            l.append((i,j-1))\n",
    "    if j+1 < cols:\n",
    "            l.append((i,j+1))\n",
    "    return l\n",
    "\n",
    "s = Solver()\n",
    "\n",
    "X = [[Int(\"x_%s_%s\" % (i+1, j+1)) for j in range(N)] for i in range(N)]\n",
    "size = [[Int(\"s%d%d\" % (i,j)) for j in range (N) ] for i in range (N) ]\n",
    "\n",
    "# Variables for the root of each tree\n",
    "root = [[Int(\"r%d%d\" % (i,j)) for j in range (N) ] for i in range (N) ]\n",
    "\n",
    "edge = {}\n",
    "for i in range(N):\n",
    "    for j in range(N):  \n",
    "        for (k,l) in neigbours(givens,i,j) :\n",
    "            edge[(i,j,k,l)] = Int(\"e%d%d%d%d\" % (i,j,k,l))\n",
    "            s += Or(edge[(i,j,k,l)] ==0,edge[(i,j,k,l)]==1) \n",
    "\n",
    "s += [X[i][j] >=0 for j in range(N) for i in range(N)]     \n",
    "\n",
    "s += [X[i][j] == int(givens[i,j]) for j in range(N) for i in range(N) if givens[i,j] != -1]  \n",
    "\n",
    "# Define a variable to determine if there is an edge between 2 cells\n",
    "for i in range(N):\n",
    "    for j in range(N):  \n",
    "        for (k,l) in neigbours(givens,i,j):\n",
    "            s += (edge[(i,j,k,l)] + edge[(k,l,i,j)]) <= 1\n",
    "    \n",
    "# Make edges one way to form a tree\n",
    "for i in range(N):\n",
    "    for j in range(N):  \n",
    "        s += Sum([edge[(k,l,i,j)] for (k,l) in neigbours(givens,i,j) ]) <=1  \n",
    "        \n",
    "# Calculate size of cell as 1 + the cells it feeds into\n",
    "for i in range(N):\n",
    "    for j in range(N):   \n",
    "        s +=  size[i][j] == Sum([If(edge[(i,j,k,l)]==1,size[k][l],0) for (k,l) in neigbours(givens,i,j)])+1\n",
    "\n",
    "# put the root cell number in the root\n",
    "for i in range(N):\n",
    "    for j in range(N):  \n",
    "        s+= Implies(Sum([edge[(k,l,i,j)] for (k,l) in neigbours(givens,i,j)]) == 0 ,root[i][j]==i*N+j)              \n",
    "\n",
    "# root size must be number +1\n",
    "for i in range(N):\n",
    "    for j in range(N):  \n",
    "        s+= Implies(Sum([edge[(k,l,i,j)] for (k,l) in neigbours(givens,i,j)]) == 0 ,size[i][j]>X[i][j])      \n",
    "        \n",
    "# shared edges have the same root and are either 1:1 or x:x+2\n",
    "for i in range(N):\n",
    "    for j in range(N):  \n",
    "        for (k,l) in neigbours(givens,i,j):\n",
    "            s+= Implies(edge[(k,l,i,j)]  == 1 ,root[i][j] == root[k][l])\n",
    "            s+= Implies(edge[(k,l,i,j)]  == 1 ,Or(X[i][j]+2 == X[k][l],X[i][j] == X[k][l]+2,And(X[i][j] == 1, X[k][l]== 1)))\n",
    "\n",
    "# each number apart from 0 appears twice\n",
    "for i in range(N):\n",
    "    for j in range(N):              \n",
    "        s+=Implies(X[i][j] != 0,\n",
    "                   PbGe(\n",
    "                       [(And(root[i][j]==root[k][l],X[i][j]==X[k][l]),1) for k in range(N) for l in range(N)]\n",
    "                       ,2))\n",
    "        \n",
    "start = time.time()\n",
    "if s.check() == sat:\n",
    "    m = s.model()\n",
    "    r = np.array([ [ m.evaluate(X[i][j]).as_long() for j in range(N) ] for i in range(N) ])\n",
    "    roots = np.array([ [ m.evaluate(root[i][j]).as_long() for j in range(N) ] for i in range(N) ])\n",
    "    print(\"Solved in {} seconds\".format(time.time()-start))\n",
    "    fig,ax = plt.subplots(1,1,figsize=(4,4))\n",
    "    ax = sns.heatmap(roots,annot=r,cbar=False,cmap=\"tab20\",fmt=\"\",linewidths=1)\n",
    "    ax.axis(\"off\")\n",
    "    plt.tight_layout()\n",
    "\n",
    "else:\n",
    "    print(\"Failed in {} seconds\".format(time.time()-start))\n"
   ]
  },
  {
   "cell_type": "code",
   "execution_count": null,
   "metadata": {},
   "outputs": [],
   "source": [
    "url= \"https://www.janestreet.com/puzzles/it-s-symmetric-solution/\"\n",
    "res = requests.get(url)\n",
    "soup = BeautifulSoup(res.content, 'html.parser')\n",
    "y =[text for text in soup.body.stripped_strings]\n",
    "\n",
    "#display([(i,j) for i,j in enumerate(y)])\n",
    "display(Markdown(\"### \"+y[8]+\"\\n\"+\"\\n\".join(y[10:13])))"
   ]
  },
  {
   "cell_type": "markdown",
   "metadata": {
    "id": "ld_NFUIfT1W9"
   },
   "source": [
    "### Solution\n",
    "<img src=\"https://www.janestreet.com/puzzles/Mar18_solution.png\" width=\"400\">\n"
   ]
  },
  {
   "cell_type": "code",
   "execution_count": 8,
   "metadata": {},
   "outputs": [
    {
     "data": {
      "image/png": "[encoded data removed]",
      "text/plain": [
       "<Figure size 288x288 with 1 Axes>"
      ]
     },
     "metadata": {
      "needs_background": "light"
     },
     "output_type": "display_data"
    }
   ],
   "source": [
    "givens = np.array([[ 0,  1,  3, 14, 12, 10,  8,  6,  4,  2,  0],\n",
    "                   [ 3,  1, 21,  6,  4,  2,  0,  2,  4,  6,  2],\n",
    "                   [ 7,  5, 19,  8, 15, 12, 10,  8,  6,  8,  4],\n",
    "                   [ 0,  3, 17, 15, 13, 11,  9,  7,  4,  2,  6],\n",
    "                   [ 1,  1, 19,  1,  3,  5,  0,  5,  7,  0,  8],\n",
    "                   [ 3,  5,  3,  1,  3,  1,  1,  3,  4,  2, 10],\n",
    "                   [ 5,  7,  0,  7,  5, 12, 10,  8,  6, 19, 12],\n",
    "                   [ 9,  7,  5,  3,  7,  9, 11, 13, 15, 17, 14],\n",
    "                   [ 4,  7,  0,  1,  3,  5,  3, 15,  6, 19,  6],\n",
    "                   [ 2,  5,  3,  1,  0,  7,  1,  1,  4, 21,  4],\n",
    "                   [ 0,  2,  4,  3,  5,  7,  9,  3,  2,  0,  2]])\n",
    "\n",
    "fig,ax = plt.subplots(1,1,figsize=(4,4))\n",
    "x = np.array((givens).astype('int').astype('str'))\n",
    "x[x==\"-1\"] =\"\"\n",
    "ax =sns.heatmap(givens!=-1,annot=x,cbar=False,center=3,cmap=\"Greys\",fmt=\"\",linewidths=1,linecolor=\"grey\",annot_kws={\"size\":12})\n",
    "ax.axis(\"off\")\n",
    "plt.tight_layout()"
   ]
  },
  {
   "cell_type": "code",
   "execution_count": 9,
   "metadata": {},
   "outputs": [
    {
     "data": {
      "text/plain": [
       "array([[ 0,  1,  3, 14, 12, 10,  8,  6,  4,  2,  0],\n",
       "       [ 3,  1, 21,  6,  4,  2,  0,  2,  4,  6,  2],\n",
       "       [ 7,  5, 19,  8, 15, 12, 10,  8,  6,  8,  4],\n",
       "       [ 0,  3, 17, 15, 13, 11,  9,  7,  4,  2,  6],\n",
       "       [ 1,  1, 19,  1,  3,  5,  0,  5,  7,  0,  8],\n",
       "       [ 3,  5,  3,  1,  3,  1,  1,  3,  4,  2, 10],\n",
       "       [ 5,  7,  0,  7,  5, 12, 10,  8,  6, 19, 12],\n",
       "       [ 9,  7,  5,  3,  7,  9, 11, 13, 15, 17, 14],\n",
       "       [ 4,  7,  0,  1,  3,  5,  3, 15,  6, 19,  6],\n",
       "       [ 2,  5,  3,  1,  0,  7,  1,  1,  4, 21,  4],\n",
       "       [ 0,  2,  4,  3,  5,  7,  9,  3,  2,  0,  2]])"
      ]
     },
     "execution_count": 9,
     "metadata": {},
     "output_type": "execute_result"
    }
   ],
   "source": [
    "givens"
   ]
  },
  {
   "cell_type": "code",
   "execution_count": null,
   "metadata": {},
   "outputs": [],
   "source": []
  },
  {
   "cell_type": "code",
   "execution_count": null,
   "metadata": {},
   "outputs": [],
   "source": []
  }
 ],
 "metadata": {
  "colab": {
   "include_colab_link": true,
   "name": "JaneSt-Feb18.ipynb",
   "provenance": []
  },
  "kernelspec": {
   "display_name": "Python 3",
   "language": "python",
   "name": "python3"
  },
  "language_info": {
   "codemirror_mode": {
    "name": "ipython",
    "version": 3
   },
   "file_extension": ".py",
   "mimetype": "text/x-python",
   "name": "python",
   "nbconvert_exporter": "python",
   "pygments_lexer": "ipython3",
   "version": "3.7.10"
  }
 },
 "nbformat": 4,
 "nbformat_minor": 4
}
