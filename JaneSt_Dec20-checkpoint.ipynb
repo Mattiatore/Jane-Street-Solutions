{
  "nbformat": 4,
  "nbformat_minor": 0,
  "metadata": {
    "kernelspec": {
      "display_name": "Python 3",
      "language": "python",
      "name": "python3"
    },
    "language_info": {
      "codemirror_mode": {
        "name": "ipython",
        "version": 3
      },
      "file_extension": ".py",
      "mimetype": "text/x-python",
      "name": "python",
      "nbconvert_exporter": "python",
      "pygments_lexer": "ipython3",
      "version": "3.7.6"
    },
    "colab": {
      "name": "JaneSt_Dec20.ipynb",
      "provenance": [],
      "include_colab_link": true
    }
  },
  "cells": [
    {
      "cell_type": "markdown",
      "metadata": {
        "id": "view-in-github",
        "colab_type": "text"
      },
      "source": [
        "<a href=\"https://colab.research.google.com/github/gowen100/Jane-Street-Solutions/blob/master/JaneSt_Dec20-checkpoint.ipynb\" target=\"_parent\"><img src=\"https://colab.research.google.com/assets/colab-badge.svg\" alt=\"Open In Colab\"/></a>"
      ]
    },
    {
      "cell_type": "code",
      "metadata": {
        "id": "-pDDEZPaZ1vQ"
      },
      "source": [
        "import numpy as np\n",
        "import time\n",
        "from skimage.morphology import label\n",
        "import requests\n",
        "from bs4 import BeautifulSoup\n",
        "import copy"
      ],
      "execution_count": 2,
      "outputs": []
    },
    {
      "cell_type": "code",
      "metadata": {
        "colab": {
          "base_uri": "https://localhost:8080/"
        },
        "id": "FqrHw0qcZ1vW",
        "outputId": "e8e90016-5a81-4897-9634-7cfeb1436fca"
      },
      "source": [
        "# Started by looking at a simple soduku solver and then solved the previous 2 puzzles to get an idea of how this one works.\n",
        "# Could do far more on limiting the permissable placements. \n",
        "# My solver works better on these than the Mar 2019 puzzles\n",
        "# Bottom right would be faster with better use of looks to limit the placements\n",
        "\n",
        "url='https://www.janestreet.com/puzzles/twenty-four-seven-2-by-2-2/'\n",
        "res = requests.get(url)\n",
        "soup = BeautifulSoup(res.content, 'html.parser')\n",
        "x =[text for text in soup.body.stripped_strings]\n",
        "\n",
        "print(\" \".join(x[7:]))"
      ],
      "execution_count": null,
      "outputs": [
        {
          "output_type": "stream",
          "text": [
            "Each of the grids below is incomplete. Place numbers in some of the empty cells so that in total each grid’s interior contains one 1, two 2’s, etc., up to seven 7’s. Furthermore, each row and column within each grid must contain exactly 4 numbers which sum to 20. Finally, the numbered cells must form a connected region, but every 2-by-2 subsquare in the completed grid must contain at least one empty cell. Some numbers have been placed inside each grid. Additionally, some blue numbers have been placed outside of the grids. These blue numbers indicate the first value seen in the corresponding row or column when looking into the grid from that location. Once each of the grids is complete, create a 7-by-7 grid by “adding” the four grids’ interiors together (as if they were 7-by-7 matrices). The answer to this month’s puzzle is the sum of the squares of the values in this final grid.\n"
          ],
          "name": "stdout"
        }
      ]
    },
    {
      "cell_type": "markdown",
      "metadata": {
        "id": "7XW-mfCsZ1vY"
      },
      "source": [
        "### Puzzle details\n",
        "<img src=\"https://www.janestreet.com/puzzles/wp-content/uploads/2020/12/image.png\" width=\"500\" height=\"600\">"
      ]
    },
    {
      "cell_type": "code",
      "metadata": {
        "id": "WToS3VfaZ1vZ"
      },
      "source": [
        "# Set up the grids to be solved\n",
        "\n",
        "grid4 =np.array([[0,0,0,0,0,0,0],\n",
        "                 [0,0,0,0,0,0,0],\n",
        "                 [0,0,0,0,0,0,3],\n",
        "                 [0,0,0,0,0,0,0],\n",
        "                 [0,0,0,0,4,0,0],\n",
        "                 [0,0,0,0,0,0,0],\n",
        "                 [0,0,3,0,0,0,0]])\n",
        "\n",
        "top_looks4 = [0,0,0,0,0,0,0]\n",
        "bot_looks4 = [0,6,0,5,0,4,0]\n",
        "left_looks4 = [1,2,3,4,5,6,7]\n",
        "right_looks4 = [0,6,0,4,0,2,0]\n",
        "\n",
        "grid3 =np.array([[0,0,0,0,4,0,0],\n",
        "                 [0,6,0,0,0,0,0],\n",
        "                 [4,0,0,0,0,0,6],\n",
        "                 [0,0,0,0,0,0,0],\n",
        "                 [6,0,0,0,0,0,4],\n",
        "                 [0,0,0,0,0,6,0],\n",
        "                 [0,0,4,0,0,0,0]])\n",
        "\n",
        "top_looks3 = [7,0,0,5,0,7,0]\n",
        "bot_looks3 = [0,7,0,3,0,0,5]\n",
        "left_looks3 = [0,0,0,7,0,0,0]\n",
        "right_looks3 = [0,0,0,5,0,0,0]\n",
        "\n",
        "grid2 =np.array([[0,2,0,0,0,0,0],\n",
        "                 [2,0,0,0,0,0,0],\n",
        "                 [0,0,0,0,0,0,0],\n",
        "                 [0,0,0,0,0,3,0],\n",
        "                 [0,0,0,0,3,0,0],\n",
        "                 [0,0,0,3,0,0,0],\n",
        "                 [0,0,0,0,0,0,1]])\n",
        "\n",
        "top_looks2 = [0,0,5,6,0,6,7]\n",
        "bot_looks2 = [6,7,5,0,0,0,0]\n",
        "left_looks2 = [0,0,5,6,0,7,6]\n",
        "right_looks2 = [6,6,4,0,0,0,0]\n",
        "\n",
        "grid1 =np.array([[0,0,4,0,0,0,0],\n",
        "                 [0,0,0,6,0,0,0],\n",
        "                 [5,0,0,0,0,0,0],\n",
        "                 [0,3,0,0,0,6,0],\n",
        "                 [0,0,0,0,0,0,2],\n",
        "                 [0,0,0,1,0,0,0],\n",
        "                 [0,0,0,0,4,0,0]])\n",
        "\n",
        "top_looks1 = [5,4,0,0,0,7,5]\n",
        "bot_looks1 = [5,7,0,0,0,3,6]\n",
        "left_looks1 = [5,7,0,0,0,5,7]\n",
        "right_looks1 = [7,4,0,0,0,7,6]\n",
        "\n",
        "# Use -1 for empty rather than zero to track completion of cells\n",
        "grid1[grid1==0]=-1\n",
        "grid2[grid2==0]=-1\n",
        "grid3[grid3==0]=-1\n",
        "grid4[grid4==0]=-1"
      ],
      "execution_count": null,
      "outputs": []
    },
    {
      "cell_type": "code",
      "metadata": {
        "id": "CuX1wIOkZ1vb"
      },
      "source": [
        "# Set up a class to represent the matrix\n",
        "# methods to \n",
        "# - print\n",
        "# - check a possible placement\n",
        "#   - to check 2x2 placement isn't violated\n",
        "#   - to check there aren't too many small numbers in a row or column\n",
        "#   - to check looks aren't violated\n",
        "#  - Recursively solve the problem\n",
        "\n",
        "class Matrix():\n",
        "    def __init__(self,input_grid,top_looks,bot_looks,left_looks,right_looks):\n",
        "        self.grid = input_grid\n",
        "        self.top_looks = top_looks\n",
        "        self.bot_looks = bot_looks\n",
        "        self.left_looks =left_looks\n",
        "        self.right_looks = right_looks\n",
        "        self.counts = {i:i-np.sum(self.grid==i) for i in range(8)}\n",
        "        print(\"Starting number count\",self.counts)\n",
        "        print('\\nThe problem - Start {}'.format(time.strftime('%X')))\n",
        "        self.printGrid()\n",
        "\n",
        "# Function to print the grid\n",
        "    def printGrid(self):\n",
        "        print(self.grid)\n",
        "        \n",
        "# Function to check if a digit can be placed in the given block\n",
        "# Various checks in the main block with more complex checks on small numbers, 2x2 and \"looks\" moved to separate functions\n",
        "    def possible(self,row,col,digit):\n",
        "\n",
        "        # Check row and columns don't have too many zeros\n",
        "        if digit ==0:\n",
        "            if np.sum(self.grid[:,col]==0) > 2:\n",
        "                #print('fail1')\n",
        "                return False\n",
        "            if np.sum(self.grid[row,:]==0) > 2:\n",
        "                #print('fail2')\n",
        "                return False\n",
        "            \n",
        "        # Check that final number placed completes\n",
        "        if digit !=0:\n",
        "            if np.sum(self.grid[row,:]>0) > 2:\n",
        "                if np.sum(self.grid[row,:])+digit+np.sum(self.grid[row,:]==-1)  != 20:\n",
        "                    return False\n",
        "                    \n",
        "            if np.sum(self.grid[:,col]>0) > 2:\n",
        "                if np.sum(self.grid[:,col])+digit+np.sum(self.grid[:,col]==-1)  != 20:\n",
        "                    return False\n",
        "        \n",
        "        # Check row and columns don't exceed sum\n",
        "        if np.sum(self.grid[:,col])+digit+np.sum(self.grid[:,col]==-1) > 20:\n",
        "            return False\n",
        "        \n",
        "        if np.sum(self.grid[row,:])+digit+np.sum(self.grid[row,:]==-1)  > 20:\n",
        "            return False\n",
        "        \n",
        "        #check 2x2\n",
        "        if digit !=0:\n",
        "            if self.twobytwo(row,col):\n",
        "                return False\n",
        "            \n",
        "        # Check forbidden nums\n",
        "            if self.more_constraints(self.grid[row,:],digit):\n",
        "                return False\n",
        "        \n",
        "            if self.more_constraints(self.grid[:,col],digit):\n",
        "                return False\n",
        "            \n",
        "            if self.check_looks(row,col,digit):\n",
        "                return False\n",
        "        \n",
        "        #checkconnected (nice trick with sk-image -thanks stackexchange!)\n",
        "        if np.max(label(self.grid!=0,connectivity=1)) >1 :\n",
        "            return False\n",
        "        \n",
        "        # All tests pass return True\n",
        "        return True\n",
        "    \n",
        "# check if placing a number violates the 2x2 rule\n",
        "    def twobytwo(self,i,j):\n",
        "        if (i > 0 and j > 0 and \n",
        "        self.grid[i-1,j-1] > 0 and \n",
        "        self.grid[i-1,j] > 0 and \n",
        "        self.grid[i,j-1] > 0):\n",
        "            return True\n",
        "    \n",
        "        if (i > 0 and j < 6 and\n",
        "        self.grid[i-1,j+1] > 0 and \n",
        "        self.grid[i-1,j] > 0 and \n",
        "        self.grid[i,j+1] > 0):\n",
        "            return True\n",
        "    \n",
        "        if (i < 6 and j > 0 and\n",
        "        self.grid[i+1,j-1] > 0 and \n",
        "        self.grid[i+1,j] > 0 and \n",
        "        self.grid[i,j-1] > 0):\n",
        "            return True\n",
        "\n",
        "    \n",
        "        if (i < 6 and j < 6 and\n",
        "        self.grid[i+1,j+1] > 0 and \n",
        "        self.grid[i+1,j] > 0 and \n",
        "        self.grid[i,j+1] > 0):\n",
        "            return True\n",
        "    \n",
        "        return False\n",
        "    \n",
        "# check to see if there are too many small numbers in a row or column\n",
        "    def more_constraints(self,array,digit):\n",
        "        if np.sum(array==1) > 0:\n",
        "            if digit < 5:\n",
        "                return True\n",
        "            return False\n",
        "        \n",
        "        if np.sum(array==2) > 0:\n",
        "            if digit < 4 :\n",
        "                return True\n",
        "            return False\n",
        "    \n",
        "        if np.sum(array==3) > 0:\n",
        "            if digit < 3 :\n",
        "                return True\n",
        "            return False\n",
        "    \n",
        "        if np.sum(array==4) > 0:\n",
        "            if digit < 2 :\n",
        "                return True\n",
        "            return False\n",
        "        \n",
        "        return False\n",
        "        \n",
        "# check to see if the looks are correct \n",
        "    def check_looks(self,row,col,digit):\n",
        "        if self.left_looks[row] > 0:\n",
        "            found = False\n",
        "            for i in range(5):\n",
        "                if found == False:\n",
        "                    if self.grid[row,i] != 0:\n",
        "                        found = True\n",
        "                        if i == col:\n",
        "                            if self.left_looks[row] != digit:\n",
        "                                return True\n",
        "    \n",
        "        if self.top_looks[col] > 0:\n",
        "            found = False\n",
        "            for i in range(5):\n",
        "                if found == False:\n",
        "                    if self.grid[i,col] != 0:\n",
        "                        found = True\n",
        "                        if i == row:\n",
        "                            if self.top_looks[col] != digit:\n",
        "                                return True\n",
        "\n",
        "        if self.right_looks[row] > 0:\n",
        "            found = False\n",
        "            for i in range(6,4,-1):\n",
        "                if found == False:\n",
        "                    if self.grid[row,i] != 0:\n",
        "                        found = True\n",
        "                        if i == col:\n",
        "                            if self.right_looks[row] != digit:\n",
        "                                return True\n",
        "    \n",
        "        if self.bot_looks[col] > 0:\n",
        "            found = False\n",
        "            for i in range(6,4,-1):\n",
        "                if found == False:\n",
        "                    if self.grid[i,col] != 0:\n",
        "                        found = True\n",
        "                        if i == row:\n",
        "                            if self.bot_looks[col] != digit:\n",
        "                                return True\n",
        "        return False    \n",
        "        \n",
        "# ======================================================================================================\n",
        "# The main function. Loop throught the cells trying to place a digit, if the digit is allowed carry on \n",
        "# and recall the function recursively until that is not allowed. Then backtrack and retry. Based on the \n",
        "# simple soduku solver here :\n",
        "# https://medium.com/daily-python/solving-sudoku-puzzle-using-backtracking-in-python-daily-python-29-99a825042e\n",
        "# which is where I started on this.\n",
        "\n",
        "    def solve(self):\n",
        "   \n",
        "        for row in range(7):\n",
        "            for col in range(7):\n",
        "                if self.grid[row,col] == -1:\n",
        "                    for digit in range(7,-1,-1):\n",
        "                        if (digit ==0 or self.counts[digit]>0):\n",
        "                            if self.possible(row,col,digit):\n",
        "                                self.grid[row,col] = digit\n",
        "                                self.counts[digit] -= 1\n",
        "                                self.solve()\n",
        "                                self.grid[row,col] = -1  #Backtrack step\n",
        "                                self.counts[digit] += 1\n",
        "                    return \n",
        "        \n",
        "        print('\\nThe solution - End {}'.format(time.strftime('%X')))\n",
        "        self.solution = copy.copy(self.grid)"
      ],
      "execution_count": null,
      "outputs": []
    },
    {
      "cell_type": "code",
      "metadata": {
        "colab": {
          "base_uri": "https://localhost:8080/"
        },
        "id": "phPVGWXkZ1vk",
        "outputId": "52f94a62-43d9-4822-ec08-4b64b2c487ca"
      },
      "source": [
        "# Create a separate instance of the Matrix class for each puzzle and solve.\n",
        "# x1 -> x4\n",
        "\n",
        "x1 = Matrix(grid1,top_looks1,bot_looks1,left_looks1,right_looks1)\n",
        "\n",
        "output1 = x1.solve()\n",
        "print(x1.solution)\n",
        "print('\\n Finish {}'.format(time.strftime('%X')))"
      ],
      "execution_count": null,
      "outputs": [
        {
          "output_type": "stream",
          "text": [
            "Starting number count {0: 0, 1: 0, 2: 1, 3: 2, 4: 2, 5: 4, 6: 4, 7: 7}\n",
            "\n",
            "The problem - Start 11:02:51\n",
            "[[-1 -1  4 -1 -1 -1 -1]\n",
            " [-1 -1 -1  6 -1 -1 -1]\n",
            " [ 5 -1 -1 -1 -1 -1 -1]\n",
            " [-1  3 -1 -1 -1  6 -1]\n",
            " [-1 -1 -1 -1 -1 -1  2]\n",
            " [-1 -1 -1  1 -1 -1 -1]\n",
            " [-1 -1 -1 -1  4 -1 -1]]\n",
            "\n",
            "The solution - End 11:02:54\n",
            "[[5 4 4 0 0 7 0]\n",
            " [0 0 7 6 3 4 0]\n",
            " [5 6 2 0 7 0 0]\n",
            " [0 3 0 0 6 6 5]\n",
            " [5 7 0 6 0 0 2]\n",
            " [5 0 7 1 0 0 7]\n",
            " [0 0 0 7 4 3 6]]\n",
            "\n",
            " Finish 11:02:55\n"
          ],
          "name": "stdout"
        }
      ]
    },
    {
      "cell_type": "code",
      "metadata": {
        "colab": {
          "base_uri": "https://localhost:8080/"
        },
        "id": "vQxp8ZRvZ1vq",
        "outputId": "4dbffb0f-2834-4df2-de64-adb8f5d50d5a"
      },
      "source": [
        "x2 = Matrix(grid2,top_looks2,bot_looks2,left_looks2,right_looks2)\n",
        "x2.solve()\n",
        "print(x2.solution)\n",
        "print('\\n Finish {}'.format(time.strftime('%X')))"
      ],
      "execution_count": null,
      "outputs": [
        {
          "output_type": "stream",
          "text": [
            "Starting number count {0: 0, 1: 0, 2: 0, 3: 0, 4: 4, 5: 5, 6: 6, 7: 7}\n",
            "\n",
            "The problem - Start 11:02:55\n",
            "[[-1  2 -1 -1 -1 -1 -1]\n",
            " [ 2 -1 -1 -1 -1 -1 -1]\n",
            " [-1 -1 -1 -1 -1 -1 -1]\n",
            " [-1 -1 -1 -1 -1  3 -1]\n",
            " [-1 -1 -1 -1  3 -1 -1]\n",
            " [-1 -1 -1  3 -1 -1 -1]\n",
            " [-1 -1 -1 -1 -1 -1  1]]\n",
            "\n",
            "The solution - End 11:03:04\n",
            "[[7 2 5 6 0 0 0]\n",
            " [2 0 0 5 7 6 0]\n",
            " [5 7 4 0 0 4 0]\n",
            " [0 0 6 0 4 3 7]\n",
            " [6 4 0 0 3 0 7]\n",
            " [0 7 5 3 0 0 5]\n",
            " [0 0 0 6 6 7 1]]\n",
            "\n",
            " Finish 11:03:48\n"
          ],
          "name": "stdout"
        }
      ]
    },
    {
      "cell_type": "code",
      "metadata": {
        "colab": {
          "base_uri": "https://localhost:8080/"
        },
        "id": "p8kCV1M0Z1vr",
        "outputId": "be65baef-ddd5-4a85-b8f5-bb3d38bc451f"
      },
      "source": [
        "x3 = Matrix(grid3,top_looks3,bot_looks3,left_looks3,right_looks3)\n",
        "x3.solve()\n",
        "print(x3.solution)\n",
        "print('\\n Finish {}'.format(time.strftime('%X')))"
      ],
      "execution_count": null,
      "outputs": [
        {
          "output_type": "stream",
          "text": [
            "Starting number count {0: 0, 1: 1, 2: 2, 3: 3, 4: 0, 5: 5, 6: 2, 7: 7}\n",
            "\n",
            "The problem - Start 11:03:48\n",
            "[[-1 -1 -1 -1  4 -1 -1]\n",
            " [-1  6 -1 -1 -1 -1 -1]\n",
            " [ 4 -1 -1 -1 -1 -1  6]\n",
            " [-1 -1 -1 -1 -1 -1 -1]\n",
            " [ 6 -1 -1 -1 -1 -1  4]\n",
            " [-1 -1 -1 -1 -1  6 -1]\n",
            " [-1 -1  4 -1 -1 -1 -1]]\n",
            "\n",
            "The solution - End 11:03:50\n",
            "[[7 2 0 0 4 7 0]\n",
            " [0 6 7 5 2 0 0]\n",
            " [4 5 0 5 0 0 6]\n",
            " [0 0 0 7 7 1 5]\n",
            " [6 7 3 0 0 0 4]\n",
            " [3 0 6 0 0 6 5]\n",
            " [0 0 4 3 7 6 0]]\n",
            "\n",
            " Finish 11:04:51\n"
          ],
          "name": "stdout"
        }
      ]
    },
    {
      "cell_type": "code",
      "metadata": {
        "colab": {
          "base_uri": "https://localhost:8080/"
        },
        "id": "8rVVneXLZ1vs",
        "outputId": "b1bb4069-27f8-4302-fb1f-584035de9b7b"
      },
      "source": [
        "x4 = Matrix(grid4,top_looks4,bot_looks4,left_looks4,right_looks4)\n",
        "x4.solve()\n",
        "print(x4.solution)\n",
        "print('\\n Finish {}'.format(time.strftime('%X')))"
      ],
      "execution_count": null,
      "outputs": [
        {
          "output_type": "stream",
          "text": [
            "Starting number count {0: 0, 1: 1, 2: 2, 3: 1, 4: 3, 5: 5, 6: 6, 7: 7}\n",
            "\n",
            "The problem - Start 11:04:51\n",
            "[[-1 -1 -1 -1 -1 -1 -1]\n",
            " [-1 -1 -1 -1 -1 -1 -1]\n",
            " [-1 -1 -1 -1 -1 -1  3]\n",
            " [-1 -1 -1 -1 -1 -1 -1]\n",
            " [-1 -1 -1 -1  4 -1 -1]\n",
            " [-1 -1 -1 -1 -1 -1 -1]\n",
            " [-1 -1  3 -1 -1 -1 -1]]\n",
            "\n",
            "The solution - End 11:09:22\n",
            "\n",
            "The solution - End 11:11:59\n",
            "[[0 0 0 1 5 7 7]\n",
            " [0 2 5 7 0 0 6]\n",
            " [3 7 0 7 0 0 3]\n",
            " [4 0 0 0 5 7 4]\n",
            " [0 5 6 5 4 0 0]\n",
            " [6 0 6 0 6 2 0]\n",
            " [7 6 3 0 0 4 0]]\n",
            "\n",
            " Finish 11:12:04\n"
          ],
          "name": "stdout"
        }
      ]
    },
    {
      "cell_type": "code",
      "metadata": {
        "colab": {
          "base_uri": "https://localhost:8080/"
        },
        "id": "SSAvu7UDZ1vt",
        "outputId": "8a98463c-9a4b-4712-8440-e062228eaec3"
      },
      "source": [
        "solved = np.sum((x1.solution+x2.solution+x3.solution+x4.solution)**2)\n",
        "print(\"The solution is: \",solved)"
      ],
      "execution_count": null,
      "outputs": [
        {
          "output_type": "stream",
          "text": [
            "The solution is:  8520\n"
          ],
          "name": "stdout"
        }
      ]
    },
    {
      "cell_type": "code",
      "metadata": {
        "colab": {
          "base_uri": "https://localhost:8080/"
        },
        "id": "riO72jMtZ1vv",
        "outputId": "8c01e93f-30d2-430e-88ff-023ab8843d71"
      },
      "source": [
        "# Pull in the puzzle solution and grids from the solution page\n",
        "\n",
        "url='https://www.janestreet.com/puzzles/solutions/december-2020-solution/'\n",
        "res = requests.get(url)\n",
        "soup = BeautifulSoup(res.content, 'html.parser')\n",
        "x =[text for text in soup.body.stripped_strings]\n",
        "\n",
        "print(\" \".join(x[7:9]))"
      ],
      "execution_count": 3,
      "outputs": [
        {
          "output_type": "stream",
          "text": [
            "The four completed grids are shown to the left, and below them is the sum of the corresponding entries, whose sums of squares came to 8520\n"
          ],
          "name": "stdout"
        }
      ]
    },
    {
      "cell_type": "markdown",
      "metadata": {
        "id": "Ac1jSJnEZ1vv"
      },
      "source": [
        "### Solution is : \n",
        "\n",
        "<img src=\"https://www.janestreet.com/puzzles/wp-content/uploads/2021/01/2020_12_Solution.png\" width=\"500\" height=\"600\">"
      ]
    },
    {
      "cell_type": "code",
      "metadata": {
        "id": "TDaWABqWZ1vw"
      },
      "source": [
        ""
      ],
      "execution_count": null,
      "outputs": []
    }
  ]
}