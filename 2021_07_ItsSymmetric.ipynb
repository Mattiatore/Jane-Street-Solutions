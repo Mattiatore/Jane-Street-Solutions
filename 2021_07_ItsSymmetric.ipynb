{
 "cells": [
  {
   "cell_type": "code",
   "execution_count": 1,
   "metadata": {
    "id": "-pDDEZPaZ1vQ"
   },
   "outputs": [],
   "source": [
    "import pandas as pd\n",
    "import numpy as np\n",
    "import time\n",
    "import seaborn as sns\n",
    "import matplotlib.pyplot as plt\n",
    "import requests\n",
    "from bs4 import BeautifulSoup\n",
    "import itertools\n",
    "from scipy.ndimage import measurements\n",
    "from skimage.morphology import label\n",
    "\n",
    "from z3 import *\n",
    "from IPython.display import Markdown, display"
   ]
  },
  {
   "cell_type": "code",
   "execution_count": 2,
   "metadata": {
    "colab": {
     "base_uri": "https://localhost:8080/"
    },
    "id": "FqrHw0qcZ1vW",
    "outputId": "4bcc7029-b570-4b07-8070-c6bf28d520ab"
   },
   "outputs": [
    {
     "data": {
      "text/markdown": [
       "### It's Symmetric 2\n",
       "\n",
       "Shade some of the cells in the grid above so that the region of shaded\n",
       "cells is connected and symmetric in some way (either by rotation or\n",
       "reflection). Some of the cells have been numbered. These cells are in\n",
       "the shaded region, and the numbers denote the products of the number\n",
       "of shaded cells one can “see” within the region, in each of the 4\n",
       "cardinal directions, before encountering an unshaded cell. (As in the\n",
       "example, above.)\n",
       "The answer to this puzzle is the sum of the squares of the areas of\n",
       "connected unshaded squares in the completed grid. (Squares are\n",
       "“connected” if they are orthogonally adjacent.)"
      ],
      "text/plain": [
       "<IPython.core.display.Markdown object>"
      ]
     },
     "metadata": {},
     "output_type": "display_data"
    }
   ],
   "source": [
    "url='https://www.janestreet.com/puzzles/current-puzzle/'\n",
    "res = requests.get(url)\n",
    "soup = BeautifulSoup(res.content, 'html.parser')\n",
    "y =[text for text in soup.body.stripped_strings]\n",
    "#display([(i,j) for i,j in enumerate(y)])\n",
    "display(Markdown(\"### \"+y[8]+\"\\n\\n\"+str(\"\\n\".join(y[9:11]))))"
   ]
  },
  {
   "cell_type": "markdown",
   "metadata": {
    "id": "7XW-mfCsZ1vY"
   },
   "source": [
    "<img src=\"https://www.janestreet.com/puzzles/2021-07-01-its-symmetric-2.png\n",
    "          \" width=\"400\">"
   ]
  },
  {
   "cell_type": "code",
   "execution_count": 3,
   "metadata": {
    "id": "WToS3VfaZ1vZ"
   },
   "outputs": [
    {
     "data": {
      "text/plain": [
       "(0.0, 13.0, 13.0, 0.0)"
      ]
     },
     "execution_count": 3,
     "metadata": {},
     "output_type": "execute_result"
    },
    {
     "data": {
      "image/png": "[encoded data removed]",
      "text/plain": [
       "<Figure size 432x432 with 1 Axes>"
      ]
     },
     "metadata": {
      "needs_background": "light"
     },
     "output_type": "display_data"
    }
   ],
   "source": [
    "# Set up the grids to be solved (t)\n",
    "\n",
    "grid1 =  np.array([[0, 0, 8, 0, 0],\n",
    "                  [0, 0, 0, 0, 2],\n",
    "                  [0, 0, 4, 0, 0],\n",
    "                  [3, 0, 0, 0, 0],\n",
    "                  [0, 0, 2, 0, 0]],dtype=int)\n",
    "\n",
    "soln1 =  np.array([[1, 1, 1, 1, 1],\n",
    "                  [1, 0, 1, 1, 1],              \n",
    "                  [1, 1, 1, 0, 1],\n",
    "                  [1, 1, 0, 0, 0],\n",
    "                  [1, 1, 1, 0, 0]],dtype=int)\n",
    "\n",
    "grid = np.array([[ 0, 0, 0, 0, 0, 0, 0, 0, 0, 0, 0, 0, 0],\n",
    "                 [ 0, 0, 0, 0, 0,21, 0, 0, 0, 0, 0,27, 0],\n",
    "                 [ 0, 0,24, 0, 0, 0, 8, 0, 0, 0, 0, 0, 0],\n",
    "                 [ 3, 0, 0, 0, 0, 0, 0, 0,24, 0, 0, 0, 0],\n",
    "                 [ 0, 0, 0, 0, 0, 0, 0, 0, 0, 0, 0, 0,28],\n",
    "                 [ 0, 3, 0, 0, 0, 0, 0, 6, 0, 0, 0, 0, 0],\n",
    "                 [ 0, 0, 0, 0, 8, 0, 0, 0, 5, 0, 0, 0, 0],\n",
    "                 [ 0, 0, 0, 0, 0,30, 0, 0, 0, 0, 0, 2, 0],\n",
    "                 [24, 0, 0, 0, 0, 0, 0, 0, 0, 0, 0, 0, 0],\n",
    "                 [ 0, 0, 0, 0,16, 0, 0, 0, 0, 0, 0, 0, 2],\n",
    "                 [ 0, 0, 0, 0, 0, 0,24, 0, 0, 0,70, 0, 0],\n",
    "                 [ 0, 8, 0, 0, 0, 0, 0, 6, 0, 0, 0, 0, 0],\n",
    "                 [ 0, 0, 0, 0, 0, 0, 0, 0, 0, 0, 0, 0, 0]],\n",
    "                dtype=int)\n",
    "\n",
    "fig,ax = plt.subplots(1,1,figsize=(6,6))\n",
    "x = np.zeros_like(grid)\n",
    "y = grid.astype('str')\n",
    "y[y==\"0\"] =\"-\"\n",
    "sns.heatmap(x,annot=y,cmap='Greys',cbar=False,linecolor=\"grey\",linewidths=1,fmt=\"\",annot_kws={\"size\":14})\n",
    "ax.axis('off')\n"
   ]
  },
  {
   "cell_type": "code",
   "execution_count": 4,
   "metadata": {
    "id": "CuX1wIOkZ1vb"
   },
   "outputs": [],
   "source": [
    "# function to do the looks ()\n",
    "def find(data,N):\n",
    "    data += [0] * max(0, N - len(data))\n",
    "    if N==13:\n",
    "        return      If(data[1]==0,1,\n",
    "                    If(data[2]==0,1,\n",
    "                    If(data[3]==0,2,\n",
    "                    If(data[4]==0,3,\n",
    "                    If(data[5]==0,4,\n",
    "                    If(data[6]==0,5,\n",
    "                    If(data[7]==0,6,\n",
    "                    If(data[8]==0,7,\n",
    "                    If(data[9]==0,8,\n",
    "                    If(data[10]==0,9,\n",
    "                    If(data[11]==0,10,\n",
    "                    If(data[12]==0,11,12)                \n",
    "                   )))))))))))\n",
    "    else:\n",
    "        return     If(data[1]==0,1,\n",
    "                   If(data[2]==0,1,\n",
    "                   If(data[3]==0,2,\n",
    "                   If(data[4]==0,3,4)\n",
    "                   )))\n",
    "\n",
    "# neighbour checks to simplify the connected check\n",
    "def neighbours(i,j,N):\n",
    "    l=[]\n",
    "    if i-1 >= 0:\n",
    "        l.append((i-1,j))\n",
    "    if i+1 < N:\n",
    "        l.append((i+1,j))\n",
    "    if j-1 >= 0:\n",
    "        l.append((i,j-1))\n",
    "    if j+1 < N:\n",
    "        l.append((i,j+1))\n",
    "    return l\n",
    "\n",
    "#main code\n",
    "def solve(grid,fixed=np.ones_like(grid,dtype=int)*-1,sym_type=1):\n",
    "    start = time.time()\n",
    "    N = grid.shape[0]\n",
    "    s = Solver()\n",
    "\n",
    "    X = np.array([[Int(\"X_%s%s\" % (i+1,j+1)) for j in range(N) ] for i in range(N) ],dtype=object)\n",
    "\n",
    "    # limit the values and place the fixed values\n",
    "    s += [Or(X[i][j]==0,X[i][j] ==1) for j in range(N) for i in range(N) ]\n",
    "    s += [X[i][j] == int(fixed[i,j]) for j in range(N) for i in range(N) if fixed[i,j] != -1]\n",
    "    \n",
    "    # the numbered cells =1\n",
    "    s+= [X[i][j] == 1 for j in range(N) for i in range(N) if grid[i,j] != 0]\n",
    "    \n",
    "    \n",
    "    # force symmetry\n",
    "    if sym_type == 0:\n",
    "        pass\n",
    "    \n",
    "    elif sym_type == 1:\n",
    "        test = np.rot90(np.fliplr(X))\n",
    "        s += [X[i,j] == test[i,j] for j in range(N) for i in range(N)]             \n",
    "        \n",
    "    elif sym_type == 2:\n",
    "        cut = X[:-1,:]\n",
    "        test = np.flip(cut)\n",
    "        s += [cut[i,j] == test[i,j] for j in range(N) for i in range(N-1)]\n",
    "    \n",
    "    # find the looks\n",
    "    for i,j in itertools.product(range(N),range(N)):\n",
    "        val = grid[i,j]\n",
    "        if val != 0:\n",
    "            top = find([X[x][j] for x in range(i,-1,-1)],N)\n",
    "            bot = find([X[x][j] for x in range(i,N)],N)\n",
    "            lhs = find([X[i][x] for x in range(j,-1,-1)],N)\n",
    "            rhs = find([X[i][x] for x in range(j,N)],N)\n",
    "            #print(top*bot*lhs*rhs)\n",
    "            s += top*bot*lhs*rhs == int(val)\n",
    "                        \n",
    "    # at least one neighbour. Cut down the connectivity a bit.\n",
    "    s += [Implies(X[i][j] !=0,Or([X[k][l] !=0 for (k,l) in neighbours(i,j,N)])) for j in range(N) for i in range(N) ] \n",
    "        \n",
    "    # coding up the connectivity is hard so just solve and test then exclude solutions that are not connected\n",
    "    count = 0\n",
    "    while True:   \n",
    "        if s.check() == sat:\n",
    "            count += 1\n",
    "            m = s.model()\n",
    "            x = np.array([[m.evaluate(X[i][j]).as_long() for j in range(N)] for i in range(N)])\n",
    "            if np.max(label(x != 0,connectivity=1)) == 1 :\n",
    "                print('{} solutions took {:0.4f} seconds'.format(count,time.time()-start))\n",
    "                yield x,grid\n",
    "            s += Or([X[i][j]!=int(x[i,j]) for j in range(N) for i in range(N)])\n",
    "        else:\n",
    "            break\n",
    "            \n",
    "# Sum of squares of blank areas          \n",
    "def answer(grid):\n",
    "    labels, num = measurements.label(np.logical_not(grid!=0))\n",
    "    areas = measurements.sum(np.logical_not(grid!=0), labels, index=range(1, num+1))\n",
    "    print(areas,sum(areas**2))\n",
    "    return np.sum([i**2 for i in areas])"
   ]
  },
  {
   "cell_type": "code",
   "execution_count": 5,
   "metadata": {
    "colab": {
     "base_uri": "https://localhost:8080/"
    },
    "id": "phPVGWXkZ1vk",
    "outputId": "b04ba15c-818f-4508-9d2a-b4aa8b0ff99a"
   },
   "outputs": [
    {
     "name": "stdout",
     "output_type": "stream",
     "text": [
      "1 solutions took 0.2972 seconds\n"
     ]
    },
    {
     "data": {
      "image/png": "[encoded data removed]",
      "text/plain": [
       "<Figure size 519.199x519.199 with 1 Axes>"
      ]
     },
     "metadata": {
      "needs_background": "light"
     },
     "output_type": "display_data"
    },
    {
     "name": "stdout",
     "output_type": "stream",
     "text": [
      "[ 4.  2.  1.  2.  7.  2.  2.  1.  1.  7.  2.  2.  1. 19.] 503.0\n"
     ]
    },
    {
     "data": {
      "text/markdown": [
       "**The solution is 503**"
      ],
      "text/plain": [
       "<IPython.core.display.Markdown object>"
      ]
     },
     "metadata": {},
     "output_type": "display_data"
    },
    {
     "name": "stdout",
     "output_type": "stream",
     "text": [
      "Test symmetry is:  True\n"
     ]
    }
   ],
   "source": [
    "# after looking at the forced cells the double flip symmetry pops out.\n",
    "# 27 has to have 3 & 7 and there is only one way of doing that \n",
    "# which means the 21 has 7 the other way giving row 2 columns 3-13 as forced. Similar for the 70 the 10 is forced \n",
    "# then looked to see how that could be done. \n",
    "# The bottom row can all be zeros, but the top row can't\n",
    "#\n",
    "# Is a unique solution which is encouraging\n",
    "\n",
    "soln = np.ones_like(grid)*-1\n",
    "soln[-1,:]=0\n",
    "\n",
    "for out,fix in solve(grid,fixed=soln,sym_type =2):\n",
    "    fig,ax = plt.subplots(1,1,figsize=(out.shape[0]**.5*2,out.shape[1]**.5*2)) \n",
    "    y = np.array(fix).astype('int').astype('str')\n",
    "    y[y==\"0\"] =\"\"\n",
    "    sns.heatmap(out,annot=y,cbar=False,cmap=\"Reds\",fmt=\"\",linewidths=1,center=3,linecolor=\"grey\",annot_kws={\"size\":18})\n",
    "    ax.axis(\"off\")\n",
    "    plt.show()\n",
    "    display(Markdown(\"**The solution is {:,.0f}**\".format(answer(out))))\n",
    "\n",
    "print(\"Test symmetry is: \",np.all(out[:-1,:] == np.flip(out[:-1,:])))"
   ]
  },
  {
   "cell_type": "code",
   "execution_count": 6,
   "metadata": {
    "colab": {
     "base_uri": "https://localhost:8080/"
    },
    "id": "riO72jMtZ1vv",
    "outputId": "2f1527dd-7426-4632-d58e-2f163cd62092"
   },
   "outputs": [
    {
     "data": {
      "text/markdown": [
       "### Contact us\n",
       "What We Do Our Philosophy"
      ],
      "text/plain": [
       "<IPython.core.display.Markdown object>"
      ]
     },
     "metadata": {},
     "output_type": "display_data"
    }
   ],
   "source": [
    "# Pull in the puzzle solution and grids from the solution page\n",
    "url='https://www.janestreet.com/puzzles/solutions/december-2020-solution/'\n",
    "res = requests.get(url)\n",
    "soup = BeautifulSoup(res.content, 'html.parser')\n",
    "x =[text for text in soup.body.stripped_strings]\n",
    "display(Markdown((\"### \"+x[6]+\"\\n\"+\" \".join(x[7:9]))))"
   ]
  },
  {
   "cell_type": "markdown",
   "metadata": {
    "id": "Ac1jSJnEZ1vv"
   },
   "source": [
    "<img src=\"\" width=\"400\">"
   ]
  },
  {
   "cell_type": "code",
   "execution_count": 7,
   "metadata": {},
   "outputs": [
    {
     "name": "stdout",
     "output_type": "stream",
     "text": [
      "1 solutions took 0.0459 seconds\n"
     ]
    },
    {
     "data": {
      "image/png": "[encoded data removed]",
      "text/plain": [
       "<Figure size 160.997x160.997 with 1 Axes>"
      ]
     },
     "metadata": {
      "needs_background": "light"
     },
     "output_type": "display_data"
    },
    {
     "name": "stdout",
     "output_type": "stream",
     "text": [
      "[1. 6.] 37.0\n"
     ]
    },
    {
     "data": {
      "text/markdown": [
       "**The solution is 37**"
      ],
      "text/plain": [
       "<IPython.core.display.Markdown object>"
      ]
     },
     "metadata": {},
     "output_type": "display_data"
    }
   ],
   "source": [
    "for out,fix in solve(grid1,sym_type=1):\n",
    "    fig,ax = plt.subplots(1,1,figsize=(out.shape[0]**.5,out.shape[1]**.5)) \n",
    "    y = np.array(fix).astype('int').astype('str')\n",
    "    y[y==\"0\"] =\"\"\n",
    "    sns.heatmap(out,annot=y,cbar=False,cmap=\"Reds\",fmt=\"\",linewidths=1,center=3,linecolor=\"grey\",annot_kws={\"size\":14})\n",
    "    ax.axis(\"off\")\n",
    "    plt.show()\n",
    "    display(Markdown(\"**The solution is {:,.0f}**\".format(answer(out))))\n",
    "    break"
   ]
  },
  {
   "cell_type": "code",
   "execution_count": null,
   "metadata": {},
   "outputs": [],
   "source": []
  }
 ],
 "metadata": {
  "colab": {
   "include_colab_link": true,
   "name": "JaneSt_Dec20.ipynb",
   "provenance": []
  },
  "kernelspec": {
   "display_name": "Python 3",
   "language": "python",
   "name": "python3"
  },
  "language_info": {
   "codemirror_mode": {
    "name": "ipython",
    "version": 3
   },
   "file_extension": ".py",
   "mimetype": "text/x-python",
   "name": "python",
   "nbconvert_exporter": "python",
   "pygments_lexer": "ipython3",
   "version": "3.7.10"
  }
 },
 "nbformat": 4,
 "nbformat_minor": 4
}
