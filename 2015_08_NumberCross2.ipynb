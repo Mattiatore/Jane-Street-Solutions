{
 "cells": [
  {
   "cell_type": "code",
   "execution_count": 3,
   "metadata": {
    "id": "Oq1xibzMT1Wl"
   },
   "outputs": [],
   "source": [
    "import numpy as np\n",
    "\n",
    "import time\n",
    "import seaborn as sns\n",
    "import matplotlib.pyplot as plt\n",
    "import requests\n",
    "from bs4 import BeautifulSoup\n",
    "import itertools\n",
    "from IPython.display import Markdown, display\n",
    "\n",
    "from z3 import *"
   ]
  },
  {
   "cell_type": "code",
   "execution_count": 7,
   "metadata": {
    "id": "ICTfvjZUT1Wr"
   },
   "outputs": [
    {
     "data": {
      "text/markdown": [
       "### Number Cross 2\n",
       "Fill the cells in this crossword with the digits 1 through 9 (no zeroes). Each\n",
       "clue in this crossword represents either the sum of the digits or the product of\n",
       "the digits in its corresponding answer — it’s up to you to decide which. The\n",
       "clue could potentially represent both the sum and the product, if the sum and\n",
       "product are the same. Digits can be repeated within an answer, and answers can\n",
       "be repeated in the grid.\n",
       "\n",
       "As your answer, submit the sum of all of the digits you entered into the\n",
       "completed grid."
      ],
      "text/plain": [
       "<IPython.core.display.Markdown object>"
      ]
     },
     "metadata": {},
     "output_type": "display_data"
    }
   ],
   "source": [
    "# More z3 practice. Not elegant but works\n",
    "\n",
    "url='https://www.janestreet.com/puzzles/number-cross-2-index/'\n",
    "res = requests.get(url)\n",
    "soup = BeautifulSoup(res.content, 'html.parser')\n",
    "y =[text for text in soup.body.stripped_strings]\n",
    "\n",
    "#display([(i,j) for i,j in enumerate(y)])\n",
    "display(Markdown(\"### \"+y[7]+\"\\n\"+\"\\n\\n\".join(y[10:12])))"
   ]
  },
  {
   "cell_type": "markdown",
   "metadata": {
    "id": "U9Yh1D3HT1Ws"
   },
   "source": [
    "<img src=\"https://www.janestreet.com/puzzles/number_crossword_2.png\" width=\"350\">"
   ]
  },
  {
   "cell_type": "code",
   "execution_count": 9,
   "metadata": {
    "id": "844RhDFpT1Wu"
   },
   "outputs": [
    {
     "name": "stdout",
     "output_type": "stream",
     "text": [
      "Solved in 8.0871 seconds\n",
      "\n",
      "Solution is : 276\n",
      "Solved Grid\n",
      "~~~~~~~~~~~\n"
     ]
    },
    {
     "data": {
      "image/png": "[encoded data removed]",
      "text/plain": [
       "<Figure size 288x288 with 1 Axes>"
      ]
     },
     "metadata": {
      "needs_background": "light"
     },
     "output_type": "display_data"
    }
   ],
   "source": [
    "start = time.time()\n",
    "r=[]\n",
    "\n",
    "######################################################\n",
    "# Setup # 9x9 matrix of integer variables and solver #\n",
    "######################################################\n",
    "X = [[Int(\"x_%s_%s\" % (i+1, j+1)) for j in range(9) ] for i in range(9)]\n",
    "\n",
    "s = Solver()\n",
    "\n",
    "###################\n",
    "# The constraints #\n",
    "###################\n",
    "\n",
    "# each cell contains a value in {0, ..., 9}\n",
    "s += [And(1 <= X[i][j], X[i][j] <= 9) for i in range(9) for j in range(9)]\n",
    "\n",
    "#1 across\n",
    "s.add(Or\n",
    "      (X[0][0]+X[0][1]+X[0][2]+X[0][3]==9,\n",
    "       X[0][0]*X[0][1]*X[0][2]*X[0][3]==9))\n",
    "\n",
    "#5 across\n",
    "s.add(Or\n",
    "      (X[0][5]+X[0][6]+X[0][7]+X[0][8]==35,\n",
    "       X[0][5]*X[0][6]*X[0][7]*X[0][8]==35))\n",
    "#9 across\n",
    "s.add(Or\n",
    "      (X[1][0]+X[1][1]+X[1][2]+X[1][3]==10,\n",
    "       X[1][0]*X[1][1]*X[1][2]*X[1][3]==10))\n",
    "\n",
    "#10 across\n",
    "s.add(Or\n",
    "      (X[1][5]+X[1][6]+X[1][7]+X[1][8]==30,\n",
    "       X[1][5]*X[1][6]*X[1][7]*X[1][8]==30))\n",
    "#11 across\n",
    "s.add(Or\n",
    "      (X[2][1]+X[2][2]+X[2][3]+X[2][4]==7,\n",
    "       X[2][1]*X[2][2]*X[2][3]*X[2][4]==7))\n",
    "\n",
    "#13 across\n",
    "s.add(Or\n",
    "      (X[2][6]+X[2][7]+X[2][8]==10,\n",
    "       X[2][6]*X[2][7]*X[2][8]==10))\n",
    "\n",
    "#14 across\n",
    "s.add(Or\n",
    "      (X[3][0]+X[3][1]+X[3][2]+X[3][3]+X[3][4]+X[3][5]+X[3][6]==42,\n",
    "       X[3][0]*X[3][1]*X[3][2]*X[3][3]*X[3][4]*X[3][5]*X[3][6]==42))\n",
    "\n",
    "#16 across\n",
    "s.add(Or\n",
    "      (X[4][0]+X[4][1]==21,\n",
    "       X[4][0]*X[4][1]==21))\n",
    "\n",
    "#17 across\n",
    "s.add(Or\n",
    "      (X[4][3]+X[4][4]+X[4][5]==25,\n",
    "       X[4][3]*X[4][4]*X[4][5]==25))\n",
    "\n",
    "#18 across\n",
    "s.add(Or\n",
    "      (X[4][7]+X[4][8]==15,     \n",
    "       X[4][7]*X[4][8]==15))\n",
    "\n",
    "#20 across\n",
    "s.add(Or\n",
    "      (X[5][2]+X[5][3]+X[5][4]+X[5][5]+X[5][6]+X[5][7]+X[5][8]==120,\n",
    "       X[5][2]*X[5][3]*X[5][4]*X[5][5]*X[5][6]*X[5][7]*X[5][8]==120))\n",
    "\n",
    "#22 across\n",
    "s.add(Or\n",
    "      (X[6][0]+X[6][1]+X[6][2]==25,\n",
    "       X[6][0]*X[6][1]*X[6][2]==25))\n",
    "\n",
    "#24 across\n",
    "s.add(Or\n",
    "      (X[6][4]+X[6][5]+X[6][6]+X[6][7]==35,\n",
    "       X[6][4]*X[6][5]*X[6][6]*X[6][7]==35))\n",
    "\n",
    "#25 across\n",
    "s.add(Or\n",
    "      (X[7][0]+X[7][1]+X[7][2]+X[7][3]==21,\n",
    "       X[7][0]*X[7][1]*X[7][2]*X[7][3]==21))\n",
    "\n",
    "#27 across\n",
    "s.add(Or\n",
    "      (X[7][5]+X[7][6]+X[7][7]+X[7][8]==9,\n",
    "       X[7][5]*X[7][6]*X[7][7]*X[7][8]==9))\n",
    "\n",
    "#29 across\n",
    "s.add(Or\n",
    "      (X[8][0]+X[8][1]+X[8][2]+X[8][3]==5,\n",
    "       X[8][0]*X[8][1]*X[8][2]*X[8][3]==5))\n",
    "\n",
    "#30 across\n",
    "s.add(Or\n",
    "      (X[8][5]+X[8][6]+X[8][7]+X[8][8]==8,\n",
    "       X[8][5]*X[8][6]*X[8][7]*X[8][8]==8))\n",
    "\n",
    "### DOWN ###\n",
    "#1 down\n",
    "s.add(Or\n",
    "      (X[0][0]+X[1][0]==45,\n",
    "       X[0][0]*X[1][0]==45))\n",
    "\n",
    "#2 down\n",
    "s.add(Or\n",
    "      (X[0][1]+X[1][1]+X[2][1]+X[3][1]+X[4][1]==20,\n",
    "       X[0][1]*X[1][1]*X[2][1]*X[3][1]*X[4][1]==20))\n",
    "\n",
    "#3 down\n",
    "s.add(Or\n",
    "      (X[0][2]+X[1][2]+X[2][2]+X[3][2]==48,\n",
    "       X[0][2]*X[1][2]*X[2][2]*X[3][2]==48))\n",
    "\n",
    "#4 down\n",
    "s.add(Or\n",
    "      (X[0][3]+X[1][3]+X[2][3]+X[3][3]+X[4][3]+X[5][3]==72,\n",
    "       X[0][3]*X[1][3]*X[2][3]*X[3][3]*X[4][3]*X[5][3]==72))\n",
    "\n",
    "#5 down\n",
    "s.add(Or\n",
    "      (X[0][5]+X[1][5]==18,\n",
    "       X[0][5]*X[1][5]==18))\n",
    "\n",
    "#6 down\n",
    "s.add(Or\n",
    "     (X[0][6]+X[1][6]+X[2][6]+X[3][6]==24,\n",
    "      X[0][6]*X[1][6]*X[2][6]*X[3][6]==24))\n",
    "\n",
    "#7 down\n",
    "s.add(Or\n",
    "      (X[0][7]+X[1][7]+X[2][7]==27,\n",
    "       X[0][7]*X[1][7]*X[2][7]==27))\n",
    "\n",
    "#8 down\n",
    "s.add(Or\n",
    "      (X[0][8]+X[1][8]+X[2][8]==26,\n",
    "       X[0][8]*X[1][8]*X[2][8]==26))\n",
    "\n",
    "#12 down\n",
    "s.add(Or\n",
    "      (X[2][4]+X[3][4]+X[4][4]+X[5][4]+X[6][4]==12,\n",
    "       X[2][4]*X[3][4]*X[4][4]*X[5][4]*X[6][4]==12))\n",
    "\n",
    "#14 down\n",
    "s.add(Or\n",
    "      (X[3][0]+X[4][0]==18,\n",
    "       X[3][0]*X[4][0]==18))\n",
    "\n",
    "#15 down\n",
    "s.add(Or\n",
    "      (X[3][5]+X[4][5]+X[5][5]+X[6][5]+X[7][5]+X[8][5]==32,\n",
    "       X[3][5]*X[4][5]*X[5][5]*X[6][5]*X[7][5]*X[8][5]==32))\n",
    "\n",
    "#18 down\n",
    "s.add(Or\n",
    "      (X[4][7]+X[5][7]+X[6][7]+X[7][7]+X[8][7]==45,\n",
    "       X[4][7]*X[5][7]*X[6][7]*X[7][7]*X[8][7]==45))\n",
    "\n",
    "#19 down\n",
    "s.add(Or\n",
    "      (X[4][8]+X[5][8]==20,\n",
    "       X[4][8]*X[5][8]==20))\n",
    "\n",
    "#20 down\n",
    "s.add(Or\n",
    "     (X[5][2]+X[6][2]+X[7][2]+X[8][2]==30,\n",
    "      X[5][2]*X[6][2]*X[7][2]*X[8][2]==30))\n",
    "\n",
    "#21 down\n",
    "s.add(Or\n",
    "     (X[5][6]+X[6][6]+X[7][6]+X[8][6]==12,\n",
    "      X[5][6]*X[6][6]*X[7][6]*X[8][6]==12))\n",
    "\n",
    "#22 down\n",
    "s.add(Or\n",
    "     (X[6][0]+X[7][0]+X[8][0]==70,\n",
    "      X[6][0]*X[7][0]*X[8][0]==70))\n",
    "\n",
    "#23 down\n",
    "s.add(Or\n",
    "     (X[6][1]+X[7][1]+X[8][1]==12,\n",
    "      X[6][1]*X[7][1]*X[8][1]==12))\n",
    "\n",
    "#26 down\n",
    "s.add(Or\n",
    "      (X[7][3]+X[8][3]==2,\n",
    "       X[7][3]*X[8][3]==2))\n",
    "\n",
    "#28 down\n",
    "s.add(Or\n",
    "      (X[7][8]+X[8][8]==36,\n",
    "       X[7][8]*X[8][8]==36))\n",
    "\n",
    "###################\n",
    "# Solve and print #\n",
    "###################\n",
    "if s.check() == sat:\n",
    "    m = s.model()\n",
    "    r = [[ m.evaluate(X[i][j]).as_long() for j in range(9) ] for i in range(9)]\n",
    "else:\n",
    "    print(\"Failed\")\n",
    "\n",
    "stop = time.time()\n",
    "\n",
    "print(\"Solved in {:.4f} seconds\".format(stop-start))\n",
    "\n",
    "#### set up a nice output grid\n",
    "grid = np.zeros((9,9))\n",
    "grid[:2,4] = 1\n",
    "grid[2,5] = 1\n",
    "grid[2,0] =1\n",
    "grid[3,7:9] =1\n",
    "grid[4,2] =1\n",
    "grid[4,6] =1\n",
    "grid[5,:2] =1\n",
    "grid[6,3] =1\n",
    "grid[6,8] =1\n",
    "grid[7:9,4] =1\n",
    "\n",
    "annot = np.array(r).copy()\n",
    "annot[grid==1] = 0\n",
    "print(\"\\nSolution is :\",np.sum(annot))\n",
    "print(\"Solved Grid\")\n",
    "print(\"~~~~~~~~~~~\")\n",
    "annot = annot.astype('str')\n",
    "annot[annot==\"0\"] =\"\"\n",
    "fig,ax = plt.subplots(1,1,figsize=(4,4))\n",
    "ax =sns.heatmap(grid,annot=annot,cbar=False,cmap=\"Greys\",fmt=\"\",linewidths=1,annot_kws={\"size\":14},linecolor='k')\n",
    "ax.axis(\"off\")\n",
    "plt.show()\n"
   ]
  },
  {
   "cell_type": "code",
   "execution_count": 11,
   "metadata": {},
   "outputs": [
    {
     "data": {
      "text/markdown": [
       "### Number Cross 2\n",
       "The solution to this month’s puzzle is presented here, and the sum of the digits\n",
       "of the grid is 276. Congratulations to all of the correct solvers, especially\n",
       "Sherry Zhang, this month’s winner of a Jane Street t-shirt!"
      ],
      "text/plain": [
       "<IPython.core.display.Markdown object>"
      ]
     },
     "metadata": {},
     "output_type": "display_data"
    }
   ],
   "source": [
    "url='https://www.janestreet.com/puzzles/number-cross-2-solution/'\n",
    "res = requests.get(url)\n",
    "soup = BeautifulSoup(res.content, 'html.parser')\n",
    "y =[text for text in soup.body.stripped_strings]\n",
    "\n",
    "#display([(i,j) for i,j in enumerate(y)])\n",
    "display(Markdown(\"### \"+y[7]+\"\\n\"+\"\\n\\n\".join(y[10:11])))"
   ]
  },
  {
   "cell_type": "markdown",
   "metadata": {
    "id": "ld_NFUIfT1W9"
   },
   "source": [
    "<img src=\"https://www.janestreet.com/puzzles/number_crossword_2_solution.png\" width=\"300\" >"
   ]
  },
  {
   "cell_type": "code",
   "execution_count": null,
   "metadata": {},
   "outputs": [],
   "source": []
  }
 ],
 "metadata": {
  "colab": {
   "include_colab_link": true,
   "name": "JaneSt-Feb18.ipynb",
   "provenance": []
  },
  "kernelspec": {
   "display_name": "Python 3",
   "language": "python",
   "name": "python3"
  },
  "language_info": {
   "codemirror_mode": {
    "name": "ipython",
    "version": 3
   },
   "file_extension": ".py",
   "mimetype": "text/x-python",
   "name": "python",
   "nbconvert_exporter": "python",
   "pygments_lexer": "ipython3",
   "version": "3.7.10"
  }
 },
 "nbformat": 4,
 "nbformat_minor": 4
}
