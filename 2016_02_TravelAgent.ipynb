{
 "cells": [
  {
   "cell_type": "code",
   "execution_count": 1,
   "metadata": {
    "id": "Oq1xibzMT1Wl"
   },
   "outputs": [],
   "source": [
    "import numpy as np\n",
    "import pandas as pd\n",
    "import time\n",
    "import seaborn as sns\n",
    "import matplotlib.pyplot as plt\n",
    "from matplotlib.colors import ListedColormap\n",
    "import requests\n",
    "from bs4 import BeautifulSoup\n",
    "import itertools\n",
    "from IPython.display import Markdown, display\n",
    "from z3 import *"
   ]
  },
  {
   "cell_type": "code",
   "execution_count": 2,
   "metadata": {
    "id": "ICTfvjZUT1Wr"
   },
   "outputs": [
    {
     "data": {
      "text/markdown": [
       "### Travel Agent\n",
       "\n",
       "Label a 6-sided die with your choice of integers between 1 and 9.   Also, label as many of the\n",
       "empty\n",
       "squares as you want in the below 12-by-12 grid with integers between 1 and 9.\n",
       "Your goal is to create a die that can TRAVEL from 1 in the the upper-left corner of the board to the 1 in the lower-right corner of the board while generating the highest score you can.\n",
       "The die must traverse a path of orthogonal steps between the two corners.  From step to step, the die “tips over” from one space to the neighboring space.  At each step, the number (face) pointing up on the die must match the number on the space.\n",
       "You can choose the orientation for the INITIAL placement of the die in the upper-left corner, but after that, the die may not be re-oriented during its journey.  The die has to both start and finish with a “1” facing up, since it starts and ends on a “1” square.\n",
       "Your path cannot revisit the same space twice.\n",
       "Your score is the product of the numbers you visit along your path.\n",
       "If you’ve got a solution, submit your score here, and send us a picture of your solution at travel-puzzle@janestreet.com !"
      ],
      "text/plain": [
       "<IPython.core.display.Markdown object>"
      ]
     },
     "metadata": {},
     "output_type": "display_data"
    }
   ],
   "source": [
    "# Back to the first problem. Redoing withh Z3\n",
    "url='https://www.janestreet.com/puzzles/travel-agent/'\n",
    "res = requests.get(url)\n",
    "soup = BeautifulSoup(res.content, 'html.parser')\n",
    "y =[text for text in soup.body.stripped_strings]\n",
    "#display([(i,j) for i,j in enumerate(y)])\n",
    "display(Markdown(\"### \"+y[6]+\"\\n\\n\"+str(\"\\n\".join(y[7:16]))))"
   ]
  },
  {
   "cell_type": "markdown",
   "metadata": {
    "id": "U9Yh1D3HT1Ws"
   },
   "source": [
    "### Puzzle details\n",
    "<img src=\"https://www.janestreet.com/puzzles/wp-content/uploads/2016/02/feb16_puzzle.png\" width=\"350\" >\n"
   ]
  },
  {
   "cell_type": "code",
   "execution_count": 16,
   "metadata": {
    "id": "844RhDFpT1Wu"
   },
   "outputs": [
    {
     "data": {
      "image/png": "[encoded data removed]",
      "text/plain": [
       "<Figure size 216x216 with 1 Axes>"
      ]
     },
     "metadata": {
      "needs_background": "light"
     },
     "output_type": "display_data"
    }
   ],
   "source": [
    "fixed = [[1, 5, 4, 4, 6, 1, 1, 4, 1, 3, 7, 5],\n",
    "         [3, 0, 0, 0, 0, 0, 0, 0, 0, 0, 0, 1],\n",
    "         [4, 0, 6, 4, 1, 8, 1, 4, 2, 1, 0, 3],\n",
    "         [7, 0, 1, 0, 0, 0, 0, 0, 0, 1, 0, 2],\n",
    "         [1, 0, 1, 0, 6, 1, 6, 2, 0, 2, 0, 1],\n",
    "         [8, 0, 4, 0, 1, 0, 0, 8, 0, 3, 0, 5],\n",
    "         [4, 0, 2, 0, 5, 0, 0, 3, 0, 5, 0, 2],\n",
    "         [8, 0, 5, 0, 1, 1, 2, 3, 0, 4, 0, 6],\n",
    "         [6, 0, 1, 0, 0, 0, 0, 0, 0, 3, 0, 6],\n",
    "         [3, 0, 6, 3, 6, 5, 4, 3, 4, 5, 0, 1],\n",
    "         [6, 0, 0, 0, 0, 0, 0, 0, 0, 0, 0, 3],\n",
    "         [2, 1, 6, 6, 4, 5, 2, 1, 1, 1, 7, 1]]\n",
    "\n",
    "example= [[3, 4, 1, 7, 5],\n",
    "          [1, 2, 4, 3, 5],\n",
    "          [2, 4, 3, 6, 2],\n",
    "          [9, 5, 7, 2, 3],\n",
    "          [5, 8, 3, 4, 1]]\n",
    "\n",
    "path= [0,5,10,11,12,7,8,9,14,19,24]\n",
    "                  \n",
    "                  \n",
    "def grid_print(grid,path):\n",
    "    fig,ax = plt.subplots(1,1,figsize=(3,3))    \n",
    "    text = np.array(grid).astype('int').astype('str')\n",
    "    text[text==\"0\"] == \"\"              \n",
    "    ax =sns.heatmap(grid,annot=text,cbar=False,cmap=ListedColormap([\"w\",\"r\",\"yellow\",\"green\",\"orange\",\"c\",\"m\",\"brown\",\"grey\",\"hotpink\"],N=np.max(grid)),fmt=\"\",\n",
    "                    linewidths=2,linecolor=\"k\",annot_kws={\"size\":12,\"color\":\"k\"},alpha=.2)\n",
    "    ax.tick_params(left=False, bottom=False,labelleft=False, labelright=True)\n",
    "    xpoints = [i //len(grid)+0.5 for i in path]\n",
    "    ypoints = [i % len(grid)+0.5 for i in path]\n",
    "    plt.plot(xpoints,ypoints,\"r\")\n",
    "    plt.axis(\"off\")\n",
    "    plt.tight_layout()\n",
    "    plt.show()   \n",
    "                  \n",
    "                  \n",
    "grid_print(example,path)                  "
   ]
  },
  {
   "cell_type": "code",
   "execution_count": 74,
   "metadata": {},
   "outputs": [],
   "source": [
    "def solve_grid(grid):\n",
    "    start = time.time()\n",
    "    n =  len(grid)\n",
    "    \n",
    "    # set up Dice,Path,Matrix\n",
    "    D = [Int(\"D_%s\" % (i+1)) for i in range(6)]\n",
    "    P = [Int(\"P_%s\" % (i+1)) for i in range(n**2)]\n",
    "    M = [Int(\"M_%s\" % (i+1)) for i in range(n**2)]\n",
    "\n",
    "    \n",
    "    # set up the solver\n",
    "    s = Optimize()\n",
    "\n",
    "    \n",
    "    # fix the dice for the example\n",
    "    dice = [3,4,4,8,1,5]\n",
    "    s += [D[i] == dice[i] for i in range(6)]\n",
    "    \n",
    "    # start and end cells\n",
    "    s += P[0] == 0\n",
    "    s += P[-1] == n**2-1\n",
    "    \n",
    "    # set up the matrix\n",
    "    s += [And(m>0,m<=int(np.max(grid))) for m in M]\n",
    "    s += [M[i*n+j] == grid[i][j] for i in range(n) for j in range(n) ]\n",
    "    \n",
    "    # limit the dice and move values\n",
    "    s += [And(d>0,d<=int(np.max(grid))) for d in D]\n",
    "    s += [And(p >=0, p % n < n,p/n < n) for p in P]\n",
    "    \n",
    "    # no revisiting old cells\n",
    "    s += Distinct([p for p in P[:-1]])\n",
    "    s += [Implies(P[i-1]==n**2-1,P[i]==n**2-1) for i in range(1,n**2)]\n",
    "    \n",
    "    #can only move to neighbours\n",
    "    moves = [(-1,0),(0,-1),(1,0),(0,1)]\n",
    "    s += [Or([And(P[i] % n - P[i-1] % n == x,P[i] / n - P[i-1] / n == y) for x,y in moves]) for i in range(1,n**2)]\n",
    "    \n",
    "    # Dice constraints\n",
    "    poss_moves =[[]]\n",
    "\n",
    "    \n",
    "    \n",
    "    if s.check() == sat:\n",
    "        m = s.model()\n",
    "        p = [m.evaluate(P[i]).as_long() for i in range(n**2)]\n",
    "        d = [m.evaluate(D[i]).as_long() for i in range(6)]\n",
    "        mat = [m.evaluate(M[i]).as_long() for i in range(n**2)]\n",
    "        \n",
    "        print(\"Solved in {:.2f} seconds\".format(time.time()-start))\n",
    "        grid_print(np.array(mat).reshape((n,n)),p)\n",
    "        print(path)\n",
    "        print(\"Dice is :\",d)\n",
    "    else:\n",
    "        print(\"failed to solve\")  \n",
    "  "
   ]
  },
  {
   "cell_type": "code",
   "execution_count": 75,
   "metadata": {},
   "outputs": [
    {
     "name": "stdout",
     "output_type": "stream",
     "text": [
      "Solved in 1.21 seconds\n"
     ]
    },
    {
     "data": {
      "image/png": "[encoded data removed]",
      "text/plain": [
       "<Figure size 216x216 with 1 Axes>"
      ]
     },
     "metadata": {
      "needs_background": "light"
     },
     "output_type": "display_data"
    },
    {
     "name": "stdout",
     "output_type": "stream",
     "text": [
      "[0, 5, 10, 11, 12, 7, 8, 9, 14, 19, 24]\n",
      "Dice is : [3, 4, 4, 8, 1, 5]\n"
     ]
    }
   ],
   "source": [
    "solve_grid(example)"
   ]
  },
  {
   "cell_type": "code",
   "execution_count": null,
   "metadata": {},
   "outputs": [],
   "source": [
    "url='https://www.janestreet.com/puzzles/solutions/february-2016-solution/'\n",
    "res = requests.get(url)\n",
    "soup = BeautifulSoup(res.content, 'html.parser')\n",
    "x =[text for text in soup.body.stripped_strings]\n",
    "\n",
    "display(Markdown(\"### Solution\"))\n",
    "\n",
    "display(Markdown(\"\\n\".join(x[7:11])))"
   ]
  },
  {
   "cell_type": "markdown",
   "metadata": {
    "id": "ld_NFUIfT1W9"
   },
   "source": [
    "\n",
    "<img src=\"https://www.janestreet.com/puzzles/wp-content/uploads/2016/03/feb16_puzzle_solution_trimmed.png\" width=\"400\">\n"
   ]
  },
  {
   "cell_type": "code",
   "execution_count": null,
   "metadata": {},
   "outputs": [],
   "source": [
    "    \n",
    "    s += [Implies(\n",
    "        And(P[i] % n - P[i-1] % n == moves[m][0] ,\n",
    "            P[i] / n - P[i-1] / n == moves[m][0], \n",
    "            P[i] == dice[d])\n",
    "        , P[i] == poss_moves[d][m])\n",
    "          for m in range(4)\n",
    "          for i in range(1,n**2)]"
   ]
  },
  {
   "cell_type": "code",
   "execution_count": null,
   "metadata": {},
   "outputs": [],
   "source": []
  }
 ],
 "metadata": {
  "colab": {
   "include_colab_link": true,
   "name": "JaneSt-Feb18.ipynb",
   "provenance": []
  },
  "kernelspec": {
   "display_name": "Python 3",
   "language": "python",
   "name": "python3"
  },
  "language_info": {
   "codemirror_mode": {
    "name": "ipython",
    "version": 3
   },
   "file_extension": ".py",
   "mimetype": "text/x-python",
   "name": "python",
   "nbconvert_exporter": "python",
   "pygments_lexer": "ipython3",
   "version": "3.7.7"
  }
 },
 "nbformat": 4,
 "nbformat_minor": 4
}
