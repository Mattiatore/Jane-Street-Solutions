{
 "cells": [
  {
   "cell_type": "code",
   "execution_count": 1,
   "metadata": {
    "id": "Oq1xibzMT1Wl"
   },
   "outputs": [],
   "source": [
    "import numpy as np\n",
    "import pandas as pd\n",
    "import time\n",
    "import seaborn as sns\n",
    "import matplotlib.pyplot as plt\n",
    "from matplotlib.colors import ListedColormap\n",
    "import requests\n",
    "from bs4 import BeautifulSoup\n",
    "from IPython.display import Markdown, display\n",
    "from copy import deepcopy as dc\n",
    "import numba as nb\n",
    "import itertools\n",
    "import functools"
   ]
  },
  {
   "cell_type": "code",
   "execution_count": 2,
   "metadata": {
    "id": "ICTfvjZUT1Wr"
   },
   "outputs": [
    {
     "data": {
      "text/markdown": [
       "### Travel Agent\n",
       "\n",
       "February 2016 : Puzzle"
      ],
      "text/plain": [
       "<IPython.core.display.Markdown object>"
      ]
     },
     "metadata": {},
     "output_type": "display_data"
    }
   ],
   "source": [
    "url='https://www.janestreet.com/puzzles/travel-agent-index/'\n",
    "res = requests.get(url)\n",
    "soup = BeautifulSoup(res.content, 'html.parser')\n",
    "y =[text for text in soup.body.stripped_strings]\n",
    "#display([(i,j) for i,j in enumerate(y)])\n",
    "display(Markdown(\"### \"+y[7]+\"\\n\\n\"+str(\"\\n\".join(y[8:9]))))"
   ]
  },
  {
   "cell_type": "markdown",
   "metadata": {
    "id": "U9Yh1D3HT1Ws"
   },
   "source": [
    "<img src=\"https://www.janestreet.com/puzzles/feb16_puzzle.png\" width=\"350\" >"
   ]
  },
  {
   "cell_type": "code",
   "execution_count": 3,
   "metadata": {
    "id": "844RhDFpT1Wu"
   },
   "outputs": [],
   "source": [
    "# abandon z3 and go back to brute force checking all possibilities .. which worked pretty well !\n",
    "fixed = np.array([[1, 5, 4, 4, 6, 1, 1, 4, 1, 3, 7, 5],\n",
    "                  [3, 0, 0, 0, 0, 0, 0, 0, 0, 0, 0, 1],\n",
    "                  [4, 0, 6, 4, 1, 8, 1, 4, 2, 1, 0, 3],\n",
    "                  [7, 0, 1, 0, 0, 0, 0, 0, 0, 1, 0, 2],\n",
    "                  [1, 0, 1, 0, 6, 1, 6, 2, 0, 2, 0, 1],\n",
    "                  [8, 0, 4, 0, 1, 0, 0, 8, 0, 3, 0, 5],\n",
    "                  [4, 0, 2, 0, 5, 0, 0, 3, 0, 5, 0, 2],\n",
    "                  [8, 0, 5, 0, 1, 1, 2, 3, 0, 4, 0, 6],\n",
    "                  [6, 0, 1, 0, 0, 0, 0, 0, 0, 3, 0, 6],\n",
    "                  [3, 0, 6, 3, 6, 5, 4, 3, 4, 5, 0, 1],\n",
    "                  [6, 0, 0, 0, 0, 0, 0, 0, 0, 0, 0, 3],\n",
    "                  [2, 1, 6, 6, 4, 5, 2, 1, 1, 1, 7, 1]])"
   ]
  },
  {
   "cell_type": "code",
   "execution_count": 4,
   "metadata": {
    "id": "844RhDFpT1Wu"
   },
   "outputs": [],
   "source": [
    "def grid_print(grid,orig_grid,path):\n",
    "    n = len(grid)/4\n",
    "    fig,ax = plt.subplots(1,1,figsize=(n,n))    \n",
    "    text = np.array(grid).astype('int').astype('str')\n",
    "    text[text==\"0\"] = \"\"   \n",
    "    ax =sns.heatmap(orig_grid,annot=text,cbar=False\n",
    "                    ,cmap=ListedColormap([\"w\",\"r\",\"yellow\",\"green\",\"orange\",\"c\",\"m\",\"brown\",\"grey\",\"hotpink\"]\n",
    "                    ,N=np.max(grid)),fmt=\"\"\n",
    "                    ,linewidths=2,linecolor=\"k\",annot_kws={\"size\":10,\"color\":\"k\"},alpha=.2,vmin=0)\n",
    "    ax.tick_params(left=False, bottom=False,labelleft=False, labelright=True)\n",
    "    xpoints = [i //len(grid)+0.5 for i in path]\n",
    "    ypoints = [i % len(grid)+0.5 for i in path]\n",
    "    plt.plot(xpoints,ypoints,\"r\")\n",
    "    plt.axis(\"off\")\n",
    "    plt.tight_layout()\n",
    "    plt.show()   "
   ]
  },
  {
   "cell_type": "code",
   "execution_count": 5,
   "metadata": {},
   "outputs": [],
   "source": [
    "@functools.lru_cache(maxsize=None)\n",
    "def roll(die1,die2,die3,die4,die5,die6,i,j):\n",
    "    #['bot','frt','lft','rgt','bak','top']\n",
    "    u = [5,1,3,4,6,2]\n",
    "    d = [2,6,3,4,1,5]\n",
    "    l = [3,2,6,1,5,4] \n",
    "    r = [4,2,1,6,5,3]\n",
    "    die = [die1,die2,die3,die4,die5,die6]\n",
    "    if i==-1 and j==0:\n",
    "        return [die[i-1] for i in u]\n",
    "    elif i == 1 and j==0:\n",
    "        return [die[i-1] for i in d]\n",
    "    elif i == 0 and j==1:\n",
    "        return [die[i-1] for i in l]\n",
    "    elif i == 0 and j==-1:\n",
    "        return [die[i-1] for i in r]\n",
    "    \n",
    "@functools.lru_cache(maxsize=None)\n",
    "def neighbours(i,j,N):\n",
    "    return [[i+x,j+y] for (x,y) in [(-1,0),(0,-1),(1,0),(0,1)] if i+x >= 0 and i+x < N and j+y >= 0 and j+y < N ]"
   ]
  },
  {
   "cell_type": "code",
   "execution_count": 6,
   "metadata": {},
   "outputs": [],
   "source": [
    "def solve_grid(board,dice):\n",
    "    N=board.shape[0]\n",
    "    soln =[0,0]\n",
    "    best_score = 0\n",
    "    brd = np.array(board)\n",
    "    brd[0,0] = -1\n",
    "    paths = [[brd,dice,dice[0],0,0,2]] #board dice score,x,y,stp\n",
    "    \n",
    "    while len(paths) > 0:\n",
    "        brd,d,s,x,y,step = paths.pop()\n",
    "        if x == N-1 and y == N-1:\n",
    "            if s > best_score:                \n",
    "                soln = [brd,s]\n",
    "                best_score = s\n",
    "        else:\n",
    "            for a,b in neighbours(x,y,N):\n",
    "                new_d = roll(*d,a-x,b-y)                \n",
    "                if (new_d[0] == brd[a,b]) or (brd[a,b] == 0):\n",
    "                    new_b = np.array(brd)  \n",
    "                    new_s = s * int(new_d[0])\n",
    "                    new_b[a,b] = -step       \n",
    "                    paths.append([new_b,new_d,new_s,a,b,step+1])          \n",
    "    return soln"
   ]
  },
  {
   "cell_type": "code",
   "execution_count": 7,
   "metadata": {},
   "outputs": [
    {
     "name": "stdout",
     "output_type": "stream",
     "text": [
      "Loop through all possible dice\n",
      "for die [1, 3, 2, 2, 2, 2] score is 1.369513e+16\n",
      "for die [1, 3, 2, 2, 2, 3] score is 7.487812e+18\n",
      "for die [1, 3, 2, 2, 2, 4] score is 5.385144e+21\n",
      "for die [1, 3, 2, 2, 2, 5] score is 4.814694e+24\n",
      "for die [1, 3, 2, 2, 3, 5] score is 1.665837e+26\n",
      "for die [1, 3, 2, 2, 3, 6] score is 1.719071e+27\n",
      "for die [1, 3, 2, 2, 5, 4] score is 6.419592e+27\n",
      "for die [1, 3, 2, 2, 6, 5] score is 2.558726e+28\n",
      "for die [1, 3, 2, 2, 6, 6] score is 3.911841e+29\n",
      "for die [1, 3, 2, 2, 8, 5] score is 8.077717e+29\n",
      "for die [1, 3, 2, 3, 5, 6] score is 3.073938e+33\n",
      "for die [1, 3, 2, 4, 4, 6] score is 8.002415e+33\n",
      "for die [1, 3, 2, 4, 5, 6] score is 2.384905e+35\n",
      "for die [1, 3, 2, 4, 6, 6] score is 3.114852e+36\n",
      "for die [1, 3, 2, 6, 6, 6] score is 2.020703e+38\n",
      "for die [1, 3, 3, 8, 4, 6] score is 5.980516e+38\n",
      "for die [1, 3, 3, 8, 6, 6] score is 1.551900e+41\n",
      "for die [1, 3, 4, 8, 6, 6] score is 4.354879e+42\n",
      "for die [1, 3, 6, 7, 6, 6] score is 1.264519e+43\n",
      "for die [1, 3, 6, 8, 6, 6] score is 6.278106e+43\n",
      "for die [1, 3, 7, 8, 6, 6] score is 3.354674e+48\n",
      "Iteration took 732.51 seconds\n"
     ]
    },
    {
     "data": {
      "image/png": "[encoded data removed]",
      "text/plain": [
       "<Figure size 300x300 with 1 Axes>"
      ]
     },
     "metadata": {},
     "output_type": "display_data"
    }
   ],
   "source": [
    "# define all possible dice given the starting square and first moves\n",
    "dice = [[1,3,i,j,k,l] for i,j,k,l in itertools.product(range(2,9),repeat=4)] +\\\n",
    "       [[1,i,j,5,k,l] for i,j,k,l in itertools.product(range(2,9),repeat=4)]\n",
    "\n",
    "start= time.time()\n",
    "best = 0\n",
    "print(\"Loop through all possible dice\")\n",
    "for die in dice:\n",
    "    grid,score = solve_grid(fixed,die)\n",
    "    if score > best:\n",
    "        best=score\n",
    "        best_die = die\n",
    "        best_grid=grid\n",
    "        print(\"for die {} score is {:e}\".format(die,score))\n",
    "\n",
    "print(\"Iteration took {:.2f} seconds\".format(time.time()-start))\n",
    "\n",
    "size = best_grid.shape[0]\n",
    "path = [int(x+y*size) for x,y in [np.where(best_grid == n) for n in range(-1,np.min(best_grid)-1,-1)]]\n",
    "\n",
    "best_show_grid = np.array(fixed)\n",
    "die=best_die\n",
    "for i in range(len(path)-1):\n",
    "    x = path[i+1] % size\n",
    "    y = path[i+1] // size\n",
    "    a = path[i] % size\n",
    "    b = path[i] // size   \n",
    "    best_show_grid[x,y] = die[0]\n",
    "    die = roll(*die,x-a,y-b)\n",
    "\n",
    "grid_print(best_show_grid,fixed,path) \n"
   ]
  },
  {
   "cell_type": "code",
   "execution_count": 8,
   "metadata": {},
   "outputs": [
    {
     "data": {
      "text/markdown": [
       "### February 2016 : Solution\n",
       "\n",
       "This month’s puzzle was, we thought, extremely challenging! We received a number\n",
       "of different valid solutions. About half of these were equal to the highest\n",
       "score we could find as well: about\n",
       "3.35 X 10^48\n",
       ". An illustration of that\n",
       "solution is presented here. Congrats to everyone who managed to take a crack at\n",
       "this month’s puzzle — we’ll be randomly picking a few submitters to receive Jane\n",
       "Street t-shirts!"
      ],
      "text/plain": [
       "<IPython.core.display.Markdown object>"
      ]
     },
     "metadata": {},
     "output_type": "display_data"
    }
   ],
   "source": [
    "url='https://www.janestreet.com/puzzles/travel-agent-solution/'\n",
    "res = requests.get(url)\n",
    "soup = BeautifulSoup(res.content, 'html.parser')\n",
    "x =[text for text in soup.body.stripped_strings]\n",
    "#display([(i,j) for i,j in enumerate(x)])\n",
    "display(Markdown(\"### \"+x[8]+\"\\n\\n\"+\"\\n\".join(x[10:13])))"
   ]
  },
  {
   "cell_type": "markdown",
   "metadata": {
    "id": "ld_NFUIfT1W9"
   },
   "source": [
    "\n",
    "<img src=\"https://www.janestreet.com/puzzles/feb16_puzzle_solution_trimmed.png\" width=\"400\">\n"
   ]
  },
  {
   "cell_type": "code",
   "execution_count": 9,
   "metadata": {},
   "outputs": [
    {
     "data": {
      "text/plain": [
       "1526"
      ]
     },
     "execution_count": 9,
     "metadata": {},
     "output_type": "execute_result"
    }
   ],
   "source": [
    "len([[1,i,j,5,k,l] for i,j,k,l in itertools.product(range(2,9),repeat=4) if 7 in (i,j,k) or 3 in (i,j,k)])"
   ]
  },
  {
   "cell_type": "code",
   "execution_count": 10,
   "metadata": {},
   "outputs": [
    {
     "name": "stdout",
     "output_type": "stream",
     "text": [
      "         8 function calls in 0.000 seconds\n",
      "\n",
      "   Ordered by: standard name\n",
      "\n",
      "   ncalls  tottime  percall  cumtime  percall filename:lineno(function)\n",
      "        1    0.000    0.000    0.000    0.000 <ipython-input-6-7a5484dd504b>:1(solve_grid)\n",
      "        1    0.000    0.000    0.000    0.000 <string>:1(<module>)\n",
      "        1    0.000    0.000    0.000    0.000 {built-in method builtins.exec}\n",
      "        2    0.000    0.000    0.000    0.000 {built-in method builtins.len}\n",
      "        1    0.000    0.000    0.000    0.000 {built-in method numpy.array}\n",
      "        1    0.000    0.000    0.000    0.000 {method 'disable' of '_lsprof.Profiler' objects}\n",
      "        1    0.000    0.000    0.000    0.000 {method 'pop' of 'list' objects}\n",
      "\n",
      "\n"
     ]
    }
   ],
   "source": [
    "import cProfile\n",
    "cProfile.run('solve_grid(fixed,die)')"
   ]
  },
  {
   "cell_type": "code",
   "execution_count": null,
   "metadata": {},
   "outputs": [],
   "source": []
  }
 ],
 "metadata": {
  "colab": {
   "include_colab_link": true,
   "name": "JaneSt-Feb18.ipynb",
   "provenance": []
  },
  "kernelspec": {
   "display_name": "Python 3",
   "language": "python",
   "name": "python3"
  },
  "language_info": {
   "codemirror_mode": {
    "name": "ipython",
    "version": 3
   },
   "file_extension": ".py",
   "mimetype": "text/x-python",
   "name": "python",
   "nbconvert_exporter": "python",
   "pygments_lexer": "ipython3",
   "version": "3.7.10"
  }
 },
 "nbformat": 4,
 "nbformat_minor": 4
}
