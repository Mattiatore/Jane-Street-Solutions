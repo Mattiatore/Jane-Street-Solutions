{
 "cells": [
  {
   "cell_type": "code",
   "execution_count": 1,
   "metadata": {
    "id": "Oq1xibzMT1Wl"
   },
   "outputs": [],
   "source": [
    "import numpy as np\n",
    "import pandas as pd\n",
    "import time\n",
    "import math\n",
    "import seaborn as sns\n",
    "import matplotlib.pyplot as plt\n",
    "from matplotlib.colors import ListedColormap\n",
    "import requests\n",
    "from bs4 import BeautifulSoup\n",
    "import itertools\n",
    "from IPython.display import Markdown, display\n",
    "from z3 import *\n",
    "from functools import reduce"
   ]
  },
  {
   "cell_type": "code",
   "execution_count": 8,
   "metadata": {
    "id": "ICTfvjZUT1Wr"
   },
   "outputs": [
    {
     "data": {
      "text/markdown": [
       "### Travel Agent\n",
       "\n",
       "February 2016 : Puzzle"
      ],
      "text/plain": [
       "<IPython.core.display.Markdown object>"
      ]
     },
     "metadata": {},
     "output_type": "display_data"
    }
   ],
   "source": [
    "\n",
    "url='https://www.janestreet.com/puzzles/travel-agent-index/'\n",
    "res = requests.get(url)\n",
    "soup = BeautifulSoup(res.content, 'html.parser')\n",
    "y =[text for text in soup.body.stripped_strings]\n",
    "#display([(i,j) for i,j in enumerate(y)])\n",
    "display(Markdown(\"### \"+y[7]+\"\\n\\n\"+str(\"\\n\".join(y[8:9]))))"
   ]
  },
  {
   "cell_type": "markdown",
   "metadata": {
    "id": "U9Yh1D3HT1Ws"
   },
   "source": [
    "<img src=\"https://www.janestreet.com/puzzles/wp-content/uploads/2016/02/feb16_puzzle.png\" width=\"350\" >"
   ]
  },
  {
   "cell_type": "code",
   "execution_count": 9,
   "metadata": {
    "id": "844RhDFpT1Wu"
   },
   "outputs": [],
   "source": [
    "fixed = [[1, 5, 4, 4, 6, 1, 1, 4, 1, 3, 7, 5],\n",
    "         [3, 0, 0, 0, 0, 0, 0, 0, 0, 0, 0, 1],\n",
    "         [4, 0, 6, 4, 1, 8, 1, 4, 2, 1, 0, 3],\n",
    "         [7, 0, 1, 0, 0, 0, 0, 0, 0, 1, 0, 2],\n",
    "         [1, 0, 1, 0, 6, 1, 6, 2, 0, 2, 0, 1],\n",
    "         [8, 0, 4, 0, 1, 0, 0, 8, 0, 3, 0, 5],\n",
    "         [4, 0, 2, 0, 5, 0, 0, 3, 0, 5, 0, 2],\n",
    "         [8, 0, 5, 0, 1, 1, 2, 3, 0, 4, 0, 6],\n",
    "         [6, 0, 1, 0, 0, 0, 0, 0, 0, 3, 0, 6],\n",
    "         [3, 0, 6, 3, 6, 5, 4, 3, 4, 5, 0, 1],\n",
    "         [6, 0, 0, 0, 0, 0, 0, 0, 0, 0, 0, 3],\n",
    "         [2, 1, 6, 6, 4, 5, 2, 1, 1, 1, 7, 1]]\n",
    "\n",
    "example= [[3, 4, 1, 7, 5],\n",
    "          [1, 2, 4, 3, 5],\n",
    "          [2, 4, 3, 6, 2],\n",
    "          [9, 5, 7, 2, 3],\n",
    "          [5, 8, 3, 4, 1]]\n",
    "\n",
    "path1= [0,5,10,11,12,7,8,9,14,19,24]\n",
    "path =[0,1,13,14,26,25,37,49,61,73,85,97,109,108,120,121,122,123,124,125,126,127,128,116,104,92,80,68,56,55,43,42,41,53,65,\n",
    "       77,78,90,102,101,100,99,87,75,63,62,50,51,52,40,39,27,15,16,17,18,19,20,32,33,21,9,10,22,34,46,45,57,58,70,82,94,106,\n",
    "       118,130,142,143]+[143]*(143-77+1)\n",
    "               \n",
    "                  \n",
    "def grid_print(grid,orig_grid,path):\n",
    "    n = len(grid)/2.5\n",
    "    fig,ax = plt.subplots(1,1,figsize=(n,n))    \n",
    "    text = np.array(grid).astype('int').astype('str')\n",
    "    text[text==\"0\"] == \"\"              \n",
    "    ax =sns.heatmap(orig_grid,annot=text,cbar=False,cmap=ListedColormap([\"w\",\"r\",\"yellow\",\"green\",\"orange\",\"c\",\"m\",\"brown\",\"grey\",\"hotpink\"],N=np.max(grid)),fmt=\"\",\n",
    "                    linewidths=2,linecolor=\"k\",annot_kws={\"size\":12,\"color\":\"k\"},alpha=.2,vmin=0)\n",
    "    ax.tick_params(left=False, bottom=False,labelleft=False, labelright=True)\n",
    "    xpoints = [i //len(grid)+0.5 for i in path]\n",
    "    ypoints = [i % len(grid)+0.5 for i in path]\n",
    "    plt.plot(xpoints,ypoints,\"r\")\n",
    "    plt.axis(\"off\")\n",
    "    plt.tight_layout()\n",
    "    plt.show()   \n",
    "                  \n",
    "                  \n",
    "#grid_print(fixed,fixed,path)   \n",
    "#grid_print(example,example,path1)   "
   ]
  },
  {
   "cell_type": "code",
   "execution_count": 37,
   "metadata": {},
   "outputs": [],
   "source": [
    "def solve_grid(grid):\n",
    "    start = time.time()\n",
    "    n =  len(grid)\n",
    "    \n",
    "    # set up Path,Matrix\n",
    "    P = [Int(\"P_%s\" % (i+1)) for i in range(n**2)]\n",
    "    M = [Int(\"M_%s\" % (i+1)) for i in range(n**2)]\n",
    "    \n",
    "    # Set up Dice Faces (Up Down Left Right Front Back)\n",
    "    U = [Int(\"U_%s\" % (i+1)) for i in range(n**2)]\n",
    "    D = [Int(\"D_%s\" % (i+1)) for i in range(n**2)]\n",
    "    L = [Int(\"L_%s\" % (i+1)) for i in range(n**2)]\n",
    "    R = [Int(\"R_%s\" % (i+1)) for i in range(n**2)]\n",
    "    F = [Int(\"F_%s\" % (i+1)) for i in range(n**2)]\n",
    "    B = [Int(\"B_%s\" % (i+1)) for i in range(n**2)]\n",
    "    \n",
    "    # set up the solver\n",
    "    s = Optimize()\n",
    "    \n",
    "    s.maximize(Product([If(P[x]==y,M[y],1) for x in range(n**2) for y in range(n**2)]))\n",
    "    \n",
    "    # start and end cells\n",
    "    s += P[0] == 0\n",
    "    s += P[-1] == n**2-1\n",
    "    \n",
    "    # set up the matrix\n",
    "    s += [And(m > 0, m <= int(np.max(grid))) for m in M]\n",
    "    s += [M[i+j*n] == grid[i][j] for i in range(n) for j in range(n) if grid[i][j] !=0]\n",
    "    \n",
    "    # limit the dice and move values\n",
    "    s += [And(p >= 0, p % n < n, p / n < n) for p in P] # division == integer division\n",
    "    \n",
    "    # no revisiting old cells\n",
    "    s += [Or(P[j]!= P[i], P[j] == n**2-1) for i in range(n**2) for j in range(n**2) if i != j]\n",
    "    s += [Implies(P[i-1]==n**2-1,P[i]==n**2-1) for i in range(1,n**2)]\n",
    "\n",
    "    #can only move to neighbours\n",
    "    moves = [(-1,0),(0,-1),(0,0),(1,0),(0,1)]\n",
    "    s += [Or([And(P[i] % n - P[i-1] % n == x,P[i] / n - P[i-1] / n == y) for x,y in moves]) for i in range(1,n**2)]\n",
    "    \n",
    "    # Dice constraints\n",
    "    #same spot\n",
    "    s += [Implies(P[i]-P[i-1]==0,\n",
    "                  And(U[i]==U[i-1],\n",
    "                      D[i]==D[i-1],\n",
    "                      L[i]==L[i-1],\n",
    "                      R[i]==R[i-1],\n",
    "                      F[i]==F[i-1],\n",
    "                      B[i]==B[i-1]\n",
    "                     )                    \n",
    "                 ) for i in range(1,n**2)]\n",
    "    #Up\n",
    "    s += [Implies(P[i]-P[i-1]==-1,\n",
    "                  And(F[i]==U[i-1],\n",
    "                      B[i]==D[i-1],\n",
    "                      L[i]==L[i-1],\n",
    "                      R[i]==R[i-1],\n",
    "                      D[i]==F[i-1],\n",
    "                      U[i]==B[i-1]\n",
    "                     )                    \n",
    "                 ) for i in range(1,n**2)]\n",
    "    #Down\n",
    "    s += [Implies(P[i]-P[i-1]==1,\n",
    "                  And(B[i]==U[i-1],\n",
    "                      F[i]==D[i-1],\n",
    "                      L[i]==L[i-1],\n",
    "                      R[i]==R[i-1],\n",
    "                      U[i]==F[i-1],\n",
    "                      D[i]==B[i-1]\n",
    "                     )                    \n",
    "                 ) for i in range(1,n**2)]   \n",
    "    #left\n",
    "    s += [Implies(P[i]-P[i-1]==-n,\n",
    "                  And(R[i]==U[i-1],\n",
    "                      L[i]==D[i-1],\n",
    "                      U[i]==L[i-1],\n",
    "                      D[i]==R[i-1],\n",
    "                      F[i]==F[i-1],\n",
    "                      B[i]==B[i-1]\n",
    "                     )                    \n",
    "                 ) for i in range(1,n**2)]\n",
    "        \n",
    "        \n",
    "    s += [Implies(P[i]-P[i-1]==n,\n",
    "                  And(L[i]==U[i-1],\n",
    "                      R[i]==D[i-1],\n",
    "                      D[i]==L[i-1],\n",
    "                      U[i]==R[i-1],\n",
    "                      F[i]==F[i-1],\n",
    "                      B[i]==B[i-1]\n",
    "                     )                    \n",
    "                 ) for i in range(1,n**2)]\n",
    "    \n",
    "    # set the base number to the dice number    \n",
    "    s += [Implies(P[i]==x,M[x]==D[i]) for i in range(n**2) for x in range(n**2)]    \n",
    "        \n",
    "    if s.check() == sat:\n",
    "        m = s.model()\n",
    "        p = [m.evaluate(P[i]).as_long() for i in range(n**2)]\n",
    "        d = [m.evaluate(D[i]).as_long() for i in range(n**2)]\n",
    "        mat = [m.evaluate(M[i]).as_long() for i in range(n**2)]\n",
    "        \n",
    "        print(\"Solved in {:.2f} seconds\".format(time.time()-start))\n",
    "        grid_print(np.array(mat).reshape((n,n)).T,grid,p)\n",
    "        #print([mat[i] for i in p])\n",
    "        #print([d[i] for i in p])\n",
    "        score = reduce(lambda x,y : x*y,[mat[i] for i in p])\n",
    "        if score < 500000000:\n",
    "            print(\"Score is : {:,.0f}\".format(score) )\n",
    "        else:\n",
    "            print(\"Score is : {:,.2E}\".format(score) )\n",
    "        print(\"Dice is :\",[m.evaluate(U[0]).as_long(),\n",
    "                           m.evaluate(D[0]).as_long(),\n",
    "                           m.evaluate(L[0]).as_long(),\n",
    "                           m.evaluate(R[0]).as_long(),\n",
    "                           m.evaluate(F[0]).as_long(),\n",
    "                           m.evaluate(B[0]).as_long()]\n",
    "                           )\n",
    "    else:\n",
    "        print(\"failed to solve\")  \n",
    "  "
   ]
  },
  {
   "cell_type": "code",
   "execution_count": 38,
   "metadata": {},
   "outputs": [
    {
     "name": "stdout",
     "output_type": "stream",
     "text": [
      "Solved in 2.93 seconds\n"
     ]
    },
    {
     "data": {
      "image/png": "[encoded data removed]",
      "text/plain": [
       "<Figure size 144x144 with 1 Axes>"
      ]
     },
     "metadata": {
      "needs_background": "light"
     },
     "output_type": "display_data"
    },
    {
     "name": "stdout",
     "output_type": "stream",
     "text": [
      "Score is : 276,480\n",
      "Dice is : [1, 3, 4, 8, 5, 4]\n"
     ]
    }
   ],
   "source": [
    "solve_grid(example)"
   ]
  },
  {
   "cell_type": "code",
   "execution_count": null,
   "metadata": {},
   "outputs": [],
   "source": [
    "solve_grid(fixed)"
   ]
  },
  {
   "cell_type": "code",
   "execution_count": 57,
   "metadata": {},
   "outputs": [
    {
     "data": {
      "text/markdown": [
       "### February 2016 : Solution\n",
       "\n",
       "This month’s puzzle was, we thought, extremely challenging! We received a number\n",
       "of different valid solutions. About half of these were equal to the highest\n",
       "score we could find as well: about\n",
       "3.35 X 10^48\n",
       ". An illustration of that\n",
       "solution is presented here. Congrats to everyone who managed to take a crack at\n",
       "this month’s puzzle — we’ll be randomly picking a few submitters to receive Jane\n",
       "Street t-shirts!"
      ],
      "text/plain": [
       "<IPython.core.display.Markdown object>"
      ]
     },
     "metadata": {},
     "output_type": "display_data"
    }
   ],
   "source": [
    "url='https://www.janestreet.com/puzzles/travel-agent-solution/'\n",
    "res = requests.get(url)\n",
    "soup = BeautifulSoup(res.content, 'html.parser')\n",
    "x =[text for text in soup.body.stripped_strings]\n",
    "#display([(i,j) for i,j in enumerate(x)])\n",
    "display(Markdown(\"### \"+x[8]+\"\\n\\n\"+\"\\n\".join(x[10:13])))"
   ]
  },
  {
   "cell_type": "markdown",
   "metadata": {
    "id": "ld_NFUIfT1W9"
   },
   "source": [
    "\n",
    "<img src=\"https://www.janestreet.com/puzzles/wp-content/uploads/2016/03/feb16_puzzle_solution_trimmed.png\" width=\"400\">\n"
   ]
  },
  {
   "cell_type": "code",
   "execution_count": 9,
   "metadata": {},
   "outputs": [
    {
     "name": "stdout",
     "output_type": "stream",
     "text": [
      "143\n"
     ]
    },
    {
     "data": {
      "image/png": "[encoded data removed]",
      "text/plain": [
       "<Figure size 360x360 with 1 Axes>"
      ]
     },
     "metadata": {
      "needs_background": "light"
     },
     "output_type": "display_data"
    }
   ],
   "source": [
    "path =[0,1,13,14,26,25,37,49,61,73,85,97,109,108,120,121,122,123,124,125,126,127,128,116,104,92,80,68,56,55,43,42,41,53,65,\n",
    "       77,78,90,102,101,100,99,87,75,63,62,50,51,52,40,39,27,15,16,17,18,19,20,32,33,21,9,10,22,34,46,45,57,58,70,82,94,106,\n",
    "       118,130,142,143]+[143]*(143-77)\n",
    "\n",
    "print(len(path))\n",
    "n=12\n",
    "board= [[\"\" for i in range(n)] for j in range(n)]\n",
    "for i in range(n**2):\n",
    "    board[i % n][i // n] = i\n",
    "\n",
    "fig,ax = plt.subplots(1,1,figsize=(5,5))    \n",
    "ax =sns.heatmap(np.zeros((n,n)),annot=board,cbar=False,cmap='Greys',fmt=\"\",linewidths=1,linecolor=\"k\",annot_kws={\"size\":12,\"color\":\"k\"},alpha=.15)\n",
    "ax.tick_params(left=False, bottom=False,labelleft=False, labelright=True)\n",
    "ax.axis(\"off\")\n",
    "xpoints = [i //n+0.5 for i in path]\n",
    "ypoints = [i % n+0.5 for i in path]\n",
    "plt.plot(xpoints,ypoints,\"r\")\n",
    "plt.tight_layout()\n",
    "plt.show()   "
   ]
  },
  {
   "cell_type": "code",
   "execution_count": null,
   "metadata": {},
   "outputs": [],
   "source": [
    "def neighbours(x,n):\n",
    "        l=[]\n",
    "        i = x % n\n",
    "        j = x // n\n",
    "        if i-1 >= 0:\n",
    "            l.append((i-1,j))\n",
    "        if i+1 < n:\n",
    "            l.append((i+1,j))\n",
    "        if j-1 >= 0:\n",
    "            l.append((i,j-1))\n",
    "        if j+1 < n:\n",
    "            l.append((i,j+1))\n",
    "        return [i+j*n for i,j in l]\n",
    "    \n",
    "neighbours(143,12)"
   ]
  },
  {
   "cell_type": "code",
   "execution_count": null,
   "metadata": {},
   "outputs": [],
   "source": [
    "    # fix the dice for the example\n",
    "    if n == 5:\n",
    "        dice = [3,4,4,8,1,5]\n",
    "    else:\n",
    "        dice = [1,8,3,7,6,6]\n",
    "   \n",
    "    #s += U[0] == dice[4]\n",
    "    #s += D[0] == dice[0]\n",
    "    #s += L[0] == dice[1]\n",
    "    #s += R[0] == dice[5]\n",
    "    #s += F[0] == dice[3]\n",
    "    #s += B[0] == dice[2]\n",
    "    \n",
    "    \n",
    "    if n ==12:\n",
    "        path =[0,1,13,14,26,25,37,49,61,73,85,97,109,108,120,121,122,123,124,125,126,127,128,116,104,92,80,68,56,55,43,42,41,53,65,\n",
    "       77,78,90,102,101,100,99,87,75,63,62,50,51,52,40,39,27,15,16,17,18,19,20,32,33,21,9,10,22,34,46,45,57,58,70,82,94,106,\n",
    "       118,130,142,143]+[143]*(143-77+1)\n",
    "    \n",
    "        s += [P[i] == path[i] for i in range(n**2)]"
   ]
  },
  {
   "cell_type": "code",
   "execution_count": null,
   "metadata": {},
   "outputs": [],
   "source": []
  }
 ],
 "metadata": {
  "colab": {
   "include_colab_link": true,
   "name": "JaneSt-Feb18.ipynb",
   "provenance": []
  },
  "kernelspec": {
   "display_name": "Python 3",
   "language": "python",
   "name": "python3"
  },
  "language_info": {
   "codemirror_mode": {
    "name": "ipython",
    "version": 3
   },
   "file_extension": ".py",
   "mimetype": "text/x-python",
   "name": "python",
   "nbconvert_exporter": "python",
   "pygments_lexer": "ipython3",
   "version": "3.7.10"
  }
 },
 "nbformat": 4,
 "nbformat_minor": 4
}
