{
 "cells": [
  {
   "cell_type": "code",
   "execution_count": 1,
   "id": "3bfb79e1-6379-422d-a45f-44e55f6d94e3",
   "metadata": {},
   "outputs": [],
   "source": [
    "import numpy as np\n",
    "import time\n",
    "import requests\n",
    "from copy import deepcopy as dc\n",
    "from bs4 import BeautifulSoup\n",
    "from IPython.display import Markdown, display\n",
    "import functools\n",
    "import itertools\n",
    "import string\n",
    "from collections import defaultdict\n",
    "import seaborn as sns\n",
    "import matplotlib.pyplot as plt\n",
    "from shapely.geometry import Polygon,Point,mapping\n",
    "import numba as nb\n",
    "\n",
    "# Back to a very old one I've been ignoring for a while. Need to limit the swings to inside the area and it should work"
   ]
  },
  {
   "cell_type": "code",
   "execution_count": 2,
   "id": "f3477d10-8ac9-49a3-869b-2cab0ff4eb70",
   "metadata": {},
   "outputs": [],
   "source": [
    "coords1 =  [(0, 4), (0, 11), (0, 13), (1, 2), (1, 6), (1, 8), (1, 18), (2, 14), (3, 4), (3, 6),\n",
    "           (3, 12), (3, 15), (4, 3), (4, 7), (4, 10), (4, 18), (5, 2), (5, 11), (5, 19), (7, 1),\n",
    "           (7, 9), (7, 13), (8, 3), (8, 10), (8, 16), (9, 0), (9, 12), (9, 18), (10, 1), (10, 8),\n",
    "           (11, 3), (11, 5), (11, 10), (12, 8), (13, 0), (13, 19), (15, 1), (15, 11), (15, 19),\n",
    "           (16, 0), (16, 2), (16, 7), (16, 13), (17, 9), (18, 6), (18, 10), (18, 18), (19, 2), (19, 4),\n",
    "           (19, 14)]"
   ]
  },
  {
   "cell_type": "code",
   "execution_count": 3,
   "id": "d892a265-03a1-450b-a9d1-74647fd7b667",
   "metadata": {},
   "outputs": [],
   "source": [
    "#function to print out the grid and swings\n",
    "def print_coord(coords,start=[],swings=[]):\n",
    "    grid = np.zeros((20,20))\n",
    "    for (x,y) in coords:    \n",
    "        grid[x,y] = 1\n",
    "    fig,ax = plt.subplots(1,1,figsize=(4,4))\n",
    "    y = grid.astype(\"int\").astype('str')\n",
    "    y[y==\"0\"] =\"\"\n",
    "    sns.heatmap(grid,cmap='Greys',cbar=False,linecolor=\"grey\",\n",
    "            linewidths=0.5,fmt=\"\",annot_kws={\"size\":10,\"weight\": \"bold\"})\n",
    "    for (a,b),(c,d) in swings:\n",
    "        ax.plot([b+0.5,d+0.5],[a+0.5,c+0.5], linewidth=1,color=\"r\")\n",
    "    for (a,b),(c,d) in start:\n",
    "        ax.plot([b+0.5,d+0.5],[a+0.5,c+0.5], linewidth=1,color=\"g\")\n",
    "    ax.axis('off')  \n",
    "    plt.show()"
   ]
  },
  {
   "cell_type": "code",
   "execution_count": 4,
   "id": "4730a180-ad5f-4e8b-8786-554b91bffb81",
   "metadata": {},
   "outputs": [],
   "source": [
    "#work out the angles for the lines\n",
    "def to_polar(start,pivot):\n",
    "    s = np.array(start)\n",
    "    p = np.array(pivot)\n",
    "    l = p-s\n",
    "    r = np.sum(np.power(l,2))\n",
    "    cosTh = np.dot(l,[-1,0])\n",
    "    sinTh = np.cross(l,[-1,0])\n",
    "    a = np.rad2deg(np.arctan2(sinTh,cosTh)+np.pi) % 360\n",
    "    return r,a\n",
    "\n",
    "lines = {((x,y),(i,j)):to_polar((x,y),(i,j)) for x,y,i,j in itertools.product(range(20),repeat=4) }"
   ]
  },
  {
   "cell_type": "code",
   "execution_count": 5,
   "id": "49bc5702-f8ff-46b3-af30-dd076d7e8e6d",
   "metadata": {},
   "outputs": [],
   "source": [
    "#work out the angles the lines hit the boundary\n",
    "def edge_hit(c):\n",
    "    N =20\n",
    "    not_c = [(i,j) for i,j in itertools.product(range(20),repeat=2) if (i,j) not in c]\n",
    "    angles = defaultdict(list)\n",
    "    for a,b in c:\n",
    "        for i,j in not_c:\n",
    "            d,angle = lines[((a,b),(i,j))]\n",
    "            dist = d**.5\n",
    "            if b+.5 < dist:\n",
    "                la = np.rad2deg(np.arccos((b+0.5)/dist))\n",
    "                angles[((a,b),(i,j))] += [270+la,270-la]\n",
    "            if N-(b+0.5) < dist:\n",
    "                ra = np.rad2deg(np.arccos((N-(b+0.5))/dist))\n",
    "                angles[((a,b),(i,j))] += [90+ra,90-ra]\n",
    "            if a+.5 < dist:\n",
    "                ta = np.rad2deg(np.arccos((a+0.5)/dist))\n",
    "                angles[((a,b),(i,j))] += [ta,360-ta]\n",
    "            if N-(a+0.5) < dist:\n",
    "                ba = np.rad2deg(np.arccos((N-(a+0.5))/dist))\n",
    "                angles[((a,b),(i,j))] += [180+ba,180-ba]             \n",
    "    return angles\n",
    "\n",
    "edge_angles = edge_hit(coords1)\n"
   ]
  },
  {
   "cell_type": "code",
   "execution_count": 6,
   "id": "92962823-7678-4d21-acaf-9280cebfeb01",
   "metadata": {},
   "outputs": [],
   "source": [
    "#work out if a swing is possible given the edges and blocking cells\n",
    "@nb.njit()\n",
    "def between_angle(start_angle,end_angle,block_angles):\n",
    "    blocks = np.concatenate((block_angles-360,block_angles+0,block_angles+360))\n",
    "    min_angle = np.max(blocks[blocks <= start_angle])\n",
    "    max_angle = np.min(blocks[blocks >= start_angle])\n",
    "    if end_angle >= min_angle and end_angle <= max_angle:\n",
    "        return True\n",
    "    if end_angle+360 >= min_angle and end_angle+360 <= max_angle:\n",
    "        return True\n",
    "    if end_angle-360 >= min_angle and end_angle-360 <= max_angle:\n",
    "        return True \n",
    "    else:\n",
    "        return False"
   ]
  },
  {
   "cell_type": "code",
   "execution_count": 7,
   "id": "76775033-2b2f-4cd3-8bf9-7e8019371899",
   "metadata": {},
   "outputs": [],
   "source": [
    "#work out all possible swings based on distance and blocking cells\n",
    "def poss_swing(x,y,coords,lines,edges):  \n",
    "    poss = []\n",
    "    scores = []\n",
    "    for (a,b) in coords:\n",
    "        distance,start_angle = lines[((x,y),(a,b))]\n",
    "        blocks = np.array([angle for dist,angle in \n",
    "                         [lines[((i,j),(a,b))] for (i,j) in coords if (i,j) !=(a,b)] \n",
    "                          if dist < distance ] \n",
    "                          + edges[((a,b),(x,y))] \n",
    "                          +[-1080,+1080])\n",
    "        poss += [((a,b),(i,j),distance) for i,j in itertools.product(range(20),repeat=2) \n",
    "                 if (i,j) not in coords \n",
    "                 and (i,j) != (x,y)          \n",
    "                 and lines[((i,j),(a,b))][0] == distance\n",
    "                 and between_angle(start_angle,lines[((i,j),(a,b))][1],blocks)\n",
    "                 ]\n",
    "    return poss "
   ]
  },
  {
   "cell_type": "code",
   "execution_count": 8,
   "id": "2f349926-f5d2-426f-957b-f39a42613907",
   "metadata": {},
   "outputs": [],
   "source": [
    "# loop through all paths. Assume it has to go via (2,17) and jump to that cell if it is possible\n",
    "def solver(target,coords,lines,edges,initial=(19,0)):\n",
    "    soln = [0,(20,20),0]\n",
    "    paths=[[initial,0,[],[]]] #current point, coords left,score,path,pivots\n",
    "    best_score = .2\n",
    "    \n",
    "    while len(paths) > 0:\n",
    "        (x,y),s,p,pv = paths.pop(0)\n",
    "        if s < best_score:\n",
    "            swings = poss_swing(x,y,coords,lines,edges)\n",
    "            final_path = [((a,b),(i,j),distance) for (a,b),(i,j),distance in swings if (i,j) == (2,17)]\n",
    "            if len(final_path) >0:\n",
    "                for (a,b),(i,j),distance in final_path:\n",
    "                    new_path = p+[(2,17),(0,19)]\n",
    "                    new_pivot = pv+[(a,b),(1,18)]\n",
    "                    new_s = s +1/distance +1/2\n",
    "                    soln=[new_s,new_path,new_pivot]\n",
    "                    best_score = s\n",
    "            else:\n",
    "                for (a,b),(i,j),distance in swings:\n",
    "                    if (i,j) in p:\n",
    "                        continue\n",
    "                    new_path = p+[(i,j)]\n",
    "                    new_pivot = pv+[(a,b)]\n",
    "                    new_s = s + 1/distance\n",
    "                    paths.append([(i,j),new_s,new_path,new_pivot])\n",
    "    return(soln)"
   ]
  },
  {
   "cell_type": "code",
   "execution_count": 9,
   "id": "fa23dcaf-77b1-4585-b787-c43d0c75ebb3",
   "metadata": {},
   "outputs": [
    {
     "name": "stdout",
     "output_type": "stream",
     "text": [
      "Best Score is 0.70040654 in 56.4850 secs\n",
      "[(19, 0), (16, 3), (13, 10), (12, 9), (16, 17), (8, 17), (2, 17)]\n",
      "[(16, 0), (11, 5), (4, 18), (8, 16), (12, 8), (5, 11), (1, 18)]\n"
     ]
    },
    {
     "data": {
      "image/png": "[encoded data removed]",
      "text/plain": [
       "<Figure size 400x400 with 1 Axes>"
      ]
     },
     "metadata": {},
     "output_type": "display_data"
    }
   ],
   "source": [
    "start = time.time()\n",
    "initial= (19,0)\n",
    "score,path,pivots = solver((0,19),coords1,lines,edge_angles,initial)\n",
    "\n",
    "print(\"Best Score is {:.8f} in {:.4f} secs\".format(score,time.time()-start))\n",
    "swings = ([[x,pivots[i]] for i,x in enumerate(path)])\n",
    "starts = [initial]+[i[0] for i in swings[:-1]] \n",
    "pivots = [i[1] for i in swings]\n",
    "print(starts)\n",
    "print(pivots)\n",
    "start = [i for i in zip(starts,pivots)]\n",
    "print_coord(coords1,start=start,swings=swings)"
   ]
  },
  {
   "cell_type": "code",
   "execution_count": 10,
   "id": "95dc7461-fb0e-46ff-9b5c-84ed96882d60",
   "metadata": {},
   "outputs": [
    {
     "name": "stdout",
     "output_type": "stream",
     "text": [
      "[9.0, 29.0, 145.0, 65.0, 97.0, 45.0, 2.0]\n",
      "0.7004065374132917\n"
     ]
    }
   ],
   "source": [
    "x = [np.sum(np.power(np.array(starts[i],dtype=np.float64)-np.array(pivots[i],dtype=np.float64),2)) for i in range(len(starts))]\n",
    "print(x)\n",
    "print(np.sum(np.power(x,-1)))"
   ]
  },
  {
   "cell_type": "code",
   "execution_count": 11,
   "id": "c421e55d-426e-4b2f-bf0c-0a14f8433c89",
   "metadata": {},
   "outputs": [
    {
     "data": {
      "text/markdown": [
       "### August 2016 : Solution\n",
       "\n",
       "Very open-ended puzzle this month! The best solution we found to this month’s puzzle, along with 10 of you, had a cost of about 0.7082. There are actually a couple of ways to achieve that cost, but one is:\n",
       "(a4,c3)\n",
       "(k2,d6)\n",
       "(t7,d8)\n",
       "(e1,j6)\n",
       "(t7,j8)\n",
       "(q12,r4)\n",
       "(i8,r12)\n",
       "(l15,r18)\n",
       "(s19,t20)\n",
       "Here’s a video illustrating what that solution looks like:\n",
       "Congratulations to everyone who found a valid path!"
      ],
      "text/plain": [
       "<IPython.core.display.Markdown object>"
      ]
     },
     "metadata": {},
     "output_type": "display_data"
    }
   ],
   "source": [
    "url='https://www.janestreet.com/puzzles/swing-time-solution/'\n",
    "res = requests.get(url)\n",
    "soup = BeautifulSoup(res.content, 'html.parser')\n",
    "y =[text for text in soup.body.stripped_strings]\n",
    "#display([(i,j) for i,j in enumerate(y)])\n",
    "display(Markdown(\"### \"+y[8]+\"\\n\\n\"+str(\"\\n\".join(y[10:14]))))"
   ]
  },
  {
   "cell_type": "code",
   "execution_count": 16,
   "id": "655feaec-7e8d-43d7-abfe-b17901cdfd4d",
   "metadata": {},
   "outputs": [
    {
     "data": {
      "image/png": "[encoded data removed]",
      "text/plain": [
       "<Figure size 400x400 with 1 Axes>"
      ]
     },
     "metadata": {},
     "output_type": "display_data"
    },
    {
     "name": "stdout",
     "output_type": "stream",
     "text": [
      "[(19, 0), (16, 3), (14, 3), (12, 3), (14, 9), (12, 9), (16, 17), (8, 17), (2, 17)]\n",
      "[(16, 0), (15, 11), (13, 19), (19, 4), (13, 19), (8, 16), (12, 8), (5, 11), (1, 18)]\n",
      "[9.0, 65.0, 257.0, 50.0, 101.0, 65.0, 97.0, 45.0, 2.0]\n",
      "0.7082038831357471\n"
     ]
    }
   ],
   "source": [
    "# use the solution provided in the video which doesn't rely on a wrap-around\n",
    "soln = [('a4','d4'),('l5','d6'),('t7','d8'),('e1','j6'),('t7','j8'),('q12','r4'),('i8','r12'),('l15','r18'),('s19','t20')]\n",
    "letters =[i for i in string.ascii_lowercase[:20]]\n",
    "\n",
    "swings1 = [((20-int(i[1:]),letters.index(i[0])),(20-int(j[1:]),letters.index(j[0]))) for (j,i) in soln]\n",
    "starts1 = [(19,0)]+[i[0] for i in swings1[:-1]] \n",
    "pivots1 = [i[1] for i in swings1]\n",
    "\n",
    "start1 = [i for i in zip(starts1,pivots1)]\n",
    "\n",
    "print_coord(coords1,start=start1,swings=swings1)\n",
    "print(starts1)\n",
    "print(pivots1)\n",
    "x = [np.sum(np.power(np.array(starts1[i],dtype=np.float64)-np.array(pivots1[i],dtype=np.float64),2)) for i in range(len(starts1))]\n",
    "print(x)\n",
    "print(np.sum(np.power(x,-1)))"
   ]
  },
  {
   "cell_type": "code",
   "execution_count": 13,
   "id": "8276194d-9742-47cf-a5d6-b269f51f3fe2",
   "metadata": {},
   "outputs": [
    {
     "name": "stdout",
     "output_type": "stream",
     "text": [
      "(19, 0) (16, 3) (16, 0)\n"
     ]
    },
    {
     "data": {
      "image/png": "[encoded data removed]",
      "text/plain": [
       "<Figure size 400x400 with 1 Axes>"
      ]
     },
     "metadata": {},
     "output_type": "display_data"
    },
    {
     "name": "stdout",
     "output_type": "stream",
     "text": [
      "(16, 3) (13, 10) (11, 5)\n"
     ]
    },
    {
     "data": {
      "image/png": "[encoded data removed]",
      "text/plain": [
       "<Figure size 400x400 with 1 Axes>"
      ]
     },
     "metadata": {},
     "output_type": "display_data"
    },
    {
     "name": "stdout",
     "output_type": "stream",
     "text": [
      "(13, 10) (12, 9) (4, 18)\n"
     ]
    },
    {
     "data": {
      "image/png": "[encoded data removed]",
      "text/plain": [
       "<Figure size 400x400 with 1 Axes>"
      ]
     },
     "metadata": {},
     "output_type": "display_data"
    },
    {
     "name": "stdout",
     "output_type": "stream",
     "text": [
      "(12, 9) (16, 17) (8, 16)\n"
     ]
    },
    {
     "data": {
      "image/png": "[encoded data removed]",
      "text/plain": [
       "<Figure size 400x400 with 1 Axes>"
      ]
     },
     "metadata": {},
     "output_type": "display_data"
    },
    {
     "name": "stdout",
     "output_type": "stream",
     "text": [
      "(16, 17) (8, 17) (12, 8)\n"
     ]
    },
    {
     "data": {
      "image/png": "[encoded data removed]",
      "text/plain": [
       "<Figure size 400x400 with 1 Axes>"
      ]
     },
     "metadata": {},
     "output_type": "display_data"
    },
    {
     "name": "stdout",
     "output_type": "stream",
     "text": [
      "(8, 17) (2, 17) (5, 11)\n"
     ]
    },
    {
     "data": {
      "image/png": "[encoded data removed]",
      "text/plain": [
       "<Figure size 400x400 with 1 Axes>"
      ]
     },
     "metadata": {},
     "output_type": "display_data"
    },
    {
     "name": "stdout",
     "output_type": "stream",
     "text": [
      "(2, 17) (0, 19) (1, 18)\n"
     ]
    },
    {
     "data": {
      "image/png": "[encoded data removed]",
      "text/plain": [
       "<Figure size 400x400 with 1 Axes>"
      ]
     },
     "metadata": {},
     "output_type": "display_data"
    }
   ],
   "source": [
    "for i in range(len(start)):\n",
    "    print(start[i:i+1][0][0],swings[i:i+1][0][0],swings[i:i+1][0][1])\n",
    "    print_coord(coords1,start=start[i:i+1],swings=swings[i:i+1])"
   ]
  },
  {
   "cell_type": "code",
   "execution_count": null,
   "id": "26733a90-c688-40ed-b94a-4ed1d1b313d8",
   "metadata": {},
   "outputs": [],
   "source": []
  }
 ],
 "metadata": {
  "kernelspec": {
   "display_name": "Python 3",
   "language": "python",
   "name": "python3"
  },
  "language_info": {
   "codemirror_mode": {
    "name": "ipython",
    "version": 3
   },
   "file_extension": ".py",
   "mimetype": "text/x-python",
   "name": "python",
   "nbconvert_exporter": "python",
   "pygments_lexer": "ipython3",
   "version": "3.7.10"
  }
 },
 "nbformat": 4,
 "nbformat_minor": 5
}
