{
 "cells": [
  {
   "cell_type": "code",
   "execution_count": 1,
   "metadata": {},
   "outputs": [],
   "source": [
    "import pulp\n",
    "import numpy as np\n",
    "import time\n",
    "import seaborn as sns\n",
    "import matplotlib.pyplot as plt"
   ]
  },
  {
   "cell_type": "code",
   "execution_count": 2,
   "metadata": {},
   "outputs": [],
   "source": [
    "### solution based on https://github.com/ew398/Jane-Street-Puzzles/blob/master/2014-02-Hooks.py\n",
    "### preping for the later \"Hooks\" puzzles by setting up the various hooks and a nice graph\n",
    "\n",
    "def setup_grid(alignments):\n",
    "    y = np.array([[1]])\n",
    "    for i in range(0,8):\n",
    "        temp = np.ones((i+2,i+2),dtype=int)*(i+2)\n",
    "        if alignments[i] == 0:         \n",
    "            temp[:-1,:-1] = y\n",
    "        if alignments[i] == 1:         \n",
    "            temp[1:,:-1] = y\n",
    "        if alignments[i] == 2:         \n",
    "            temp[:-1,1:] = y\n",
    "        if alignments[i] == 3:         \n",
    "            temp[1:,1:] = y                  \n",
    "        y=temp\n",
    "    return y\n",
    "\n",
    "    \n",
    "def solve_matrix(y,col_labels,row_labels):\n",
    "    nums = range(1, 10)\n",
    "    problem = pulp.LpProblem('Problem') \n",
    "    x = pulp.LpVariable.dicts('x', [(row, col) for row in nums for col in nums],lowBound=0,upBound=1, cat='Integer') # declare decision variables\n",
    "\n",
    "    for index in nums:\n",
    "        mask = (y == index)\n",
    "        problem += pulp.lpSum([x[(row, col)] * mask[row-1,col-1] for row in range(1, 10) for col in range(1,10)]) == index\n",
    "\n",
    "    for row in nums:\n",
    "        problem += pulp.lpSum([y[row-1, col-1] * x[(row, col)] for col in nums]) == col_labels[row - 1]\n",
    "\n",
    "    for col in nums:\n",
    "        problem += pulp.lpSum([y[row-1, col-1] * x[(row, col)] for row in nums]) == row_labels[col - 1]\n",
    "\n",
    "#Solve LP\n",
    "    problem.solve()\n",
    "\n",
    "    solution = np.zeros((9,9),dtype=int)\n",
    "    for row in nums:\n",
    "        for col in nums:\n",
    "            solution[row - 1][col - 1] = x[(row, col)].varValue\n",
    "\n",
    "    return np.array(solution) , y\n",
    "\n",
    "def sol_print(solved,matrix):\n",
    "    fig,ax = plt.subplots(1,1,figsize=(5,5))\n",
    "    x = np.array((solved*matrix).astype('int').astype('str'))\n",
    "    x[x==\"0\"] =\"-\"\n",
    "    ax = sns.heatmap(matrix,annot=x,cbar=False,cmap=\"Set3_r\",fmt=\"\",linewidths=0.25)\n",
    "    ax.axis(\"off\")\n"
   ]
  },
  {
   "cell_type": "code",
   "execution_count": 3,
   "metadata": {},
   "outputs": [
    {
     "name": "stdout",
     "output_type": "stream",
     "text": [
      "Solution took 0.2431 seconds\n",
      "\n",
      "row check [0 0 0 0 0 0 0 0 0]\n",
      "col check [0 0 0 0 0 0 0 0 0]\n",
      "\n",
      "\n"
     ]
    },
    {
     "data": {
      "image/png": "[encoded data removed]",
      "text/plain": [
       "<Figure size 360x360 with 1 Axes>"
      ]
     },
     "metadata": {
      "needs_background": "light"
     },
     "output_type": "display_data"
    }
   ],
   "source": [
    "start =  time.perf_counter()\n",
    "\n",
    "alignments = [0,0,0,0,0,0,0,0]\n",
    "row_labels = [31, 19, 45, 16, 5, 47, 28, 49, 45]\n",
    "col_labels = [26, 42, 11, 22, 42, 36, 29, 32, 45]\n",
    "\n",
    "y = setup_grid(alignments)\n",
    "solved,matrix = solve_matrix(y,col_labels,row_labels)\n",
    "\n",
    "stop =  time.perf_counter()\n",
    "print('Solution took {:0.4f} seconds\\n'.format((stop-start)))\n",
    "sol_print(solved,matrix)\n",
    "\n",
    "print(\"row check\",np.sum(solved*matrix,axis=0)-row_labels)\n",
    "print(\"col check\",np.sum(solved*matrix,axis=1)-col_labels)\n",
    "print(\"\\n\")"
   ]
  },
  {
   "cell_type": "code",
   "execution_count": null,
   "metadata": {},
   "outputs": [],
   "source": []
  }
 ],
 "metadata": {
  "kernelspec": {
   "display_name": "Python 3",
   "language": "python",
   "name": "python3"
  },
  "language_info": {
   "codemirror_mode": {
    "name": "ipython",
    "version": 3
   },
   "file_extension": ".py",
   "mimetype": "text/x-python",
   "name": "python",
   "nbconvert_exporter": "python",
   "pygments_lexer": "ipython3",
   "version": "3.7.7"
  }
 },
 "nbformat": 4,
 "nbformat_minor": 4
}
