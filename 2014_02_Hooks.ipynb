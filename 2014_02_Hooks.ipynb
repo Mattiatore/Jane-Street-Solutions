{
 "cells": [
  {
   "cell_type": "code",
   "execution_count": 4,
   "metadata": {},
   "outputs": [],
   "source": [
    "import pulp\n",
    "import numpy as np\n",
    "import time\n",
    "import seaborn as sns\n",
    "import matplotlib.pyplot as plt\n",
    "import requests\n",
    "from bs4 import BeautifulSoup"
   ]
  },
  {
   "cell_type": "code",
   "execution_count": 5,
   "metadata": {},
   "outputs": [
    {
     "name": "stdout",
     "output_type": "stream",
     "text": [
      "Puzzle\n",
      "~~~~~~\n",
      "In the grid below,  enter nine 9’s in the outermost hook, eight 8’s in the next hook, then seven 7’s, six 6’s, and so on, down to the one 1 (already entered), so that the row and column sums match the values given along the border. Once you’ve completed the puzzle, submit as your answer the sum of the values of the shaded squares (along with any other comments you’d like to provide).\n"
     ]
    }
   ],
   "source": [
    "# Working through the hooks puzzles.\n",
    "url='https://www.janestreet.com/puzzles/february-2014/'\n",
    "res = requests.get(url)\n",
    "soup = BeautifulSoup(res.content, 'html.parser')\n",
    "y =[text for text in soup.body.stripped_strings]\n",
    "print(\"Puzzle\")\n",
    "print(\"~~~~~~\")\n",
    "print(\" \".join(y[8:10]))"
   ]
  },
  {
   "cell_type": "markdown",
   "metadata": {},
   "source": [
    "### Puzzle details\n",
    "<img src=\"https://www.janestreet.com/puzzles/wp-content/uploads/2014/01/Feb14_Niedermaier.jpg\" width=\"300\" >\n"
   ]
  },
  {
   "cell_type": "code",
   "execution_count": 13,
   "metadata": {},
   "outputs": [],
   "source": [
    "### solution based on https://github.com/ew398/Jane-Street-Puzzles/blob/master/2014-02-Hooks.py\n",
    "### preping for the later \"Hooks\" puzzles by setting up the various hooks and a nice graph\n",
    "\n",
    "def setup_grid(alignments):\n",
    "    y = np.array([[1]])\n",
    "    for i in range(0,8):\n",
    "        temp = np.ones((i+2,i+2),dtype=int)*(i+2)\n",
    "        if alignments[i] == 0:         \n",
    "            temp[:-1,:-1] = y\n",
    "        if alignments[i] == 1:         \n",
    "            temp[1:,:-1] = y\n",
    "        if alignments[i] == 2:         \n",
    "            temp[:-1,1:] = y\n",
    "        if alignments[i] == 3:         \n",
    "            temp[1:,1:] = y                  \n",
    "        y=temp\n",
    "    return y\n",
    "    \n",
    "def solve_matrix(y,col_labels,row_labels):\n",
    "    nums = range(1, 10)\n",
    "    problem = pulp.LpProblem('Problem') \n",
    "    x = pulp.LpVariable.dicts('x', [(row, col) for row in nums for col in nums],lowBound=0,upBound=1, cat='Integer') # declare decision variables\n",
    "\n",
    "    for index in nums:\n",
    "        mask = (y == index)\n",
    "        problem += pulp.lpSum([x[(row, col)] * mask[row-1,col-1] for row in range(1, 10) for col in range(1,10)]) == index\n",
    "\n",
    "    for row in nums:\n",
    "        problem += pulp.lpSum([y[row-1, col-1] * x[(row, col)] for col in nums]) == col_labels[row - 1]\n",
    "\n",
    "    for col in nums:\n",
    "        problem += pulp.lpSum([y[row-1, col-1] * x[(row, col)] for row in nums]) == row_labels[col - 1]\n",
    "\n",
    "#Solve LP\n",
    "    problem.solve()\n",
    "\n",
    "    solution = np.zeros((9,9),dtype=int)\n",
    "    for row in nums:\n",
    "        for col in nums:\n",
    "            solution[row - 1][col - 1] = x[(row, col)].varValue\n",
    "\n",
    "    return np.array(solution) , y\n",
    "\n",
    "def sol_print(solved,matrix):\n",
    "    fig,ax = plt.subplots(1,1,figsize=(4,4))\n",
    "    x = np.array((solved*matrix).astype('int').astype('str'))\n",
    "    x[x==\"0\"] =\"-\"\n",
    "    ax = sns.heatmap(matrix,annot=x,cbar=False,cmap=\"Set3_r\",fmt=\"\",linewidths=1)\n",
    "    ax.axis(\"off\")"
   ]
  },
  {
   "cell_type": "code",
   "execution_count": 14,
   "metadata": {},
   "outputs": [
    {
     "name": "stdout",
     "output_type": "stream",
     "text": [
      "Solution took 0.0260 seconds\n",
      "\n",
      "Sum of checkerboard squares - 158\n"
     ]
    },
    {
     "data": {
      "image/png": "[encoded data removed]",
      "text/plain": [
       "<Figure size 288x288 with 1 Axes>"
      ]
     },
     "metadata": {
      "needs_background": "light"
     },
     "output_type": "display_data"
    }
   ],
   "source": [
    "start =  time.perf_counter()\n",
    "\n",
    "alignments = [0,0,0,0,0,0,0,0]\n",
    "row_labels = [31, 19, 45, 16, 5, 47, 28, 49, 45]\n",
    "col_labels = [26, 42, 11, 22, 42, 36, 29, 32, 45]\n",
    "\n",
    "y = setup_grid(alignments)\n",
    "solved,matrix = solve_matrix(y,col_labels,row_labels)\n",
    "\n",
    "stop =  time.perf_counter()\n",
    "print('Solution took {:0.4f} seconds\\n'.format((stop-start)))\n",
    "sol_print(solved,matrix)\n",
    "\n",
    "checker = np.ones((9,9),dtype=int)\n",
    "checker[1::2,::2] = 0\n",
    "checker[::2,1::2] = 0\n",
    "print(\"Sum of checkerboard squares -\",np.sum(checker*matrix*solved))\n",
    "\n"
   ]
  },
  {
   "cell_type": "code",
   "execution_count": 15,
   "metadata": {},
   "outputs": [
    {
     "name": "stdout",
     "output_type": "stream",
     "text": [
      "Solution\n",
      "~~~~~~~~\n",
      "The sum of the shaded squares in the completed grid is 158.   Congratulations to Phil Isenberg for being randomly selected from the dozens of correct submissions to win a Jane Street t-shirt!\n"
     ]
    }
   ],
   "source": [
    "url='https://www.janestreet.com/puzzles/solutions/february-2014-solution/'\n",
    "res = requests.get(url)\n",
    "soup = BeautifulSoup(res.content, 'html.parser')\n",
    "x =[text for text in soup.body.stripped_strings]\n",
    "\n",
    "print(\"Solution\")\n",
    "print(\"~~~~~~~~\")\n",
    "print(\" \".join(x[7:8]))"
   ]
  },
  {
   "cell_type": "markdown",
   "metadata": {},
   "source": [
    "### Solution\n",
    "<img src=\"https://www.janestreet.com/puzzles/wp-content/uploads/2014/09/Feb14_Solution.png\" width=\"500\">\n"
   ]
  },
  {
   "cell_type": "code",
   "execution_count": 22,
   "metadata": {},
   "outputs": [
    {
     "data": {
      "text/plain": [
       "158"
      ]
     },
     "execution_count": 22,
     "metadata": {},
     "output_type": "execute_result"
    }
   ],
   "source": [
    "checker = np.ones((9,9),dtype=int)\n",
    "checker[1::2,::2] = 0\n",
    "checker[::2,1::2] = 0\n",
    "np.sum(checker*matrix*solved)"
   ]
  },
  {
   "cell_type": "code",
   "execution_count": null,
   "metadata": {},
   "outputs": [],
   "source": []
  }
 ],
 "metadata": {
  "kernelspec": {
   "display_name": "Python 3",
   "language": "python",
   "name": "python3"
  },
  "language_info": {
   "codemirror_mode": {
    "name": "ipython",
    "version": 3
   },
   "file_extension": ".py",
   "mimetype": "text/x-python",
   "name": "python",
   "nbconvert_exporter": "python",
   "pygments_lexer": "ipython3",
   "version": "3.7.7"
  }
 },
 "nbformat": 4,
 "nbformat_minor": 4
}
