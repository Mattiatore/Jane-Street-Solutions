{
 "cells": [
  {
   "cell_type": "code",
   "execution_count": 1,
   "id": "a149c5f4-d8eb-438a-9831-49d956dd06ac",
   "metadata": {},
   "outputs": [],
   "source": [
    "import matplotlib.pyplot as plt\n",
    "import time\n",
    "import requests\n",
    "from bs4 import BeautifulSoup\n",
    "from IPython.display import Markdown, display"
   ]
  },
  {
   "cell_type": "code",
   "execution_count": 2,
   "id": "3c2a6b77-7164-4d57-a9dd-45dce1091619",
   "metadata": {},
   "outputs": [
    {
     "data": {
      "text/markdown": [
       "### November 2015 : Puzzle\n",
       "\n",
       "15 dancers are standing in an equilateral triangle formation, with every dancer\n",
       "standing 1 unit apart from her nearest neighbors. Each dancer chooses another\n",
       "who is 1 unit away to pair up with, and all but 1 dancer ends up as a part of a\n",
       "pair. An example of one such arrangement is presented here.\n",
       "How many different sets of 7 pairs are possible?"
      ],
      "text/plain": [
       "<IPython.core.display.Markdown object>"
      ]
     },
     "metadata": {},
     "output_type": "display_data"
    }
   ],
   "source": [
    "url='https://www.janestreet.com/puzzles/pair-dance-index/'\n",
    "res = requests.get(url)\n",
    "soup = BeautifulSoup(res.content, 'html.parser')\n",
    "y =[text for text in soup.body.stripped_strings]\n",
    "#display([(i,j) for i,j in enumerate(y)])\n",
    "display(Markdown(\"### \"+y[8]+\"\\n\\n\"+str(\"\\n\".join(y[10:12]))))"
   ]
  },
  {
   "cell_type": "markdown",
   "id": "12c69383-ec43-4dcd-869e-5e111614944d",
   "metadata": {},
   "source": [
    "<img src='https://www.janestreet.com/puzzles/11_15_puzzle.png' width =200>"
   ]
  },
  {
   "cell_type": "code",
   "execution_count": 3,
   "id": "c6d45128-07bf-4cee-a018-c18639c0c107",
   "metadata": {},
   "outputs": [],
   "source": [
    "# function to yield all possible pairs from a list\n",
    "def all_pairs(x):\n",
    "    if len(x) < 2:\n",
    "        yield []\n",
    "        return\n",
    "    if len(x) % 2 == 1:\n",
    "        # Handle odd length list\n",
    "        for i in range(len(x)):\n",
    "            for result in all_pairs(x[:i] + x[i+1:]):\n",
    "                yield result\n",
    "    else:\n",
    "        a = x[0]\n",
    "        for i in range(1,len(x)):\n",
    "            p = (a,x[i])\n",
    "            for rest in all_pairs(x[1:i]+x[i+1:]):\n",
    "                yield [p] + rest    "
   ]
  },
  {
   "cell_type": "code",
   "execution_count": 4,
   "id": "6550959c-61dc-43d7-9480-ea6e86a8e1e9",
   "metadata": {},
   "outputs": [
    {
     "name": "stdout",
     "output_type": "stream",
     "text": [
      "If we remove 0 there are 28 possible pairs\n",
      "If we remove 1 there are 14 possible pairs\n",
      "If we remove 2 there are 14 possible pairs\n",
      "If we remove 3 there are 14 possible pairs\n",
      "If we remove 4 there are 10 possible pairs\n",
      "Solution is 240. Took 4.61 seconds\n"
     ]
    }
   ],
   "source": [
    "#define all edges\n",
    "e = [(0, 1), (0, 2), \n",
    "     (1, 2),\n",
    "     (1, 3), (1, 4), (2,4), (2, 5),\n",
    "     (3,4),(4,5),\n",
    "     (3, 6), (3, 7), (4, 7), (4, 8), (5, 8), (5, 9), \n",
    "     (6, 7), (7, 8), (8, 9),\n",
    "     (6,10),(6,11),(7,11),(7,12),(8,12),(8,13),(9,13),(9,14),\n",
    "     (10, 11), (11, 12), (12, 13), (13, 14)]\n",
    "\n",
    "# loop through all the nodes removing one at a time, working out all possible pairs where all edges exist and count/\n",
    "# speed up by taking account of the symmetries\n",
    "start= time.time()\n",
    "pairs = [] \n",
    "for i in range(5):\n",
    "    nums = [*range(15)]\n",
    "    nums.remove(i)\n",
    "    num_pairs = len([i for i in all_pairs(nums) if all([x in e for x in i ])])\n",
    "    print(\"If we remove {} there are {} possible pairs\".format(i,num_pairs))\n",
    "    pairs.append(num_pairs)\n",
    "\n",
    "print(\"Solution is {}. Took {:.2f} seconds\".format(sum(pairs)*3,time.time()-start))"
   ]
  },
  {
   "cell_type": "code",
   "execution_count": 5,
   "id": "d093c718-ca11-421a-b546-0a2d8d392055",
   "metadata": {},
   "outputs": [
    {
     "data": {
      "text/markdown": [
       "### November 2015 : Solution\n",
       "\n",
       "There are 240 possible sets of 7 pairs. The counting can get a bit tricky, but\n",
       "categorizing by which type of dancer remains un-paired, and then reducing by\n",
       "symmetry is a good place to start.\n",
       "Congratulations to all of those who solved correctly, especially Shahmeer Navid,\n",
       "this month’s randomly-chosen winner of a Jane Street t-shirt!"
      ],
      "text/plain": [
       "<IPython.core.display.Markdown object>"
      ]
     },
     "metadata": {},
     "output_type": "display_data"
    }
   ],
   "source": [
    "url='https://www.janestreet.com/puzzles/pair-dance-solution/'\n",
    "res = requests.get(url)\n",
    "soup = BeautifulSoup(res.content, 'html.parser')\n",
    "y =[text for text in soup.body.stripped_strings]\n",
    "#display([(i,j) for i,j in enumerate(y)])\n",
    "display(Markdown(\"### \"+y[8]+\"\\n\\n\"+str(\"\\n\".join(y[10:12]))))"
   ]
  },
  {
   "cell_type": "code",
   "execution_count": null,
   "id": "3695c1c7-5726-4d92-b834-0db7b23cb75b",
   "metadata": {},
   "outputs": [],
   "source": []
  }
 ],
 "metadata": {
  "kernelspec": {
   "display_name": "Python 3",
   "language": "python",
   "name": "python3"
  },
  "language_info": {
   "codemirror_mode": {
    "name": "ipython",
    "version": 3
   },
   "file_extension": ".py",
   "mimetype": "text/x-python",
   "name": "python",
   "nbconvert_exporter": "python",
   "pygments_lexer": "ipython3",
   "version": "3.7.10"
  }
 },
 "nbformat": 4,
 "nbformat_minor": 5
}
