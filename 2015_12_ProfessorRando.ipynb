{
 "cells": [
  {
   "cell_type": "code",
   "execution_count": 4,
   "metadata": {
    "id": "Oq1xibzMT1Wl"
   },
   "outputs": [],
   "source": [
    "import numpy as np\n",
    "import requests\n",
    "from bs4 import BeautifulSoup\n"
   ]
  },
  {
   "cell_type": "code",
   "execution_count": 9,
   "metadata": {
    "id": "ICTfvjZUT1Wr"
   },
   "outputs": [
    {
     "name": "stdout",
     "output_type": "stream",
     "text": [
      "Puzzle\n",
      "~~~~~~\n",
      "Puzzle Archive Professor Rando Professor Rando has 4 grad students, Daphne, Max, Mindy, and Sam.  The professor proposes the following game: he generates two random integers independently and uniformly from 1 to 5 (inclusive), and then tells each of his students a different fact about the two numbers.  He tells: Daphne the absolute difference of the integers, Max the maximum of the integers, Mindy the minimum of the integers, and Sam the sum of the integers. Then, each day until the game ends, he congregates his students and asks them, in alphabetical order, for the identity of the two integers.  Each student has only one chance to answer each day, when she or he is called upon.  Each student answers ONLY when the answer is definitively known to him or her, and otherwise gives no answer that day.  All of the students know this, and there is no collusion.  Once a student gives an answer (which will be correct), that student wins and the game ends. How likely is each student to win?\n"
     ]
    }
   ],
   "source": [
    "url='https://www.janestreet.com/puzzles/professor-rando/'\n",
    "res = requests.get(url)\n",
    "soup = BeautifulSoup(res.content, 'html.parser')\n",
    "y =[text for text in soup.body.stripped_strings]\n",
    "print(\"Puzzle\")\n",
    "print(\"~~~~~~\")\n",
    "print(\" \".join(y[5:14]))"
   ]
  },
  {
   "cell_type": "code",
   "execution_count": 10,
   "metadata": {
    "id": "844RhDFpT1Wu"
   },
   "outputs": [
    {
     "name": "stdout",
     "output_type": "stream",
     "text": [
      "The winner is Sam\n",
      "\n",
      "Daphne has a 5/25 chance\n",
      "Max has a 6/25 chance\n",
      "Mindy has a 6/25 chance\n",
      "Sam has a 8/25 chance\n"
     ]
    }
   ],
   "source": [
    "\n",
    "players = [\"Daphne\",\"Max\",\"Mindy\",\"Sam\"]\n",
    "\n",
    "numbers = 5\n",
    "outcomes =[[i,j,[abs(j-i),max(i,j),min(i,j),i+j]] for i in range(1,numbers+1) for j in range(i,numbers+1)]\n",
    "\n",
    "player = 0 \n",
    "winner = [0]*4\n",
    "\n",
    "while len(outcomes) >0:\n",
    "    #determine the posible values and count them for each player \n",
    "    round = [x[2][player] for x in outcomes]\n",
    "    options = {x:round.count(x) for x in round}\n",
    "\n",
    "    \n",
    "    #if there is a single option eliminate it and mark the player as the winner (noting there are 2 ways to get double numbers)\n",
    "    for key,value in options.items():\n",
    "        if value ==1:\n",
    "            score = 1+np.sum([(x[0]!=x[1]) for x in outcomes if x[2][player] == key])\n",
    "            outcomes = [x for x in outcomes if x[2][player] != key]\n",
    "            winner[player] += score\n",
    "    player = (player +1) % 4\n",
    "            \n",
    "\n",
    "print(\"The winner is {}\\n\".format(players[np.argmax(winner)]))\n",
    "\n",
    "for i in range(len(players)):\n",
    "    print(\"{} has a {}/{} chance\".format(players[i],winner[i],numbers**2))"
   ]
  },
  {
   "cell_type": "code",
   "execution_count": 14,
   "metadata": {},
   "outputs": [
    {
     "name": "stdout",
     "output_type": "stream",
     "text": [
      "Solution\n",
      "~~~~~~~~\n",
      "The chances that the 4 students win are: Daphne:  1/5 Max: 6/25 Mindy: 6/25 Sam: 8/25 Someone always wins, although it might take more than one day.   Note that Professor Rando only draws his numbers once, not each day, and also note that Professor Rando is twice as likely to draw any given set of 2 different numbers than he is to draw any given set of 2 identical numbers.    We’ll leave out a more thorough explanation for now, since January’s puzzle also relates to Professor Rando. Congratulations to everyone who submitted a correct solution this month, especially Neil Alberg, this month’s randomly-selected winner of a Jane Street t-shirt!\n"
     ]
    }
   ],
   "source": [
    "url='https://www.janestreet.com/puzzles/solutions/december-2015-solution/'\n",
    "res = requests.get(url)\n",
    "soup = BeautifulSoup(res.content, 'html.parser')\n",
    "x =[text for text in soup.body.stripped_strings]\n",
    "\n",
    "print(\"Solution\")\n",
    "print(\"~~~~~~~~\")\n",
    "print(\" \".join(x[7:14]))"
   ]
  },
  {
   "cell_type": "code",
   "execution_count": null,
   "metadata": {},
   "outputs": [],
   "source": []
  }
 ],
 "metadata": {
  "colab": {
   "include_colab_link": true,
   "name": "JaneSt-Feb18.ipynb",
   "provenance": []
  },
  "kernelspec": {
   "display_name": "Python 3",
   "language": "python",
   "name": "python3"
  },
  "language_info": {
   "codemirror_mode": {
    "name": "ipython",
    "version": 3
   },
   "file_extension": ".py",
   "mimetype": "text/x-python",
   "name": "python",
   "nbconvert_exporter": "python",
   "pygments_lexer": "ipython3",
   "version": "3.7.7"
  }
 },
 "nbformat": 4,
 "nbformat_minor": 4
}
