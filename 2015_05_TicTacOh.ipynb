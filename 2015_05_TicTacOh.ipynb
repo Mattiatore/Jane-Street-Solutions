{
 "cells": [
  {
   "cell_type": "code",
   "execution_count": 7,
   "id": "46823cb5-38bc-44d0-8cd7-22b98fcb380b",
   "metadata": {},
   "outputs": [],
   "source": [
    "import numpy as np\n",
    "import numba as nb\n",
    "from copy import copy\n",
    "import random\n",
    "import time\n",
    "import math\n",
    "import sympy as sy\n",
    "import itertools\n",
    "from fractions import Fraction\n",
    "import requests\n",
    "from bs4 import BeautifulSoup\n",
    "from IPython.display import Markdown, display,IFrame,HTML,Image\n",
    "import functools"
   ]
  },
  {
   "cell_type": "code",
   "execution_count": 8,
   "id": "7cc3a8b7-12ee-4ac5-b074-ffe705030f4d",
   "metadata": {},
   "outputs": [
    {
     "data": {
      "text/markdown": [
       "### Puzzle as published \n",
       "https://www.janestreet.com/puzzles/tic-tac-oh-index/"
      ],
      "text/plain": [
       "<IPython.core.display.Markdown object>"
      ]
     },
     "metadata": {},
     "output_type": "display_data"
    },
    {
     "data": {
      "text/html": [
       "<div class=\"inner-wrapper\">\n",
       "<p>You’re going to play Tic Tac Toe against a computer program, and you get to go\n",
       "first. The program is not very smart, and its strategy, which you are aware of,\n",
       "is to just mark a uniformly randomly chosen un-filled square on each turn. It\n",
       "would be really embarrassing not to beat this computer program, so in your eyes,\n",
       "a tie game is just as bad as a loss. What’s the maximum chance of winning you\n",
       "can give yourself?</p>\n",
       "</div>"
      ],
      "text/plain": [
       "<IPython.core.display.HTML object>"
      ]
     },
     "metadata": {},
     "output_type": "display_data"
    }
   ],
   "source": [
    "url='https://www.janestreet.com/puzzles/tic-tac-oh-index/'\n",
    "res = requests.get(url)\n",
    "soup = BeautifulSoup(res.content, 'html.parser')\n",
    "display(Markdown('### Puzzle as published \\n'+url))\n",
    "display(HTML(str(soup.find('div', {'class' :'inner-wrapper'}))))\n",
    "# used a tree to work out the probability. Have worked through the published solution at the bottom in sympy. "
   ]
  },
  {
   "cell_type": "code",
   "execution_count": 7,
   "id": "1646a40c-559c-4da9-822b-fbd372c65922",
   "metadata": {},
   "outputs": [],
   "source": [
    "def winner(moves):\n",
    "    p1_moves = moves[::2]\n",
    "    p2_moves = moves[1::2]\n",
    "    wins = [(0,1,2),(3,4,5),(6,7,8),(0,3,6),(1,4,7),(2,5,8),(0,4,8),(2,4,6)]\n",
    "    for w in wins:\n",
    "        if all([x in p1_moves for x in w]):\n",
    "            return 0\n",
    "        if all([x in p2_moves for x in w]):\n",
    "            return 1\n",
    "        if len(moves) == 9:\n",
    "            return 2\n",
    "    return -1\n",
    "\n",
    "def play(moves,prob,out):\n",
    "    if winner(moves) != -1:\n",
    "        out[winner(moves)] += prob\n",
    "    else:\n",
    "        poss_moves = [i for i in [*range(9)] if i not in moves]\n",
    "        for i in poss_moves:\n",
    "            play(moves+[i],prob*Fraction(1,len(poss_moves)),out)\n",
    "    \n"
   ]
  },
  {
   "cell_type": "code",
   "execution_count": 8,
   "id": "81d7df4a-2edd-4046-82ae-d4abe2fc8528",
   "metadata": {},
   "outputs": [
    {
     "name": "stdout",
     "output_type": "stream",
     "text": [
      "Playing 0 first\n",
      "Player 1 win 3/7\n",
      "Player 2 win 37/140\n",
      "Draw 43/140\n",
      "Playing 1 first\n",
      "Player 1 win 12/35\n",
      "Player 2 win 47/140\n",
      "Draw 9/28\n",
      "Playing 2 first\n",
      "Player 1 win 3/7\n",
      "Player 2 win 37/140\n",
      "Draw 43/140\n",
      "Playing 3 first\n",
      "Player 1 win 13/40\n",
      "Player 2 win 47/140\n",
      "Draw 19/56\n",
      "Playing 4 first\n",
      "Player 1 win 137/280\n",
      "Player 2 win 27/140\n",
      "Draw 89/280\n",
      "Playing 5 first\n",
      "Player 1 win 13/40\n",
      "Player 2 win 47/140\n",
      "Draw 19/56\n",
      "Playing 6 first\n",
      "Player 1 win 57/140\n",
      "Player 2 win 37/140\n",
      "Draw 23/70\n",
      "Playing 7 first\n",
      "Player 1 win 13/40\n",
      "Player 2 win 47/140\n",
      "Draw 19/56\n",
      "Playing 8 first\n",
      "Player 1 win 57/140\n",
      "Player 2 win 37/140\n",
      "Draw 23/70\n",
      "Took 8.254470348358154 seconds\n"
     ]
    }
   ],
   "source": [
    "start = time.time()\n",
    "for x in range(9):\n",
    "    out = [0,0,0]\n",
    "    play([x],1,out)           \n",
    "    print(\"Playing {} first\".format(x))\n",
    "    outcome = ['Player 1 win', 'Player 2 win', \"Draw\"]\n",
    "    for i,j in enumerate(out):\n",
    "        print(outcome[i],j)\n",
    "print(\"Took {} seconds\".format(time.time()-start))"
   ]
  },
  {
   "cell_type": "code",
   "execution_count": 109,
   "id": "a5598ed3-48f2-4784-bef5-00f2349271e2",
   "metadata": {},
   "outputs": [
    {
     "data": {
      "text/markdown": [
       "### Solution as published \n",
       "https://www.janestreet.com/puzzles/tic-tac-oh-solution/"
      ],
      "text/plain": [
       "<IPython.core.display.Markdown object>"
      ]
     },
     "metadata": {},
     "output_type": "display_data"
    },
    {
     "data": {
      "text/html": [
       "<div class=\"inner-wrapper\">\n",
       "<p>The best way to face off against this computer program is to mark a corner. If\n",
       "the program does not select the middle square, you can always win. If it does\n",
       "(1/8), you select one of the 2 spots adjacent to your first mark. If the\n",
       "computer does not block you, you win. If it does block you (1/6), you block\n",
       "them, and have a chance to win. If the computer blocks you again (1/4), it has\n",
       "forced a tie, but otherwise you win. So, the best strategy yields a\n",
       "1-(1/8)(1/6)(1/4) = 191/192 chance of winning.</p>\n",
       "<p>Congratulations to those of you who submitted correct answers this month,\n",
       "especially Didrik Jonassen, this month’s winner of a Jane Street t-shirt!</p>\n",
       "<h4 class=\"omit-as-of\" id=\"correct-submissions-from\"></h4>\n",
       "<p class=\"correct-submissions\" data-directory=\"2015-05-01-tic-tac-oh\"></p>\n",
       "</div>"
      ],
      "text/plain": [
       "<IPython.core.display.HTML object>"
      ]
     },
     "metadata": {},
     "output_type": "display_data"
    }
   ],
   "source": [
    "url='https://www.janestreet.com/puzzles/tic-tac-oh-solution/'\n",
    "res = requests.get(url)\n",
    "soup = BeautifulSoup(res.content, 'html.parser')\n",
    "display(Markdown('### Solution as published \\n'+url))\n",
    "display(HTML(str(soup.find('div', {'class' :'inner-wrapper'}))))"
   ]
  },
  {
   "cell_type": "code",
   "execution_count": 116,
   "id": "9d47454d-5c1a-4a46-9cd3-69933e77f7a1",
   "metadata": {},
   "outputs": [],
   "source": [
    "8+5+"
   ]
  },
  {
   "cell_type": "code",
   "execution_count": null,
   "id": "3714ca75-85a7-4a47-be4a-20503e000f43",
   "metadata": {},
   "outputs": [],
   "source": []
  }
 ],
 "metadata": {
  "kernelspec": {
   "display_name": "Python 3 (ipykernel)",
   "language": "python",
   "name": "python3"
  },
  "language_info": {
   "codemirror_mode": {
    "name": "ipython",
    "version": 3
   },
   "file_extension": ".py",
   "mimetype": "text/x-python",
   "name": "python",
   "nbconvert_exporter": "python",
   "pygments_lexer": "ipython3",
   "version": "3.7.12"
  }
 },
 "nbformat": 4,
 "nbformat_minor": 5
}
