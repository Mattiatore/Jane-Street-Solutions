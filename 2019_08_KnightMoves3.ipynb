{
 "cells": [
  {
   "cell_type": "code",
   "execution_count": 1,
   "metadata": {
    "id": "Oq1xibzMT1Wl"
   },
   "outputs": [],
   "source": [
    "import numpy as np\n",
    "import pandas as pd\n",
    "import time\n",
    "import seaborn as sns\n",
    "import matplotlib.pyplot as plt\n",
    "import requests\n",
    "from bs4 import BeautifulSoup\n",
    "import itertools\n",
    "from copy import deepcopy as dcopy,copy\n",
    "from scipy.ndimage import measurements"
   ]
  },
  {
   "cell_type": "code",
   "execution_count": 2,
   "metadata": {
    "id": "ICTfvjZUT1Wr"
   },
   "outputs": [
    {
     "name": "stdout",
     "output_type": "stream",
     "text": [
      "Place the numbers 1, 2,…, N (for some N ) on a subset of the squares below, so that it is possible for a knight to move from 1 to N via a series of legal knight’s moves. Each number inside the grid represents the height of a building located at that square, and we can think of the knight as jumping from rooftop to rooftop on this series of incrementally taller buildings. A number outside the grid indicates the first (i.e. smallest) number for which the knight was visible looking into the grid in the direction of that row or column. (As shown in the example.) The answer to this puzzle is the smallest achievable product of the areas of the connected groups of empty squares in the completed grid.\n"
     ]
    }
   ],
   "source": [
    "# Different approach needed for this one as no obvious end point.\n",
    "# Looks to have worked well. \n",
    "\n",
    "url='https://www.janestreet.com/puzzles/knight-moves-3/'\n",
    "res = requests.get(url)\n",
    "soup = BeautifulSoup(res.content, 'html.parser')\n",
    "x =[text for text in soup.body.stripped_strings]\n",
    "\n",
    "print(\" \".join(x[7:22]))"
   ]
  },
  {
   "cell_type": "markdown",
   "metadata": {
    "id": "U9Yh1D3HT1Ws"
   },
   "source": [
    "### Puzzle details\n",
    "<img src=\"https://www.janestreet.com/puzzles/wp-content/uploads/2019/08/20190805_knight_moves_3.png\" width=\"350\">"
   ]
  },
  {
   "cell_type": "code",
   "execution_count": 3,
   "metadata": {
    "id": "844RhDFpT1Wu"
   },
   "outputs": [],
   "source": [
    "# Setup the constraints\n",
    "top = np.array([0,29,19,33,20,27,36,35])\n",
    "rhs = np.array([0,26,36,25,37,4,23,6])\n",
    "bot = np.array([13,14,12,2,1,5,7,0])\n",
    "lhs = np.array([18,19,30,10,16,11,12,0])"
   ]
  },
  {
   "cell_type": "code",
   "execution_count": 18,
   "metadata": {
    "id": "844RhDFpT1Wu"
   },
   "outputs": [],
   "source": [
    "class Matrix():\n",
    "    def __init__(self,top,rhs,bot,lhs):\n",
    "        self.top = top\n",
    "        self.rhs = rhs\n",
    "        self.bot = bot\n",
    "        self.lhs = lhs\n",
    "        # knight moves\n",
    "        self.x = [2, 1, -1, -2, -2, -1, 1, 2]\n",
    "        self.y = [1, 2, 2, 1, -1, -2, -2, -1]\n",
    "\n",
    "    ################################################\n",
    "    # The big one .. check if a placement is allowed\n",
    "    # by the looks. Does some of the filling in of cells too\n",
    "    \n",
    "    def not_possible(self,row,col,next_num,fixed):\n",
    "        #check the looks for the outside columns\n",
    "        if row == 0 and next_num != self.top[col] and self.top[col] != 0: \n",
    "            return True\n",
    "        if col == 0 and next_num != self.lhs[row] and self.lhs[row] != 0: \n",
    "            return True\n",
    "        if row == 7 and next_num != self.bot[col] and self.bot[col] != 0: \n",
    "            return True\n",
    "        if col == 7 and next_num != self.rhs[row] and self.rhs[row] != 0: \n",
    "            return True\n",
    "\n",
    "        # don't place a number that is in the looks in a different row/column \n",
    "        if next_num in self.top and col not in np.where(self.top ==next_num): \n",
    "            return True\n",
    "        if next_num in self.rhs and row not in np.where(self.rhs ==next_num): \n",
    "            return True\n",
    "        if next_num in self.bot and col not in np.where(self.bot ==next_num): \n",
    "            return True\n",
    "        if next_num in self.lhs and row not in np.where(self.lhs ==next_num): \n",
    "            return True\n",
    "    \n",
    "        # put in zeros when a number in looks is placed and check the look\n",
    "        if next_num in self.top:\n",
    "            for i in range(0,row):\n",
    "                if fixed[i,col] > 0: \n",
    "                    return True\n",
    "                fixed[i,col] = 0\n",
    "        if next_num in self.rhs:\n",
    "            for i in range(col+1,8):\n",
    "                if fixed[row,i] > 0: \n",
    "                    return True\n",
    "                fixed[row,i] = 0\n",
    "        if next_num in self.bot:\n",
    "            for i in range(row+1,8):\n",
    "                if fixed[i,col] > 0: \n",
    "                    return True\n",
    "                fixed[i,col] = 0\n",
    "        if next_num in self.lhs:\n",
    "            for i in range(0,col):\n",
    "                if fixed[row,i] > 0: \n",
    "                    return True\n",
    "                fixed[row,i] = 0\n",
    "        return False\n",
    "        \n",
    "    #########################################\n",
    "    # 2 functions define the moves and do a \n",
    "    # final check\n",
    "        \n",
    "    def poss_moves(self,row,col):\n",
    "        # return the possible moves for a given cell\n",
    "        moves = []\n",
    "        for i in range(8):\n",
    "            new_row = row+self.x[i]\n",
    "            new_col = col+self.y[i]\n",
    "\n",
    "            if (new_row > -1) & (new_row <8) & (new_col > -1) & (new_col <8):\n",
    "                moves.append([new_row,new_col])\n",
    "        return moves          \n",
    "        \n",
    "    def final_check(self,grid):\n",
    "        # check all the looks one last time\n",
    "        for i in range(8):\n",
    "            row = grid[i,:]\n",
    "            col = grid[:,i]\n",
    "            row = row[row>0]\n",
    "            col = col[col>0]\n",
    "        \n",
    "            if len(row) > 0:\n",
    "                if row[0]  != self.lhs[i] & self.lhs[i] != 0:\n",
    "                    return False\n",
    "                if row[-1] != self.rhs[i]& self.rhs[i] != 0:\n",
    "                    return False\n",
    "            \n",
    "            if len(col) > 0:\n",
    "                if col[0]  != self.top[i] & self.top[i] != 0:\n",
    "                    return False\n",
    "                if col[-1] != self.bot[i] & self.bot[i] != 0:\n",
    "                    return False\n",
    "        return True\n",
    "   \n",
    "    ##############################################\n",
    "    # Two last functions\n",
    "    # Get the products of the areas of the connected cells    \n",
    "    # Loop through and print the grids\n",
    "    def areas(self,grid):\n",
    "        labels, num = measurements.label(grid<1)\n",
    "        areas = measurements.sum(grid<1, labels, index=range(1, num+1))\n",
    "        return  int(np.prod(areas))\n",
    "    \n",
    "    def sol_print(self,solved_grids,limit):      \n",
    "        fig,ax = plt.subplots(1,3,figsize=(9,3))\n",
    "        count = 0\n",
    "        for solved in solved_grids:\n",
    "            score, grid, high_num = solved\n",
    "            if score != limit:\n",
    "                continue\n",
    "            x = np.array((grid).astype('int').astype('str'))\n",
    "            x[x==\"0\"] =\"-\"\n",
    "            x[x==\"-1\"] =\"-\"\n",
    "            y = grid > 0\n",
    "            ax[count] = sns.heatmap(y,annot=x,cbar=False,cmap=\"Reds\",fmt=\"\",linewidths=1,center=4,linecolor=\"grey\",ax=ax[count])\n",
    "            ax[count].axis(\"off\")\n",
    "            plt.tight_layout()\n",
    "            count += 1\n",
    "                         \n",
    "    ###############################################\n",
    "    # Main solver.  \n",
    "    def solve(self):\n",
    "        start = time.time()\n",
    "        solved_grids = [] \n",
    "        poss_grids = []\n",
    "        # first place the one and add the possible grids to a list\n",
    "        for i in range(8):\n",
    "            blank = np.ones((8,8))*-1\n",
    "            # the one must be in column 4 from the looks\n",
    "            blank[i,4] = 1\n",
    "            # the cells between 1 and the look must be zero \n",
    "            for k in range(i+1,8): \n",
    "                blank[k,4] = 0\n",
    "            poss_grids.append([0,blank,i,4,2]) # [score,the possible grid,current row,current col, next number]\n",
    "        \n",
    "        # then loop through the possible grids until there are none left unfinished\n",
    "        while len(poss_grids) > 0:\n",
    "            # loop through the potential grids and fill  \n",
    "            s,temp,current_row,current_column,next_num = poss_grids.pop()\n",
    "            no_more_moves = True\n",
    "            # loop through the moves for the current cell\n",
    "            for row,col in self.poss_moves(current_row,current_column):\n",
    "                #check the move is to an empty cell\n",
    "                if temp[row,col] == -1:\n",
    "                    # check the move does not violate the looks\n",
    "                    filled = dcopy(temp)\n",
    "                    if self.not_possible(row,col,next_num,filled): \n",
    "                        continue\n",
    "                    no_more_moves = False\n",
    "                    # place the next number and add it back into the possible grids\n",
    "                    filled[row,col] = next_num\n",
    "                    poss_grids.append([0,filled,row,col,next_num+1])\n",
    "                \n",
    "            # when no possible moves left add to the list of solved grids        \n",
    "            if no_more_moves and self.final_check(temp):\n",
    "                solved_grids.append([self.areas(temp),temp,next_num-1])\n",
    "\n",
    "        #print(\"There are {} Potential Grids: \".format(len(solved_grids)))\n",
    "\n",
    "        scores = []\n",
    "        for x in solved_grids:\n",
    "            score, grid, high_num = x\n",
    "            scores.append(score)\n",
    "        #print(scores)    \n",
    "        winner = np.min(scores)\n",
    "        stop = time.time()\n",
    "        print(\"***Solved in {:.4f} seconds***\".format(stop - start))\n",
    "        print(\"The best score is {}\".format(winner))\n",
    "        print(\"\\nSolved Grids\")\n",
    "        print(\"~~~~~~~~~~~~\")\n",
    "        self.sol_print(solved_grids,winner)"
   ]
  },
  {
   "cell_type": "code",
   "execution_count": 19,
   "metadata": {
    "colab": {
     "base_uri": "https://localhost:8080/",
     "height": 374
    },
    "id": "zexQ8t1kT1W3",
    "outputId": "7c2aec4e-d2fb-45d8-fc7e-679051faafed"
   },
   "outputs": [
    {
     "name": "stdout",
     "output_type": "stream",
     "text": [
      "***Solved in 0.0588 seconds***\n",
      "The best score is 144\n",
      "\n",
      "Solved Grids\n",
      "~~~~~~~~~~~~\n"
     ]
    },
    {
     "data": {
      "image/png": "[encoded data removed]",
      "text/plain": [
       "<Figure size 648x216 with 3 Axes>"
      ]
     },
     "metadata": {
      "needs_background": "light"
     },
     "output_type": "display_data"
    }
   ],
   "source": [
    "test = Matrix(top,rhs,bot,lhs)\n",
    "test.solve()"
   ]
  },
  {
   "cell_type": "code",
   "execution_count": 13,
   "metadata": {},
   "outputs": [
    {
     "name": "stdout",
     "output_type": "stream",
     "text": [
      "The lowest possible product of the areas of the empty regions is 144 , which can be achieved in a few ways. (One is shown.)\n"
     ]
    }
   ],
   "source": [
    "url='https://www.janestreet.com/puzzles/solutions/august-2019-solution/'\n",
    "res = requests.get(url)\n",
    "soup = BeautifulSoup(res.content, 'html.parser')\n",
    "x =[text for text in soup.body.stripped_strings]\n",
    "\n",
    "print(\" \".join(x[7:10]))"
   ]
  },
  {
   "cell_type": "markdown",
   "metadata": {
    "id": "ld_NFUIfT1W9"
   },
   "source": [
    "<img src=\"https://www.janestreet.com/puzzles/wp-content/uploads/2019/09/20190831_knight_moves_3_sol.png\" width=\"300\" >"
   ]
  },
  {
   "cell_type": "code",
   "execution_count": null,
   "metadata": {},
   "outputs": [],
   "source": []
  }
 ],
 "metadata": {
  "colab": {
   "include_colab_link": true,
   "name": "JaneSt-Feb18.ipynb",
   "provenance": []
  },
  "kernelspec": {
   "display_name": "Python 3",
   "language": "python",
   "name": "python3"
  },
  "language_info": {
   "codemirror_mode": {
    "name": "ipython",
    "version": 3
   },
   "file_extension": ".py",
   "mimetype": "text/x-python",
   "name": "python",
   "nbconvert_exporter": "python",
   "pygments_lexer": "ipython3",
   "version": "3.7.7"
  }
 },
 "nbformat": 4,
 "nbformat_minor": 4
}
