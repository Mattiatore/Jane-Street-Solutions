{
 "cells": [
  {
   "cell_type": "code",
   "execution_count": 2,
   "metadata": {
    "id": "Oq1xibzMT1Wl"
   },
   "outputs": [],
   "source": [
    "import numpy as np\n",
    "import pandas as pd\n",
    "import time\n",
    "import seaborn as sns\n",
    "import matplotlib.pyplot as plt\n",
    "import requests\n",
    "from bs4 import BeautifulSoup\n",
    "import itertools\n",
    "from copy import deepcopy as dcopy,copy\n",
    "import numba as nb"
   ]
  },
  {
   "cell_type": "markdown",
   "metadata": {
    "id": "U9Yh1D3HT1Ws"
   },
   "source": [
    "<img src=\"https://www.janestreet.com/puzzles/wp-content/uploads/2018/01/20180102_sudoku.png\" width=\"450\">"
   ]
  },
  {
   "cell_type": "code",
   "execution_count": 75,
   "metadata": {
    "id": "844RhDFpT1Wu"
   },
   "outputs": [],
   "source": [
    "# Setup the constraints\n",
    "fixed = np.array([[ 0, 0, 9, 0, 0, 9,49, 0, 0],\n",
    "                  [ 9, 0,25, 0, 0, 0,36, 0, 0],\n",
    "                  [49, 0, 0,36,16, 9, 0,81,25],\n",
    "                  [ 4,49, 0, 1, 0, 0, 9, 0,81],\n",
    "                  [ 0, 0,81, 0, 0, 0,16, 0, 0],\n",
    "                  [ 9, 0,64, 0, 0, 4, 0, 4, 6],\n",
    "                  [36,16, 0,16, 4,25, 0, 0,49],\n",
    "                  [ 0, 0,49, 0, 0, 0, 9, 0, 4],\n",
    "                  [ 0, 0,36,49, 0, 0,16, 0, 0]],dtype=int)"
   ]
  },
  {
   "cell_type": "code",
   "execution_count": 116,
   "metadata": {
    "id": "844RhDFpT1Wu"
   },
   "outputs": [],
   "source": [
    "class Matrix():\n",
    "    def __init__(self,fixed,filled = np.zeros((9,9),dtype=int)):\n",
    "        self.fixed = fixed\n",
    "        self.filled = filled\n",
    "        x= np.ones((3,3))\n",
    "        self.groups = np.block([[x*0,x*1,x*2],[x*3,x*4,x*5],[x*6,x*7,x*8]])\n",
    "        self.solution =[]\n",
    "        self.early_stop = 0\n",
    "  \n",
    "    ################################################\n",
    "    # Two functions. One to check if the remotes force\n",
    "    # the number and one to check if the cell forces\n",
    "    #Function to check if a digit can be placed in the given block\n",
    "    \n",
    "    @staticmethod\n",
    "    #@nb.njit\n",
    "    def possible(row,col,digit,grid,fixed):\n",
    "    \n",
    "        if digit in grid[row,:]:\n",
    "                return False\n",
    "        if digit in grid[:,col]:\n",
    "                return False\n",
    "\n",
    "        square_row = (row//3)*3\n",
    "        square_col = (col//3)*3\n",
    "        for i in range(0,3):\n",
    "            for j in range(0,3):\n",
    "                if grid[square_row+i,square_col+j] == digit:\n",
    "                    return False  \n",
    "        \n",
    "        #print(row,col,digit)\n",
    "        test_result = True\n",
    "        \n",
    "        if row-1 > -1:\n",
    "            \n",
    "            if fixed[row-1,col] !=0:\n",
    "                test_num = fixed[row-1,col]\n",
    "                neighbours = [-1,-1,-1,-1]\n",
    "                if row-2 >-1:\n",
    "                    neighbours[0] = grid[row-2,col] \n",
    "                if row <9:\n",
    "                    neighbours[1] = digit\n",
    "                if col-1 >-1:\n",
    "                    neighbours[2] = grid[row-1,col-1]\n",
    "                if col+1 <9:\n",
    "                    neighbours[3] = grid[row-1,col+1]\n",
    "                #print(neighbours)\n",
    "                if 0 not in neighbours:\n",
    "                    test_result = False\n",
    "                    for i in range(4):\n",
    "                        for j in range(i+1,4):\n",
    "                            if neighbours[i]* neighbours[j] == test_num:\n",
    "                                \n",
    "                                test_result = True\n",
    "            \n",
    "        if row+1 < 9:        \n",
    "                if fixed[row+1,col] !=0:\n",
    "                    test_num = fixed[row+1,col]\n",
    "                    neighbours = [-1,-1,-1,-1]\n",
    "                    if row >-1:\n",
    "                        neighbours[0] = digit\n",
    "                    if row +2 <9:\n",
    "                        neighbours[1] = grid[row+2,col] \n",
    "                    if col-1 >-1:\n",
    "                        neighbours[2] = grid[row+1,col-1]\n",
    "                    if col+1 <9:\n",
    "                        neighbours[3] = grid[row+1,col+1]\n",
    "        \n",
    "                    if 0 not in neighbours:\n",
    "                        test_result = False\n",
    "                        for i in range(4):\n",
    "                            for j in range(i+1,4):\n",
    "                                if neighbours[i]* neighbours[j] == test_num:\n",
    "                                    test_result = True\n",
    "            \n",
    "        if col -1 > -1:        \n",
    "            if fixed[row,col-1] !=0:\n",
    "                #print(\"check\",fixed[row,col-1])\n",
    "                test_num = fixed[row,col-1]\n",
    "                neighbours = [-1,-1,-1,-1]\n",
    "                if row-1 >-1:\n",
    "                    neighbours[0] = grid[row-1,col-1] \n",
    "                if row +1 <9:\n",
    "                    neighbours[1] = grid[row+1,col-1] \n",
    "                if col-1 >-1:\n",
    "                    neighbours[2] = grid[row,col-2]\n",
    "                if col <9:\n",
    "                    neighbours[3] = digit\n",
    "                #print(neighbours)\n",
    "                if 0 not in neighbours:\n",
    "                    test_result = False\n",
    "                    for i in range(4):\n",
    "                        for j in range(i+1,4):\n",
    "                            if neighbours[i]* neighbours[j] == test_num:\n",
    "                                test_result = True\n",
    "                                \n",
    "        if col +1 < 9:        \n",
    "            if fixed[row,col+1] !=0:\n",
    "                test_num = fixed[row,col+1]\n",
    "                neighbours = [-1,-1,-1,-1]\n",
    "                if row-1 >-1:\n",
    "                    neighbours[0] = grid[row-1,col+1] \n",
    "                if row +1 <9:\n",
    "                    neighbours[1] = grid[row+1,col+1] \n",
    "                if col >-1:\n",
    "                    neighbours[2] = digit\n",
    "                if col+2 <9:\n",
    "                    neighbours[3] = grid[row,col+2]\n",
    "        \n",
    "                if 0 not in neighbours:\n",
    "                    test_result = False\n",
    "                    for i in range(4):\n",
    "                        for j in range(i+1,4):\n",
    "                            if neighbours[i]* neighbours[j] == test_num:\n",
    "                                test_result = True\n",
    "    \n",
    "        return test_result\n",
    "\n",
    "    def backtrack(self):\n",
    "        if self.early_stop ==0:\n",
    "            for row,col in itertools.product(range(8,-1,-1),range(8,-1,-1)):\n",
    "                if self.filled[row,col] == 0:\n",
    "                    for digit in range(1,10):\n",
    "                        if self.possible(row,col,digit,self.filled,self.fixed):\n",
    "                            self.filled[row,col] = digit\n",
    "                            self.backtrack()\n",
    "                            self.filled[row,col] = 0  #Backtrack step\n",
    "                    return\n",
    "            #print(self.filled)\n",
    "            self.early_stop = 1      \n",
    "            self.solution = dcopy(self.filled)\n",
    "        \n",
    "   \n",
    "    ##############################################\n",
    "    # Two more functions\n",
    "    # From the solved grid get the score  \n",
    "    # Loop through and print the grids\n",
    "    \n",
    "    def score(self):\n",
    "        return  np.sum((self.solution[self.fixed!=0]**2))\n",
    "    \n",
    "    def sol_print(self):      \n",
    "        fig,ax = plt.subplots(1,2,figsize=(8,4))\n",
    "        count = 0\n",
    "        x = np.array(self.solution.astype('int').astype('str'))\n",
    "        x[x==\"0\"] =\"-\"\n",
    "        y = (self.fixed > 0) + self.groups*2\n",
    "        ax[0] = sns.heatmap(y,annot=x,cbar=False,cmap=\"tab20\",fmt=\"\",vmin=0,vmax=19,linewidths=1,annot_kws={\"size\":16},ax=ax[0])\n",
    "        ax[0].axis(\"off\")\n",
    "        x1 = np.array(self.fixed.astype('int').astype('str'))\n",
    "        x1[x1==\"0\"] =\"-\"\n",
    "        y1 = (self.fixed > 0) \n",
    "        \n",
    "        ax[1] = sns.heatmap(y1,annot=x1,cbar=False,cmap=\"Greys\",fmt=\"\",vmin=0,vmax=5,linewidths=1,annot_kws={\"size\":16},ax=ax[1])\n",
    "        ax[1].axis(\"off\")\n",
    "        plt.tight_layout()\n",
    "   \n",
    "                         \n",
    "    ###############################################\n",
    "    # Main solver.  \n",
    "    def solve(self):\n",
    "        start = time.perf_counter()\n",
    "        self.backtrack()\n",
    "        stop = time.perf_counter()\n",
    "        print(\"***Solved in {:.4f} seconds***\".format(stop - start))\n",
    "        #print(\"The sum of the squares of the numbers  is {:,.0f}\".format(self.score()))\n",
    "        #print(\"Still unsolved\",np.sum(self.filled==0))\n",
    "        print(\"\\nSolved Grid\")\n",
    "        print(\"~~~~~~~~~~~~\")\n",
    "        self.sol_print()\n",
    "        "
   ]
  },
  {
   "cell_type": "code",
   "execution_count": 117,
   "metadata": {
    "colab": {
     "base_uri": "https://localhost:8080/",
     "height": 374
    },
    "id": "zexQ8t1kT1W3",
    "outputId": "7c2aec4e-d2fb-45d8-fc7e-679051faafed"
   },
   "outputs": [
    {
     "name": "stdout",
     "output_type": "stream",
     "text": [
      "***Solved in 42.8884 seconds***\n",
      "\n",
      "Solved Grid\n",
      "~~~~~~~~~~~~\n"
     ]
    },
    {
     "data": {
      "image/png": "[encoded data removed]",
      "text/plain": [
       "<Figure size 576x288 with 2 Axes>"
      ]
     },
     "metadata": {
      "needs_background": "light"
     },
     "output_type": "display_data"
    }
   ],
   "source": [
    "test= np.array([[9,4,5,3,2,7,1,6,8],\n",
    "                   [8,1,3,5,6,9,7,4,2],\n",
    "                   [2,7,6,1,8,4,3,5,9],\n",
    "                   [0,0,0,0,0,0,0,0,0],\n",
    "                   [0,0,0,0,0,0,0,0,0],\n",
    "                   [0,0,0,0,0,0,0,0,0],\n",
    "                   [0,0,0,0,0,0,0,0,0],\n",
    "                   [0,0,0,0,0,0,0,0,0],\n",
    "                   [0,0,0,0,0,0,0,0,0]] \n",
    "                  ,dtype=int)\n",
    "\n",
    "\n",
    "test = Matrix(fixed,test)\n",
    "test.solve()\n"
   ]
  },
  {
   "cell_type": "code",
   "execution_count": 101,
   "metadata": {},
   "outputs": [
    {
     "name": "stdout",
     "output_type": "stream",
     "text": [
      "The completed grid is shown to the left, and the sum of the squares of the numbers written over the grey clue values is 1146 .\n"
     ]
    }
   ],
   "source": [
    "url='https://www.janestreet.com/puzzles/solutions/january-2018-solution/'\n",
    "res = requests.get(url)\n",
    "soup = BeautifulSoup(res.content, 'html.parser')\n",
    "x =[text for text in soup.body.stripped_strings]\n",
    "\n",
    "print(\" \".join(x[7:10]))"
   ]
  },
  {
   "cell_type": "markdown",
   "metadata": {
    "id": "ld_NFUIfT1W9"
   },
   "source": [
    "<img src=\"https://www.janestreet.com/puzzles/wp-content/uploads/2018/02/20180201_sudoku_ans.png\" width=\"250\" >"
   ]
  },
  {
   "cell_type": "code",
   "execution_count": 50,
   "metadata": {},
   "outputs": [],
   "source": [
    "correct= np.array([[9,4,5,3,2,7,1,6,8],\n",
    "                   [8,1,3,5,6,9,7,4,2],\n",
    "                   [2,7,6,1,8,4,3,5,9],\n",
    "                   [7,2,1,6,4,3,8,9,5],\n",
    "                   [4,5,8,9,7,2,6,1,3],\n",
    "                   [6,3,9,8,1,5,4,2,7],\n",
    "                   [3,6,2,4,5,8,9,7,1],\n",
    "                   [5,8,4,7,9,1,2,3,6],\n",
    "                   [1,9,7,2,3,6,5,8,4]] \n",
    "                  ,dtype=int)"
   ]
  },
  {
   "cell_type": "code",
   "execution_count": null,
   "metadata": {},
   "outputs": [],
   "source": []
  }
 ],
 "metadata": {
  "colab": {
   "include_colab_link": true,
   "name": "JaneSt-Feb18.ipynb",
   "provenance": []
  },
  "kernelspec": {
   "display_name": "Python 3",
   "language": "python",
   "name": "python3"
  },
  "language_info": {
   "codemirror_mode": {
    "name": "ipython",
    "version": 3
   },
   "file_extension": ".py",
   "mimetype": "text/x-python",
   "name": "python",
   "nbconvert_exporter": "python",
   "pygments_lexer": "ipython3",
   "version": "3.7.7"
  }
 },
 "nbformat": 4,
 "nbformat_minor": 4
}
