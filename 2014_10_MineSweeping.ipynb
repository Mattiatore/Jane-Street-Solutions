{
 "cells": [
  {
   "cell_type": "code",
   "execution_count": 53,
   "id": "ae5b1ac4",
   "metadata": {},
   "outputs": [],
   "source": [
    "import time\n",
    "import seaborn as sns\n",
    "import matplotlib.pyplot as plt\n",
    "import pandas as pd\n",
    "import numpy as np\n",
    "from fractions import Fraction\n",
    "from matplotlib.colors import ListedColormap\n",
    "\n",
    "import numba as nb\n",
    "import requests\n",
    "from bs4 import BeautifulSoup\n",
    "from IPython.display import Markdown, display\n",
    "\n",
    "import itertools\n"
   ]
  },
  {
   "cell_type": "code",
   "execution_count": 158,
   "id": "f16df5b9",
   "metadata": {},
   "outputs": [
    {
     "data": {
      "text/markdown": [
       "### Minesweeping\n",
       "\n",
       "The game\n",
       "minesweeper\n",
       "begins with a grid of un-revealed squares. Some squares contain mines beneath\n",
       "them, and the rest do not. If a square does not contain a mine, then that square\n",
       "will contain a number equal to the number of mines that square borders, even\n",
       "diagonally. Once the board is fully-revealed, every square will contain either a\n",
       "mine or a number. See Figure 1 for an example of a\n",
       "fully-revealed 3×3 minesweeper board, and Figure 2 for an example of a\n",
       "partially-revealed 3×4 minesweeper board.\n",
       "This month’s puzzle: Consider a partially-revealed minesweeper board. For a\n",
       "given unrevealed square S, let P(S) be the probability that S contains a mine,\n",
       "assuming that all possible solutions for the partially-revealed board are\n",
       "equally likely. Design your own partially-revealed\n",
       "4x4\n",
       "minesweeper board, trying\n",
       "to maximize the value of P(S) for the square of your choice, while keeping P(S)\n",
       "less than 1\n",
       ".\n",
       "For your submission, please submit your P and also your minesweeper grid, using\n",
       "dashes and numbers for each row, as in the example submission under Figure 2."
      ],
      "text/plain": [
       "<IPython.core.display.Markdown object>"
      ]
     },
     "metadata": {},
     "output_type": "display_data"
    }
   ],
   "source": [
    "url='https://www.janestreet.com/puzzles/minesweeping-index/'\n",
    "res = requests.get(url)\n",
    "soup = BeautifulSoup(res.content, 'html.parser')\n",
    "y =[text for text in soup.body.stripped_strings]\n",
    "#display([(i,j) for i,j in enumerate(y)])\n",
    "display(Markdown(\"### \"+y[7]+\"\\n\\n\"+str(\"\\n\".join(y[10:19]))))"
   ]
  },
  {
   "cell_type": "markdown",
   "id": "6b4ffd12",
   "metadata": {},
   "source": [
    "<img src=\"https://www.janestreet.com/puzzles/Oct14_Examples2.png\" width=600>"
   ]
  },
  {
   "cell_type": "code",
   "execution_count": 167,
   "id": "d0b2e922",
   "metadata": {},
   "outputs": [],
   "source": [
    "@nb.njit  \n",
    "def neighbours(grid, i, j):\n",
    "    (rows,cols) = grid.shape\n",
    "    l=0\n",
    "    for x in [-1,0,1]:\n",
    "        for y in [-1,0,1]:\n",
    "            if (x,y) !=(0,0) and i+x >= 0 and i+x < rows and j+y >= 0 and j+y < cols:\n",
    "                l += grid[i+x,j+y]\n",
    "    return l\n",
    "    \n",
    "@nb.njit   \n",
    "def fits_grid(mines,grid):\n",
    "    x,y =mines.shape\n",
    "    for i in range(x):\n",
    "        for j in range(y):\n",
    "            if grid[i,j] != -1:\n",
    "                if neighbours(mines,i,j) != grid[i,j]:\n",
    "                    return False\n",
    "                if mines[i,j] == 1:\n",
    "                    return False\n",
    "            \n",
    "    return True "
   ]
  },
  {
   "cell_type": "code",
   "execution_count": 168,
   "id": "9028b412",
   "metadata": {},
   "outputs": [],
   "source": [
    "def find_probs(test):\n",
    "    a,b = test.shape\n",
    "    possibilities = [np.array(i,dtype=int).reshape(a,b) for i in itertools.product(range(2), repeat=a*b)]\n",
    "    out = [i for i in possibilities if fits_grid(i,test) ]\n",
    "    numerator = np.sum(out,axis=0)\n",
    "    denominator = len(out)\n",
    "    return np.array([[Fraction(numerator[i,j],denominator) for j in range(numerator.shape[1])] \n",
    "                     for i in range(numerator.shape[0])])\n",
    "\n",
    "def solver(grid):\n",
    "    soln= find_probs(grid)\n",
    "    x = np.array((soln).astype('str'))\n",
    "    fig,ax = plt.subplots(1,1,figsize=(x.shape[0],x.shape[1]))\n",
    "    m = np.zeros((x.shape[0],x.shape[1]))\n",
    "    m[grid==-1] = 1\n",
    "    m[np.array(soln) == np.max(soln)] = 2\n",
    "    x[grid != -1]= grid[grid != -1]\n",
    "    ax= sns.heatmap(m,annot=x,cbar=False,cmap=ListedColormap([\"grey\",\"w\",\"yellow\"]),fmt=\"\",linewidths=1,linecolor=\"k\",annot_kws={\"fontsize\":14})\n",
    "    ax.axis(\"off\")\n",
    "    plt.tight_layout()\n",
    "    plt.show()\n",
    "    return np.max(soln)"
   ]
  },
  {
   "cell_type": "code",
   "execution_count": 228,
   "id": "e3e6e7f7",
   "metadata": {},
   "outputs": [
    {
     "data": {
      "image/png": "[encoded data removed]",
      "text/plain": [
       "<Figure size 288x288 with 1 Axes>"
      ]
     },
     "metadata": {
      "needs_background": "light"
     },
     "output_type": "display_data"
    },
    {
     "name": "stdout",
     "output_type": "stream",
     "text": [
      "The solution is: 38/39 (0.9744)\n",
      "\n",
      "Took 0.2294 secs\n"
     ]
    }
   ],
   "source": [
    "#the trick is to have neighbours in he most possible cells without forcing any to be 1\n",
    "# the 6-6 solution is easy to find (7-7 would force 1s) but doesn't cover 2 of the corner cells\n",
    "# putting 2s in corners doesn't help so 4s on edges looks like a good strategy\n",
    "\n",
    "test =np.array([[-1,-1,-1,-1],\n",
    "                [-1,4 ,-1,-1],\n",
    "                [-1,-1,-1, 4],\n",
    "                [-1,4,-1,-1]])\n",
    "\n",
    "start=time.time()\n",
    "soln =solver(test)\n",
    "print(\"The solution is: {} ({:.4f})\".format(soln,soln.numerator/soln.denominator))\n",
    "print(\"\\nTook {:,.4f} secs\".format(time.time()-start))"
   ]
  },
  {
   "cell_type": "code",
   "execution_count": 171,
   "id": "fc7e7312",
   "metadata": {},
   "outputs": [
    {
     "data": {
      "text/markdown": [
       "### October 2014 : Solution\n",
       "\n"
      ],
      "text/plain": [
       "<IPython.core.display.Markdown object>"
      ]
     },
     "metadata": {},
     "output_type": "display_data"
    }
   ],
   "source": [
    "url='https://www.janestreet.com/puzzles/minesweeping-solution/'\n",
    "res = requests.get(url)\n",
    "soup = BeautifulSoup(res.content, 'html.parser')\n",
    "y =[text for text in soup.body.stripped_strings]\n",
    "#display([(i,j) for i,j in enumerate(y)])\n",
    "display(Markdown(\"### \"+y[8]+\"\\n\\n\"+str(\"\".join(y[10:1]))))"
   ]
  },
  {
   "cell_type": "markdown",
   "id": "03eb2f4e",
   "metadata": {},
   "source": [
    "<img src=\"https://www.janestreet.com/puzzles/Oct14_solution.png\" width=300>"
   ]
  },
  {
   "cell_type": "code",
   "execution_count": 209,
   "id": "5b00391b",
   "metadata": {},
   "outputs": [
    {
     "data": {
      "text/plain": [
       "0.9629629629629629"
      ]
     },
     "execution_count": 209,
     "metadata": {},
     "output_type": "execute_result"
    }
   ],
   "source": [
    "26/27"
   ]
  },
  {
   "cell_type": "code",
   "execution_count": null,
   "id": "aaa852a3",
   "metadata": {},
   "outputs": [],
   "source": []
  }
 ],
 "metadata": {
  "kernelspec": {
   "display_name": "Python 3",
   "language": "python",
   "name": "python3"
  },
  "language_info": {
   "codemirror_mode": {
    "name": "ipython",
    "version": 3
   },
   "file_extension": ".py",
   "mimetype": "text/x-python",
   "name": "python",
   "nbconvert_exporter": "python",
   "pygments_lexer": "ipython3",
   "version": "3.7.10"
  }
 },
 "nbformat": 4,
 "nbformat_minor": 5
}
