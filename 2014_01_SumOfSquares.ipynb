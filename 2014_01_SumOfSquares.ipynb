{
 "cells": [
  {
   "cell_type": "code",
   "execution_count": 1,
   "metadata": {},
   "outputs": [],
   "source": [
    "import pulp\n",
    "import numpy as np\n",
    "import time\n",
    "import seaborn as sns\n",
    "import matplotlib.pyplot as plt\n",
    "import requests\n",
    "from bs4 import BeautifulSoup\n"
   ]
  },
  {
   "cell_type": "code",
   "execution_count": 2,
   "metadata": {},
   "outputs": [
    {
     "name": "stdout",
     "output_type": "stream",
     "text": [
      "Puzzle\n",
      "~~~~~~\n",
      "Place a digit in each of the 25 spots in the below 5×5 grid, so that each 5-digit number (leading zeroes are ok) reading across and reading down is divisible by the number outside the grid, trying to maximize the sum of the 25 numbers you enter. An example of a completed grid with sum 100 is presented on the right. Please submit your answer (along with any other comments you want to provide) as an ordered pair of your sum, and your 25 numbers, reading left to right, top to bottom.\n"
     ]
    }
   ],
   "source": [
    "# Back to the first problem. Linear programming not backtracking for once !\n",
    "url='https://www.janestreet.com/puzzles/january-2014-2/'\n",
    "res = requests.get(url)\n",
    "soup = BeautifulSoup(res.content, 'html.parser')\n",
    "y =[text for text in soup.body.stripped_strings]\n",
    "print(\"Puzzle\")\n",
    "print(\"~~~~~~\")\n",
    "print(\" \".join(y[8:10]))"
   ]
  },
  {
   "cell_type": "markdown",
   "metadata": {},
   "source": [
    "### Puzzle details\n",
    "<img src=\"https://www.janestreet.com/puzzles/wp-content/uploads/2014/01/niedermaier1.png\" width=\"300\" >\n"
   ]
  },
  {
   "cell_type": "code",
   "execution_count": 3,
   "metadata": {},
   "outputs": [
    {
     "name": "stdout",
     "output_type": "stream",
     "text": [
      "Solving ...\n",
      "Solution took 0.0265 seconds\n",
      "\n",
      "Sum is 205\n",
      "\n"
     ]
    },
    {
     "data": {
      "image/png": "[encoded data removed]",
      "text/plain": [
       "<Figure size 288x288 with 1 Axes>"
      ]
     },
     "metadata": {
      "needs_background": "light"
     },
     "output_type": "display_data"
    }
   ],
   "source": [
    "####################################################\n",
    "# Set up problem,variables and objective function  #\n",
    "####################################################\n",
    "\n",
    "# list 1-5\n",
    "nums = np.arange(1, 6)\n",
    "\n",
    "# set up the problem as a maximisation\n",
    "problem = pulp.LpProblem('SunOfSquares', pulp.LpMaximize)\n",
    "\n",
    "# set up the various cells as a dictionary of variables\n",
    "x = pulp.LpVariable.dicts('x', [(row, col) for row in nums for col in nums], lowBound = 0, upBound = 9, cat = 'Integer') \n",
    "\n",
    "#set up the objective function (sum of all variables)\n",
    "problem += (pulp.lpSum([x[(row, col)] for row in nums for col in nums]))\n",
    "\n",
    "#######################\n",
    "# Set up constraints  #\n",
    "#######################\n",
    "\n",
    "# Row 2 is divisible by 2 - the last number is divisible by 2. \n",
    "# so x - (one of range 0-4) *2 = 0\n",
    "check2 = pulp.LpVariable(\"check2\", lowBound = 0, upBound = 9//2, cat = 'Integer')\n",
    "problem += x[(2, 5)] - (2 * check2) == 0\n",
    "\n",
    "# Row 3 is divisible by 3  - sum of numbers is divisible by 3 (5*9 = 45 /3 ... so 15)\n",
    "check3 =  pulp.LpVariable(\"check3\", lowBound = 0, upBound = 45//3, cat = 'Integer')\n",
    "problem += pulp.lpSum([x[(3, col)] for col in nums]) - (3 * check3) == 0 \n",
    "\n",
    "# Row 4 is divisible by 4  -  last 2 numbers are divisible by 4 (98/4 =24)\n",
    "check4 =  pulp.LpVariable(\"check4\", lowBound = 0, upBound = 99//4, cat = 'Integer')\n",
    "problem += pulp.lpSum(10 * x[4,4] + x[4,5]) - (4 * check4) == 0 \n",
    "\n",
    "# Row 5 is divisible by 5  -  last number is divisible by 5\n",
    "check5 =  pulp.LpVariable(\"check5\", lowBound = 0, upBound = 1, cat = 'Integer')\n",
    "problem += x[(5, 5)] - (5 * check5) == 0 \n",
    "\n",
    "# Column 1 is divisible by 6 - 2 check and 3 check\n",
    "check6_2 = pulp.LpVariable(\"check6_2\", lowBound = 0, upBound = 4, cat = 'Integer')\n",
    "problem += x[(5, 1)] - (2 * check6_2) == 0 \n",
    "\n",
    "check6_3 =  pulp.LpVariable(\"check6_3\", lowBound = 0, upBound = 45//3, cat = 'Integer')\n",
    "problem += pulp.lpSum([x[(row, 1)] for row in nums]) - (3 * check6_3) == 0 \n",
    "\n",
    "# Column 2 is divisible by 7 ... brute force (all possible)\n",
    "check7 =  pulp.LpVariable(\"check7\", lowBound = 0, upBound = 99999//7, cat = 'Integer')\n",
    "problem += pulp.lpSum([10 ** (5 - row) * x[(row, 2)] for row in nums]) - (7 * check7) == 0 \n",
    "\n",
    "#Column 3 is divisible by 8 - last 3 numbers are divisible by 8\n",
    "check8 =  pulp.LpVariable(\"check8\", lowBound = 0, upBound = 999//8, cat = 'Integer')\n",
    "problem += pulp.lpSum([100 * x[(3,3)]+10 *x[(4,3)]+ x[(5,3)]]) - (8 * check8) == 0 \n",
    "\n",
    "#Column 4 is divisible by 9 - sum of numbers is divisible by 9\n",
    "check9 =  pulp.LpVariable(\"check9\", lowBound = 0, upBound = 45//9, cat = 'Integer')\n",
    "problem += pulp.lpSum([x[(row, 4)] for row in nums]) - (9 * check9) == 0 \n",
    "\n",
    "#Column 5 is divisible by 10 => last number is zero\n",
    "problem += x[(5, 5)] == 0 \n",
    "\n",
    "#####################\n",
    "# Solve the problem #\n",
    "#####################\n",
    "\n",
    "start = time.perf_counter()\n",
    "print(\"Solving ...\")\n",
    "problem.solve()\n",
    "stop = time.perf_counter()\n",
    "print('Solution took {:0.4f} seconds'.format((stop-start)))\n",
    "\n",
    "###################\n",
    "# Print Solution  #\n",
    "###################\n",
    "\n",
    "solution = np.zeros((5,5),dtype=int)\n",
    "\n",
    "for row in nums:\n",
    "    for col in nums:\n",
    "        solution[row - 1,col - 1] = int(x[(row, col)].varValue)\n",
    "\n",
    "print(\"\\nSum is {}\\n\".format(np.sum(solution)))\n",
    "        \n",
    "def sol_print(solved):\n",
    "    fig,ax = plt.subplots(1,1,figsize=(4,4))\n",
    "    x = np.array((solved).astype('int').astype('str'))\n",
    "    y = np.ones((5,5))\n",
    "    ax = sns.heatmap(y,annot=x,cbar=False,cmap=\"Reds\",fmt=\"\",linewidths=1,center=4,linecolor=\"grey\",xticklabels=[6,7,8,9,10], yticklabels=[1,2,3,4,5],\n",
    "                     annot_kws={\"fontsize\":18,\"weight\":\"bold\",\"color\":'b'})\n",
    "    ax.tick_params(left=False, bottom=False,labelleft=False, labelright=True)\n",
    "    plt.xticks(rotation=0,fontweight ='demi',fontsize =14)\n",
    "    plt.yticks(rotation=0,fontweight ='demi',fontsize =14)\n",
    "    plt.tight_layout()\n",
    "        \n",
    "        \n",
    "sol_print(solution)"
   ]
  },
  {
   "cell_type": "code",
   "execution_count": 4,
   "metadata": {},
   "outputs": [
    {
     "name": "stdout",
     "output_type": "stream",
     "text": [
      "Solution\n",
      "~~~~~~~~\n",
      "The best solutions we received had a sum of 205; there were 3 entrants who managed to reach that total.   Congratulations to Tomas Vaškevičius for being randomly selected to win a Jane Street t-shirt!   His submission appears here.\n"
     ]
    }
   ],
   "source": [
    "url='https://www.janestreet.com/puzzles/solutions/january-2014-solution/'\n",
    "res = requests.get(url)\n",
    "soup = BeautifulSoup(res.content, 'html.parser')\n",
    "x =[text for text in soup.body.stripped_strings]\n",
    "\n",
    "print(\"Solution\")\n",
    "print(\"~~~~~~~~\")\n",
    "print(\" \".join(x[7:8]))"
   ]
  },
  {
   "cell_type": "markdown",
   "metadata": {},
   "source": [
    "### Solution\n",
    "<img src=\"https://www.janestreet.com/puzzles/wp-content/uploads/2014/09/Jan14_Solution.png\" width=\"600\">\n"
   ]
  },
  {
   "cell_type": "code",
   "execution_count": null,
   "metadata": {},
   "outputs": [],
   "source": []
  }
 ],
 "metadata": {
  "kernelspec": {
   "display_name": "Python 3",
   "language": "python",
   "name": "python3"
  },
  "language_info": {
   "codemirror_mode": {
    "name": "ipython",
    "version": 3
   },
   "file_extension": ".py",
   "mimetype": "text/x-python",
   "name": "python",
   "nbconvert_exporter": "python",
   "pygments_lexer": "ipython3",
   "version": "3.7.7"
  }
 },
 "nbformat": 4,
 "nbformat_minor": 4
}
