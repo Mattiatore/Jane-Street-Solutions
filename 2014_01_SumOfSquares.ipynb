{
 "cells": [
  {
   "cell_type": "code",
   "execution_count": 1,
   "metadata": {
    "id": "Oq1xibzMT1Wl"
   },
   "outputs": [],
   "source": [
    "import numpy as np\n",
    "import pandas as pd\n",
    "import time\n",
    "import seaborn as sns\n",
    "import matplotlib.pyplot as plt\n",
    "import requests\n",
    "from bs4 import BeautifulSoup\n",
    "import itertools\n",
    "from z3 import *"
   ]
  },
  {
   "cell_type": "code",
   "execution_count": 5,
   "metadata": {
    "id": "ICTfvjZUT1Wr"
   },
   "outputs": [
    {
     "name": "stdout",
     "output_type": "stream",
     "text": [
      "Puzzle\n",
      "~~~~~~\n",
      "Place a digit in each of the 25 spots in the below 5×5 grid, so that each 5-digit number (leading zeroes are ok) reading across and reading down is divisible by the number outside the grid, trying to maximize the sum of the 25 numbers you enter. An example of a completed grid with sum 100 is presented on the right. Please submit your answer (along with any other comments you want to provide) as an ordered pair of your sum, and your 25 numbers, reading left to right, top to bottom.\n"
     ]
    }
   ],
   "source": [
    "# Back to the first problem. Redoing withh Z3\n",
    "url='https://www.janestreet.com/puzzles/january-2014-2/'\n",
    "res = requests.get(url)\n",
    "soup = BeautifulSoup(res.content, 'html.parser')\n",
    "y =[text for text in soup.body.stripped_strings]\n",
    "print(\"Puzzle\")\n",
    "print(\"~~~~~~\")\n",
    "print(\" \".join(y[8:10]))"
   ]
  },
  {
   "cell_type": "markdown",
   "metadata": {
    "id": "U9Yh1D3HT1Ws"
   },
   "source": [
    "### Puzzle details\n",
    "<img src=\"https://www.janestreet.com/puzzles/niedermaier1.png\" width=\"350\" >\n"
   ]
  },
  {
   "cell_type": "code",
   "execution_count": 14,
   "metadata": {
    "id": "844RhDFpT1Wu"
   },
   "outputs": [
    {
     "name": "stdout",
     "output_type": "stream",
     "text": [
      "Solved in 0.7521 seconds\n"
     ]
    },
    {
     "data": {
      "image/png": "[encoded data removed]",
      "text/plain": [
       "<Figure size 216x216 with 1 Axes>"
      ]
     },
     "metadata": {
      "needs_background": "light"
     },
     "output_type": "display_data"
    },
    {
     "name": "stdout",
     "output_type": "stream",
     "text": [
      "Sum is : 205\n"
     ]
    }
   ],
   "source": [
    "start = time.time()\n",
    "\n",
    "######################################################\n",
    "# Setup # 5x5 matrix of integer variables and solver #\n",
    "######################################################\n",
    "X = [[Int(\"x_%s_%s\" % (i+1, j+1)) for j in range(5) ] for i in range(5)]\n",
    "\n",
    "# Model\n",
    "s = Optimize()\n",
    "s.maximize(Sum([Sum([X[i][j] for j in range(5)]) for i in range(5)]))\n",
    "\n",
    "# each cell contains a value in {0, ..., 9}\n",
    "s += [And(0 <= X[i][j], X[i][j] <= 9) for i in range(5) for j in range(5)]\n",
    "\n",
    "# Rows\n",
    "s += Sum([X[1][i] *10**(4-i)  for i in range(5) ]) %  2 == 0\n",
    "s += Sum([X[2][i] *10**(4-i)  for i in range(5) ]) %  3 == 0\n",
    "s += Sum([X[3][i] *10**(4-i)  for i in range(5) ]) %  4 == 0\n",
    "s += Sum([X[4][i] *10**(4-i)  for i in range(5) ]) %  5 == 0\n",
    "\n",
    "# Cols\n",
    "s += Sum([X[i][0] *10**(4-i)  for i in range(5) ]) %  6 == 0\n",
    "s += Sum([X[i][1] *10**(4-i)  for i in range(5) ]) %  7 == 0\n",
    "s += Sum([X[i][2] *10**(4-i)  for i in range(5) ]) %  8 == 0\n",
    "s += Sum([X[i][3] *10**(4-i)  for i in range(5) ]) %  9 == 0\n",
    "s += Sum([X[i][4] *10**(4-i)  for i in range(5) ]) % 10 == 0\n",
    "\n",
    "\n",
    "###################\n",
    "# Solve and print #\n",
    "###################\n",
    "if s.check() == sat:\n",
    "    m = s.model()\n",
    "    r = [[ m.evaluate(X[i][j]).as_long() for j in range(5) ] for i in range(5)]\n",
    "else:\n",
    "    print(\"Failed\")\n",
    "    \n",
    "stop = time.time()\n",
    "print(\"Solved in {:.4f} seconds\".format(stop-start))\n",
    "fig,ax = plt.subplots(1,1,figsize=(3,3))\n",
    "y = np.ones((5,5))\n",
    "ax = sns.heatmap(y,annot=r,cbar=False,cmap=\"Reds\",fmt=\"\",linewidths=1,center=4,linecolor=\"grey\",xticklabels=[6,7,8,9,10], yticklabels=[1,2,3,4,5],\n",
    "                     annot_kws={\"fontsize\":16,\"weight\":\"bold\",\"color\":'b'})\n",
    "ax.tick_params(left=False, bottom=False,labelleft=False, labelright=True)\n",
    "plt.xticks(rotation=0,fontsize =12)\n",
    "plt.yticks(rotation=0,fontsize =12)\n",
    "plt.tight_layout()\n",
    "\n",
    "plt.show()\n",
    "print(\"Sum is :\",np.sum(r))"
   ]
  },
  {
   "cell_type": "code",
   "execution_count": 4,
   "metadata": {},
   "outputs": [
    {
     "name": "stdout",
     "output_type": "stream",
     "text": [
      "Solution\n",
      "~~~~~~~~\n",
      "The best solutions we received had a sum of 205; there were 3 entrants who managed to reach that total.   Congratulations to Tomas Vaškevičius for being randomly selected to win a Jane Street t-shirt!   His submission appears here.\n"
     ]
    }
   ],
   "source": [
    "url='https://www.janestreet.com/puzzles/solutions/january-2014-solution/'\n",
    "res = requests.get(url)\n",
    "soup = BeautifulSoup(res.content, 'html.parser')\n",
    "x =[text for text in soup.body.stripped_strings]\n",
    "\n",
    "print(\"Solution\")\n",
    "print(\"~~~~~~~~\")\n",
    "print(\" \".join(x[7:8]))"
   ]
  },
  {
   "cell_type": "markdown",
   "metadata": {
    "id": "ld_NFUIfT1W9"
   },
   "source": [
    "### Solution\n",
    "<img src=\"https://www.janestreet.com/puzzles/Jan14_Solution.png\" width=\"600\">\n"
   ]
  },
  {
   "cell_type": "code",
   "execution_count": null,
   "metadata": {},
   "outputs": [],
   "source": []
  }
 ],
 "metadata": {
  "colab": {
   "include_colab_link": true,
   "name": "JaneSt-Feb18.ipynb",
   "provenance": []
  },
  "kernelspec": {
   "display_name": "Python 3",
   "language": "python",
   "name": "python3"
  },
  "language_info": {
   "codemirror_mode": {
    "name": "ipython",
    "version": 3
   },
   "file_extension": ".py",
   "mimetype": "text/x-python",
   "name": "python",
   "nbconvert_exporter": "python",
   "pygments_lexer": "ipython3",
   "version": "3.7.10"
  }
 },
 "nbformat": 4,
 "nbformat_minor": 4
}
