{
 "cells": [
  {
   "cell_type": "code",
   "execution_count": 1,
   "metadata": {
    "id": "Oq1xibzMT1Wl"
   },
   "outputs": [],
   "source": [
    "import numpy as np\n",
    "import pandas as pd\n",
    "import time\n",
    "import seaborn as sns\n",
    "import matplotlib.pyplot as plt\n",
    "import requests\n",
    "from bs4 import BeautifulSoup\n",
    "import itertools\n",
    "from copy import deepcopy as dcopy,copy\n",
    "from scipy.ndimage import measurements\n",
    "from z3 import *"
   ]
  },
  {
   "cell_type": "code",
   "execution_count": 2,
   "metadata": {
    "id": "ICTfvjZUT1Wr"
   },
   "outputs": [
    {
     "name": "stdout",
     "output_type": "stream",
     "text": [
      "A variant of KenKen: fill each cell with a digit between 1 and 9 so that each row and column contains each digit once.  Like a normal KenKen puzzle, the numbers within each region should form the indicated amount under the given operation.  However, when calculating, horizontally adjacent cells within a region should be concatenated to form a single number.  (E.g., a 2 next to a 3 would become a 23). The answer to this month’s puzzle is the sum of the largest number in each region.  (Still using concatenation:  the largest number in a region may comprise 1, 2, or 3 digits.)\n"
     ]
    }
   ],
   "source": [
    "# Nice one this time. Plan was to check the cells forced by\n",
    "#\n",
    "\n",
    "url='https://www.janestreet.com/puzzles/kenken-concatenated/'\n",
    "res = requests.get(url)\n",
    "soup = BeautifulSoup(res.content, 'html.parser')\n",
    "x =[text for text in soup.body.stripped_strings]\n",
    "\n",
    "print(\" \".join(x[7:9]))"
   ]
  },
  {
   "cell_type": "markdown",
   "metadata": {
    "id": "U9Yh1D3HT1Ws"
   },
   "source": [
    "<img src=\"https://www.janestreet.com/puzzles/wp-content/uploads/2017/05/may17_puzzle.png\" width=\"850\">"
   ]
  },
  {
   "cell_type": "code",
   "execution_count": 3,
   "metadata": {
    "id": "844RhDFpT1Wu"
   },
   "outputs": [
    {
     "data": {
      "image/png": "[encoded data removed]",
      "text/plain": [
       "<Figure size 288x288 with 1 Axes>"
      ]
     },
     "metadata": {
      "needs_background": "light"
     },
     "output_type": "display_data"
    }
   ],
   "source": [
    "grid = np.array([[20, 20,  1,  1,  1,  2,  2,  3,  3],\n",
    "                 [20,  4,  4,  4,  1,  2,  5,  5,  3],\n",
    "                 [ 6,  6,  4,  4,  4,  7,  8,  5,  5],\n",
    "                 [ 6,  9,  9, 10,  7,  7,  8, 11, 11],\n",
    "                 [ 9,  9, 10, 10, 12, 12, 12, 11, 13],\n",
    "                 [14, 14, 14, 10, 15, 15, 12, 13, 13],\n",
    "                 [14, 14, 14, 15, 15, 12, 12, 16, 13],\n",
    "                 [17, 18, 18, 18, 19, 19,  0, 16, 16],\n",
    "                 [17, 17, 18, 19, 19, 19,  0,  0,  0]],dtype=int)\n",
    "\n",
    "fig,ax = plt.subplots(1,1,figsize=(4,4))\n",
    "ax =sns.heatmap(grid,cbar=False,cmap=\"tab20c\",fmt=\"\",linewidths=1,annot_kws={\"size\":16})\n",
    "ax.axis(\"off\")\n",
    "plt.show()"
   ]
  },
  {
   "cell_type": "code",
   "execution_count": 20,
   "metadata": {
    "id": "844RhDFpT1Wu"
   },
   "outputs": [],
   "source": [
    "def counter(groups,solved):\n",
    "    group_poss = []\n",
    "    for i in range(21):\n",
    "        group_poss.append([0])\n",
    "    \n",
    "    group = 0\n",
    "    total =0\n",
    "    for i,j in itertools.product(range(9),range(9)):  \n",
    "        num = solved[i,j]\n",
    "        if groups[i,j] == group:\n",
    "            total *=10\n",
    "            total += num\n",
    "        else:\n",
    "            group_poss[group].append(total)\n",
    "            group = groups[i,j]\n",
    "            total = num\n",
    "     \n",
    "    prod = 0\n",
    "    for i in range(24):\n",
    "        print(i,group_poss[i])\n",
    "        #prod +=max(group_poss[i])\n",
    "        \n",
    "    #return prod"
   ]
  },
  {
   "cell_type": "code",
   "execution_count": null,
   "metadata": {
    "id": "844RhDFpT1Wu"
   },
   "outputs": [],
   "source": [
    "start = time.time()\n",
    "r=[]\n",
    "\n",
    "######################################################\n",
    "# Setup # 9x9 matrix of integer variables and solver #\n",
    "######################################################\n",
    "X = [[Int(\"x_%s_%s\" % (i+1, j+1)) for j in range(9) ] for i in range(9)]\n",
    "\n",
    "s = Solver()\n",
    "\n",
    "###############################\n",
    "# General Soduku contstraints #\n",
    "###############################\n",
    "\n",
    "# each cell contains a value in {1, ..., 9}\n",
    "s += [And(1 <= X[i][j], X[i][j] <= 9) for i in range(9) for j in range(9)]\n",
    "\n",
    " # each row contains a digit at most once\n",
    "s += [Distinct(X[i]) for i in range(9) ]\n",
    "\n",
    "# each column contains a digit at most once\n",
    "s += [Distinct([X[i][j] for i in range(9) ]) for j in range(9)]\n",
    "\n",
    "########################\n",
    "# Specific constraints #\n",
    "########################\n",
    "\n",
    "s.add((X[0][0]*10+X[0][1]) / X[1][0] == 21) #OK\n",
    "\n",
    "s.add((X[0][2]*100+X[0][3]*10+X[0][4])*X[1][4]==1960) #OK\n",
    "\n",
    "s.add((X[0][5]*10+X[0][6])/X[1][5] ==13) #OK ish\n",
    "\n",
    "s.add(X[0][7]*10+X[0][8]-X[1][8] ==17) #OK\n",
    "\n",
    "s.add(Or(\n",
    "     (X[1][1]*100+X[1][2]*10+X[1][3])/(X[2][2]*100+X[2][3]*10+X[2][4])==5,\n",
    "     (X[1][1]*100+X[1][2]*10+X[1][3])/(X[2][2]*100+X[2][3]*10+X[2][4])==1/5))\n",
    "\n",
    "s.add((X[1][6]*10+X[1][7])*(X[2][7]*10+X[2][8])==969) # OK\n",
    "\n",
    "s.add((X[2][0]*10+X[2][1])/X[3][0]==21) # OK\n",
    " \n",
    "s.add(X[3][4]*10+X[3][5]-X[2][5]==66) #OK\n",
    "\n",
    "s.add(Or(X[2][6]-X[3][6]==1,X[2][6]-X[3][6]==-1)) # OK\n",
    "\n",
    "s.add(X[3][1]*10+X[3][2]+X[4][0]*10+X[4][1]==63) # OK\n",
    "\n",
    "s.add(X[3][3] * (X[4][2]*10+X[4][3])* X[5][3] ==342) # OK\n",
    "\n",
    "s.add((X[3][7]*10+X[3][8])/X[4][7] == 9) # OK\n",
    "\n",
    "s.add((X[4][4]*100+X[4][5]*10+X[4][6])*X[5][6]*(X[6][5]*10+X[6][6])==59049) # OK\n",
    "\n",
    "s.add(Or(\n",
    "    (X[5][0]*100+X[5][1]*10+X[5][2])-(X[6][0]*100+X[6][1]*10+X[6][2])==73,\n",
    "     (X[5][0]*100+X[5][1]*10+X[5][2])-(X[6][0]*100+X[6][1]*10+X[6][2])==-73))\n",
    "\n",
    "s.add(Or(\n",
    "     (X[5][4]*10+X[5][5])-(X[6][3]*10+X[6][4])==1,\n",
    "     (X[5][4]*10+X[5][5])-(X[6][3]*10+X[6][4])==-1))\n",
    "\n",
    "s.add(X[4][8]+(X[5][7]*10+X[5][8])+X[6][8]==57) #OK\n",
    "\n",
    "s.add((X[7][7]*10+X[7][8])-X[6][7]==22) #OK\n",
    "      \n",
    "s.add(X[8][0]*10+X[8][1]+X[7][0] ==66) #OK\n",
    "      \n",
    "s.add((X[7][1]*100+X[7][2]*10+X[7][3])/X[8][2]==17)  #OK\n",
    "      \n",
    "s.add((X[8][3]*100+X[8][4]*10+X[8][5])+X[7][4]*10+X[7][5]==1009) #OK\n",
    "      \n",
    "s.add((X[8][6]*100+X[8][7]*10+X[8][8])*X[7][6]==1056)    #OK\n",
    "\n",
    "###################\n",
    "# Solve and print #\n",
    "###################\n",
    "if s.check() == sat:\n",
    "    m = s.model()\n",
    "    r = [[ m.evaluate(X[i][j]) for j in range(9) ] for i in range(9)]\n",
    "else:\n",
    "    print(\"Failed\")\n",
    "stop = time.time()\n",
    "print(\"Solved in {:.4f} seconds\".format(stop-start))\n",
    "fig,ax = plt.subplots(1,1,figsize=(4,4))\n",
    "ax =sns.heatmap(grid,annot=r,cbar=False,cmap=\"tab20c\",fmt=\"\",linewidths=1,annot_kws={\"size\":16})\n",
    "ax.axis(\"off\")\n",
    "plt.show()\n",
    "print(counter(groups,r))"
   ]
  },
  {
   "cell_type": "code",
   "execution_count": null,
   "metadata": {},
   "outputs": [],
   "source": [
    "url='https://www.janestreet.com/puzzles/solutions/april-2019-solution/'\n",
    "res = requests.get(url)\n",
    "soup = BeautifulSoup(res.content, 'html.parser')\n",
    "x =[text for text in soup.body.stripped_strings]\n",
    "\n",
    "print(\" \".join(x[7:10]))"
   ]
  },
  {
   "cell_type": "markdown",
   "metadata": {
    "id": "ld_NFUIfT1W9"
   },
   "source": [
    "<img src=\"https://www.janestreet.com/puzzles/wp-content/uploads/2017/06/May17_solution.png\" width=\"350\" >"
   ]
  },
  {
   "cell_type": "code",
   "execution_count": 19,
   "metadata": {},
   "outputs": [
    {
     "ename": "Z3Exception",
     "evalue": "Symbolic expressions cannot be cast to concrete Boolean values.",
     "output_type": "error",
     "traceback": [
      "\u001b[1;31m---------------------------------------------------------------------------\u001b[0m",
      "\u001b[1;31mZ3Exception\u001b[0m                               Traceback (most recent call last)",
      "\u001b[1;32m<ipython-input-19-1859ed5abb78>\u001b[0m in \u001b[0;36m<module>\u001b[1;34m\u001b[0m\n\u001b[1;32m----> 1\u001b[1;33m \u001b[0mprint\u001b[0m\u001b[1;33m(\u001b[0m\u001b[0mcounter\u001b[0m\u001b[1;33m(\u001b[0m\u001b[0mgrid\u001b[0m\u001b[1;33m,\u001b[0m\u001b[0mnp\u001b[0m\u001b[1;33m.\u001b[0m\u001b[0marray\u001b[0m\u001b[1;33m(\u001b[0m\u001b[0mr\u001b[0m\u001b[1;33m)\u001b[0m\u001b[1;33m)\u001b[0m\u001b[1;33m)\u001b[0m\u001b[1;33m\u001b[0m\u001b[1;33m\u001b[0m\u001b[0m\n\u001b[0m",
      "\u001b[1;32m<ipython-input-13-4fea6f19e4b2>\u001b[0m in \u001b[0;36mcounter\u001b[1;34m(groups, solved)\u001b[0m\n\u001b[0;32m     18\u001b[0m     \u001b[0mprod\u001b[0m \u001b[1;33m=\u001b[0m \u001b[1;36m0\u001b[0m\u001b[1;33m\u001b[0m\u001b[1;33m\u001b[0m\u001b[0m\n\u001b[0;32m     19\u001b[0m     \u001b[1;32mfor\u001b[0m \u001b[0mi\u001b[0m \u001b[1;32min\u001b[0m \u001b[0mrange\u001b[0m\u001b[1;33m(\u001b[0m\u001b[1;36m24\u001b[0m\u001b[1;33m)\u001b[0m\u001b[1;33m:\u001b[0m\u001b[1;33m\u001b[0m\u001b[1;33m\u001b[0m\u001b[0m\n\u001b[1;32m---> 20\u001b[1;33m         \u001b[0mprod\u001b[0m \u001b[1;33m+=\u001b[0m\u001b[0mmax\u001b[0m\u001b[1;33m(\u001b[0m\u001b[0mgroup_poss\u001b[0m\u001b[1;33m[\u001b[0m\u001b[0mi\u001b[0m\u001b[1;33m]\u001b[0m\u001b[1;33m)\u001b[0m\u001b[1;33m\u001b[0m\u001b[1;33m\u001b[0m\u001b[0m\n\u001b[0m\u001b[0;32m     21\u001b[0m \u001b[1;33m\u001b[0m\u001b[0m\n\u001b[0;32m     22\u001b[0m     \u001b[1;32mreturn\u001b[0m \u001b[0mprod\u001b[0m\u001b[1;33m\u001b[0m\u001b[1;33m\u001b[0m\u001b[0m\n",
      "\u001b[1;32md:\\Anaconda3\\lib\\site-packages\\z3\\z3.py\u001b[0m in \u001b[0;36m__bool__\u001b[1;34m(self)\u001b[0m\n\u001b[0;32m    341\u001b[0m            \u001b[1;32mreturn\u001b[0m \u001b[0mself\u001b[0m\u001b[1;33m.\u001b[0m\u001b[0marg\u001b[0m\u001b[1;33m(\u001b[0m\u001b[1;36m0\u001b[0m\u001b[1;33m)\u001b[0m\u001b[1;33m.\u001b[0m\u001b[0meq\u001b[0m\u001b[1;33m(\u001b[0m\u001b[0mself\u001b[0m\u001b[1;33m.\u001b[0m\u001b[0marg\u001b[0m\u001b[1;33m(\u001b[0m\u001b[1;36m1\u001b[0m\u001b[1;33m)\u001b[0m\u001b[1;33m)\u001b[0m\u001b[1;33m\u001b[0m\u001b[1;33m\u001b[0m\u001b[0m\n\u001b[0;32m    342\u001b[0m         \u001b[1;32melse\u001b[0m\u001b[1;33m:\u001b[0m\u001b[1;33m\u001b[0m\u001b[1;33m\u001b[0m\u001b[0m\n\u001b[1;32m--> 343\u001b[1;33m             \u001b[1;32mraise\u001b[0m \u001b[0mZ3Exception\u001b[0m\u001b[1;33m(\u001b[0m\u001b[1;34m\"Symbolic expressions cannot be cast to concrete Boolean values.\"\u001b[0m\u001b[1;33m)\u001b[0m\u001b[1;33m\u001b[0m\u001b[1;33m\u001b[0m\u001b[0m\n\u001b[0m\u001b[0;32m    344\u001b[0m \u001b[1;33m\u001b[0m\u001b[0m\n\u001b[0;32m    345\u001b[0m     \u001b[1;32mdef\u001b[0m \u001b[0msexpr\u001b[0m\u001b[1;33m(\u001b[0m\u001b[0mself\u001b[0m\u001b[1;33m)\u001b[0m\u001b[1;33m:\u001b[0m\u001b[1;33m\u001b[0m\u001b[1;33m\u001b[0m\u001b[0m\n",
      "\u001b[1;31mZ3Exception\u001b[0m: Symbolic expressions cannot be cast to concrete Boolean values."
     ]
    }
   ],
   "source": [
    "print(counter(grid,np.array(r)))"
   ]
  },
  {
   "cell_type": "code",
   "execution_count": 18,
   "metadata": {},
   "outputs": [
    {
     "data": {
      "text/plain": [
       "array([[6, 3, 2, 4, 5, 7, 8, 1, 9],\n",
       "       [3, 9, 4, 5, 8, 6, 1, 7, 2],\n",
       "       [4, 2, 1, 8, 9, 3, 6, 5, 7],\n",
       "       [2, 4, 7, 3, 6, 9, 5, 8, 1],\n",
       "       [1, 6, 5, 7, 2, 4, 3, 9, 8],\n",
       "       [7, 8, 6, 2, 1, 5, 9, 4, 3],\n",
       "       [8, 5, 9, 1, 4, 2, 7, 3, 6],\n",
       "       [9, 1, 3, 6, 7, 8, 4, 2, 5],\n",
       "       [5, 7, 8, 9, 3, 1, 2, 6, 4]], dtype=object)"
      ]
     },
     "execution_count": 18,
     "metadata": {},
     "output_type": "execute_result"
    }
   ],
   "source": [
    "np.array(r)"
   ]
  },
  {
   "cell_type": "code",
   "execution_count": null,
   "metadata": {},
   "outputs": [],
   "source": []
  }
 ],
 "metadata": {
  "colab": {
   "include_colab_link": true,
   "name": "JaneSt-Feb18.ipynb",
   "provenance": []
  },
  "kernelspec": {
   "display_name": "Python 3",
   "language": "python",
   "name": "python3"
  },
  "language_info": {
   "codemirror_mode": {
    "name": "ipython",
    "version": 3
   },
   "file_extension": ".py",
   "mimetype": "text/x-python",
   "name": "python",
   "nbconvert_exporter": "python",
   "pygments_lexer": "ipython3",
   "version": "3.7.7"
  }
 },
 "nbformat": 4,
 "nbformat_minor": 4
}
