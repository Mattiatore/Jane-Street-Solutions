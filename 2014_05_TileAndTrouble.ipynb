{
 "cells": [
  {
   "cell_type": "code",
   "execution_count": 1,
   "metadata": {
    "id": "Oq1xibzMT1Wl"
   },
   "outputs": [],
   "source": [
    "import pandas as pd\n",
    "import numpy as np\n",
    "import time\n",
    "import seaborn as sns\n",
    "import matplotlib.pyplot as plt\n",
    "import requests\n",
    "from bs4 import BeautifulSoup\n",
    "import itertools\n",
    "from copy import deepcopy as dcopy,copy\n",
    "\n",
    "from z3 import *\n",
    "import grilops\n",
    "import grilops.regions\n",
    "from grilops.shapes import Shape, ShapeConstrainer\n",
    "from grilops.geometry import Point, Vector"
   ]
  },
  {
   "cell_type": "code",
   "execution_count": 2,
   "metadata": {
    "id": "ICTfvjZUT1Wr"
   },
   "outputs": [
    {
     "name": "stdout",
     "output_type": "stream",
     "text": [
      "Puzzle\n",
      "~~~~~~\n",
      "Add square tiles to the 12-by-12 grid so that the total points in each row and each column matches the corresponding value outside the grid. A tile can have any side length (e.g., 1-by-1, 2-by-2, 3-by-3, etc.)\n"
     ]
    }
   ],
   "source": [
    "# \n",
    "url='https://www.janestreet.com/puzzles/may-2014/'\n",
    "res = requests.get(url)\n",
    "soup = BeautifulSoup(res.content, 'html.parser')\n",
    "y =[text for text in soup.body.stripped_strings]\n",
    "print(\"Puzzle\")\n",
    "print(\"~~~~~~\")\n",
    "print(\" \".join(y[8:10]))"
   ]
  },
  {
   "cell_type": "markdown",
   "metadata": {
    "id": "U9Yh1D3HT1Ws"
   },
   "source": [
    "### Puzzle details\n",
    "<img src=\"https://www.janestreet.com/puzzles/wp-content/uploads/2014/05/TileAndTrouble.png\" width=\"350\" >\n"
   ]
  },
  {
   "cell_type": "code",
   "execution_count": 13,
   "metadata": {
    "id": "844RhDFpT1Wu"
   },
   "outputs": [
    {
     "name": "stdout",
     "output_type": "stream",
     "text": [
      "Solved in 1.7223961353302002 seconds\n"
     ]
    },
    {
     "data": {
      "image/png": "[encoded data removed]",
      "text/plain": [
       "<Figure size 288x288 with 1 Axes>"
      ]
     },
     "metadata": {
      "needs_background": "light"
     },
     "output_type": "display_data"
    }
   ],
   "source": [
    "row_tot = [8,8,20,17,25,25,11]\n",
    "col_tot = [15,13,10,21,20,18,17]\n",
    "size = 7\n",
    "nums = 4\n",
    "\n",
    "row_tot = [12,17,43,44,34,42,43,21,36,29,30,26]\n",
    "col_tot = [30,35,45,43,41,28,25,29,25,38,18,20]\n",
    "size = 12\n",
    "nums = 5\n",
    "\n",
    "start = time.time()\n",
    "\n",
    "X = [[Int(\"s%d%d\" % (i,j)) for j in range (size)] for i in range (size)]\n",
    "\n",
    "s = Solver()\n",
    "s += [And(X[i][j]>=0,X[i][j]<=nums) for j in range (size) for i in range(size)]\n",
    "s += X[0][7] == 3\n",
    "\n",
    "for n in range(size):\n",
    "    s += Sum([X[n][i] for i  in range(size)]) == row_tot[n]\n",
    "    s += Sum([X[i][n] for i  in range(size)]) == col_tot[n]\n",
    "    \n",
    "\n",
    "for i,j in itertools.product(range(1,size),range(size)):\n",
    "        \n",
    "    if i == 1 :\n",
    "        s += [Implies(X[i-1][j] == n,X[i][j]==n) for n in range(nums+1) if n > 1]\n",
    "    elif i > 1 :   \n",
    "        s += [Implies(And(X[i-1][j]==n,X[i-2][j] != n),X[i][j]==n) for n in range(nums+1) if n > 1 ]    \n",
    "    if j == 1 :\n",
    "        s += [Implies(X[i][j-1] == n,X[i][j]==n) for n in range(nums+1) if n > 1]\n",
    "    elif j > 1 :   \n",
    "        s += [Implies(And(X[i][j-1]==n,X[i][j-2]!= n),X[i][j]==n) for n in range(nums+1) if n > 1 ]   \n",
    "\n",
    "    if i == 2:\n",
    "        s += [Implies(And(X[i-1][j] == n,X[i-2][j] == n),X[i][j]==n) for n in range(nums+1) if n > 2 ]    \n",
    "    elif i > 2 :   \n",
    "        s += [Implies(And(X[i-1][j] == n,X[i-2][j] == n,X[i-3][j] != n),X[i][j]==n) for n in range(nums+1) if n > 2 ]    \n",
    "    if j == 2:\n",
    "        s += [Implies(And(X[i][j-1] == n,X[i][j-2] == n),X[i][j]==n,X[i][j]==n) for n in range(nums+1) if n > 2 ]    \n",
    "    elif j > 2 :   \n",
    "        s += [Implies(And(X[i][j-1] == n,X[i][j-2] == n,X[i][j-3] != n),X[i][j]==n) for n in range(nums+1) if n > 2 ]       \n",
    "    \n",
    "    if i == 3:\n",
    "        s += [Implies(And(X[i-1][j] == n,X[i-2][j] == n,X[i-3][j] == n),X[i][j]==n) for n in range(nums+1) if n > 3 ]    \n",
    "    elif i > 3 :   \n",
    "        s += [Implies(And(X[i-1][j] == n,X[i-2][j] == n,X[i-3][j] == n,X[i-4][j] != n),X[i][j]==n) for n in range(nums+1) if n > 3 ]    \n",
    "    if j == 3:\n",
    "        s += [Implies(And(X[i][j-1] == n,X[i][j-2] == n ,X[i][j-3]==n),X[i][j]==n) for n in range(nums+1) if n > 3 ]    \n",
    "    elif j > 3 :   \n",
    "        s += [Implies(And(X[i][j-1] == n,X[i][j-2] == n,X[i][j-3]==n, X[i][j-4] != n),X[i][j]==n) for n in range(nums+1) if n > 3 ]       \n",
    "    \n",
    "    if i == 4:\n",
    "        s += [Implies(And(X[i-1][j] == n,X[i-2][j] == n,X[i-3][j] == n,X[i-4][j] == n),X[i][j]==n) for n in range(nums+1) if n > 4 ]    \n",
    "    elif i > 4 :   \n",
    "        s += [Implies(And(X[i-1][j] == n,X[i-2][j] == n,X[i-3][j] == n,X[i-5][j] != n),X[i][j]==n) for n in range(nums+1) if n > 4 ]    \n",
    "    if j == 4:\n",
    "        s += [Implies(And(X[i][j-1] == n,X[i][j-2] == n ,X[i][j-3]==n,X[i][j-4]==n),X[i][j]==n) for n in range(nums+1) if n > 4 ]    \n",
    "    elif j > 4 :   \n",
    "        s += [Implies(And(X[i][j-1] == n,X[i][j-2] == n,X[i][j-3]==n,X[i][j-4]==n, X[i][j-5] != n),X[i][j]==n) for n in range(nums+1) if n > 4 ]       \n",
    "    \n",
    "\n",
    "    \n",
    "\n",
    "if s.check() == sat:\n",
    "    print(\"Solved in {} seconds\".format(time.time()-start))\n",
    "    m = s.model()\n",
    "    out = np.array([ [ m.evaluate(X[i][j]).as_long() for j in range(size) ] for i in range(size) ])\n",
    "    \n",
    "    fig,ax = plt.subplots(1,1,figsize=(4,4))    \n",
    "    ax =sns.heatmap(out,annot=out,cbar=False,center=3,cmap=\"tab20_r\",fmt=\"\",linewidths=1,linecolor=\"grey\",annot_kws={\"size\":12},\n",
    "                    xticklabels=col_tot, yticklabels=row_tot)\n",
    "    ax.tick_params(left=False, bottom=False,labelleft=False, labelright=True)\n",
    "    plt.xticks(rotation=0,fontsize =10)\n",
    "    plt.yticks(rotation=0,fontsize =10)\n",
    "    plt.tight_layout()\n",
    "    plt.show()   \n",
    "     \n",
    "else:\n",
    "    print(\"No solution in {} seconds\".format(time.time()-start))"
   ]
  },
  {
   "cell_type": "code",
   "execution_count": 18,
   "metadata": {},
   "outputs": [
    {
     "data": {
      "text/plain": [
       "array([0, 0, 0, 0, 0, 0, 0, 0, 0, 0, 0, 0])"
      ]
     },
     "execution_count": 18,
     "metadata": {},
     "output_type": "execute_result"
    }
   ],
   "source": [
    "np.sum(out,0)-col_tot\n",
    "np.sum(out,1)-row_tot"
   ]
  },
  {
   "cell_type": "code",
   "execution_count": 7,
   "metadata": {},
   "outputs": [
    {
     "name": "stdout",
     "output_type": "stream",
     "text": [
      "Solution\n",
      "~~~~~~~~\n",
      "Here is the solution to May’s puzzle, Tile and Trouble.   Congratulations to Katie Rue, this month’s randomly chosen winner, and recipient of a Jane Street t-shirt!\n"
     ]
    }
   ],
   "source": [
    "url='https://www.janestreet.com/puzzles/solutions/may-2014-solution/'\n",
    "res = requests.get(url)\n",
    "soup = BeautifulSoup(res.content, 'html.parser')\n",
    "x =[text for text in soup.body.stripped_strings]\n",
    "\n",
    "print(\"Solution\")\n",
    "print(\"~~~~~~~~\")\n",
    "print(\" \".join(x[7:8]))"
   ]
  },
  {
   "cell_type": "markdown",
   "metadata": {
    "id": "ld_NFUIfT1W9"
   },
   "source": [
    "### Solution\n",
    "<img src=\"https://www.janestreet.com/puzzles/wp-content/uploads/2014/09/May14_Solution.png\" width=\"800\">\n"
   ]
  },
  {
   "cell_type": "code",
   "execution_count": 5,
   "metadata": {},
   "outputs": [
    {
     "name": "stdout",
     "output_type": "stream",
     "text": [
      "Solved in 0.2792854309082031 seconds\n"
     ]
    },
    {
     "data": {
      "image/png": "[encoded data removed]",
      "text/plain": [
       "<Figure size 216x216 with 1 Axes>"
      ]
     },
     "metadata": {
      "needs_background": "light"
     },
     "output_type": "display_data"
    }
   ],
   "source": [
    "start=time.time()\n",
    "sym = grilops.SymbolSet([\"I\"])\n",
    "lattice = grilops.get_square_lattice(8)\n",
    "sg = grilops.SymbolGrid(lattice, sym)\n",
    "sc = ShapeConstrainer(\n",
    "      lattice,\n",
    "      [\n",
    "\n",
    "          Shape([Vector(0, i) for i in range(4)])  # I\n",
    "\n",
    "      ],\n",
    "      solver=sg.solver,\n",
    "      allow_rotations=True,\n",
    "      allow_reflections=True,\n",
    "      allow_copies=True\n",
    "  )\n",
    "\n",
    "for p in lattice.points:\n",
    "    pass\n",
    "    \n",
    "if sg.solve():\n",
    "    print(\"Solved in {} seconds\".format(time.time()-start))\n",
    "    out = np.zeros((8,8),dtype=int)\n",
    "    for p in lattice.points:\n",
    "        out[p.x,p.y] = sg.solver.model().eval(sg.grid[p]).as_long()\n",
    "    fig,ax = plt.subplots(1,1,figsize=(3,3))\n",
    "    ax =sns.heatmap(np.array(out),annot=np.array(out),cbar=False,center=3,cmap=\"tab20_r\",fmt=\"\",linewidths=1,linecolor=\"grey\",annot_kws={\"size\":12},\n",
    "                    xticklabels=col_tot, yticklabels=row_tot)\n",
    "    ax.tick_params(left=False, bottom=False,labelleft=False, labelright=True)\n",
    "    plt.xticks(rotation=0,fontsize =10)\n",
    "    plt.yticks(rotation=0,fontsize =10)\n",
    "    plt.tight_layout()\n",
    "    plt.show()   \n",
    "     \n",
    "else:\n",
    "    print(\"No solution in {} seconds\".format(time.time()-start))"
   ]
  },
  {
   "cell_type": "code",
   "execution_count": 6,
   "metadata": {},
   "outputs": [
    {
     "name": "stdout",
     "output_type": "stream",
     "text": [
      "No solution in 0.24132585525512695 seconds\n"
     ]
    }
   ],
   "source": [
    "row_tot = [8,8,20,17,25,25,11]\n",
    "col_tot = [15,13,10,21,20,18,17]\n",
    "\n",
    "\n",
    "start = time.time()\n",
    "\n",
    "\n",
    "for i in range(7):\n",
    "    sg.solver.add(Sum([If(p.x == i , sg.grid[p],0) for p in lattice.points]) == row_tot[i])\n",
    "    sg.solver.add(Sum([If(p.y == i , sg.grid[p],0) for p in lattice.points]) == col_tot[i])\n",
    "\n",
    "for p in lattice.points:\n",
    "    pass\n",
    "\n",
    "if sg.solve():\n",
    "    print(\"Solved in {} seconds\".format(time.time()-start))\n",
    "    out = np.zeros((7,7),dtype=int)\n",
    "    for p in lattice.points:\n",
    "        out[p.x,p.y] = sg.solver.model().eval(sg.grid[p]).as_long()\n",
    "    fig,ax = plt.subplots(1,1,figsize=(3,3))\n",
    "    ax =sns.heatmap(np.array(out),annot=np.array(out),cbar=False,center=3,cmap=\"tab20_r\",fmt=\"\",linewidths=1,linecolor=\"grey\",annot_kws={\"size\":12},\n",
    "                    xticklabels=col_tot, yticklabels=row_tot)\n",
    "    ax.tick_params(left=False, bottom=False,labelleft=False, labelright=True)\n",
    "    plt.xticks(rotation=0,fontsize =10)\n",
    "    plt.yticks(rotation=0,fontsize =10)\n",
    "    plt.tight_layout()\n",
    "    plt.show()   \n",
    "     \n",
    "else:\n",
    "    print(\"No solution in {} seconds\".format(time.time()-start))"
   ]
  },
  {
   "cell_type": "code",
   "execution_count": null,
   "metadata": {},
   "outputs": [],
   "source": [
    "x =np.array([[1,2],])"
   ]
  }
 ],
 "metadata": {
  "colab": {
   "include_colab_link": true,
   "name": "JaneSt-Feb18.ipynb",
   "provenance": []
  },
  "kernelspec": {
   "display_name": "Python 3",
   "language": "python",
   "name": "python3"
  },
  "language_info": {
   "codemirror_mode": {
    "name": "ipython",
    "version": 3
   },
   "file_extension": ".py",
   "mimetype": "text/x-python",
   "name": "python",
   "nbconvert_exporter": "python",
   "pygments_lexer": "ipython3",
   "version": "3.7.7"
  }
 },
 "nbformat": 4,
 "nbformat_minor": 4
}
