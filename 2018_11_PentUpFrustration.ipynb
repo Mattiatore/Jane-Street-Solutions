{
 "cells": [
  {
   "cell_type": "code",
   "execution_count": 62,
   "id": "7c505900",
   "metadata": {},
   "outputs": [],
   "source": [
    "from time import time\n",
    "import numpy as np\n",
    "from matplotlib.colors import ListedColormap\n",
    "import seaborn as sns\n",
    "import matplotlib.pyplot as plt\n",
    "import requests\n",
    "from bs4 import BeautifulSoup\n",
    "from IPython.display import Markdown, display\n",
    "from skimage.morphology import label\n",
    "from scipy.ndimage import measurements\n",
    "from copy import deepcopy as dcopy\n",
    "import numba as nb\n",
    "import itertools\n"
   ]
  },
  {
   "cell_type": "code",
   "execution_count": 63,
   "id": "b0aa59c0",
   "metadata": {},
   "outputs": [
    {
     "data": {
      "text/markdown": [
       "### 'Pent-up' Frustration\n",
       "\n",
       "Place as many distinct pentominoes as you want into an 8-by-8 grid, in such a\n",
       "way that the placement is “tight” — i.e., no piece(s) can freely slide around\n",
       "within the grid.\n",
       "The score for a given placement is the\n",
       "sum of the square roots of the areas of\n",
       "the empty regions\n",
       "in the grid.\n",
       "What is the largest score you can obtain?\n",
       "This month, when you send in your entry, please send in your grid. Please use\n",
       "the\n",
       "standard\n",
       "notation\n",
       ", — i.e. F,\n",
       "I, L, N, P, T, U, V, W, X, Y, Z — and use “.” to denote empty spaces. (So the\n",
       "top row in the valid placement example would be “…Z..LL”)"
      ],
      "text/plain": [
       "<IPython.core.display.Markdown object>"
      ]
     },
     "metadata": {},
     "output_type": "display_data"
    }
   ],
   "source": [
    "url='https://www.janestreet.com/puzzles/pent-up-frustration-index/'\n",
    "res = requests.get(url)\n",
    "soup = BeautifulSoup(res.content, 'html.parser')\n",
    "y =[text for text in soup.body.stripped_strings]\n",
    "#display([[i,j] for i,j in enumerate(y)])\n",
    "display(Markdown(\"### \"+y[7]+\"\\n\\n\"+str(\"\\n\".join(y[10:18]))))"
   ]
  },
  {
   "cell_type": "markdown",
   "id": "6a1b1fe7",
   "metadata": {},
   "source": [
    "<img src='https://www.janestreet.com/puzzles/20181101_pent-up.png' width =300>"
   ]
  },
  {
   "cell_type": "code",
   "execution_count": 88,
   "id": "31af9613",
   "metadata": {},
   "outputs": [
    {
     "data": {
      "image/png": "[encoded data removed]",
      "text/plain": [
       "<Figure size 576x72 with 8 Axes>"
      ]
     },
     "metadata": {
      "needs_background": "light"
     },
     "output_type": "display_data"
    },
    {
     "data": {
      "image/png": "[encoded data removed]",
      "text/plain": [
       "<Figure size 144x72 with 2 Axes>"
      ]
     },
     "metadata": {
      "needs_background": "light"
     },
     "output_type": "display_data"
    },
    {
     "data": {
      "image/png": "[encoded data removed]",
      "text/plain": [
       "<Figure size 576x72 with 8 Axes>"
      ]
     },
     "metadata": {
      "needs_background": "light"
     },
     "output_type": "display_data"
    },
    {
     "data": {
      "image/png": "[encoded data removed]",
      "text/plain": [
       "<Figure size 576x72 with 8 Axes>"
      ]
     },
     "metadata": {
      "needs_background": "light"
     },
     "output_type": "display_data"
    },
    {
     "data": {
      "image/png": "[encoded data removed]",
      "text/plain": [
       "<Figure size 576x72 with 8 Axes>"
      ]
     },
     "metadata": {
      "needs_background": "light"
     },
     "output_type": "display_data"
    },
    {
     "data": {
      "image/png": "[encoded data removed]",
      "text/plain": [
       "<Figure size 288x72 with 4 Axes>"
      ]
     },
     "metadata": {
      "needs_background": "light"
     },
     "output_type": "display_data"
    },
    {
     "data": {
      "image/png": "[encoded data removed]",
      "text/plain": [
       "<Figure size 288x72 with 4 Axes>"
      ]
     },
     "metadata": {
      "needs_background": "light"
     },
     "output_type": "display_data"
    },
    {
     "data": {
      "image/png": "[encoded data removed]",
      "text/plain": [
       "<Figure size 288x72 with 4 Axes>"
      ]
     },
     "metadata": {
      "needs_background": "light"
     },
     "output_type": "display_data"
    },
    {
     "data": {
      "image/png": "[encoded data removed]",
      "text/plain": [
       "<Figure size 288x72 with 4 Axes>"
      ]
     },
     "metadata": {
      "needs_background": "light"
     },
     "output_type": "display_data"
    },
    {
     "data": {
      "image/png": "[encoded data removed]",
      "text/plain": [
       "<Figure size 72x72 with 1 Axes>"
      ]
     },
     "metadata": {
      "needs_background": "light"
     },
     "output_type": "display_data"
    },
    {
     "data": {
      "image/png": "[encoded data removed]",
      "text/plain": [
       "<Figure size 576x72 with 8 Axes>"
      ]
     },
     "metadata": {
      "needs_background": "light"
     },
     "output_type": "display_data"
    },
    {
     "data": {
      "image/png": "[encoded data removed]",
      "text/plain": [
       "<Figure size 288x72 with 4 Axes>"
      ]
     },
     "metadata": {
      "needs_background": "light"
     },
     "output_type": "display_data"
    }
   ],
   "source": [
    "def create_rotations(test_grid):\n",
    "    rotations = [test_grid]\n",
    "    for i in range(4):\n",
    "        a = np.rot90(test_grid,i)\n",
    "        b = np.flip(np.rot90(test_grid,i),0)\n",
    "        if all(not np.array_equal(a,x) for x in rotations):\n",
    "            rotations.append(a)\n",
    "        if all(not np.array_equal(b,x) for x in rotations):\n",
    "            rotations.append(b)\n",
    "        \n",
    "    return(rotations)\n",
    "\n",
    "\n",
    "shape_list = [[np.array([[' ', 'F', ' '],\n",
    "                       ['F', 'F', 'F'],\n",
    "                       ['F', ' ', ' ']], dtype=object),\"F\"],\n",
    "             [np.array([['I', 'I', 'I', 'I', 'I']], dtype=object),\"I\"],            \n",
    "             [np.array([['L', 'L', 'L', 'L'],\n",
    "                       [' ', ' ', ' ', 'L']], dtype=object),\"L\"],\n",
    "             [np.array([[' ', ' ', 'N', 'N'],\n",
    "                       ['N', 'N', 'N', ' ']], dtype=object),\"N\"],\n",
    "             [np.array([['P', 'P', 'P'],\n",
    "                       ['P', 'P', ' ']], dtype=object),\"P\"],\n",
    "             [np.array([['T', ' ', ' '],\n",
    "                       ['T', 'T', 'T'],\n",
    "                       ['T', ' ', ' ']], dtype=object),\"T\"],\n",
    "             [np.array([['U', 'U'],\n",
    "                       [' ', 'U'],\n",
    "                       ['U', 'U']], dtype=object),\"U\"],\n",
    "             [np.array([['V', 'V', 'V'],\n",
    "                       [' ', ' ', 'V'],\n",
    "                       [' ', ' ', 'V']], dtype=object),\"V\"],\n",
    "             [np.array([['W', 'W', ' '],\n",
    "                       [' ', 'W', 'W'],\n",
    "                       [' ', ' ', 'W']], dtype=object),\"W\"],\n",
    "             [np.array([[' ', 'X', ' '],\n",
    "                       ['X', 'X', 'X'],\n",
    "                       [' ', 'X', ' ']], dtype=object),\"X\"],\n",
    "             [np.array([[' ', 'Y', ' ', ' '],\n",
    "                       ['Y', 'Y', 'Y', 'Y']], dtype=object),\"Y\"],\n",
    "             [np.array([['Z', ' ', ' '],\n",
    "                       ['Z', 'Z', 'Z'],\n",
    "                       [' ', ' ', 'Z']], dtype=object),\"Z\"]]\n",
    "\n",
    "available_shapes = []\n",
    "for s in shape_list:\n",
    "    shape = create_rotations(s[0])\n",
    "    l = len(shape)\n",
    "    fig,axs = plt.subplots(1,l,figsize =(l,1))\n",
    "    count =0\n",
    "    for i in shape:\n",
    "        if l > 1 :\n",
    "            axs[count] = sns.heatmap(i != ' ',annot=i,cbar=False,cmap=\"Reds\",fmt=\"\",linewidths=1,annot_kws={\"size\":14},linecolor='grey',ax = axs[count])\n",
    "            axs[count].axis(\"off\")\n",
    "            count +=1\n",
    "        else:\n",
    "            axs = sns.heatmap(i != ' ',annot=i,cbar=False,cmap=\"Reds\",fmt=\"\",linewidths=1,annot_kws={\"size\":14},linecolor='grey')\n",
    "            axs.axis(\"off\")"
   ]
  },
  {
   "cell_type": "code",
   "execution_count": 200,
   "id": "773b35fa",
   "metadata": {},
   "outputs": [],
   "source": [
    "shape_list = [[np.array([[' ', 'F', ' '],\n",
    "                       ['F', 'F', 'F'],\n",
    "                       ['F', ' ', ' ']], dtype=object),\"F\"],\n",
    "             [np.array([['I', 'I', 'I', 'I', 'I']], dtype=object),\"I\"],            \n",
    "             [np.array([['L', 'L', 'L', 'L'],\n",
    "                       [' ', ' ', ' ', 'L']], dtype=object),\"L\"],\n",
    "             [np.array([[' ', ' ', 'N', 'N'],\n",
    "                       ['N', 'N', 'N', ' ']], dtype=object),\"N\"],\n",
    "             [np.array([['P', 'P', 'P'],\n",
    "                       ['P', 'P', ' ']], dtype=object),\"P\"],\n",
    "             [np.array([['T', ' ', ' '],\n",
    "                       ['T', 'T', 'T'],\n",
    "                       ['T', ' ', ' ']], dtype=object),\"T\"],\n",
    "             [np.array([['U', 'U'],\n",
    "                       [' ', 'U'],\n",
    "                       ['U', 'U']], dtype=object),\"U\"],\n",
    "             [np.array([['V', 'V', 'V'],\n",
    "                       [' ', ' ', 'V'],\n",
    "                       [' ', ' ', 'V']], dtype=object),\"V\"],\n",
    "             [np.array([['W', 'W', ' '],\n",
    "                       [' ', 'W', 'W'],\n",
    "                       [' ', ' ', 'W']], dtype=object),\"W\"],\n",
    "             [np.array([[' ', 'X', ' '],\n",
    "                       ['X', 'X', 'X'],\n",
    "                       [' ', 'X', ' ']], dtype=object),\"X\"],\n",
    "             [np.array([[' ', 'Y', ' ', ' '],\n",
    "                       ['Y', 'Y', 'Y', 'Y']], dtype=object),\"Y\"],\n",
    "             [np.array([['Z', ' ', ' '],\n",
    "                       ['Z', 'Z', 'Z'],\n",
    "                       [' ', ' ', 'Z']], dtype=object),\"Z\"]]\n",
    "\n",
    "def fill(grid,poss_shapes):\n",
    "    height,width = grid.shape\n",
    "    poss_grids = [[grid,[i[1] for i in poss_shapes]]]\n",
    "    solutions = []\n",
    "    rotations = {i[1]:create_rotations(i[0]) for i in poss_shapes}\n",
    "    while len(poss_grids) > 0:\n",
    "        g,s = poss_grids.pop()\n",
    "        for shape in s:\n",
    "             for rot in rotations[shape]:\n",
    "                for i in range(height-rot.shape[0]+1):\n",
    "                    for j in range(width-rot.shape[1]+1):\n",
    "                        test_grid = dcopy(g)\n",
    "                        test,new_grid = place(test_grid,rot,i,j)\n",
    "                        if test:\n",
    "                            if ' ' in new_grid:\n",
    "                                poss_grids.append([new_grid,[x for x in s if not np.array_equal(x,shape)]])                        \n",
    "                            else:\n",
    "                                return new_grid\n",
    "\n",
    "def place(test_grid,rot,i,j):  \n",
    "    for x in range(rot.shape[0]):\n",
    "        for y in range(rot.shape[1]):\n",
    "            if test_grid[i+x,j+y] !=' ' and rot[x,y] !=' ':\n",
    "                return False,[]\n",
    "            elif rot[x,y] !=' ':\n",
    "                test_grid[i+x,j+y] = rot[x,y]\n",
    "    return True,test_grid\n",
    "    \n",
    "\n",
    "\n"
   ]
  },
  {
   "cell_type": "code",
   "execution_count": 204,
   "id": "d34e64a0",
   "metadata": {},
   "outputs": [
    {
     "name": "stdout",
     "output_type": "stream",
     "text": [
      "Took 1.306361436843872 seconds\n"
     ]
    },
    {
     "data": {
      "image/png": "[encoded data removed]",
      "text/plain": [
       "<Figure size 216x216 with 1 Axes>"
      ]
     },
     "metadata": {
      "needs_background": "light"
     },
     "output_type": "display_data"
    }
   ],
   "source": [
    "start = time()\n",
    "holes = np.zeros((5,5),dtype=object)\n",
    "holes[holes==1] ='.'\n",
    "holes[holes==0] =' '\n",
    "\n",
    "\n",
    "\n",
    "i = fill(holes,shape_list)\n",
    "\n",
    "\n",
    "shapes = [' ','F', 'I', 'L', 'N', 'P', 'T', 'U', 'V', 'W', 'X', 'Y', 'Z']\n",
    "mapping = np.vectorize(lambda x:shapes.index(x))\n",
    "shading = mapping(i)\n",
    "fig,axs = plt.subplots(1,1,figsize =(3,3))\n",
    "axs = sns.heatmap(shading,annot=i,cbar=False,cmap=\"tab10\",fmt=\"\",linewidths=1,annot_kws={\"size\":14},linecolor='grey')\n",
    "axs.axis(\"off\")\n",
    "print(\"Took {} seconds\".format(time()-start))"
   ]
  },
  {
   "cell_type": "markdown",
   "id": "336f446e",
   "metadata": {},
   "source": [
    "<img src=\"https://www.janestreet.com/puzzles/20181203_pent-up_ans.png\" width = 200>"
   ]
  },
  {
   "cell_type": "code",
   "execution_count": 189,
   "id": "969219d5",
   "metadata": {},
   "outputs": [
    {
     "ename": "KeyboardInterrupt",
     "evalue": "",
     "output_type": "error",
     "traceback": [
      "\u001b[1;31m---------------------------------------------------------------------------\u001b[0m",
      "\u001b[1;31mKeyboardInterrupt\u001b[0m                         Traceback (most recent call last)",
      "\u001b[1;32m<ipython-input-189-b8070f0f3d0f>\u001b[0m in \u001b[0;36m<module>\u001b[1;34m\u001b[0m\n\u001b[0;32m     12\u001b[0m \u001b[0mholes\u001b[0m\u001b[1;33m[\u001b[0m\u001b[0mholes\u001b[0m\u001b[1;33m==\u001b[0m\u001b[1;36m0\u001b[0m\u001b[1;33m]\u001b[0m \u001b[1;33m=\u001b[0m\u001b[1;34m' '\u001b[0m\u001b[1;33m\u001b[0m\u001b[1;33m\u001b[0m\u001b[0m\n\u001b[0;32m     13\u001b[0m \u001b[1;33m\u001b[0m\u001b[0m\n\u001b[1;32m---> 14\u001b[1;33m \u001b[0mi\u001b[0m \u001b[1;33m=\u001b[0m \u001b[0mfill\u001b[0m\u001b[1;33m(\u001b[0m\u001b[0mholes\u001b[0m\u001b[1;33m,\u001b[0m\u001b[0mshape_list\u001b[0m\u001b[1;33m)\u001b[0m\u001b[1;33m\u001b[0m\u001b[1;33m\u001b[0m\u001b[0m\n\u001b[0m\u001b[0;32m     15\u001b[0m \u001b[0mshapes\u001b[0m \u001b[1;33m=\u001b[0m \u001b[1;33m[\u001b[0m\u001b[1;34m' '\u001b[0m\u001b[1;33m,\u001b[0m\u001b[1;34m'F'\u001b[0m\u001b[1;33m,\u001b[0m \u001b[1;34m'I'\u001b[0m\u001b[1;33m,\u001b[0m \u001b[1;34m'L'\u001b[0m\u001b[1;33m,\u001b[0m \u001b[1;34m'N'\u001b[0m\u001b[1;33m,\u001b[0m \u001b[1;34m'P'\u001b[0m\u001b[1;33m,\u001b[0m \u001b[1;34m'T'\u001b[0m\u001b[1;33m,\u001b[0m \u001b[1;34m'U'\u001b[0m\u001b[1;33m,\u001b[0m \u001b[1;34m'V'\u001b[0m\u001b[1;33m,\u001b[0m \u001b[1;34m'W'\u001b[0m\u001b[1;33m,\u001b[0m \u001b[1;34m'X'\u001b[0m\u001b[1;33m,\u001b[0m \u001b[1;34m'Y'\u001b[0m\u001b[1;33m,\u001b[0m \u001b[1;34m'Z'\u001b[0m\u001b[1;33m]\u001b[0m\u001b[1;33m\u001b[0m\u001b[1;33m\u001b[0m\u001b[0m\n\u001b[0;32m     16\u001b[0m \u001b[0mmapping\u001b[0m \u001b[1;33m=\u001b[0m \u001b[0mnp\u001b[0m\u001b[1;33m.\u001b[0m\u001b[0mvectorize\u001b[0m\u001b[1;33m(\u001b[0m\u001b[1;32mlambda\u001b[0m \u001b[0mx\u001b[0m\u001b[1;33m:\u001b[0m\u001b[0mshapes\u001b[0m\u001b[1;33m.\u001b[0m\u001b[0mindex\u001b[0m\u001b[1;33m(\u001b[0m\u001b[0mx\u001b[0m\u001b[1;33m)\u001b[0m\u001b[1;33m)\u001b[0m\u001b[1;33m\u001b[0m\u001b[1;33m\u001b[0m\u001b[0m\n",
      "\u001b[1;32m<ipython-input-173-8e479b7561b2>\u001b[0m in \u001b[0;36mfill\u001b[1;34m(grid, poss_shapes)\u001b[0m\n\u001b[0;32m     35\u001b[0m     \u001b[0mposs_grids\u001b[0m \u001b[1;33m=\u001b[0m \u001b[1;33m[\u001b[0m\u001b[0mgrid\u001b[0m\u001b[1;33m,\u001b[0m\u001b[1;33m[\u001b[0m\u001b[0mi\u001b[0m\u001b[1;33m[\u001b[0m\u001b[1;36m1\u001b[0m\u001b[1;33m]\u001b[0m \u001b[1;32mfor\u001b[0m \u001b[0mi\u001b[0m \u001b[1;32min\u001b[0m \u001b[0mposs_shapes\u001b[0m\u001b[1;33m]\u001b[0m\u001b[1;33m]\u001b[0m\u001b[1;33m\u001b[0m\u001b[1;33m\u001b[0m\u001b[0m\n\u001b[0;32m     36\u001b[0m     \u001b[0mrotations\u001b[0m \u001b[1;33m=\u001b[0m \u001b[1;33m{\u001b[0m\u001b[0mi\u001b[0m\u001b[1;33m[\u001b[0m\u001b[1;36m1\u001b[0m\u001b[1;33m]\u001b[0m\u001b[1;33m:\u001b[0m\u001b[0mcreate_rotations\u001b[0m\u001b[1;33m(\u001b[0m\u001b[0mi\u001b[0m\u001b[1;33m[\u001b[0m\u001b[1;36m0\u001b[0m\u001b[1;33m]\u001b[0m\u001b[1;33m)\u001b[0m \u001b[1;32mfor\u001b[0m \u001b[0mi\u001b[0m \u001b[1;32min\u001b[0m \u001b[0mposs_shapes\u001b[0m\u001b[1;33m}\u001b[0m\u001b[1;33m\u001b[0m\u001b[1;33m\u001b[0m\u001b[0m\n\u001b[1;32m---> 37\u001b[1;33m     \u001b[0mfill_loop\u001b[0m\u001b[1;33m(\u001b[0m\u001b[0mposs_grids\u001b[0m\u001b[1;33m,\u001b[0m\u001b[0mrotations\u001b[0m\u001b[1;33m,\u001b[0m\u001b[0mheight\u001b[0m\u001b[1;33m,\u001b[0m\u001b[0mwidth\u001b[0m\u001b[1;33m)\u001b[0m\u001b[1;33m\u001b[0m\u001b[1;33m\u001b[0m\u001b[0m\n\u001b[0m\u001b[0;32m     38\u001b[0m \u001b[1;33m\u001b[0m\u001b[0m\n\u001b[0;32m     39\u001b[0m \u001b[1;32mdef\u001b[0m \u001b[0mfill_loop\u001b[0m\u001b[1;33m(\u001b[0m\u001b[0mposs_grids\u001b[0m\u001b[1;33m,\u001b[0m\u001b[0mrotations\u001b[0m\u001b[1;33m,\u001b[0m\u001b[0mheight\u001b[0m\u001b[1;33m,\u001b[0m\u001b[0mwidth\u001b[0m\u001b[1;33m)\u001b[0m\u001b[1;33m:\u001b[0m\u001b[1;33m\u001b[0m\u001b[1;33m\u001b[0m\u001b[0m\n",
      "\u001b[1;32m<ipython-input-173-8e479b7561b2>\u001b[0m in \u001b[0;36mfill_loop\u001b[1;34m(poss_grids, rotations, height, width)\u001b[0m\n\u001b[0;32m     50\u001b[0m                     \u001b[0mtest\u001b[0m\u001b[1;33m,\u001b[0m\u001b[0mnew_grid\u001b[0m \u001b[1;33m=\u001b[0m \u001b[0mplace\u001b[0m\u001b[1;33m(\u001b[0m\u001b[0mtest_grid\u001b[0m\u001b[1;33m,\u001b[0m\u001b[0mrot\u001b[0m\u001b[1;33m,\u001b[0m\u001b[0mi\u001b[0m\u001b[1;33m,\u001b[0m\u001b[0mj\u001b[0m\u001b[1;33m)\u001b[0m\u001b[1;33m\u001b[0m\u001b[1;33m\u001b[0m\u001b[0m\n\u001b[0;32m     51\u001b[0m                     \u001b[1;32mif\u001b[0m \u001b[0mtest\u001b[0m\u001b[1;33m:\u001b[0m\u001b[1;33m\u001b[0m\u001b[1;33m\u001b[0m\u001b[0m\n\u001b[1;32m---> 52\u001b[1;33m                         \u001b[0mfill_loop\u001b[0m\u001b[1;33m(\u001b[0m\u001b[1;33m[\u001b[0m\u001b[0mnew_grid\u001b[0m\u001b[1;33m,\u001b[0m\u001b[1;33m[\u001b[0m\u001b[0mx\u001b[0m \u001b[1;32mfor\u001b[0m \u001b[0mx\u001b[0m \u001b[1;32min\u001b[0m \u001b[0ms\u001b[0m \u001b[1;32mif\u001b[0m \u001b[1;32mnot\u001b[0m \u001b[0mnp\u001b[0m\u001b[1;33m.\u001b[0m\u001b[0marray_equal\u001b[0m\u001b[1;33m(\u001b[0m\u001b[0mx\u001b[0m\u001b[1;33m,\u001b[0m\u001b[0mshape\u001b[0m\u001b[1;33m)\u001b[0m\u001b[1;33m]\u001b[0m\u001b[1;33m]\u001b[0m\u001b[1;33m,\u001b[0m\u001b[0mrotations\u001b[0m\u001b[1;33m,\u001b[0m\u001b[0mheight\u001b[0m\u001b[1;33m,\u001b[0m\u001b[0mwidth\u001b[0m\u001b[1;33m)\u001b[0m\u001b[1;33m\u001b[0m\u001b[1;33m\u001b[0m\u001b[0m\n\u001b[0m\u001b[0;32m     53\u001b[0m     \u001b[1;32mreturn\u001b[0m\u001b[1;33m\u001b[0m\u001b[1;33m\u001b[0m\u001b[0m\n\u001b[0;32m     54\u001b[0m \u001b[1;33m\u001b[0m\u001b[0m\n",
      "\u001b[1;32m<ipython-input-173-8e479b7561b2>\u001b[0m in \u001b[0;36mfill_loop\u001b[1;34m(poss_grids, rotations, height, width)\u001b[0m\n\u001b[0;32m     50\u001b[0m                     \u001b[0mtest\u001b[0m\u001b[1;33m,\u001b[0m\u001b[0mnew_grid\u001b[0m \u001b[1;33m=\u001b[0m \u001b[0mplace\u001b[0m\u001b[1;33m(\u001b[0m\u001b[0mtest_grid\u001b[0m\u001b[1;33m,\u001b[0m\u001b[0mrot\u001b[0m\u001b[1;33m,\u001b[0m\u001b[0mi\u001b[0m\u001b[1;33m,\u001b[0m\u001b[0mj\u001b[0m\u001b[1;33m)\u001b[0m\u001b[1;33m\u001b[0m\u001b[1;33m\u001b[0m\u001b[0m\n\u001b[0;32m     51\u001b[0m                     \u001b[1;32mif\u001b[0m \u001b[0mtest\u001b[0m\u001b[1;33m:\u001b[0m\u001b[1;33m\u001b[0m\u001b[1;33m\u001b[0m\u001b[0m\n\u001b[1;32m---> 52\u001b[1;33m                         \u001b[0mfill_loop\u001b[0m\u001b[1;33m(\u001b[0m\u001b[1;33m[\u001b[0m\u001b[0mnew_grid\u001b[0m\u001b[1;33m,\u001b[0m\u001b[1;33m[\u001b[0m\u001b[0mx\u001b[0m \u001b[1;32mfor\u001b[0m \u001b[0mx\u001b[0m \u001b[1;32min\u001b[0m \u001b[0ms\u001b[0m \u001b[1;32mif\u001b[0m \u001b[1;32mnot\u001b[0m \u001b[0mnp\u001b[0m\u001b[1;33m.\u001b[0m\u001b[0marray_equal\u001b[0m\u001b[1;33m(\u001b[0m\u001b[0mx\u001b[0m\u001b[1;33m,\u001b[0m\u001b[0mshape\u001b[0m\u001b[1;33m)\u001b[0m\u001b[1;33m]\u001b[0m\u001b[1;33m]\u001b[0m\u001b[1;33m,\u001b[0m\u001b[0mrotations\u001b[0m\u001b[1;33m,\u001b[0m\u001b[0mheight\u001b[0m\u001b[1;33m,\u001b[0m\u001b[0mwidth\u001b[0m\u001b[1;33m)\u001b[0m\u001b[1;33m\u001b[0m\u001b[1;33m\u001b[0m\u001b[0m\n\u001b[0m\u001b[0;32m     53\u001b[0m     \u001b[1;32mreturn\u001b[0m\u001b[1;33m\u001b[0m\u001b[1;33m\u001b[0m\u001b[0m\n\u001b[0;32m     54\u001b[0m \u001b[1;33m\u001b[0m\u001b[0m\n",
      "\u001b[1;32m<ipython-input-173-8e479b7561b2>\u001b[0m in \u001b[0;36mfill_loop\u001b[1;34m(poss_grids, rotations, height, width)\u001b[0m\n\u001b[0;32m     50\u001b[0m                     \u001b[0mtest\u001b[0m\u001b[1;33m,\u001b[0m\u001b[0mnew_grid\u001b[0m \u001b[1;33m=\u001b[0m \u001b[0mplace\u001b[0m\u001b[1;33m(\u001b[0m\u001b[0mtest_grid\u001b[0m\u001b[1;33m,\u001b[0m\u001b[0mrot\u001b[0m\u001b[1;33m,\u001b[0m\u001b[0mi\u001b[0m\u001b[1;33m,\u001b[0m\u001b[0mj\u001b[0m\u001b[1;33m)\u001b[0m\u001b[1;33m\u001b[0m\u001b[1;33m\u001b[0m\u001b[0m\n\u001b[0;32m     51\u001b[0m                     \u001b[1;32mif\u001b[0m \u001b[0mtest\u001b[0m\u001b[1;33m:\u001b[0m\u001b[1;33m\u001b[0m\u001b[1;33m\u001b[0m\u001b[0m\n\u001b[1;32m---> 52\u001b[1;33m                         \u001b[0mfill_loop\u001b[0m\u001b[1;33m(\u001b[0m\u001b[1;33m[\u001b[0m\u001b[0mnew_grid\u001b[0m\u001b[1;33m,\u001b[0m\u001b[1;33m[\u001b[0m\u001b[0mx\u001b[0m \u001b[1;32mfor\u001b[0m \u001b[0mx\u001b[0m \u001b[1;32min\u001b[0m \u001b[0ms\u001b[0m \u001b[1;32mif\u001b[0m \u001b[1;32mnot\u001b[0m \u001b[0mnp\u001b[0m\u001b[1;33m.\u001b[0m\u001b[0marray_equal\u001b[0m\u001b[1;33m(\u001b[0m\u001b[0mx\u001b[0m\u001b[1;33m,\u001b[0m\u001b[0mshape\u001b[0m\u001b[1;33m)\u001b[0m\u001b[1;33m]\u001b[0m\u001b[1;33m]\u001b[0m\u001b[1;33m,\u001b[0m\u001b[0mrotations\u001b[0m\u001b[1;33m,\u001b[0m\u001b[0mheight\u001b[0m\u001b[1;33m,\u001b[0m\u001b[0mwidth\u001b[0m\u001b[1;33m)\u001b[0m\u001b[1;33m\u001b[0m\u001b[1;33m\u001b[0m\u001b[0m\n\u001b[0m\u001b[0;32m     53\u001b[0m     \u001b[1;32mreturn\u001b[0m\u001b[1;33m\u001b[0m\u001b[1;33m\u001b[0m\u001b[0m\n\u001b[0;32m     54\u001b[0m \u001b[1;33m\u001b[0m\u001b[0m\n",
      "\u001b[1;32m<ipython-input-173-8e479b7561b2>\u001b[0m in \u001b[0;36mfill_loop\u001b[1;34m(poss_grids, rotations, height, width)\u001b[0m\n\u001b[0;32m     50\u001b[0m                     \u001b[0mtest\u001b[0m\u001b[1;33m,\u001b[0m\u001b[0mnew_grid\u001b[0m \u001b[1;33m=\u001b[0m \u001b[0mplace\u001b[0m\u001b[1;33m(\u001b[0m\u001b[0mtest_grid\u001b[0m\u001b[1;33m,\u001b[0m\u001b[0mrot\u001b[0m\u001b[1;33m,\u001b[0m\u001b[0mi\u001b[0m\u001b[1;33m,\u001b[0m\u001b[0mj\u001b[0m\u001b[1;33m)\u001b[0m\u001b[1;33m\u001b[0m\u001b[1;33m\u001b[0m\u001b[0m\n\u001b[0;32m     51\u001b[0m                     \u001b[1;32mif\u001b[0m \u001b[0mtest\u001b[0m\u001b[1;33m:\u001b[0m\u001b[1;33m\u001b[0m\u001b[1;33m\u001b[0m\u001b[0m\n\u001b[1;32m---> 52\u001b[1;33m                         \u001b[0mfill_loop\u001b[0m\u001b[1;33m(\u001b[0m\u001b[1;33m[\u001b[0m\u001b[0mnew_grid\u001b[0m\u001b[1;33m,\u001b[0m\u001b[1;33m[\u001b[0m\u001b[0mx\u001b[0m \u001b[1;32mfor\u001b[0m \u001b[0mx\u001b[0m \u001b[1;32min\u001b[0m \u001b[0ms\u001b[0m \u001b[1;32mif\u001b[0m \u001b[1;32mnot\u001b[0m \u001b[0mnp\u001b[0m\u001b[1;33m.\u001b[0m\u001b[0marray_equal\u001b[0m\u001b[1;33m(\u001b[0m\u001b[0mx\u001b[0m\u001b[1;33m,\u001b[0m\u001b[0mshape\u001b[0m\u001b[1;33m)\u001b[0m\u001b[1;33m]\u001b[0m\u001b[1;33m]\u001b[0m\u001b[1;33m,\u001b[0m\u001b[0mrotations\u001b[0m\u001b[1;33m,\u001b[0m\u001b[0mheight\u001b[0m\u001b[1;33m,\u001b[0m\u001b[0mwidth\u001b[0m\u001b[1;33m)\u001b[0m\u001b[1;33m\u001b[0m\u001b[1;33m\u001b[0m\u001b[0m\n\u001b[0m\u001b[0;32m     53\u001b[0m     \u001b[1;32mreturn\u001b[0m\u001b[1;33m\u001b[0m\u001b[1;33m\u001b[0m\u001b[0m\n\u001b[0;32m     54\u001b[0m \u001b[1;33m\u001b[0m\u001b[0m\n",
      "\u001b[1;32m<ipython-input-173-8e479b7561b2>\u001b[0m in \u001b[0;36mfill_loop\u001b[1;34m(poss_grids, rotations, height, width)\u001b[0m\n\u001b[0;32m     48\u001b[0m                 \u001b[1;32mfor\u001b[0m \u001b[0mj\u001b[0m \u001b[1;32min\u001b[0m \u001b[0mrange\u001b[0m\u001b[1;33m(\u001b[0m\u001b[0mwidth\u001b[0m\u001b[1;33m-\u001b[0m\u001b[0mrot\u001b[0m\u001b[1;33m.\u001b[0m\u001b[0mshape\u001b[0m\u001b[1;33m[\u001b[0m\u001b[1;36m1\u001b[0m\u001b[1;33m]\u001b[0m\u001b[1;33m+\u001b[0m\u001b[1;36m1\u001b[0m\u001b[1;33m)\u001b[0m\u001b[1;33m:\u001b[0m\u001b[1;33m\u001b[0m\u001b[1;33m\u001b[0m\u001b[0m\n\u001b[0;32m     49\u001b[0m                     \u001b[0mtest_grid\u001b[0m \u001b[1;33m=\u001b[0m \u001b[0mdcopy\u001b[0m\u001b[1;33m(\u001b[0m\u001b[0mg\u001b[0m\u001b[1;33m)\u001b[0m\u001b[1;33m\u001b[0m\u001b[1;33m\u001b[0m\u001b[0m\n\u001b[1;32m---> 50\u001b[1;33m                     \u001b[0mtest\u001b[0m\u001b[1;33m,\u001b[0m\u001b[0mnew_grid\u001b[0m \u001b[1;33m=\u001b[0m \u001b[0mplace\u001b[0m\u001b[1;33m(\u001b[0m\u001b[0mtest_grid\u001b[0m\u001b[1;33m,\u001b[0m\u001b[0mrot\u001b[0m\u001b[1;33m,\u001b[0m\u001b[0mi\u001b[0m\u001b[1;33m,\u001b[0m\u001b[0mj\u001b[0m\u001b[1;33m)\u001b[0m\u001b[1;33m\u001b[0m\u001b[1;33m\u001b[0m\u001b[0m\n\u001b[0m\u001b[0;32m     51\u001b[0m                     \u001b[1;32mif\u001b[0m \u001b[0mtest\u001b[0m\u001b[1;33m:\u001b[0m\u001b[1;33m\u001b[0m\u001b[1;33m\u001b[0m\u001b[0m\n\u001b[0;32m     52\u001b[0m                         \u001b[0mfill_loop\u001b[0m\u001b[1;33m(\u001b[0m\u001b[1;33m[\u001b[0m\u001b[0mnew_grid\u001b[0m\u001b[1;33m,\u001b[0m\u001b[1;33m[\u001b[0m\u001b[0mx\u001b[0m \u001b[1;32mfor\u001b[0m \u001b[0mx\u001b[0m \u001b[1;32min\u001b[0m \u001b[0ms\u001b[0m \u001b[1;32mif\u001b[0m \u001b[1;32mnot\u001b[0m \u001b[0mnp\u001b[0m\u001b[1;33m.\u001b[0m\u001b[0marray_equal\u001b[0m\u001b[1;33m(\u001b[0m\u001b[0mx\u001b[0m\u001b[1;33m,\u001b[0m\u001b[0mshape\u001b[0m\u001b[1;33m)\u001b[0m\u001b[1;33m]\u001b[0m\u001b[1;33m]\u001b[0m\u001b[1;33m,\u001b[0m\u001b[0mrotations\u001b[0m\u001b[1;33m,\u001b[0m\u001b[0mheight\u001b[0m\u001b[1;33m,\u001b[0m\u001b[0mwidth\u001b[0m\u001b[1;33m)\u001b[0m\u001b[1;33m\u001b[0m\u001b[1;33m\u001b[0m\u001b[0m\n",
      "\u001b[1;32m<ipython-input-173-8e479b7561b2>\u001b[0m in \u001b[0;36mplace\u001b[1;34m(test_grid, rot, i, j)\u001b[0m\n\u001b[0;32m     55\u001b[0m \u001b[1;32mdef\u001b[0m \u001b[0mplace\u001b[0m\u001b[1;33m(\u001b[0m\u001b[0mtest_grid\u001b[0m\u001b[1;33m,\u001b[0m\u001b[0mrot\u001b[0m\u001b[1;33m,\u001b[0m\u001b[0mi\u001b[0m\u001b[1;33m,\u001b[0m\u001b[0mj\u001b[0m\u001b[1;33m)\u001b[0m\u001b[1;33m:\u001b[0m\u001b[1;33m\u001b[0m\u001b[1;33m\u001b[0m\u001b[0m\n\u001b[0;32m     56\u001b[0m     \u001b[1;32mfor\u001b[0m \u001b[0mx\u001b[0m \u001b[1;32min\u001b[0m \u001b[0mrange\u001b[0m\u001b[1;33m(\u001b[0m\u001b[0mrot\u001b[0m\u001b[1;33m.\u001b[0m\u001b[0mshape\u001b[0m\u001b[1;33m[\u001b[0m\u001b[1;36m0\u001b[0m\u001b[1;33m]\u001b[0m\u001b[1;33m)\u001b[0m\u001b[1;33m:\u001b[0m\u001b[1;33m\u001b[0m\u001b[1;33m\u001b[0m\u001b[0m\n\u001b[1;32m---> 57\u001b[1;33m         \u001b[1;32mfor\u001b[0m \u001b[0my\u001b[0m \u001b[1;32min\u001b[0m \u001b[0mrange\u001b[0m\u001b[1;33m(\u001b[0m\u001b[0mrot\u001b[0m\u001b[1;33m.\u001b[0m\u001b[0mshape\u001b[0m\u001b[1;33m[\u001b[0m\u001b[1;36m1\u001b[0m\u001b[1;33m]\u001b[0m\u001b[1;33m)\u001b[0m\u001b[1;33m:\u001b[0m\u001b[1;33m\u001b[0m\u001b[1;33m\u001b[0m\u001b[0m\n\u001b[0m\u001b[0;32m     58\u001b[0m             \u001b[1;32mif\u001b[0m \u001b[0mtest_grid\u001b[0m\u001b[1;33m[\u001b[0m\u001b[0mi\u001b[0m\u001b[1;33m+\u001b[0m\u001b[0mx\u001b[0m\u001b[1;33m,\u001b[0m\u001b[0mj\u001b[0m\u001b[1;33m+\u001b[0m\u001b[0my\u001b[0m\u001b[1;33m]\u001b[0m \u001b[1;33m!=\u001b[0m\u001b[1;34m' '\u001b[0m \u001b[1;32mand\u001b[0m \u001b[0mrot\u001b[0m\u001b[1;33m[\u001b[0m\u001b[0mx\u001b[0m\u001b[1;33m,\u001b[0m\u001b[0my\u001b[0m\u001b[1;33m]\u001b[0m \u001b[1;33m!=\u001b[0m\u001b[1;34m' '\u001b[0m\u001b[1;33m:\u001b[0m\u001b[1;33m\u001b[0m\u001b[1;33m\u001b[0m\u001b[0m\n\u001b[0;32m     59\u001b[0m                 \u001b[1;32mreturn\u001b[0m \u001b[1;32mFalse\u001b[0m\u001b[1;33m,\u001b[0m\u001b[1;33m[\u001b[0m\u001b[1;33m]\u001b[0m\u001b[1;33m\u001b[0m\u001b[1;33m\u001b[0m\u001b[0m\n",
      "\u001b[1;31mKeyboardInterrupt\u001b[0m: "
     ]
    }
   ],
   "source": [
    "holes= np.array([[1, 0, 1, 0, 1, 1, 0, 1],\n",
    "                 [0, 0, 0, 0, 1, 1, 0, 0],\n",
    "                 [1, 0, 1, 0, 0, 0, 0, 1],\n",
    "                 [0, 0, 0, 1, 0, 1, 0, 1],\n",
    "                 [1, 1, 0, 0, 0, 0, 0, 0],\n",
    "                 [0, 0, 0, 1, 0, 1, 0, 1],\n",
    "                 [1, 0, 1, 0, 0, 0, 0, 0],\n",
    "                 [1, 0, 0, 0, 1, 0, 1, 1]],dtype=object)\n",
    "\n",
    "\n",
    "holes[holes==1] ='.'\n",
    "holes[holes==0] =' '\n",
    "\n",
    "i = fill(holes,shape_list)\n",
    "shapes = [' ','F', 'I', 'L', 'N', 'P', 'T', 'U', 'V', 'W', 'X', 'Y', 'Z']\n",
    "mapping = np.vectorize(lambda x:shapes.index(x))\n",
    "shading = mapping(i)\n",
    "fig,axs = plt.subplots(1,1,figsize =(3,3))\n",
    "axs = sns.heatmap(shading,annot=i,cbar=False,cmap=\"tab10\",fmt=\"\",linewidths=1,annot_kws={\"size\":14},linecolor='grey')\n",
    "axs.axis(\"off\")\n",
    "print(\"Took {} seconds\".format(time()-start))"
   ]
  },
  {
   "cell_type": "code",
   "execution_count": null,
   "id": "cddb24c4",
   "metadata": {},
   "outputs": [],
   "source": []
  }
 ],
 "metadata": {
  "kernelspec": {
   "display_name": "Python 3",
   "language": "python",
   "name": "python3"
  },
  "language_info": {
   "codemirror_mode": {
    "name": "ipython",
    "version": 3
   },
   "file_extension": ".py",
   "mimetype": "text/x-python",
   "name": "python",
   "nbconvert_exporter": "python",
   "pygments_lexer": "ipython3",
   "version": "3.7.10"
  }
 },
 "nbformat": 4,
 "nbformat_minor": 5
}
