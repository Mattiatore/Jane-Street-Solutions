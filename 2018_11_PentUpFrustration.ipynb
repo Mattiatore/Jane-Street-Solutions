{
 "cells": [
  {
   "cell_type": "code",
   "execution_count": 1,
   "id": "7c505900",
   "metadata": {},
   "outputs": [],
   "source": [
    "import time\n",
    "import numpy as np\n",
    "import seaborn as sns\n",
    "import matplotlib.pyplot as plt\n",
    "import requests\n",
    "from bs4 import BeautifulSoup\n",
    "from IPython.display import Markdown, display\n",
    "from skimage.morphology import label\n",
    "from scipy.ndimage import measurements\n",
    "import itertools\n",
    "\n",
    "from z3 import *"
   ]
  },
  {
   "cell_type": "code",
   "execution_count": 2,
   "id": "b0aa59c0",
   "metadata": {},
   "outputs": [
    {
     "data": {
      "text/markdown": [
       "### 'Pent-up' Frustration\n",
       "\n",
       "Place as many distinct pentominoes as you want into an 8-by-8 grid, in such a\n",
       "way that the placement is “tight” — i.e., no piece(s) can freely slide around\n",
       "within the grid.\n",
       "The score for a given placement is the\n",
       "sum of the square roots of the areas of\n",
       "the empty regions\n",
       "in the grid.\n",
       "What is the largest score you can obtain?\n",
       "This month, when you send in your entry, please send in your grid. Please use\n",
       "the\n",
       "standard\n",
       "notation\n",
       ", — i.e. F,\n",
       "I, L, N, P, T, U, V, W, X, Y, Z — and use “.” to denote empty spaces. (So the\n",
       "top row in the valid placement example would be “…Z..LL”)"
      ],
      "text/plain": [
       "<IPython.core.display.Markdown object>"
      ]
     },
     "metadata": {},
     "output_type": "display_data"
    }
   ],
   "source": [
    "url='https://www.janestreet.com/puzzles/pent-up-frustration-index/'\n",
    "res = requests.get(url)\n",
    "soup = BeautifulSoup(res.content, 'html.parser')\n",
    "y =[text for text in soup.body.stripped_strings]\n",
    "#display([[i,j] for i,j in enumerate(y)])\n",
    "display(Markdown(\"### \"+y[7]+\"\\n\\n\"+str(\"\\n\".join(y[10:18]))))\n",
    "\n",
    "# First steps to do the pentomino filling and work out the score.\n",
    "#\n",
    "# How to move to actually getting the optimum score is a much harder question\n",
    "# https://www.jstage.jst.go.jp/article/ipsjjip/23/3/23_252/_pdf/-char/ja\n"
   ]
  },
  {
   "cell_type": "markdown",
   "id": "6a1b1fe7",
   "metadata": {},
   "source": [
    "<img src='https://www.janestreet.com/puzzles/20181101_pent-up.png' width =300>"
   ]
  },
  {
   "cell_type": "code",
   "execution_count": 3,
   "id": "773b35fa",
   "metadata": {},
   "outputs": [],
   "source": [
    "def reset(positions):\n",
    "    min_x, min_y = min(positions, key=lambda x:x[::-1])\n",
    "    return tuple(sorted((x-min_x, y-min_y) for x, y in positions))\n",
    "\n",
    "def variation(positions):\n",
    "    return list({reset(var) for var in (\n",
    "        positions,\n",
    "        [( x,  y) for x, y in positions], # original\n",
    "        [(-y,  x) for x, y in positions], # Anti-clockwise 90\n",
    "        [(-x, -y) for x, y in positions], # 180\n",
    "        [( y, -x) for x, y in positions], # Clockwise 90\n",
    "\n",
    "        [(-x,  y) for x, y in positions], # Mirror vertical\n",
    "        [(-y, -x) for x, y in positions], # Mirror diagonal\n",
    "        [( x, -y) for x, y in positions], # Mirror horizontal\n",
    "        [( y,  x) for x, y in positions], # Mirror diagonal\n",
    "    )})\n",
    "\n",
    "\n",
    "def orientation(x,y,shape,A,B):\n",
    "    for (alpha,beta) in shape:\n",
    "        links = []\n",
    "        for (i,j) in shape:\n",
    "            if (i,j) !=(alpha,beta):\n",
    "                if  (x+i-alpha >= 0) & (x+i-alpha <A) & (y+j-beta >=0) &  (y+j-beta <B):\n",
    "                     links.append((x+i-alpha,y+j-beta))\n",
    "    \n",
    "            if len(links) == len(shape)-1:\n",
    "                yield links\n",
    "            \n",
    "def forced(x,y,A,B,n):\n",
    "    shapes = [\n",
    "    (((0, 1), (1, 0), (1, 1), (1, 2), (2, 0)), \"F\"),\n",
    "    (((0, 0), (0, 1), (0, 2), (0, 3), (0, 4)), \"I\"),\n",
    "    (((0, 0), (0, 1), (0, 2), (0, 3), (1, 3)), \"L\"),\n",
    "    (((0, 2), (0, 3), (1, 0), (1, 1), (1, 2)), \"N\"),\n",
    "    (((0, 0), (0, 1), (0, 2), (1, 0), (1, 1)), \"P\"),\n",
    "    (((0, 0), (1, 0), (1, 1), (1, 2), (2, 0)), \"T\"),\n",
    "    (((0, 0), (0, 1), (1, 1), (2, 0), (2, 1)), \"U\"),\n",
    "    (((0, 0), (0, 1), (0, 2), (1, 2), (2, 2)), \"V\"),\n",
    "    (((0, 0), (0, 1), (1, 1), (1, 2), (2, 2)), \"W\"),\n",
    "    (((0, 1), (1, 0), (1, 1), (1, 2), (2, 1)), \"X\"),\n",
    "    (((0, 1), (1, 0), (1, 1), (1, 2), (1, 3)), \"Y\"),\n",
    "    (((0, 0), (1, 0), (1, 1), (1, 2), (2, 2)), \"Z\")\n",
    "    ]\n",
    "\n",
    "    shape_variations = {shape: variation(shape) for shape, name in [shapes[n-1]]}\n",
    "\n",
    "    for key,vals in shape_variations.items():\n",
    "        poss = []\n",
    "        for val in vals:\n",
    "            poss += [*orientation(x,y,val,A,B)]\n",
    "    \n",
    "        return poss\n",
    "\n",
    "def place(x,y,n,X,N):\n",
    "    return Or([\n",
    "        And([X[i,j]==n for i,j in force]) \n",
    "        for force in forced(x,y,N[0],N[1],n)\n",
    "            ])\n",
    "\n",
    "def neighbours(i,j,N):\n",
    "    l=[]\n",
    "    if i-1 >= 0:\n",
    "        l.append((i-1,j))\n",
    "    if i+1 < N[0]:\n",
    "        l.append((i+1,j))\n",
    "    if j-1 >= 0:\n",
    "        l.append((i,j-1))\n",
    "    if j+1 < N[1]:\n",
    "        l.append((i,j+1))\n",
    "    return l\n",
    "\n",
    "def direct(x,y,N,X):\n",
    "    if (x >= 0) &  (x < N[0]) & (y >= 0) & (y < N[1]):\n",
    "        return X[x,y]\n",
    "    else:\n",
    "        return 13"
   ]
  },
  {
   "cell_type": "code",
   "execution_count": 4,
   "id": "1697beab-b8d7-4b5c-a1db-515280519f8e",
   "metadata": {},
   "outputs": [],
   "source": [
    "def solve_grid(N, blanks =[]):\n",
    "    start = time.time()\n",
    "    #s = Tactic('qflia').solver()\n",
    "    s = Optimize()\n",
    "    X = np.array([[Int(\"X_%s%s\" % (i+1,j+1)) for j in range(N[1]) ] for i in range(N[0]) ],dtype=object)\n",
    "\n",
    "    s += [X[i,j] == 0 for (i,j) in blanks]\n",
    "    \n",
    "    #  and maxmize the number of 0 cells less the number of 0-0 edges\n",
    "    s.maximize(Sum([If(X[i,j] == 0,1,0) for j in range(N[1]) for i in range(N[0])])\n",
    "               -Sum([If(X[i,j]==0, Sum([If(X[k,l] ==0,1,0)  for (k,l) in neighbours(i,j,N)]),0) \n",
    "                     for j in range(N[1]) for i in range(N[0])])) \n",
    "\n",
    "    # the big one. Set the placements round a given cell for each pentomino\n",
    "    s += [Implies(X[i,j] == n,place(i,j,n,X,N)) for n in range(1,13) for j in range(N[1]) for i in range(N[0])]\n",
    "\n",
    "    #limit the cells to 0 (blank) or 1-12 (pentomino)\n",
    "    s += [Or([X[i,j]==n for n in range(0,13)]) for j in range(N[1]) for i in range(N[0]) ]\n",
    "\n",
    "    #either 5 or 0 of each number\n",
    "    s += [Or(PbEq([(X[i,j]==n,1) for j in range(N[1]) for i in range(N[0])],5),\n",
    "         PbEq([(X[i,j]==n,1) for j in range(N[1]) for i in range(N[0])],0))\n",
    "         for n in range(1,13)]\n",
    "\n",
    "    # coding non-slip (each block edge either has another block or an edge touching int)\n",
    "    for n in range(1,13):\n",
    "        for (a,b) in [(-1,0),(1,0),(0,-1),(0,1)]:\n",
    "            s += Or(PbEq([(X[i,j]==n,1) for j in range(N[1]) for i in range(N[0])],0),\n",
    "                Sum([If(And(X[i,j] == n,direct(i+a,j+b,N,X) != 0,direct(i+a,j+b,N,X) != n),1,0) for j in range(N[1]) for i in range(N[0])]) > 0) \n",
    "    \n",
    "\n",
    "    print(\"SETUP DONE .. in {:0.4f} seconds\".format(time.time()-start))\n",
    "    \n",
    "    if s.check() == sat:\n",
    "        m = s.model()\n",
    "        x = np.array([[m.evaluate(X[i,j]).as_long() for j in range(N[1])] for i in range(N[0])])\n",
    "        labels, num = measurements.label(x==0)\n",
    "        areas = measurements.sum(x==0, labels, index=range(1, num+1))\n",
    "        \n",
    "        fig,ax = plt.subplots(1,1,figsize=(N[1]/2,N[0]/2)) \n",
    "        y = np.array(x).astype('int').astype('str')\n",
    "        shapes = [' ','F', 'I', 'L', 'N', 'P', 'T', 'U', 'V', 'W', 'X', 'Y', 'Z']\n",
    "        mapping = np.vectorize(lambda x:shapes[x])\n",
    "        shading = mapping(x)\n",
    "        sns.heatmap(x,annot=shading,cbar=False,cmap=\"gist_ncar_r\",fmt=\"\",linewidths=2,linecolor=\"grey\",annot_kws={\"size\":12},vmin=0,vmax=12,alpha=.5)\n",
    "        ax.axis(\"off\")\n",
    "        plt.show()\n",
    "        \n",
    "        print('Solution took {:0.4f} seconds'.format(time.time()-start))\n",
    "        labels, num = measurements.label(x==0,output=int)\n",
    "        areas = measurements.sum(x==0, labels, index=range(1, num+1))\n",
    "        print(\"The areas are:{} giving {:.3f} as a solution\".format(areas,np.sum(areas**.5)))\n",
    "    else:\n",
    "        print('Failed after {:0.4f} seconds'.format(time.time()-start))"
   ]
  },
  {
   "cell_type": "code",
   "execution_count": 5,
   "id": "601f8a71-bfe9-4e12-9a5b-1b49596239c2",
   "metadata": {},
   "outputs": [
    {
     "name": "stdout",
     "output_type": "stream",
     "text": [
      "SETUP DONE .. in 1.0150 seconds\n"
     ]
    },
    {
     "data": {
      "image/png": "[encoded data removed]",
      "text/plain": [
       "<Figure size 144x144 with 1 Axes>"
      ]
     },
     "metadata": {
      "needs_background": "light"
     },
     "output_type": "display_data"
    },
    {
     "name": "stdout",
     "output_type": "stream",
     "text": [
      "Solution took 1.8428 seconds\n",
      "The areas are:[1. 2. 1. 1. 1.] giving 5.414 as a solution\n"
     ]
    }
   ],
   "source": [
    "# some setup and tests\n",
    "N= [4,4]\n",
    "solve_grid(N)\n"
   ]
  },
  {
   "cell_type": "code",
   "execution_count": 6,
   "id": "6faa85cf-dea2-47bc-96b2-609ea73f098e",
   "metadata": {},
   "outputs": [
    {
     "name": "stdout",
     "output_type": "stream",
     "text": [
      "SETUP DONE .. in 2.9886 seconds\n"
     ]
    },
    {
     "data": {
      "image/png": "[encoded data removed]",
      "text/plain": [
       "<Figure size 216x216 with 1 Axes>"
      ]
     },
     "metadata": {
      "needs_background": "light"
     },
     "output_type": "display_data"
    },
    {
     "name": "stdout",
     "output_type": "stream",
     "text": [
      "Solution took 92.0963 seconds\n",
      "The areas are:[1. 1. 1. 1. 1. 1. 1. 1. 1. 1. 1.] giving 11.000 as a solution\n"
     ]
    }
   ],
   "source": [
    "N= [6,6]\n",
    "solve_grid(N)"
   ]
  },
  {
   "cell_type": "code",
   "execution_count": 9,
   "id": "79746817-601b-45c9-831b-6a64abbed622",
   "metadata": {},
   "outputs": [
    {
     "name": "stdout",
     "output_type": "stream",
     "text": [
      "SETUP DONE .. in 6.2370 seconds\n"
     ]
    },
    {
     "data": {
      "image/png": "[encoded data removed]",
      "text/plain": [
       "<Figure size 288x288 with 1 Axes>"
      ]
     },
     "metadata": {
      "needs_background": "light"
     },
     "output_type": "display_data"
    },
    {
     "name": "stdout",
     "output_type": "stream",
     "text": [
      "Solution took 16.8850 seconds\n",
      "The areas are:[1. 1. 4. 1. 1. 1. 2. 1. 1. 2. 1. 1. 1. 2. 1. 1. 2.] giving 19.657 as a solution\n"
     ]
    }
   ],
   "source": [
    "N= [8,8]\n",
    "\n",
    "blank = [(0,0),(0,2),(0,4),(0,5),(0,7),\n",
    " (1,4),(1,5),\n",
    " (2,0),(2,2),(2,7),\n",
    " (3,3),(3,5),(3,7),\n",
    " (4,0),(4,1),\n",
    " (5,3),(5,5),(5,7),\n",
    " (6,0),(6,2),\n",
    " (7,0),(7,4),(7,6),(7,7)]\n",
    "\n",
    "solve_grid(N,blank[:16])"
   ]
  },
  {
   "cell_type": "code",
   "execution_count": 8,
   "id": "a703b51e-3b70-4b95-a2bf-64d9fa728c4f",
   "metadata": {},
   "outputs": [
    {
     "data": {
      "text/markdown": [
       "### November 2018 : Solution\n",
       "\n",
       "The highest-scoring configuration is shown here, scoring 14 + 4*sqrt(2), or\n",
       "about\n",
       "19.66\n",
       "points.\n",
       "The top 31-scoring entries we received all used exactly 8 pentominos; the\n",
       "highest-scoring entry to use a different number of pentominos was 17.83 (which\n",
       "used 9)."
      ],
      "text/plain": [
       "<IPython.core.display.Markdown object>"
      ]
     },
     "metadata": {},
     "output_type": "display_data"
    }
   ],
   "source": [
    "url='https://www.janestreet.com/puzzles/pent-up-frustration-solution/'\n",
    "res = requests.get(url)\n",
    "soup = BeautifulSoup(res.content, 'html.parser')\n",
    "y =[text for text in soup.body.stripped_strings]\n",
    "#display([[i,j] for i,j in enumerate(y)])\n",
    "display(Markdown(\"### \"+y[8]+\"\\n\\n\"+str(\"\\n\".join(y[10:14]))))"
   ]
  },
  {
   "cell_type": "markdown",
   "id": "7a32ca6e-9cae-4a54-9940-538016aa2601",
   "metadata": {},
   "source": [
    "<img src=\"https://www.janestreet.com/puzzles/20181203_pent-up_ans.png\" width = 200>"
   ]
  },
  {
   "cell_type": "code",
   "execution_count": null,
   "id": "63c2e912-abcf-497c-aaff-c29c9dd453ca",
   "metadata": {},
   "outputs": [],
   "source": []
  }
 ],
 "metadata": {
  "kernelspec": {
   "display_name": "Python 3",
   "language": "python",
   "name": "python3"
  },
  "language_info": {
   "codemirror_mode": {
    "name": "ipython",
    "version": 3
   },
   "file_extension": ".py",
   "mimetype": "text/x-python",
   "name": "python",
   "nbconvert_exporter": "python",
   "pygments_lexer": "ipython3",
   "version": "3.7.10"
  }
 },
 "nbformat": 4,
 "nbformat_minor": 5
}
