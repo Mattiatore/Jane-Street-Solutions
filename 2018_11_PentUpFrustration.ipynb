{
 "cells": [
  {
   "cell_type": "code",
   "execution_count": 1,
   "id": "7c505900",
   "metadata": {},
   "outputs": [],
   "source": [
    "from time import time\n",
    "import numpy as np\n",
    "import seaborn as sns\n",
    "import matplotlib.pyplot as plt\n",
    "import requests\n",
    "from bs4 import BeautifulSoup\n",
    "from IPython.display import Markdown, display\n",
    "from skimage.morphology import label\n",
    "from scipy.ndimage import measurements\n",
    "import itertools"
   ]
  },
  {
   "cell_type": "code",
   "execution_count": 2,
   "id": "b0aa59c0",
   "metadata": {},
   "outputs": [
    {
     "data": {
      "text/markdown": [
       "### 'Pent-up' Frustration\n",
       "\n",
       "Place as many distinct pentominoes as you want into an 8-by-8 grid, in such a\n",
       "way that the placement is “tight” — i.e., no piece(s) can freely slide around\n",
       "within the grid.\n",
       "The score for a given placement is the\n",
       "sum of the square roots of the areas of\n",
       "the empty regions\n",
       "in the grid.\n",
       "What is the largest score you can obtain?\n",
       "This month, when you send in your entry, please send in your grid. Please use\n",
       "the\n",
       "standard\n",
       "notation\n",
       ", — i.e. F,\n",
       "I, L, N, P, T, U, V, W, X, Y, Z — and use “.” to denote empty spaces. (So the\n",
       "top row in the valid placement example would be “…Z..LL”)"
      ],
      "text/plain": [
       "<IPython.core.display.Markdown object>"
      ]
     },
     "metadata": {},
     "output_type": "display_data"
    }
   ],
   "source": [
    "url='https://www.janestreet.com/puzzles/pent-up-frustration-index/'\n",
    "res = requests.get(url)\n",
    "soup = BeautifulSoup(res.content, 'html.parser')\n",
    "y =[text for text in soup.body.stripped_strings]\n",
    "#display([[i,j] for i,j in enumerate(y)])\n",
    "display(Markdown(\"### \"+y[7]+\"\\n\\n\"+str(\"\\n\".join(y[10:18]))))\n",
    "\n",
    "# First steps to do the pentomino filling and work out the score.\n",
    "# Pentomino code modified from here https://www.reddit.com/r/dailyprogrammer/comments/8t4440/20180622_challenge_364_hard_tiling_with_pentominos/\n",
    "#\n",
    "# How to move to actually getting the optimum score is a much harder question"
   ]
  },
  {
   "cell_type": "markdown",
   "id": "6a1b1fe7",
   "metadata": {},
   "source": [
    "<img src='https://www.janestreet.com/puzzles/20181101_pent-up.png' width =300>"
   ]
  },
  {
   "cell_type": "code",
   "execution_count": 3,
   "id": "773b35fa",
   "metadata": {},
   "outputs": [],
   "source": [
    "\n",
    "\n",
    "def reset(positions):\n",
    "    min_x, min_y = min(positions, key=lambda x:x[::-1])\n",
    "    return tuple(sorted((x-min_x, y-min_y) for x, y in positions))\n",
    "\n",
    "def variation(positions):\n",
    "    return list({reset(var) for var in (\n",
    "        positions,\n",
    "        [(-y,  x) for x, y in positions], # Anti-clockwise 90\n",
    "        [(-x, -y) for x, y in positions], # 180\n",
    "        [( y, -x) for x, y in positions], # Clockwise 90\n",
    "\n",
    "        [(-x,  y) for x, y in positions], # Mirror vertical\n",
    "        [(-y, -x) for x, y in positions], # Mirror diagonal\n",
    "        [( x, -y) for x, y in positions], # Mirror horizontal\n",
    "    )})\n",
    "\n",
    "shapes = [\n",
    "    (((0, 1), (1, 0), (1, 1), (1, 2), (2, 0)), \"F\"),\n",
    "    (((0, 0), (0, 1), (0, 2), (0, 3), (0, 4)), \"I\"),\n",
    "    (((0, 0), (0, 1), (0, 2), (0, 3), (1, 3)), \"L\"),\n",
    "    (((0, 2), (0, 3), (1, 0), (1, 1), (1, 2)), \"N\"),\n",
    "    (((0, 0), (0, 1), (0, 2), (1, 0), (1, 1)), \"P\"),\n",
    "    (((0, 0), (1, 0), (1, 1), (1, 2), (2, 0)), \"T\"),\n",
    "    (((0, 0), (0, 1), (1, 1), (2, 0), (2, 1)), \"U\"),\n",
    "    (((0, 0), (0, 1), (0, 2), (1, 2), (2, 2)), \"V\"),\n",
    "    (((0, 0), (0, 1), (1, 1), (1, 2), (2, 2)), \"W\"),\n",
    "    (((0, 1), (1, 0), (1, 1), (1, 2), (2, 1)), \"X\"),\n",
    "    (((0, 1), (1, 0), (1, 1), (1, 2), (1, 3)), \"Y\"),\n",
    "    (((0, 0), (1, 0), (1, 1), (1, 2), (2, 2)), \"Z\")\n",
    "]\n",
    "\n",
    "shape_variations = {shape: variation(shape) for shape, name in shapes}\n",
    "\n",
    "def pprint(grid, size):\n",
    "    width, height = size\n",
    "\n",
    "    out= np.array([[ grid[x,y] for y in range(width)] for x in range(height)])\n",
    "    shapes = [' ','F', 'I', 'L', 'N', 'P', 'T', 'U', 'V', 'W', 'X', 'Y', 'Z']\n",
    "    mapping = np.vectorize(lambda x:shapes.index(x))\n",
    "    shading = mapping(out)\n",
    "    \n",
    "    fig,axs = plt.subplots(1,1,figsize =(width/2,height/2))\n",
    "    axs = sns.heatmap(shading,annot=out,cbar=False,cmap=\"terrain_r\",fmt=\"\",linewidths=1,annot_kws={\"size\":14},linecolor='grey')\n",
    "    axs.axis(\"off\")\n",
    "    plt.show()\n",
    "    \n",
    "    labels, num = measurements.label(out == ' ',output=int)\n",
    "    areas = measurements.sum(out == ' ', labels, index=range(1, num+1))\n",
    "    print(\"The areas are:{} giving {:.3f} as a solution\".format(areas,np.sum(areas**.5)))\n",
    "\n",
    "def solve(grid, size, available_shapes, start=0):\n",
    "    width, height = size\n",
    "\n",
    "    # Traverse the grid left to right, then top to bottom like reading a book\n",
    "    # Look for next open space (\".\")\n",
    "    for i in range(start, width*height):\n",
    "        y, x = divmod(i, width)\n",
    "        if grid[(x, y)] == \".\":\n",
    "            for shape, name in available_shapes:\n",
    "                # Check each rotation and reflection of shape\n",
    "                for shape_var in shape_variations[shape]:\n",
    "                    if all(grid.get((x+xs, y+ys)) == \".\" for xs, ys in shape_var):\n",
    "                        temp_grid = grid.copy()\n",
    "                        temp_shapes = available_shapes.copy()\n",
    "                        for xs, ys in shape_var:\n",
    "                            temp_grid[(x+xs, y+ys)] = name\n",
    "                        temp_shapes.remove((shape, name))\n",
    "\n",
    "                        yield from solve(temp_grid, size, temp_shapes, i+1)\n",
    "            \n",
    "            return # No more shapes are found, let previous recursion continue\n",
    "    # yield final grid when all grid values have been checked\n",
    "    yield grid\n",
    "\n",
    "def main(width, height, *holes):\n",
    "    t = time()\n",
    "    #print(width, height, *holes)\n",
    "\n",
    "    grid = {(x, y): \".\" for x in range(width) for y in range(height)}\n",
    "    for x, y in holes:\n",
    "        grid[(x, y)] = \" \"\n",
    "\n",
    "    for solution in solve(grid, (width, height), shapes):\n",
    "        pprint(solution, (width, height))\n",
    "        break\n",
    "    else:\n",
    "        print(\"No solution\")\n",
    "    print(\"Took {:.3f} seconds\".format(time()-t))\n",
    "    "
   ]
  },
  {
   "cell_type": "code",
   "execution_count": 4,
   "id": "aba0161a-9322-4297-8d9a-aa090df7a34f",
   "metadata": {},
   "outputs": [
    {
     "data": {
      "image/png": "[encoded data removed]",
      "text/plain": [
       "<Figure size 180x180 with 1 Axes>"
      ]
     },
     "metadata": {
      "needs_background": "light"
     },
     "output_type": "display_data"
    },
    {
     "name": "stdout",
     "output_type": "stream",
     "text": [
      "The areas are:[] giving 0.000 as a solution\n",
      "Took 0.094 seconds\n"
     ]
    }
   ],
   "source": [
    "main(5, 5)"
   ]
  },
  {
   "cell_type": "code",
   "execution_count": 5,
   "id": "11d6f847-7504-41c8-94db-cc93f52368dd",
   "metadata": {},
   "outputs": [
    {
     "data": {
      "image/png": "[encoded data removed]",
      "text/plain": [
       "<Figure size 288x288 with 1 Axes>"
      ]
     },
     "metadata": {
      "needs_background": "light"
     },
     "output_type": "display_data"
    },
    {
     "name": "stdout",
     "output_type": "stream",
     "text": [
      "The areas are:[4.] giving 2.000 as a solution\n",
      "Took 0.313 seconds\n"
     ]
    }
   ],
   "source": [
    "main(8, 8, (3, 3), (4, 3), (3, 4), (4, 4))"
   ]
  },
  {
   "cell_type": "code",
   "execution_count": 6,
   "id": "514d37c8-d7ef-4842-9022-bfa62fe1e961",
   "metadata": {},
   "outputs": [
    {
     "data": {
      "image/png": "[encoded data removed]",
      "text/plain": [
       "<Figure size 288x288 with 1 Axes>"
      ]
     },
     "metadata": {
      "needs_background": "light"
     },
     "output_type": "display_data"
    },
    {
     "name": "stdout",
     "output_type": "stream",
     "text": [
      "The areas are:[1. 1. 4. 1. 1. 1. 2. 1. 1. 2. 1. 1. 1. 2. 1. 1. 2.] giving 19.657 as a solution\n",
      "Took 0.204 seconds\n"
     ]
    }
   ],
   "source": [
    "# Given the empty squares the code will place the pentiominos correctly and get the right score\n",
    "\n",
    "solved = [(0,0),(0,2),(0,4),(0,5),(0,7),\n",
    " (1,4),(1,5),\n",
    " (2,0),(2,2),(2,7),\n",
    " (3,3),(3,5),(3,7),\n",
    " (4,0),(4,1),\n",
    " (5,3),(5,5),(5,7),\n",
    " (6,0),(6,2),\n",
    " (7,0),(7,4),(7,6),(7,7)]\n",
    "\n",
    "main(8, 8,*solved)"
   ]
  },
  {
   "cell_type": "code",
   "execution_count": 7,
   "id": "a703b51e-3b70-4b95-a2bf-64d9fa728c4f",
   "metadata": {},
   "outputs": [
    {
     "data": {
      "text/markdown": [
       "### November 2018 : Solution\n",
       "\n",
       "The highest-scoring configuration is shown here, scoring 14 + 4*sqrt(2), or\n",
       "about\n",
       "19.66\n",
       "points.\n",
       "The top 31-scoring entries we received all used exactly 8 pentominos; the\n",
       "highest-scoring entry to use a different number of pentominos was 17.83 (which\n",
       "used 9)."
      ],
      "text/plain": [
       "<IPython.core.display.Markdown object>"
      ]
     },
     "metadata": {},
     "output_type": "display_data"
    }
   ],
   "source": [
    "url='https://www.janestreet.com/puzzles/pent-up-frustration-solution/'\n",
    "res = requests.get(url)\n",
    "soup = BeautifulSoup(res.content, 'html.parser')\n",
    "y =[text for text in soup.body.stripped_strings]\n",
    "#display([[i,j] for i,j in enumerate(y)])\n",
    "display(Markdown(\"### \"+y[8]+\"\\n\\n\"+str(\"\\n\".join(y[10:14]))))"
   ]
  },
  {
   "cell_type": "markdown",
   "id": "7a32ca6e-9cae-4a54-9940-538016aa2601",
   "metadata": {},
   "source": [
    "<img src=\"https://www.janestreet.com/puzzles/20181203_pent-up_ans.png\" width = 200>"
   ]
  },
  {
   "cell_type": "code",
   "execution_count": null,
   "id": "63c2e912-abcf-497c-aaff-c29c9dd453ca",
   "metadata": {},
   "outputs": [],
   "source": []
  }
 ],
 "metadata": {
  "kernelspec": {
   "display_name": "Python 3",
   "language": "python",
   "name": "python3"
  },
  "language_info": {
   "codemirror_mode": {
    "name": "ipython",
    "version": 3
   },
   "file_extension": ".py",
   "mimetype": "text/x-python",
   "name": "python",
   "nbconvert_exporter": "python",
   "pygments_lexer": "ipython3",
   "version": "3.7.10"
  }
 },
 "nbformat": 4,
 "nbformat_minor": 5
}
