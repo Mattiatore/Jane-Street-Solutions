{
 "cells": [
  {
   "cell_type": "code",
   "execution_count": 3,
   "metadata": {},
   "outputs": [],
   "source": [
    "import pulp\n",
    "import numpy as np\n",
    "import time\n",
    "import seaborn as sns\n",
    "import matplotlib.pyplot as plt\n",
    "import requests\n",
    "from bs4 import BeautifulSoup\n",
    "import itertools\n",
    "import copy"
   ]
  },
  {
   "cell_type": "code",
   "execution_count": 4,
   "metadata": {},
   "outputs": [],
   "source": [
    "# Working through the hooks puzzles.\n",
    "# Solving the matrix is fast using the same tools as the Feb 14 puzzle \n",
    "# the checks are too slow to loop through all posibilities of the hooks \n",
    "# so look to solve hook by hook and backtrack"
   ]
  },
  {
   "cell_type": "markdown",
   "metadata": {},
   "source": [
    "### Puzzle details\n",
    "<img src=\"https://www.janestreet.com/puzzles/wp-content/uploads/2018/02/hook3_puzzle-01.png\" width=\"500\" height=\"600\">"
   ]
  },
  {
   "cell_type": "code",
   "execution_count": 56,
   "metadata": {},
   "outputs": [],
   "source": [
    "#Setup the constraints\n",
    "top_labels = [0,35,42,18,18.0, 36, 63,0]\n",
    "bot_labels = [0,40,32,40,10,12,0,56,0]\n",
    "left_labels = [0,56,0,32,40,15,16,25,0]\n",
    "right_labels =[0,49,63,0,18,42,63,54,0]"
   ]
  },
  {
   "cell_type": "code",
   "execution_count": 61,
   "metadata": {},
   "outputs": [],
   "source": [
    "  \n",
    "    def possible(self,row,col,digit):\n",
    "        self.grid[row,col] = digit\n",
    "        #check counts\n",
    "        if np.sum((self.y*self.grid) == y[row,col]) > y[row,col]:\n",
    "            self.grid[row,col] = -1 \n",
    "            print(self.grid)\n",
    "            return False\n",
    "\n",
    "        #check looks\n",
    "        #if self.check_looks(row,col,digit):\n",
    "        #    self.grid[row,col] = -1  \n",
    "        #    return False\n",
    "        \n",
    "        self.grid[row,col] = -1                          \n",
    "        return True\n",
    "    \n",
    "\n",
    "    def check_looks(self,row,col,digit):\n",
    "        if self.left_looks[row] > 0:\n",
    "            found = 0\n",
    "            total = 1\n",
    "            for i in range(9):\n",
    "                if found < 2:\n",
    "                    if self.grid[row,i] != 0:\n",
    "                        found +=1\n",
    "                        total = total * (self.y*self.grid)[row,i]\n",
    "                if found == 2:\n",
    "                    if total != self.left_looks[row]:\n",
    "                        return True\n",
    "                       \n",
    "    \n",
    "        if self.top_looks[col] > 0:\n",
    "            found = 0\n",
    "            total = 1\n",
    "            for i in range(9):\n",
    "                if found < 2:\n",
    "                    if self.grid[i,col] != 0:\n",
    "                        found +=1\n",
    "                        total = total * (self.y*self.grid)[i,col]\n",
    "                if found == 2:\n",
    "                    if total != self.top_looks[col]:\n",
    "                        return True\n",
    "\n",
    "        if self.right_looks[row] > 0:\n",
    "            found = 0\n",
    "            total = 1\n",
    "            for i in range(8,-1,-1):\n",
    "                if found < 2:\n",
    "                    if self.grid[row,i] != 0:\n",
    "                        found +=1\n",
    "                        total = total * (self.y*self.grid)[row,i]\n",
    "                if found == 2:\n",
    "                    if total != self.right_looks[row]:\n",
    "                        return True\n",
    "    \n",
    "        if self.bot_looks[col] > 0:\n",
    "            found = 0\n",
    "            total = 1\n",
    "            for i in range(8,-1,-1):\n",
    "                if found < 2:\n",
    "                    if self.grid[i,col] != 0:\n",
    "                        found +=1\n",
    "                        total = total * (self.y*self.grid)[i,col]\n",
    "                if found == 2:\n",
    "                    if total != self.top_looks[col]:\n",
    "                        return True\n",
    "        return False    \n"
   ]
  },
  {
   "cell_type": "code",
   "execution_count": 78,
   "metadata": {},
   "outputs": [
    {
     "ename": "SyntaxError",
     "evalue": "invalid syntax (<ipython-input-78-e65b69819d22>, line 47)",
     "output_type": "error",
     "traceback": [
      "\u001b[1;36m  File \u001b[1;32m\"<ipython-input-78-e65b69819d22>\"\u001b[1;36m, line \u001b[1;32m47\u001b[0m\n\u001b[1;33m    temp=\u001b[0m\n\u001b[1;37m         ^\u001b[0m\n\u001b[1;31mSyntaxError\u001b[0m\u001b[1;31m:\u001b[0m invalid syntax\n"
     ]
    }
   ],
   "source": [
    "class Matrix():\n",
    "    def __init__(self,top_labels,bot_labels,left_labels,right_labels):\n",
    "        self.grid= np.ones((9,9),dtype=int)*-1\n",
    "        self.coords = [0,0,9,9]\n",
    "        self.alignment = [0,0,0,0,0,0,0,0,0]\n",
    "        self.lvl = 9\n",
    "        self.top_looks = top_labels\n",
    "        self.bot_looks = bot_labels\n",
    "        self.left_looks = left_labels\n",
    "        self.right_looks = right_labels\n",
    "    \n",
    "    \n",
    "    def add_layer(self,lvl,alignment):\n",
    "        row_start,col_start,row_end, col_end = self.coords\n",
    "    \n",
    "        if alignment == 0:\n",
    "            self.grid[row_start:row_end,col_start] =lvl\n",
    "            self.grid[row_start,col_start:col_end] =lvl\n",
    "            row_start +=1\n",
    "            col_start +=1\n",
    "    \n",
    "        if alignment == 1:\n",
    "            self.grid[row_start:row_end,col_start] =lvl\n",
    "            self.grid[row_end-1,col_start:col_end] =lvl\n",
    "            row_end -=1\n",
    "            col_start +=1 \n",
    "\n",
    "        if alignment == 2:\n",
    "            self.grid[row_start:row_end,col_end-1] =lvl\n",
    "            self.grid[row_start,col_start:col_end] =lvl\n",
    "            row_start +=1\n",
    "            col_end -=1\n",
    "        \n",
    "        if alignment == 3:\n",
    "            self.grid[row_start:row_end,col_end-1] =lvl\n",
    "            self.grid[row_end-1,col_start:col_end] =lvl\n",
    "            row_end -=1\n",
    "            col_end -=1 \n",
    "    \n",
    "        self.coords = [row_start,col_start,row_end, col_end]\n",
    "\n"
   ]
  },
  {
   "cell_type": "code",
   "execution_count": 77,
   "metadata": {},
   "outputs": [
    {
     "ename": "IndexError",
     "evalue": "index 9 is out of bounds for axis 1 with size 9",
     "output_type": "error",
     "traceback": [
      "\u001b[1;31m---------------------------------------------------------------------------\u001b[0m",
      "\u001b[1;31mIndexError\u001b[0m                                Traceback (most recent call last)",
      "\u001b[1;32m<ipython-input-77-1ffa18e8483b>\u001b[0m in \u001b[0;36m<module>\u001b[1;34m\u001b[0m\n\u001b[0;32m      1\u001b[0m \u001b[0mtest\u001b[0m \u001b[1;33m=\u001b[0m \u001b[0mMatrix\u001b[0m\u001b[1;33m(\u001b[0m\u001b[0mtop_labels\u001b[0m\u001b[1;33m,\u001b[0m\u001b[0mbot_labels\u001b[0m\u001b[1;33m,\u001b[0m\u001b[0mleft_labels\u001b[0m\u001b[1;33m,\u001b[0m\u001b[0mright_labels\u001b[0m\u001b[1;33m)\u001b[0m\u001b[1;33m\u001b[0m\u001b[1;33m\u001b[0m\u001b[0m\n\u001b[1;32m----> 2\u001b[1;33m \u001b[0mtest\u001b[0m\u001b[1;33m.\u001b[0m\u001b[0msolve\u001b[0m\u001b[1;33m(\u001b[0m\u001b[1;33m)\u001b[0m\u001b[1;33m\u001b[0m\u001b[1;33m\u001b[0m\u001b[0m\n\u001b[0m\u001b[0;32m      3\u001b[0m \u001b[0mtest\u001b[0m\u001b[1;33m.\u001b[0m\u001b[0mgrid\u001b[0m\u001b[1;33m\u001b[0m\u001b[1;33m\u001b[0m\u001b[0m\n",
      "\u001b[1;32m<ipython-input-76-b48af6fb5b24>\u001b[0m in \u001b[0;36msolve\u001b[1;34m(self)\u001b[0m\n\u001b[0;32m     44\u001b[0m         \u001b[1;32mfor\u001b[0m \u001b[0mlvl\u001b[0m \u001b[1;32min\u001b[0m \u001b[0mrange\u001b[0m\u001b[1;33m(\u001b[0m\u001b[1;36m9\u001b[0m\u001b[1;33m,\u001b[0m\u001b[1;36m0\u001b[0m\u001b[1;33m,\u001b[0m\u001b[1;33m-\u001b[0m\u001b[1;36m1\u001b[0m\u001b[1;33m)\u001b[0m\u001b[1;33m:\u001b[0m\u001b[1;33m\u001b[0m\u001b[1;33m\u001b[0m\u001b[0m\n\u001b[0;32m     45\u001b[0m             \u001b[1;32mfor\u001b[0m \u001b[0malignment\u001b[0m \u001b[1;32min\u001b[0m \u001b[0mrange\u001b[0m\u001b[1;33m(\u001b[0m\u001b[1;36m4\u001b[0m\u001b[1;33m)\u001b[0m\u001b[1;33m:\u001b[0m\u001b[1;33m\u001b[0m\u001b[1;33m\u001b[0m\u001b[0m\n\u001b[1;32m---> 46\u001b[1;33m                 \u001b[0mself\u001b[0m\u001b[1;33m.\u001b[0m\u001b[0madd_layer\u001b[0m\u001b[1;33m(\u001b[0m\u001b[0mlvl\u001b[0m\u001b[1;33m,\u001b[0m\u001b[0malignment\u001b[0m\u001b[1;33m)\u001b[0m\u001b[1;33m\u001b[0m\u001b[1;33m\u001b[0m\u001b[0m\n\u001b[0m",
      "\u001b[1;32m<ipython-input-76-b48af6fb5b24>\u001b[0m in \u001b[0;36madd_layer\u001b[1;34m(self, lvl, alignment)\u001b[0m\n\u001b[0;32m     21\u001b[0m \u001b[1;33m\u001b[0m\u001b[0m\n\u001b[0;32m     22\u001b[0m         \u001b[1;32mif\u001b[0m \u001b[0malignment\u001b[0m \u001b[1;33m==\u001b[0m \u001b[1;36m1\u001b[0m\u001b[1;33m:\u001b[0m\u001b[1;33m\u001b[0m\u001b[1;33m\u001b[0m\u001b[0m\n\u001b[1;32m---> 23\u001b[1;33m             \u001b[0mself\u001b[0m\u001b[1;33m.\u001b[0m\u001b[0mgrid\u001b[0m\u001b[1;33m[\u001b[0m\u001b[0mrow_start\u001b[0m\u001b[1;33m:\u001b[0m\u001b[0mrow_end\u001b[0m\u001b[1;33m,\u001b[0m\u001b[0mcol_start\u001b[0m\u001b[1;33m]\u001b[0m \u001b[1;33m=\u001b[0m\u001b[0mlvl\u001b[0m\u001b[1;33m\u001b[0m\u001b[1;33m\u001b[0m\u001b[0m\n\u001b[0m\u001b[0;32m     24\u001b[0m             \u001b[0mself\u001b[0m\u001b[1;33m.\u001b[0m\u001b[0mgrid\u001b[0m\u001b[1;33m[\u001b[0m\u001b[0mrow_end\u001b[0m\u001b[1;33m-\u001b[0m\u001b[1;36m1\u001b[0m\u001b[1;33m,\u001b[0m\u001b[0mcol_start\u001b[0m\u001b[1;33m:\u001b[0m\u001b[0mcol_end\u001b[0m\u001b[1;33m]\u001b[0m \u001b[1;33m=\u001b[0m\u001b[0mlvl\u001b[0m\u001b[1;33m\u001b[0m\u001b[1;33m\u001b[0m\u001b[0m\n\u001b[0;32m     25\u001b[0m             \u001b[0mrow_end\u001b[0m \u001b[1;33m-=\u001b[0m\u001b[1;36m1\u001b[0m\u001b[1;33m\u001b[0m\u001b[1;33m\u001b[0m\u001b[0m\n",
      "\u001b[1;31mIndexError\u001b[0m: index 9 is out of bounds for axis 1 with size 9"
     ]
    }
   ],
   "source": [
    "test = Matrix(top_labels,bot_labels,left_labels,right_labels)\n",
    "test.solve()\n",
    "test.grid"
   ]
  },
  {
   "cell_type": "markdown",
   "metadata": {},
   "source": [
    "### Puzzle solution\n",
    "<img src=\"https://www.janestreet.com/puzzles/wp-content/uploads/2018/03/20180228_hooks_3_ans.png\" width=\"500\" height=\"600\">"
   ]
  },
  {
   "cell_type": "code",
   "execution_count": 49,
   "metadata": {},
   "outputs": [
    {
     "name": "stdout",
     "output_type": "stream",
     "text": [
      "[[1 2 3 4 5 6 7 8 9]\n",
      " [2 2 3 4 5 6 7 8 9]\n",
      " [3 3 3 4 5 6 7 8 9]\n",
      " [4 4 4 4 5 6 7 8 9]\n",
      " [5 5 5 5 5 6 7 8 9]\n",
      " [6 6 6 6 6 6 7 8 9]\n",
      " [7 7 7 7 7 7 7 8 9]\n",
      " [8 8 8 8 8 8 8 8 9]\n",
      " [9 9 9 9 9 9 9 9 9]]\n"
     ]
    }
   ],
   "source": [
    "\n"
   ]
  },
  {
   "cell_type": "code",
   "execution_count": null,
   "metadata": {},
   "outputs": [],
   "source": []
  }
 ],
 "metadata": {
  "kernelspec": {
   "display_name": "Python 3",
   "language": "python",
   "name": "python3"
  },
  "language_info": {
   "codemirror_mode": {
    "name": "ipython",
    "version": 3
   },
   "file_extension": ".py",
   "mimetype": "text/x-python",
   "name": "python",
   "nbconvert_exporter": "python",
   "pygments_lexer": "ipython3",
   "version": "3.7.7"
  }
 },
 "nbformat": 4,
 "nbformat_minor": 4
}
