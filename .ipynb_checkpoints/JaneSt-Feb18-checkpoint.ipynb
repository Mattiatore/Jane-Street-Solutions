{
 "cells": [
  {
   "cell_type": "code",
   "execution_count": 1,
   "metadata": {},
   "outputs": [
    {
     "name": "stderr",
     "output_type": "stream",
     "text": [
      "In d:\\Anaconda3\\lib\\site-packages\\matplotlib\\mpl-data\\stylelib\\_classic_test.mplstyle: \n",
      "The savefig.frameon rcparam was deprecated in Matplotlib 3.1 and will be removed in 3.3.\n",
      "In d:\\Anaconda3\\lib\\site-packages\\matplotlib\\mpl-data\\stylelib\\_classic_test.mplstyle: \n",
      "The verbose.level rcparam was deprecated in Matplotlib 3.1 and will be removed in 3.3.\n",
      "In d:\\Anaconda3\\lib\\site-packages\\matplotlib\\mpl-data\\stylelib\\_classic_test.mplstyle: \n",
      "The verbose.fileo rcparam was deprecated in Matplotlib 3.1 and will be removed in 3.3.\n"
     ]
    }
   ],
   "source": [
    "import pulp\n",
    "import numpy as np\n",
    "import pandas as pd\n",
    "import time\n",
    "import seaborn as sns\n",
    "import matplotlib.pyplot as plt\n",
    "import requests\n",
    "from bs4 import BeautifulSoup\n",
    "import itertools\n",
    "from copy import deepcopy as dcopy,copy\n",
    "from skimage.morphology import label"
   ]
  },
  {
   "cell_type": "code",
   "execution_count": 2,
   "metadata": {},
   "outputs": [],
   "source": [
    "# Working through the hooks puzzles.\n",
    "# Different to #2 as many more limitations on potential hook placements. 24 instead of 3200\n",
    "# need to work out a good method of solving !\n",
    "# Brute force backtracking works OK for the outside rows. May need to solve top down and bottom up then check he middle row.\n",
    "# the connected condition is very important on the inner squares."
   ]
  },
  {
   "cell_type": "markdown",
   "metadata": {},
   "source": [
    "### Puzzle details\n",
    "<img src=\"https://www.janestreet.com/puzzles/wp-content/uploads/2018/02/hook3_puzzle-01.png\" width=\"300\" height=\"300\">"
   ]
  },
  {
   "cell_type": "code",
   "execution_count": 3,
   "metadata": {},
   "outputs": [],
   "source": [
    "#Setup the constraints\n",
    "top_labels = [0,35,42,18,18,0, 36, 63,0]\n",
    "bot_labels = [0,40,32,40,10,12,0,56,0]\n",
    "left_labels = [0,56,0,32,40,15,16,25,0]\n",
    "right_labels =[0,49,63,0,18,42,63,54,0]\n",
    "params = [top_labels,bot_labels,left_labels,right_labels]"
   ]
  },
  {
   "cell_type": "code",
   "execution_count": 4,
   "metadata": {},
   "outputs": [],
   "source": [
    "class Matrix():\n",
    "    def __init__(self,top_labels,bot_labels,left_labels,right_labels):\n",
    "        self.top_labels = top_labels\n",
    "        self.bot_labels = bot_labels\n",
    "        self.left_labels = left_labels\n",
    "        self.right_labels = right_labels\n",
    "        self.potential_grids = [[-9,np.ones((9,9),dtype=int)*-1,[0,0,9,9]]] # list of all grids not yet ruled out.[Level,grid,coordinates of the grid yet to be filled]\n",
    "        self.solution = []\n",
    "        self.splits =  [list(i) for i in itertools.product([0, 1], repeat=9) if sum(i) > 1]\n",
    "     \n",
    "    def add_layer(self,grid,coords,lvl,alignment):\n",
    "        row_start,col_start,row_end, col_end = coords\n",
    "    \n",
    "        if alignment == 0:\n",
    "            grid[row_start:row_end,col_start] =lvl\n",
    "            grid[row_start,col_start:col_end] =lvl\n",
    "            row_start +=1\n",
    "            col_start +=1\n",
    "    \n",
    "        if alignment == 1:\n",
    "            grid[row_start:row_end,col_start] =lvl\n",
    "            grid[row_end-1,col_start:col_end] =lvl\n",
    "            row_end -=1\n",
    "            col_start +=1 \n",
    "\n",
    "        if alignment == 2:\n",
    "            grid[row_start:row_end,col_end-1] =lvl\n",
    "            grid[row_start,col_start:col_end] =lvl\n",
    "            row_start +=1\n",
    "            col_end -=1\n",
    "        \n",
    "        if alignment == 3:\n",
    "            grid[row_start:row_end,col_end-1] =lvl\n",
    "            grid[row_end-1,col_start:col_end] =lvl\n",
    "            row_end -=1\n",
    "            col_end -=1 \n",
    "    \n",
    "        coords = [row_start,col_start,row_end, col_end]\n",
    "        \n",
    "        return grid,coords    \n",
    "   \n",
    "    def check_grid(self,grid):\n",
    "        isValid = 1\n",
    "        for i in range(9):\n",
    "            row = grid[i,:]\n",
    "            col = grid[:,i]\n",
    "            if -1 not in row:\n",
    "                    isValid *= self.check_line(row,self.left_labels[i],self.right_labels[i])\n",
    "            if -1 not in col:\n",
    "                    isValid *= self.check_line(col,self.top_labels[i],self.bot_labels[i])  \n",
    "        return isValid\n",
    "                    \n",
    "    def check_line(self,line,start,end):\n",
    "        for split in self.splits:\n",
    "            test = line * split\n",
    "            if (test[test!=0][:2].prod() == start) or (start ==0):\n",
    "                if (test[test!=0][-2:].prod() == end) or (end ==0):\n",
    "                    return 1\n",
    "        return 0\n",
    "    \n",
    "    \n",
    "    def solve_matrix(self,y,solution = np.ones((9,9),dtype = int)*-1):\n",
    "        for row in range(9):\n",
    "            if -1 in solution[row,:]:\n",
    "                for split in self.splits:\n",
    "                    if self.possible(row,split,solution,y):\n",
    "                            solution[row,:] = split\n",
    "                            self.solve_matrix(y,solution=solution)\n",
    "                            solution[row,:] = np.ones(9,dtype=int)*-1\n",
    "                return\n",
    "        print(\"SOLVED\")\n",
    "        self.final = dcopy(solution),dcopy(y)\n",
    "    \n",
    "    def possible(self,row,split,solution,y):\n",
    "        #check the line works\n",
    "        \n",
    "        test = y[row,:] * split\n",
    "        start = self.left_labels[row]\n",
    "        end = self.right_labels[row]\n",
    "        if (test[test!=0][:2].prod() != start) and (start !=0):\n",
    "            if (test[test!=0][-2:].prod() != end) and (end !=0):\n",
    "                return False\n",
    "                \n",
    "        #check the columns work\n",
    "        return self.column_check(row,split,solution,y)\n",
    "\n",
    "    \n",
    "    def column_check(self,row,split,solution,y):\n",
    "        temp = dcopy(solution)\n",
    "        temp[row,:] = split\n",
    "        \n",
    "        #check connectivuty\n",
    "        if np.max(label(temp!=0,connectivity=1)) > 1 :\n",
    "            return False\n",
    "        \n",
    "        temp *= y\n",
    "        for i in range(9):\n",
    "            col = temp[:,i]\n",
    "            if np.sum(col > 0) == 1:\n",
    "                if self.top_labels[i] % col[col>0]  != 0:\n",
    "                    return False\n",
    "            elif np.sum(col>0) > 1:\n",
    "                if col[col!=0][:2].prod() != self.top_labels[i]:\n",
    "                    return False\n",
    "            if row ==8:\n",
    "                 if col[col!=0][-2:].prod() != self.bot_labels[i]:\n",
    "                    return False\n",
    "        return True   \n",
    "    \n",
    "    \n",
    "    def solve(self):\n",
    "        \n",
    "        correct = np.array([[9, 9, 9, 9, 9, 9, 9, 9, 9],\n",
    "                    [8, 7, 7, 7, 7, 7, 7, 7, 9],\n",
    "                    [8, 6, 6, 6, 6, 6, 6, 7, 9],\n",
    "                    [8, 5, 4, 3, 2, 1, 6, 7, 9],\n",
    "                    [8, 5, 4, 3, 2, 2, 6, 7, 9],\n",
    "                    [8, 5, 4, 3, 3, 3, 6, 7, 9],\n",
    "                    [8, 5, 4, 4, 4, 4, 6, 7, 9],\n",
    "                    [8, 5, 5, 5, 5, 5, 6, 7, 9],                          \n",
    "                    [8, 8, 8, 8, 8, 8, 8, 8, 9]])\n",
    "            \n",
    "        while len(self.potential_grids) > 0:\n",
    "            \n",
    "            temp_grid = self.potential_grids.pop(0)\n",
    "            #create the potential rotations at the given level\n",
    "            rotations = []\n",
    "        \n",
    "            for alignment in range(4):\n",
    "                lvl,grid,coords = dcopy(temp_grid)\n",
    "                grid,coords = self.add_layer(grid,coords,-lvl,alignment)\n",
    "                if lvl != -1 :\n",
    "                    rotations.append([lvl+1,grid,coords])\n",
    "                else:\n",
    "                     rotations = [[lvl+1,grid,coords]]\n",
    "    \n",
    "            \n",
    "            #check valid grids (where the sum can be made from available digits) and save the ones that work\n",
    "            for i in range(len(rotations)):\n",
    "                lvl,g,coords = rotations[i]\n",
    "                if self.check_grid(g):\n",
    "                    if lvl !=0:    \n",
    "                        self.potential_grids.append([lvl,g,coords])\n",
    "                    else:\n",
    "                        self.solution.append(g)\n",
    "                        \n",
    "        self.solution = []\n",
    "        self.solution = [correct]\n",
    "                        \n",
    "        print(\"There are {} valid hooks\".format(len(self.solution)))\n",
    "        print(\"Check correct grid:\",any(np.array_equal(correct, i) for i in self.solution))\n",
    "        \n",
    "        #solve each grid in the cut down list\n",
    "        for i in range(len(self.solution)):\n",
    "            grid = self.solution[i]\n",
    "            #self.solve_matrix(grid)\n",
    "            \n",
    "                            \n",
    "def sol_print(solved,matrix):\n",
    "    fig,ax = plt.subplots(1,1,figsize=(5,5))\n",
    "    ax = sns.heatmap(matrix,annot=solved*matrix,cbar=False,cmap=\"YlGnBu\")\n",
    "    ax.axis(\"off\")\n",
    "    \n",
    "    "
   ]
  },
  {
   "cell_type": "code",
   "execution_count": null,
   "metadata": {},
   "outputs": [],
   "source": [
    "start = time.perf_counter()\n",
    "test = Matrix(top_labels,bot_labels,left_labels,right_labels)\n",
    "test.solve()\n",
    "solved,matrix = test.final\n",
    "stop =  time.perf_counter()\n",
    "print('Solution took {:0.4f} seconds\\n'.format((stop-start)))\n",
    "#sol_print(solved,matrix)"
   ]
  },
  {
   "cell_type": "markdown",
   "metadata": {},
   "source": [
    "### Puzzle solution\n",
    "<img src=\"https://www.janestreet.com/puzzles/wp-content/uploads/2018/03/20180228_hooks_3_ans.png\" width=\"300\" height=\"400\">"
   ]
  },
  {
   "cell_type": "code",
   "execution_count": null,
   "metadata": {},
   "outputs": [],
   "source": []
  },
  {
   "cell_type": "code",
   "execution_count": 6,
   "metadata": {},
   "outputs": [],
   "source": [
    "correct = np.array([[9, 9, 9, 9, 9, 9, 9, 9, 9],\n",
    "                    [8, 7, 7, 7, 7, 7, 7, 7, 9],\n",
    "                    [8, 6, 6, 6, 6, 6, 6, 7, 9],\n",
    "                    [8, 5, 4, 3, 2, 1, 6, 7, 9],\n",
    "                    [8, 5, 4, 3, 2, 2, 6, 7, 9],\n",
    "                    [8, 5, 4, 3, 3, 3, 6, 7, 9],\n",
    "                    [8, 5, 4, 4, 4, 4, 6, 7, 9],\n",
    "                    [8, 5, 5, 5, 5, 5, 6, 7, 9],                          \n",
    "                    [8, 8, 8, 8, 8, 8, 8, 8, 9]],dtype=int)\n",
    "\n",
    "solved=   np.array([[0, 0, 0, 0, 9, 9, 0, 9, 0],\n",
    "                    [8, 7, 7, 0, 0, 7, 0, 7, 0],\n",
    "                    [0, 0, 6, 6, 0, 6, 6, 7, 9],\n",
    "                    [8, 0, 4, 0, 0, 1, 0, 0, 9],\n",
    "                    [8, 5, 4, 3, 2, 2, 0, 0, 9],\n",
    "                    [0, 5, 0, 3, 0, 3, 6, 7, 0],\n",
    "                    [0, 0, 0, 4, 0, 4, 0, 7, 9],\n",
    "                    [0, 5, 0, 5, 5, 0, 6, 0, 9],                          \n",
    "                    [0, 8, 8, 8, 0, 0, 8, 8, 9]],dtype=int)\n",
    "\n",
    "incorrect=np.array([[9, 9, 9, 9, 9, 9, 9, 9, 9],\n",
    "                    [8, 7, 6, 6, 6, 6, 6, 6, 9],\n",
    "                    [8, 7, 5, 5, 5, 5, 5, 6, 9],\n",
    "                    [8, 7, 4, 3, 2, 1, 5, 6, 9],\n",
    "                    [8, 7, 4, 3, 2, 2, 5, 6, 9],\n",
    "                    [8, 7, 4, 3, 3, 3, 5, 6, 9],\n",
    "                    [8, 7, 4, 4, 4, 4, 5, 6, 9],\n",
    "                    [8, 7, 7, 7, 7, 7, 7, 7, 9],                          \n",
    "                    [8, 8, 8, 8, 8, 8, 8, 8, 9]],dtype=int)\n",
    "\n",
    "matrix = solved/correct\n"
   ]
  },
  {
   "cell_type": "code",
   "execution_count": 7,
   "metadata": {},
   "outputs": [],
   "source": [
    "splits = [list(i) for i in itertools.product([0, 1], repeat=9) if sum(i) > 1]\n",
    " \n",
    "    \n",
    "def column_check_top(row,split,solution,y):\n",
    "        temp = copy(solution)\n",
    "        temp[row,:] = split       \n",
    "        \n",
    "        #check connectivuty\n",
    "        if np.max(label(temp!=0,connectivity=1)) > 1 :\n",
    "            #print(\"fail connect\")\n",
    "            return False\n",
    "        \n",
    "        temp *= y\n",
    "        \n",
    "        #check counts\n",
    "        for j in range(1,10):\n",
    "            if np.sum(temp == j) > j:\n",
    "                #print(temp)\n",
    "                return False\n",
    "        \n",
    "        # check that the top conditions are \n",
    "        for i in range(9):\n",
    "            col = temp[:,i]\n",
    "            if top_labels[i] != 0:\n",
    "                \n",
    "                if split[i] == 1:\n",
    "                    previous = np.sum(col[:row] !=0)\n",
    "                    num = col[row]\n",
    "                    \n",
    "                    if previous == 0:\n",
    "                        if top_labels[i] % num !=0:\n",
    "                            #print(\"fail divisor\")\n",
    "                            return False\n",
    "                    \n",
    "                        remaining = top_labels[i] / num\n",
    "                        if remaining not in y[row+1:,i]:\n",
    "                            #print(\"fail remaining. col = {} label = {} number= {} remaining = {} \".format(i,top_labels[i],num,remaining))\n",
    "                            return False                    \n",
    "                    \n",
    "                    elif previous == 1:\n",
    "                        if col[col!=0][:2].prod() != top_labels[i]:\n",
    "                            #print(\"fail total\")\n",
    "                            return False\n",
    "                else:\n",
    "                    previous = np.sum(col[:row] !=0)\n",
    "                    if previous == 1:\n",
    "                        num = np.sum(col[:row])\n",
    "                        remaining = top_labels[i] / num\n",
    "                        if remaining not in y[row+1:,i]:\n",
    "                            return False     \n",
    "                    elif previous == 0:\n",
    "                        check = 0\n",
    "                        \n",
    "                        if not any(n in y[row+1:,i] for n in (np.ones(8-row,dtype=int)*top_labels[i]) / y[row+1:,i]):\n",
    "                                #print(np.ones(8-row)*top_labels[i] / y[row+1:,i],y[row+1:,i])\n",
    "                                return False\n",
    "        return True  \n",
    "    \n",
    "def possible(row,split,solution,y):\n",
    "        #check the line works\n",
    "        test = y[row,:] * split\n",
    "        start = left_labels[row]\n",
    "        end = right_labels[row]\n",
    "        \n",
    "        if 1 in y[row]:\n",
    "            if 1 not in test:\n",
    "                return False\n",
    "        \n",
    "        if (end !=0) or (start !=0):\n",
    "            rem_zero = test[test!=0]\n",
    "            if (rem_zero [:2].prod() != start) and (start !=0):\n",
    "                return False      \n",
    "            \n",
    "            if (rem_zero [-2:].prod() != end) and (end !=0):\n",
    "                return False\n",
    "        return True   "
   ]
  },
  {
   "cell_type": "markdown",
   "metadata": {},
   "source": [
    "# top down solvers 1-4"
   ]
  },
  {
   "cell_type": "code",
   "execution_count": 8,
   "metadata": {},
   "outputs": [
    {
     "name": "stdout",
     "output_type": "stream",
     "text": [
      "Solution took 0.0878 seconds\n",
      "Number of poss solutions =  15\n",
      "Contains correct solution = True\n"
     ]
    }
   ],
   "source": [
    "start = time.perf_counter()\n",
    "first_row =[]\n",
    "\n",
    "solution = np.ones((9,9),dtype=int)*-1\n",
    "\n",
    "for split in splits: \n",
    "    if possible(0,split,solution,correct):\n",
    "        if column_check_top(0,split,solution,correct):\n",
    "            first_row.append(split)\n",
    "            \n",
    "stop =  time.perf_counter()\n",
    "print('Solution took {:0.4f} seconds'.format((stop-start)))\n",
    "print(\"Number of poss solutions = \",len(first_row))\n",
    "\n",
    "print(\"Contains correct solution =\",any(np.array_equal(matrix[0,:], i) for i in first_row))"
   ]
  },
  {
   "cell_type": "code",
   "execution_count": 10,
   "metadata": {},
   "outputs": [
    {
     "name": "stdout",
     "output_type": "stream",
     "text": [
      "Solution took 0.3115 seconds\n",
      "Number of poss solutions =  14\n",
      "Contains correct solution = True\n"
     ]
    }
   ],
   "source": [
    "start = time.perf_counter()\n",
    "second_row =[]\n",
    "for row in first_row:\n",
    "    solution[0,:] = row\n",
    "    for split in splits:\n",
    "        if possible(1,split,solution,correct):\n",
    "            if column_check_top(1,split,solution,correct):\n",
    "                second_row.append(np.array([row,split]))\n",
    "                \n",
    "stop =  time.perf_counter()\n",
    "print('Solution took {:0.4f} seconds'.format((stop-start)))\n",
    "print(\"Number of poss solutions = \",len(second_row))\n",
    "print(\"Contains correct solution =\",any(np.array_equal(matrix[:2,:], i) for i in second_row))\n",
    "\n"
   ]
  },
  {
   "cell_type": "code",
   "execution_count": 11,
   "metadata": {},
   "outputs": [
    {
     "name": "stdout",
     "output_type": "stream",
     "text": [
      "Solution took 0.3383 seconds\n",
      "Number of poss solutions =  68\n",
      "Contains correct solution = True\n"
     ]
    }
   ],
   "source": [
    "third_row =[]\n",
    "start = time.perf_counter()\n",
    "for row1,row2  in second_row:\n",
    "    solution = np.ones((9,9))*-1\n",
    "    solution[0,:] = row1\n",
    "    solution[1,:] = row2\n",
    "    for split in splits:\n",
    "            if possible(2,split,solution,correct):\n",
    "                if column_check_top(2,split,solution,correct):\n",
    "                    third_row.append([row1,row2,split])\n",
    "\n",
    "stop =  time.perf_counter()   \n",
    "\n",
    "print('Solution took {:0.4f} seconds'.format((stop-start)))\n",
    "print(\"Number of poss solutions = \",len(third_row))\n",
    "print(\"Contains correct solution =\",any(np.array_equal(matrix[:3,:], i) for i in third_row))"
   ]
  },
  {
   "cell_type": "code",
   "execution_count": 12,
   "metadata": {},
   "outputs": [
    {
     "name": "stdout",
     "output_type": "stream",
     "text": [
      "Solution took 0.7126 seconds\n",
      "Number of poss solutions =  1164\n",
      "Contains correct solution = True\n"
     ]
    }
   ],
   "source": [
    "fourth_row =[]\n",
    "start = time.perf_counter()\n",
    "for row1,row2,row3  in third_row:\n",
    "    solution = np.ones((9,9),dtype=int)*-1\n",
    "    solution[0,:] = row1\n",
    "    solution[1,:] = row2\n",
    "    solution[2,:] = row3\n",
    "    for split in splits:\n",
    "            if possible(3,split,solution,correct):\n",
    "                if column_check_top(3,split,solution,correct):\n",
    "                    fourth_row.append([row1,row2,row3,split])\n",
    "                    \n",
    "stop =  time.perf_counter()   \n",
    "\n",
    "print('Solution took {:0.4f} seconds'.format((stop-start)))\n",
    "print(\"Number of poss solutions = \",len(fourth_row))\n",
    "print(\"Contains correct solution =\",any(np.array_equal(matrix[:4,:], i) for i in fourth_row))"
   ]
  },
  {
   "cell_type": "code",
   "execution_count": 13,
   "metadata": {},
   "outputs": [
    {
     "name": "stdout",
     "output_type": "stream",
     "text": [
      "Solution took 8.2064 seconds\n",
      "Number of poss solutions =  5699\n",
      "Contains correct solution = True\n"
     ]
    }
   ],
   "source": [
    "fifth_row =[]\n",
    "start = time.perf_counter()\n",
    "for row1,row2,row3,row4  in fourth_row:\n",
    "    solution = np.ones((9,9),dtype=int)*-1\n",
    "    solution[0,:] = row1\n",
    "    solution[1,:] = row2\n",
    "    solution[2,:] = row3\n",
    "    solution[3,:] = row4\n",
    "    for split in splits:\n",
    "            if possible(4,split,solution,correct):\n",
    "                if column_check_top(4,split,solution,correct):\n",
    "                    fifth_row.append([row1,row2,row3,row4,split])\n",
    "                    \n",
    "stop =  time.perf_counter()   \n",
    "\n",
    "print('Solution took {:0.4f} seconds'.format((stop-start)))\n",
    "print(\"Number of poss solutions = \",len(fifth_row))\n",
    "print(\"Contains correct solution =\",any(np.array_equal(matrix[:5,:], i) for i in fifth_row))"
   ]
  },
  {
   "cell_type": "markdown",
   "metadata": {},
   "source": [
    "# alternate "
   ]
  },
  {
   "cell_type": "code",
   "execution_count": 14,
   "metadata": {},
   "outputs": [],
   "source": [
    "def column_check_bot(row,split,solution,y):\n",
    "        temp = copy(solution)\n",
    "        temp[row,:] = split       \n",
    "        \n",
    "        #check connectivuty\n",
    "        if np.max(label(temp!=0,connectivity=1)) > 1 :\n",
    "            #print(\"fail connect\")\n",
    "            return False\n",
    "        \n",
    "        temp *= y\n",
    "        \n",
    "        #check counts\n",
    "        for j in range(1,10):\n",
    "            if np.sum(temp == j) > j:\n",
    "                #print(\"fail count\",temp)\n",
    "                return False\n",
    "        \n",
    "        # check that the top conditions are \n",
    "        for i in range(9):\n",
    "            col = temp[:,i]\n",
    "            if bot_labels[i] != 0:\n",
    "                if split[i] == 1:\n",
    "                    previous = np.sum(col[row+1:] !=0)\n",
    "                    num = col[row]\n",
    "                    if previous == 0:\n",
    "                        if bot_labels[i] % num !=0:\n",
    "                            #print(\"fail divisor\")\n",
    "                            return False\n",
    "                    \n",
    "                        remaining = bot_labels[i] / num\n",
    "                        if remaining not in y[:row,i]:\n",
    "                            #print(\"fail remaining. col = {} label = {} number= {} remaining = {} \".format(i,top_labels[i],num,remaining))\n",
    "                            return False                    \n",
    "                    \n",
    "                    elif previous == 1:\n",
    "                        if col[col!=0][-2:].prod() != bot_labels[i]:\n",
    "                            #print(\"fail total\")\n",
    "                            return False                   \n",
    "        return True      \n",
    "    \n"
   ]
  },
  {
   "cell_type": "code",
   "execution_count": 15,
   "metadata": {},
   "outputs": [
    {
     "name": "stdout",
     "output_type": "stream",
     "text": [
      "Solution took 0.0884 seconds\n",
      "Number of poss solutions =  120\n",
      "Contains correct solution = True\n"
     ]
    }
   ],
   "source": [
    "start = time.perf_counter()\n",
    "last_row =[]\n",
    "\n",
    "solution = np.ones((9,9),dtype=int)*-1\n",
    "\n",
    "for split in splits: \n",
    "    if possible(8,split,solution,correct):\n",
    "        if column_check_bot(8,split,solution,correct):\n",
    "            last_row.append(split)\n",
    "            \n",
    "stop =  time.perf_counter()\n",
    "print('Solution took {:0.4f} seconds'.format((stop-start)))\n",
    "print(\"Number of poss solutions = \",len(last_row))\n",
    "\n",
    "print(\"Contains correct solution =\",any(np.array_equal(matrix[8,:], i) for i in last_row))"
   ]
  },
  {
   "cell_type": "code",
   "execution_count": 16,
   "metadata": {},
   "outputs": [
    {
     "name": "stdout",
     "output_type": "stream",
     "text": [
      "Solution took 0.9626 seconds\n",
      "Number of poss solutions =  124\n",
      "Contains correct solution = True\n"
     ]
    }
   ],
   "source": [
    "start = time.perf_counter()\n",
    "eighth_row =[]\n",
    "for row in last_row:\n",
    "    solution = np.ones((9,9),dtype=int)*-1\n",
    "    solution[8,:] = row\n",
    "    for split in splits:\n",
    "        if possible(7,split,solution,correct):\n",
    "            if column_check_bot(7,split,solution,correct):\n",
    "                eighth_row.append(np.array([split,row]))\n",
    "                \n",
    "stop =  time.perf_counter()\n",
    "print('Solution took {:0.4f} seconds'.format((stop-start)))\n",
    "print(\"Number of poss solutions = \",len(eighth_row))\n",
    "print(\"Contains correct solution =\",any(np.array_equal(matrix[7:,:], i) for i in eighth_row))"
   ]
  },
  {
   "cell_type": "code",
   "execution_count": 17,
   "metadata": {},
   "outputs": [
    {
     "name": "stdout",
     "output_type": "stream",
     "text": [
      "Solution took 0.8399 seconds\n",
      "Number of poss solutions =  88\n",
      "Contains correct solution = True\n"
     ]
    }
   ],
   "source": [
    "start = time.perf_counter()\n",
    "seventh_row =[]\n",
    "for row1,row2 in eighth_row:\n",
    "    solution = np.ones((9,9),dtype=int)*-1\n",
    "    solution[7,:] = row1\n",
    "    solution[8,:] = row2\n",
    "    \n",
    "    for split in splits:\n",
    "        if possible(6,split,solution,correct):\n",
    "            if column_check_bot(6,split,solution,correct):\n",
    "                seventh_row.append(np.array([split,row1,row2]))\n",
    "                \n",
    "stop =  time.perf_counter()\n",
    "print('Solution took {:0.4f} seconds'.format((stop-start)))\n",
    "print(\"Number of poss solutions = \",len(seventh_row))\n",
    "print(\"Contains correct solution =\",any(np.array_equal(matrix[6:,:], i) for i in seventh_row))"
   ]
  },
  {
   "cell_type": "code",
   "execution_count": 18,
   "metadata": {},
   "outputs": [
    {
     "name": "stdout",
     "output_type": "stream",
     "text": [
      "Solution took 0.4899 seconds\n",
      "Number of poss solutions =  88\n",
      "Contains correct solution = True\n"
     ]
    }
   ],
   "source": [
    "start = time.perf_counter()\n",
    "sixth_row =[]\n",
    "for row1,row2,row3 in seventh_row:\n",
    "    solution = np.ones((9,9),dtype=int)*-1\n",
    "    solution[6,:] = row1\n",
    "    solution[7,:] = row2\n",
    "    solution[8,:] = row3\n",
    "    \n",
    "    for split in splits:\n",
    "        if possible(5,split,solution,correct):\n",
    "            if column_check_bot(5,split,solution,correct):\n",
    "                sixth_row.append(np.array([split,row1,row2,row3]))\n",
    "                \n",
    "stop =  time.perf_counter()\n",
    "print('Solution took {:0.4f} seconds'.format((stop-start)))\n",
    "print(\"Number of poss solutions = \",len(seventh_row))\n",
    "print(\"Contains correct solution =\",any(np.array_equal(matrix[5:,:], i) for i in sixth_row))"
   ]
  },
  {
   "cell_type": "code",
   "execution_count": 34,
   "metadata": {},
   "outputs": [
    {
     "name": "stdout",
     "output_type": "stream",
     "text": [
      "Solution took 48.5006 seconds\n",
      "Number of poss solutions =  92186\n",
      "Contains correct solution = True\n"
     ]
    }
   ],
   "source": [
    "start = time.perf_counter()\n",
    "solved =[]\n",
    "for row1,row2,row3,row4,row5 in fifth_row:\n",
    "    for row6,row7,row8,row9 in sixth_row:\n",
    "        solution=np.array([row1,row2,row3,row4,row5,row6,row7,row8,row9])\n",
    "        if np.max(label(solution!=0,connectivity=1)) == 1:\n",
    "            for i in range(2,10):\n",
    "                if np.sum(solution*correct==i) == i:\n",
    "                    solved.append(solution)\n",
    "                \n",
    "stop =  time.perf_counter()\n",
    "print('Solution took {:0.4f} seconds'.format((stop-start)))\n",
    "print(\"Number of poss solutions = \",len(solved))\n",
    "print(\"Contains correct solution =\",any(np.array_equal(matrix, i) for i in solved))          \n"
   ]
  },
  {
   "cell_type": "code",
   "execution_count": 33,
   "metadata": {},
   "outputs": [
    {
     "data": {
      "text/plain": [
       "501512"
      ]
     },
     "execution_count": 33,
     "metadata": {},
     "output_type": "execute_result"
    }
   ],
   "source": [
    "88*5699"
   ]
  },
  {
   "cell_type": "code",
   "execution_count": 138,
   "metadata": {},
   "outputs": [],
   "source": [
    "correct = np.array([[9, 9, 9, 9, 9, 9, 9, 9, 9],\n",
    "                    [8, 7, 7, 7, 7, 7, 7, 7, 9],\n",
    "                    [8, 6, 6, 6, 6, 6, 6, 7, 9],\n",
    "                    [8, 5, 4, 3, 2, 1, 6, 7, 9],\n",
    "                    [8, 5, 4, 3, 2, 2, 6, 7, 9],\n",
    "                    [8, 5, 4, 3, 3, 3, 6, 7, 9],\n",
    "                    [8, 5, 4, 4, 4, 4, 6, 7, 9],\n",
    "                    [8, 5, 5, 5, 5, 5, 6, 7, 9],                          \n",
    "                    [8, 8, 8, 8, 8, 8, 8, 8, 9]],dtype=int)\n",
    "\n",
    "solution = np.ones((9,9),dtype=int)*-1"
   ]
  },
  {
   "cell_type": "code",
   "execution_count": 178,
   "metadata": {},
   "outputs": [],
   "source": [
    "def forced(grid,hooks):\n",
    "    grid[hooks==1] = 1\n",
    "    changes = 1\n",
    "    while changes >0:\n",
    "        changes = 0\n",
    "        for row,col in itertools.product(range(9),range(9)):\n",
    "            if grid[row,col]==-1:\n",
    "                test =grid*hooks \n",
    "                above = test[:row,col]\n",
    "                below = test[row+1:,col]\n",
    "                left = test[row,:col]\n",
    "                right  =test[row,col+1:]\n",
    "            \n",
    "                before = [above,below,left,right]   \n",
    "                after = [below,above,right,left]\n",
    "                avail_after = [[abs(i) for i in j] for j in after]\n",
    "                param =[top_labels[col],bot_labels[col],left_labels[row],right_labels[row]]\n",
    "                count_before = [np.sum(i > 0) for i in before ]\n",
    "                num = hooks[row,col]\n",
    "\n",
    "                for i in range(4):\n",
    "                    if (param[i] != 0) & (np.sum(before[i] < 0) ==0):\n",
    "                        if count_before[i] ==0:\n",
    "                            if param[i] % num  != 0:\n",
    "                                grid[row,col]= 0\n",
    "                                changes +=1\n",
    "                            if param[i] / hooks[row,col] not in avail_after[i]:\n",
    "                                grid[row,col]= 0\n",
    "                                changes +=1\n",
    "                                \n",
    "                        \n",
    "    \n",
    "    return(grid)\n",
    "        \n",
    "        \n",
    "        \n",
    "            "
   ]
  },
  {
   "cell_type": "code",
   "execution_count": 180,
   "metadata": {},
   "outputs": [
    {
     "name": "stdout",
     "output_type": "stream",
     "text": [
      "Solution took 0.0122 seconds\n"
     ]
    },
    {
     "data": {
      "text/plain": [
       "array([[-1,  0,  0,  0, -1, -1,  0, -1, -1],\n",
       "       [-1, -1, -1,  0, -1, -1,  0, -1,  0],\n",
       "       [-1, -1, -1, -1, -1, -1, -1, -1, -1],\n",
       "       [-1, -1, -1, -1, -1,  1, -1, -1, -1],\n",
       "       [-1, -1, -1, -1, -1, -1, -1, -1, -1],\n",
       "       [ 0, -1, -1, -1, -1, -1, -1, -1,  0],\n",
       "       [ 0,  0, -1, -1, -1, -1, -1, -1, -1],\n",
       "       [ 0, -1, -1, -1, -1,  0, -1, -1, -1],\n",
       "       [-1, -1, -1, -1,  0,  0, -1, -1, -1]])"
      ]
     },
     "execution_count": 180,
     "metadata": {},
     "output_type": "execute_result"
    }
   ],
   "source": [
    "solution = np.ones((9,9),dtype=int)*-1\n",
    "start = time.perf_counter()\n",
    "x = forced(solution,correct)\n",
    "stop =  time.perf_counter()\n",
    "print('Solution took {:0.4f} seconds'.format((stop-start)))\n",
    "x"
   ]
  },
  {
   "cell_type": "code",
   "execution_count": 169,
   "metadata": {},
   "outputs": [
    {
     "data": {
      "text/plain": [
       "0"
      ]
     },
     "execution_count": 169,
     "metadata": {},
     "output_type": "execute_result"
    }
   ],
   "source": [
    "x = [0,0,0,-1]"
   ]
  },
  {
   "cell_type": "markdown",
   "metadata": {},
   "source": [
    "\n",
    "<img src=\"https://www.janestreet.com/puzzles/wp-content/uploads/2018/03/20180228_hooks_3_ans.png\" width=\"300\" height=\"400\">"
   ]
  },
  {
   "cell_type": "code",
   "execution_count": null,
   "metadata": {},
   "outputs": [],
   "source": []
  },
  {
   "cell_type": "code",
   "execution_count": null,
   "metadata": {},
   "outputs": [],
   "source": []
  }
 ],
 "metadata": {
  "kernelspec": {
   "display_name": "Python 3",
   "language": "python",
   "name": "python3"
  },
  "language_info": {
   "codemirror_mode": {
    "name": "ipython",
    "version": 3
   },
   "file_extension": ".py",
   "mimetype": "text/x-python",
   "name": "python",
   "nbconvert_exporter": "python",
   "pygments_lexer": "ipython3",
   "version": "3.7.7"
  }
 },
 "nbformat": 4,
 "nbformat_minor": 4
}
