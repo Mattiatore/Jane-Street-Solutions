{
 "cells": [
  {
   "cell_type": "code",
   "execution_count": 83,
   "metadata": {
    "id": "Oq1xibzMT1Wl"
   },
   "outputs": [],
   "source": [
    "import numpy as np\n",
    "import pandas as pd\n",
    "import time\n",
    "import seaborn as sns\n",
    "import matplotlib.pyplot as plt\n",
    "import requests\n",
    "from bs4 import BeautifulSoup\n",
    "import itertools\n",
    "from copy import deepcopy as dcopy,copy\n",
    "from skimage.morphology import label"
   ]
  },
  {
   "cell_type": "code",
   "execution_count": 84,
   "metadata": {
    "id": "ICTfvjZUT1Wr"
   },
   "outputs": [
    {
     "name": "stdout",
     "output_type": "stream",
     "text": [
      "The grid presented here can be partitioned into 9 L-shaped “hooks”. The largest is 9-by-9 (contains 17 squares), the next largest is 8-by-8 (contains 15 squares), and so on. The smallest hook is just a single square. Find where the hooks are located, and place nine 9’s in the largest hook, eight 8’s in the next-largest, etc., down to one 1 in the smallest hook. The filled squares must form a connected region. (Squares are “connected” if they are orthogonally adjacent.) A number outside the grid indicates the sum of the products of consecutive groups of squares in that row or column. (As shown in the example.) The answer to this puzzle is the product of the areas of the connected groups of empty squares in the completed grid.\n"
     ]
    }
   ],
   "source": [
    "# Working through the hooks puzzles.\n",
    "# starting from hooks #3\n",
    "# determine the hook and then solve row by row,\n",
    "# very slow. Need to alternate row and column I think\n",
    "\n",
    "url='https://www.janestreet.com/puzzles/hooks-4/'\n",
    "res = requests.get(url)\n",
    "soup = BeautifulSoup(res.content, 'html.parser')\n",
    "x =[text for text in soup.body.stripped_strings]\n",
    "\n",
    "print(\" \".join(x[7:]))"
   ]
  },
  {
   "cell_type": "markdown",
   "metadata": {
    "id": "U9Yh1D3HT1Ws"
   },
   "source": [
    "### Puzzle details\n",
    "<img src=\"https://www.janestreet.com/puzzles/aug18_puzzle_bold.png\" width=\"300\" height=\"300\">"
   ]
  },
  {
   "cell_type": "code",
   "execution_count": 85,
   "metadata": {
    "id": "0VI0NM6ET1Wt"
   },
   "outputs": [],
   "source": [
    "#Setup the constraints\n",
    "top_labels = [28,552,64,15,86,1304,170,81,810]\n",
    "right_labels =[810,585,415,92,67,136,8,225,567]\n"
   ]
  },
  {
   "cell_type": "code",
   "execution_count": 86,
   "metadata": {
    "id": "844RhDFpT1Wu"
   },
   "outputs": [],
   "source": [
    "class Matrix():\n",
    "    def __init__(self,top_labels,right_labels):\n",
    "        self.top_labels = top_labels\n",
    "        self.right_labels = right_labels\n",
    "        self.potential_grids = [[-9,np.ones((9,9),dtype=int)*-1,[0,0,9,9]]] # list of all grids not yet ruled out.[Level,grid,coordinates of the grid yet to be filled]\n",
    "        self.solution = []\n",
    "        self.splits =  [list(i) for i in itertools.product([0, 1], repeat=9)]\n",
    "     \n",
    "    ########################################################################################\n",
    "    # Code to get the initial valid grids\n",
    "\n",
    "    def add_layer(self,grid,coords,lvl,alignment):\n",
    "        row_start,col_start,row_end, col_end = coords\n",
    "    \n",
    "        if alignment == 0:\n",
    "            grid[row_start:row_end,col_start] =lvl\n",
    "            grid[row_start,col_start:col_end] =lvl\n",
    "            row_start +=1\n",
    "            col_start +=1\n",
    "    \n",
    "        if alignment == 1:\n",
    "            grid[row_start:row_end,col_start] =lvl\n",
    "            grid[row_end-1,col_start:col_end] =lvl\n",
    "            row_end -=1\n",
    "            col_start +=1 \n",
    "\n",
    "        if alignment == 2:\n",
    "            grid[row_start:row_end,col_end-1] =lvl\n",
    "            grid[row_start,col_start:col_end] =lvl\n",
    "            row_start +=1\n",
    "            col_end -=1\n",
    "        \n",
    "        if alignment == 3:\n",
    "            grid[row_start:row_end,col_end-1] =lvl\n",
    "            grid[row_end-1,col_start:col_end] =lvl\n",
    "            row_end -=1\n",
    "            col_end -=1 \n",
    "    \n",
    "        coords = [row_start,col_start,row_end, col_end]\n",
    "        \n",
    "        return grid,coords    \n",
    "   \n",
    "    def check_grid(self,grid):\n",
    "        isValid = 1\n",
    "        for i in range(9):\n",
    "            row = grid[i,:]\n",
    "            col = grid[:,i]\n",
    "            if -1 not in row:\n",
    "                    isValid *= self.check_line(row,self.right_labels[i])\n",
    "            if -1 not in col:\n",
    "                    isValid *= self.check_line(col,self.top_labels[i])  \n",
    "        return isValid\n",
    "                    \n",
    "    def check_line(self,line,param):\n",
    "        for split in self.splits:\n",
    "            test = line * split\n",
    "            if self.valid_line(test,param):\n",
    "                return 1\n",
    "        return 0\n",
    "    \n",
    "\n",
    "    def valid_line(self,pos,param):\n",
    "        total =0\n",
    "        block = 1\n",
    "        inblock =0\n",
    "        for p in pos:\n",
    "            if p !=0:\n",
    "                block *= p\n",
    "                inblock = 1\n",
    "            else:\n",
    "                if inblock == 1:\n",
    "                    total += block\n",
    "                    block = 1\n",
    "                    inblock = 0\n",
    "        if block > 1:\n",
    "            total +=block\n",
    "        if total == param:\n",
    "            return True\n",
    "        else:\n",
    "            return False\n",
    "        \n",
    "    def fill_rest(self,grid,hooks):\n",
    "        for row in range(9):\n",
    "            if -1 in grid[row,:]:\n",
    "                for split in self.splits : \n",
    "                    if self.possible(split,row,grid,hooks):\n",
    "                        grid[row,:] = split\n",
    "                        self.fill_rest(grid,hooks)\n",
    "                        grid[row,:] =np.ones(9)*-1\n",
    "                return\n",
    "        sol_print(grid,hooks)              \n",
    "                           \n",
    "           \n",
    "            \n",
    "    def possible(self,split,row,grid,hooks):\n",
    "        test = dcopy(grid)\n",
    "        test[row,:] = split\n",
    "        test = test*hooks\n",
    "    \n",
    "    #check the placement doesn't break connectivity\n",
    "        if np.max(label(test!=0,connectivity=1)) > 1:\n",
    "            return False\n",
    "    \n",
    "                \n",
    "        #check rows and columns   \n",
    "        check_row = test[row,:]\n",
    "        if not self.valid_line(check_row,self.right_labels[row]):\n",
    "            return False\n",
    "        \n",
    "    # final checks if the placement completes the grid    \n",
    "        if np.sum(test < 0) ==0:\n",
    "            \n",
    "    \n",
    "        #check rows and columns again\n",
    "            for i in range(9):\n",
    "                row = test[i,:]\n",
    "                col = test[:,i]\n",
    "                if not self.valid_line(row,self.right_labels[i]):\n",
    "                    return False\n",
    "                if not self.valid_line(col,self.top_labels[i]):\n",
    "                    return False                \n",
    "        return True      \n",
    "\n",
    "       \n",
    "    def solve(self):\n",
    "           \n",
    "        while len(self.potential_grids) > 0:\n",
    "            \n",
    "            temp_grid = self.potential_grids.pop(0)\n",
    "            #create the potential rotations at the given level\n",
    "            rotations = []\n",
    "        \n",
    "            for alignment in range(4):\n",
    "                lvl,grid,coords = dcopy(temp_grid)\n",
    "                grid,coords = self.add_layer(grid,coords,-lvl,alignment)\n",
    "                if lvl != -1 :\n",
    "                    rotations.append([lvl+1,grid,coords])\n",
    "                else:\n",
    "                     rotations = [[lvl+1,grid,coords]]\n",
    "    \n",
    "            #check valid grids (where the sum can be made from available digits) and save the ones that work\n",
    "            for i in range(len(rotations)):\n",
    "                lvl,g,coords = rotations[i]\n",
    "                if self.check_grid(g):\n",
    "                    if lvl !=0:    \n",
    "                        self.potential_grids.append([lvl,g,coords])\n",
    "                    else:\n",
    "                        self.solution.append(g)\n",
    "                        \n",
    "\n",
    "        print(\"There are {} valid hook placements\".format(len(self.solution)))\n",
    "            \n",
    "\n",
    "        #solve each grid in the cut down list\n",
    "        forced_grids = []\n",
    "        for i in range(len(self.solution)):\n",
    "            print(\"Checking: \",i)\n",
    "            hooks = self.solution[i]\n",
    "            #print(hooks)\n",
    "            forced_grid =np.ones((9,9),dtype= int)*-1\n",
    "            self.fill_rest(forced_grid,hooks)\n",
    "            \n",
    "        \n",
    "#########################\n",
    "# Code to print in a \"nice\" format\n",
    "                            \n",
    "def sol_print(solved,matrix):\n",
    "    fig,ax = plt.subplots(1,1,figsize=(5,5))\n",
    "    x = np.array((solved*matrix).astype('int').astype('str'))\n",
    "    x[x==\"0\"] =\"-\"\n",
    "    ax = sns.heatmap(matrix,annot=x,cbar=False,cmap=\"Set3_r\",fmt=\"\",linewidths=0.25)\n",
    "    ax.axis(\"off\")\n",
    "    \n",
    "    "
   ]
  },
  {
   "cell_type": "code",
   "execution_count": 82,
   "metadata": {
    "colab": {
     "base_uri": "https://localhost:8080/",
     "height": 374
    },
    "id": "zexQ8t1kT1W3",
    "outputId": "7c2aec4e-d2fb-45d8-fc7e-679051faafed"
   },
   "outputs": [
    {
     "name": "stdout",
     "output_type": "stream",
     "text": [
      "There are 4 valid hook placements\n",
      "Checking:  0\n",
      "Checking:  1\n",
      "Checking:  2\n",
      "Checking:  3\n",
      "\n",
      " Solution took 1461.9446 seconds\n",
      "\n"
     ]
    },
    {
     "data": {
      "image/png": "[encoded data removed]",
      "text/plain": [
       "<Figure size 360x360 with 1 Axes>"
      ]
     },
     "metadata": {
      "needs_background": "light"
     },
     "output_type": "display_data"
    }
   ],
   "source": [
    "start = time.perf_counter()\n",
    "test = Matrix(top_labels,right_labels)\n",
    "test.solve()\n",
    "stop =  time.perf_counter()\n",
    "print('\\n Solution took {:0.4f} seconds\\n'.format((stop-start)))\n"
   ]
  },
  {
   "cell_type": "markdown",
   "metadata": {
    "id": "ld_NFUIfT1W9"
   },
   "source": [
    "### Puzzle solution\n",
    "<img src=\"https://www.janestreet.com/puzzles/20180801_hooks_4_ans.png\" width=\"300\" height=\"400\">"
   ]
  },
  {
   "cell_type": "code",
   "execution_count": 37,
   "metadata": {},
   "outputs": [],
   "source": [
    "test_grid =np.array([[1,1,0,0,0,0,1,1,1],\n",
    "             [0,1,1,0,1,1,1,0,1],\n",
    "             [0,0,1,1,1,0,0,1,1],\n",
    "             [1,1,0,0,0,0,1,1,0],\n",
    "             [0,1,1,0,0,1,1,0,0],\n",
    "             [1,1,0,1,1,1,0,0,0],\n",
    "             [0,1,0,0,0,1,0,0,0],\n",
    "             [1,1,1,0,1,1,1,0,1],\n",
    "             [1,0,1,1,1,0,1,1,1]\n",
    "             ])\n",
    "\n",
    "test_hook =np.array([[9,9,9,9,9,9,9,9,9],\n",
    "             [8,8,8,8,8,8,8,8,9],\n",
    "             [7,7,7,7,7,7,7,8,9],\n",
    "             [6,6,6,6,6,6,7,8,9],\n",
    "             [5,5,5,5,5,6,7,8,9],\n",
    "             [4,4,4,4,5,6,7,8,9],\n",
    "             [3,2,2,4,5,6,7,8,9],\n",
    "             [3,2,1,4,5,6,7,8,9],\n",
    "             [3,3,3,4,5,6,7,8,9]\n",
    "             ])"
   ]
  },
  {
   "cell_type": "code",
   "execution_count": 26,
   "metadata": {},
   "outputs": [
    {
     "data": {
      "image/png": "[encoded data removed]",
      "text/plain": [
       "<Figure size 360x360 with 1 Axes>"
      ]
     },
     "metadata": {
      "needs_background": "light"
     },
     "output_type": "display_data"
    }
   ],
   "source": [
    "sol_print(test_grid,test_hook)"
   ]
  },
  {
   "cell_type": "code",
   "execution_count": null,
   "metadata": {},
   "outputs": [],
   "source": []
  }
 ],
 "metadata": {
  "colab": {
   "include_colab_link": true,
   "name": "JaneSt-Feb18.ipynb",
   "provenance": []
  },
  "kernelspec": {
   "display_name": "Python 3",
   "language": "python",
   "name": "python3"
  },
  "language_info": {
   "codemirror_mode": {
    "name": "ipython",
    "version": 3
   },
   "file_extension": ".py",
   "mimetype": "text/x-python",
   "name": "python",
   "nbconvert_exporter": "python",
   "pygments_lexer": "ipython3",
   "version": "3.7.10"
  }
 },
 "nbformat": 4,
 "nbformat_minor": 4
}
