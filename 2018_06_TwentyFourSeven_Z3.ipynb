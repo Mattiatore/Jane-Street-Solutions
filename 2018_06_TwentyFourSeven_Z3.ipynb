{
 "cells": [
  {
   "cell_type": "code",
   "execution_count": 1,
   "metadata": {},
   "outputs": [],
   "source": [
    "import pandas as pd\n",
    "import numpy as np\n",
    "import time\n",
    "import seaborn as sns\n",
    "from matplotlib.colors import ListedColormap\n",
    "import matplotlib.pyplot as plt\n",
    "import requests\n",
    "from bs4 import BeautifulSoup\n",
    "import itertools\n",
    "from copy import deepcopy as dcopy,copy\n",
    "from scipy.ndimage import measurements\n",
    "from skimage.morphology import label\n",
    "\n",
    "from z3 import *\n",
    "from IPython.display import Markdown, display"
   ]
  },
  {
   "cell_type": "code",
   "execution_count": 2,
   "metadata": {},
   "outputs": [
    {
     "data": {
      "text/markdown": [
       "**Twenty Four Seven**\n",
       "\n",
       "The grid is incomplete. Place numbers in some of the empty cells below so that in total the grid contains one 1, two 2’s, etc., up to seven 7’s. Furthermore, each row and column must contain exactly 4 numbers which sum to 20. Finally, the numbered cells must form a connected region*, but every 2-by-2 subsquare in the completed grid must contain at least one empty cell. The answer to this puzzle is the product of the areas of the connected groups of empty squares in the completed grid. (*Updated 2018-06-14 to clarify that cells connect along edges only .)"
      ],
      "text/plain": [
       "<IPython.core.display.Markdown object>"
      ]
     },
     "metadata": {},
     "output_type": "display_data"
    }
   ],
   "source": [
    "url='https://www.janestreet.com/puzzles/twenty-four-seven/'\n",
    "res = requests.get(url)\n",
    "soup = BeautifulSoup(res.content, 'html.parser')\n",
    "\n",
    "y =[text for text in soup.body.stripped_strings]\n",
    "#display([[i,j] for i,j in enumerate(y)])\n",
    "display(Markdown(\"**\"+y[6]+\"**\\n\\n\"+str(\" \".join(y[7:12]))))"
   ]
  },
  {
   "cell_type": "markdown",
   "metadata": {},
   "source": [
    "<img src=\"https://www.janestreet.com/puzzles/wp-content/uploads/2018/06/20180604_20_4_7.png\" width=\"200\">"
   ]
  },
  {
   "cell_type": "code",
   "execution_count": 3,
   "metadata": {},
   "outputs": [],
   "source": [
    "grid =np.array([[0,4,0,0,0,0,0],\n",
    "                [0,0,6,3,0,0,6],\n",
    "                [0,0,0,0,0,5,5],\n",
    "                [0,0,0,4,0,0,0],\n",
    "                [4,7,0,0,0,0,0],\n",
    "                [2,0,0,7,4,0,0],\n",
    "                [0,0,0,0,0,1,0]])\n",
    "\n",
    "\n",
    "grid[grid==0] =-1"
   ]
  },
  {
   "cell_type": "code",
   "execution_count": 4,
   "metadata": {},
   "outputs": [],
   "source": [
    "def neighbours( i, j):\n",
    "        l=[]\n",
    "        if i-1 >= 0:\n",
    "            l.append((i-1,j))\n",
    "        if i+1 < 7:\n",
    "            l.append((i+1,j))\n",
    "        if j-1 >= 0:\n",
    "            l.append((i,j-1))\n",
    "        if j+1 < 7:\n",
    "            l.append((i,j+1))\n",
    "        return l\n",
    "\n",
    "def areas(grid):\n",
    "    labels, num = measurements.label(np.logical_not(grid!=0))\n",
    "    areas = measurements.sum(np.logical_not(grid!=0), labels, index=range(1, num+1))\n",
    "    return np.prod(areas)"
   ]
  },
  {
   "cell_type": "code",
   "execution_count": 11,
   "metadata": {},
   "outputs": [
    {
     "name": "stdout",
     "output_type": "stream",
     "text": [
      "2 solutions took 0.1486 seconds\n",
      "\n"
     ]
    },
    {
     "data": {
      "image/png": "[encoded data removed]",
      "text/plain": [
       "<Figure size 180x180 with 1 Axes>"
      ]
     },
     "metadata": {
      "needs_background": "light"
     },
     "output_type": "display_data"
    },
    {
     "data": {
      "text/markdown": [
       "### Score is 240"
      ],
      "text/plain": [
       "<IPython.core.display.Markdown object>"
      ]
     },
     "metadata": {},
     "output_type": "display_data"
    }
   ],
   "source": [
    "\n",
    "grid[grid==0] =-1\n",
    "    \n",
    "start = time.time()\n",
    "s = Solver()\n",
    "\n",
    "X = [[Int(\"X_%s%s\" % (i+1,j+1)) for j in range(7) ] for i in range(7) ]\n",
    "\n",
    "# limit the values and place the fixed values\n",
    "s += [And(X[i][j]>=0,X[i][j] <=7) for j in range(7) for i in range(7) ]\n",
    "s += [X[i][j] == int(grid[i,j]) for j in range(7) for i in range(7) if grid[i,j] > 0]\n",
    "\n",
    "# Row/Col Sums\n",
    "s += [Sum([X[i][j] for i in range(7)]) == 20 for j in range(7)]\n",
    "s += [Sum([X[i][j] for j in range(7)]) == 20 for i in range(7)]\n",
    "\n",
    "s += [PbEq([(X[i][j] ==0,1) for i in range(7)],3) for j in range(7)]\n",
    "s += [PbEq([(X[i][j] ==0,1) for j in range(7)],3) for i in range(7)]\n",
    "  \n",
    "# only n instances of n  \n",
    "for n in range(1,8):\n",
    "      s += PbEq([(X[i][j] == n,1) for j in range(7) for i in range(7)],n)\n",
    "\n",
    "#  row and col sums      \n",
    "s += [Sum([X[i][j] for j in range(7)]) == 20 for i in range(7)]\n",
    "s += [Sum([X[i][j] for i in range(7)]) == 20 for j in range(7)] \n",
    "\n",
    "# no 2x2\n",
    "s += [Or(X[i][j] ==0,X[i+1][j] ==0,X[i][j+1] ==0,X[i+1][j+1] ==0) for j in range(6) for i in range(6)]\n",
    "\n",
    "s += [Implies(X[i][j] !=0,Or([X[k][l] !=0 for (k,l) in neighbours(i,j)])) for j in range(7) for i in range(7) ] \n",
    "    \n",
    "\n",
    "# coding up the connectivity is hard so just solve and test then exclude solutions that are not connected\n",
    "count = 0\n",
    "while True:   \n",
    "    if s.check() == sat:\n",
    "        count += 1\n",
    "        m = s.model()\n",
    "        x = np.array([[m.evaluate(X[i][j]).as_long() for j in range(7)] for i in range(7)])\n",
    "        if np.max(label(x != 0,connectivity=1)) == 1 :\n",
    "            break\n",
    "        s += Or([X[i][j]!=int(x[i,j]) for j in range(6) for i in range(6)])\n",
    "    else:\n",
    "        print(\"failed to solve\") \n",
    "        break\n",
    "    \n",
    "print('{} solutions took {:0.4f} seconds\\n'.format(count,time.time()-start))\n",
    "    \n",
    "fig,ax = plt.subplots(1,1,figsize=(2.5,2.5)) \n",
    "y = np.array(x).astype('int').astype('str')\n",
    "y[y==\"0\"] =\"\"\n",
    "ax =sns.heatmap(x==grid,annot=y,cbar=False,cmap=\"Greys\",fmt=\"\",linewidths=2,center= 1,linecolor=\"grey\",annot_kws={\"size\":14})\n",
    "ax.axis(\"off\")\n",
    "plt.tight_layout()\n",
    "plt.show()\n",
    "display(Markdown('### Score is {:,.0f}'.format((areas(x)))))"
   ]
  },
  {
   "cell_type": "code",
   "execution_count": 6,
   "metadata": {},
   "outputs": [
    {
     "data": {
      "text/markdown": [
       "### June 2018 solution\n",
       "\n",
       "The completed grid is shown to the left. The product of the areas of the regions of blank squares is\n",
       "240\n",
       ".\n",
       "Congrats to everyone who solved this month’s puzzle!"
      ],
      "text/plain": [
       "<IPython.core.display.Markdown object>"
      ]
     },
     "metadata": {},
     "output_type": "display_data"
    }
   ],
   "source": [
    "url='https://www.janestreet.com/puzzles/solutions/june-2018-solution/'\n",
    "res = requests.get(url)\n",
    "soup = BeautifulSoup(res.content, 'html.parser')\n",
    "y =[text for text in soup.body.stripped_strings]\n",
    "\n",
    "display(Markdown(\"### \"+y[6]+\"\\n\\n\"+str(\"\\n\".join(y[7:11]))))"
   ]
  },
  {
   "cell_type": "markdown",
   "metadata": {},
   "source": [
    "<img src=\"https://www.janestreet.com/puzzles/wp-content/uploads/2018/07/20180702_20_4_7_ans.png\" width=\"150\">"
   ]
  },
  {
   "cell_type": "code",
   "execution_count": null,
   "metadata": {},
   "outputs": [],
   "source": []
  },
  {
   "cell_type": "code",
   "execution_count": null,
   "metadata": {},
   "outputs": [],
   "source": []
  }
 ],
 "metadata": {
  "kernelspec": {
   "display_name": "Python 3",
   "language": "python",
   "name": "python3"
  },
  "language_info": {
   "codemirror_mode": {
    "name": "ipython",
    "version": 3
   },
   "file_extension": ".py",
   "mimetype": "text/x-python",
   "name": "python",
   "nbconvert_exporter": "python",
   "pygments_lexer": "ipython3",
   "version": "3.7.10"
  }
 },
 "nbformat": 4,
 "nbformat_minor": 4
}
