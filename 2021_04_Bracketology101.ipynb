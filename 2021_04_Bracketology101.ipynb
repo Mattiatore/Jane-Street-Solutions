{
 "cells": [
  {
   "cell_type": "code",
   "execution_count": 1,
   "metadata": {
    "id": "Oq1xibzMT1Wl"
   },
   "outputs": [],
   "source": [
    "import numpy as np\n",
    "import time\n",
    "import requests\n",
    "import math\n",
    "import itertools\n",
    "from bs4 import BeautifulSoup\n",
    "from fractions import Fraction\n",
    "from IPython.display import Markdown, display"
   ]
  },
  {
   "cell_type": "code",
   "execution_count": 2,
   "metadata": {
    "id": "ICTfvjZUT1Wr"
   },
   "outputs": [
    {
     "data": {
      "text/markdown": [
       "### Bracketology 101\n",
       "\n",
       "Show Solution\n",
       "There’s a certain insanity in the air this time of the year that gets us thinking about tournament brackets.  Consider a tournament with 16 competitors, seeded 1-16, and arranged in the single-elimination bracket pictured above (identical to a “region” of the NCAA Division 1 basketball tournament). Assume that when the X-seed plays the Y-seed, the X-seed has a Y/(X+Y) probability of winning. E.g. in the first round, the 5-seed has a 12/17 chance of beating the 12-seed.\n",
       "Suppose the 2-seed has the chance to secretly swap two teams’ placements in the bracket before the tournament begins. So, for example, say they choose to swap the 8- and 16-seeds. Then the 8-seed would play their first game against the 1-seed and have a 1/9 chance of advancing to the next round, and the 16-seed would play their first game against the 9-seed and have a 9/25 chance of advancing."
      ],
      "text/plain": [
       "<IPython.core.display.Markdown object>"
      ]
     },
     "metadata": {},
     "output_type": "display_data"
    }
   ],
   "source": [
    "url='https://www.janestreet.com/puzzles/bracketology-101-index/'\n",
    "res = requests.get(url)\n",
    "soup = BeautifulSoup(res.content, 'html.parser')\n",
    "y =[text for text in soup.body.stripped_strings]\n",
    "#display([(i,j) for i,j in enumerate(y)])\n",
    "display(Markdown(\"### \"+y[7]+\"\\n\\n\"+str(\"\\n\".join(y[9:12]))))"
   ]
  },
  {
   "cell_type": "markdown",
   "metadata": {
    "id": "U9Yh1D3HT1Ws"
   },
   "source": [
    "### Puzzle details\n",
    "<img src=\"https://www.janestreet.com/puzzles/2021-04-01-bracketology-101.png\" width=\"250\">"
   ]
  },
  {
   "cell_type": "code",
   "execution_count": 3,
   "metadata": {
    "id": "844RhDFpT1Wu"
   },
   "outputs": [],
   "source": [
    "# function to calculate the probability of seed winning for a given bracket\n",
    "def calc(seed,bracket):\n",
    "    n = len(bracket)\n",
    "    # work out the odds of each match. \n",
    "    odds = [[Fraction(j,i+j) for j in bracket] for i in bracket]\n",
    "    \n",
    "    round = list(np.ones(n,dtype=int))\n",
    "    \n",
    "    # loop through the rounds mutiplying out the probabilities\n",
    "    for r in range(int(math.log(n,2))):\n",
    "        \n",
    "        #for each team work out the set of possible opponents in a given round\n",
    "        opps = [i for i in range(int(2**r),0,-1)]+[-i for i in range(int(2**r),2**(r+1))]\n",
    "        \n",
    "        # multiply the probability of team i being in the round by \n",
    "        # the sum of the products of \n",
    "        # - the chances of each of the possible opponenets making it through and \n",
    "        # - the chance of team i winning against that opponenet\n",
    "        round = [round[i]*sum([round[i+opps[i % 2**(r+1)]+j]*odds[i][i+opps[i % 2**(r+1)]+j] for j in range(2**r)]) for i in range(n)]\n",
    "\n",
    "    return round[bracket.index(seed)]"
   ]
  },
  {
   "cell_type": "code",
   "execution_count": 4,
   "metadata": {
    "id": "844RhDFpT1Wu"
   },
   "outputs": [
    {
     "data": {
      "text/markdown": [
       "For the original bracket :"
      ],
      "text/plain": [
       "<IPython.core.display.Markdown object>"
      ]
     },
     "metadata": {},
     "output_type": "display_data"
    },
    {
     "data": {
      "text/markdown": [
       "Probability of seed 2 winning is 21.60%"
      ],
      "text/plain": [
       "<IPython.core.display.Markdown object>"
      ]
     },
     "metadata": {},
     "output_type": "display_data"
    },
    {
     "data": {
      "text/markdown": [
       "\n",
       "Swapping 3-16 gives :"
      ],
      "text/plain": [
       "<IPython.core.display.Markdown object>"
      ]
     },
     "metadata": {},
     "output_type": "display_data"
    },
    {
     "data": {
      "text/markdown": [
       "Probability of seed 2 winning is 28.16%"
      ],
      "text/plain": [
       "<IPython.core.display.Markdown object>"
      ]
     },
     "metadata": {},
     "output_type": "display_data"
    },
    {
     "data": {
      "text/markdown": [
       "\n",
       "**Difference is 6.55795%**"
      ],
      "text/plain": [
       "<IPython.core.display.Markdown object>"
      ]
     },
     "metadata": {},
     "output_type": "display_data"
    }
   ],
   "source": [
    "seed = 2\n",
    "bracket = [1,16,8,9,5,12,4,13,6,11,3,14,7,10,2,15]\n",
    "\n",
    "display(Markdown(\"For the original bracket :\"))\n",
    "display(Markdown(\"Probability of seed {} winning is {:.2f}%\".format(seed,float(calc(seed,bracket))*100)))\n",
    "\n",
    "swap = (3,16)\n",
    "bracket2 = bracket.copy()\n",
    "bracket2[bracket.index(swap[0])],bracket2[bracket.index(swap[1])] = bracket2[bracket.index(swap[1])],bracket2[bracket.index(swap[0])]\n",
    "\n",
    "display(Markdown(\"\\nSwapping {}-{} gives :\".format(swap[0],swap[1])))\n",
    "display(Markdown(\"Probability of seed {} winning is {:.2f}%\".format(seed,float(calc(seed,bracket2))*100)))\n",
    "display(Markdown(\"\\n**Difference is {:.5f}%**\".format(float(calc(seed,bracket2)-calc(seed,bracket))*100)))"
   ]
  },
  {
   "cell_type": "code",
   "execution_count": 5,
   "metadata": {
    "id": "844RhDFpT1Wu"
   },
   "outputs": [
    {
     "name": "stdout",
     "output_type": "stream",
     "text": [
      "\n",
      "Running all possibilities\n",
      "=========================\n",
      "Swap\tProb 2 wins\t Diff\n",
      "----\t-----------\t ----\n",
      "1-3\t  19.92%\t-1.68%\n",
      "1-4\t  22.08%\t 0.47%\n",
      "1-5\t  22.37%\t 0.77%\n",
      "1-6\t  21.85%\t 0.25%\n",
      "1-7\t  16.88%\t-4.73%\n",
      "1-8\t  22.04%\t 0.44%\n",
      "1-9\t  22.09%\t 0.49%\n",
      "1-10\t  17.45%\t-4.15%\n",
      "1-11\t  22.99%\t 1.39%\n",
      "1-12\t  23.43%\t 1.83%\n",
      "1-13\t  23.67%\t 2.06%\n",
      "1-14\t  23.97%\t 2.37%\n",
      "1-15\t  13.58%\t-8.02%\n",
      "1-16\t  21.60%\t 0.00%\n",
      "3-4\t  22.91%\t 1.31%\n",
      "3-5\t  23.81%\t 2.21%\n",
      "3-6\t  21.72%\t 0.12%\n",
      "3-7\t  20.49%\t-1.11%\n",
      "3-8\t  26.03%\t 4.43%\n",
      "3-9\t  26.23%\t 4.63%\n",
      "3-10\t  20.92%\t-0.68%\n",
      "3-11\t  22.12%\t 0.52%\n",
      "3-12\t  25.55%\t 3.95%\n",
      "3-13\t  25.62%\t 4.01%\n",
      "3-14\t  21.60%\t 0.00%\n",
      "3-15\t  17.58%\t-4.02%\n",
      "3-16\t  28.16%\t 6.56%\n",
      "4-5\t  21.61%\t 0.00%\n",
      "4-6\t  20.91%\t-0.69%\n",
      "4-7\t  19.32%\t-2.28%\n",
      "4-8\t  22.12%\t 0.52%\n",
      "4-9\t  22.13%\t 0.52%\n",
      "4-10\t  19.08%\t-2.53%\n",
      "4-11\t  20.83%\t-0.77%\n",
      "4-12\t  21.58%\t-0.02%\n",
      "4-13\t  21.60%\t 0.00%\n",
      "4-14\t  21.39%\t-0.21%\n",
      "4-15\t  16.29%\t-5.32%\n",
      "4-16\t  23.40%\t 1.79%\n",
      "5-6\t  21.34%\t-0.27%\n",
      "5-7\t  20.33%\t-1.28%\n",
      "5-8\t  21.92%\t 0.32%\n",
      "5-9\t  21.94%\t 0.34%\n",
      "5-10\t  19.92%\t-1.68%\n",
      "5-11\t  21.16%\t-0.45%\n",
      "5-12\t  21.60%\t 0.00%\n",
      "5-13\t  21.58%\t-0.02%\n",
      "5-14\t  21.64%\t 0.03%\n",
      "5-15\t  17.39%\t-4.21%\n",
      "5-16\t  22.97%\t 1.36%\n",
      "6-7\t  21.22%\t-0.38%\n",
      "6-8\t  22.06%\t 0.45%\n",
      "6-9\t  22.15%\t 0.55%\n",
      "6-10\t  20.87%\t-0.74%\n",
      "6-11\t  21.60%\t 0.00%\n",
      "6-12\t  21.95%\t 0.35%\n",
      "6-13\t  21.96%\t 0.36%\n",
      "6-14\t  22.12%\t 0.52%\n",
      "6-15\t  18.61%\t-2.99%\n",
      "6-16\t  23.08%\t 1.48%\n",
      "7-8\t  22.09%\t 0.48%\n",
      "7-9\t  22.43%\t 0.83%\n",
      "7-10\t  21.60%\t 0.00%\n",
      "7-11\t  22.58%\t 0.98%\n",
      "7-12\t  22.82%\t 1.21%\n",
      "7-13\t  22.93%\t 1.32%\n",
      "7-14\t  23.27%\t 1.67%\n",
      "7-15\t  20.29%\t-1.32%\n",
      "7-16\t  24.09%\t 2.48%\n",
      "8-9\t  21.60%\t 0.00%\n",
      "8-10\t  21.13%\t-0.47%\n",
      "8-11\t  21.40%\t-0.20%\n",
      "8-12\t  21.41%\t-0.20%\n",
      "8-13\t  21.39%\t-0.22%\n",
      "8-14\t  21.61%\t 0.01%\n",
      "8-15\t  19.33%\t-2.28%\n",
      "8-16\t  22.09%\t 0.49%\n",
      "9-10\t  21.41%\t-0.19%\n",
      "9-11\t  21.51%\t-0.09%\n",
      "9-12\t  21.50%\t-0.11%\n",
      "9-13\t  21.48%\t-0.12%\n",
      "9-14\t  21.68%\t 0.08%\n",
      "9-15\t  19.87%\t-1.74%\n",
      "9-16\t  22.04%\t 0.44%\n",
      "10-11\t  21.71%\t 0.10%\n",
      "10-12\t  21.79%\t 0.18%\n",
      "10-13\t  21.84%\t 0.24%\n",
      "10-14\t  22.06%\t 0.46%\n",
      "10-15\t  20.67%\t-0.94%\n",
      "10-16\t  22.39%\t 0.79%\n",
      "11-12\t  21.60%\t-0.00%\n",
      "11-13\t  21.59%\t-0.01%\n",
      "11-14\t  21.72%\t 0.12%\n",
      "11-15\t  20.68%\t-0.93%\n",
      "11-16\t  21.92%\t 0.32%\n",
      "12-13\t  21.61%\t 0.00%\n",
      "12-14\t  21.70%\t 0.09%\n",
      "12-15\t  20.98%\t-0.62%\n",
      "12-16\t  21.87%\t 0.27%\n",
      "13-14\t  21.65%\t 0.04%\n",
      "13-15\t  21.22%\t-0.39%\n",
      "13-16\t  21.79%\t 0.19%\n",
      "14-15\t  21.38%\t-0.22%\n",
      "14-16\t  21.64%\t 0.03%\n",
      "15-16\t  21.82%\t 0.22%\n"
     ]
    },
    {
     "data": {
      "text/markdown": [
       "`Best Swap is : (3, 16)`"
      ],
      "text/plain": [
       "<IPython.core.display.Markdown object>"
      ]
     },
     "metadata": {},
     "output_type": "display_data"
    }
   ],
   "source": [
    "print(\"\\nRunning all possibilities\")\n",
    "print(\"=========================\")\n",
    "diffs =[]\n",
    "print(\"Swap\\tProb {} wins\\t Diff\".format(seed))\n",
    "print(\"----\\t-----------\\t ----\".format(seed))\n",
    "for swap in [i for i in itertools.combinations([1]+[*range(3,len(bracket)+1)],2)]:\n",
    "    bracket2 = bracket.copy()\n",
    "    bracket2[bracket.index(swap[0])],bracket2[bracket.index(swap[1])] = bracket2[bracket.index(swap[1])],bracket2[bracket.index(swap[0])]\n",
    "    print(\"{}-{}\".format(swap[0],swap[1]),end=\"\\t\")\n",
    "    print(\"{:7.2f}%\".format(float(calc(seed,bracket2))*100),end=\"\\t\")\n",
    "    print(\"{:5.2f}%\".format(float(calc(seed,bracket2)-calc(seed,bracket))*100))\n",
    "    diffs.append(calc(seed,bracket2)-calc(seed,bracket))\n",
    "display(Markdown(\"`Best Swap is : \"+str([i for i in itertools.combinations([1]+[*range(3,len(bracket)+1)],2)][np.argmax(diffs)])+\"`\"))"
   ]
  },
  {
   "cell_type": "code",
   "execution_count": 9,
   "metadata": {},
   "outputs": [
    {
     "data": {
      "text/markdown": [
       "### April 2021 : Solution\n",
       "\n",
       "The most straightforward way to solve this puzzle was to compute the\n",
       "probability distributions of the winners of each match recursively,\n",
       "given each swap.  The most advantageous swap for the 2-seed is to swap\n",
       "seeds\n",
       "3 and 16\n",
       ", which increases the 2-seed’s probability of winning by\n",
       "6.55795%\n",
       ".  One easy mistake to make was to accidentally report the\n",
       "1-seed’s probability of winning after swapping the 2-seed with the\n",
       "1-seed.  This swap is good for the 2-seed, but only increases their\n",
       "probability of winning from 21.6040% to 23.0283%, so 1.4243%.\n",
       "The following puzzlers managed to find the correct swap and the\n",
       "increase in probability."
      ],
      "text/plain": [
       "<IPython.core.display.Markdown object>"
      ]
     },
     "metadata": {},
     "output_type": "display_data"
    }
   ],
   "source": [
    "url='https://www.janestreet.com/puzzles/bracketology-101-solution/'\n",
    "res = requests.get(url)\n",
    "soup = BeautifulSoup(res.content, 'html.parser')\n",
    "y =[text for text in soup.body.stripped_strings]\n",
    "#display([(i,j) for i,j in enumerate(y)])\n",
    "display(Markdown(\"### \"+y[8]+\"\\n\\n\"+str(\"\\n\".join(y[10:16]))))"
   ]
  },
  {
   "cell_type": "code",
   "execution_count": 7,
   "metadata": {},
   "outputs": [
    {
     "name": "stdout",
     "output_type": "stream",
     "text": [
      "For the original bracket :\n",
      "Probability of seed 2 winning is 21.60%\n",
      "\n",
      "Swapping 3-16 gives :\n",
      "Probability of seed 2 winning is 28.16%\n",
      "\n",
      "Difference is 6.55795%\n"
     ]
    }
   ],
   "source": [
    "# less generic and elegant (but more readable) code\n",
    "\n",
    "def calc(seed,bracket):\n",
    "    n = len(bracket)\n",
    "    choice0 = [ 1,-1]\n",
    "    choice1 = [ 2, 1,-2,-3]\n",
    "    choice2 = [ 4, 3, 2, 1,-4,-5,-6,-7]\n",
    "    choice3 = [ 8, 7 ,6, 5, 4, 3, 2, 1,-8,-9,-10,-11,-12,-13,-14,-15]\n",
    "\n",
    "    odds = [[Fraction(j,i+j) for j in bracket] for i in bracket]\n",
    "    round0 = list(np.ones(n))\n",
    "    \n",
    "    round1 = [round0[i]*sum([odds[i][i+choice0[(i % 2)]+j] for j in range(1)]) for i in range(n)]\n",
    "    round2 = [round1[i]*sum([round1[i+choice1[i % 4]+j]*odds[i][i+choice1[(i % 4)]+j] for j in range(2)]) for i in range(n)]\n",
    "    round3 = [round2[i]*sum([round2[i+choice2[i % 8]+j]*odds[i][i+choice2[(i % 8)]+j] for j in range(4)]) for i in range(n)]\n",
    "    round4 = [round3[i]*sum([round3[i+choice3[i % 16]+j]*odds[i][i+choice3[(i % 16)]+j] for j in range(8)]) for i in range(n)]\n",
    "    return round4[bracket.index(seed)]\n",
    "\n",
    "bracket = [1,16,8,9,5,12,4,13,6,11,3,14,7,10,2,15]\n",
    "bracket2= [1,3,8,9,5,12,4,13,6,11,16,14,7,10,2,15]\n",
    "\n",
    "seed = 2\n",
    "print(\"For the original bracket :\")\n",
    "print(\"Probability of seed {} winning is {:.2f}%\".format(seed,float(calc(seed,bracket))*100))\n",
    "print(\"\\nSwapping 3-16 gives :\")\n",
    "print(\"Probability of seed {} winning is {:.2f}%\".format(seed,float(calc(seed,bracket2))*100))\n",
    "print(\"\\nDifference is {:.5f}%\".format(float(calc(seed,bracket2)-calc(seed,bracket))*100))"
   ]
  },
  {
   "cell_type": "code",
   "execution_count": null,
   "metadata": {},
   "outputs": [],
   "source": []
  }
 ],
 "metadata": {
  "colab": {
   "include_colab_link": true,
   "name": "JaneSt-Feb18.ipynb",
   "provenance": []
  },
  "kernelspec": {
   "display_name": "Python 3",
   "language": "python",
   "name": "python3"
  },
  "language_info": {
   "codemirror_mode": {
    "name": "ipython",
    "version": 3
   },
   "file_extension": ".py",
   "mimetype": "text/x-python",
   "name": "python",
   "nbconvert_exporter": "python",
   "pygments_lexer": "ipython3",
   "version": "3.7.10"
  }
 },
 "nbformat": 4,
 "nbformat_minor": 4
}
