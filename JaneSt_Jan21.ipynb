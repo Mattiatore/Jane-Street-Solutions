{
 "cells": [
  {
   "cell_type": "code",
   "execution_count": 237,
   "metadata": {},
   "outputs": [],
   "source": [
    "import numpy as np\n",
    "import time\n",
    "import math\n",
    "import pandas as pd\n",
    "import itertools\n",
    "import requests\n",
    "from bs4 import BeautifulSoup\n",
    "import sympy\n",
    "import xlwings as xw\n",
    "import copy\n",
    "from sympy.abc import a,b,c,d,e,f,g,h,i,j,k\n",
    "from scipy.special import binom"
   ]
  },
  {
   "cell_type": "code",
   "execution_count": 238,
   "metadata": {},
   "outputs": [
    {
     "name": "stdout",
     "output_type": "stream",
     "text": [
      "Puzzle\n",
      "~~~~~~\n",
      "Jane received 78 figurines as gifts this holiday season:  12 drummers drumming, 11 pipers piping, 10 lords a-leaping, etc., down to 1 partridge in a pear tree.   They are all mixed together in a big bag.  She agrees with her friend Alex that this seems like too many figurines for one person to have, so she decides to give some of her figurines to Alex.   Jane will uniformly randomly pull figurines out of the bag one at a time until she pulls out the partridge in a pear tree, and will give Alex all of the figurines she pulled out of the bag (except the partridge, that’s Jane’s favorite).Ifnis the maximum number of any one type of ornament that Alex gets, what is the expected value ofn, to seven significant figures?\n"
     ]
    }
   ],
   "source": [
    "print(\"Puzzle\")\n",
    "print(\"~~~~~~\")\n",
    "url='https://www.janestreet.com/puzzles/figurine-figuring/'\n",
    "res = requests.get(url)\n",
    "soup = BeautifulSoup(res.content, 'html.parser')\n",
    "x =[text for text in soup.body.stripped_strings]\n",
    "print(\"\".join(x[7:]))\n",
    "\n",
    "from sympy.abc import a"
   ]
  },
  {
   "cell_type": "markdown",
   "metadata": {},
   "source": [
    "<hr>\n",
    "Generating function is :\n",
    "$\\Large\\prod_{j=2}^i\\left(\\sum_{k=0}^j \\frac{j!}{(j-k)!} \\frac{a^k}{k!}\\right)$ \n",
    "    \n",
    "<br>\n",
    "<br>\n",
    "\n",
    "\n",
    "https://math.stackexchange.com/questions/2683788/picking-a-sample-of-n-numbered-balls"
   ]
  },
  {
   "cell_type": "code",
   "execution_count": 249,
   "metadata": {},
   "outputs": [
    {
     "name": "stdout",
     "output_type": "stream",
     "text": [
      "With a max of 1 of any ball you can draw 11\n",
      "With a max of 2 of any ball you can draw 22\n",
      "With a max of 3 of any ball you can draw 32\n",
      "With a max of 4 of any ball you can draw 41\n",
      "With a max of 5 of any ball you can draw 49\n",
      "With a max of 6 of any ball you can draw 56\n",
      "With a max of 7 of any ball you can draw 62\n",
      "With a max of 8 of any ball you can draw 67\n",
      "With a max of 9 of any ball you can draw 71\n",
      "With a max of 10 of any ball you can draw 74\n",
      "With a max of 11 of any ball you can draw 76\n",
      "With a max of 12 of any ball you can draw 77\n",
      "(12, 78)\n"
     ]
    }
   ],
   "source": [
    "# Generating function using sympy and put the coeffs into an array\n",
    "# remove higher order terms to find probabilites with constraints\n",
    "\n",
    "perms=np.zeros((12,78))\n",
    "\n",
    "for cap in range(1,13):\n",
    "    gfa = sympy.poly(1,a)\n",
    "    for j in range(2,13):\n",
    "        gfb = sympy.poly(0,a)\n",
    "        for k in range(0,min(j+1,cap+1)):\n",
    "            gfb += sympy.poly((math.factorial(j)/math.factorial(j-k))*(a**k)/math.factorial(k),a)\n",
    "        gfa *=gfb\n",
    "    print(\"With a max of {} of any ball you can draw {}\".format(cap,len(gfa.monoms())-1))    \n",
    "    perms[cap-1,78-len(gfa.coeffs()):]=gfa.coeffs()\n",
    "\n",
    "print(np.array(perms).shape)"
   ]
  },
  {
   "cell_type": "code",
   "execution_count": 250,
   "metadata": {},
   "outputs": [
    {
     "name": "stdout",
     "output_type": "stream",
     "text": [
      "expectation for 2 pulls =  1.0977443609022557\n",
      "from above calc is :       1.0977443609022557\n"
     ]
    }
   ],
   "source": [
    "# Expectation for 2 pulls longhand\n",
    "# Then extract from the matrix of coeffs\n",
    "\n",
    "grid = np.zeros((11,11))\n",
    "\n",
    "for i,j in itertools.product(range(11),range(11)):\n",
    "    grid[i,j] = (i+2)/77*(j+2-(i==j))/76\n",
    "    \n",
    "print(\"expectation for 2 pulls = \",1+np.sum(grid * np.eye(11)))\n",
    "\n",
    "x = perms[0,-3] # ways of pulling 2 with a cap of 1 => x/y is expectation of 1\n",
    "y = perms[1,-3] # ways of pulling 2 with a cap of 2 => (y-x)/y is expectation of 2\n",
    "\n",
    "print(\"from above calc is :      \",((2*(y-x)+x)/y))"
   ]
  },
  {
   "cell_type": "code",
   "execution_count": 284,
   "metadata": {},
   "outputs": [
    {
     "name": "stdout",
     "output_type": "stream",
     "text": [
      "Expectation is : 6.8597874\n"
     ]
    }
   ],
   "source": [
    "# need to generalize but work in progress.\n",
    "\n",
    "processed = np.zeros((12,78))\n",
    "processed[0,:]=perms[0,:]\n",
    "for i in range(11,0,-1):\n",
    "    processed[i,:] = perms[i,:] - perms [i-1,:]\n",
    "processed = (processed/np.sum(processed,axis=0))[:,:77]*np.array([np.arange(1,13)]).T\n",
    "\n",
    "print(\"Expectation is : {:.7f}\".format(np.sum(processed)/78))"
   ]
  },
  {
   "cell_type": "code",
   "execution_count": null,
   "metadata": {},
   "outputs": [
    {
     "name": "stdout",
     "output_type": "stream",
     "text": [
      "10.0\n"
     ]
    }
   ],
   "source": [
    "# Check with a simulation\n",
    "\n",
    "urn = np.array(\n",
    "      [1,\n",
    "       2,2,\n",
    "       3,3,3,\n",
    "       4,4,4,4,\n",
    "       5,5,5,5,5,\n",
    "       6,6,6,6,6,6,\n",
    "       7,7,7,7,7,7,7,\n",
    "       8,8,8,8,8,8,8,8,\n",
    "       9,9,9,9,9,9,9,9,9,\n",
    "       10,10,10,10,10,10,10,10,10,10,\n",
    "       11,11,11,11,11,11,11,11,11,11,11,\n",
    "       12,12,12,12,12,12,12,12,12,12,12,12],dtype=int)\n",
    "\n",
    "def loop():\n",
    "    temp = copy.copy(urn)\n",
    "    np.random.shuffle(temp)\n",
    "    picks = np.zeros(11)\n",
    "    for draw in temp:\n",
    "        if draw == 1:\n",
    "            return np.max(picks)\n",
    "        else:\n",
    "            picks[draw-2] +=1\n",
    "            \n",
    "start = time.perf_counter()\n",
    "sum = 0\n",
    "for i in range(100000000):\n",
    "    sum += loop()\n",
    "    if i % 10000000 ==0:\n",
    "        print(sum/(i+1))\n",
    "        \n",
    "stop =  time.perf_counter()\n",
    "print('\\n Solution took {:0.4f} seconds\\n'.format((stop-start)))"
   ]
  },
  {
   "cell_type": "code",
   "execution_count": null,
   "metadata": {},
   "outputs": [],
   "source": []
  }
 ],
 "metadata": {
  "kernelspec": {
   "display_name": "Python 3",
   "language": "python",
   "name": "python3"
  },
  "language_info": {
   "codemirror_mode": {
    "name": "ipython",
    "version": 3
   },
   "file_extension": ".py",
   "mimetype": "text/x-python",
   "name": "python",
   "nbconvert_exporter": "python",
   "pygments_lexer": "ipython3",
   "version": "3.7.7"
  }
 },
 "nbformat": 4,
 "nbformat_minor": 4
}
