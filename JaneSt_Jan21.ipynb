{
 "cells": [
  {
   "cell_type": "code",
   "execution_count": 1,
   "metadata": {},
   "outputs": [],
   "source": [
    "import numpy as np\n",
    "import time\n",
    "import math\n",
    "import pandas as pd\n",
    "import itertools\n",
    "import requests\n",
    "from bs4 import BeautifulSoup\n",
    "import sympy\n",
    "from sympy.abc import a,b,c,d,e,f,g,h,i,j,k"
   ]
  },
  {
   "cell_type": "code",
   "execution_count": 2,
   "metadata": {},
   "outputs": [
    {
     "name": "stdout",
     "output_type": "stream",
     "text": [
      "Puzzle\n",
      "~~~~~~\n",
      "Jane received 78 figurines as gifts this holiday season:  12 drummers drumming, 11 pipers piping, 10 lords a-leaping, etc., down to 1 partridge in a pear tree.   They are all mixed together in a big bag.  She agrees with her friend Alex that this seems like too many figurines for one person to have, so she decides to give some of her figurines to Alex.   Jane will uniformly randomly pull figurines out of the bag one at a time until she pulls out the partridge in a pear tree, and will give Alex all of the figurines she pulled out of the bag (except the partridge, that’s Jane’s favorite).Ifnis the maximum number of any one type of ornament that Alex gets, what is the expected value ofn, to seven significant figures?\n"
     ]
    }
   ],
   "source": [
    "print(\"Puzzle\")\n",
    "print(\"~~~~~~\")\n",
    "url='https://www.janestreet.com/puzzles/figurine-figuring/'\n",
    "res = requests.get(url)\n",
    "soup = BeautifulSoup(res.content, 'html.parser')\n",
    "x =[text for text in soup.body.stripped_strings]\n",
    "print(\"\".join(x[7:]))\n",
    "\n",
    "from sympy.abc import a,b,c,d,e,f,g,h,i,j,k\n"
   ]
  },
  {
   "cell_type": "code",
   "execution_count": 3,
   "metadata": {},
   "outputs": [],
   "source": [
    "# Generating function to work out the number of permutations for the various pulls.\n",
    "\n",
    "terms = [ (1+a),\n",
    "          (1+a+a**2),\n",
    "          (1+a+a**2+a**3),\n",
    "          (1+a+a**2+a**3+a**4),\n",
    "          (1+a+a**2+a**3+a**4+a**5),\n",
    "          (1+a+a**2+a**3+a**4+a**5+a**6),\n",
    "          (1+a+a**2+a**3+a**4+a**5+a**6+a**7),\n",
    "          (1+a+a**2+a**3+a**4+a**5+a**6+a**7+a**8),\n",
    "          (1+a+a**2+a**3+a**4+a**5+a**6+a**7+a**8+a**9),\n",
    "          (1+a+a**2+a**3+a**4+a**5+a**6+a**7+a**8+a**9+a**10),\n",
    "          (1+a+a**2+a**3+a**4+a**5+a**6+a**7+a**8+a**9+a**10+a**11),\n",
    "          (1+a+a**2+a**3+a**4+a**5+a**6+a**7+a**8+a**9+a**10+a**11+a**12),\n",
    "          ]\n",
    "    "
   ]
  },
  {
   "cell_type": "code",
   "execution_count": 32,
   "metadata": {},
   "outputs": [
    {
     "name": "stdout",
     "output_type": "stream",
     "text": [
      "Poly(a**77 + 11*a**76 + 66*a**75 + 285*a**74 + 989*a**73 + 2925*a**72 + 7644*a**71 + 18084*a**70 + 39402*a**69 + 80081*a**68 + 153308*a**67 + 278578*a**66 + 483429*a**65 + 805158*a**64 + 1292314*a**63 + 2005719*a**62 + 3018741*a**61 + 4416543*a**60 + 6294066*a**59 + 8752576*a**58 + 11894714*a**57 + 15818128*a**56 + 20607926*a**55 + 26328354*a**54 + 33014255*a**53 + 40662985*a**52 + 49227532*a**51 + 58611589*a**50 + 68667263*a**49 + 79195957*a**48 + 89952748*a**47 + 100654316*a**46 + 110990180*a**45 + 120636695*a**44 + 129272990*a**43 + 136597810*a**42 + 142346090*a**41 + 146304053*a**40 + 148321695*a**39 + 148321695*a**38 + 146304053*a**37 + 142346090*a**36 + 136597810*a**35 + 129272990*a**34 + 120636695*a**33 + 110990180*a**32 + 100654316*a**31 + 89952748*a**30 + 79195957*a**29 + 68667263*a**28 + 58611589*a**27 + 49227532*a**26 + 40662985*a**25 + 33014255*a**24 + 26328354*a**23 + 20607926*a**22 + 15818128*a**21 + 11894714*a**20 + 8752576*a**19 + 6294066*a**18 + 4416543*a**17 + 3018741*a**16 + 2005719*a**15 + 1292314*a**14 + 805158*a**13 + 483429*a**12 + 278578*a**11 + 153308*a**10 + 80081*a**9 + 39402*a**8 + 18084*a**7 + 7644*a**6 + 2925*a**5 + 989*a**4 + 285*a**3 + 66*a**2 + 11*a + 1, a, domain='ZZ')\n"
     ]
    }
   ],
   "source": [
    "\n",
    "perms=[]\n",
    "\n",
    "for i in range(11,12):\n",
    "    p = sympy.Poly(1,a)\n",
    "    \n",
    "    for j in range(1,12):\n",
    "        p *= sympy.Poly(terms[min(i,j)])\n",
    "    print(p)\n",
    "    perms.append(p.coeffs())\n",
    "    \n",
    "\n"
   ]
  },
  {
   "cell_type": "code",
   "execution_count": null,
   "metadata": {},
   "outputs": [],
   "source": [
    "start = time.perf_counter()\n",
    "x = []\n",
    "GF = sympy.Poly(func(a))\n",
    "\n",
    "for i in range(12):\n",
    "    x.appendGF.coeffs()\n",
    "    \n",
    "stop =  time.perf_counter()\n",
    "print('\\n Solution took {:0.4f} seconds\\n'.format((stop-start)))"
   ]
  },
  {
   "cell_type": "code",
   "execution_count": null,
   "metadata": {},
   "outputs": [],
   "source": []
  },
  {
   "cell_type": "code",
   "execution_count": null,
   "metadata": {},
   "outputs": [],
   "source": []
  },
  {
   "cell_type": "code",
   "execution_count": null,
   "metadata": {},
   "outputs": [],
   "source": [
    "help(GF)"
   ]
  },
  {
   "cell_type": "code",
   "execution_count": null,
   "metadata": {},
   "outputs": [],
   "source": []
  }
 ],
 "metadata": {
  "kernelspec": {
   "display_name": "Python 3",
   "language": "python",
   "name": "python3"
  },
  "language_info": {
   "codemirror_mode": {
    "name": "ipython",
    "version": 3
   },
   "file_extension": ".py",
   "mimetype": "text/x-python",
   "name": "python",
   "nbconvert_exporter": "python",
   "pygments_lexer": "ipython3",
   "version": "3.7.7"
  }
 },
 "nbformat": 4,
 "nbformat_minor": 4
}
