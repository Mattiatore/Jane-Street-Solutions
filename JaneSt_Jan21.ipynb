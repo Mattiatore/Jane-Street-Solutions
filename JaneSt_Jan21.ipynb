{
 "cells": [
  {
   "cell_type": "code",
   "execution_count": 175,
   "metadata": {},
   "outputs": [],
   "source": [
    "import numpy as np\n",
    "import time\n",
    "import math\n",
    "import pandas as pd\n",
    "import itertools\n",
    "import requests\n",
    "from bs4 import BeautifulSoup\n",
    "import sympy\n",
    "import xlwings as xw\n",
    "import copy\n",
    "from sympy.abc import a,b,c,d,e,f,g,h,i,j,k\n",
    "from scipy.special import binom"
   ]
  },
  {
   "cell_type": "code",
   "execution_count": 176,
   "metadata": {},
   "outputs": [
    {
     "name": "stdout",
     "output_type": "stream",
     "text": [
      "Puzzle\n",
      "~~~~~~\n",
      "Jane received 78 figurines as gifts this holiday season:  12 drummers drumming, 11 pipers piping, 10 lords a-leaping, etc., down to 1 partridge in a pear tree.   They are all mixed together in a big bag.  She agrees with her friend Alex that this seems like too many figurines for one person to have, so she decides to give some of her figurines to Alex.   Jane will uniformly randomly pull figurines out of the bag one at a time until she pulls out the partridge in a pear tree, and will give Alex all of the figurines she pulled out of the bag (except the partridge, that’s Jane’s favorite).Ifnis the maximum number of any one type of ornament that Alex gets, what is the expected value ofn, to seven significant figures?\n"
     ]
    }
   ],
   "source": [
    "print(\"Puzzle\")\n",
    "print(\"~~~~~~\")\n",
    "url='https://www.janestreet.com/puzzles/figurine-figuring/'\n",
    "res = requests.get(url)\n",
    "soup = BeautifulSoup(res.content, 'html.parser')\n",
    "x =[text for text in soup.body.stripped_strings]\n",
    "print(\"\".join(x[7:]))\n",
    "\n",
    "from sympy.abc import a,b,c,d,e,f,g,h,i,j,k\n"
   ]
  },
  {
   "cell_type": "markdown",
   "metadata": {},
   "source": [
    "<hr>\n",
    "Generating function is :\n",
    "$\\Large\\prod_{i=2}^j\\left(\\sum_{k=0}^j \\frac{j!}{(j-k)!} \\frac{z^k}{k!}\\right)$ \n",
    "    \n",
    "<br>\n",
    "<br>\n",
    "\n",
    "\n",
    "https://math.stackexchange.com/questions/2683788/picking-a-sample-of-n-numbered-balls"
   ]
  },
  {
   "cell_type": "code",
   "execution_count": 218,
   "metadata": {},
   "outputs": [
    {
     "name": "stdout",
     "output_type": "stream",
     "text": [
      "1 12\n",
      "2 23\n",
      "3 33\n",
      "4 42\n",
      "5 50\n",
      "6 57\n",
      "7 63\n",
      "8 68\n",
      "9 72\n",
      "10 75\n",
      "11 77\n",
      "12 78\n",
      "(12, 78)\n"
     ]
    }
   ],
   "source": [
    "# Generating function using sympy and put the coeffs into an array\n",
    "\n",
    "perms=np.zeros((12,78))\n",
    "\n",
    "for cap in range(1,13):\n",
    "    gfa = sympy.poly(1,a)\n",
    "    for j in range(2,13):\n",
    "        gfb = sympy.poly(0,a)\n",
    "        for k in range(0,min(j+1,cap+1)):\n",
    "            gfb += sympy.poly((math.factorial(j)/math.factorial(j-k))*(a**k)/math.factorial(k),a)\n",
    "        gfa *=gfb\n",
    "    print(cap,len(gfa.monoms()))    \n",
    "    perms[cap-1,78-len(gfa.coeffs()):]=gfa.coeffs()\n",
    "\n",
    "print(np.array(perms).shape)"
   ]
  },
  {
   "cell_type": "code",
   "execution_count": 219,
   "metadata": {},
   "outputs": [
    {
     "name": "stdout",
     "output_type": "stream",
     "text": [
      "expectation for 2 pulls =  1.0977443609022557\n",
      "from above calc is :       1.0977443609022557\n"
     ]
    }
   ],
   "source": [
    "# Expectation for 2 pulls longhand\n",
    "# Get to the correct number by manipulating the coeffs above but not sure correctly\n",
    "\n",
    "grid = np.zeros((11,11))\n",
    "\n",
    "for i,j in itertools.product(range(11),range(11)):\n",
    "    grid[i,j] = (i+2)/77*(j+2-(i==j))/76\n",
    "    \n",
    "print(\"expectation for 2 pulls = \",1+np.sum(grid * np.eye(11)))\n",
    "\n",
    "print(\"from above calc is :      \",2-perms[0,-3]/perms[1,-3])"
   ]
  },
  {
   "cell_type": "code",
   "execution_count": 217,
   "metadata": {},
   "outputs": [
    {
     "name": "stdout",
     "output_type": "stream",
     "text": [
      "Expectation is : nan\n"
     ]
    },
    {
     "name": "stderr",
     "output_type": "stream",
     "text": [
      "d:\\Anaconda3\\lib\\site-packages\\ipykernel_launcher.py:6: RuntimeWarning: divide by zero encountered in true_divide\n",
      "  \n",
      "d:\\Anaconda3\\lib\\site-packages\\ipykernel_launcher.py:6: RuntimeWarning: invalid value encountered in true_divide\n",
      "  \n"
     ]
    }
   ],
   "source": [
    "# need to generalize but work in progress.\n",
    "\n",
    "processed = np.zeros((12,78),dtype=int)\n",
    "processed[0,:]=perms[0,:]\n",
    "for i in range(11,0,-1):\n",
    "    processed[i,:] =perms[i,:] - perms [i-1,:]\n",
    "\n",
    "processed = processed/np.sum(processed,axis=0)*np.array([np.arange(1,13)]).T\n",
    "\n",
    "print(\"Expectation is : {:.7f}\".format(np.sum(processed)/78))"
   ]
  },
  {
   "cell_type": "code",
   "execution_count": 179,
   "metadata": {},
   "outputs": [
    {
     "name": "stdout",
     "output_type": "stream",
     "text": [
      "9.0\n",
      "6.884611538846116\n",
      "6.887405629718514\n",
      "6.886970434318856\n",
      "6.887102822429439\n",
      "6.884502309953801\n",
      "6.873635439409343\n",
      "6.866101912829817\n",
      "6.862214222322221\n",
      "6.865412606526594\n",
      "\n",
      " Solution took 4.3701 seconds\n",
      "\n"
     ]
    }
   ],
   "source": [
    "# Check with a simulation\n",
    "\n",
    "urn = np.array(\n",
    "      [1,\n",
    "       2,2,\n",
    "       3,3,3,\n",
    "       4,4,4,4,\n",
    "       5,5,5,5,5,\n",
    "       6,6,6,6,6,6,\n",
    "       7,7,7,7,7,7,7,\n",
    "       8,8,8,8,8,8,8,8,\n",
    "       9,9,9,9,9,9,9,9,9,\n",
    "       10,10,10,10,10,10,10,10,10,10,\n",
    "       11,11,11,11,11,11,11,11,11,11,11,\n",
    "       12,12,12,12,12,12,12,12,12,12,12,12],dtype=int)\n",
    "\n",
    "def loop():\n",
    "    temp = copy.copy(urn)\n",
    "    np.random.shuffle(temp)\n",
    "    picks = np.zeros(11)\n",
    "    for draw in temp:\n",
    "        if draw == 1:\n",
    "            return np.max(picks)\n",
    "        else:\n",
    "            picks[draw-2] +=1\n",
    "            \n",
    "start = time.perf_counter()\n",
    "sum = 0\n",
    "for i in range(100000):\n",
    "    sum += loop()\n",
    "    if i % 10000 ==0:\n",
    "        print(sum/(i+1))\n",
    "        \n",
    "stop =  time.perf_counter()\n",
    "print('\\n Solution took {:0.4f} seconds\\n'.format((stop-start)))"
   ]
  },
  {
   "cell_type": "code",
   "execution_count": null,
   "metadata": {},
   "outputs": [],
   "source": []
  }
 ],
 "metadata": {
  "kernelspec": {
   "display_name": "Python 3",
   "language": "python",
   "name": "python3"
  },
  "language_info": {
   "codemirror_mode": {
    "name": "ipython",
    "version": 3
   },
   "file_extension": ".py",
   "mimetype": "text/x-python",
   "name": "python",
   "nbconvert_exporter": "python",
   "pygments_lexer": "ipython3",
   "version": "3.7.7"
  }
 },
 "nbformat": 4,
 "nbformat_minor": 4
}
