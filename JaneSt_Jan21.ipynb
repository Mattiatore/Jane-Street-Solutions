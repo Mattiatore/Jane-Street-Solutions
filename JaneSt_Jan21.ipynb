{
 "cells": [
  {
   "cell_type": "code",
   "execution_count": 175,
   "metadata": {},
   "outputs": [],
   "source": [
    "import numpy as np\n",
    "import time\n",
    "import math\n",
    "import pandas as pd\n",
    "import itertools\n",
    "import requests\n",
    "from bs4 import BeautifulSoup\n",
    "import sympy\n",
    "import xlwings as xw\n",
    "import copy\n",
    "from sympy.abc import a,b,c,d,e,f,g,h,i,j,k\n",
    "from scipy.special import binom"
   ]
  },
  {
   "cell_type": "code",
   "execution_count": 176,
   "metadata": {},
   "outputs": [
    {
     "name": "stdout",
     "output_type": "stream",
     "text": [
      "Puzzle\n",
      "~~~~~~\n",
      "Jane received 78 figurines as gifts this holiday season:  12 drummers drumming, 11 pipers piping, 10 lords a-leaping, etc., down to 1 partridge in a pear tree.   They are all mixed together in a big bag.  She agrees with her friend Alex that this seems like too many figurines for one person to have, so she decides to give some of her figurines to Alex.   Jane will uniformly randomly pull figurines out of the bag one at a time until she pulls out the partridge in a pear tree, and will give Alex all of the figurines she pulled out of the bag (except the partridge, that’s Jane’s favorite).Ifnis the maximum number of any one type of ornament that Alex gets, what is the expected value ofn, to seven significant figures?\n"
     ]
    }
   ],
   "source": [
    "print(\"Puzzle\")\n",
    "print(\"~~~~~~\")\n",
    "url='https://www.janestreet.com/puzzles/figurine-figuring/'\n",
    "res = requests.get(url)\n",
    "soup = BeautifulSoup(res.content, 'html.parser')\n",
    "x =[text for text in soup.body.stripped_strings]\n",
    "print(\"\".join(x[7:]))\n",
    "\n",
    "from sympy.abc import a,b,c,d,e,f,g,h,i,j,k\n"
   ]
  },
  {
   "cell_type": "code",
   "execution_count": 177,
   "metadata": {},
   "outputs": [],
   "source": [
    "# Generating function to work out the number of combinations for the various pulls.\n",
    "# number of ways of making \n",
    "\n",
    "terms = [ (1+a),\n",
    "          (1+a+a**2),\n",
    "          (1+a+a**2+a**3),\n",
    "          (1+a+a**2+a**3+a**4),\n",
    "          (1+a+a**2+a**3+a**4+a**5),\n",
    "          (1+a+a**2+a**3+a**4+a**5+a**6),\n",
    "          (1+a+a**2+a**3+a**4+a**5+a**6+a**7),\n",
    "          (1+a+a**2+a**3+a**4+a**5+a**6+a**7+a**8),\n",
    "          (1+a+a**2+a**3+a**4+a**5+a**6+a**7+a**8+a**9),\n",
    "          (1+a+a**2+a**3+a**4+a**5+a**6+a**7+a**8+a**9+a**10),\n",
    "          (1+a+a**2+a**3+a**4+a**5+a**6+a**7+a**8+a**9+a**10+a**11),\n",
    "          (1+a+a**2+a**3+a**4+a**5+a**6+a**7+a**8+a**9+a**10+a**11+a**12),\n",
    "          ]\n",
    "    \n",
    "    \n",
    "perms=np.zeros((12,78))\n",
    "\n",
    "perms[0,78-12:] =(sympy.Poly(terms[0]**11).coeffs())\n",
    "\n",
    "for i in range(1,12):\n",
    "    p = sympy.Poly(1,a)\n",
    "    \n",
    "    for j in range(1,12):\n",
    "        p *= sympy.Poly(terms[min(i,j)])\n",
    "    perms[i,78-len(p.coeffs()):]=p.coeffs()    "
   ]
  },
  {
   "cell_type": "code",
   "execution_count": 178,
   "metadata": {},
   "outputs": [
    {
     "name": "stdout",
     "output_type": "stream",
     "text": [
      "Expectation is : 8.0799297\n"
     ]
    }
   ],
   "source": [
    "processed = np.zeros((12,78),dtype=int)\n",
    "processed[0,:]=perms[0,:]\n",
    "for i in range(11,0,-1):\n",
    "    processed[i,:] =perms[i,:] - perms [i-1,:]\n",
    "\n",
    "processed = processed/np.sum(processed,axis=0)*np.array([np.arange(1,13)]).T\n",
    "\n",
    "print(\"Expectation is : {:.7f}\".format(np.sum(processed)/78))\n"
   ]
  },
  {
   "cell_type": "code",
   "execution_count": 179,
   "metadata": {},
   "outputs": [
    {
     "name": "stdout",
     "output_type": "stream",
     "text": [
      "9.0\n",
      "6.884611538846116\n",
      "6.887405629718514\n",
      "6.886970434318856\n",
      "6.887102822429439\n",
      "6.884502309953801\n",
      "6.873635439409343\n",
      "6.866101912829817\n",
      "6.862214222322221\n",
      "6.865412606526594\n",
      "\n",
      " Solution took 4.3701 seconds\n",
      "\n"
     ]
    }
   ],
   "source": [
    "# Check with a simulation\n",
    "\n",
    "urn = np.array(\n",
    "      [1,\n",
    "       2,2,\n",
    "       3,3,3,\n",
    "       4,4,4,4,\n",
    "       5,5,5,5,5,\n",
    "       6,6,6,6,6,6,\n",
    "       7,7,7,7,7,7,7,\n",
    "       8,8,8,8,8,8,8,8,\n",
    "       9,9,9,9,9,9,9,9,9,\n",
    "       10,10,10,10,10,10,10,10,10,10,\n",
    "       11,11,11,11,11,11,11,11,11,11,11,\n",
    "       12,12,12,12,12,12,12,12,12,12,12,12],dtype=int)\n",
    "\n",
    "def loop():\n",
    "    temp = copy.copy(urn)\n",
    "    np.random.shuffle(temp)\n",
    "    picks = np.zeros(11)\n",
    "    for draw in temp:\n",
    "        if draw == 1:\n",
    "            return np.max(picks)\n",
    "        else:\n",
    "            picks[draw-2] +=1\n",
    "            \n",
    "start = time.perf_counter()\n",
    "sum = 0\n",
    "for i in range(100000):\n",
    "    sum += loop()\n",
    "    if i % 10000 ==0:\n",
    "        print(sum/(i+1))\n",
    "        \n",
    "stop =  time.perf_counter()\n",
    "print('\\n Solution took {:0.4f} seconds\\n'.format((stop-start)))"
   ]
  },
  {
   "cell_type": "code",
   "execution_count": 180,
   "metadata": {},
   "outputs": [
    {
     "name": "stdout",
     "output_type": "stream",
     "text": [
      "expectation for 2 pulls =  1.0977443609022557\n",
      "from above calc is :  1.1666666666666667\n"
     ]
    }
   ],
   "source": [
    "#expectation for 2 pulls longhand\n",
    "\n",
    "grid = np.zeros((11,11))\n",
    "\n",
    "for i,j in itertools.product(range(11),range(11)):\n",
    "    grid[i,j] = (i+2)/77*(j+2-(i==j))/76\n",
    "    \n",
    "print(\"expectation for 2 pulls = \",1+np.sum(grid * np.eye(11)))\n",
    "\n",
    "print(\"from above calc is : \",np.sum(processed[:,75]))"
   ]
  },
  {
   "cell_type": "code",
   "execution_count": 142,
   "metadata": {},
   "outputs": [],
   "source": [
    "terms = [\n",
    "          (1+a+a**2),\n",
    "          (1+b+b**2+b**3),\n",
    "          (1+c+c**2+c**3+c**4),\n",
    "          (1+d+d**2+d**3+d**4+d**5),\n",
    "          (1+e+e**2+e**3+e**4+e**5+e**6),\n",
    "          (1+f+f**2+f**3+f**4+f**5+f**6+f**7),\n",
    "          (1+a+a**2+a**3+a**4+a**5+a**6+a**7+a**8),\n",
    "          (1+a+a**2+a**3+a**4+a**5+a**6+a**7+a**8+a**9),\n",
    "          (1+a+a**2+a**3+a**4+a**5+a**6+a**7+a**8+a**9+a**10),\n",
    "          (1+a+a**2+a**3+a**4+a**5+a**6+a**7+a**8+a**9+a**10+a**11),\n",
    "          (1+a+a**2+a**3+a**4+a**5+a**6+a**7+a**8+a**9+a**10+a**11+a**12),\n",
    "          ]\n",
    "    "
   ]
  },
  {
   "cell_type": "code",
   "execution_count": null,
   "metadata": {},
   "outputs": [],
   "source": []
  }
 ],
 "metadata": {
  "kernelspec": {
   "display_name": "Python 3",
   "language": "python",
   "name": "python3"
  },
  "language_info": {
   "codemirror_mode": {
    "name": "ipython",
    "version": 3
   },
   "file_extension": ".py",
   "mimetype": "text/x-python",
   "name": "python",
   "nbconvert_exporter": "python",
   "pygments_lexer": "ipython3",
   "version": "3.7.7"
  }
 },
 "nbformat": 4,
 "nbformat_minor": 4
}
