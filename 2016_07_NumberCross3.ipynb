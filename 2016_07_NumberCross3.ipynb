{
 "cells": [
  {
   "cell_type": "code",
   "execution_count": 2,
   "metadata": {
    "id": "Oq1xibzMT1Wl"
   },
   "outputs": [],
   "source": [
    "import numpy as np\n",
    "import time\n",
    "import seaborn as sns\n",
    "import matplotlib.pyplot as plt\n",
    "import requests\n",
    "from bs4 import BeautifulSoup\n",
    "import itertools\n",
    "from z3 import *"
   ]
  },
  {
   "cell_type": "code",
   "execution_count": 2,
   "metadata": {
    "id": "ICTfvjZUT1Wr"
   },
   "outputs": [
    {
     "name": "stdout",
     "output_type": "stream",
     "text": [
      "Enter the digits 1 thru 9, or their negatives, in each of the squares in the crossword grid.  The crossword clues represent the sum of the digits in each answer.   Ignoring sign, no digit will appear more than once in any row or column in the completed grid.  Also, every row and column of the completed grid has exactly one negative number. For your answer, submit the sum of all numbers in the grid which share a border (horizontal or vertical) with one of the negative numbers.\n"
     ]
    }
   ],
   "source": [
    "# More z3 practice. Very slow without help.\n",
    "# Thankfully with a bit of manual help on the\n",
    "# negatives solves in a not unreasonable amount \n",
    "# of time\n",
    "\n",
    "# I suspect the negative number placements are all forced\n",
    "# but haven't proved it. \n",
    "\n",
    "url='https://www.janestreet.com/puzzles/number-cross-3/'\n",
    "res = requests.get(url)\n",
    "soup = BeautifulSoup(res.content, 'html.parser')\n",
    "x =[text for text in soup.body.stripped_strings]\n",
    "print(\" \".join(x[7:9]))"
   ]
  },
  {
   "cell_type": "markdown",
   "metadata": {
    "id": "U9Yh1D3HT1Ws"
   },
   "source": [
    "<img src=\"https://www.janestreet.com/puzzles/wp-content/uploads/2016/07/jul16_puzzle.png\" width=\"350\">"
   ]
  },
  {
   "cell_type": "code",
   "execution_count": 7,
   "metadata": {
    "id": "844RhDFpT1Wu"
   },
   "outputs": [
    {
     "name": "stdout",
     "output_type": "stream",
     "text": [
      "Solved Grid\n",
      "~~~~~~~~~~~\n"
     ]
    },
    {
     "data": {
      "image/png": "[encoded data removed]",
      "text/plain": [
       "<Figure size 288x288 with 1 Axes>"
      ]
     },
     "metadata": {
      "needs_background": "light"
     },
     "output_type": "display_data"
    }
   ],
   "source": [
    "#### set up a nice output grid\n",
    "fixed= np.zeros((10,10),dtype=int)\n",
    "fixed[0,3:6] = 1\n",
    "fixed[1,3] = 1\n",
    "fixed[2,3] = 1\n",
    "fixed[2:5,9] = 1\n",
    "fixed[2,3] = 1\n",
    "fixed[4,4] = 1\n",
    "fixed[4,7:10] = 1\n",
    "fixed[5,0:3] = 1\n",
    "fixed[5,5] = 1\n",
    "fixed[6:8,0] = 1\n",
    "fixed[7:9,6] = 1\n",
    "fixed[9,4:7] = 1\n",
    "\n",
    "def print_grid(fixed,solved):\n",
    "    annot = solved.copy()\n",
    "    grid=fixed.copy()\n",
    "    annot[grid==1] = 0\n",
    "    print(\"Solved Grid\")\n",
    "    print(\"~~~~~~~~~~~\")\n",
    "    annot = annot.astype('str')\n",
    "    annot[annot==\"0\"] =\"\"\n",
    "    fig,ax = plt.subplots(1,1,figsize=(4,4))\n",
    "    ax =sns.heatmap(grid,annot=annot,cbar=False,cmap=\"Greys\",fmt=\"\",linewidths=1,annot_kws={\"size\":14},linecolor='k')\n",
    "    ax.axis(\"off\")\n",
    "    plt.show()\n",
    "    \n",
    "print_grid(fixed,fixed)    "
   ]
  },
  {
   "cell_type": "code",
   "execution_count": 12,
   "metadata": {
    "id": "844RhDFpT1Wu"
   },
   "outputs": [],
   "source": [
    "######################################################\n",
    "# Setup # 9x9 matrix of integer variables and solver #\n",
    "######################################################\n",
    "\n",
    "# 2 lists of variables one for the digit one for negatives\n",
    "X = [[Int(\"x_%s_%s\" % (i+1, j+1)) for j in range(10) ] for i in range(10)]\n",
    "Y = [[Int(\"y_%s_%s\" % (i+1, j+1)) for j in range(10) ] for i in range(10)]\n",
    "\n",
    "s = Solver()\n",
    "\n",
    "###############################\n",
    "# The puzzle wide constraints #\n",
    "###############################\n",
    "\n",
    "# only one negative number in each row/column\n",
    "s+=  [PbEq([(Y[i][j] ==-1,1) for j in range(10) if fixed[i,j]==0],1) for i in range(10)]\n",
    "s+=  [PbEq([(Y[i][j] ==-1,1) for i in range(10) if fixed[i,j]==0],1) for j in range(10)]\n",
    "\n",
    "# each digit only once in each row/column\n",
    "s += [Distinct([X[i][j] for j in range(10) if fixed[i,j]==0]) for i in range(10)]\n",
    "s += [Distinct([X[i][j] for i in range(10) if fixed[i,j]==0]) for j in range(10)]\n",
    "\n",
    "# each cell contains a value in {1 ..., 9}\n",
    "s += [And(1 <= X[i][j], X[i][j] <= 9) for i in range(10) for j in range(10)]\n",
    "s += [Or(Y[i][j]==1, Y[i][j]==-1) for i in range(10) for j in range(10)]\n",
    "\n",
    "#fix the shaded cells at 1\n",
    "for i,j in itertools.product(range(10),range(10)):    \n",
    "    if fixed[i,j] ==1:\n",
    "        s+= X[i][j] == 1\n",
    "        s+= Y[i][j] == 1\n",
    "\n",
    "\n",
    "################################################################\n",
    "# Based on totals some numbers have to have a negative in them #\n",
    "################################################################\n",
    "\n",
    "# Just solving the clues is very slow\n",
    "# Thankfully the negatives can't be in a number of places\n",
    "# The negative, zero & 1 answers must have a negative meaning \n",
    "# the other cells in that row/col can't have negatives\n",
    "# Where the cell is below the lowest sum possible (4 digits cant be lower than 1+2+3+4 say)\n",
    "# that must have a negative so the rest can't\n",
    "# 3 digits 17 or greater can't have negative\n",
    "\n",
    "forced= np.array([[1,1,1,1,1,1,0,0,1,0],\n",
    "                  [1,1,1,1,1,0,0,0,1,0],\n",
    "                  [1,0,1,1,1,1,1,1,1,1],\n",
    "                  [1,1,1,0,1,0,0,0,1,1],\n",
    "                  [1,1,1,0,1,0,0,1,1,1],\n",
    "                  [1,1,1,0,0,1,1,1,1,1],\n",
    "                  [1,1,1,1,1,1,1,1,0,1],\n",
    "                  [1,1,0,0,0,0,0,1,1,1],\n",
    "                  [0,1,0,0,0,0,1,1,1,1],\n",
    "                  [0,1,0,0,1,1,1,1,1,1]]\n",
    "          ,dtype=int)\n",
    "\n",
    "for i,j in itertools.product(range(10),range(10)):    \n",
    "    if forced[i,j] ==1:\n",
    "  \n",
    "        s+= Y[i][j] == 1\n",
    "\n",
    "#############\n",
    "# The clues #\n",
    "#############       \n",
    "\n",
    "### ACROSS ###\n",
    "# 1 across\n",
    "s += X[0][0]*Y[0][0]+X[0][1]*Y[0][1]+X[0][2]*Y[0][2] ==24   \n",
    "\n",
    "# 4 across\n",
    "s += X[0][6]*Y[0][6]+X[0][7]*Y[0][7]+X[0][8]*Y[0][8]+X[0][9]*Y[0][9] == 14     \n",
    "\n",
    "# 8 across\n",
    "s += X[1][0]*Y[1][0]+X[1][1]*Y[1][1]+X[1][2]*Y[1][2] ==10  \n",
    "\n",
    "# 9 across\n",
    "s += X[1][4]*Y[1][4]+X[1][5]*Y[1][5]+X[1][6]*Y[1][6]+X[1][7]*Y[1][7]+X[1][8]*Y[1][8]+X[1][9]*Y[1][9] == 25     \n",
    "\n",
    "# 11 across\n",
    "s += X[2][0]*Y[2][0]+X[2][1]*Y[2][1]+X[2][2]*Y[2][2] == 0  \n",
    "\n",
    "# 12 across\n",
    "s += X[2][4]*Y[2][4]+X[2][5]*Y[2][5]+X[2][6]*Y[2][6]+X[2][7]*Y[2][7]+X[2][8]*Y[2][8] == 19     \n",
    "\n",
    "# 13 across\n",
    "s += X[3][0]*Y[3][0]+X[3][1]*Y[3][1]+X[3][2]*Y[3][2]+X[3][3]*Y[3][3]+X[3][4]*Y[3][4]+X[3][5]*Y[3][5] +X[3][6]*Y[3][6] +X[3][7]*Y[3][7] +X[3][8]*Y[3][8]  == 41     \n",
    "\n",
    "# 15 across\n",
    "s += X[4][0]*Y[4][0]+X[4][1]*Y[4][1]+X[4][2]*Y[4][2]+X[4][3]*Y[4][3] == 23  \n",
    "\n",
    "# 16 across\n",
    "s += X[4][5]*Y[4][5]+X[4][6]*Y[4][6] ==6\n",
    "\n",
    "# 17 across\n",
    "s += X[5][3]*Y[5][3]+X[5][4]*Y[5][4] ==-8\n",
    "\n",
    "# 19 across\n",
    "s += X[5][6]*Y[5][6]+X[5][7]*Y[5][7]+X[5][8]*Y[5][8]+X[5][9]*Y[5][9] == 14  \n",
    "\n",
    "# 23 across\n",
    "s += X[6][1]*Y[6][1]+X[6][2]*Y[6][2]+X[6][3]*Y[6][3]+X[6][4]*Y[6][4]+X[6][5]*Y[6][5] +X[6][6]*Y[6][6] +X[6][7]*Y[6][7] +X[6][8]*Y[6][8]+X[6][9]*Y[6][9]  == 39    \n",
    "\n",
    "# 26 across\n",
    "s += X[7][1]*Y[7][1]+X[7][2]*Y[7][2]+X[7][3]*Y[7][3]+X[7][4]*Y[7][4]+X[7][5]*Y[7][5] == 15    \n",
    "\n",
    "# 27 across\n",
    "s += X[7][7]*Y[7][7]+X[7][8]*Y[7][8]+X[7][9]*Y[7][9] == 17    \n",
    "\n",
    "# 28 across\n",
    "s += X[8][0]*Y[8][0]+X[8][1]*Y[8][1]+X[8][2]*Y[8][2]+X[8][3]*Y[8][3]+X[8][4]*Y[8][4]+X[8][5]*Y[8][5] == 17   \n",
    "\n",
    "# 29 across\n",
    "s += X[8][7]*Y[8][7]+X[8][8]*Y[8][8]+X[8][9]*Y[8][9] == 22 \n",
    "\n",
    "# 30 across\n",
    "s += X[9][0]*Y[9][0]+X[9][1]*Y[9][1]+X[9][2]*Y[9][2]+X[9][3]*Y[9][3] == 8  \n",
    "\n",
    "# 31 across\n",
    "s += X[9][7]*Y[9][7]+X[9][8]*Y[9][8]+X[9][9]*Y[9][9] == 10 \n",
    "\n",
    "### DOWN ###\n",
    "# 1 down\n",
    "s += X[0][0]*Y[0][0]+X[1][0]*Y[1][0]+X[2][0]*Y[2][0]+X[3][0]*Y[3][0]+X[4][0]*Y[4][0] == 17     \n",
    "\n",
    "# 2 down\n",
    "s += X[0][1]*Y[0][1]+X[1][1]*Y[1][1]+X[2][1]*Y[2][1]+X[3][1]*Y[3][1]+X[4][1]*Y[4][1] == 6     \n",
    "                                                                                  \n",
    "# 3 down\n",
    "s += X[0][2]*Y[0][2]+X[1][2]*Y[1][2]+X[2][2]*Y[2][2]+X[3][2]*Y[3][2]+X[4][2]*Y[4][2] == 35     \n",
    "\n",
    "# 4 down\n",
    "s += X[0][6]*Y[0][6]+X[1][6]*Y[1][6]+X[2][6]*Y[2][6]+X[3][6]*Y[3][6]+X[4][6]*Y[4][6]+X[5][6]*Y[5][6]+X[6][6]*Y[6][6]  == 32 \n",
    "\n",
    "# 5 down\n",
    "s += X[0][7]*Y[0][7]+X[1][7]*Y[1][7]+X[2][7]*Y[2][7]+X[3][7]*Y[3][7] == 13 \n",
    "\n",
    "# 6 down\n",
    "s += X[0][8]*Y[0][8]+X[1][8]*Y[1][8]+X[2][8]*Y[2][8]+X[3][8]*Y[3][8] == 30  \n",
    "\n",
    "# 7 down\n",
    "s += X[0][9]*Y[0][9]+X[1][9]*Y[1][9]== 8 \n",
    "\n",
    "# 9 down\n",
    "s += X[1][4]*Y[1][4]+X[2][4]*Y[2][4]+X[3][4]*Y[3][4]== 8\n",
    "\n",
    "# 10 down\n",
    "s += X[1][5]*Y[1][5]+X[2][5]*Y[2][5]+X[3][5]*Y[3][5]+X[4][5]*Y[4][5]== 19\n",
    "\n",
    "# 14 down\n",
    "s += X[3][3]*Y[3][3]+X[4][3]*Y[4][3]+X[5][3]*Y[5][3]+X[6][3]*Y[6][3]+X[7][3]*Y[7][3]+X[8][3]*Y[8][3]+X[9][3]*Y[9][3] == 30\n",
    "\n",
    "# 18 down\n",
    "s += X[5][4]*Y[5][4]+X[6][4]*Y[6][4]+X[7][4]*Y[7][4]+X[8][4]*Y[8][4] == 4\n",
    "\n",
    "# 20 down\n",
    "s += X[5][7]*Y[5][7]+X[6][7]*Y[6][7]+X[7][7]*Y[7][7]+X[8][7]*Y[8][7]+X[9][7]*Y[9][7] == 22\n",
    "\n",
    "# 21 down\n",
    "s += X[5][8]*Y[5][8]+X[6][8]*Y[6][8]+X[7][8]*Y[7][8]+X[8][8]*Y[8][8]+X[9][8]*Y[9][8] == 9\n",
    "\n",
    "# 22 down\n",
    "s += X[5][9]*Y[5][9]+X[6][9]*Y[6][9]+X[7][9]*Y[7][9]+X[8][9]*Y[8][9]+X[9][9]*Y[9][9] == 30\n",
    "\n",
    "# 23 down\n",
    "s += X[6][1]*Y[6][1]+X[7][1]*Y[7][1]+X[8][1]*Y[8][1]+X[9][1]*Y[9][1] == 21\n",
    "\n",
    "# 24 down\n",
    "s += X[6][2]*Y[6][2]+X[7][2]*Y[7][2]+X[8][2]*Y[8][2]+X[9][2]*Y[9][2] == 4\n",
    "\n",
    "# 25 down\n",
    "s += X[6][5]*Y[6][5]+X[7][5]*Y[7][5]+X[8][5]*Y[8][5] == 7\n",
    "\n",
    "# 28 down\n",
    "s += X[8][0]*Y[8][0]+X[9][0]*Y[9][0] == 1\n",
    "\n",
    "\n",
    "def find_negs(fixed,grid):\n",
    "    output = grid.copy()\n",
    "    output[fixed ==1] =0\n",
    "    \n",
    "    negs = np.zeros((10,10),dtype = int)\n",
    "    for row,col in itertools.product(range(10),range(10)):\n",
    "        \n",
    "        if row-1 > -1:\n",
    "             if output[row-1,col] <0:\n",
    "                negs[row,col] = 1\n",
    "                   \n",
    "        if row+1 <10:\n",
    "             if output[row+1,col] <0:\n",
    "\n",
    "                negs[row,col] = 1\n",
    "        if col-1 > -1:\n",
    "             if output[row,col-1] <0:\n",
    "                negs[row,col] = 1\n",
    "         \n",
    "                                  \n",
    "        if col+1 <10:\n",
    "             if output[row,col+1] <0:\n",
    "                negs[row,col] = 1\n",
    "\n",
    "    return np.sum(negs*output)\n",
    "                        "
   ]
  },
  {
   "cell_type": "code",
   "execution_count": 13,
   "metadata": {
    "id": "844RhDFpT1Wu"
   },
   "outputs": [
    {
     "name": "stdout",
     "output_type": "stream",
     "text": [
      "Solved in 286.2488 seconds\n",
      "\n",
      "The sum is: 148\n",
      "\n",
      "Solved Grid\n",
      "~~~~~~~~~~~\n"
     ]
    },
    {
     "data": {
      "image/png": "[encoded data removed]",
      "text/plain": [
       "<Figure size 288x288 with 1 Axes>"
      ]
     },
     "metadata": {
      "needs_background": "light"
     },
     "output_type": "display_data"
    }
   ],
   "source": [
    "start =time.time()                                                                                \n",
    "                                                                             \n",
    "###################\n",
    "# Solve and print #\n",
    "###################\n",
    "if s.check() == sat:\n",
    "    m = s.model()\n",
    "    x_result = [[ m.evaluate(X[i][j]).as_long() for j in range(10) ] for i in range(10)]\n",
    "    y_result = [[ m.evaluate(Y[i][j]).as_long() for j in range(10) ] for i in range(10)]\n",
    "else:\n",
    "    print(\"Failed\")\n",
    "\n",
    "\n",
    "stop = time.time()\n",
    "print(\"Solved in {:.4f} seconds\\n\".format(stop-start))\n",
    "print(\"The sum is: {}\\n\".format(find_negs(fixed,np.array(x_result)*np.array(y_result))))\n",
    "print_grid(fixed,np.array(x_result)*np.array(y_result))"
   ]
  },
  {
   "cell_type": "code",
   "execution_count": 6,
   "metadata": {},
   "outputs": [
    {
     "name": "stdout",
     "output_type": "stream",
     "text": [
      "The completed grid is presented here, and the sum of all numbers bordering the negative numbers is 148 .  Congratulations to all of this month’s correct solvers!\n"
     ]
    }
   ],
   "source": [
    "url='https://www.janestreet.com/puzzles/solutions/july-2016-solution/'\n",
    "res = requests.get(url)\n",
    "soup = BeautifulSoup(res.content, 'html.parser')\n",
    "x =[text for text in soup.body.stripped_strings]\n",
    "\n",
    "print(\" \".join(x[7:10]))"
   ]
  },
  {
   "cell_type": "markdown",
   "metadata": {
    "id": "ld_NFUIfT1W9"
   },
   "source": [
    "<img src=\"https://www.janestreet.com/puzzles/wp-content/uploads/2016/08/jul16_solution.png\" width=\"300\" >"
   ]
  },
  {
   "cell_type": "markdown",
   "metadata": {},
   "source": [
    "<img src=\"https://www.janestreet.com/puzzles/wp-content/uploads/2016/07/jul16_puzzle.png\" width=\"400\">"
   ]
  },
  {
   "cell_type": "code",
   "execution_count": 10,
   "metadata": {},
   "outputs": [
    {
     "name": "stdout",
     "output_type": "stream",
     "text": [
      "Solved in 0.0738 seconds\n",
      "\n",
      "Solved Grid\n",
      "~~~~~~~~~~~\n"
     ]
    },
    {
     "data": {
      "image/png": "[encoded data removed]",
      "text/plain": [
       "<Figure size 288x288 with 1 Axes>"
      ]
     },
     "metadata": {
      "needs_background": "light"
     },
     "output_type": "display_data"
    }
   ],
   "source": [
    "start =time.time()\n",
    "forced= np.array([[1,1,1,1,1,1,0,0,1,0],\n",
    "                  [1,1,1,1,1,0,0,0,1,0],\n",
    "                  [1,0,1,1,1,1,1,1,1,1],\n",
    "                  [1,1,1,0,1,0,0,0,1,1],\n",
    "                  [1,1,1,0,1,0,0,1,1,1],\n",
    "                  [1,1,1,0,0,1,1,1,1,1],\n",
    "                  [1,1,1,1,1,1,1,1,0,1],\n",
    "                  [1,1,0,0,0,0,0,1,1,1],\n",
    "                  [0,1,0,0,0,0,1,1,1,1],\n",
    "                  [0,1,0,0,1,1,1,1,1,1]]\n",
    "          ,dtype=int)\n",
    "\n",
    "s = Solver()\n",
    "\n",
    "Y = [[Int(\"y_%s_%s\" % (i+1, j+1)) for j in range(10) ] for i in range(10)]\n",
    "s += [Or(Y[i][j]==1, Y[i][j]==-1) for i in range(10) for j in range(10)]\n",
    "\n",
    "s+=  [PbEq([(Y[i][j] ==-1,1) for j in range(10) if fixed[i,j]==0],1) for i in range(10)]\n",
    "s+=  [PbEq([(Y[i][j] ==-1,1) for i in range(10) if fixed[i,j]==0],1) for j in range(10)]\n",
    "\n",
    "\n",
    "\n",
    "for i,j in itertools.product(range(10),range(10)):    \n",
    "    if forced[i,j] ==1:  \n",
    "        s+= Y[i][j] == 1\n",
    "\n",
    "   \n",
    "if s.check() == sat:\n",
    "    m = s.model()\n",
    "    \n",
    "    y_result = [[ m.evaluate(Y[i][j]).as_long() for j in range(10) ] for i in range(10)]\n",
    "else:\n",
    "    print(\"Failed\")\n",
    "\n",
    "\n",
    "stop = time.time()\n",
    "print(\"Solved in {:.4f} seconds\\n\".format(stop-start))\n",
    "\n",
    "print_grid(fixed,np.array(y_result))"
   ]
  },
  {
   "cell_type": "code",
   "execution_count": 11,
   "metadata": {},
   "outputs": [
    {
     "data": {
      "text/plain": [
       "30"
      ]
     },
     "execution_count": 11,
     "metadata": {},
     "output_type": "execute_result"
    }
   ],
   "source": [
    "9+8+7+6"
   ]
  },
  {
   "cell_type": "code",
   "execution_count": null,
   "metadata": {},
   "outputs": [],
   "source": []
  }
 ],
 "metadata": {
  "colab": {
   "include_colab_link": true,
   "name": "JaneSt-Feb18.ipynb",
   "provenance": []
  },
  "kernelspec": {
   "display_name": "Python 3",
   "language": "python",
   "name": "python3"
  },
  "language_info": {
   "codemirror_mode": {
    "name": "ipython",
    "version": 3
   },
   "file_extension": ".py",
   "mimetype": "text/x-python",
   "name": "python",
   "nbconvert_exporter": "python",
   "pygments_lexer": "ipython3",
   "version": "3.7.7"
  }
 },
 "nbformat": 4,
 "nbformat_minor": 4
}
