{
 "cells": [
  {
   "cell_type": "code",
   "execution_count": 370,
   "metadata": {
    "id": "Oq1xibzMT1Wl"
   },
   "outputs": [],
   "source": [
    "import numpy as np\n",
    "import pandas as pd\n",
    "import time\n",
    "import seaborn as sns\n",
    "import matplotlib.pyplot as plt\n",
    "import requests\n",
    "from bs4 import BeautifulSoup\n",
    "import itertools\n",
    "from copy import deepcopy as dcopy,copy\n",
    "from collections import defaultdict\n",
    "from shapely import speedups\n",
    "from shapely.geometry import Polygon,Point,mapping\n",
    "from shapely.affinity import translate\n",
    "\n",
    "\n",
    "speedups.enable()"
   ]
  },
  {
   "cell_type": "code",
   "execution_count": 371,
   "metadata": {
    "id": "ICTfvjZUT1Wr"
   },
   "outputs": [
    {
     "name": "stdout",
     "output_type": "stream",
     "text": [
      "Place an integer between 1 and 17 into some of the empty cells in the grid. When completed, the grid should have one 1, two 2’s, etc., up to seventeen 17’s. Furthermore, for all N larger than 1, the squares marked N must form a connected N -omino whose shape “contains” the ( N −1)-omino determined by the ( N −1)’s. (Reflections and rotations are allowed.) Some of the cells have already been labeled. The answer to this puzzle is the product of the areas of the empty regions in the completed grid.\n"
     ]
    }
   ],
   "source": [
    "# Another good one. I went for shapely to handle the triangles but \n",
    "# the gain I get from optimised code is offset by that code being designed for\n",
    "# the general case. I wrote my own area function to speed up the triangle finding.\n",
    "# Copying and pasting stackexchange code for the polygon intersections will\n",
    "# probably speed up the execution.\n",
    "\n",
    "url='https://www.janestreet.com/puzzles/subtiles//'\n",
    "res = requests.get(url)\n",
    "soup = BeautifulSoup(res.content, 'html.parser')\n",
    "x =[text for text in soup.body.stripped_strings]\n",
    "\n",
    "print(\" \".join(x[7:19]))"
   ]
  },
  {
   "cell_type": "markdown",
   "metadata": {
    "id": "U9Yh1D3HT1Ws"
   },
   "source": [
    "### Puzzle details\n",
    "<img src=\"https://www.janestreet.com/puzzles/wp-content/uploads/2018/10/20181001_subtiles.png\" width=\"350\" >"
   ]
  },
  {
   "cell_type": "code",
   "execution_count": 283,
   "metadata": {
    "id": "0VI0NM6ET1Wt"
   },
   "outputs": [
    {
     "data": {
      "image/png": "[encoded data removed]",
      "text/plain": [
       "<Figure size 360x360 with 1 Axes>"
      ]
     },
     "metadata": {
      "needs_background": "light"
     },
     "output_type": "display_data"
    }
   ],
   "source": [
    "# set up the groups\n",
    "grid = np.array([[ 0,  0,  0,  0,  0,  0,  0, 17,  0,  0,  0,  0, 14],\n",
    "                 [ 0,  0,  0, 13, 13, 13,  0,  0,  0,  0,  0, 12,  0],\n",
    "                 [ 0,  0,  0,  0,  0,  0,  0, 17,  3, 17,  0,  0,  0],\n",
    "                 [ 0,  0,  0,  0,  0,  0, 16,  0,  0,  0,  0, 14,  0],\n",
    "                 [ 6,  6, 17,  0,  0, 16,  0,  0,  0,  0, 12,  0,  0],\n",
    "                 [ 0,  0,  0,  5, 16,  0,  0,  0,  0,  0,  0,  0,  0],\n",
    "                 [ 0,  0,  0,  0,  0,  0,  0,  0,  0,  0,  0,  0,  0],\n",
    "                 [ 0,  0,  0,  0,  0,  0,  0,  0, 10, 14,  0,  0,  0],\n",
    "                 [ 0,  0,  9,  0,  0,  0,  0,  2,  0,  0, 11, 11,  8],\n",
    "                 [ 0, 15,  0,  0,  0,  0, 10,  0,  0,  0,  0,  0,  0],\n",
    "                 [ 0,  0,  0, 16, 16, 10,  0,  0,  0,  0,  0,  0,  0],\n",
    "                 [ 0, 15,  0,  0,  0,  0,  0, 11, 15,  1,  0,  0,  0],\n",
    "                 [ 9,  0,  0,  0,  0, 15,  0,  0,  0,  0,  0,  0,  0]],dtype=int)\n",
    "\n",
    "def grid_print(grid):\n",
    "    fig,ax = plt.subplots(1,1,figsize=(5,5))\n",
    "    x = np.array((grid).astype('int').astype('str'))\n",
    "    x[x==\"0\"] =\"-\"\n",
    "    ax = sns.heatmap(grid,annot=x,cbar=False,cmap=\"tab20_r\",fmt=\"\",linewidths=1,ax=ax,annot_kws={\"size\":14})\n",
    "\n",
    "   \n",
    "    plt.tight_layout()   \n",
    "    \n",
    "grid_print(grid)"
   ]
  },
  {
   "cell_type": "code",
   "execution_count": 382,
   "metadata": {
    "colab": {
     "base_uri": "https://localhost:8080/",
     "height": 374
    },
    "id": "zexQ8t1kT1W3",
    "outputId": "7c2aec4e-d2fb-45d8-fc7e-679051faafed"
   },
   "outputs": [],
   "source": [
    "class Matrix():\n",
    "    def __init__(self,grid):\n",
    "        self.grid = grid\n",
    "        #set up each grid cell as a polygon for the checking\n",
    "        self.grid_cells = [[Polygon([[i,j],[i+1,j],[i+1,j+1],[i,j+1]]) for i in range(13)] for j in range(13)]\n",
    "        self.poss_polys=[ [Polygon([[11,9],[12,9],[12,10],[11,10]]),grid,2] ]\n",
    "        self.area = Polygon([[0,0],[0,13],[13,13],[13,0]]).buffer(1e-14)\n",
    "        self.solved = []\n",
    "\n",
    "    \n",
    "    # find cells fully in each polyomino.\n",
    "    def cells_in_area(self,poly):\n",
    "        (row_min,col_min,row_max,col_max) = poly.bounds\n",
    "        cells = np.zeros((13,13),dtype=int)\n",
    "        for i in range(int(row_min),int(row_max)):\n",
    "            for j in range(int(col_min),int(col_max)):\n",
    "                cells[i,j] = self.grid_cells[i][j].within(poly.buffer(1e-14))\n",
    "        return cells\n",
    "    \n",
    "    #add blocks to the outside of the polygon\n",
    "    def poss_new_poly(self,poly):\n",
    "        left,top,right,bot =poly.bounds\n",
    "        new_polys =[]\n",
    "        for i in range(int(left-1),int(right+2)):\n",
    "            for j in range(int(top-1),int(bot+2)):\n",
    "                box = Polygon([[i,j],[i+1,j],[i+1,j+1],[i,j+1]])\n",
    "                if not box.within(poly):\n",
    "                    new_poly = box.union(poly)\n",
    "                    if new_poly.geom_type == 'Polygon':\n",
    "                        new_polys.append(new_poly.simplify(0.01))\n",
    "        return new_polys\n",
    "\n",
    "    \n",
    "    def get_possible_placements(self,poly,grid,next_num):\n",
    "        poss_polys =[]\n",
    "        for i,j in itertools.product(range(-13,14),range(-13,14)):            \n",
    "            poss_poly = translate(poly,xoff=i,yoff=j)\n",
    "            if not poss_poly.within(self.area):\n",
    "                continue\n",
    "            cells_inside = self.cells_in_area(poss_poly)\n",
    "            inside = self.grid[cells_inside==1]\n",
    "            if  > 0:\n",
    "                continue\n",
    "            if next_num in self.grid[cells_inside==0]:\n",
    "                continue\n",
    "            poss_polys.append(poss_poly)\n",
    "        return poss_polys\n",
    "            \n",
    "    # main loop to pull it all together\n",
    "    # find the possible triangles and then send to solve\n",
    "    # to place\n",
    "    def solve(self):\n",
    "        start = time.perf_counter()\n",
    "        #while len(self.poss_polys) >0:\n",
    "        [poly,grid,next_num] = self.poss_polys.pop()\n",
    "        \n",
    "        new_polys = self.poss_new_poly(poly)\n",
    "        \n",
    "        grid_print(grid)\n",
    "        for i in new_polys:\n",
    "            print(i)\n",
    "            plt.plot(*i.exterior.xy[::-1])\n",
    "        \n",
    "        valid_polys =[]\n",
    "        for p in new_polys:\n",
    "            print(self.get_possible_placements(p,grid,next_num))\n",
    "\n",
    "        \n",
    "        end =  time.perf_counter()        \n",
    "        print(\"Solution took {:0.6f} seconds\".format(end-start))\n",
    "        \n",
    "#############################    \n",
    "# print out the result nicely    \n"
   ]
  },
  {
   "cell_type": "code",
   "execution_count": 383,
   "metadata": {
    "colab": {
     "base_uri": "https://localhost:8080/",
     "height": 374
    },
    "id": "zexQ8t1kT1W3",
    "outputId": "7c2aec4e-d2fb-45d8-fc7e-679051faafed"
   },
   "outputs": [
    {
     "name": "stdout",
     "output_type": "stream",
     "text": [
      "POLYGON ((11 9, 10 9, 10 10, 12 10, 12 9, 11 9))\n",
      "POLYGON ((12 9, 12 8, 11 8, 11 10, 12 10, 12 9))\n",
      "POLYGON ((11 10, 11 11, 12 11, 12 9, 11 9, 11 10))\n",
      "POLYGON ((12 10, 13 10, 13 9, 11 9, 11 10, 12 10))\n",
      "[]\n",
      "[]\n",
      "[]\n",
      "[]\n",
      "Solution took 0.458933 seconds\n",
      "\n",
      "Solved Grid\n",
      "~~~~~~~~~~~\n"
     ]
    },
    {
     "data": {
      "image/png": "[encoded data removed]",
      "text/plain": [
       "<Figure size 360x360 with 1 Axes>"
      ]
     },
     "metadata": {
      "needs_background": "light"
     },
     "output_type": "display_data"
    }
   ],
   "source": [
    "test = Matrix(grid)\n",
    "test.solve()\n",
    "print('\\nSolved Grid')\n",
    "print('~~~~~~~~~~~')"
   ]
  },
  {
   "cell_type": "code",
   "execution_count": 114,
   "metadata": {
    "colab": {
     "base_uri": "https://localhost:8080/",
     "height": 374
    },
    "id": "zexQ8t1kT1W3",
    "outputId": "7c2aec4e-d2fb-45d8-fc7e-679051faafed"
   },
   "outputs": [
    {
     "name": "stdout",
     "output_type": "stream",
     "text": [
      "The unique configuration that satisfies the “sub-tiles” property is shown to the left, and the product of the areas of the empty regions is 256 . Congrats to this month’s solvers!\n"
     ]
    }
   ],
   "source": [
    "url='https://www.janestreet.com/puzzles/solutions/october-2018-solution/'\n",
    "res = requests.get(url)\n",
    "soup = BeautifulSoup(res.content, 'html.parser')\n",
    "x =[text for text in soup.body.stripped_strings]\n",
    "\n",
    "print(\" \".join(x[7:10]))"
   ]
  },
  {
   "cell_type": "markdown",
   "metadata": {
    "id": "ld_NFUIfT1W9"
   },
   "source": [
    "### Puzzle solution\n",
    "<img src=\"https://www.janestreet.com/puzzles/wp-content/uploads/2018/11/20181031_subtiles_ans.png\" width=\"350\" >"
   ]
  },
  {
   "cell_type": "code",
   "execution_count": 118,
   "metadata": {},
   "outputs": [
    {
     "name": "stdout",
     "output_type": "stream",
     "text": [
      "counts = [16  1  2  3  4  5  6  7  8  9 10 11 12 13 14 15 16 17]\n"
     ]
    },
    {
     "data": {
      "image/png": "[encoded data removed]",
      "text/plain": [
       "<Figure size 360x360 with 1 Axes>"
      ]
     },
     "metadata": {
      "needs_background": "light"
     },
     "output_type": "display_data"
    }
   ],
   "source": [
    "soln = np.array([[ 0,  0,  0,  0, 13, 13, 13, 17,  0,  0, 12, 12, 14],\n",
    "                 [13, 13, 13, 13, 13, 13, 17, 17, 17, 17, 12, 12, 14],\n",
    "                 [13, 13, 17, 17, 17, 17, 17, 17,  3, 17, 12, 14, 14],\n",
    "                 [13, 13, 17, 17, 16, 16, 16, 17,  3,  3, 12, 14, 14],\n",
    "                 [ 6,  6, 17, 17, 16, 16, 16,  4, 12, 12, 12, 14,  0],\n",
    "                 [ 6,  6,  6,  5, 16,  4,  4,  4, 12, 12, 12, 14,  0],\n",
    "                 [ 6,  5,  5,  5, 16,  7,  7,  7,  7, 14, 14, 14,  0],\n",
    "                 [ 9,  9,  5, 16, 16,  7,  7,  2, 10, 14, 14, 14,  0],\n",
    "                 [ 9,  9,  9, 16, 16, 16,  7,  2, 10, 10, 11, 11,  8],\n",
    "                 [ 9, 15, 15, 16, 10, 10, 10, 10, 10, 10, 11, 11,  8],\n",
    "                 [ 9, 15, 15, 16, 16, 10, 11, 11, 11, 11, 11, 11,  8],\n",
    "                 [ 9, 15, 15, 15, 15, 15, 15, 11, 15,  1,  8,  8,  8],\n",
    "                 [ 9,  0,  0,  0,  0, 15, 15, 15, 15,  0,  0,  8,  8]],dtype=int)\n",
    "\n",
    "grid_print(soln)\n",
    "print(\"counts =\",np.unique(soln,return_counts=True)[1])\n"
   ]
  },
  {
   "cell_type": "code",
   "execution_count": 199,
   "metadata": {},
   "outputs": [
    {
     "name": "stdout",
     "output_type": "stream",
     "text": [
      "(1.0, 1.0, 2.0, 2.0)\n",
      "4\n"
     ]
    },
    {
     "data": {
      "image/png": "[encoded data removed]",
      "text/plain": [
       "<Figure size 432x288 with 1 Axes>"
      ]
     },
     "metadata": {
      "needs_background": "light"
     },
     "output_type": "display_data"
    }
   ],
   "source": [
    "poly= Polygon([[1,1],[1,2],[2,2],[2,1]])\n",
    "print(poly.bounds)\n",
    "\n",
    "\n",
    "def poss_new_poly(poly):\n",
    "    left,top,right,bot =poly.bounds\n",
    "    new_polys =[]\n",
    "    for i in range(int(left-1),int(right+1)):\n",
    "        for j in range(int(top-1),int(bot+1)):\n",
    "            box = Polygon([[i,j],[i+1,j],[i+1,j+1],[i,j+1]])\n",
    "            if not box.within(poly):\n",
    "                new_poly = box.union(poly)\n",
    "                if new_poly.geom_type == 'Polygon':\n",
    "                    new_polys.append(new_poly.simplify(0.001))\n",
    "    return new_polys\n",
    "                        \n",
    "\n",
    "x = poss_new_poly(poly)\n",
    "print(len(x))\n",
    "sns.heatmap(np.zeros((3,3)),cbar=False)\n",
    "for i in x:\n",
    "\n",
    "    plt.plot(*i.exterior.xy)"
   ]
  },
  {
   "cell_type": "code",
   "execution_count": 185,
   "metadata": {},
   "outputs": [
    {
     "data": {
      "text/plain": [
       "'Polygon'"
      ]
     },
     "execution_count": 185,
     "metadata": {},
     "output_type": "execute_result"
    }
   ],
   "source": [
    "p1 = Polygon([(0,0),(1,0),(1,1),(0,1)])\n",
    "p2 = Polygon([(1,0),(1,1),(2,1),(2,0)])\n",
    "newp = p1.union(p2)\n",
    "newp.geom_type\n",
    "newp.geom_type"
   ]
  },
  {
   "cell_type": "code",
   "execution_count": 270,
   "metadata": {},
   "outputs": [
    {
     "data": {
      "text/plain": [
       "True"
      ]
     },
     "execution_count": 270,
     "metadata": {},
     "output_type": "execute_result"
    }
   ],
   "source": []
  },
  {
   "cell_type": "code",
   "execution_count": null,
   "metadata": {},
   "outputs": [],
   "source": []
  }
 ],
 "metadata": {
  "colab": {
   "include_colab_link": true,
   "name": "JaneSt-Feb18.ipynb",
   "provenance": []
  },
  "kernelspec": {
   "display_name": "Python 3",
   "language": "python",
   "name": "python3"
  },
  "language_info": {
   "codemirror_mode": {
    "name": "ipython",
    "version": 3
   },
   "file_extension": ".py",
   "mimetype": "text/x-python",
   "name": "python",
   "nbconvert_exporter": "python",
   "pygments_lexer": "ipython3",
   "version": "3.7.7"
  }
 },
 "nbformat": 4,
 "nbformat_minor": 4
}
