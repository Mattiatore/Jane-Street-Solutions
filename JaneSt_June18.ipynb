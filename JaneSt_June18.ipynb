{
 "cells": [
  {
   "cell_type": "code",
   "execution_count": 1,
   "metadata": {},
   "outputs": [],
   "source": [
    "import numpy as np\n",
    "import time"
   ]
  },
  {
   "cell_type": "code",
   "execution_count": 2,
   "metadata": {},
   "outputs": [],
   "source": [
    "#Forming the Puzzle Grid\n",
    "class Matrix():\n",
    "    def __init__(self,puzzle_string):\n",
    "        self.grid = puzzle_string\n",
    "        print('The problem - Start {}'.format(time.strftime('%X')))\n",
    "        self.printGrid()\n",
    "    \n",
    "#Function to print the grid\n",
    "    def printGrid(self):\n",
    "        print(self.grid)\n",
    "        \n",
    "#Function to check if a digit can be placed in the given block\n",
    "    def possible(self,row,col,digit):\n",
    "\n",
    "        # Check row and columns count\n",
    "        if digit ==0:\n",
    "            if np.sum(grid[:,col]==0) > 2:\n",
    "                return False\n",
    "            if np.sum(grid[row,:]==0) > 2:\n",
    "                return False\n",
    "        \n",
    "        # Check row and columns sum\n",
    "        if np.sum(grid[:,col])+digit+np.sum(grid[:,col]==-1) > 20:\n",
    "            return False\n",
    "        \n",
    "        if np.sum(grid[row,:])+digit+np.sum(grid[row,:]==-1)  > 20:\n",
    "            return False\n",
    "        \n",
    "        #check 2x2\n",
    "        if digit !=0:\n",
    "            if self.twobytwo(row,col):\n",
    "                return False\n",
    "        \n",
    "        # All tests pass return True\n",
    "        return True\n",
    "    \n",
    "    def twobytwo(self,i,j):\n",
    "        if (i > 0 and j > 0 and \n",
    "        grid[i-1,j-1] > 0 and \n",
    "        grid[i-1,j] > 0 and \n",
    "        grid[i,j-1] > 0):\n",
    "            return True\n",
    "    \n",
    "        if (i > 0 and j < 6 and\n",
    "        grid[i-1,j+1] > 0 and \n",
    "        grid[i-1,j] > 0 and \n",
    "        grid[i,j+1] > 0):\n",
    "            return True\n",
    "    \n",
    "        if (i < 6 and j > 0 and\n",
    "        grid[i+1,j-1] > 0 and \n",
    "        grid[i+1,j] > 0 and \n",
    "        grid[i,j-1] > 0):\n",
    "            return True\n",
    "\n",
    "    \n",
    "        if (i < 6 and j < 6 and\n",
    "        grid[i+1,j+1] > 0 and \n",
    "        grid[i+1,j] > 0 and \n",
    "        grid[i,j+1] > 0):\n",
    "            return True\n",
    "    \n",
    "        return False\n",
    "        \n",
    "    \n",
    "    def solve(self):\n",
    "        counts = {i:i-np.sum(grid==i) for i in range(8)}\n",
    "        for row in range(7):\n",
    "            for col in range(7):\n",
    "                if self.grid[row][col] == -1:\n",
    "                    for digit in range(0,8):\n",
    "                        if (digit ==0 or counts[digit]>0):\n",
    "                            if self.possible(row,col,digit):\n",
    "                                self.grid[row,col] = digit\n",
    "                                counts[digit] -= 1\n",
    "                                if self.solve():\n",
    "                                    return True\n",
    "                                self.grid[row,col] = -1  #Backtrack step\n",
    "                                counts[digit] += 1\n",
    "                    return False\n",
    "        \n",
    "        print('\\nThe solution - End {}'.format(time.strftime('%X')))\n",
    "        self.printGrid()\n",
    "\n"
   ]
  },
  {
   "cell_type": "code",
   "execution_count": 3,
   "metadata": {},
   "outputs": [],
   "source": [
    "grid =np.array([[0,4,0,0,0,0,0],\n",
    "                [0,0,6,3,0,0,6],\n",
    "                [0,0,0,0,0,5,5],\n",
    "                [0,0,0,4,0,0,0],\n",
    "                [4,7,0,0,0,0,0],\n",
    "                [2,0,0,7,4,0,0],\n",
    "                [0,0,0,0,0,1,0]])\n",
    "\n",
    "\n",
    "grid[grid==0]=-1"
   ]
  },
  {
   "cell_type": "code",
   "execution_count": null,
   "metadata": {},
   "outputs": [
    {
     "name": "stdout",
     "output_type": "stream",
     "text": [
      "The problem - Start 21:31:32\n",
      "[[-1  4 -1 -1 -1 -1 -1]\n",
      " [-1 -1  6  3 -1 -1  6]\n",
      " [-1 -1 -1 -1 -1  5  5]\n",
      " [-1 -1 -1  4 -1 -1 -1]\n",
      " [ 4  7 -1 -1 -1 -1 -1]\n",
      " [ 2 -1 -1  7  4 -1 -1]\n",
      " [-1 -1 -1 -1 -1  1 -1]]\n"
     ]
    }
   ],
   "source": [
    "x = Matrix(grid)\n",
    "x.solve()\n"
   ]
  },
  {
   "cell_type": "code",
   "execution_count": null,
   "metadata": {},
   "outputs": [],
   "source": []
  }
 ],
 "metadata": {
  "kernelspec": {
   "display_name": "Python 3",
   "language": "python",
   "name": "python3"
  },
  "language_info": {
   "codemirror_mode": {
    "name": "ipython",
    "version": 3
   },
   "file_extension": ".py",
   "mimetype": "text/x-python",
   "name": "python",
   "nbconvert_exporter": "python",
   "pygments_lexer": "ipython3",
   "version": "3.7.6"
  }
 },
 "nbformat": 4,
 "nbformat_minor": 4
}
