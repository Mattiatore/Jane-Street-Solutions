{
 "cells": [
  {
   "cell_type": "code",
   "execution_count": 2,
   "metadata": {
    "id": "Oq1xibzMT1Wl"
   },
   "outputs": [],
   "source": [
    "import numpy as np\n",
    "import pandas as pd\n",
    "import time\n",
    "import seaborn as sns\n",
    "import matplotlib.pyplot as plt\n",
    "import requests\n",
    "from bs4 import BeautifulSoup\n",
    "import itertools\n",
    "from copy import deepcopy as dcopy,copy\n",
    "from skimage.morphology import label\n",
    "from scipy.ndimage import measurements\n",
    "import sys\n",
    "import numba as nb"
   ]
  },
  {
   "cell_type": "code",
   "execution_count": 6,
   "metadata": {
    "id": "ICTfvjZUT1Wr"
   },
   "outputs": [
    {
     "name": "stdout",
     "output_type": "stream",
     "text": [
      "Shade some cells in the grid below such that the set of shaded cells is connected, has 90-degree rotational symmetry about its center, and contains the same number of shaded cells in each outlined region. The answer to this puzzle is the smallest possible product of the areas of the connected groups of empty squares in the completed grid. — (Note: This post has been edited 2018-09-04 to change the answer to the smallest possible product of areas of connected groups of empty squares.)\n"
     ]
    }
   ],
   "source": [
    "#\n",
    "\n",
    "url='https://www.janestreet.com/puzzles/spiral-region/'\n",
    "res = requests.get(url)\n",
    "soup = BeautifulSoup(res.content, 'html.parser')\n",
    "x =[text for text in soup.body.stripped_strings]\n",
    "\n",
    "print(\" \".join(x[7:15]))"
   ]
  },
  {
   "cell_type": "markdown",
   "metadata": {
    "id": "U9Yh1D3HT1Ws"
   },
   "source": [
    "### Puzzle details\n",
    "<img src=\"https://www.janestreet.com/puzzles/wp-content/uploads/2018/09/20180904_spiral_region.png\" width=\"250\" >"
   ]
  },
  {
   "cell_type": "code",
   "execution_count": 51,
   "metadata": {
    "id": "0VI0NM6ET1Wt"
   },
   "outputs": [
    {
     "data": {
      "image/png": "[encoded data removed]",
      "text/plain": [
       "<Figure size 576x288 with 2 Axes>"
      ]
     },
     "metadata": {
      "needs_background": "light"
     },
     "output_type": "display_data"
    }
   ],
   "source": [
    "# Setup the constraints\n",
    "# use 20 for the filled cells and treat as smaller \n",
    "# groups with a different total\n",
    "# then print the grid\n",
    "\n",
    "groups = np.array([[ 0,  0,  0,  1,  1,  2,  2,  3,  3,  3,  4,  4,  4,  4],\n",
    "       [ 0,  0,  5,  1,  1,  1,  2,  2,  3,  3,  3,  3,  4,  4],\n",
    "       [ 0,  5,  5,  1,  6,  6,  6,  2,  2,  7,  7,  3,  3,  4],\n",
    "       [ 5,  5,  5,  9,  6, 10,  6,  6,  2,  7,  8,  8,  4,  4],\n",
    "       [ 9,  5,  9,  9, 10, 10, 10, 11,  2,  7,  8,  8,  8,  2],\n",
    "       [ 9,  5,  9, 10, 10, 12, 10, 11,  2,  7,  7,  7,  8,  2],\n",
    "       [ 9,  9,  9,  9, 12, 12, 11, 11,  2, 13,  8,  8,  8,  2],\n",
    "       [14,  9,  9, 12, 12, 11, 11,  2,  2, 13,  2,  2,  2,  2],\n",
    "       [14, 14, 12, 12,  2,  2,  2,  2, 13, 13, 13, 15, 15,  2],\n",
    "       [14, 16, 16, 17,  2, 18, 18, 18, 18, 13, 13, 13, 15,  2],\n",
    "       [14, 14, 16, 17,  2,  2, 18, 19, 18, 20, 20, 15, 15,  2],\n",
    "       [16, 16, 16, 17, 17,  2,  2, 19, 19, 19, 20, 20, 15,  2],\n",
    "       [16, 17, 16, 17, 17, 17,  2,  2, 19, 19, 20, 20, 15,  2],\n",
    "       [16, 17, 17, 17, 17, 17, 17,  2,  2,  2,  2,  2,  2,  2]]\n",
    "                  ,dtype=int)\n",
    "\n",
    "fixed = np.zeros(groups.shape)\n",
    "\n",
    "def grid_print(groups,numbers):\n",
    "    fig,ax = plt.subplots(1,2,figsize=(8,4))\n",
    "    x = np.array((numbers).astype('int').astype('str'))\n",
    "    x[x==\"0\"] =\"\"\n",
    "    x[x==\"1\"] =\"X\"\n",
    "    ax1 = sns.heatmap(groups,annot=x,cbar=False,cmap=\"tab20\",fmt=\"\",linewidths=1,ax=ax[0])\n",
    "    ax1.axis(\"off\")\n",
    "    ax2 = sns.heatmap(numbers,cbar=False,cmap=\"Greys\",center=2,fmt=\"\",linewidths=1,ax=ax[1],linecolor=\"grey\")\n",
    "    ax2.axis(\"off\")\n",
    "    plt.tight_layout()\n",
    "    \n",
    "grid_print(groups,solution)\n",
    "\n",
    "# use -1 to denote unfilled"
   ]
  },
  {
   "cell_type": "code",
   "execution_count": 52,
   "metadata": {
    "id": "0VI0NM6ET1Wt"
   },
   "outputs": [
    {
     "name": "stdout",
     "output_type": "stream",
     "text": [
      "0 6\n",
      "1 6\n",
      "2 42\n",
      "3 9\n",
      "4 9\n",
      "5 8\n",
      "6 6\n",
      "7 7\n",
      "8 9\n",
      "9 12\n",
      "10 7\n",
      "11 6\n",
      "12 7\n",
      "13 8\n",
      "14 6\n",
      "15 7\n",
      "16 9\n",
      "17 14\n",
      "18 6\n",
      "19 6\n",
      "20 6\n"
     ]
    }
   ],
   "source": [
    "for i in range(21):\n",
    "    print(i, np.sum(groups==i))\n"
   ]
  },
  {
   "cell_type": "code",
   "execution_count": 28,
   "metadata": {
    "colab": {
     "base_uri": "https://localhost:8080/",
     "height": 374
    },
    "id": "zexQ8t1kT1W3",
    "outputId": "7c2aec4e-d2fb-45d8-fc7e-679051faafed"
   },
   "outputs": [],
   "source": [
    "class Matrix():\n",
    "    def __init__(self,groups):\n",
    "        self.groups = groups\n",
    "        self.potential_grids = [[-9,np.ones((9,9),dtype=int)*-1,[0,0,9,9]]] # list of all grids not yet ruled out.[Level,grid,coordinates of the grid yet to be filled]\n",
    "        self.solution = []\n",
    "        self.totals =np.array([11,15,15,15,15,15,15,15,15,15,15,15,15,15,15,10,15,15,15],dtype=int)\n",
    "        self.splits ={}\n",
    "        self.end_flag = 0\n",
    "        # work out the possible permutations for each group\n",
    "        for i in range(19):\n",
    "            length = np.sum(groups==i)\n",
    "            self.splits[i] =  np.array([list(i) for i in itertools.product([0, 1], repeat=length)],dtype=int)\n",
    "     \n",
    "    #########################################################\n",
    "    # Code to get the initial valid grids \n",
    "    # add layer by layer until it is not possible to create the sum \n",
    "    # for every filled group\n",
    "    def add_layer(self,grid,coords,lvl,alignment):\n",
    "        row_start,col_start,row_end, col_end = coords\n",
    "    \n",
    "        if alignment == 0:\n",
    "            grid[row_start:row_end,col_start] =lvl\n",
    "            grid[row_start,col_start:col_end] =lvl\n",
    "            row_start +=1\n",
    "            col_start +=1\n",
    "    \n",
    "        if alignment == 1:\n",
    "            grid[row_start:row_end,col_start] =lvl\n",
    "            grid[row_end-1,col_start:col_end] =lvl\n",
    "            row_end -=1\n",
    "            col_start +=1 \n",
    "\n",
    "        if alignment == 2:\n",
    "            grid[row_start:row_end,col_end-1] =lvl\n",
    "            grid[row_start,col_start:col_end] =lvl\n",
    "            row_start +=1\n",
    "            col_end -=1\n",
    "        \n",
    "        if alignment == 3:\n",
    "            grid[row_start:row_end,col_end-1] =lvl\n",
    "            grid[row_end-1,col_start:col_end] =lvl\n",
    "            row_end -=1\n",
    "            col_end -=1 \n",
    "    \n",
    "        coords = [row_start,col_start,row_end, col_end]\n",
    "        \n",
    "        return grid,coords\n",
    "    \n",
    "    def check_grid(self,grid):\n",
    "        # check the 2 fixed numbers\n",
    "        if (grid[2,4] !=-1) & (grid[2,4] !=4):\n",
    "            return False\n",
    "        if (grid[6,4] != -1) &(grid[6,4] != 5):\n",
    "            return False\n",
    "        \n",
    "        for i in range(19):\n",
    "            group = grid[groups==i]\n",
    "            if -1 not in group:\n",
    "                if not self.check_group(group,self.totals[i],self.splits[i]):\n",
    "                    return False\n",
    "\n",
    "        return True\n",
    "    \n",
    "    @staticmethod\n",
    "    @nb.njit(fastmath=True)\n",
    "    def check_group(group,param,splits):\n",
    "        for split in splits:\n",
    "            test = group * split\n",
    "            if np.sum(test) == param:\n",
    "                return True\n",
    "        return False\n",
    "    \n",
    "    @staticmethod\n",
    "    @nb.njit(fastmath=True)\n",
    "    def valid_group(pos,param):\n",
    "        if np.sum(pos) !=param:\n",
    "                return False\n",
    "        return True\n",
    "    \n",
    "    #########################################################\n",
    "    # Code to get the cells forced by the group params\n",
    "    # loop through all the splits for each group saving the valid ones\n",
    "    # for the digits common to all the valid plits set as forced\n",
    "    # done the 2 fixed cells manually\n",
    "    def forced_cells(self,hook):\n",
    "        forced = np.ones((9,9),dtype=int)*-1\n",
    "        forced[2,4] == 1\n",
    "        forced[6,4] == 1        \n",
    "        # loop through the params to determine forced cells\n",
    "        for i in range(19):\n",
    "            forced[self.groups==i] = self.forced_group(hook[self.groups==i],self.totals[i],self.splits[i])\n",
    "               \n",
    "        # Set the cell with 1 in as 1. Then loop through and fill in cells neeeded to ensure connectivity \n",
    "        forced[hook==1] =1\n",
    "        changes =1\n",
    "        while changes >0:\n",
    "\n",
    "            changes = 0\n",
    "            for i,j in itertools.product(range(9),range(9)):\n",
    "                if forced[i,j] == -1:\n",
    "                    test =forced*hook\n",
    "                    test[i,j] = 0\n",
    "                    if np.max(label(test!=0,connectivity=1)) > 1:\n",
    "                    #if placing zero would break connectivity set 1\n",
    "                        forced[i,j]=1\n",
    "                        changes =1\n",
    "        \n",
    "        test =forced*hook\n",
    "        # check that the forced cells do not violate the count\n",
    "        for i in range(1,10):\n",
    "            if np.sum(test==i) > i:\n",
    "                return 0,forced\n",
    "            \n",
    "        # check that the forced cells do not violate 2x2\n",
    "        if self.twobytwo(test):\n",
    "            return 0,forced\n",
    "        \n",
    "        # check that the forced cells do not violate connectivity\n",
    "        if np.max(label(forced!=0,connectivity=1)) > 1:\n",
    "            return 0,forced\n",
    "    \n",
    "        return  1,forced\n",
    "    \n",
    "    def forced_group(self,group,param,splits):\n",
    "        # loop through every split.Save the valid ones an then determine \n",
    "        # if any entries are common to all valid splits\n",
    "        poss_group =[]\n",
    "        length = len(splits[0])\n",
    "        for split in splits:\n",
    "            test = group * split\n",
    "            if self.valid_group(test,param):\n",
    "                    poss_group.append(split)\n",
    "        poss_array = np.array(poss_group)\n",
    "        forced = np.ones(length,dtype=int)*-1\n",
    "        for i in range(length):\n",
    "            if np.all(poss_array[:,i]==1):\n",
    "                forced[i] =1\n",
    "            elif np.all(poss_array[:,i]==0):\n",
    "                forced[i] =0\n",
    "        return forced\n",
    "    \n",
    "    @staticmethod\n",
    "    @nb.njit(fastmath=True)\n",
    "    def twobytwo(grid):\n",
    "        #check the 2x2 condition\n",
    "        for i in range(9):\n",
    "            for j in range(9):\n",
    "                if (i > 0 and j > 0 and \n",
    "                    grid[i,j] > 0 and\n",
    "                    grid[i-1,j-1] > 0 and \n",
    "                    grid[i-1,j] > 0 and \n",
    "                    grid[i,j-1] > 0):\n",
    "                        return True\n",
    "    \n",
    "                if (i > 0 and j < 6 and\n",
    "                    grid[i,j] > 0 and\n",
    "                    grid[i-1,j+1] > 0 and \n",
    "                    grid[i-1,j] > 0 and \n",
    "                    grid[i,j+1] > 0):\n",
    "                        return True\n",
    "    \n",
    "                if (i < 6 and j > 0 and\n",
    "                    grid[i,j] > 0 and\n",
    "                    grid[i+1,j-1] > 0 and \n",
    "                    grid[i+1,j] > 0 and \n",
    "                    grid[i,j-1] > 0):\n",
    "                        return True\n",
    "\n",
    "    \n",
    "                if (i < 6 and j < 6 and\n",
    "                    grid[i,j] > 0 and\n",
    "                    grid[i+1,j+1] > 0 and \n",
    "                    grid[i+1,j] > 0 and \n",
    "                    grid[i,j+1] > 0):\n",
    "                        return True\n",
    "    \n",
    "        return False\n",
    "    \n",
    "    ########################################################\n",
    "    # Fill the final cells by backtracking\n",
    "    def fill_rest(self,grid,hooks):\n",
    "        for col,row in itertools.product(range(8,-1,-1),range(9)):\n",
    "            if grid[row,col]==-1:\n",
    "                for digit in range(2):\n",
    "                    if self.possible(digit,row,col,grid,hooks):\n",
    "                        grid[row,col] = digit\n",
    "                        self.fill_rest(grid,hooks)\n",
    "                        grid[row,col] = -1\n",
    "                return\n",
    "        sol_print(grid,hooks,self.groups)\n",
    "        print(\"The product of the areas is : {:,.0f}\".format(self.areas(grid)))\n",
    "        self.end_flag = 1\n",
    "             \n",
    "    def possible(self,digit,row,col,grid,hooks):\n",
    "        test = grid*hooks\n",
    "        test[row,col] = hooks[row,col]*digit\n",
    "    \n",
    "    #check the placement doesn't break connectivity\n",
    "        if np.max(label(test!=0,connectivity=1)) > 1:\n",
    "            return False\n",
    "        \n",
    "    #check the placement doesn't break 2 by 2\n",
    "        if self.twobytwo(test):\n",
    "            return False\n",
    "    \n",
    "     #check the placement doesn't exceed the permitted count of that number\n",
    "        if not self.count(test):\n",
    "            return False\n",
    "                \n",
    "    #check groups\n",
    "        if not self.group_count(test,self.totals,self.groups):\n",
    "            return False\n",
    "        return True\n",
    "    \n",
    "    @staticmethod\n",
    "    @nb.njit(fastmath=True)\n",
    "    def count(grid):\n",
    "        for num in range(2,10):\n",
    "            if np.sum(grid == num) > num:\n",
    "                   return False\n",
    "        return True\n",
    "    \n",
    "    @staticmethod\n",
    "    @nb.njit(fastmath=True)\n",
    "    def group_count(grid,totals,groups):\n",
    "        for i in range(19):\n",
    "            group = np.ravel(grid)[np.ravel(groups)==i]\n",
    "            if np.all(group > -1):\n",
    "                if np.sum(group) != totals[i]:\n",
    "                    return False\n",
    "        return True\n",
    "            \n",
    "    ##############################################\n",
    "    # Get the products of the areas of the connected cells\n",
    "    def areas(self,grid):\n",
    "        labels, num = measurements.label(np.logical_not(grid!=0))\n",
    "        areas = measurements.sum(np.logical_not(grid!=0), labels, index=range(1, num+1))\n",
    "        return np.prod(areas)\n",
    "\n",
    "    ###############################################\n",
    "    # Main solver.    \n",
    "    def solve(self):  \n",
    "        while len(self.potential_grids) > 0:\n",
    "            temp_grid = self.potential_grids.pop(0)\n",
    "            #create the potential rotations at the given level\n",
    "            rotations = []\n",
    "        \n",
    "            for alignment in range(3,-1,-1):\n",
    "                lvl,grid,coords = dcopy(temp_grid)\n",
    "                grid,coords = self.add_layer(grid,coords,-lvl,alignment)\n",
    "                if lvl != -1 :\n",
    "                    rotations.append([lvl+1,grid,coords])\n",
    "                else:\n",
    "                     rotations = [[lvl+1,grid,coords]]\n",
    "    \n",
    "            #check valid grids (where the sum can be made from available digits) and save the ones that work\n",
    "            for i in range(len(rotations)):\n",
    "                lvl,g,coords = rotations[i]\n",
    "                if self.check_grid(g):\n",
    "                    if lvl !=0:    \n",
    "                        self.potential_grids.append([lvl,g,coords])\n",
    "                    else:\n",
    "                        self.solution.append(g)                     \n",
    "                    \n",
    "        print(\"There are {} valid hook placements\\n\".format(len(self.solution)))\n",
    "\n",
    "        #solve each grid in the cut down list\n",
    "        forced_grids = []\n",
    "        for i in range(len(self.solution)):\n",
    "            #print(\"Checking: \",i+1)\n",
    "            hooks = self.solution[i]\n",
    "            if self.end_flag == 0:\n",
    "                flag,forced_grid = self.forced_cells(hooks)\n",
    "                if flag:\n",
    "                    #print(\"Checking: \",i+1)\n",
    "                #for valid forced grids solve the final matrix\n",
    "                    #sol_print(forced_grid,hooks,self.groups)\n",
    "                    #print(\"still to solve\",np.sum(forced_grid==-1))\n",
    "                    self.fill_rest(forced_grid,hooks)\n",
    "            else:\n",
    "                break\n",
    "            #else:\n",
    "                #print(\"***INCONSISTENT***\")\n",
    "\n",
    "                \n",
    "#########################\n",
    "# Code to print in a \"nice\" format\n",
    "                            \n",
    "def sol_print(solved,matrix,groups):\n",
    "    fig,ax = plt.subplots(1,2,figsize=(6,3))\n",
    "    x = np.array((solved*matrix).astype('int').astype('str'))\n",
    "    x[x==\"0\"] =\"-\"\n",
    "    groups_fixed = dcopy(groups)\n",
    "    groups_fixed[2,4] = 0\n",
    "    groups_fixed[6,4] = 15\n",
    "    ax1 =sns.heatmap(matrix,annot=x,cbar=False,cmap=\"Pastel1_r\",fmt=\"\",linewidths=1,ax=ax[0])\n",
    "    ax2 =sns.heatmap(groups_fixed,annot=x,cbar=False,cmap=\"tab20\",fmt=\"\",linewidths=1,ax=ax[1])\n",
    "    ax1.axis(\"off\")\n",
    "    ax2.axis(\"off\")\n",
    "    plt.tight_layout()"
   ]
  },
  {
   "cell_type": "code",
   "execution_count": 30,
   "metadata": {
    "colab": {
     "base_uri": "https://localhost:8080/",
     "height": 374
    },
    "id": "zexQ8t1kT1W3",
    "outputId": "7c2aec4e-d2fb-45d8-fc7e-679051faafed"
   },
   "outputs": [
    {
     "name": "stdout",
     "output_type": "stream",
     "text": [
      "There are 172 valid hook placements\n",
      "\n",
      "The product of the areas is : 2,200\n",
      "Solution took 5.3137 seconds\n"
     ]
    },
    {
     "data": {
      "image/png": "[encoded data removed]",
      "text/plain": [
       "<Figure size 432x216 with 2 Axes>"
      ]
     },
     "metadata": {
      "needs_background": "light"
     },
     "output_type": "display_data"
    }
   ],
   "source": [
    "start = time.perf_counter()\n",
    "test = Matrix(groups)\n",
    "test.solve()\n",
    "stop =  time.perf_counter()\n",
    "print('Solution took {:0.4f} seconds'.format((stop-start)))"
   ]
  },
  {
   "cell_type": "code",
   "execution_count": 31,
   "metadata": {
    "colab": {
     "base_uri": "https://localhost:8080/",
     "height": 374
    },
    "id": "zexQ8t1kT1W3",
    "outputId": "7c2aec4e-d2fb-45d8-fc7e-679051faafed"
   },
   "outputs": [
    {
     "name": "stdout",
     "output_type": "stream",
     "text": [
      "\n"
     ]
    }
   ],
   "source": [
    "url='https://www.janestreet.com/puzzles/solutions/february-2021-solution/'\n",
    "res = requests.get(url)\n",
    "soup = BeautifulSoup(res.content, 'html.parser')\n",
    "x =[text for text in soup.body.stripped_strings]\n",
    "\n",
    "print(\" \".join(x[7:9]))"
   ]
  },
  {
   "cell_type": "markdown",
   "metadata": {
    "id": "ld_NFUIfT1W9"
   },
   "source": [
    "### Puzzle solution\n",
    "<img src=\"\" width=\"3\" height=\"4\">"
   ]
  },
  {
   "cell_type": "code",
   "execution_count": 29,
   "metadata": {},
   "outputs": [],
   "source": [
    "solution= np.array([[1, 1, 1, 1, 1, 0, 0, 0, 0, 1, 1, 1, 1, 0],\n",
    " [1, 0, 1, 0, 1, 1, 0, 0, 1, 1, 0, 0, 1, 0],\n",
    " [1, 0, 1, 1, 1, 1, 1, 0, 0, 0, 1, 1, 1, 0],\n",
    " [1, 1, 0, 1, 0, 1, 1, 1, 0, 1, 1, 0, 1, 0],\n",
    " [0, 1, 0, 0, 1, 1, 0, 0, 1, 0, 1, 1, 1, 0],\n",
    " [0, 0, 0, 1, 0, 1, 1, 1, 1, 1, 1, 1, 0, 0],\n",
    " [0, 0, 1, 1, 0, 1, 1, 1, 0, 1, 1, 0, 0, 0],\n",
    " [0, 1, 1, 1, 1, 1, 1, 1, 0, 1, 0, 0, 0, 0],\n",
    " [1, 1, 1, 0, 1, 0, 0, 1, 1, 0, 0, 1, 0, 0],\n",
    " [1, 0, 1, 1, 0, 1, 1, 1, 0, 1, 0, 1, 1, 0],\n",
    " [1, 1, 1, 0, 0, 0, 1, 1, 1, 1, 1, 0, 1, 0],\n",
    " [1, 0, 0, 1, 1, 0, 0, 1, 1, 0, 1, 0, 1, 0],\n",
    " [1, 1, 1, 1, 0, 0, 0, 0, 1, 1, 1, 1, 1, 0],\n",
    " [0, 0, 0, 0, 0, 0, 0, 0, 0, 0, 0, 0, 0, 0]],dtype =int)"
   ]
  },
  {
   "cell_type": "code",
   "execution_count": null,
   "metadata": {},
   "outputs": [],
   "source": []
  }
 ],
 "metadata": {
  "colab": {
   "include_colab_link": true,
   "name": "JaneSt-Feb18.ipynb",
   "provenance": []
  },
  "kernelspec": {
   "display_name": "Python 3",
   "language": "python",
   "name": "python3"
  },
  "language_info": {
   "codemirror_mode": {
    "name": "ipython",
    "version": 3
   },
   "file_extension": ".py",
   "mimetype": "text/x-python",
   "name": "python",
   "nbconvert_exporter": "python",
   "pygments_lexer": "ipython3",
   "version": "3.7.7"
  }
 },
 "nbformat": 4,
 "nbformat_minor": 4
}
