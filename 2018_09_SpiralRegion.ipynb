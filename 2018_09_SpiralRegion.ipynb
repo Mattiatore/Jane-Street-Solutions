{
 "cells": [
  {
   "cell_type": "code",
   "execution_count": 1,
   "metadata": {
    "id": "Oq1xibzMT1Wl"
   },
   "outputs": [],
   "source": [
    "import numpy as np\n",
    "import pandas as pd\n",
    "import time\n",
    "import seaborn as sns\n",
    "import matplotlib.pyplot as plt\n",
    "import requests\n",
    "from bs4 import BeautifulSoup\n",
    "import itertools\n",
    "from copy import deepcopy as dcopy,copy\n",
    "from skimage.morphology import label\n",
    "from scipy.ndimage import measurements\n",
    "import sys\n",
    "import numba as nb"
   ]
  },
  {
   "cell_type": "code",
   "execution_count": 2,
   "metadata": {
    "id": "ICTfvjZUT1Wr"
   },
   "outputs": [
    {
     "name": "stdout",
     "output_type": "stream",
     "text": [
      "Shade some cells in the grid below such that the set of shaded cells is connected, has 90-degree rotational symmetry about its center, and contains the same number of shaded cells in each outlined region. The answer to this puzzle is the smallest possible product of the areas of the connected groups of empty squares in the completed grid. — (Note: This post has been edited 2018-09-04 to change the answer to the smallest possible product of areas of connected groups of empty squares.)\n"
     ]
    }
   ],
   "source": [
    "# Interesting puzzle. The tempting first choice is to set the rotation \n",
    "# around the centre point and have a max fill of 6 cells for\n",
    "# each region which doesn't give any solution (the long group bottom\n",
    "# right I guess). Offsetting and padding give options as do reducing \n",
    "# the number of cells filled per group.I've looped through the options\n",
    "# below but none of the other options gave a valid solution before I \n",
    "# got to the published solution. I played around a bit more and\n",
    "# don't think any more padding would improve but haven't proved it\n",
    "\n",
    "url='https://www.janestreet.com/puzzles/spiral-region/'\n",
    "res = requests.get(url)\n",
    "soup = BeautifulSoup(res.content, 'html.parser')\n",
    "x =[text for text in soup.body.stripped_strings]\n",
    "\n",
    "print(\" \".join(x[7:15]))"
   ]
  },
  {
   "cell_type": "markdown",
   "metadata": {
    "id": "U9Yh1D3HT1Ws"
   },
   "source": [
    "### Puzzle details\n",
    "<img src=\"https://www.janestreet.com/puzzles/wp-content/uploads/2018/09/20180904_spiral_region.png\" width=\"250\" >"
   ]
  },
  {
   "cell_type": "code",
   "execution_count": 3,
   "metadata": {
    "id": "0VI0NM6ET1Wt"
   },
   "outputs": [],
   "source": [
    "# set up the groups\n",
    "groups = np.array([[19, 19, 19,  1,  1,  2,  2,  3,  3,  3,  4,  4,  4,  4],\n",
    "                   [19, 19,  5,  1,  1,  1,  2,  2,  3,  3,  3,  3,  4,  4],\n",
    "                   [19,  5,  5,  1,  6,  6,  6,  2,  2,  7,  7,  3,  3,  4],\n",
    "                   [ 5,  5,  5,  9,  6, 10,  6,  6,  2,  7,  8,  8,  4,  4],\n",
    "                   [ 9,  5,  9,  9, 10, 10, 10, 11,  2,  7,  8,  8,  8,  2],\n",
    "                   [ 9,  5,  9, 10, 10, 12, 10, 11,  2,  7,  7,  7,  8,  2],\n",
    "                   [ 9,  9,  9,  9, 12, 12, 11, 11,  2, 13,  8,  8,  8,  2],\n",
    "                   [14,  9,  9, 12, 12, 11, 11,  2,  2, 13,  2,  2,  2,  2],\n",
    "                   [14, 14, 12, 12,  2,  2,  2,  2, 13, 13, 13, 15, 15,  2],\n",
    "                   [14, 16, 16, 17,  2, 18, 18, 18, 18, 13, 13, 13, 15,  2],\n",
    "                   [14, 14, 16, 17,  2,  2, 18,  0, 18, 20, 20, 15, 15,  2],\n",
    "                   [16, 16, 16, 17, 17,  2,  2,  0,  0,  0, 20, 20, 15,  2],\n",
    "                   [16, 17, 16, 17, 17, 17,  2,  2,  0,  0, 20, 20, 15,  2],\n",
    "                   [16, 17, 17, 17, 17, 17, 17,  2,  2,  2,  2,  2,  2,  2]]\n",
    "                  ,dtype=int)"
   ]
  },
  {
   "cell_type": "code",
   "execution_count": 4,
   "metadata": {
    "colab": {
     "base_uri": "https://localhost:8080/",
     "height": 374
    },
    "id": "zexQ8t1kT1W3",
    "outputId": "7c2aec4e-d2fb-45d8-fc7e-679051faafed"
   },
   "outputs": [],
   "source": [
    "class Matrix():\n",
    "    def __init__(self,groups,max_cells,offset):\n",
    "        self.groups = groups\n",
    "        self.max_cells = max_cells\n",
    "        self.fixed =  np.ones((7,7),dtype=int)*-1 \n",
    "        self.offset = offset\n",
    "        self.solution = []\n",
    "        self.end_flag = 0\n",
    "        \n",
    "    # solve by backtracking only considering the 7x7 grid \n",
    "    # which gets rotated\n",
    "    def solve(self):\n",
    "        if self.end_flag == 0:\n",
    "            for row in range(7):\n",
    "                for col in range(7):\n",
    "                    if self.fixed[row,col] == -1:\n",
    "                        for digit in range(2):\n",
    "                            if self.possible(digit,row,col):\n",
    "                                self.fixed[row,col] = digit\n",
    "                                self.solve()\n",
    "                                self.fixed[row,col] = -1\n",
    "                        return\n",
    "                    \n",
    "            big = self.get_big(self.fixed)\n",
    "            self.solution.append(dcopy(big))\n",
    "\n",
    "    def possible(self,digit,row,col):\n",
    "        x = copy(self.fixed)\n",
    "        x[row,col] == digit\n",
    "        big =self.get_big(x)\n",
    " \n",
    "        #check connectivity\n",
    "        if np.max(label(big[:-1,:-1]!=0,connectivity=1)) > 1:\n",
    "            return False\n",
    "            \n",
    "        # check the number counts as determined above are not\n",
    "        # breached\n",
    "        if not self.test_totals(big,self.groups,self.max_cells):\n",
    "            return False\n",
    "\n",
    "        return True\n",
    "   \n",
    "    @staticmethod\n",
    "    @nb.njit\n",
    "    #test the count per cell is not breached\n",
    "    def test_totals(x,groups,max_cells):\n",
    "        for group in range(21):                         \n",
    "            if np.sum(np.ravel(x)[np.ravel(groups)==group]>0) > max_cells:\n",
    "                  return False \n",
    "            if np.sum(np.ravel(x)[np.ravel(groups)==group] != 0) < max_cells :\n",
    "                  return False     \n",
    "        return True\n",
    "    \n",
    "    #code to turn the 7x7 grid into a 14x14 grid with rotational\n",
    "    #symmetry. Can make a smaller grid and then pad.\n",
    "    def get_big(self,x):\n",
    "        x1 = dcopy(x)\n",
    "        x2 = dcopy(x)\n",
    "        x3 = dcopy(x)\n",
    "        if self.offset == 0:\n",
    "            x1 = np.rot90(x1 ,1)\n",
    "            x2 = np.rot90(x2 ,2) \n",
    "            x3 = np.rot90(x3, 3)\n",
    "            y = np.block([[x,x3],[x1,x2]])\n",
    "        \n",
    "        if self.offset == 1:\n",
    "            x1 = np.rot90(x1[:,:-1] ,1)\n",
    "            x2 = np.rot90(x2[:-1,:-1] ,2) \n",
    "            x3 = np.rot90(x3[:-1,:], 3)   \n",
    "            y = np.block([[x,x3],[x1,x2]])\n",
    "            y = np.pad(y,((0,1),(0,1)),'constant',constant_values=0)\n",
    "        \n",
    "        if self.offset == 2:\n",
    "            x1 = np.rot90(x1[:,:-1] ,1)\n",
    "            x2 = np.rot90(x2[:-1,:-1] ,2) \n",
    "            x3 = np.rot90(x3[:-1,:], 3)   \n",
    "            y = np.block([[x,x3],[x1,x2]])\n",
    "            y = np.pad(y,((1,0),(0,1)),'constant',constant_values=0)\n",
    "        \n",
    "        if self.offset == 3:\n",
    "            x1 = np.rot90(x1[:,:-1] ,1)\n",
    "            x2 = np.rot90(x2[:-1,:-1] ,2) \n",
    "            x3 = np.rot90(x3[:-1,:], 3)   \n",
    "            y = np.block([[x,x3],[x1,x2]])\n",
    "            y = np.pad(y,((0,1),(1,0)),'constant',constant_values=0)\n",
    "            \n",
    "        if self.offset == 4:\n",
    "            x1 = np.rot90(x1[:,:-1] ,1)\n",
    "            x2 = np.rot90(x2[:-1,:-1] ,2) \n",
    "            x3 = np.rot90(x3[:-1,:], 3)   \n",
    "            y = np.block([[x,x3],[x1,x2]])\n",
    "            y = np.pad(y,((1,0),(1,0)),'constant',constant_values=0)\n",
    "\n",
    "        return y\n",
    "   \n",
    "    # work out the area for the solution\n",
    "    def areas(self,grid):\n",
    "        labels, num = measurements.label(grid==0)\n",
    "        areas = measurements.sum(grid==0, labels, index=range(1, num+1))\n",
    "        return np.prod(areas)\n",
    "  \n",
    "    # print out the solution\n",
    "    def print_best(self):\n",
    "        if len(self.solution) == 0:\n",
    "            print(\"No solutions\")\n",
    "        else:\n",
    "            area =np.zeros(len(self.solution))\n",
    "            for i in range(len(self.solution)):\n",
    "                area[i] = self.areas(self.solution[i])\n",
    "            best = self.solution[np.argmin(area)]\n",
    "            print(\"\\n***SOLVED***\")\n",
    "            print(\"Area for solution is :{:,.0f}\\n\".format(np.min(area)))\n",
    "            self.grid_print(groups,best)\n",
    "\n",
    "    # function to print the solution\n",
    "    def grid_print(self,groups,numbers):\n",
    "        fig,ax = plt.subplots(1,2,figsize=(8,4))\n",
    "        x = np.array((numbers).astype('int').astype('str'))\n",
    "        x[x==\"0\"] =\"\"\n",
    "        x[x==\"1\"] =\"+\"\n",
    "        ax1 = sns.heatmap(groups,annot=x,cbar=False,cmap=\"tab20b\",fmt=\"\",linewidths=1,ax=ax[0])\n",
    "        ax1.axis(\"off\")\n",
    "        ax2 = sns.heatmap(numbers,cbar=False,cmap=\"Greys\",center=2,fmt=\"\",linewidths=1,ax=ax[1],linecolor=\"grey\")\n",
    "        ax2.axis(\"off\")\n",
    "        plt.tight_layout()\n",
    "   \n",
    "        "
   ]
  },
  {
   "cell_type": "code",
   "execution_count": 5,
   "metadata": {
    "colab": {
     "base_uri": "https://localhost:8080/",
     "height": 374
    },
    "id": "zexQ8t1kT1W3",
    "outputId": "7c2aec4e-d2fb-45d8-fc7e-679051faafed"
   },
   "outputs": [
    {
     "name": "stdout",
     "output_type": "stream",
     "text": [
      "Per range number of cells :5, Offset:1\n",
      "\n",
      "***SOLVED***\n",
      "Area for solution is :1,203,200\n",
      "\n",
      "Solution took 3.0692 seconds\n"
     ]
    },
    {
     "data": {
      "image/png": "[encoded data removed]",
      "text/plain": [
       "<Figure size 576x288 with 2 Axes>"
      ]
     },
     "metadata": {
      "needs_background": "light"
     },
     "output_type": "display_data"
    }
   ],
   "source": [
    "# Looking at the puzzle have options\n",
    "# none of the other offsets or max fills work\n",
    "# so have just displayed the solution\n",
    "\n",
    "overall_start = time.perf_counter()\n",
    "\n",
    "for offset,max_fill in itertools.product(range(1,2),range(5,6)):\n",
    "    \n",
    "    start = time.perf_counter()\n",
    "    print(\"Per range number of cells :{}, Offset:{}\".format(max_fill,offset))\n",
    "    test = Matrix(groups,max_fill,offset)\n",
    "    test.solve()\n",
    "    stop =  time.perf_counter()\n",
    "    test.print_best()\n",
    "    print('Solution took {:0.4f} seconds'.format((stop-start)))\n",
    "\n",
    "#rint('\\nAll options took {:0.4f} seconds'.format((stop-overall_start)))\n"
   ]
  },
  {
   "cell_type": "code",
   "execution_count": 6,
   "metadata": {
    "colab": {
     "base_uri": "https://localhost:8080/",
     "height": 374
    },
    "id": "zexQ8t1kT1W3",
    "outputId": "7c2aec4e-d2fb-45d8-fc7e-679051faafed"
   },
   "outputs": [
    {
     "name": "stdout",
     "output_type": "stream",
     "text": [
      "The smallest product we were able to find is 1203200 , which results from the shading shown on the left. Congrats to those of you who found it!\n"
     ]
    }
   ],
   "source": [
    "url='https://www.janestreet.com/puzzles/solutions/september-2018-solution/'\n",
    "res = requests.get(url)\n",
    "soup = BeautifulSoup(res.content, 'html.parser')\n",
    "x =[text for text in soup.body.stripped_strings]\n",
    "\n",
    "print(\" \".join(x[7:10]))"
   ]
  },
  {
   "cell_type": "markdown",
   "metadata": {
    "id": "ld_NFUIfT1W9"
   },
   "source": [
    "### Puzzle solution\n",
    "<img src=\"https://www.janestreet.com/puzzles/wp-content/uploads/2018/10/20181001_spiral_ans.png\" width=\"300\" >"
   ]
  },
  {
   "cell_type": "code",
   "execution_count": 7,
   "metadata": {},
   "outputs": [],
   "source": [
    "solution= np.array([[1, 1, 1, 1, 1, 0, 0, 0, 0, 1, 1, 1, 1, 0],\n",
    "                    [1, 0, 1, 0, 1, 1, 0, 0, 1, 1, 0, 0, 1, 0],\n",
    "                    [1, 0, 1, 1, 1, 1, 1, 0, 0, 0, 1, 1, 1, 0],\n",
    "                    [1, 1, 0, 1, 0, 1, 1, 1, 0, 1, 1, 0, 1, 0],\n",
    "                    [0, 1, 0, 0, 1, 1, 0, 0, 1, 0, 1, 1, 1, 0],\n",
    "                    [0, 0, 0, 1, 0, 1, 1, 1, 1, 1, 1, 1, 0, 0],\n",
    "                    [0, 0, 1, 1, 0, 1, 1, 1, 0, 1, 1, 0, 0, 0],\n",
    "                    [0, 1, 1, 1, 1, 1, 1, 1, 0, 1, 0, 0, 0, 0],\n",
    "                    [1, 1, 1, 0, 1, 0, 0, 1, 1, 0, 0, 1, 0, 0],\n",
    "                    [1, 0, 1, 1, 0, 1, 1, 1, 0, 1, 0, 1, 1, 0],\n",
    "                    [1, 1, 1, 0, 0, 0, 1, 1, 1, 1, 1, 0, 1, 0],\n",
    "                    [1, 0, 0, 1, 1, 0, 0, 1, 1, 0, 1, 0, 1, 0],\n",
    "                    [1, 1, 1, 1, 0, 0, 0, 0, 1, 1, 1, 1, 1, 0],\n",
    "                    [0, 0, 0, 0, 0, 0, 0, 0, 0, 0, 0, 0, 0, 0]],dtype =int)"
   ]
  },
  {
   "cell_type": "code",
   "execution_count": null,
   "metadata": {},
   "outputs": [],
   "source": []
  }
 ],
 "metadata": {
  "colab": {
   "include_colab_link": true,
   "name": "JaneSt-Feb18.ipynb",
   "provenance": []
  },
  "kernelspec": {
   "display_name": "Python 3",
   "language": "python",
   "name": "python3"
  },
  "language_info": {
   "codemirror_mode": {
    "name": "ipython",
    "version": 3
   },
   "file_extension": ".py",
   "mimetype": "text/x-python",
   "name": "python",
   "nbconvert_exporter": "python",
   "pygments_lexer": "ipython3",
   "version": "3.7.7"
  }
 },
 "nbformat": 4,
 "nbformat_minor": 4
}
