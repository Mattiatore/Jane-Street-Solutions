{
 "cells": [
  {
   "cell_type": "code",
   "execution_count": 1,
   "metadata": {
    "id": "Oq1xibzMT1Wl"
   },
   "outputs": [],
   "source": [
    "import numpy as np\n",
    "import time\n",
    "import seaborn as sns\n",
    "import matplotlib.pyplot as plt\n",
    "import requests\n",
    "from bs4 import BeautifulSoup\n",
    "import itertools\n",
    "from copy import deepcopy as dcopy,copy\n",
    "from scipy.ndimage import measurements\n",
    "from collections import defaultdict\n",
    "from fractions import Fraction\n",
    "from itertools import count\n"
   ]
  },
  {
   "cell_type": "code",
   "execution_count": 2,
   "metadata": {
    "id": "ICTfvjZUT1Wr"
   },
   "outputs": [
    {
     "name": "stdout",
     "output_type": "stream",
     "text": [
      "A 7′-by-7′ well is dug.  It has a peculiar shape:  its depth varies from one 1′-by-1′ section to another, as shown below.  Each section is marked with its depth. (E.g., the deepest section is 49′ deep.) Water is poured into the well from a point above the section marked 1, at a rate of 1 cubic foot per minute.  Assume that water entering a region of constant depth immediately disperses to any orthogonally adjacent lower-depth regions evenly along its exposed perimeter. After how many minutes will the water level on section 43 begin to rise?\n"
     ]
    }
   ],
   "source": [
    "# Another one with no fixed end point.\n",
    "\n",
    "url='https://www.janestreet.com/puzzles/well-well-well/'\n",
    "res = requests.get(url)\n",
    "soup = BeautifulSoup(res.content, 'html.parser')\n",
    "x =[text for text in soup.body.stripped_strings]\n",
    "\n",
    "print(\" \".join(x[7:10]))"
   ]
  },
  {
   "cell_type": "markdown",
   "metadata": {
    "id": "U9Yh1D3HT1Ws"
   },
   "source": [
    "### Puzzle details\n",
    "<img src=\"https://www.janestreet.com/puzzles/Jun17_puzzle.png\" width=\"350\">"
   ]
  },
  {
   "cell_type": "code",
   "execution_count": 5,
   "metadata": {
    "id": "844RhDFpT1Wu"
   },
   "outputs": [
    {
     "data": {
      "image/png": "[encoded data removed]",
      "text/plain": [
       "<Figure size 216x216 with 1 Axes>"
      ]
     },
     "metadata": {
      "needs_background": "light"
     },
     "output_type": "display_data"
    }
   ],
   "source": [
    "# Setup the constraints\n",
    "fixed = np.array([[ 1, 5,27,22,28,40,14],\n",
    "                  [39,13,17,30,41,12, 2],\n",
    "                  [32,35,24,25,19,47,34],\n",
    "                  [16,33,10,42, 7,44,18],\n",
    "                  [ 3, 8,45,37, 4,21,20],\n",
    "                  [15,46,38, 6,26,48,49],\n",
    "                  [ 9,23,31,29,11,36,43]\n",
    "                 ])\n",
    "\n",
    "#print(fixed.shape)\n",
    "fig,ax = plt.subplots(1,1,figsize=(3,3))\n",
    "\n",
    "ax = sns.heatmap(np.zeros((7,7)),annot=fixed,cbar=False,cmap=\"Greys\",fmt=\"\",linewidths=1,center=4,linecolor=\"grey\",xticklabels=[6,7,8,9,10], yticklabels=[1,2,3,4,5],\n",
    "                     annot_kws={\"fontsize\":14})\n",
    "ax.axis(\"off\")\n",
    "plt.tight_layout()"
   ]
  },
  {
   "cell_type": "code",
   "execution_count": 8,
   "metadata": {
    "id": "844RhDFpT1Wu"
   },
   "outputs": [],
   "source": [
    "class Matrix():\n",
    "    def __init__(self,fixed):\n",
    "        self.heights = list(50-np.ravel(fixed))\n",
    "        \n",
    "    def neighbours(self,n):\n",
    "        x = n % 7\n",
    "        y = n // 7\n",
    "        if x > 0:\n",
    "            yield n-1\n",
    "        if x <6:\n",
    "            yield n+1\n",
    "        if y > 0:\n",
    "            yield n-7\n",
    "        if y <6:\n",
    "            yield n+7\n",
    "\n",
    "    def solve(self):\n",
    "        connected = {0}\n",
    "        for t in count(1):\n",
    "            ln = len(connected)\n",
    "            unit = Fraction(1)\n",
    "            while unit > 0:\n",
    "                mn = min(connected, key=lambda x: self.heights[x])\n",
    "                q = Fraction(1, ln)\n",
    "                self.heights[mn] += q\n",
    "                unit -= q\n",
    "                while True:\n",
    "                    for i in connected:\n",
    "                        for j in self.neighbours(i):\n",
    "                            if j in connected:\n",
    "                                continue\n",
    "                            elif self.heights[i] >= self.heights[j]:\n",
    "                                connected.add(j)\n",
    "                                break\n",
    "                        else:\n",
    "                            continue\n",
    "                        break\n",
    "                    else:\n",
    "                        break\n",
    "                    continue\n",
    "            if self.heights[-1] > 7:\n",
    "                break\n",
    "        return(t-1)"
   ]
  },
  {
   "cell_type": "code",
   "execution_count": 9,
   "metadata": {
    "colab": {
     "base_uri": "https://localhost:8080/",
     "height": 374
    },
    "id": "zexQ8t1kT1W3",
    "outputId": "7c2aec4e-d2fb-45d8-fc7e-679051faafed"
   },
   "outputs": [
    {
     "name": "stdout",
     "output_type": "stream",
     "text": [
      "***Solved in 0.000098 seconds***\n",
      "\n",
      "Starts to fill after 360 seconds\n"
     ]
    },
    {
     "data": {
      "image/png": "[encoded data removed]",
      "text/plain": [
       "<Figure size 216x216 with 1 Axes>"
      ]
     },
     "metadata": {
      "needs_background": "light"
     },
     "output_type": "display_data"
    }
   ],
   "source": [
    "start = time.perf_counter()\n",
    "well = Matrix(fixed)\n",
    "print(\"***Solved in {:.6f} seconds***\\n\".format(time.perf_counter() - start))   \n",
    "print(\"Starts to fill after {} seconds\".format(well.solve()))\n",
    "\n",
    "fig,ax = plt.subplots(1,1,figsize=(3,3))\n",
    "ax = sns.heatmap(np.zeros((7,7)),annot=50-np.reshape(well.heights,(7,7)).astype(\"int\"),cbar=False,cmap=\"Greys\",fmt=\"\",linewidths=1,center=4,linecolor=\"grey\",xticklabels=[6,7,8,9,10], yticklabels=[1,2,3,4,5],\n",
    "                     annot_kws={\"fontsize\":14})\n",
    "ax.axis(\"off\")\n",
    "plt.tight_layout()"
   ]
  },
  {
   "cell_type": "code",
   "execution_count": 8,
   "metadata": {},
   "outputs": [
    {
     "name": "stdout",
     "output_type": "stream",
     "text": [
      "The diagram presented here shows the depths of the 49 sections after exactly 360 minutes have elapsed. After this moment, the water level will begin to rise on the bottom-right-most section. Thus the answer to this month’s puzzle is 360 .  Congratulations to everyone who solved this month’s puzzle! Correct Submissions: Anthony Clays Garth Owen Lok Hin Wong Calum Heraty\n"
     ]
    }
   ],
   "source": [
    "url='https://www.janestreet.com/puzzles/solutions/june-2017-solution/'\n",
    "res = requests.get(url)\n",
    "soup = BeautifulSoup(res.content, 'html.parser')\n",
    "x =[text for text in soup.body.stripped_strings]\n",
    "\n",
    "print(\" \".join(x[7:15]))"
   ]
  },
  {
   "cell_type": "markdown",
   "metadata": {},
   "source": [
    "<img src=\"https://www.janestreet.com/puzzles/Jun17_solution.png\" width=\"350\">"
   ]
  },
  {
   "cell_type": "code",
   "execution_count": null,
   "metadata": {},
   "outputs": [],
   "source": []
  }
 ],
 "metadata": {
  "colab": {
   "include_colab_link": true,
   "name": "JaneSt-Feb18.ipynb",
   "provenance": []
  },
  "kernelspec": {
   "display_name": "Python 3",
   "language": "python",
   "name": "python3"
  },
  "language_info": {
   "codemirror_mode": {
    "name": "ipython",
    "version": 3
   },
   "file_extension": ".py",
   "mimetype": "text/x-python",
   "name": "python",
   "nbconvert_exporter": "python",
   "pygments_lexer": "ipython3",
   "version": "3.7.10"
  }
 },
 "nbformat": 4,
 "nbformat_minor": 4
}
