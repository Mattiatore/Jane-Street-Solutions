{
 "cells": [
  {
   "cell_type": "code",
   "execution_count": 14,
   "metadata": {
    "id": "Oq1xibzMT1Wl"
   },
   "outputs": [],
   "source": [
    "import numpy as np\n",
    "import pandas as pd\n",
    "import time\n",
    "import seaborn as sns\n",
    "import matplotlib.pyplot as plt\n",
    "import requests\n",
    "from bs4 import BeautifulSoup\n",
    "import itertools\n",
    "from copy import deepcopy as dcopy,copy\n",
    "import pulp \n",
    "import math\n",
    "import numba as nb"
   ]
  },
  {
   "cell_type": "code",
   "execution_count": 2,
   "metadata": {
    "id": "Oq1xibzMT1Wl"
   },
   "outputs": [
    {
     "name": "stdout",
     "output_type": "stream",
     "text": [
      "Fill each cell with a positive integer such that integers do not repeat within any row, column, or outlined region. Within each region, one cell must be equal to the product of the other cells, and these “product” cells may not share edges with “product” cells from other regions. (See the example.) The answer to this month’s puzzle is the smallest possible sum for the “product” cells.\n"
     ]
    }
   ],
   "source": [
    "url='https://www.janestreet.com/puzzles/block-party-2/'\n",
    "res = requests.get(url)\n",
    "soup = BeautifulSoup(res.content, 'html.parser')\n",
    "x =[text for text in soup.body.stripped_strings]\n",
    "\n",
    "print(\" \".join(x[7:11]))"
   ]
  },
  {
   "cell_type": "markdown",
   "metadata": {
    "id": "U9Yh1D3HT1Ws"
   },
   "source": [
    "### Puzzle details\n",
    "<img src=\"https://www.janestreet.com/puzzles/wp-content/uploads/2018/12/20181203_block_party_2.png\" width=\"300\" height=\"300\">"
   ]
  },
  {
   "cell_type": "code",
   "execution_count": 39,
   "metadata": {
    "id": "0VI0NM6ET1Wt"
   },
   "outputs": [
    {
     "data": {
      "image/png": "[encoded data removed]",
      "text/plain": [
       "<Figure size 288x288 with 1 Axes>"
      ]
     },
     "metadata": {
      "needs_background": "light"
     },
     "output_type": "display_data"
    },
    {
     "data": {
      "image/png": "[encoded data removed]",
      "text/plain": [
       "<Figure size 288x288 with 1 Axes>"
      ]
     },
     "metadata": {
      "needs_background": "light"
     },
     "output_type": "display_data"
    }
   ],
   "source": [
    "# First thoughts\n",
    "# 1 cannot be in any of the 3 hooks, so must be in the 4\n",
    "# reduce the problem to fitting the 3 by\n",
    "#set one of the cells in the 4 hook to one and solve from there (set it as hook 16)\n",
    "\n",
    "groups=np.array([[1 ,2 ,2 ,3 ,3 ,4 ,4 ],\n",
    "                 [1 ,1 ,2 ,5 ,3 ,4 ,6 ],\n",
    "                 [7 ,7 ,5 ,5 ,8 ,6 ,6 ],\n",
    "                 [9 ,7 ,10,10,8 ,8 ,11],\n",
    "                 [9 ,9 ,12,10,13,11,11],\n",
    "                 [14,12,12,16,13,13,15],\n",
    "                 [14,14,0 ,0 ,0,15,15]\n",
    "                 ],dtype=int)\n",
    "\n",
    "fixed =np.zeros((7,7),dtype=int)\n",
    "fixed[groups==16] = 1\n",
    "\n",
    "solution = np.array([[ 6,  4, 20,  3, 12,  2,  5],\n",
    "                     [ 2, 12,  5,  8,  4, 10,  3],\n",
    "                     [12,  6,  2,  4,  3,  5, 15],\n",
    "                     [ 3,  2,  6, 12,  5, 15,  4],\n",
    "                     [ 5, 15,  4,  2,  8,  3, 12],\n",
    "                     [20,  3, 12,  5,  2,  4,  6],\n",
    "                     [ 4,  5,  3, 15,  1, 12,  2]\n",
    "                    ],dtype =int)\n",
    "\n",
    "def grid_print(groups,numbers):\n",
    "    fig,ax = plt.subplots(1,1,figsize=(4,4))\n",
    "    x = np.array((numbers).astype('int').astype('str'))\n",
    "    x[x==\"0\"] =\"-\"\n",
    "    ax = sns.heatmap(groups,annot=x,cbar=False,cmap=\"tab20\",fmt=\"\",linewidths=0.25)\n",
    "    ax.axis(\"off\")\n",
    "    \n",
    "grid_print(groups,fixed) \n",
    "grid_print(groups,solution) "
   ]
  },
  {
   "cell_type": "code",
   "execution_count": 40,
   "metadata": {
    "colab": {
     "base_uri": "https://localhost:8080/",
     "height": 374
    },
    "id": "zexQ8t1kT1W3",
    "outputId": "7c2aec4e-d2fb-45d8-fc7e-679051faafed"
   },
   "outputs": [
    {
     "name": "stdout",
     "output_type": "stream",
     "text": [
      "Total is:  210.0\n",
      "The hooks to use are :\n"
     ]
    },
    {
     "data": {
      "text/plain": [
       "{(2, 3): 0.0,\n",
       " (2, 4): 2.0,\n",
       " (2, 5): 1.0,\n",
       " (2, 6): 4.0,\n",
       " (3, 4): 3.0,\n",
       " (3, 5): 4.0,\n",
       " (3, 6): 0.0,\n",
       " (4, 5): 2.0,\n",
       " (4, 6): 0.0,\n",
       " (5, 6): 0.0}"
      ]
     },
     "metadata": {},
     "output_type": "display_data"
    },
    {
     "data": {
      "text/plain": [
       "[[2, 4, 8], [2, 5, 10], [2, 6, 12], [3, 4, 12], [3, 5, 15], [4, 5, 20]]"
      ]
     },
     "execution_count": 40,
     "metadata": {},
     "output_type": "execute_result"
    }
   ],
   "source": [
    "# 49 cells - 16 totals - the celll with 1 = 32 to fill\n",
    "# so 7 x (2,3,4,5) + 6 x 4\n",
    "# how do we arrange those to give the lowest total with all the constraints\n",
    "\n",
    "combinations = {(x,y):x*y for x,y  in itertools.combinations([2,3,4,5,6],2)}\n",
    "\n",
    "prob = pulp.LpProblem(\"GetTiles\",pulp.LpMinimize)\n",
    "x = pulp.LpVariable.dicts(\"Combination\",combinations.keys(),lowBound=0,upBound=7, cat='Integer') \n",
    "\n",
    "# objective\n",
    "prob += pulp.lpSum([combinations[key]*x[key] for key in combinations])\n",
    "# constraint 16 hoooks\n",
    "prob += pulp.lpSum([x[key] for key in combinations]) == 16\n",
    "\n",
    "# constraints for the numbers - can't have more than 7 of any one\n",
    "totals = [7,7,7,7,4]\n",
    "numbs =  [2,3,4,5,6]\n",
    "for i in range(len(totals)):\n",
    "    prob += pulp.lpSum([(numbs[i]  in key)*x[key] for key in combinations]) == totals[i]\n",
    "    \n",
    "# constraints for the totals - can't have more than 7 of any total (need to work out a nicer way of doing this)\n",
    "prob += pulp.lpSum([(combinations[key] ==12)*x[key] for key in combinations]) == 7\n",
    "    \n",
    "\n",
    "prob.solve()\n",
    "print(\"Total is: \",np.sum([combinations[key]*x[key].varValue for key in combinations]))\n",
    "\n",
    "print(\"The hooks to use are :\")\n",
    "result_dict ={key:x[key].varValue for key in combinations}\n",
    "display(result_dict)\n",
    "\n",
    "possible_cells = []\n",
    "\n",
    "for (a,b) in result_dict:\n",
    "    count = result_dict[(a,b)]\n",
    "    #for i in range(int(count)):\n",
    "    if count > 0:\n",
    "        possible_cells.append([a,b,a*b])\n",
    "\n",
    "possible_cells"
   ]
  },
  {
   "cell_type": "code",
   "execution_count": 41,
   "metadata": {
    "colab": {
     "base_uri": "https://localhost:8080/",
     "height": 374
    },
    "id": "zexQ8t1kT1W3",
    "outputId": "7c2aec4e-d2fb-45d8-fc7e-679051faafed"
   },
   "outputs": [],
   "source": [
    "class Matrix():\n",
    "    def __init__(self,groups,fixed,possible_cells):\n",
    "        self.groups = groups\n",
    "        self.fixed = fixed\n",
    "        self.solution = []\n",
    "        self.splits = possible_cells\n",
    "        self.end_flag = 0\n",
    "        self.perm_splits = []\n",
    "        for split in self.splits:\n",
    "            self.perm_splits += [list(i) for i in itertools.permutations(split)]\n",
    "        \n",
    "    def solve(self):\n",
    "        if self.end_flag == 0:\n",
    "            for group in range(16):\n",
    "                if 0 in self.fixed[self.groups== group]:\n",
    "                    for perm in self.perm_splits:\n",
    "                            if self.possible(group,perm):\n",
    "                                self.fixed[self.groups== group] = perm\n",
    "                                self.solve()\n",
    "                                self.fixed[self.groups== group] = np.array([0,0,0])\n",
    "                    return\n",
    "            self.end_flag = 1\n",
    "            self.solution.append(fixed)\n",
    "            print(np.array(self.fixed))\n",
    "            self.counter()\n",
    "\n",
    "    def possible(self,group,perm):\n",
    "        test = dcopy(self.fixed)\n",
    "        test[self.groups == group] = np.array(perm,dtype=int)\n",
    "        for i in range(7):\n",
    "            x = test[i,:]\n",
    "            y = test[:,i]\n",
    "            row = x[x!=0]\n",
    "            col = y[y!=0]\n",
    "            if len(row) != len(set(row)):\n",
    "                return False \n",
    "            if len(col) != len(set(col)):\n",
    "                return False\n",
    "            \n",
    "        if not self.test_totals(test):\n",
    "            return False\n",
    "            \n",
    "        \n",
    "        return True\n",
    "   \n",
    "    @staticmethod\n",
    "    #@nb.njit\n",
    "    def test_totals(grid):\n",
    "        totals = np.array([2,3,4,5,6,8,10,12,15,20],dtype=int)\n",
    "        counts = np.array([7,7,7,7,4,2,1 ,7 ,4 ,2 ],dtype=int)\n",
    "        for i in range(len(totals)):\n",
    "            if np.sum(np.ravel(grid) == np.ravel(totals[i])) > counts[i]:\n",
    "                return False  \n",
    "        return True\n",
    "    \n",
    "    \n",
    "    def counter(self):\n",
    "            sum = []\n",
    "            for i in range(np.max(groups)):\n",
    "                sum.append(np.max(self.fixed[self.groups==i]))\n",
    "            print(\"Sum is : {} made up of \\n {}\".format(np.sum(sum),np.asarray(np.unique(sum,return_counts=True)).T))"
   ]
  },
  {
   "cell_type": "code",
   "execution_count": 42,
   "metadata": {
    "colab": {
     "base_uri": "https://localhost:8080/",
     "height": 374
    },
    "id": "zexQ8t1kT1W3",
    "outputId": "7c2aec4e-d2fb-45d8-fc7e-679051faafed"
   },
   "outputs": [
    {
     "name": "stdout",
     "output_type": "stream",
     "text": [
      "36\n",
      "[[ 2 20  4  6 12  5  3]\n",
      " [12  6  5  3  2 15  4]\n",
      " [ 4 12 15  5  3  2  8]\n",
      " [ 5  3  6  2  4 12 20]\n",
      " [10  2  3 12 15  4  5]\n",
      " [15  4 12  1  5  3  2]\n",
      " [ 3  5  2  4  8  6 12]]\n",
      "Sum is : 210 made up of \n",
      " [[ 8  2]\n",
      " [10  1]\n",
      " [12  7]\n",
      " [15  4]\n",
      " [20  2]]\n",
      "Found 1 solutions in 610.8252045999998 seconds\n"
     ]
    }
   ],
   "source": [
    "start = time.perf_counter()\n",
    "matrix = Matrix(groups,fixed,possible_cells)  \n",
    "print(len(matrix.perm_splits))\n",
    "matrix.solve()\n",
    "print(\"Found {} solutions in {} seconds\".format(len(matrix.solution),time.perf_counter()-start))"
   ]
  },
  {
   "cell_type": "code",
   "execution_count": 102,
   "metadata": {
    "colab": {
     "base_uri": "https://localhost:8080/",
     "height": 374
    },
    "id": "zexQ8t1kT1W3",
    "outputId": "7c2aec4e-d2fb-45d8-fc7e-679051faafed"
   },
   "outputs": [
    {
     "name": "stdout",
     "output_type": "stream",
     "text": [
      "We received a lot of entries for this month’s puzzle, but only a few achieved the minimum possible sum of 210 . A few entries this month noted that the constraints in the problem can be shown to imply a lower-bound sum of 210. That being said, finding an arrangement turned out to be quite difficult. To the left is one of the 7 possible configurations that achieve this minimum sum. (And the only one to use ‘1, 3, 5, 15’ in the tetromino; the other 6 all use ‘1, 3, 4, 12’.)\n"
     ]
    }
   ],
   "source": [
    "url='https://www.janestreet.com/puzzles/solutions/december-2018-solution/'\n",
    "res = requests.get(url)\n",
    "soup = BeautifulSoup(res.content, 'html.parser')\n",
    "x =[text for text in soup.body.stripped_strings]\n",
    "\n",
    "print(\" \".join(x[7:11]))"
   ]
  },
  {
   "cell_type": "markdown",
   "metadata": {
    "id": "ld_NFUIfT1W9"
   },
   "source": [
    "### Puzzle solution\n",
    "<img src=\"https://www.janestreet.com/puzzles/wp-content/uploads/2019/01/20181228_block_party_2_ans.png\" width=\"250\" height=\"400\">"
   ]
  },
  {
   "cell_type": "code",
   "execution_count": 29,
   "metadata": {},
   "outputs": [
    {
     "name": "stdout",
     "output_type": "stream",
     "text": [
      "[array([[0, 0, 0, 0, 0, 0, 0],\n",
      "       [0, 0, 0, 0, 0, 0, 0],\n",
      "       [0, 0, 0, 0, 0, 0, 0],\n",
      "       [0, 0, 0, 0, 0, 0, 0],\n",
      "       [0, 0, 0, 0, 0, 0, 0],\n",
      "       [0, 0, 0, 1, 0, 0, 0],\n",
      "       [0, 0, 0, 0, 0, 0, 0]])]\n"
     ]
    }
   ],
   "source": []
  },
  {
   "cell_type": "code",
   "execution_count": null,
   "metadata": {},
   "outputs": [],
   "source": []
  }
 ],
 "metadata": {
  "colab": {
   "include_colab_link": true,
   "name": "JaneSt-Feb18.ipynb",
   "provenance": []
  },
  "kernelspec": {
   "display_name": "Python 3",
   "language": "python",
   "name": "python3"
  },
  "language_info": {
   "codemirror_mode": {
    "name": "ipython",
    "version": 3
   },
   "file_extension": ".py",
   "mimetype": "text/x-python",
   "name": "python",
   "nbconvert_exporter": "python",
   "pygments_lexer": "ipython3",
   "version": "3.7.7"
  }
 },
 "nbformat": 4,
 "nbformat_minor": 4
}
