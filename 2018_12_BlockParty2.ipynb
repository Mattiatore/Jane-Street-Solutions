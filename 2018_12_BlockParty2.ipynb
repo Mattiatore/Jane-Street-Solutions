{
 "cells": [
  {
   "cell_type": "code",
   "execution_count": 206,
   "metadata": {
    "id": "Oq1xibzMT1Wl"
   },
   "outputs": [],
   "source": [
    "import numpy as np\n",
    "import pandas as pd\n",
    "import time\n",
    "import seaborn as sns\n",
    "import matplotlib.pyplot as plt\n",
    "import requests\n",
    "from bs4 import BeautifulSoup\n",
    "import itertools\n",
    "from copy import deepcopy as dcopy,copy\n",
    "import pulp \n",
    "import math\n",
    "import numba as nb"
   ]
  },
  {
   "cell_type": "code",
   "execution_count": 207,
   "metadata": {
    "id": "Oq1xibzMT1Wl"
   },
   "outputs": [
    {
     "name": "stdout",
     "output_type": "stream",
     "text": [
      "Fill each cell with a positive integer such that integers do not repeat within any row, column, or outlined region. Within each region, one cell must be equal to the product of the other cells, and these “product” cells may not share edges with “product” cells from other regions. (See the example.) The answer to this month’s puzzle is the smallest possible sum for the “product” cells.\n"
     ]
    }
   ],
   "source": [
    "url='https://www.janestreet.com/puzzles/block-party-2/'\n",
    "res = requests.get(url)\n",
    "soup = BeautifulSoup(res.content, 'html.parser')\n",
    "x =[text for text in soup.body.stripped_strings]\n",
    "\n",
    "print(\" \".join(x[7:11]))"
   ]
  },
  {
   "cell_type": "markdown",
   "metadata": {
    "id": "U9Yh1D3HT1Ws"
   },
   "source": [
    "### Puzzle details\n",
    "<img src=\"https://www.janestreet.com/puzzles/wp-content/uploads/2018/12/20181203_block_party_2.png\" width=\"300\" height=\"300\">"
   ]
  },
  {
   "cell_type": "code",
   "execution_count": 208,
   "metadata": {
    "id": "0VI0NM6ET1Wt"
   },
   "outputs": [
    {
     "data": {
      "image/png": "[encoded data removed]",
      "text/plain": [
       "<Figure size 576x288 with 2 Axes>"
      ]
     },
     "metadata": {
      "needs_background": "light"
     },
     "output_type": "display_data"
    }
   ],
   "source": [
    "# First thoughts\n",
    "# 1 cannot be in any of the 3 hooks, so must be in the 4\n",
    "# reduce the problem to fitting the 3 hooks by\n",
    "# set one of the cells in the 4 hook to one and solve from there (set it as hook 16)\n",
    "\n",
    "groups=np.array([[ 0,  1,  1,  2,  2,  3,  3],\n",
    "                 [ 0,  0,  1,  4,  2,  3,  5],\n",
    "                 [ 6,  6,  4,  4,  7,  5,  5],\n",
    "                 [ 8,  6,  9,  9,  7,  7, 10],\n",
    "                 [ 8,  8, 11,  9, 12, 10, 10],\n",
    "                 [13, 11, 11, 16, 12, 12, 14],\n",
    "                 [13, 13, 15, 15, 15, 14, 14]],dtype=int)\n",
    "\n",
    "fixed =np.zeros((7,7),dtype=int)\n",
    "fixed[groups==16] = 1\n",
    "\n",
    "# from the published solution\n",
    "solution = np.array([[ 6,  4, 20,  3, 12,  2,  5],\n",
    "                     [ 2, 12,  5,  8,  4, 10,  3],\n",
    "                     [12,  6,  2,  4,  3,  5, 15],\n",
    "                     [ 3,  2,  6, 12,  5, 15,  4],\n",
    "                     [ 5, 15,  4,  2,  8,  3, 12],\n",
    "                     [20,  3, 12,  5,  2,  4,  6],\n",
    "                     [ 4,  5,  3, 15,  1, 12,  2]\n",
    "                    ],dtype =int)\n",
    "\n",
    "def grid_print(groups,numbers):\n",
    "    fig,ax = plt.subplots(1,2,figsize=(8,4))\n",
    "    x = np.array((numbers).astype('int').astype('str'))\n",
    "    x[x==\"0\"] =\"-\"\n",
    "    ax1 = sns.heatmap(groups,annot=x,cbar=False,cmap=\"tab20\",fmt=\"\",linewidths=0.25,ax=ax[0])\n",
    "    ax1.axis(\"off\")\n",
    "    ax2 =sns.heatmap(np.isin(numbers, [8,10,12,15,20]),annot=x,cbar=False,cmap=\"Greys\",fmt=\"\",linewidths=0.25,ax=ax[1],linecolor ='k')\n",
    "    ax2.axis(\"off\")\n",
    "    \n",
    "grid_print(groups,solution)\n",
    "\n"
   ]
  },
  {
   "cell_type": "code",
   "execution_count": 209,
   "metadata": {
    "colab": {
     "base_uri": "https://localhost:8080/",
     "height": 374
    },
    "id": "zexQ8t1kT1W3",
    "outputId": "7c2aec4e-d2fb-45d8-fc7e-679051faafed"
   },
   "outputs": [
    {
     "name": "stdout",
     "output_type": "stream",
     "text": [
      "Total is:  210.0\n",
      "The hooks to use are :\n"
     ]
    },
    {
     "data": {
      "text/plain": [
       "{(2, 3): 0.0,\n",
       " (2, 4): 2.0,\n",
       " (2, 5): 1.0,\n",
       " (2, 6): 4.0,\n",
       " (3, 4): 3.0,\n",
       " (3, 5): 4.0,\n",
       " (3, 6): 0.0,\n",
       " (4, 5): 2.0,\n",
       " (4, 6): 0.0,\n",
       " (5, 6): 0.0}"
      ]
     },
     "metadata": {},
     "output_type": "display_data"
    }
   ],
   "source": [
    "# 49 cells - 16 totals - the celll with 1 = 32 to fill\n",
    "# so 7 x (2,3,4,5) + 6 x 4\n",
    "# how do we arrange those to give the lowest total with all the constraints\n",
    "# solve that and output as possible cells\n",
    "\n",
    "combinations = {(x,y):x*y for x,y  in itertools.combinations([2,3,4,5,6],2)}\n",
    "\n",
    "prob = pulp.LpProblem(\"GetTiles\",pulp.LpMinimize)\n",
    "x = pulp.LpVariable.dicts(\"Combination\",combinations.keys(),lowBound=0,upBound=7, cat='Integer') \n",
    "\n",
    "# objective\n",
    "prob += pulp.lpSum([combinations[key]*x[key] for key in combinations])\n",
    "# constraint 16 hoooks\n",
    "prob += pulp.lpSum([x[key] for key in combinations]) == 16\n",
    "\n",
    "# constraints for the numbers - can't have more than 7 of any one\n",
    "totals = [7,7,7,7,4]\n",
    "numbs =  [2,3,4,5,6]\n",
    "for i in range(len(totals)):\n",
    "    prob += pulp.lpSum([(numbs[i]  in key)*x[key] for key in combinations]) == totals[i]\n",
    "    \n",
    "# constraints for the totals - can't have more than 7 of any total (need to work out a nicer way of doing this)\n",
    "    prob += pulp.lpSum([(combinations[key] ==12)*x[key] for key in combinations]) <= 7\n",
    "    \n",
    "\n",
    "prob.solve()\n",
    "print(\"Total is: \",np.sum([combinations[key]*x[key].varValue for key in combinations]))\n",
    "\n",
    "print(\"The hooks to use are :\")\n",
    "result_dict ={key:x[key].varValue for key in combinations}\n",
    "display(result_dict)\n",
    "\n",
    "possible_cells = []\n",
    "\n",
    "for (a,b) in result_dict:\n",
    "    count = result_dict[(a,b)]\n",
    "    #for i in range(int(count)):\n",
    "    if count > 0:\n",
    "        possible_cells.append([a,b,a*b])"
   ]
  },
  {
   "cell_type": "code",
   "execution_count": 212,
   "metadata": {
    "colab": {
     "base_uri": "https://localhost:8080/",
     "height": 374
    },
    "id": "zexQ8t1kT1W3",
    "outputId": "7c2aec4e-d2fb-45d8-fc7e-679051faafed"
   },
   "outputs": [],
   "source": [
    "# not a great solver. Doing all the neighbour checks and all the count checks on every\n",
    "# loop is slow. Would be good to track the 2 different hooks with 12 in to cut down \n",
    "# possible placements\n",
    "\n",
    "class Matrix():\n",
    "    def __init__(self,groups,fixed,possible_cells,early_stop):\n",
    "        self.groups = groups\n",
    "        self.fixed = fixed\n",
    "        self.early_stop = early_stop\n",
    "        self.solution = []\n",
    "        self.splits = possible_cells\n",
    "        self.end_flag = 0\n",
    "        self.perm_splits = [] \n",
    "        #calculate all the permutations of possible groups\n",
    "        for split in self.splits:\n",
    "            self.perm_splits += [list(i) for i in itertools.permutations(split)]\n",
    "        \n",
    "    # solve by backtracking    \n",
    "    def solve(self):\n",
    "        if self.end_flag == 0:\n",
    "            for group in range(16):\n",
    "                if 0 in self.fixed[self.groups== group]:\n",
    "                    for perm in self.perm_splits:\n",
    "                            if self.possible(group,perm):\n",
    "                                self.fixed[self.groups== group] = perm\n",
    "                                self.solve()\n",
    "                                self.fixed[self.groups== group] = np.array([0,0,0])\n",
    "                    return\n",
    "            self.end_flag = self.early_stop\n",
    "            self.solution.append(fixed)\n",
    "            grid_print(self.groups,self.fixed) \n",
    "            self.counter()\n",
    "\n",
    "    def possible(self,group,perm):\n",
    "        test = copy(self.fixed)\n",
    "        \n",
    "        #check rows and columns do not contain duplicates\n",
    "        test[self.groups == group] = perm\n",
    "        for i in range(7):\n",
    "            x = test[i,:]\n",
    "            y = test[:,i]\n",
    "            row = x[x!=0]\n",
    "            col = y[y!=0]\n",
    "            if len(row) != len(set(row)):\n",
    "                return False \n",
    "            if len(col) != len(set(col)):\n",
    "                return False\n",
    "            \n",
    "        # check the number counts as determined above are not\n",
    "        # breached\n",
    "        if not self.test_totals(test):\n",
    "            return False\n",
    "        \n",
    "        # check the max cells are not adjacent\n",
    "        if not self.test_neigh(test):\n",
    "            return False\n",
    "            \n",
    "        return True\n",
    "   \n",
    "    @staticmethod\n",
    "    @nb.njit\n",
    "    def test_totals(grid):\n",
    "        # entering the count limitations as calculated above (2 ways of forming 12)\n",
    "        totals = np.array([2,3,4,5,6,8,10,12,15,20])\n",
    "        counts = np.array([7,7,7,7,4,2,1 ,7 ,4 ,2 ])\n",
    "        for i in range(len(totals)):\n",
    "            if np.sum(np.ravel(grid) == totals[i]) > counts[i]:\n",
    "                return False  \n",
    "        return True\n",
    "    \n",
    "    @staticmethod\n",
    "    @nb.njit\n",
    "    def test_neigh(grid):\n",
    "        tots = np.array([8,10,12,15,20])\n",
    "        for row in range(7):\n",
    "            for col in range(7):\n",
    "                if grid[row,col] in tots:\n",
    "                    if row > 0:\n",
    "                        if grid[row-1,col] in tots:\n",
    "                            return False\n",
    "                    if row < 6:\n",
    "                        if grid[row+1,col] in tots: \n",
    "                            return False\n",
    "                    if col > 0:\n",
    "                        if grid[row,col-1] in tots: \n",
    "                            return False\n",
    "                    if col < 6:\n",
    "                        if grid[row,col+1] in tots: \n",
    "                            return False \n",
    "        return True\n",
    "     \n",
    "    def counter(self):\n",
    "            sum = []\n",
    "            for i in range(np.max(groups)):\n",
    "                sum.append(np.max(self.fixed[self.groups==i]))\n",
    "            print(\"Sum is : {} \".format(np.sum(sum)))"
   ]
  },
  {
   "cell_type": "code",
   "execution_count": 213,
   "metadata": {
    "colab": {
     "base_uri": "https://localhost:8080/",
     "height": 374
    },
    "id": "zexQ8t1kT1W3",
    "outputId": "7c2aec4e-d2fb-45d8-fc7e-679051faafed"
   },
   "outputs": [
    {
     "name": "stdout",
     "output_type": "stream",
     "text": [
      "Sum is : 210 \n",
      "Found 1 solutions in 9.905801599998085 seconds\n",
      "\n"
     ]
    },
    {
     "data": {
      "image/png": "[encoded data removed]",
      "text/plain": [
       "<Figure size 576x288 with 2 Axes>"
      ]
     },
     "metadata": {
      "needs_background": "light"
     },
     "output_type": "display_data"
    }
   ],
   "source": [
    "# Find a quick solution\n",
    "groups=np.array([[ 0,  1,  1,  2,  2,  3,  3],\n",
    "                 [ 0,  0,  1,  4,  2,  3,  5],\n",
    "                 [ 6,  6,  4,  4,  7,  5,  5],\n",
    "                 [ 8,  6,  9,  9,  7,  7, 10],\n",
    "                 [ 8,  8, 11,  9, 12, 10, 10],\n",
    "                 [13, 11, 11, 16, 12, 12, 14],\n",
    "                 [13, 13, 15, 15, 15, 14, 14]],dtype=int)\n",
    "\n",
    "fixed =np.zeros((7,7),dtype=int)\n",
    "fixed[groups==16] = 1\n",
    "\n",
    "start = time.perf_counter()\n",
    "matrix = Matrix(groups,fixed,possible_cells,early_stop=True)  \n",
    "#print(len(matrix.perm_splits))\n",
    "matrix.solve()\n",
    "print(\"Found {} solutions in {} seconds\\n\".format(len(matrix.solution),time.perf_counter()-start))"
   ]
  },
  {
   "cell_type": "code",
   "execution_count": 205,
   "metadata": {
    "colab": {
     "base_uri": "https://localhost:8080/",
     "height": 374
    },
    "id": "zexQ8t1kT1W3",
    "outputId": "7c2aec4e-d2fb-45d8-fc7e-679051faafed"
   },
   "outputs": [
    {
     "name": "stdout",
     "output_type": "stream",
     "text": [
      "Sum is : 210 \n",
      "Found 1 solutions in 139.61629390000053 seconds\n",
      "\n"
     ]
    },
    {
     "data": {
      "image/png": "[encoded data removed]",
      "text/plain": [
       "<Figure size 576x288 with 2 Axes>"
      ]
     },
     "metadata": {
      "needs_background": "light"
     },
     "output_type": "display_data"
    }
   ],
   "source": [
    "# Find the solution given\n",
    "groups=np.array([[ 0,  1,  1,  2,  2,  3,  3],\n",
    "                 [ 0,  0,  1,  4,  2,  3,  5],\n",
    "                 [ 6,  6,  4,  4,  7,  5,  5],\n",
    "                 [ 8,  6,  9,  9,  7,  7, 10],\n",
    "                 [ 8,  8, 11,  9, 12, 10, 10],\n",
    "                 [13, 11, 11, 15, 12, 12, 14],\n",
    "                 [13, 13, 15, 15, 16, 14, 14]],dtype=int)\n",
    "\n",
    "\n",
    "fixed =np.zeros((7,7),dtype=int)\n",
    "fixed[groups==16] = 1\n",
    "start = time.perf_counter()\n",
    "matrix = Matrix(groups,fixed,possible_cells,early_stop=True)  \n",
    "matrix.solve()\n",
    "print(\"Found {} solutions in {} seconds\\n\".format(len(matrix.solution),time.perf_counter()-start))"
   ]
  },
  {
   "cell_type": "code",
   "execution_count": 122,
   "metadata": {
    "colab": {
     "base_uri": "https://localhost:8080/",
     "height": 374
    },
    "id": "zexQ8t1kT1W3",
    "outputId": "7c2aec4e-d2fb-45d8-fc7e-679051faafed"
   },
   "outputs": [
    {
     "name": "stdout",
     "output_type": "stream",
     "text": [
      "We received a lot of entries for this month’s puzzle, but only a few achieved the minimum possible sum of 210 . A few entries this month noted that the constraints in the problem can be shown to imply a lower-bound sum of 210. That being said, finding an arrangement turned out to be quite difficult. To the left is one of the 7 possible configurations that achieve this minimum sum. (And the only one to use ‘1, 3, 5, 15’ in the tetromino; the other 6 all use ‘1, 3, 4, 12’.)\n"
     ]
    }
   ],
   "source": [
    "url='https://www.janestreet.com/puzzles/solutions/december-2018-solution/'\n",
    "res = requests.get(url)\n",
    "soup = BeautifulSoup(res.content, 'html.parser')\n",
    "x =[text for text in soup.body.stripped_strings]\n",
    "\n",
    "print(\" \".join(x[7:11]))"
   ]
  },
  {
   "cell_type": "markdown",
   "metadata": {
    "id": "ld_NFUIfT1W9"
   },
   "source": [
    "### Puzzle solution\n",
    "<img src=\"https://www.janestreet.com/puzzles/wp-content/uploads/2019/01/20181228_block_party_2_ans.png\" width=\"250\" height=\"400\">"
   ]
  },
  {
   "cell_type": "code",
   "execution_count": null,
   "metadata": {},
   "outputs": [],
   "source": []
  }
 ],
 "metadata": {
  "colab": {
   "include_colab_link": true,
   "name": "JaneSt-Feb18.ipynb",
   "provenance": []
  },
  "kernelspec": {
   "display_name": "Python 3",
   "language": "python",
   "name": "python3"
  },
  "language_info": {
   "codemirror_mode": {
    "name": "ipython",
    "version": 3
   },
   "file_extension": ".py",
   "mimetype": "text/x-python",
   "name": "python",
   "nbconvert_exporter": "python",
   "pygments_lexer": "ipython3",
   "version": "3.7.7"
  }
 },
 "nbformat": 4,
 "nbformat_minor": 4
}
