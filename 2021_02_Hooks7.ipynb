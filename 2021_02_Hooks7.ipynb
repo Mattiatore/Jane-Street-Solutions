{
 "cells": [
  {
   "cell_type": "code",
   "execution_count": 2,
   "metadata": {
    "id": "Oq1xibzMT1Wl"
   },
   "outputs": [],
   "source": [
    "import numpy as np\n",
    "import pandas as pd\n",
    "import time\n",
    "import seaborn as sns\n",
    "import matplotlib.pyplot as plt\n",
    "import requests\n",
    "from bs4 import BeautifulSoup\n",
    "import itertools\n",
    "from copy import deepcopy as dcopy,copy\n",
    "from skimage.morphology import label\n",
    "from scipy.ndimage import measurements"
   ]
  },
  {
   "cell_type": "code",
   "execution_count": 3,
   "metadata": {
    "id": "ICTfvjZUT1Wr"
   },
   "outputs": [
    {
     "name": "stdout",
     "output_type": "stream",
     "text": [
      "The grid below can be partitioned into 9 L-shaped “hooks”. The largest is 9-by-9 (contains 17 squares), the next largest is 8-by-8 (contains 15 squares), and so on. The smallest hook is just a single square. Find where the hooks are located, and place nine 9’s in the largest hook, eight 8’s in the next-largest, etc., down to one 1 in the smallest hook. The filled squares must form a connected region. (Squares are “connected” if they are orthogonally adjacent.) Furthermore, every 2-by-2 region must contain at least one unfilled square. The sum of the values in each of the connected shaded regions must be the same. The answer to this puzzle is the product of the areas of the connected groups of empty squares in the completed grid.\n"
     ]
    }
   ],
   "source": [
    "# Hooks again but quite different to the previous ones.\n",
    "# 19 regions each which must add up to 15\n",
    "# the 2x2 will come into play for the square regions at the bottom\n",
    "# guess we iterate through the hooks and test if 15 can be made from \n",
    "# each potential placement within each region\n",
    "\n",
    "url='https://www.janestreet.com/puzzles/hooks-7/'\n",
    "res = requests.get(url)\n",
    "soup = BeautifulSoup(res.content, 'html.parser')\n",
    "x =[text for text in soup.body.stripped_strings]\n",
    "\n",
    "print(\" \".join(x[7:11]))"
   ]
  },
  {
   "cell_type": "markdown",
   "metadata": {
    "id": "U9Yh1D3HT1Ws"
   },
   "source": [
    "### Puzzle details\n",
    "<img src=\"https://www.janestreet.com/puzzles/wp-content/uploads/2021/02/20210202_hooks_7.png\" width=\"500\" height=\"300\">"
   ]
  },
  {
   "cell_type": "code",
   "execution_count": 11,
   "metadata": {
    "id": "0VI0NM6ET1Wt"
   },
   "outputs": [
    {
     "data": {
      "image/png": "[encoded data removed]",
      "text/plain": [
       "<Figure size 360x360 with 1 Axes>"
      ]
     },
     "metadata": {
      "needs_background": "light"
     },
     "output_type": "display_data"
    }
   ],
   "source": [
    "#Setup the constraints\n",
    "# use 20 for the filled cells and treat as smaller \n",
    "# hooks with a different total\n",
    "\n",
    "groups = np.array([[0 ,0 ,0 ,0 ,1 ,2 ,2 ,3 ,3 ],\n",
    "                   [0 ,0 ,6 ,0 ,1 ,2 ,3 ,3 ,4 ],\n",
    "                   [5 ,0 ,6 ,0 ,20 ,4 ,4 ,4 ,4 ],\n",
    "                   [5 ,5 ,6 ,6 ,0 ,4 ,8 ,9 ,9 ],\n",
    "                   [7 ,7 ,6 ,16,0 ,4 ,8 ,9 ,10],\n",
    "                   [18,7 ,16,16,15,8 ,8 ,10,10],\n",
    "                   [18,18,16,15,20,15,8 ,11,11],\n",
    "                   [17,17,16,15,14,13,13,12,12],\n",
    "                   [17,17,16,15,14,13,13,12,12]                   \n",
    "                 ])\n",
    "\n",
    "fixed = np.array([[0,0,0,0,0,0,0,0,0],\n",
    "                  [0,0,0,0,0,0,0,0,0],\n",
    "                  [0,0,0,0,4,0,0,0,0],\n",
    "                  [0,0,0,0,0,0,0,0,0],\n",
    "                  [0,0,0,0,0,0,0,0,0],\n",
    "                  [0,0,0,0,0,0,0,0,0],\n",
    "                  [0,0,0,0,5,0,0,0,0],\n",
    "                  [0,0,0,0,0,0,0,0,0],\n",
    "                  [0,0,0,0,0,0,0,0,0]\n",
    "                 ])\n",
    "\n",
    "def grid_print(groups,numbers):\n",
    "    fig,ax = plt.subplots(1,1,figsize=(5,5))\n",
    "    x = np.array((numbers).astype('int').astype('str'))\n",
    "    x[x==\"0\"] =\"-\"\n",
    "    ax = sns.heatmap(groups,annot=x,cbar=False,cmap=\"tab20\",fmt=\"\",linewidths=0.25)\n",
    "    ax.axis(\"off\")\n",
    "    \n",
    "grid_print(groups,fixed)\n",
    "\n",
    "# use -1 to denote unfilled\n",
    "fixed[fixed==0] =-1"
   ]
  },
  {
   "cell_type": "code",
   "execution_count": 137,
   "metadata": {
    "colab": {
     "base_uri": "https://localhost:8080/",
     "height": 374
    },
    "id": "zexQ8t1kT1W3",
    "outputId": "7c2aec4e-d2fb-45d8-fc7e-679051faafed"
   },
   "outputs": [],
   "source": [
    "class Matrix():\n",
    "    def __init__(self,groups):\n",
    "        self.groups = groups\n",
    "        self.potential_grids = [[-9,np.ones((9,9),dtype=int)*-1,[0,0,9,9]]] # list of all grids not yet ruled out.[Level,grid,coordinates of the grid yet to be filled]\n",
    "        self.solution = []\n",
    "        self.totals =[11,15,15,15,15,15,15,15,15,15,15,15,15,15,15,10,15,15,15]\n",
    "        self.splits ={}\n",
    "        for i in range(19):\n",
    "            length = np.sum(groups==i)\n",
    "            self.splits[i] =  [list(i) for i in itertools.product([0, 1], repeat=length)]\n",
    "     \n",
    "    #########################################################\n",
    "    # Code to get the initial valid grids \n",
    "\n",
    "    def add_layer(self,grid,coords,lvl,alignment):\n",
    "        row_start,col_start,row_end, col_end = coords\n",
    "    \n",
    "        if alignment == 0:\n",
    "            grid[row_start:row_end,col_start] =lvl\n",
    "            grid[row_start,col_start:col_end] =lvl\n",
    "            row_start +=1\n",
    "            col_start +=1\n",
    "    \n",
    "        if alignment == 1:\n",
    "            grid[row_start:row_end,col_start] =lvl\n",
    "            grid[row_end-1,col_start:col_end] =lvl\n",
    "            row_end -=1\n",
    "            col_start +=1 \n",
    "\n",
    "        if alignment == 2:\n",
    "            grid[row_start:row_end,col_end-1] =lvl\n",
    "            grid[row_start,col_start:col_end] =lvl\n",
    "            row_start +=1\n",
    "            col_end -=1\n",
    "        \n",
    "        if alignment == 3:\n",
    "            grid[row_start:row_end,col_end-1] =lvl\n",
    "            grid[row_end-1,col_start:col_end] =lvl\n",
    "            row_end -=1\n",
    "            col_end -=1 \n",
    "    \n",
    "        coords = [row_start,col_start,row_end, col_end]\n",
    "        \n",
    "        return grid,coords\n",
    "    \n",
    "    def check_grid(self,grid):\n",
    "        isValid = 1\n",
    "        #check the 2 fixed numbers\n",
    "        if (grid[2,4] !=-1) & (grid[2,4] !=4):\n",
    "            return False\n",
    "        if (grid[6,4] != -1) &(grid[6,4] != 5):\n",
    "            return False\n",
    "        \n",
    "        for i in range(19):\n",
    "            group = grid[groups==i]\n",
    "            if -1 not in group:\n",
    "                isValid *= self.check_group(group,self.totals[i],self.splits[i])\n",
    "\n",
    "        return isValid\n",
    "                    \n",
    "    def check_group(self,group,param,splits):\n",
    "        for split in splits:\n",
    "            test = group * split\n",
    "            if self.valid_group(test,param):\n",
    "                    return 1\n",
    "        return 0\n",
    "    \n",
    "\n",
    "    def valid_group(self,pos,param):\n",
    "        if np.sum(pos) !=param:\n",
    "                return False\n",
    "        return True\n",
    "    \n",
    "    #########################################################\n",
    "    # Code to get the cells forced by the group params\n",
    "    # loop through all the splits for each group\n",
    "    # common to all the splits\n",
    "    # compare the 2 different forced matricies, if there are inconsistencies \n",
    "    # first value returned is zero and it's flagged as inconsistent\n",
    "    \n",
    "    def forced_cells(self,hook):\n",
    "        forced = np.ones((9,9),dtype=int)*-1\n",
    "        forced[2,4] == 1\n",
    "        forced[6,4] == 1        \n",
    "        # loop through the params to determine forced cells\n",
    "        for i in range(19):\n",
    "            forced[self.groups==i] = self.forced_group(hook[self.groups==i],self.totals[i],self.splits[i])\n",
    "       \n",
    "        \n",
    "        # set the cell with 1 in as 1 then loop through and fill in cells neeeded to ensure connectivity \n",
    "        forced[hook==1] =1\n",
    "        changes =1\n",
    "        while changes >0:\n",
    "\n",
    "            changes = 0\n",
    "            for i,j in itertools.product(range(9),range(9)):\n",
    "                if forced[i,j] == -1:\n",
    "                    test =forced*hook\n",
    "                    test[i,j] = 0\n",
    "                    if np.max(label(test!=0,connectivity=1)) > 1:\n",
    "                    #if placing zero would break connectivity set 1\n",
    "                        forced[i,j]=1\n",
    "                        changes =1\n",
    "        \n",
    "        test =forced*hook\n",
    "        # check that the forced cells do not violate the count\n",
    "        for i in range(1,10):\n",
    "            if np.sum(test==i) > i:\n",
    "                return 0,forced\n",
    "            \n",
    "        # check that the forced cells do not violate 2x2\n",
    "        if self.twobytwo(test):\n",
    "            return 0,forced\n",
    "        \n",
    "        return  1,forced\n",
    "    \n",
    "\n",
    "    \n",
    "      \n",
    "    def forced_group(self,group,param,splits):\n",
    "        poss_group =[]\n",
    "        length = len(splits[0])\n",
    "        for split in splits:\n",
    "            test = group * split\n",
    "            if self.valid_group(test,param):\n",
    "                    poss_group.append(split)\n",
    "        poss_array = np.array(poss_group)\n",
    "        forced = np.ones(length,dtype=int)*-1\n",
    "        for i in range(length):\n",
    "            if np.all(poss_array[:,i]==1):\n",
    "                forced[i] =1\n",
    "            elif np.all(poss_array[:,i]==0):\n",
    "                forced[i] =0\n",
    "        return forced\n",
    "    \n",
    "    def twobytwo(self,grid):\n",
    "        for i,j in itertools.product(range(9),range(9)):\n",
    "            if (i > 0 and j > 0 and \n",
    "                grid[i,j] > 0 and\n",
    "                grid[i-1,j-1] > 0 and \n",
    "                grid[i-1,j] > 0 and \n",
    "                grid[i,j-1] > 0):\n",
    "                    return True\n",
    "    \n",
    "            if (i > 0 and j < 6 and\n",
    "                grid[i,j] > 0 and\n",
    "                grid[i-1,j+1] > 0 and \n",
    "                grid[i-1,j] > 0 and \n",
    "                grid[i,j+1] > 0):\n",
    "                    return True\n",
    "    \n",
    "            if (i < 6 and j > 0 and\n",
    "                grid[i,j] > 0 and\n",
    "                grid[i+1,j-1] > 0 and \n",
    "                grid[i+1,j] > 0 and \n",
    "                grid[i,j-1] > 0):\n",
    "                    return True\n",
    "\n",
    "    \n",
    "            if (i < 6 and j < 6 and\n",
    "                grid[i,j] > 0 and\n",
    "                grid[i+1,j+1] > 0 and \n",
    "                grid[i+1,j] > 0 and \n",
    "                grid[i,j+1] > 0):\n",
    "                    return True\n",
    "    \n",
    "        return False\n",
    "    \n",
    "########################################################\n",
    "    # Fill the final cells by backtracking\n",
    "        \n",
    "        \n",
    "    def fill_rest(self,grid,hooks):\n",
    "        for row,col in itertools.product(range(9),range(9)):\n",
    "            if grid[row,col]==-1:\n",
    "                for digit in range(2):\n",
    "                    if self.possible(digit,row,col,grid,hooks):\n",
    "                        grid[row,col] = digit\n",
    "                        self.fill_rest(grid,hooks)\n",
    "                        grid[row,col] = -1\n",
    "                return\n",
    "        sol_print(grid,hooks)\n",
    "        print(\"The product of the areas is : {:,.0f}\".format(self.areas(grid)))\n",
    "        sums = np.zeros(19)\n",
    "        #for i in range(19):\n",
    "        #    sums[i] = np.sum((grid*hooks)[self.groups==i])\n",
    "        #print(sums)\n",
    "                                \n",
    "                            \n",
    "    def possible(self,digit,row,col,grid,hooks):\n",
    "        test = grid*hooks\n",
    "        test[row,col] = hooks[row,col]*digit\n",
    "\n",
    "    \n",
    "    #check the placement doesn't break connectivity\n",
    "        if np.max(label(test!=0,connectivity=1)) > 1:\n",
    "            return False\n",
    "        \n",
    "    #check the placement doesn't break 2 by 2\n",
    "        if self.twobytwo(test):\n",
    "            return False\n",
    "    \n",
    "     #check the placement doesn't exceed the permitted count of that number\n",
    "        for num in range(2,10):\n",
    "            if np.sum(test == num) > num:\n",
    "                   return False\n",
    "                \n",
    "        #check groups\n",
    "        for i in range(19):\n",
    "            group = test[groups==i]\n",
    "            if np.all(group > -1):\n",
    "                if not self.valid_group(group,self.totals[i]):\n",
    "                    return False\n",
    "      \n",
    "        return True\n",
    "        \n",
    "    ##############################################\n",
    "    # Get the products of the areas of the connected cells\n",
    "    \n",
    "    def areas(self,grid):\n",
    "        labels, num = measurements.label(np.logical_not(grid!=0))\n",
    "        areas = measurements.sum(np.logical_not(grid!=0), labels, index=range(1, num+1))\n",
    "        return np.prod(areas)\n",
    "    \n",
    "    \n",
    "    \n",
    "    ###############################################\n",
    "    # Main solver.\n",
    "    \n",
    "    def solve(self):  \n",
    "        while len(self.potential_grids) > 0:\n",
    "            temp_grid = self.potential_grids.pop(0)\n",
    "            #create the potential rotations at the given level\n",
    "            rotations = []\n",
    "        \n",
    "            for alignment in range(4):\n",
    "                lvl,grid,coords = dcopy(temp_grid)\n",
    "                grid,coords = self.add_layer(grid,coords,-lvl,alignment)\n",
    "                if lvl != -1 :\n",
    "                    rotations.append([lvl+1,grid,coords])\n",
    "                else:\n",
    "                     rotations = [[lvl+1,grid,coords]]\n",
    "    \n",
    "            #check valid grids (where the sum can be made from available digits) and save the ones that work\n",
    "            for i in range(len(rotations)):\n",
    "                lvl,g,coords = rotations[i]\n",
    "                if self.check_grid(g):\n",
    "                    if lvl !=0:    \n",
    "                        self.potential_grids.append([lvl,g,coords])\n",
    "                    else:\n",
    "                        self.solution.append(g)\n",
    "                       \n",
    "                      \n",
    "        print(\"There are {} valid hook placements\\n\".format(len(self.solution)))\n",
    "\n",
    "\n",
    "        #solve each grid in the cut down list\n",
    "        forced_grids = []\n",
    "        for i in range(len(self.solution)):\n",
    "            #print(\"Checking: \",i+1)\n",
    "            hooks = self.solution[i]\n",
    "            \n",
    "            flag,forced_grid = self.forced_cells(hooks)\n",
    "            if flag:\n",
    "                #for valid forced grids solve the final matrix\n",
    "                #print(\"still to solve\",np.sum(forced_grid==-1))\n",
    "                self.fill_rest(forced_grid,hooks)\n",
    "            #else:\n",
    "                #print(\"***INCONSISTENT***\")\n",
    "                \n",
    "\n",
    "                \n",
    "#########################\n",
    "# Code to print in a \"nice\" format\n",
    "                            \n",
    "def sol_print(solved,matrix):\n",
    "    fig,ax = plt.subplots(1,1,figsize=(5,5))\n",
    "    x = np.array((solved*matrix).astype('int').astype('str'))\n",
    "    x[x==\"0\"] =\"-\"\n",
    "    ax = sns.heatmap(matrix,annot=x,cbar=False,cmap=\"Set3_r\",fmt=\"\",linewidths=0.25)\n",
    "    ax.axis(\"off\")\n",
    "    "
   ]
  },
  {
   "cell_type": "code",
   "execution_count": 138,
   "metadata": {
    "colab": {
     "base_uri": "https://localhost:8080/",
     "height": 374
    },
    "id": "zexQ8t1kT1W3",
    "outputId": "7c2aec4e-d2fb-45d8-fc7e-679051faafed"
   },
   "outputs": [
    {
     "name": "stdout",
     "output_type": "stream",
     "text": [
      "There are 172 valid hook placements\n",
      "\n",
      "The product of the areas is : 2,200\n",
      "\n",
      " Solution took 602.0880 seconds\n",
      "\n"
     ]
    },
    {
     "data": {
      "image/png": "[encoded data removed]",
      "text/plain": [
       "<Figure size 360x360 with 1 Axes>"
      ]
     },
     "metadata": {
      "needs_background": "light"
     },
     "output_type": "display_data"
    }
   ],
   "source": [
    "start = time.perf_counter()\n",
    "test = Matrix(groups)\n",
    "test.solve()\n",
    "stop =  time.perf_counter()\n",
    "print('\\n Solution took {:0.4f} seconds\\n'.format((stop-start)))"
   ]
  },
  {
   "cell_type": "code",
   "execution_count": 139,
   "metadata": {
    "colab": {
     "base_uri": "https://localhost:8080/",
     "height": 374
    },
    "id": "zexQ8t1kT1W3",
    "outputId": "7c2aec4e-d2fb-45d8-fc7e-679051faafed"
   },
   "outputs": [
    {
     "name": "stdout",
     "output_type": "stream",
     "text": [
      "\n"
     ]
    }
   ],
   "source": [
    "url='https://www.janestreet.com/puzzles/solutions/february-2021-solution/'\n",
    "res = requests.get(url)\n",
    "soup = BeautifulSoup(res.content, 'html.parser')\n",
    "x =[text for text in soup.body.stripped_strings]\n",
    "\n",
    "print(\" \".join(x[7:9]))"
   ]
  },
  {
   "cell_type": "markdown",
   "metadata": {
    "id": "ld_NFUIfT1W9"
   },
   "source": [
    "### Puzzle solution\n",
    "<img src=\"\" width=\"3\" height=\"4\">"
   ]
  },
  {
   "cell_type": "code",
   "execution_count": null,
   "metadata": {},
   "outputs": [],
   "source": []
  }
 ],
 "metadata": {
  "colab": {
   "include_colab_link": true,
   "name": "JaneSt-Feb18.ipynb",
   "provenance": []
  },
  "kernelspec": {
   "display_name": "Python 3",
   "language": "python",
   "name": "python3"
  },
  "language_info": {
   "codemirror_mode": {
    "name": "ipython",
    "version": 3
   },
   "file_extension": ".py",
   "mimetype": "text/x-python",
   "name": "python",
   "nbconvert_exporter": "python",
   "pygments_lexer": "ipython3",
   "version": "3.7.7"
  }
 },
 "nbformat": 4,
 "nbformat_minor": 4
}
