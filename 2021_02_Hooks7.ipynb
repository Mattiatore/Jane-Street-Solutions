{
 "cells": [
  {
   "cell_type": "code",
   "execution_count": 1,
   "metadata": {
    "id": "Oq1xibzMT1Wl"
   },
   "outputs": [],
   "source": [
    "import numpy as np\n",
    "import pandas as pd\n",
    "import time\n",
    "import seaborn as sns\n",
    "import matplotlib.pyplot as plt\n",
    "import requests\n",
    "from bs4 import BeautifulSoup\n",
    "import itertools\n",
    "from copy import deepcopy as dcopy,copy\n",
    "from skimage.morphology import label\n",
    "from scipy.ndimage import measurements"
   ]
  },
  {
   "cell_type": "code",
   "execution_count": 2,
   "metadata": {
    "id": "ICTfvjZUT1Wr"
   },
   "outputs": [
    {
     "name": "stdout",
     "output_type": "stream",
     "text": [
      "The grid below can be partitioned into 9 L-shaped “hooks”. The largest is 9-by-9 (contains 17 squares), the next largest is 8-by-8 (contains 15 squares), and so on. The smallest hook is just a single square. Find where the hooks are located, and place nine 9’s in the largest hook, eight 8’s in the next-largest, etc., down to one 1 in the smallest hook. The filled squares must form a connected region. (Squares are “connected” if they are orthogonally adjacent.) Furthermore, every 2-by-2 region must contain at least one unfilled square. The sum of the values in each of the connected shaded regions must be the same. The answer to this puzzle is the product of the areas of the connected groups of empty squares in the completed grid.\n"
     ]
    }
   ],
   "source": [
    "# Working through the hooks puzzles.\n",
    "# Back to my solution for hooks 3 with forced cells and then backtracking. \n",
    "# Determine the valid hook placements\n",
    "# then loop through the rows and columns to determine forced cells \n",
    "# if these are mismatched on the row and column loop flag as inconsistent\n",
    "# then solve the final grid with backtracking\n",
    "\n",
    "url='https://www.janestreet.com/puzzles/hooks-7/'\n",
    "res = requests.get(url)\n",
    "soup = BeautifulSoup(res.content, 'html.parser')\n",
    "x =[text for text in soup.body.stripped_strings]\n",
    "\n",
    "print(\" \".join(x[7:11]))"
   ]
  },
  {
   "cell_type": "markdown",
   "metadata": {
    "id": "U9Yh1D3HT1Ws"
   },
   "source": [
    "### Puzzle details\n",
    "<img src=\"https://www.janestreet.com/puzzles/wp-content/uploads/2021/02/20210202_hooks_7.png\" width=\"500\" height=\"300\">"
   ]
  },
  {
   "cell_type": "code",
   "execution_count": 33,
   "metadata": {
    "id": "0VI0NM6ET1Wt"
   },
   "outputs": [
    {
     "data": {
      "image/png": "[encoded data removed]",
      "text/plain": [
       "<Figure size 360x360 with 1 Axes>"
      ]
     },
     "metadata": {
      "needs_background": "light"
     },
     "output_type": "display_data"
    }
   ],
   "source": [
    "#Setup the constraints\n",
    "\n",
    "groups = np.array([[0 ,0 ,0 ,0 ,1 ,2 ,2 ,3 ,3 ],\n",
    "                   [0 ,0 ,6 ,0 ,1 ,2 ,3 ,3 ,4 ],\n",
    "                   [5 ,0 ,6 ,0 ,0 ,4 ,4 ,4 ,4 ],\n",
    "                   [5 ,5 ,6 ,6 ,0 ,4 ,8 ,9 ,9 ],\n",
    "                   [7 ,7 ,6 ,16,0 ,4 ,8 ,9 ,10],\n",
    "                   [18,7 ,16,16,15,8 ,8 ,10,10],\n",
    "                   [18,18,16,15,15,15,8 ,11,11],\n",
    "                   [17,17,16,15,14,13,13,12,12],\n",
    "                   [17,17,16,15,14,13,13,12,12]                   \n",
    "                 ])\n",
    "\n",
    "fixed = np.array([[0,0,0,0,0,0,0,0,0],\n",
    "                  [0,0,0,0,0,0,0,0,0],\n",
    "                  [0,0,0,0,4,0,0,0,0],\n",
    "                  [0,0,0,0,0,0,0,0,0],\n",
    "                  [0,0,0,0,0,0,0,0,0],\n",
    "                  [0,0,0,0,0,0,0,0,0],\n",
    "                  [0,0,0,0,5,0,0,0,0],\n",
    "                  [0,0,0,0,0,0,0,0,0],\n",
    "                  [0,0,0,0,0,0,0,0,0]\n",
    "                 ])\n",
    "\n",
    "def grid_print(groups,numbers):\n",
    "    fig,ax = plt.subplots(1,1,figsize=(5,5))\n",
    "    x = np.array((numbers).astype('int').astype('str'))\n",
    "    x[x==\"0\"] =\"-\"\n",
    "    ax = sns.heatmap(groups,annot=x,cbar=False,cmap=\"tab20\",fmt=\"\",linewidths=0.25)\n",
    "    ax.axis(\"off\")\n",
    "    \n",
    "grid_print(groups,groups) "
   ]
  },
  {
   "cell_type": "code",
   "execution_count": 30,
   "metadata": {
    "colab": {
     "base_uri": "https://localhost:8080/",
     "height": 374
    },
    "id": "zexQ8t1kT1W3",
    "outputId": "7c2aec4e-d2fb-45d8-fc7e-679051faafed"
   },
   "outputs": [
    {
     "name": "stdout",
     "output_type": "stream",
     "text": [
      "\n"
     ]
    }
   ],
   "source": [
    "url='https://www.janestreet.com/puzzles/solutions/february-2021-solution/'\n",
    "res = requests.get(url)\n",
    "soup = BeautifulSoup(res.content, 'html.parser')\n",
    "x =[text for text in soup.body.stripped_strings]\n",
    "\n",
    "print(\" \".join(x[7:9]))"
   ]
  },
  {
   "cell_type": "markdown",
   "metadata": {
    "id": "ld_NFUIfT1W9"
   },
   "source": [
    "### Puzzle solution\n",
    "<img src=\"\" width=\"300\" height=\"400\">"
   ]
  },
  {
   "cell_type": "code",
   "execution_count": 31,
   "metadata": {},
   "outputs": [
    {
     "name": "stdout",
     "output_type": "stream",
     "text": [
      "15.0\n"
     ]
    }
   ],
   "source": [
    "x =0\n",
    "for i in range(1,10):\n",
    "    x += i**2\n",
    "print(x/19)"
   ]
  },
  {
   "cell_type": "code",
   "execution_count": null,
   "metadata": {},
   "outputs": [],
   "source": [
    "\n"
   ]
  },
  {
   "cell_type": "code",
   "execution_count": null,
   "metadata": {},
   "outputs": [],
   "source": []
  }
 ],
 "metadata": {
  "colab": {
   "include_colab_link": true,
   "name": "JaneSt-Feb18.ipynb",
   "provenance": []
  },
  "kernelspec": {
   "display_name": "Python 3",
   "language": "python",
   "name": "python3"
  },
  "language_info": {
   "codemirror_mode": {
    "name": "ipython",
    "version": 3
   },
   "file_extension": ".py",
   "mimetype": "text/x-python",
   "name": "python",
   "nbconvert_exporter": "python",
   "pygments_lexer": "ipython3",
   "version": "3.7.7"
  }
 },
 "nbformat": 4,
 "nbformat_minor": 4
}
