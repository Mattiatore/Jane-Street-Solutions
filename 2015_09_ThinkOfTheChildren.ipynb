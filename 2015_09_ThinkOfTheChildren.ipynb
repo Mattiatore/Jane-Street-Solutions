{
 "cells": [
  {
   "cell_type": "code",
   "execution_count": 1,
   "metadata": {
    "id": "Oq1xibzMT1Wl"
   },
   "outputs": [],
   "source": [
    "import numpy as np\n",
    "import pandas as pd\n",
    "import time\n",
    "import seaborn as sns\n",
    "import matplotlib.pyplot as plt\n",
    "import requests\n",
    "from bs4 import BeautifulSoup\n",
    "import itertools\n",
    "from z3 import *"
   ]
  },
  {
   "cell_type": "code",
   "execution_count": 10,
   "metadata": {
    "id": "ICTfvjZUT1Wr"
   },
   "outputs": [
    {
     "name": "stdout",
     "output_type": "stream",
     "text": [
      "Puzzle\n",
      "~~~~~~\n",
      "Andy: How many children 18 or younger do you have? Bob: 3 Andy: How old are they? Bob: Well, the product of their ages is 72, and the sum of their ages is the same as my address. Andy: I still can’t determine their ages. Bob: Oh, I should mention that my oldest child is older than either of my other 2 children. Andy: Ok, now I know how old your children are. Instead of 72, what is the next largest number that Bob could have said, such that the rest of the conversation could have proceeded the same way?\n"
     ]
    }
   ],
   "source": [
    "url='https://www.janestreet.com/puzzles/think-of-the-children/'\n",
    "res = requests.get(url)\n",
    "soup = BeautifulSoup(res.content, 'html.parser')\n",
    "y =[text for text in soup.body.stripped_strings]\n",
    "print(\"Puzzle\")\n",
    "print(\"~~~~~~\")\n",
    "print(\" \".join(y[8:16]))"
   ]
  },
  {
   "cell_type": "code",
   "execution_count": 11,
   "metadata": {},
   "outputs": [],
   "source": [
    "def get_dup_facts(number):\n",
    "    facts = [[i,j,k] for i in range(1,19) for j in range(i,19) for k in range(j,19) if i*j*k ==number]\n",
    "    sum_facts = [sum(i) for i in facts]\n",
    "    duplicates = ([x for n, x in enumerate(sum_facts) if x in sum_facts[:n]])\n",
    "    return [x for x in facts if np.sum(x) in duplicates]"
   ]
  },
  {
   "cell_type": "code",
   "execution_count": 20,
   "metadata": {},
   "outputs": [
    {
     "name": "stdout",
     "output_type": "stream",
     "text": [
      "The factors of 72 with the same sums are :\n",
      "[[2, 6, 6], [3, 3, 8]]\n",
      "Look for the next one with 2 different factors summing to the same number with duplicates\n",
      "\n",
      "Searching ...\n",
      "Solved in 0.0309 seconds\n",
      "\n",
      "The next solution is 288 [[2, 12, 12], [4, 4, 18]]\n"
     ]
    }
   ],
   "source": [
    "start=time.time()\n",
    "\n",
    "print(\"The factors of 72 with the same sums are :\")\n",
    "print(get_dup_facts(72))\n",
    "\n",
    "print(\"Look for the next one with 2 different factors summing to the same number with duplicates\")\n",
    "print(\"\\nSearching ...\")\n",
    "for n in range(73,1000):\n",
    "    dupfacts = get_dup_facts(n)\n",
    "    if len(dupfacts) ==2:\n",
    "        if ((dupfacts[0][1] == dupfacts[0][2]) & (dupfacts[1][0] == dupfacts[1][1])) | ((dupfacts[0][0] == dupfacts[0][1]) & (dupfacts[1][1] == dupfacts[1][2])):\n",
    "            print(\"Solved in {:.4f} seconds\\n\".format(time.time()-start))\n",
    "            print(\"The next solution is\",n,dupfacts)\n",
    "            break"
   ]
  },
  {
   "cell_type": "code",
   "execution_count": 21,
   "metadata": {},
   "outputs": [
    {
     "name": "stdout",
     "output_type": "stream",
     "text": [
      "Solution\n",
      "~~~~~~~~\n",
      "In order for the conversation to proceed as it did, the product of the ages of Bob’s children needs to be able to be factored in 2 different ways, one of which has the largest 2 factors being the same as each other, and which have the same sum of factors.  For example, with 72, Andy would have been unsure whether Bob’s children were aged (8,3,3) or (6,6,2) even knowing his address was 14, until having his final question answered.\n"
     ]
    }
   ],
   "source": [
    "url='https://www.janestreet.com/puzzles/solutions/september-2015-solution/'\n",
    "res = requests.get(url)\n",
    "soup = BeautifulSoup(res.content, 'html.parser')\n",
    "x =[text for text in soup.body.stripped_strings]\n",
    "\n",
    "print(\"Solution\")\n",
    "print(\"~~~~~~~~\")\n",
    "print(\" \".join(x[7:8]))"
   ]
  },
  {
   "cell_type": "code",
   "execution_count": null,
   "metadata": {},
   "outputs": [],
   "source": []
  }
 ],
 "metadata": {
  "colab": {
   "include_colab_link": true,
   "name": "JaneSt-Feb18.ipynb",
   "provenance": []
  },
  "kernelspec": {
   "display_name": "Python 3",
   "language": "python",
   "name": "python3"
  },
  "language_info": {
   "codemirror_mode": {
    "name": "ipython",
    "version": 3
   },
   "file_extension": ".py",
   "mimetype": "text/x-python",
   "name": "python",
   "nbconvert_exporter": "python",
   "pygments_lexer": "ipython3",
   "version": "3.7.7"
  }
 },
 "nbformat": 4,
 "nbformat_minor": 4
}
