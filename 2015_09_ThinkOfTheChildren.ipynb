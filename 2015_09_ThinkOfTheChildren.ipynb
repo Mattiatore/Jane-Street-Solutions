{
 "cells": [
  {
   "cell_type": "code",
   "execution_count": 1,
   "metadata": {
    "id": "Oq1xibzMT1Wl"
   },
   "outputs": [],
   "source": [
    "import numpy as np\n",
    "import time\n",
    "import requests\n",
    "from bs4 import BeautifulSoup\n",
    "import itertools"
   ]
  },
  {
   "cell_type": "code",
   "execution_count": 2,
   "metadata": {
    "id": "ICTfvjZUT1Wr"
   },
   "outputs": [
    {
     "name": "stdout",
     "output_type": "stream",
     "text": [
      "Puzzle\n",
      "~~~~~~\n",
      "Andy: How many children 18 or younger do you have? Bob: 3 Andy: How old are they? Bob: Well, the product of their ages is 72, and the sum of their ages is the same as my address. Andy: I still can’t determine their ages. Bob: Oh, I should mention that my oldest child is older than either of my other 2 children. Andy: Ok, now I know how old your children are. Instead of 72, what is the next largest number that Bob could have said, such that the rest of the conversation could have proceeded the same way?\n"
     ]
    }
   ],
   "source": [
    "url='https://www.janestreet.com/puzzles/think-of-the-children/'\n",
    "res = requests.get(url)\n",
    "soup = BeautifulSoup(res.content, 'html.parser')\n",
    "y =[text for text in soup.body.stripped_strings]\n",
    "print(\"Puzzle\")\n",
    "print(\"~~~~~~\")\n",
    "print(\" \".join(y[8:16]))"
   ]
  },
  {
   "cell_type": "code",
   "execution_count": 18,
   "metadata": {},
   "outputs": [],
   "source": [
    "def get_dup_facts(number):\n",
    "    age = 18\n",
    "    facts = [[i,j,k] for i in range(1,age+1) for j in range(i,age+1) for k in range(j,age+1) if i*j*k ==number]\n",
    "    sum_facts = [sum(i) for i in facts]\n",
    "    duplicates = ([x for n, x in enumerate(sum_facts) if x in sum_facts[:n]])\n",
    "    return [x for x in facts if np.sum(x) in duplicates]"
   ]
  },
  {
   "cell_type": "code",
   "execution_count": 22,
   "metadata": {},
   "outputs": [
    {
     "name": "stdout",
     "output_type": "stream",
     "text": [
      "The factors of 72 with the same sums are :\n",
      "[[2, 6, 6], [3, 3, 8]]\n",
      "Look for the next one with 2 different factors summing to the same number with duplicates\n",
      "\n",
      "Searching ...\n",
      "Solved in 0.0299 seconds\n",
      "\n",
      "The next solution is 288 [[2, 12, 12], [4, 4, 18]]\n"
     ]
    }
   ],
   "source": [
    "start=time.time()\n",
    "\n",
    "print(\"The factors of 72 with the same sums are :\")\n",
    "print(get_dup_facts(72))\n",
    "\n",
    "print(\"Look for the next one with 2 different factors summing to the same number with duplicates\")\n",
    "print(\"\\nSearching ...\")\n",
    "for n in range(73,1000):\n",
    "    dupfacts = get_dup_facts(n)\n",
    "    if len(dupfacts) ==2:\n",
    "        if ((dupfacts[0][1] == dupfacts[0][2]) & (dupfacts[1][0] == dupfacts[1][1])) | ((dupfacts[0][0] == dupfacts[0][1]) & (dupfacts[1][1] == dupfacts[1][2])):\n",
    "            print(\"Solved in {:.4f} seconds\\n\".format(time.time()-start))\n",
    "            print(\"The next solution is\",n,dupfacts)\n",
    "            break"
   ]
  },
  {
   "cell_type": "code",
   "execution_count": 30,
   "metadata": {},
   "outputs": [
    {
     "name": "stdout",
     "output_type": "stream",
     "text": [
      "Solution\n",
      "~~~~~~~~\n",
      "In order for the conversation to proceed as it did, the product of the ages of Bob’s children needs to be able to be factored in 2 different ways, one of which has the largest 2 factors being the same as each other, and which have the same sum of factors.  For example, with 72, Andy would have been unsure whether Bob’s children were aged (8,3,3) or (6,6,2) even knowing his address was 14, until having his final question answered. The next largest number that satisfies these constraints is 288 .  Some submitters interpreted “next largest” to mean the largest number smaller than 72, not the smallest number larger than 72.  Since this was a bit vague, we accepted 36 as correct as well. One of the most popular incorrect answers was 225, with the thought that Bob’s children could have been (25,3,3) or (15,15,1).  However, 25 is too old to be a child! Congratulations to all of the correct responders, especially Alice Scarpa, this month’s randomly-chosen winner of a Jane Street t-shirt!\n"
     ]
    }
   ],
   "source": [
    "url='https://www.janestreet.com/puzzles/solutions/september-2015-solution/'\n",
    "res = requests.get(url)\n",
    "soup = BeautifulSoup(res.content, 'html.parser')\n",
    "x =[text for text in soup.body.stripped_strings]\n",
    "\n",
    "print(\"Solution\")\n",
    "print(\"~~~~~~~~\")\n",
    "print(\" \".join(x[7:13]))"
   ]
  },
  {
   "cell_type": "code",
   "execution_count": 28,
   "metadata": {},
   "outputs": [
    {
     "data": {
      "text/plain": [
       "[[0, 'Jane Street'],\n",
       " [1, 'Puzzles'],\n",
       " [2, 'Intro'],\n",
       " [3, 'Current Puzzle'],\n",
       " [4, 'Archive'],\n",
       " [5, 'Puzzle Archive'],\n",
       " [6, 'September 2015 Solution'],\n",
       " [7,\n",
       "  'In order for the conversation to proceed as it did, the product of the ages of Bob’s children needs to be able to be factored in 2 different ways, one of which has the largest 2 factors being the same as each other, and which have the same sum of factors. \\xa0For example, with 72, Andy would have been unsure whether Bob’s children were aged\\xa0(8,3,3)\\xa0or\\xa0(6,6,2) even knowing his address was 14, until having his final question answered.'],\n",
       " [8, 'The next largest number that satisfies these constraints\\xa0is'],\n",
       " [9, '288'],\n",
       " [10,\n",
       "  '. \\xa0Some submitters interpreted “next largest” to mean the largest number smaller than 72, not the smallest number larger than 72. \\xa0Since this was a bit vague, we accepted 36 as correct as well.'],\n",
       " [11,\n",
       "  'One of the most popular incorrect answers was 225, with the thought that\\xa0Bob’s children could have been (25,3,3) or (15,15,1). \\xa0However, 25 is too old to be a child!'],\n",
       " [12,\n",
       "  'Congratulations to all of the correct responders, especially Alice Scarpa, this month’s randomly-chosen winner of a Jane Street t-shirt!'],\n",
       " [13,\n",
       "  '© Copyright 2015-2021 Jane Street Group, LLC. All rights reserved. Services are provided in the U.S. by Jane Street Capital, LLC and Jane Street Execution Services, LLC, each of which is a SEC-registered broker dealer and member of FINRA (www.finra.org). Services are provided in Europe by Jane Street Financial Limited, a registered dealer authorized and regulated by the U.K. Financial Conduct Authority, and in Hong Kong by Jane Street Hong Kong Limited, a regulated entity under the Hong Kong Securities and Futures Commission (CE No. BAL548). Each of these entities is a wholly owned subsidiary of Jane Street Group, LLC. This material is provided for informational purposes only and does not constitute an offer or solicitation for the purchase or sale of any security or other financial instrument.']]"
      ]
     },
     "execution_count": 28,
     "metadata": {},
     "output_type": "execute_result"
    }
   ],
   "source": [
    "[[i,j] for i,j in enumerate([text for text in soup.body.stripped_strings])]"
   ]
  },
  {
   "cell_type": "code",
   "execution_count": null,
   "metadata": {},
   "outputs": [],
   "source": []
  }
 ],
 "metadata": {
  "colab": {
   "include_colab_link": true,
   "name": "JaneSt-Feb18.ipynb",
   "provenance": []
  },
  "kernelspec": {
   "display_name": "Python 3",
   "language": "python",
   "name": "python3"
  },
  "language_info": {
   "codemirror_mode": {
    "name": "ipython",
    "version": 3
   },
   "file_extension": ".py",
   "mimetype": "text/x-python",
   "name": "python",
   "nbconvert_exporter": "python",
   "pygments_lexer": "ipython3",
   "version": "3.7.7"
  }
 },
 "nbformat": 4,
 "nbformat_minor": 4
}
