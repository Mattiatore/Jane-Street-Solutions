{
 "cells": [
  {
   "cell_type": "code",
   "execution_count": 1,
   "metadata": {
    "id": "Oq1xibzMT1Wl"
   },
   "outputs": [],
   "source": [
    "import numpy as np\n",
    "import pandas as pd\n",
    "import time\n",
    "import seaborn as sns\n",
    "import matplotlib.pyplot as plt\n",
    "import requests\n",
    "from bs4 import BeautifulSoup\n",
    "import itertools\n",
    "from copy import deepcopy as dcopy\n",
    "from z3 import *"
   ]
  },
  {
   "cell_type": "markdown",
   "metadata": {
    "id": "U9Yh1D3HT1Ws"
   },
   "source": [
    "<img src=\"https://www.janestreet.com/puzzles/wp-content/uploads/2018/01/20180102_sudoku.png\" width=\"450\">"
   ]
  },
  {
   "cell_type": "code",
   "execution_count": 32,
   "metadata": {
    "id": "844RhDFpT1Wu"
   },
   "outputs": [],
   "source": [
    "# 5 mins with my numba enhanced backtracking\n",
    "# less than 2 secs with z3 !\n",
    "\n",
    "# Setup the constraints\n",
    "fixed = np.array([[ 0, 0, 9, 0, 0, 9,49, 0, 0],\n",
    "                  [ 9, 0,25, 0, 0, 0,36, 0, 0],\n",
    "                  [49, 0, 0,36,16, 9, 0,81,25],\n",
    "                  [ 4,49, 0, 1, 0, 0, 9, 0,81],\n",
    "                  [ 0, 0,81, 0, 0, 0,16, 0, 0],\n",
    "                  [ 9, 0,64, 0, 0, 4, 0, 4, 6],\n",
    "                  [36,16, 0,16, 4,25, 0, 0,49],\n",
    "                  [ 0, 0,49, 0, 0, 0, 9, 0, 4],\n",
    "                  [ 0, 0,36,49, 0, 0,16, 0, 0]],dtype=int)"
   ]
  },
  {
   "cell_type": "code",
   "execution_count": 39,
   "metadata": {
    "id": "844RhDFpT1Wu"
   },
   "outputs": [],
   "source": [
    "    def score(solution):\n",
    "        return  np.sum((solution[fixed!=0]**2))\n",
    "    \n",
    "    def sol_print(solution):\n",
    "        x= np.ones((3,3))\n",
    "        groups = np.block([[x*0,x*1,x*2],[x*3,x*4,x*5],[x*6,x*7,x*8]])\n",
    "        fig,ax = plt.subplots(1,2,figsize=(6,3))\n",
    "        count = 0\n",
    "        x = np.array(solution.astype('int').astype('str'))\n",
    "        x[x==\"0\"] =\"-\"\n",
    "        y = (fixed > 0) + groups*2\n",
    "        ax[0] = sns.heatmap(y,annot=x,cbar=False,cmap=\"tab20\",fmt=\"\",vmin=0,vmax=19,linewidths=1,annot_kws={\"size\":14},ax=ax[0])\n",
    "        ax[0].axis(\"off\")\n",
    "        x1 = np.array(fixed.astype('int').astype('str'))\n",
    "        x1[x1==\"0\"] =\"-\"\n",
    "        y1 = (fixed > 0) \n",
    "        \n",
    "        ax[1] = sns.heatmap(y1,annot=x1,cbar=False,cmap=\"Greys\",fmt=\"\",vmin=0,vmax=5,linewidths=1,annot_kws={\"size\":14},ax=ax[1])\n",
    "        ax[1].axis(\"off\")\n",
    "        plt.tight_layout()\n",
    "        plt.show()"
   ]
  },
  {
   "cell_type": "code",
   "execution_count": 40,
   "metadata": {
    "id": "844RhDFpT1Wu"
   },
   "outputs": [],
   "source": [
    "def z3_sudoku(grid,fixed):\n",
    "    start = time.time()\n",
    "    # 9x9 matrix of integer variables\n",
    "    X = [ [Int(\"x_%s_%s\" % (i+1, j+1)) for j in range(9) ]  for i in range(9) ]\n",
    "\n",
    "    # each cell contains a value in {1, ..., 9}\n",
    "    cells_c  = [ And(1 <= X[i][j], X[i][j] <= 9)\n",
    "             for i in range(9) for j in range(9) ]\n",
    "\n",
    "    # each row contains a digit at most once\n",
    "    rows_c   = [ Distinct(X[i]) for i in range(9) ]\n",
    "\n",
    "    # each column contains a digit at most once\n",
    "    cols_c   = [ Distinct([ X[i][j] for i in range(9) ])\n",
    "             for j in range(9) ]\n",
    "\n",
    "    # each 3x3 square contains a digit at most once\n",
    "    sq_c     = [ Distinct([ X[3*i0 + i][3*j0 + j]\n",
    "                        for i in range(3) for j in range(3) ])\n",
    "             for i0 in range(3) for j0 in range(3) ]\n",
    "\n",
    "    sudoku_c = cells_c + rows_c + cols_c + sq_c\n",
    "\n",
    "    s = Solver()\n",
    "    s.add(sudoku_c)\n",
    "\n",
    "    for i,j in itertools.product(range(9),range(9)):\n",
    "        num =int(fixed[i,j])\n",
    "        \n",
    "        if fixed[i,j] == 0:\n",
    "            continue\n",
    "        if i == 0:\n",
    "            s.add(Or(X[i][j-1]*X[i+1][j] == num,\n",
    "                     X[i][j+1]*X[i+1][j] == num,\n",
    "                     X[i][j-1]*X[i][j+1] == num))\n",
    "\n",
    "            continue\n",
    "        if i == 8:\n",
    "            s.add(Or(X[i][j-1]*X[i-1][j] == num,\n",
    "                     X[i][j+1]*X[i-1][j] == num,\n",
    "                     X[i][j+1]*X[i][j-1] == num))\n",
    "\n",
    "            continue\n",
    "        if j == 0:\n",
    "            s.add(Or(X[i-1][j]*X[i][j+1] == num,\n",
    "                     X[i+1][j]*X[i][j+1] == num,\n",
    "                     X[i-1][j]*X[i+1][j] == num))\n",
    "            continue\n",
    "        if j == 8:\n",
    "            s.add(Or(X[i-1][j]*X[i][j-1] == num,\n",
    "                     X[i+1][j]*X[i][j-1] == num,\n",
    "                     X[i-1][j]*X[i+1][j] == num))\n",
    "            continue\n",
    "    \n",
    "      \n",
    "        s.add(Or(X[i-1][j]*X[i][j+1] == num,\n",
    "                 X[i-1][j]*X[i+1][j] == num,\n",
    "                 X[i-1][j]*X[i][j-1] == num,\n",
    "                 X[i][j+1]*X[i+1][j] == num,\n",
    "                 X[i][j+1]*X[i][j-1] == num,\n",
    "                 X[i+1][j]*X[i][j-1] == num))\n",
    "                 \n",
    "    \n",
    "    if s.check() == sat:\n",
    "        m = s.model()\n",
    "        r = [ [ m.evaluate(X[i][j]).as_long() for j in range(9) ]\n",
    "                 for i in range(9) ]\n",
    "        print(\"Solved in {} seconds\".format(time.time()-start))\n",
    "        print(\"\\nThe product is : {:,.0f}\".format(score(np.array(r))))\n",
    "        sol_print(np.array(r))\n",
    "\n",
    "\n",
    "    else:\n",
    "        print(\"Failed in {} seconds\".format(time.time()-start))\n"
   ]
  },
  {
   "cell_type": "code",
   "execution_count": null,
   "metadata": {
    "colab": {
     "base_uri": "https://localhost:8080/",
     "height": 374
    },
    "id": "zexQ8t1kT1W3",
    "outputId": "7c2aec4e-d2fb-45d8-fc7e-679051faafed"
   },
   "outputs": [],
   "source": [
    "z3_sudoku(np.zeros((9,9)),fixed)\n"
   ]
  },
  {
   "cell_type": "code",
   "execution_count": 37,
   "metadata": {},
   "outputs": [
    {
     "name": "stdout",
     "output_type": "stream",
     "text": [
      "The completed grid is shown to the left, and the sum of the squares of the numbers written over the grey clue values is 1146 .\n"
     ]
    }
   ],
   "source": [
    "url='https://www.janestreet.com/puzzles/solutions/january-2018-solution/'\n",
    "res = requests.get(url)\n",
    "soup = BeautifulSoup(res.content, 'html.parser')\n",
    "x =[text for text in soup.body.stripped_strings]\n",
    "\n",
    "print(\" \".join(x[7:10]))"
   ]
  },
  {
   "cell_type": "markdown",
   "metadata": {
    "id": "ld_NFUIfT1W9"
   },
   "source": [
    "<img src=\"https://www.janestreet.com/puzzles/wp-content/uploads/2018/02/20180201_sudoku_ans.png\" width=\"250\" >"
   ]
  },
  {
   "cell_type": "code",
   "execution_count": 38,
   "metadata": {},
   "outputs": [],
   "source": [
    "correct= np.array([[9,4,5,3,2,7,1,6,8],\n",
    "                   [8,1,3,5,6,9,7,4,2],\n",
    "                   [2,7,6,1,8,4,3,5,9],\n",
    "                   [7,2,1,6,4,3,8,9,5],\n",
    "                   [4,5,8,9,7,2,6,1,3],\n",
    "                   [6,3,9,8,1,5,4,2,7],\n",
    "                   [3,6,2,4,5,8,9,7,1],\n",
    "                   [5,8,4,7,9,1,2,3,6],\n",
    "                   [1,9,7,2,3,6,5,8,4]] \n",
    "                  ,dtype=int)"
   ]
  }
 ],
 "metadata": {
  "colab": {
   "include_colab_link": true,
   "name": "JaneSt-Feb18.ipynb",
   "provenance": []
  },
  "kernelspec": {
   "display_name": "Python 3",
   "language": "python",
   "name": "python3"
  },
  "language_info": {
   "codemirror_mode": {
    "name": "ipython",
    "version": 3
   },
   "file_extension": ".py",
   "mimetype": "text/x-python",
   "name": "python",
   "nbconvert_exporter": "python",
   "pygments_lexer": "ipython3",
   "version": "3.7.7"
  }
 },
 "nbformat": 4,
 "nbformat_minor": 4
}
