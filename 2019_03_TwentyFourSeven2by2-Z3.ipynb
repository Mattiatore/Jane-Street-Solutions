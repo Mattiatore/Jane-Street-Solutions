{
 "cells": [
  {
   "cell_type": "code",
   "execution_count": 1,
   "metadata": {
    "id": "dNYS_x46HZvl"
   },
   "outputs": [],
   "source": [
    "import pandas as pd\n",
    "import numpy as np\n",
    "import time\n",
    "import seaborn as sns\n",
    "from matplotlib.colors import ListedColormap\n",
    "import matplotlib.pyplot as plt\n",
    "import requests\n",
    "from bs4 import BeautifulSoup\n",
    "import itertools\n",
    "from copy import deepcopy as dcopy,copy\n",
    "from scipy.ndimage import measurements\n",
    "from skimage.morphology import label\n",
    "\n",
    "from z3 import *\n",
    "from IPython.display import Markdown, display\n"
   ]
  },
  {
   "cell_type": "markdown",
   "metadata": {
    "id": "UtUiEvDCHZvo"
   },
   "source": [
    "### Puzzle details\n",
    "<img src=\"https://www.janestreet.com/puzzles/wp-content/uploads/2019/03/20190306_20_4_7.png\" width=\"500\" height=\"600\">"
   ]
  },
  {
   "cell_type": "code",
   "execution_count": 2,
   "metadata": {
    "id": "I03uDzGSHZvo"
   },
   "outputs": [],
   "source": [
    "# Set up the grids to be solved\n",
    "\n",
    "\n",
    "\n",
    "grid4 =np.array([[0,0,0,7,0,0,0],\n",
    "                 [5,0,0,0,0,6,0],\n",
    "                 [0,0,2,0,0,0,0],\n",
    "                 [5,0,0,0,0,0,7],\n",
    "                 [0,0,0,0,7,0,0],\n",
    "                 [0,7,0,0,0,0,3],\n",
    "                 [0,0,0,6,0,0,0]])\n",
    "\n",
    "top_looks4 = [5,0,5,0,2,0,7]\n",
    "bot_looks4 = [4,0,6,0,4,0,3]\n",
    "left_looks4 = [5,0,0,0,4,0,0]\n",
    "right_looks4 = [0,0,7,0,0,0,4]\n",
    "\n",
    "grid3 =np.array([[0,0,4,0,0,0,0],\n",
    "                 [0,4,0,0,0,0,0],\n",
    "                 [4,0,0,0,0,0,0],\n",
    "                 [0,0,0,0,0,0,0],\n",
    "                 [0,0,0,0,0,0,7],\n",
    "                 [0,0,0,0,0,5,0],\n",
    "                 [0,0,0,0,7,0,0]])\n",
    "\n",
    "top_looks3 = [0,0,0,6,3,7,0]\n",
    "bot_looks3 = [0,3,6,7,0,0,0]\n",
    "left_looks3 = [0,0,0,2,6,3,0]\n",
    "right_looks3 = [0,4,3,5,0,0,0]\n",
    "\n",
    "grid2 =np.array([[0,0,0,0,0,0,0],\n",
    "                 [0,0,0,0,0,0,0],\n",
    "                 [0,0,0,0,0,0,0],\n",
    "                 [0,0,0,0,0,0,0],\n",
    "                 [0,0,0,0,0,0,0],\n",
    "                 [0,0,0,0,0,0,0],\n",
    "                 [0,0,0,0,0,0,0]])\n",
    "\n",
    "top_looks2 = [6,4,4,6,7,3,3]\n",
    "bot_looks2 = [2,6,7,7,2,4,7]\n",
    "left_looks2 = [4,6,5,7,5,2,7]\n",
    "right_looks2 = [3,6,3,3,7,6,7]\n",
    "\n",
    "grid1=np.array([[0,7,6,0,0,0,0],\n",
    "                [0,0,0,6,6,0,0],\n",
    "                [5,0,0,0,0,0,0],\n",
    "                [0,6,0,0,0,4,0],\n",
    "                [0,0,0,0,0,0,6],\n",
    "                [0,0,4,7,0,0,0],\n",
    "                [0,0,0,0,7,7,5]])\n",
    "\n",
    "top_looks1 = [0,0,0,0,0,5,7]\n",
    "bot_looks1 = [7,2,0,0,0,0,0]\n",
    "left_looks1 = [0,3,0,0,5,0,1]\n",
    "right_looks1 = [4,0,4,0,0,2,0]\n",
    "\n",
    "\n",
    "# Use -1 for empty rather than zero to track completion of cells\n",
    "grid1[grid1==0]=-1\n",
    "grid2[grid2==0]=-1\n",
    "grid3[grid3==0]=-1\n",
    "grid4[grid4==0]=-1"
   ]
  },
  {
   "cell_type": "code",
   "execution_count": 8,
   "metadata": {
    "id": "HiU0IzRrHZvq"
   },
   "outputs": [],
   "source": [
    "def neighbours( i, j):\n",
    "        l=[]\n",
    "        if i-1 >= 0:\n",
    "            l.append((i-1,j))\n",
    "        if i+1 < 7:\n",
    "            l.append((i+1,j))\n",
    "        if j-1 >= 0:\n",
    "            l.append((i,j-1))\n",
    "        if j+1 < 7:\n",
    "            l.append((i,j+1))\n",
    "        return l\n",
    "       \n",
    "def solve(grid,top,bot,left,right):\n",
    "\n",
    "    start = time.time()\n",
    "    s = Solver()\n",
    "\n",
    "    X = [[Int(\"X_%s%s\" % (i+1,j+1)) for j in range(7) ] for i in range(7) ]\n",
    "\n",
    "    # limit the values and place the fixed values\n",
    "    s += [And(X[i][j]>=0,X[i][j] <=7) for j in range(7) for i in range(7) ]\n",
    "    s += [X[i][j] == int(grid[i,j]) for j in range(7) for i in range(7) if grid[i,j] > 0]\n",
    "\n",
    "    # Row/Col Sums\n",
    "    s += [Sum([X[i][j] for i in range(7)]) == 20 for j in range(7)]\n",
    "    s += [Sum([X[i][j] for j in range(7)]) == 20 for i in range(7)]\n",
    "\n",
    "    s += [PbEq([(X[i][j] ==0,1) for i in range(7)],3) for j in range(7)]\n",
    "    s += [PbEq([(X[i][j] ==0,1) for j in range(7)],3) for i in range(7)]\n",
    "  \n",
    "    # only n instances of n  \n",
    "    for n in range(1,8):\n",
    "        s += PbEq([(X[i][j] == n,1) for j in range(7) for i in range(7)],n)\n",
    "\n",
    "    #  row and col sums      \n",
    "    s += [Sum([X[i][j] for j in range(7)]) == 20 for i in range(7)]\n",
    "    s += [Sum([X[i][j] for i in range(7)]) == 20 for j in range(7)] \n",
    "\n",
    "    # no 2x2\n",
    "    s += [Or(X[i][j] ==0,X[i+1][j] ==0,X[i][j+1] ==0,X[i+1][j+1] ==0) for j in range(6) for i in range(6)]\n",
    "\n",
    "    s += [Implies(X[i][j] !=0,Or([X[k][l] !=0 for (k,l) in neighbours(i,j)])) for j in range(7) for i in range(7) ] \n",
    "\n",
    "    # looks\n",
    "    for i in range(7):\n",
    "        if left[i] !=0:\n",
    "            s+= If(X[i][0] == 0,If(X[i][1] == 0,If(X[i][2] == 0,X[i][3] == int(left[i]),X[i][2] == int(left[i])),\n",
    "                                   X[i][1] == int(left[i])),X[i][0] == int(left[i]))\n",
    "            \n",
    "        if right[i] !=0:\n",
    "            s+= If(X[i][6] == 0,If(X[i][5] == 0,If(X[i][4] == 0,X[i][3] == int(right[i]),X[i][4] == int(right[i])),\n",
    "                                   X[i][5] == int(right[i])),X[i][6] == int(right[i]))\n",
    "        if top[i] !=0:\n",
    "            s+= If(X[0][i] == 0,If(X[1][i] == 0,If(X[2][i] == 0,X[3][i] == int(top[i]),X[2][i] == int(top[i])),\n",
    "                                   X[1][i] == int(top[i])),X[0][i] == int(top[i]))\n",
    "\n",
    "        if bot[i] !=0:\n",
    "            s+= If(X[6][i] == 0,If(X[5][i] == 0,If(X[4][i] == 0,X[3][i] == int(bot[i]),X[4][i] == int(bot[i])),\n",
    "                                   X[5][i] == int(bot[i])),X[6][i] == int(bot[i]))\n",
    "        \n",
    "    # coding up the connectivity is hard so just solve and test then exclude solutions that are not connected\n",
    "    count = 0\n",
    "    while True:   \n",
    "        if s.check() == sat:\n",
    "            count += 1\n",
    "            m = s.model()\n",
    "            x = np.array([[m.evaluate(X[i][j]).as_long() for j in range(7)] for i in range(7)])\n",
    "            if np.max(label(x != 0,connectivity=1)) == 1 :\n",
    "                print('{} solutions took {:0.4f} seconds'.format(count,time.time()-start))\n",
    "                return x\n",
    "            s += Or([X[i][j]!=int(x[i,j]) for j in range(6) for i in range(6)])\n",
    "        else:\n",
    "            print(\"failed to solve\") \n",
    "            break\n",
    "\n",
    "    \n",
    "    "
   ]
  },
  {
   "cell_type": "code",
   "execution_count": 9,
   "metadata": {
    "id": "HiU0IzRrHZvq"
   },
   "outputs": [
    {
     "name": "stdout",
     "output_type": "stream",
     "text": [
      "1 solutions took 0.1217 seconds\n",
      "1 solutions took 0.1466 seconds\n",
      "1 solutions took 0.1426 seconds\n",
      "2 solutions took 0.2174 seconds\n"
     ]
    },
    {
     "data": {
      "image/png": "[encoded data removed]",
      "text/plain": [
       "<Figure size 360x360 with 4 Axes>"
      ]
     },
     "metadata": {
      "needs_background": "light"
     },
     "output_type": "display_data"
    },
    {
     "name": "stdout",
     "output_type": "stream",
     "text": [
      "The solution is 8,150\n"
     ]
    }
   ],
   "source": [
    "solns= []\n",
    "\n",
    "solns.append(solve(grid1,top_looks1,bot_looks1,left_looks1,right_looks1))\n",
    "solns.append(solve(grid2,top_looks2,bot_looks2,left_looks2,right_looks2))\n",
    "solns.append(solve(grid3,top_looks3,bot_looks3,left_looks3,right_looks3))\n",
    "solns.append(solve(grid4,top_looks4,bot_looks4,left_looks4,right_looks4))\n",
    "\n",
    "fig,ax = plt.subplots(2,2,figsize=(5,5)) \n",
    "for i,j in itertools.product(range(2),range(2)):\n",
    "        y = np.array(solns[i+j*2]).astype('int').astype('str')\n",
    "        y[y==\"0\"] =\"\"\n",
    "        sns.heatmap(np.zeros((7,7)),annot=y,cbar=False,cmap=\"Greys\",fmt=\"\",linewidths=1,center= 1,linecolor=\"grey\",annot_kws={\"size\":14},ax=ax[i,j])\n",
    "        ax[i,j].axis(\"off\")\n",
    "plt.tight_layout()\n",
    "plt.show()\n",
    "\n",
    "print(\"The solution is {:,.0f}\".format(np.sum(np.sum(solns,0)**2)))"
   ]
  },
  {
   "cell_type": "code",
   "execution_count": 6,
   "metadata": {
    "colab": {
     "base_uri": "https://localhost:8080/"
    },
    "id": "D3wKz5QoHZv7",
    "outputId": "f30ca213-6a39-4a00-deb1-7c379112435e"
   },
   "outputs": [
    {
     "name": "stdout",
     "output_type": "stream",
     "text": [
      "The completed grids are shown to the left, and below (in blue) is the “sum” grid. The sum of the squares of the values in this grid is 8150\n"
     ]
    }
   ],
   "source": [
    "# Pull in the puzzle solution and grids from the solution page\n",
    "\n",
    "url='https://www.janestreet.com/puzzles/solutions/march-2019-solution/'\n",
    "res = requests.get(url)\n",
    "soup = BeautifulSoup(res.content, 'html.parser')\n",
    "x =[text for text in soup.body.stripped_strings]\n",
    "\n",
    "print(\" \".join(x[7:9]))"
   ]
  },
  {
   "cell_type": "markdown",
   "metadata": {
    "id": "jsahvqLtHZv7"
   },
   "source": [
    "<img src=\"https://www.janestreet.com/puzzles/wp-content/uploads/2019/04/20190329_20_4_7_solved.png\" width=\"500\" height=\"600\">"
   ]
  },
  {
   "cell_type": "code",
   "execution_count": 7,
   "metadata": {
    "id": "CVzHamFYHZv8"
   },
   "outputs": [
    {
     "data": {
      "text/plain": [
       "8150"
      ]
     },
     "execution_count": 7,
     "metadata": {},
     "output_type": "execute_result"
    }
   ],
   "source": [
    "np.sum(np.sum(solns,0)**2)"
   ]
  },
  {
   "cell_type": "code",
   "execution_count": null,
   "metadata": {},
   "outputs": [],
   "source": []
  }
 ],
 "metadata": {
  "colab": {
   "include_colab_link": true,
   "name": "JaneSt_Mar19.ipynb",
   "provenance": []
  },
  "kernelspec": {
   "display_name": "Python 3",
   "language": "python",
   "name": "python3"
  },
  "language_info": {
   "codemirror_mode": {
    "name": "ipython",
    "version": 3
   },
   "file_extension": ".py",
   "mimetype": "text/x-python",
   "name": "python",
   "nbconvert_exporter": "python",
   "pygments_lexer": "ipython3",
   "version": "3.7.10"
  }
 },
 "nbformat": 4,
 "nbformat_minor": 4
}
