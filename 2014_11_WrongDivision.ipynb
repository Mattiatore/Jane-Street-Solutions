{
 "cells": [
  {
   "cell_type": "code",
   "execution_count": 14,
   "id": "necessary-cassette",
   "metadata": {},
   "outputs": [],
   "source": [
    "import numpy as np\n",
    "import time\n",
    "\n",
    "import requests\n",
    "from bs4 import BeautifulSoup\n",
    "import itertools\n",
    "from copy import deepcopy as dcopy,copy\n",
    "\n",
    "from z3 import *"
   ]
  },
  {
   "cell_type": "code",
   "execution_count": 15,
   "id": "resistant-cigarette",
   "metadata": {},
   "outputs": [
    {
     "name": "stdout",
     "output_type": "stream",
     "text": [
      "Puzzle\n",
      "~~~~~~\n",
      "Each digit shown is off by one.  Given that there is no remainder, can you determine the 8-digit dividend?\n"
     ]
    }
   ],
   "source": [
    "# More z3 magic\n",
    "\n",
    "url='https://www.janestreet.com/puzzles/wrong-division/'\n",
    "res = requests.get(url)\n",
    "soup = BeautifulSoup(res.content, 'html.parser')\n",
    "y =[text for text in soup.body.stripped_strings]\n",
    "print(\"Puzzle\")\n",
    "print(\"~~~~~~\")\n",
    "print(\" \".join(y[7:8]))"
   ]
  },
  {
   "cell_type": "markdown",
   "id": "blond-democrat",
   "metadata": {},
   "source": [
    "<img src=\"https://www.janestreet.com/puzzles/wp-content/uploads/2014/11/Nov14.png\" width=\"300\" >"
   ]
  },
  {
   "cell_type": "code",
   "execution_count": 16,
   "id": "requested-timer",
   "metadata": {},
   "outputs": [],
   "source": [
    "def to_number(x):\n",
    "    numb = 0\n",
    "    for i in range(len(x)):\n",
    "        numb += (10**i) *x[-(i+1)] \n",
    "    return numb     "
   ]
  },
  {
   "cell_type": "code",
   "execution_count": 21,
   "id": "theoretical-canadian",
   "metadata": {},
   "outputs": [
    {
     "name": "stdout",
     "output_type": "stream",
     "text": [
      "Solved in 9.510531902313232 seconds\n",
      "\n",
      "58,975,605 / 2,847 = 20,715\n",
      "\n",
      "Check : True\n",
      "row1: 5,694\n",
      "row2: 20,356\n",
      "row3: 19,929\n",
      "row4: 4,270\n",
      "row5: 2,847\n",
      "row6: 14,235\n"
     ]
    }
   ],
   "source": [
    "start = time.time()\n",
    "\n",
    "#set up the variables and the numbers\n",
    "divisor  = [Int(\"divisor_{}\".format(i)) for i in range(4)] \n",
    "dividend = [Int(\"dividend_{}\".format(i)) for i in range(8)]\n",
    "quotient = [Int(\"quotient_{}\".format(i)) for i in range(5)] \n",
    "row1 = [Int(\"row1_{}\".format(i)) for i in range(4)] \n",
    "row2 = [Int(\"row2_{}\".format(i)) for i in range(5)] \n",
    "row3 = [Int(\"row3_{}\".format(i)) for i in range(5)] \n",
    "row4 = [Int(\"row4_{}\".format(i)) for i in range(4)] \n",
    "row5 = [Int(\"row5_{}\".format(i)) for i in range(4)] \n",
    "row6 = [Int(\"row6_{}\".format(i)) for i in range(5)] \n",
    "\n",
    "divisor_num  = sum([divisor[-(i+1)] * (10**i) for i in range(4)])\n",
    "dividend_num  = sum([dividend[-(i+1)] * (10**i) for i in range(8)])\n",
    "quotient_num  = sum([quotient[-(i+1)] * (10**i) for i in range(5)])\n",
    "\n",
    "s = Solver()\n",
    "\n",
    "#numbers in a range\n",
    "s += [And(0 <= divisor[i],divisor[i] <= 9) for i in range(4)]\n",
    "s += [And(0 <= dividend[i],dividend[i] <= 9) for i in range(8)]\n",
    "s += [And(0 <= quotient[i],quotient[i] <= 9) for i in range(5)]\n",
    "s += [And(0 <= row1[i],row1[i] <= 9) for i in range(4)]\n",
    "s += [And(0 <= row2[i],row2[i] <= 9) for i in range(5)]\n",
    "s += [And(0 <= row3[i],row3[i] <= 9) for i in range(5)]\n",
    "s += [And(0 <= row4[i],row4[i] <= 9) for i in range(4)]\n",
    "s += [And(0 <= row5[i],row5[i] <= 9) for i in range(4)]\n",
    "s += [And(0 <= row6[i],row6[i] <= 9) for i in range(5)]\n",
    "\n",
    "# the long division\n",
    "# ~~~~~~~~~~~~~~~~~\n",
    "s +=  dividend_num == divisor_num * quotient_num\n",
    "\n",
    "# line by line\n",
    "# ~~~~~~~~~~~~\n",
    "\n",
    "# the first quotient\n",
    "initial_num = sum([dividend[:4][-(i+1)] * (10**i) for i in range(4)])\n",
    "row1_num = sum([row1[-(i+1)] * (10**i) for i in range(4)])\n",
    "remainder1 = sum([row2[:3][-(i+1)] * (10**i) for i in range(3)])\n",
    "\n",
    "s += row1_num == divisor_num * quotient[0]\n",
    "s += initial_num - row1_num == remainder1\n",
    "\n",
    "# the second quotient\n",
    "\n",
    "s += quotient[1] == 0\n",
    "\n",
    "# the third quotient\n",
    "row2_num = sum([row2[-(i+1)] * (10**i) for i in range(5)])\n",
    "row3_num = sum([row3[-(i+1)] * (10**i) for i in range(5)])\n",
    "remainder2 = sum([row4[:3][-(i+1)] * (10**i) for i in range(3)])\n",
    "\n",
    "s += row2_num == remainder1*100+dividend[4]*10+dividend[5] \n",
    "s += row3_num == divisor_num * quotient[2]\n",
    "s += row2_num - row3_num == remainder2\n",
    "\n",
    "# the fourth quotient\n",
    "row4_num = sum([row4[-(i+1)] * (10**i) for i in range(4)])\n",
    "row5_num = sum([row5[-(i+1)] * (10**i) for i in range(4)])\n",
    "remainder3 = sum([row6[:4][-(i+1)] * (10**i) for i in range(4)])\n",
    "\n",
    "s += row4_num == remainder2*10+dividend[6] \n",
    "s += row5_num == divisor_num * quotient[3]\n",
    "s += row4_num - row5_num == remainder3\n",
    "\n",
    "# the fifth quotient\n",
    "row6_num = sum([row6[-(i+1)] * (10**i) for i in range(5)])\n",
    "s += row6_num == remainder3*10+dividend[7] \n",
    "s += row6_num == divisor_num * quotient[4]\n",
    "\n",
    "# Fixed numbers\n",
    "# ~~~~~~~~~~~~~\n",
    "s += Or(row1[1]==4,row1[1]==6)\n",
    "s += Or(row1[3]==4,row1[3]==6)\n",
    "\n",
    "s += row2[0]==2\n",
    "s += Or(row2[2]==1,row2[2]==3)\n",
    "s += Or(row2[4]==4,row2[4]==6)\n",
    "\n",
    "s += row3[0]==1\n",
    "s += Or(row3[2]==7,row3[2]==9)\n",
    "\n",
    "s += Or(row4[0]==4,row3[0]==6)\n",
    "s += Or(row4[2]==7,row3[2]==9)\n",
    "s += Or(row4[3]==0,row3[3]==2)\n",
    "\n",
    "s += Or(row5[0]==2,row5[0]==4)\n",
    "s += Or(row5[1]==6,row5[1]==8)\n",
    "\n",
    "s += Or(row6[0]==1,row6[0]==3)\n",
    "s += Or(row6[3]==1,row6[3]==3)\n",
    "\n",
    "#can't be a leading zero\n",
    "s += dividend[0]>0\n",
    "s += quotient[0]>0\n",
    "s += divisor[0]>0\n",
    "\n",
    "###################\n",
    "# Solve and Print #\n",
    "###################\n",
    "\n",
    "if s.check() == sat:\n",
    "    m = s.model()\n",
    "    divisor_result =  to_number([ m.evaluate(divisor[i]).as_long() for i in range(4) ] )\n",
    "    dividend_result = to_number([ m.evaluate(dividend[i]).as_long() for i in range(8) ] )\n",
    "    quotient_result = to_number([ m.evaluate(quotient[i]).as_long() for i in range(5) ] )\n",
    "    row1_result = to_number([ m.evaluate(row1[i]).as_long() for i in range(4) ] )\n",
    "    row2_result = to_number([ m.evaluate(row2[i]).as_long() for i in range(5) ] )\n",
    "    row3_result = to_number([ m.evaluate(row3[i]).as_long() for i in range(5) ] )\n",
    "    row4_result = to_number([ m.evaluate(row4[i]).as_long() for i in range(4) ] )\n",
    "    row5_result = to_number([ m.evaluate(row5[i]).as_long() for i in range(4) ] )\n",
    "    row6_result = to_number([ m.evaluate(row6[i]).as_long() for i in range(5) ] )\n",
    "    print(\"Solved in {} seconds\".format(time.time()-start))\n",
    "    print(\"\\n{:,.0f} / {:,.0f} = {:,.0f}\\n\".format(dividend_result,divisor_result,quotient_result))\n",
    "    print(\"Check :\",dividend_result/ divisor_result == quotient_result)  # sometimes gets stuck very close to the correct solution\n",
    "    print(\"row1: {:,.0f}\".format(row1_result))\n",
    "    print(\"row2: {:,.0f}\".format(row2_result))\n",
    "    print(\"row3: {:,.0f}\".format(row3_result))\n",
    "    print(\"row4: {:,.0f}\".format(row4_result))\n",
    "    print(\"row5: {:,.0f}\".format(row5_result))\n",
    "    print(\"row6: {:,.0f}\".format(row6_result))\n",
    "                    \n",
    "else:\n",
    "    print(\"Failed\")"
   ]
  },
  {
   "cell_type": "code",
   "execution_count": 18,
   "id": "fixed-isaac",
   "metadata": {},
   "outputs": [
    {
     "name": "stdout",
     "output_type": "stream",
     "text": [
      "Solution\n",
      "~~~~~~~~\n",
      "The answer to November’s puzzle is 58975605.  Congratulations to the many correct solvers, especially Pallav Shinghal, this month’s randomly-chosen winner of a Jane Street t-shirt!\n"
     ]
    }
   ],
   "source": [
    "url='https://www.janestreet.com/puzzles/solutions/november-2014-solution/'\n",
    "res = requests.get(url)\n",
    "soup = BeautifulSoup(res.content, 'html.parser')\n",
    "y =[text for text in soup.body.stripped_strings]\n",
    "print(\"Solution\")\n",
    "print(\"~~~~~~~~\")\n",
    "print(\" \".join(y[7:8]))"
   ]
  },
  {
   "cell_type": "markdown",
   "id": "ceramic-enlargement",
   "metadata": {},
   "source": [
    "<img src=\"https://www.janestreet.com/puzzles/wp-content/uploads/2014/12/Nov14_solution.png\" width=\"300\" >"
   ]
  },
  {
   "cell_type": "code",
   "execution_count": null,
   "id": "motivated-belle",
   "metadata": {},
   "outputs": [],
   "source": []
  }
 ],
 "metadata": {
  "kernelspec": {
   "display_name": "Python 3",
   "language": "python",
   "name": "python3"
  },
  "language_info": {
   "codemirror_mode": {
    "name": "ipython",
    "version": 3
   },
   "file_extension": ".py",
   "mimetype": "text/x-python",
   "name": "python",
   "nbconvert_exporter": "python",
   "pygments_lexer": "ipython3",
   "version": "3.7.7"
  }
 },
 "nbformat": 4,
 "nbformat_minor": 5
}
