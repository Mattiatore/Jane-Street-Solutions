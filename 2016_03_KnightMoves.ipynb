{
 "cells": [
  {
   "cell_type": "code",
   "execution_count": 1,
   "metadata": {
    "id": "Oq1xibzMT1Wl"
   },
   "outputs": [],
   "source": [
    "import numpy as np\n",
    "import pandas as pd\n",
    "import time\n",
    "import seaborn as sns\n",
    "import matplotlib.pyplot as plt\n",
    "import requests\n",
    "from bs4 import BeautifulSoup\n",
    "import itertools\n",
    "from copy import deepcopy as dcopy,copy\n",
    "from skimage.morphology import label\n",
    "from scipy.ndimage import measurements\n",
    "import sys\n",
    "import numba as nb"
   ]
  },
  {
   "cell_type": "code",
   "execution_count": 2,
   "metadata": {
    "id": "ICTfvjZUT1Wr"
   },
   "outputs": [
    {
     "name": "stdout",
     "output_type": "stream",
     "text": [
      "A knight was alone on a chessboard.  He started on a square and marked it “1”, then moved to a square and marked it “2”, then moved to a square and marked it “3”, and so on, each time making legal knight’s moves, and never revisiting a square.   Some of the squares he visited are marked on the chessboard presented here. The knight stopped on his 28th square, at which point the 28 visited squares formed a picture with spiral symmetry (90 degree rotational symmetry). The numbers along the sides of the 8 rows and 8 columns are the sums of the numbers of the squares visited by the knight in that row/column. The answer to this month’s puzzle is the largest product of the numbers in any one row or column.\n"
     ]
    }
   ],
   "source": [
    "url='https://www.janestreet.com/puzzles/knight-moves/'\n",
    "res = requests.get(url)\n",
    "soup = BeautifulSoup(res.content, 'html.parser')\n",
    "x =[text for text in soup.body.stripped_strings]\n",
    "\n",
    "print(\" \".join(x[7:11]))"
   ]
  },
  {
   "cell_type": "markdown",
   "metadata": {
    "id": "U9Yh1D3HT1Ws"
   },
   "source": [
    "### Puzzle details\n",
    "<img src=\"https://www.janestreet.com/puzzles/wp-content/uploads/2016/03/Mar16_puzzle.png\" width=\"250\">"
   ]
  },
  {
   "cell_type": "code",
   "execution_count": 3,
   "metadata": {
    "id": "0VI0NM6ET1Wt"
   },
   "outputs": [],
   "source": [
    "#Setup the constraints\n",
    "# 28 filled cells so 7 in each quarter\n",
    "\n",
    "bot_labels  = [7,14,72,66,102,90,42,13]\n",
    "right_labels =[10,34,108,67,63,84,24,16]\n",
    "\n",
    "\n",
    "\n",
    "#########################\n",
    "# Code to print in a \"nice\" format\n",
    "                            \n",
    "def sol_print(solved):\n",
    "    fig,ax = plt.subplots(1,1,figsize=(3.5,3.5))\n",
    "    x = np.array((solved).astype('int').astype('str'))\n",
    "    x[x==\"0\"] =\"-\"\n",
    "    y = solved != 0\n",
    "    ax = sns.heatmap(y,annot=x,cbar=False,cmap=\"Reds\",fmt=\"\",linewidths=1,center=4,linecolor=\"grey\",xticklabels=bot_labels, yticklabels=right_labels)\n",
    "    ax.tick_params(left=False, bottom=False,labelleft=False, labelright=True)\n",
    "    plt.xticks(rotation=0,fontweight ='demi')\n",
    "    plt.yticks(rotation=0,fontweight ='demi')\n",
    "    plt.tight_layout()\n",
    "\n"
   ]
  },
  {
   "cell_type": "code",
   "execution_count": 4,
   "metadata": {
    "id": "844RhDFpT1Wu"
   },
   "outputs": [],
   "source": [
    "class Matrix():\n",
    "    def __init__(self,bot_labels,right_labels):\n",
    "        self.bot_labels = bot_labels\n",
    "        self.right_labels = right_labels\n",
    "        # knight moves\n",
    "        self.x = [2, 1, -1, -2, -2, -1, 1, 2]\n",
    "        self.y = [1, 2, 2, 1, -1, -2, -2, -1]\n",
    "        self.solution = []\n",
    "        self.end_flag =0\n",
    "        \n",
    "    #############################################    \n",
    "    # Backtracking solver    \n",
    "    def fill(self,row,col,grid,count):\n",
    "        if self.end_flag ==0:\n",
    "            if count == 29:\n",
    "                self.end_flag =1\n",
    "                sol_print(grid)\n",
    "                self.solution =dcopy(grid)\n",
    "                print(\"******Max Product = {:,.0f}******\".format(test.product(grid)))\n",
    "\n",
    "            for move in range(8):\n",
    "                if self.possible(move,row,col,grid,count,self.x,self.y,self.right_labels,self.bot_labels):\n",
    "                    grid[row,col] = count\n",
    "                    count += 1\n",
    "                    row += self.x[move]\n",
    "                    col += self.y[move]                    \n",
    "                    self.fill(row,col,grid,count)\n",
    "                    row -= self.x[move]\n",
    "                    col -= self.y[move]\n",
    "                    grid[row,col] = 0\n",
    "                    count -= 1\n",
    "        return        \n",
    "               \n",
    "        \n",
    "\n",
    "    def possible(self,move,row,col,grid,count,x,y,right_labels,bot_labels):\n",
    "        if count == 28:\n",
    "            return True\n",
    "        \n",
    "        new_row = row + x[move]\n",
    "        new_col = col + y[move]\n",
    "        # check if outside board\n",
    "        if (new_row > 7) or (new_row < 0):\n",
    "            return False\n",
    "        if (new_col > 7) or (new_col < 0):\n",
    "            return False  \n",
    "        \n",
    "        #check if position is filled\n",
    "        if grid[new_row,new_col] != 0:\n",
    "            return False\n",
    "        \n",
    "        #check filled cells\n",
    "        if count == 7:\n",
    "            if (new_row !=4) or (new_col !=2):\n",
    "                return False            \n",
    "        if count == 10:\n",
    "            if (new_row !=2) or (new_col !=3):\n",
    "                return False            \n",
    "        if count == 13:\n",
    "            if (new_row !=3) or (new_col !=5):\n",
    "                return False        \n",
    "        if count == 14:\n",
    "            if (new_row !=5) or (new_col !=4):\n",
    "                return False\n",
    "        \n",
    "        #check row totals\n",
    "        row_tot = np.sum(grid[new_row,:])+count \n",
    "        col_tot = np.sum(grid[:,new_col])+count \n",
    "        \n",
    "        if row_tot >= right_labels[new_row]:\n",
    "            return False\n",
    "        \n",
    "        if col_tot >= bot_labels[new_col]:\n",
    "            return False\n",
    "        \n",
    "        #check if the new row is too low \n",
    "        #if row_tot != right_labels[new_row]:\n",
    "        #    if row_tot + count > right_labels[new_row]:\n",
    "        #        return False\n",
    "        \n",
    "        #if col_tot != bot_labels[new_col]:\n",
    "        #    if col_tot + count > bot_labels[new_col]:\n",
    "        #        return False\n",
    "        \n",
    "        return True\n",
    "    \n",
    "    ##############################################\n",
    "    # Get the products of the areas of the connected cells\n",
    "    \n",
    "    def product(self,grid):\n",
    "        prods =[]\n",
    "        for i in range(8):\n",
    "            row = grid[i,:]\n",
    "            col = grid[:,i]\n",
    "            row = row[row != 0]\n",
    "            col = col[col != 0]\n",
    "            prods.append(np.product(row))\n",
    "            prods.append(np.product(col))\n",
    "        return np.max(prods)\n",
    "                         \n",
    "    ###############################################\n",
    "    # Main solver.\n",
    "    \n",
    "    def solve(self):\n",
    "        solution =[]\n",
    "        print('\\nThe problem - Start {}'.format(time.strftime('%X')))\n",
    "        for col,row in itertools.product(range(8),range(8)):\n",
    "            grid = np.zeros((8,8))\n",
    "            start = time.perf_counter()\n",
    "            if self.end_flag ==0:\n",
    "                self.fill(row,col,grid,1)\n",
    "                stop = time.perf_counter()\n",
    "                print('Solution row {}, col {} took {:0.4f} seconds'.format(row,col,(stop-start)))\n",
    "                \n",
    "        print('\\nThe problem - end {}'.format(time.strftime('%X')))\n",
    "        \n"
   ]
  },
  {
   "cell_type": "code",
   "execution_count": 5,
   "metadata": {
    "colab": {
     "base_uri": "https://localhost:8080/",
     "height": 374
    },
    "id": "zexQ8t1kT1W3",
    "outputId": "7c2aec4e-d2fb-45d8-fc7e-679051faafed"
   },
   "outputs": [
    {
     "name": "stdout",
     "output_type": "stream",
     "text": [
      "\n",
      "The problem - Start 16:30:24\n",
      "Solution row 0, col 0 took 0.1091 seconds\n",
      "Solution row 1, col 0 took 9.1017 seconds\n",
      "Solution row 2, col 0 took 0.1872 seconds\n",
      "Solution row 3, col 0 took 9.5666 seconds\n",
      "Solution row 4, col 0 took 0.2015 seconds\n",
      "Solution row 5, col 0 took 9.6001 seconds\n",
      "Solution row 6, col 0 took 0.1492 seconds\n",
      "Solution row 7, col 0 took 6.5661 seconds\n",
      "Solution row 0, col 1 took 5.1331 seconds\n",
      "Solution row 1, col 1 took 0.2001 seconds\n",
      "Solution row 2, col 1 took 4.6015 seconds\n",
      "Solution row 3, col 1 took 0.2694 seconds\n",
      "Solution row 4, col 1 took 21.1651 seconds\n",
      "Solution row 5, col 1 took 0.2510 seconds\n",
      "Solution row 6, col 1 took 11.2945 seconds\n",
      "Solution row 7, col 1 took 0.1503 seconds\n",
      "Solution row 0, col 2 took 0.1886 seconds\n",
      "Solution row 1, col 2 took 16.1378 seconds\n",
      "Solution row 2, col 2 took 0.3083 seconds\n",
      "******Max Product = 19,675,656******\n",
      "Solution row 3, col 2 took 1.8122 seconds\n",
      "\n",
      "The problem - end 16:32:01\n"
     ]
    },
    {
     "data": {
      "image/png": "[encoded data removed]",
      "text/plain": [
       "<Figure size 252x252 with 1 Axes>"
      ]
     },
     "metadata": {
      "needs_background": "light"
     },
     "output_type": "display_data"
    }
   ],
   "source": [
    "start = time.perf_counter()\n",
    "test = Matrix(bot_labels,right_labels)\n",
    "test.solve()\n",
    "stop =  time.perf_counter()"
   ]
  },
  {
   "cell_type": "code",
   "execution_count": 6,
   "metadata": {},
   "outputs": [
    {
     "name": "stdout",
     "output_type": "stream",
     "text": [
      "The knight’s path is presented here, and the maximum product of the numbers in any row or column is 19,675,656 .\n"
     ]
    }
   ],
   "source": [
    "url='https://www.janestreet.com/puzzles/solutions/march-2016-solution/'\n",
    "res = requests.get(url)\n",
    "soup = BeautifulSoup(res.content, 'html.parser')\n",
    "x =[text for text in soup.body.stripped_strings]\n",
    "\n",
    "print(\" \".join(x[7:10]))"
   ]
  },
  {
   "cell_type": "markdown",
   "metadata": {
    "id": "ld_NFUIfT1W9"
   },
   "source": [
    "<img src=\"https://www.janestreet.com/puzzles/wp-content/uploads/2016/04/mar16_solution.png\" width=\"350\" >"
   ]
  },
  {
   "cell_type": "code",
   "execution_count": 7,
   "metadata": {},
   "outputs": [],
   "source": [
    "solution = np.array([[0 ,0 ,10,0 ,0 ,0 ,0 ,0 ],\n",
    "                     [0 ,0 ,0 ,22,0 ,12,0 ,0 ],\n",
    "                     [0 ,9 ,28,11,26,21,0 ,13],\n",
    "                     [0 ,0 ,1 ,4 ,23,14,25,0 ],\n",
    "                     [0 ,5 ,8 ,27,20,3 ,0 ,0 ],\n",
    "                     [7 ,0 ,19,2 ,15,24,17,0 ],\n",
    "                     [0 ,0 ,6 ,0 ,18,0 ,0 ,0 ],\n",
    "                     [0 ,0 ,0 ,0 ,0 ,16,0 ,0 ]\n",
    "                    ])\n"
   ]
  }
 ],
 "metadata": {
  "colab": {
   "include_colab_link": true,
   "name": "JaneSt-Feb18.ipynb",
   "provenance": []
  },
  "kernelspec": {
   "display_name": "Python 3",
   "language": "python",
   "name": "python3"
  },
  "language_info": {
   "codemirror_mode": {
    "name": "ipython",
    "version": 3
   },
   "file_extension": ".py",
   "mimetype": "text/x-python",
   "name": "python",
   "nbconvert_exporter": "python",
   "pygments_lexer": "ipython3",
   "version": "3.7.7"
  }
 },
 "nbformat": 4,
 "nbformat_minor": 4
}
