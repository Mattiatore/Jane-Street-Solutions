{
 "cells": [
  {
   "cell_type": "code",
   "execution_count": 57,
   "metadata": {
    "id": "Oq1xibzMT1Wl"
   },
   "outputs": [],
   "source": [
    "import numpy as np\n",
    "import pandas as pd\n",
    "import time\n",
    "import seaborn as sns\n",
    "import matplotlib.pyplot as plt\n",
    "import requests\n",
    "from bs4 import BeautifulSoup\n",
    "import itertools\n",
    "from copy import deepcopy as dcopy,copy\n",
    "from skimage.morphology import label\n",
    "from scipy.ndimage import measurements"
   ]
  },
  {
   "cell_type": "code",
   "execution_count": 58,
   "metadata": {
    "id": "ICTfvjZUT1Wr"
   },
   "outputs": [
    {
     "name": "stdout",
     "output_type": "stream",
     "text": [
      "A knight was alone on a chessboard.  He started on a square and marked it “1”, then moved to a square and marked it “2”, then moved to a square and marked it “3”, and so on, each time making legal knight’s moves, and never revisiting a square.   Some of the squares he visited are marked on the chessboard presented here. The knight stopped on his 28th square, at which point the 28 visited squares formed a picture with spiral symmetry (90 degree rotational symmetry). The numbers along the sides of the 8 rows and 8 columns are the sums of the numbers of the squares visited by the knight in that row/column. The answer to this month’s puzzle is the largest product of the numbers in any one row or column.\n"
     ]
    }
   ],
   "source": [
    "\n",
    "url='https://www.janestreet.com/puzzles/knight-moves/'\n",
    "res = requests.get(url)\n",
    "soup = BeautifulSoup(res.content, 'html.parser')\n",
    "x =[text for text in soup.body.stripped_strings]\n",
    "\n",
    "print(\" \".join(x[7:11]))"
   ]
  },
  {
   "cell_type": "markdown",
   "metadata": {
    "id": "U9Yh1D3HT1Ws"
   },
   "source": [
    "### Puzzle details\n",
    "<img src=\"https://www.janestreet.com/puzzles/wp-content/uploads/2016/03/Mar16_puzzle.png\" width=\"250\">"
   ]
  },
  {
   "cell_type": "code",
   "execution_count": 153,
   "metadata": {
    "id": "0VI0NM6ET1Wt"
   },
   "outputs": [],
   "source": [
    "#Setup the constraints\n",
    "# 28 filled cells so 7 in each quarter\n",
    "\n",
    "\n",
    "bot_labels  = [7,14,72,66,102,90,42,13]\n",
    "right_labels =[10,34,108,67,63,84,24,16]\n",
    "\n",
    "solution = np.array([[0 ,0 ,10,0 ,0 ,0 ,0 ,0 ],\n",
    "                     [0 ,0 ,0 ,22,0 ,12,0 ,0 ],\n",
    "                     [0 ,9 ,28,11,26,21,0 ,13],\n",
    "                     [0 ,0 ,1 ,4 ,23,14,25,0 ],\n",
    "                     [0 ,5 ,8 ,27,20,3 ,0 ,0 ],\n",
    "                     [7 ,0 ,19,2 ,15,24,17,0 ],\n",
    "                     [0 ,0 ,6 ,0 ,18,0 ,0 ,0 ],\n",
    "                     [0 ,0 ,0 ,0 ,0 ,16,0 ,0 ]\n",
    "                    ])\n",
    "\n",
    "\n",
    "#########################\n",
    "# Code to print in a \"nice\" format\n",
    "                            \n",
    "def sol_print(solved):\n",
    "    fig,ax = plt.subplots(1,1,figsize=(4,4))\n",
    "    x = np.array((solved).astype('int').astype('str'))\n",
    "    x[x==\"0\"] =\"-\"\n",
    "    y = solved != 0\n",
    "    ax = sns.heatmap(y,annot=x,cbar=False,cmap=\"Reds\",fmt=\"\",linewidths=1,center=4,linecolor=\"grey\",xticklabels=bot_labels, yticklabels=right_labels)\n",
    "    ax.tick_params(left=False, bottom=False,labelleft=False, labelright=True)\n",
    "    plt.xticks(rotation=0,fontweight ='demi')\n",
    "    plt.yticks(rotation=0,fontweight ='demi')\n",
    "    plt.tight_layout()\n",
    "\n"
   ]
  },
  {
   "cell_type": "code",
   "execution_count": 154,
   "metadata": {
    "id": "844RhDFpT1Wu"
   },
   "outputs": [],
   "source": [
    "class Matrix():\n",
    "    def __init__(self,fixed,bot_labels,right_labels):\n",
    "        self.bot_labels = bot_labels\n",
    "        self.right_labels = right_labels\n",
    "        self.grid = fixed\n",
    "        self.solution = []\n",
    "        self.end_flag =0\n",
    "     \n",
    "     \n",
    "    ##############################################\n",
    "    # Get the products of the areas of the connected cells\n",
    "    \n",
    "    def product(self):\n",
    "        prods =[]\n",
    "        for i in range(8):\n",
    "            row = self.grid[i,:]\n",
    "            col = self.grid[:,i]\n",
    "            row = row[row != 0]\n",
    "            col = col[col != 0]\n",
    "            prods.append(np.product(row))\n",
    "            prods.append(np.product(col))\n",
    "        return np.max(prods)\n",
    "                         \n",
    "    ###############################################\n",
    "    # Main solver.\n",
    "    \n",
    "    def solve(self):\n",
    "        return True\n",
    "           \n"
   ]
  },
  {
   "cell_type": "code",
   "execution_count": 155,
   "metadata": {
    "colab": {
     "base_uri": "https://localhost:8080/",
     "height": 374
    },
    "id": "zexQ8t1kT1W3",
    "outputId": "7c2aec4e-d2fb-45d8-fc7e-679051faafed"
   },
   "outputs": [
    {
     "name": "stdout",
     "output_type": "stream",
     "text": [
      "Max Product = 19,675,656\n",
      "\n",
      "Solution took 0.1098 seconds\n",
      "\n"
     ]
    },
    {
     "data": {
      "image/png": "[encoded data removed]",
      "text/plain": [
       "<Figure size 288x288 with 1 Axes>"
      ]
     },
     "metadata": {
      "needs_background": "light"
     },
     "output_type": "display_data"
    }
   ],
   "source": [
    "start = time.perf_counter()\n",
    "test = Matrix(solution,bot_labels,right_labels)\n",
    "test.solve()\n",
    "sol_print(test.grid)\n",
    "print(\"Max Product = {:,.0f}\".format(test.product()))\n",
    "stop =  time.perf_counter()\n",
    "print('\\nSolution took {:0.4f} seconds\\n'.format((stop-start)))"
   ]
  },
  {
   "cell_type": "code",
   "execution_count": 122,
   "metadata": {},
   "outputs": [
    {
     "name": "stdout",
     "output_type": "stream",
     "text": [
      "The knight’s path is presented here, and the maximum product of the numbers in any row or column is 19,675,656 .\n"
     ]
    }
   ],
   "source": [
    "url='https://www.janestreet.com/puzzles/solutions/march-2016-solution/'\n",
    "res = requests.get(url)\n",
    "soup = BeautifulSoup(res.content, 'html.parser')\n",
    "x =[text for text in soup.body.stripped_strings]\n",
    "\n",
    "print(\" \".join(x[7:10]))"
   ]
  },
  {
   "cell_type": "markdown",
   "metadata": {
    "id": "ld_NFUIfT1W9"
   },
   "source": [
    "<img src=\"https://www.janestreet.com/puzzles/wp-content/uploads/2016/04/mar16_solution.png\" width=\"400\">"
   ]
  },
  {
   "cell_type": "code",
   "execution_count": null,
   "metadata": {},
   "outputs": [],
   "source": []
  }
 ],
 "metadata": {
  "colab": {
   "include_colab_link": true,
   "name": "JaneSt-Feb18.ipynb",
   "provenance": []
  },
  "kernelspec": {
   "display_name": "Python 3",
   "language": "python",
   "name": "python3"
  },
  "language_info": {
   "codemirror_mode": {
    "name": "ipython",
    "version": 3
   },
   "file_extension": ".py",
   "mimetype": "text/x-python",
   "name": "python",
   "nbconvert_exporter": "python",
   "pygments_lexer": "ipython3",
   "version": "3.7.7"
  }
 },
 "nbformat": 4,
 "nbformat_minor": 4
}
