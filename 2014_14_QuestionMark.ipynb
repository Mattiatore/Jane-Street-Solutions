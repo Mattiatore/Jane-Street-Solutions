{
 "cells": [
  {
   "cell_type": "code",
   "execution_count": 1,
   "metadata": {
    "id": "Oq1xibzMT1Wl"
   },
   "outputs": [],
   "source": [
    "import requests\n",
    "from bs4 import BeautifulSoup\n",
    "from IPython.display import Markdown, display\n",
    "from sympy.ntheory import primefactors\n",
    "import sympy\n",
    "import string"
   ]
  },
  {
   "cell_type": "code",
   "execution_count": 2,
   "metadata": {
    "id": "ICTfvjZUT1Wr"
   },
   "outputs": [
    {
     "data": {
      "text/markdown": [
       "### June 2014 : Puzzle\n",
       "\n",
       "223934\n",
       "1541\n",
       "14839\n",
       "259071087\n",
       "191558\n",
       "425859973\n",
       "276971\n",
       "137149\n",
       "27539479\n",
       "137149\n",
       "467797\n",
       "27539479\n",
       "137149\n",
       "467797\n",
       "745921\n",
       "277660180457\n",
       "989\n",
       "2078809\n",
       "18095\n",
       "?"
      ],
      "text/plain": [
       "<IPython.core.display.Markdown object>"
      ]
     },
     "metadata": {},
     "output_type": "display_data"
    }
   ],
   "source": [
    "url='https://www.janestreet.com/puzzles/question-mark-index/'\n",
    "res = requests.get(url)\n",
    "soup = BeautifulSoup(res.content, 'html.parser')\n",
    "y =[text for text in soup.body.stripped_strings]\n",
    "#display([(i,j) for i,j in enumerate(y)])\n",
    "display(Markdown(\"### \"+y[8]+\"\\n\\n\"+str(\"\\n\".join(y[10:11]))))"
   ]
  },
  {
   "cell_type": "code",
   "execution_count": 3,
   "metadata": {
    "id": "844RhDFpT1Wu"
   },
   "outputs": [
    {
     "name": "stdout",
     "output_type": "stream",
     "text": [
      "['ahtw', 'is', 'eht', 'bemnru', 'aht', 'deilsy', 'otw', 'isx', 'ensv', 'isx', 'ein', 'ensv', 'isx', 'ein', 'ehnw', 'einrtw', 'in', 'hist', 'cdeo']\n"
     ]
    }
   ],
   "source": [
    "data = [int(i) for i in y[10].split(\"\\n\")[:-1]]\n",
    "primes = list(sympy.primerange(0, 100))\n",
    "letters =[i for i in string.ascii_lowercase]\n",
    "print([\"\".join([letters[primes.index(j)] for j in primefactors(i)]) for i in data])"
   ]
  },
  {
   "cell_type": "code",
   "execution_count": 4,
   "metadata": {
    "id": "844RhDFpT1Wu"
   },
   "outputs": [
    {
     "data": {
      "text/plain": [
       "['f', 'i', 't', 'y']"
      ]
     },
     "execution_count": 4,
     "metadata": {},
     "output_type": "execute_result"
    }
   ],
   "source": [
    "[letters[primes.index(i)] for i in primefactors(26769769)]"
   ]
  },
  {
   "cell_type": "code",
   "execution_count": 5,
   "metadata": {},
   "outputs": [
    {
     "data": {
      "text/markdown": [
       "### June 2014 : Solution\n",
       "\n",
       "This month’s puzzle, as about 20 of you figured out, is a question written in\n",
       "code. Each of the given numbers is a composite number with prime factors less\n",
       "than or equal to 101. For each factorization, mapping the nth prime number to\n",
       "the nth letter of the alphabet and anagramming will give you each word. So, the\n",
       "question asks “What is the number that yields two six seven six nine seven six\n",
       "nine when written in this code?” Iterating again, 26769769 yields “fifty” (or\n",
       "“50” was accepted). Congrats to all solvers, especially Quinn Beightol, the\n",
       "randomly-chosen winner of this month’s Jane Street t-shirt!"
      ],
      "text/plain": [
       "<IPython.core.display.Markdown object>"
      ]
     },
     "metadata": {},
     "output_type": "display_data"
    }
   ],
   "source": [
    "url='https://www.janestreet.com/puzzles/question-mark-solution/'\n",
    "res = requests.get(url)\n",
    "soup = BeautifulSoup(res.content, 'html.parser')\n",
    "y =[text for text in soup.body.stripped_strings]\n",
    "#display([(i,j) for i,j in enumerate(y)])\n",
    "display(Markdown(\"### \"+y[8]+\"\\n\\n\"+str(\"\\n\".join(y[10:11]))))"
   ]
  },
  {
   "cell_type": "code",
   "execution_count": null,
   "metadata": {},
   "outputs": [],
   "source": []
  }
 ],
 "metadata": {
  "colab": {
   "include_colab_link": true,
   "name": "JaneSt-Feb18.ipynb",
   "provenance": []
  },
  "kernelspec": {
   "display_name": "Python 3",
   "language": "python",
   "name": "python3"
  },
  "language_info": {
   "codemirror_mode": {
    "name": "ipython",
    "version": 3
   },
   "file_extension": ".py",
   "mimetype": "text/x-python",
   "name": "python",
   "nbconvert_exporter": "python",
   "pygments_lexer": "ipython3",
   "version": "3.7.10"
  }
 },
 "nbformat": 4,
 "nbformat_minor": 4
}
