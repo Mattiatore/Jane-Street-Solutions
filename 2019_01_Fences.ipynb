{
 "cells": [
  {
   "cell_type": "code",
   "execution_count": 28,
   "metadata": {
    "id": "Oq1xibzMT1Wl"
   },
   "outputs": [],
   "source": [
    "import numpy as np\n",
    "import time\n",
    "import seaborn as sns\n",
    "import matplotlib.pyplot as plt\n",
    "import requests\n",
    "from bs4 import BeautifulSoup\n",
    "import itertools\n",
    "from copy import deepcopy as dcopy,copy\n",
    "from scipy.ndimage import measurements\n",
    "from collections import defaultdict\n",
    "import numba as nb"
   ]
  },
  {
   "cell_type": "code",
   "execution_count": 29,
   "metadata": {
    "id": "ICTfvjZUT1Wr"
   },
   "outputs": [
    {
     "name": "stdout",
     "output_type": "stream",
     "text": [
      "A 17-by-17 field is divided into unit squares. Some of the squares contain “posts” at their center. Each post is represented below by a number. Construct one or more fences emanating from each post, such that the total length of fence connected to a post equals the number given. Fences have integer length and can only be constructed horizontally or vertically. Fences from different posts may not touch, nor may a fence from one post touch a different post. The goal of this puzzle is to build your fences in such a manner that it is possible to draw a closed loop through some of the remaining empty squares. The loop must enclose at least one post, and must be symmetric in some way (either via rotation or reflection). As in the example, the loop must be rectilinear, passing through the centers of adjacent empty squares. The answer to this puzzle is the product of the fence-lengths of the fences inside the loop . (Note that in the Example, the answer is 2 , not 4.)\n"
     ]
    }
   ],
   "source": [
    "# Another one with no fixed end point.\n",
    "\n",
    "url='https://www.janestreet.com/puzzles/fences/'\n",
    "res = requests.get(url)\n",
    "soup = BeautifulSoup(res.content, 'html.parser')\n",
    "x =[text for text in soup.body.stripped_strings]\n",
    "\n",
    "print(\" \".join(x[7:20]))"
   ]
  },
  {
   "cell_type": "markdown",
   "metadata": {
    "id": "U9Yh1D3HT1Ws"
   },
   "source": [
    "### Puzzle details\n",
    "<img src=\"https://www.janestreet.com/puzzles/wp-content/uploads/2019/01/20190101_fences.png\" width=\"350\">"
   ]
  },
  {
   "cell_type": "code",
   "execution_count": 30,
   "metadata": {
    "id": "844RhDFpT1Wu"
   },
   "outputs": [
    {
     "data": {
      "text/plain": [
       "(0.0, 17.0, 17.0, 0.0)"
      ]
     },
     "execution_count": 30,
     "metadata": {},
     "output_type": "execute_result"
    },
    {
     "data": {
      "image/png": "[encoded data removed]",
      "text/plain": [
       "<Figure size 432x432 with 1 Axes>"
      ]
     },
     "metadata": {
      "needs_background": "light"
     },
     "output_type": "display_data"
    }
   ],
   "source": [
    "# Setup the constraints\n",
    "fixed = np.array([[0, 0, 0, 0, 0, 2, 0, 0, 0, 1, 0, 0, 0, 0, 0, 0, 5],\n",
    "                  [0, 0, 0, 0, 0, 0, 0, 3, 0, 0, 0, 0, 0, 0, 2, 0, 0],\n",
    "                  [0, 0, 0, 0, 3, 0, 0, 0, 0, 0, 0, 0, 0, 0, 0, 0, 0],\n",
    "                  [5, 0, 0, 0, 0, 0, 0, 0, 0, 0, 0, 22, 0, 0, 0, 0, 0],\n",
    "                  [0, 0, 0, 0, 4, 0, 0, 0, 0, 0, 0, 0, 0, 0, 0, 0, 0],\n",
    "                  [0, 0, 0, 0, 0, 0, 0, 0, 0, 4, 0, 0, 0, 1, 0, 0, 0],\n",
    "                  [0, 0, 0, 0, 0, 0, 0, 0, 0, 0, 0, 0, 0, 0, 0, 19, 0],\n",
    " [0, 0, 0, 0, 0, 0, 0, 15, 0, 0, 0, 0, 0, 0, 0, 0, 0],\n",
    " [0, 0, 0, 0, 0, 0, 0, 0, 4, 0, 0, 0, 0, 0, 0, 0, 0],\n",
    " [0, 0, 0, 0, 0, 0, 0, 0, 0, 2, 0, 0, 0, 0, 0, 0, 0],\n",
    " [0, 9, 0, 0, 0, 0, 0, 0, 0, 0, 0, 0, 0, 0, 0, 0, 0],\n",
    " [0, 0, 0, 3, 0, 0, 0, 2, 0, 0, 0, 0, 0, 0, 0, 0, 0],\n",
    " [0, 0, 0, 0, 0, 0, 0, 0, 0, 0, 0, 0, 4, 0, 0, 0, 0],\n",
    " [0, 0, 0, 0, 0, 8, 0, 0, 0, 0, 0, 0, 0, 0, 0, 0, 9],\n",
    " [0, 0, 0, 0, 0, 0, 0, 0, 0, 0, 0, 0, 4, 0, 0, 0, 0],\n",
    " [0, 0, 3, 0, 0, 0, 0, 0, 0, 15, 0, 0, 0, 0, 0, 0, 0],\n",
    " [6, 0, 0, 0, 0, 0, 0, 1, 0, 0, 0, 4, 0, 0, 0, 0, 0]],dtype=int)\n",
    "\n",
    "fig,ax = plt.subplots(1,1,figsize=(6,6))\n",
    "x = np.array(fixed.astype('int').astype('str'))\n",
    "x[x==\"0\"] =\"-\"\n",
    "ax =sns.heatmap(fixed>0,annot=x,cbar=False,cmap=\"Reds\",center =2,fmt=\"\",linewidths=1)\n",
    "ax.axis(\"off\")\n",
    "\n"
   ]
  },
  {
   "cell_type": "code",
   "execution_count": 127,
   "metadata": {
    "id": "844RhDFpT1Wu"
   },
   "outputs": [],
   "source": [
    "class Matrix():\n",
    "    def __init__(self,fixed):\n",
    "        self.fixed = fixed\n",
    "        \n",
    "    #########################################\n",
    "    # define possible moves \n",
    "\n",
    "    def clearance(self,grid,row,col):\n",
    "        num = grid[row,col]\n",
    "        \n",
    "        top = grid[:row,col][::-1]\n",
    "        bot = grid[row+1:,col]\n",
    "        lhs = grid[row,:col][::-1]\n",
    "        rhs = grid[row,col+1:]\n",
    "        bounds = [top,bot,lhs,rhs]\n",
    "        \n",
    "        allowed = [-num,0]\n",
    "        clearance = []\n",
    "        \n",
    "        for i in range(4):\n",
    "\n",
    "            for n in range(len(bounds[i])):\n",
    "                if bounds[i][n] not in allowed:\n",
    "                    n -=1\n",
    "                    break                        \n",
    "            if len(bounds[i])==0:\n",
    "                n=-1\n",
    "            clearance.append(n+1)\n",
    "        \n",
    "        return clearance\n",
    "    \n",
    "    def forced_by_clearance(self,grid):\n",
    "        for row,col in itertools.product(range(17),range(17)):\n",
    "            num = grid[row,col]\n",
    "            if num >0:\n",
    "                bounds = self.clearance(grid,row,col)\n",
    "                forced = [max(0,num-np.sum(bounds)+bounds[i]) for i in range(4)]\n",
    "                [top,bot,lhs,rhs] =forced\n",
    "                grid[row-top:row,col] = -num\n",
    "                grid[row+1:row+1+bot,col] = -num\n",
    "                grid[row,col-lhs:col] = -num\n",
    "                grid[row,col+1:col+1+rhs] = -num\n",
    "        return grid\n",
    "   \n",
    "    ##############################################\n",
    "    # Turn the grid moves into a nice format\n",
    "\n",
    "                         \n",
    "    ###############################################\n",
    "    # Main solver.  \n",
    "    def solve(self):\n",
    "        start = time.time()\n",
    "        grid=dcopy(fixed)\n",
    "        changed = True\n",
    "        while changed:\n",
    "            changed = False\n",
    "            copy_grid = dcopy(grid)\n",
    "            grid = self.forced_by_clearance(grid)\n",
    "            if np.any(copy_grid !=grid):\n",
    "                changed=True\n",
    "                \n",
    "        fig,ax = plt.subplots(1,1,figsize=(6,6))\n",
    "        x = np.array(grid.astype('int').astype('str'))\n",
    "        x[x==\"0\"] =\"-\"\n",
    "        ax =sns.heatmap(fixed>0,annot=x,cbar=False,cmap=\"Reds\",center =2,fmt=\"\",linewidths=1)\n",
    "        ax.axis(\"off\")        \n",
    "            \n",
    "        print(\"***Solved in {:.15f} seconds***\\n\".format(time.time() - start))        \n",
    "        \n",
    "        "
   ]
  },
  {
   "cell_type": "code",
   "execution_count": 128,
   "metadata": {
    "colab": {
     "base_uri": "https://localhost:8080/",
     "height": 374
    },
    "id": "zexQ8t1kT1W3",
    "outputId": "7c2aec4e-d2fb-45d8-fc7e-679051faafed"
   },
   "outputs": [
    {
     "name": "stdout",
     "output_type": "stream",
     "text": [
      "0 5 [0, 12, 5, 3]\n",
      "0 9 [0, 4, 3, 6]\n",
      "0 16 [0, 12, 6, 0]\n",
      "1 7 [1, 5, 7, 6]\n",
      "1 14 [1, 15, 6, 2]\n",
      "2 4 [2, 1, 4, 12]\n",
      "3 0 [3, 12, 0, 10]\n",
      "3 11 [3, 12, 10, 5]\n",
      "4 4 [1, 12, 4, 6]\n",
      "5 9 [1, 3, 9, 1]\n",
      "5 13 [5, 11, 1, 3]\n",
      "6 15 [6, 10, 3, 1]\n",
      "7 7 [5, 3, 7, 3]\n",
      "8 8 [8, 8, 8, 6]\n",
      "9 9 [3, 5, 9, 5]\n",
      "10 1 [10, 6, 1, 13]\n",
      "11 3 [3, 5, 3, 3]\n",
      "11 7 [3, 4, 3, 7]\n",
      "12 12 [12, 1, 12, 2]\n",
      "13 5 [5, 3, 5, 9]\n",
      "13 16 [12, 3, 0, 0]\n",
      "14 12 [1, 2, 12, 2]\n",
      "15 2 [15, 1, 2, 6]\n",
      "15 9 [5, 1, 6, 5]\n",
      "16 0 [12, 0, 0, 6]\n",
      "16 7 [0, 0, 6, 3]\n",
      "16 11 [0, 0, 3, 5]\n",
      "0 5 [0, 6, 5, 3]\n",
      "0 9 [0, 2, 3, 6]\n",
      "0 16 [0, 6, 6, 0]\n",
      "1 7 [1, 3, 7, 6]\n",
      "1 14 [1, 4, 6, 0]\n",
      "2 4 [2, 1, 4, 10]\n",
      "3 0 [3, 12, 0, 8]\n",
      "3 11 [3, 11, 10, 3]\n",
      "4 4 [1, 2, 4, 6]\n",
      "5 9 [1, 3, 1, 1]\n",
      "5 13 [5, 0, 1, 1]\n",
      "6 15 [6, 10, 3, 1]\n",
      "7 7 [3, 3, 7, 3]\n",
      "8 8 [0, 6, 0, 2]\n",
      "9 9 [1, 2, 0, 1]\n",
      "10 1 [2, 6, 1, 6]\n",
      "11 3 [3, 5, 3, 3]\n",
      "11 7 [1, 3, 3, 7]\n",
      "12 12 [12, 1, 2, 2]\n",
      "13 5 [5, 1, 5, 3]\n",
      "13 16 [12, 3, 0, 0]\n",
      "14 12 [1, 0, 2, 2]\n",
      "15 2 [7, 1, 2, 2]\n",
      "15 9 [5, 1, 6, 5]\n",
      "16 0 [12, 0, 0, 6]\n",
      "16 7 [0, 0, 6, 3]\n",
      "16 11 [0, 0, 3, 5]\n",
      "0 5 [0, 6, 5, 3]\n",
      "0 9 [0, 2, 3, 6]\n",
      "0 16 [0, 6, 6, 0]\n",
      "1 7 [1, 1, 7, 6]\n",
      "1 14 [1, 4, 6, 0]\n",
      "2 4 [2, 1, 4, 10]\n",
      "3 0 [3, 12, 0, 5]\n",
      "3 11 [3, 10, 10, 3]\n",
      "4 4 [1, 2, 4, 6]\n",
      "5 9 [1, 1, 1, 1]\n",
      "5 13 [5, 0, 1, 1]\n",
      "6 15 [6, 10, 3, 1]\n",
      "7 7 [3, 3, 7, 3]\n",
      "8 8 [0, 6, 0, 2]\n",
      "9 9 [1, 2, 0, 1]\n",
      "10 1 [2, 6, 1, 6]\n",
      "11 3 [3, 5, 3, 3]\n",
      "11 7 [1, 3, 3, 7]\n",
      "12 12 [12, 1, 2, 2]\n",
      "13 5 [5, 1, 5, 3]\n",
      "13 16 [12, 3, 0, 0]\n",
      "14 12 [1, 0, 2, 2]\n",
      "15 2 [7, 1, 2, 2]\n",
      "15 9 [5, 1, 6, 5]\n",
      "16 0 [12, 0, 0, 6]\n",
      "16 7 [0, 0, 6, 3]\n",
      "16 11 [0, 0, 3, 5]\n",
      "0 5 [0, 2, 5, 3]\n",
      "0 9 [0, 2, 3, 6]\n",
      "0 16 [0, 6, 6, 0]\n",
      "1 7 [1, 1, 7, 6]\n",
      "1 14 [1, 4, 6, 0]\n",
      "2 4 [2, 1, 4, 10]\n",
      "3 0 [3, 12, 0, 4]\n",
      "3 11 [3, 10, 10, 3]\n",
      "4 4 [1, 2, 4, 6]\n",
      "5 9 [1, 1, 1, 1]\n",
      "5 13 [5, 0, 1, 1]\n",
      "6 15 [6, 10, 3, 1]\n",
      "7 7 [3, 3, 7, 3]\n",
      "8 8 [0, 6, 0, 2]\n",
      "9 9 [1, 2, 0, 1]\n",
      "10 1 [2, 6, 1, 6]\n",
      "11 3 [3, 5, 3, 3]\n",
      "11 7 [1, 3, 3, 7]\n",
      "12 12 [12, 1, 2, 2]\n",
      "13 5 [5, 1, 5, 3]\n",
      "13 16 [12, 3, 0, 0]\n",
      "14 12 [1, 0, 2, 2]\n",
      "15 2 [7, 1, 2, 2]\n",
      "15 9 [5, 1, 6, 5]\n",
      "16 0 [12, 0, 0, 6]\n",
      "16 7 [0, 0, 6, 3]\n",
      "16 11 [0, 0, 3, 5]\n",
      "***Solved in 0.185563802719116 seconds***\n",
      "\n"
     ]
    },
    {
     "data": {
      "image/png": "[encoded data removed]",
      "text/plain": [
       "<Figure size 432x432 with 1 Axes>"
      ]
     },
     "metadata": {
      "needs_background": "light"
     },
     "output_type": "display_data"
    }
   ],
   "source": [
    "test = Matrix(fixed)\n",
    "test.solve()"
   ]
  },
  {
   "cell_type": "code",
   "execution_count": 44,
   "metadata": {},
   "outputs": [
    {
     "name": "stdout",
     "output_type": "stream",
     "text": [
      "The unique configuration that works is shown to the left. The product of the lengths of the fences inside the loop is 10,077,696 . Nicely done, solvers!\n"
     ]
    }
   ],
   "source": [
    "url='https://www.janestreet.com/puzzles/solutions/january-2019-solution/'\n",
    "res = requests.get(url)\n",
    "soup = BeautifulSoup(res.content, 'html.parser')\n",
    "x =[text for text in soup.body.stripped_strings]\n",
    "\n",
    "print(\" \".join(x[7:10]))"
   ]
  },
  {
   "cell_type": "markdown",
   "metadata": {},
   "source": [
    "<img src=\"https://www.janestreet.com/puzzles/wp-content/uploads/2019/02/20190130_fences_solved.png\" width=\"350\">"
   ]
  },
  {
   "cell_type": "code",
   "execution_count": 84,
   "metadata": {},
   "outputs": [
    {
     "data": {
      "text/plain": [
       "(0.0, 17.0, 17.0, 0.0)"
      ]
     },
     "execution_count": 84,
     "metadata": {},
     "output_type": "execute_result"
    },
    {
     "data": {
      "image/png": "[encoded data removed]",
      "text/plain": [
       "<Figure size 864x432 with 2 Axes>"
      ]
     },
     "metadata": {
      "needs_background": "light"
     },
     "output_type": "display_data"
    }
   ],
   "source": [
    "solved = np.array([\n",
    "    [ -5,   0,   0,   0,  -2,   2, -99,  -3,  -1,   1,  99,  99,  99,-99,  -2, -19,   5],\n",
    "    [ -5,  99,   0,  99,  99,  99,  99,   3,  -3,  -3,  99, -22,  99, -2,   2, -19,  -5],\n",
    "    [ -5,  99,  -3,  -3,   3,  -3,  99,  99,  99,  99,  99, -22,  99, 99,  99, -19,  -5],\n",
    "    [  5,  99, -22, -22, -22, -22, -22, -22, -22, -22, -22,  22, -22,-22,  99, -19,  -5],\n",
    "    [ -5,  99,   0,   0,   4,   0,   0, -15, -99,  -4, -99, -22,  99,  99,  99, -19,  -5],\n",
    "    [ -5,   0,   0,   0,   0,   0,   0, -15,  -4,   4,  -4, -22,  99,   1,  -1, -19,  -5],\n",
    "    [ 99,  99,   0,   0,   0,   0,   0, -15, -99,  -4, -99, -22,  99, -19, -19,  19, -19],\n",
    "    [ 99, -15, -15, -15, -15, -15, -15,  15, -15, -15, -15, -22,  99,   0,   0, -19,  -9],\n",
    "    [ 99,  99,  99,   0,  99,  99,  99, -15,   4,  -4,  -4, -22,   0,   0,   0, -19,  -9],\n",
    "    [-99, -99,   0,   0,   0,  -8,  99, -15,  -4,   2,  -2, -22, -99,   0,   0, -19,  -9],\n",
    "    [-99,   9,  -9, -99, -99,  -8,  99, -15,  -4,  -2, -99, -22,  -4,   0,   0, -19,  -9],\n",
    "    [-99,  -9, -99,   3, -99,  -8,  99,   2,  99,  99,  99, -22,  -4,   0,   0, -19,  -9],\n",
    "    [-99,  -9, -99, -99, -99,  -8,  99,  -2,  99, -15,  99, -22,   4,   0,   0, -19,  -9],\n",
    "    [-99,  -9,  -8,  -8,  -8,   8,  99,  -2,  99, -15,  99,  99,  99,  99,   0, -19,   9],\n",
    "    [-99, -99, -99, -99, -99,  -8,  99,  99,  99, -15,  -4,  -4,   4,  -4,  -4, -19,  -9],\n",
    "    [-99,  -3,   3, -15, -15, -15, -15, -15, -15,  15, -15, -15, -15, -15, -15, -19,  -9],\n",
    "    [  6, -99, -99, -99, -99, -99, -99,   1, -99, -15,  -4,   4,  -4,  -4,  -4, -19,  -9]])\n",
    "\n",
    "annot=np.zeros((17,17)).astype('int').astype('str')\n",
    "\n",
    "for i,j in itertools.product(range(17),range(17)):\n",
    "    test = solved[i,j]\n",
    "    if  abs(test) == 99 or test==0 :\n",
    "        annot[i,j]=\"\"\n",
    "    elif test > 0:\n",
    "        annot[i,j] =str(test)\n",
    "    elif test < 0:\n",
    "        if i-1 > -1:\n",
    "            if abs(test) ==  abs(solved[i-1,j]):\n",
    "                annot[i,j] =\"|\"\n",
    "        if i+1 < 17:\n",
    "            if abs(test) ==  abs(solved[i+1,j]):\n",
    "                annot[i,j] =\"|\"\n",
    "        if j-1 > -1:\n",
    "            if abs(test) ==  abs(solved[i,j-1]):\n",
    "                annot[i,j] =\"-\"\n",
    "        if j+1 < 17:\n",
    "            if abs(test) ==  abs(solved[i,j+1]):\n",
    "                annot[i,j] =\"-\"\n",
    "\n",
    "  \n",
    "fig,ax = plt.subplots(1,2,figsize=(12,6))\n",
    "ax[0] =sns.heatmap(solved==99,annot=annot,cbar=False,cmap=\"Reds\",center =2,fmt=\"\",linewidths=1,ax=ax[0])\n",
    "ax[0].axis(\"off\")\n",
    "ax[1] =sns.heatmap(solved==99,annot=solved,cbar=False,cmap=\"Reds\",center =2,fmt=\"\",linewidths=1,ax=ax[1])\n",
    "ax[1].axis(\"off\")"
   ]
  },
  {
   "cell_type": "code",
   "execution_count": null,
   "metadata": {},
   "outputs": [],
   "source": []
  }
 ],
 "metadata": {
  "colab": {
   "include_colab_link": true,
   "name": "JaneSt-Feb18.ipynb",
   "provenance": []
  },
  "kernelspec": {
   "display_name": "Python 3",
   "language": "python",
   "name": "python3"
  },
  "language_info": {
   "codemirror_mode": {
    "name": "ipython",
    "version": 3
   },
   "file_extension": ".py",
   "mimetype": "text/x-python",
   "name": "python",
   "nbconvert_exporter": "python",
   "pygments_lexer": "ipython3",
   "version": "3.7.7"
  }
 },
 "nbformat": 4,
 "nbformat_minor": 4
}
