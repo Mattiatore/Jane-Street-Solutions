{
 "cells": [
  {
   "cell_type": "code",
   "execution_count": 1,
   "id": "46823cb5-38bc-44d0-8cd7-22b98fcb380b",
   "metadata": {},
   "outputs": [],
   "source": [
    "import numpy as np\n",
    "from copy import copy\n",
    "import random\n",
    "import time\n",
    "import math\n",
    "import sympy as sy\n",
    "import itertools\n",
    "from fractions import Fraction\n",
    "import requests\n",
    "from bs4 import BeautifulSoup\n",
    "from IPython.display import Markdown, display,display_latex"
   ]
  },
  {
   "cell_type": "code",
   "execution_count": 2,
   "id": "d2ea2183-9684-4e40-95cb-04210986335e",
   "metadata": {},
   "outputs": [
    {
     "data": {
      "text/markdown": [
       "### December 2021 : Puzzle\n",
       "\n",
       "After a grueling year filled with a wide variety of\n",
       "robot\n",
       "sporting\n",
       "events\n",
       ", we have arrived at the final event of the year:\n",
       "Robot Archery\n",
       ". Four robots have qualified for this year’s finals, and have been seeded in the following order:\n",
       "Robot\n",
       "Seed\n",
       "Aaron\n",
       "1\n",
       "Barron\n",
       "2\n",
       "Caren\n",
       "3\n",
       "Darrin\n",
       "4\n",
       "The robots will take turns shooting arrows at a target\n",
       "1\n",
       ", starting with Aaron and proceeding in order by seed. When it is a given robot’s turn, they shoot a single arrow. If it is closer to the center of the target than\n",
       "all\n",
       "previous arrows by all players, that robot remains in the tournament, going to the back of the queue to await their next turn. Otherwise that robot is eliminated immediately. The last robot remaining in the queue is the winner.\n",
       "For example, here is how\n",
       "last year’s\n",
       "finals went, in which\n",
       "Caren\n",
       "was the winner. (Oddly enough it involved the same robots in the same seeding.)\n",
       "Turn\n",
       "Robot\n",
       "Distance\n",
       "1\n",
       "Aaron\n",
       "10nm\n",
       "2\n",
       "Barron\n",
       "8nm\n",
       "3\n",
       "Caren\n",
       "7nm\n",
       "4\n",
       "Darrin\n",
       "1km\n",
       "5\n",
       "Aaron\n",
       "9nm\n",
       "6\n",
       "Barron\n",
       "2nm\n",
       "7\n",
       "Caren\n",
       "1nm\n",
       "8\n",
       "Barron\n",
       "1Ym\n",
       "2\n",
       "To ten decimal places, what is the probability that\n",
       "Darrin\n",
       "will be this year’s winner?\n",
       "(Or, if you want to send in the\n",
       "exact answer\n",
       ", that’s fine too!)\n",
       "[1] Each robot is equally skilled. Which is to say: for any region\n",
       "R\n",
       "on the target with nonzero area, the robots all have the same positive probability of landing an arrow within\n",
       "R\n",
       "on any given shot.\n",
       "[2] It’s a large target."
      ],
      "text/plain": [
       "<IPython.core.display.Markdown object>"
      ]
     },
     "metadata": {},
     "output_type": "display_data"
    }
   ],
   "source": [
    "url='https://www.janestreet.com/puzzles/robot-archery-index/'\n",
    "res = requests.get(url)\n",
    "soup = BeautifulSoup(res.content, 'html.parser')\n",
    "y =[text for text in soup.body.stripped_strings]\n",
    "#display([[i,j] for i,j in enumerate(y)])\n",
    "display(Markdown(\"### \"+y[8]+\"\\n\\n\"+str(\"\\n\".join(y[10:76]))))"
   ]
  },
  {
   "cell_type": "code",
   "execution_count": 3,
   "id": "6e08ae17-a7ac-4bdc-a204-99f7eedc0d37",
   "metadata": {},
   "outputs": [],
   "source": [
    "# build out the probability tree\n",
    "def tree(p,stopper):\n",
    "    game = [(np.ones(p),Fraction(1,1),1,1)]  # live players,probability, number of shots, next player\n",
    "    result = []\n",
    "    \n",
    "    while len(game) >0:\n",
    "        (players,prob,num,x) = game.pop()\n",
    "        if np.sum(players) ==1:\n",
    "            result.append([np.argmax(players)+1,prob])\n",
    "        elif num >stopper:\n",
    "            result.append([0,prob])\n",
    "        else:\n",
    "            num +=1\n",
    "            pass_prob = prob * Fraction(1,num)\n",
    "            fail_prob = prob * Fraction(num-1,num)\n",
    "            fail_players = copy(players)\n",
    "            fail_players[x] = 0\n",
    "            nextp = (x +1) % p\n",
    "            while players[nextp] ==0:\n",
    "                nextp = (nextp +1) % p\n",
    "            game.append([players,pass_prob,num,nextp])\n",
    "            game.append([fail_players,fail_prob,num,nextp])\n",
    "    print(len(result),\"total paths\")\n",
    "    return [(n,float(np.sum([j for i,j in result if i==n])))for n in range(p+1)]\n"
   ]
  },
  {
   "cell_type": "code",
   "execution_count": 4,
   "id": "74dd3b48-2ac0-48a9-aed2-53e3875c5ae9",
   "metadata": {},
   "outputs": [
    {
     "name": "stdout",
     "output_type": "stream",
     "text": [
      "988 total paths\n",
      "Player 0 has a 0.0000000000 probability\n",
      "Player 1 has a 0.3711532348 probability\n",
      "Player 2 has a 0.2421885526 probability\n",
      "Player 3 has a 0.2032205617 probability\n",
      "Player 4 has a 0.1834376509 probability\n"
     ]
    }
   ],
   "source": [
    "output = tree(4,18)\n",
    "for i in range(5):\n",
    "    print(\"Player {} has a {:.10f} probability\".format(output[i][0],output[i][1]))"
   ]
  },
  {
   "cell_type": "code",
   "execution_count": 5,
   "id": "ff101c46-fe3a-48b9-b7db-9a90e85fa190",
   "metadata": {},
   "outputs": [
    {
     "data": {
      "text/markdown": [
       "### Robot Archery\n",
       "\n",
       "[Above is a Mathematica-derived solution to the systems of equations\n",
       "described in the 4-player tournament described below]\n",
       "Without loss of generality we can assume an arrow’s distance to the center of the target is U[0,1] distributed. Let\n",
       "P\n",
       "j,k\n",
       "(\n",
       "x\n",
       ") denote the probability that Player\n",
       "j\n",
       "out of\n",
       "k\n",
       "in the\n",
       "current\n",
       "line will eventually win the game, given that the current best dart is at distance\n",
       "x\n",
       ".\n",
       "In a 2-player archery tournament, we would have\n",
       "P\n",
       "1,2\n",
       "(\n",
       "x\n",
       ") +\n",
       "P\n",
       "2,2\n",
       "(\n",
       "x\n",
       ") = 1,\n",
       "P\n",
       "1,2\n",
       "(0) = 0, and\n",
       "P\n",
       "1,2\n",
       "(\n",
       "x\n",
       ") = ∫\n",
       "0\n",
       "x\n",
       "P\n",
       "2,2\n",
       "(\n",
       "u\n",
       ") d\n",
       "u\n",
       ". Taking derivatives of both sides in that last equation and substituing gives\n",
       "P\n",
       "‘\n",
       "1,2\n",
       "(\n",
       "x\n",
       ") = −\n",
       "P\n",
       "1,2\n",
       "(x). Solving gives\n",
       "P\n",
       "1,2\n",
       "(\n",
       "x\n",
       ") = 1−e\n",
       "−\n",
       "x\n",
       ".\n",
       "In the 3-player version of the game, we get the following system of equations:\n",
       "P\n",
       "1,3\n",
       "(\n",
       "x\n",
       ") = ∫\n",
       "0\n",
       "x\n",
       "P\n",
       "3,3\n",
       "(\n",
       "u\n",
       ") d\n",
       "u\n",
       "P\n",
       "2,3\n",
       "(\n",
       "x\n",
       ") = (1 -\n",
       "x\n",
       ")\n",
       "P\n",
       "1,2\n",
       "(\n",
       "x\n",
       ") + ∫\n",
       "0\n",
       "x\n",
       "P\n",
       "1,3\n",
       "(\n",
       "u\n",
       ") d\n",
       "u\n",
       "P\n",
       "1,3\n",
       "(\n",
       "x\n",
       ") +\n",
       "P\n",
       "2,3\n",
       "(\n",
       "x\n",
       ") +\n",
       "P\n",
       "3,3\n",
       "(\n",
       "x\n",
       ") = 1\n",
       "P\n",
       "1,3\n",
       "(0) =\n",
       "P\n",
       "2,3\n",
       "(0) = 0.\n",
       "And for the 4-player version we have the following:\n",
       "P\n",
       "1,4\n",
       "(\n",
       "x\n",
       ") = ∫\n",
       "0\n",
       "x\n",
       "P\n",
       "4,4\n",
       "(\n",
       "u\n",
       ") d\n",
       "u\n",
       "P\n",
       "2,4\n",
       "(\n",
       "x\n",
       ") = (1 -\n",
       "x\n",
       ")\n",
       "P\n",
       "1,3\n",
       "(\n",
       "x\n",
       ") + ∫\n",
       "0\n",
       "x\n",
       "P\n",
       "1,4\n",
       "(\n",
       "u\n",
       ") d\n",
       "u\n",
       "P\n",
       "3,4\n",
       "(\n",
       "x\n",
       ") = (1 -\n",
       "x\n",
       ")\n",
       "P\n",
       "2,3\n",
       "(\n",
       "x\n",
       ") + ∫\n",
       "0\n",
       "x\n",
       "P\n",
       "2,4\n",
       "(\n",
       "u\n",
       ") d\n",
       "u\n",
       "P\n",
       "1,4\n",
       "(\n",
       "x\n",
       ") +\n",
       "P\n",
       "2,4\n",
       "(\n",
       "x\n",
       ") +\n",
       "P\n",
       "3,4\n",
       "(\n",
       "x\n",
       ") +\n",
       "P\n",
       "4,4\n",
       "(\n",
       "x\n",
       ") = 1\n",
       "P\n",
       "1,4\n",
       "(0) =\n",
       "P\n",
       "2,4\n",
       "(0) =\n",
       "P\n",
       "3,4\n",
       "(0) = 0.\n",
       "In particular we have\n",
       "P\n",
       "4,4\n",
       "(1) = (-5/4)*(cos(1) + sin(1)) + (1/2)*\n",
       "e\n",
       "-1\n",
       "+ (\n",
       "e\n",
       "-1/2\n",
       ")*(cos(sqrt(3)/2) + 5/sqrt(3)*sin(sqrt(3)/2)), or approximately 0.18343765086.\n",
       "Congrats to this month’s solvers!"
      ],
      "text/plain": [
       "<IPython.core.display.Markdown object>"
      ]
     },
     "metadata": {},
     "output_type": "display_data"
    }
   ],
   "source": [
    "url='https://www.janestreet.com/puzzles/robot-archery-solution/'\n",
    "res = requests.get(url)\n",
    "soup = BeautifulSoup(res.content, 'html.parser')\n",
    "y =[text for text in soup.body.stripped_strings]\n",
    "#display([[i,j] for i,j in enumerate(y)])\n",
    "display(Markdown(\"### \"+y[7]+\"\\n\\n\"+str(\"\\n\".join(y[10:219]))))"
   ]
  },
  {
   "cell_type": "code",
   "execution_count": 6,
   "id": "7c265fc0-5f60-426d-a153-cf04d569ebb9",
   "metadata": {},
   "outputs": [
    {
     "name": "stdout",
     "output_type": "stream",
     "text": [
      "For the 2 player game the probability of second player winning is \n",
      "Sum((1 - 1/(2*n + 1))/factorial(2*n), (n, 1, oo))\n",
      "-sinh(1) + cosh(1)\n"
     ]
    }
   ],
   "source": [
    "#exact solution. 4 player game doesn't simplify to the 3 player game on hit so gets tricky. 2 player game is tractable.\n",
    "import sympy as sy\n",
    "n = sy.symbols(\"n\")\n",
    "\n",
    "print(\"For the 2 player game the probability of second player winning is \")\n",
    "\n",
    "form = sy.Sum((1-1/(2*n+1))*1/(sy.factorial(2*n)),(n,1,sy.oo))\n",
    "print(form)\n",
    "print(form.doit())\n"
   ]
  },
  {
   "cell_type": "code",
   "execution_count": 7,
   "id": "e254ed1f-e09f-46c5-83c7-fc3014fa0e97",
   "metadata": {},
   "outputs": [],
   "source": [
    "# simulate to check \n",
    "def game(players=4):\n",
    "    live = np.ones(players)\n",
    "    distance = np.sum(np.random.rand(2)**2)**0.5   \n",
    "    player = 1\n",
    "    while sum(live) > 1:\n",
    "        if live[player] ==1:\n",
    "            shot = np.sum(np.random.rand(2)**2)**0.5   \n",
    "            if shot > distance:\n",
    "                live[player] = 0\n",
    "            else:\n",
    "                distance = shot\n",
    "        player = (player + 1 ) % players\n",
    "        while live[player] ==0:\n",
    "            player = (player + 1 ) % players\n",
    "    return (live)    "
   ]
  },
  {
   "cell_type": "code",
   "execution_count": 8,
   "id": "512b9801-8073-4702-b4a3-d87bd76be33c",
   "metadata": {},
   "outputs": [
    {
     "name": "stdout",
     "output_type": "stream",
     "text": [
      "[0.37055 0.24212 0.2032  0.18413]\n",
      "[0.37265 0.24353 0.2011  0.18272]\n",
      "[0.37304 0.23981 0.20306 0.18409]\n",
      "Took 16.396159410476685\n"
     ]
    }
   ],
   "source": [
    "start = time.time()\n",
    "N= 10**5\n",
    "for i in range(3):\n",
    "    print(np.sum([game(4) for i in range(N)],axis=0)/N)\n",
    "print(\"Took\",time.time()-start)"
   ]
  },
  {
   "cell_type": "code",
   "execution_count": 9,
   "id": "d4d50b18-2292-4d6f-b79e-8df3e342efcc",
   "metadata": {},
   "outputs": [
    {
     "data": {
      "text/markdown": [
       "***Initial Conditions***"
      ],
      "text/plain": [
       "<IPython.core.display.Markdown object>"
      ]
     },
     "metadata": {},
     "output_type": "display_data"
    },
    {
     "data": {
      "text/latex": [
       "$\\displaystyle \\operatorname{P_{12}}{\\left(x \\right)} + \\operatorname{P_{22}}{\\left(x \\right)} = 1$"
      ],
      "text/plain": [
       "Eq(P_12(x) + P_22(x), 1)"
      ]
     },
     "metadata": {},
     "output_type": "display_data"
    },
    {
     "data": {
      "text/latex": [
       "$\\displaystyle \\operatorname{P_{12}}{\\left(0 \\right)} = 0$"
      ],
      "text/plain": [
       "Eq(P_12(0), 0)"
      ]
     },
     "metadata": {},
     "output_type": "display_data"
    },
    {
     "data": {
      "text/latex": [
       "$\\displaystyle \\operatorname{P_{12}}{\\left(x \\right)} = \\int\\limits_{0}^{x} \\operatorname{P_{22}}{\\left(u \\right)}\\, du$"
      ],
      "text/plain": [
       "Eq(P_12(x), Integral(P_22(u), (u, 0, x)))"
      ]
     },
     "metadata": {},
     "output_type": "display_data"
    },
    {
     "data": {
      "text/latex": [
       "$\\displaystyle \\operatorname{P_{12}}{\\left(x \\right)} = 1 - \\frac{d}{d x} \\operatorname{P_{12}}{\\left(x \\right)}$"
      ],
      "text/plain": [
       "Eq(P_12(x), 1 - Derivative(P_12(x), x))"
      ]
     },
     "metadata": {},
     "output_type": "display_data"
    },
    {
     "data": {
      "text/markdown": [
       "***Solving gives***"
      ],
      "text/plain": [
       "<IPython.core.display.Markdown object>"
      ]
     },
     "metadata": {},
     "output_type": "display_data"
    },
    {
     "data": {
      "text/latex": [
       "$\\displaystyle \\operatorname{P_{12}}{\\left(x \\right)} = 1 - e^{- x}$"
      ],
      "text/plain": [
       "Eq(P_12(x), 1 - exp(-x))"
      ]
     },
     "metadata": {},
     "output_type": "display_data"
    }
   ],
   "source": [
    "# Try to work through the solution given\n",
    "# ~~~~~~~~~~~~~~~~~~~~~~~~~~~~~~~~~~~~~~\n",
    "\n",
    "\n",
    "#set up symbols\n",
    "x,u= sy.symbols('x u')\n",
    "# set up functions\n",
    "probs = sum([[\"P_\"+str(j+1)+str(i) for j in range(i)] for i in range(2,5) ],[])\n",
    "\n",
    "\n",
    "for i in probs:\n",
    "    locals()[i] =sy.Function(i) \n",
    "\n",
    "# 2 player case,starting conditions\n",
    "eq1 = sy.Eq(P_12(x) + P_22(x),1)\n",
    "eq2 = sy.Eq(P_12(0),0)\n",
    "eq3 = sy.Eq(P_12(x),sy.Integral(P_22(u),(u,0,x)))\n",
    "display(Markdown(\"***Initial Conditions***\"))\n",
    "display(eq1,eq2,eq3)\n",
    "\n",
    "# differentiate eq3 and then solve the ODE including eq2 as an initial condition\n",
    "eq4 = sy.Eq(sy.diff(eq3.lhs,x),sy.diff(eq3.rhs,x))\n",
    "eq5 = sy.Eq(P_12(x),sy.solve([eq1,eq2,eq4])[0][P_12(x)])\n",
    "display(eq5)\n",
    "eq6 = sy.dsolve(eq5,ics={P_12(0):0})\n",
    "display(Markdown(\"***Solving gives***\"))\n",
    "display(eq6)"
   ]
  },
  {
   "cell_type": "code",
   "execution_count": 10,
   "id": "44667fa9-ed7c-4a6a-80aa-4cf6888043e1",
   "metadata": {},
   "outputs": [
    {
     "data": {
      "text/markdown": [
       "***Expand to 3 player***"
      ],
      "text/plain": [
       "<IPython.core.display.Markdown object>"
      ]
     },
     "metadata": {},
     "output_type": "display_data"
    },
    {
     "data": {
      "text/latex": [
       "$\\displaystyle \\operatorname{P_{13}}{\\left(x \\right)} = \\int\\limits_{0}^{x} \\operatorname{P_{33}}{\\left(u \\right)}\\, du$"
      ],
      "text/plain": [
       "Eq(P_13(x), Integral(P_33(u), (u, 0, x)))"
      ]
     },
     "metadata": {},
     "output_type": "display_data"
    },
    {
     "data": {
      "text/latex": [
       "$\\displaystyle \\operatorname{P_{23}}{\\left(x \\right)} = \\left(1 - x\\right) \\operatorname{P_{12}}{\\left(x \\right)} + \\int\\limits_{0}^{x} \\operatorname{P_{13}}{\\left(u \\right)}\\, du$"
      ],
      "text/plain": [
       "Eq(P_23(x), (1 - x)*P_12(x) + Integral(P_13(u), (u, 0, x)))"
      ]
     },
     "metadata": {},
     "output_type": "display_data"
    },
    {
     "data": {
      "text/latex": [
       "$\\displaystyle \\operatorname{P_{13}}{\\left(x \\right)} + \\operatorname{P_{23}}{\\left(x \\right)} + \\operatorname{P_{33}}{\\left(x \\right)} = 1$"
      ],
      "text/plain": [
       "Eq(P_13(x) + P_23(x) + P_33(x), 1)"
      ]
     },
     "metadata": {},
     "output_type": "display_data"
    },
    {
     "data": {
      "text/latex": [
       "$\\displaystyle \\operatorname{P_{13}}{\\left(0 \\right)} = 0$"
      ],
      "text/plain": [
       "Eq(P_13(0), 0)"
      ]
     },
     "metadata": {},
     "output_type": "display_data"
    },
    {
     "data": {
      "text/latex": [
       "$\\displaystyle \\operatorname{P_{23}}{\\left(0 \\right)} = 0$"
      ],
      "text/plain": [
       "Eq(P_23(0), 0)"
      ]
     },
     "metadata": {},
     "output_type": "display_data"
    }
   ],
   "source": [
    "display(Markdown(\"***Expand to 3 player***\"))\n",
    "eq7 = sy.Eq(P_13(x),sy.Integral(P_33(u),(u,0,x)))\n",
    "eq8 = sy.Eq(P_23(x),(1-x)*P_12(x)+sy.Integral(P_13(u),(u,0,x)))\n",
    "eq9 = sy.Eq(P_13(x) + P_23(x) + P_33(x),1)\n",
    "eq10 = sy.Eq(P_13(0),0)\n",
    "eq11 = sy.Eq(P_23(0),0)\n",
    "display(eq7,eq8,eq9,eq10,eq11)"
   ]
  },
  {
   "cell_type": "code",
   "execution_count": 11,
   "id": "bfbf6307-c51c-4ff5-a1dc-3c79dde9f4dc",
   "metadata": {},
   "outputs": [
    {
     "data": {
      "text/markdown": [
       "***Manipulate***"
      ],
      "text/plain": [
       "<IPython.core.display.Markdown object>"
      ]
     },
     "metadata": {},
     "output_type": "display_data"
    },
    {
     "data": {
      "text/latex": [
       "$\\displaystyle \\operatorname{P_{33}}{\\left(x \\right)} = \\frac{d}{d x} \\operatorname{P_{13}}{\\left(x \\right)}$"
      ],
      "text/plain": [
       "Eq(P_33(x), Derivative(P_13(x), x))"
      ]
     },
     "metadata": {},
     "output_type": "display_data"
    },
    {
     "data": {
      "text/latex": [
       "$\\displaystyle \\operatorname{P_{13}}{\\left(x \\right)} = x - x e^{- x} - \\frac{d}{d x} \\operatorname{P_{13}}{\\left(x \\right)} - \\int\\limits_{0}^{x} \\operatorname{P_{13}}{\\left(u \\right)}\\, du + e^{- x}$"
      ],
      "text/plain": [
       "Eq(P_13(x), x - x*exp(-x) - Derivative(P_13(x), x) - Integral(P_13(u), (u, 0, x)) + exp(-x))"
      ]
     },
     "metadata": {},
     "output_type": "display_data"
    },
    {
     "data": {
      "text/latex": [
       "$\\displaystyle \\frac{d}{d x} \\operatorname{P_{13}}{\\left(x \\right)} = x e^{- x} - \\operatorname{P_{13}}{\\left(x \\right)} - \\frac{d^{2}}{d x^{2}} \\operatorname{P_{13}}{\\left(x \\right)} + 1 - 2 e^{- x}$"
      ],
      "text/plain": [
       "Eq(Derivative(P_13(x), x), x*exp(-x) - P_13(x) - Derivative(P_13(x), (x, 2)) + 1 - 2*exp(-x))"
      ]
     },
     "metadata": {},
     "output_type": "display_data"
    },
    {
     "data": {
      "text/markdown": [
       "\n",
       "***Solve eq14***"
      ],
      "text/plain": [
       "<IPython.core.display.Markdown object>"
      ]
     },
     "metadata": {},
     "output_type": "display_data"
    },
    {
     "data": {
      "text/latex": [
       "$\\displaystyle \\operatorname{P_{13}}{\\left(x \\right)} = \\left(x - 1\\right) e^{- x} + 1 - \\frac{2 \\sqrt{3} e^{- \\frac{x}{2}} \\sin{\\left(\\frac{\\sqrt{3} x}{2} \\right)}}{3}$"
      ],
      "text/plain": [
       "Eq(P_13(x), (x - 1)*exp(-x) + 1 - 2*sqrt(3)*exp(-x/2)*sin(sqrt(3)*x/2)/3)"
      ]
     },
     "metadata": {},
     "output_type": "display_data"
    },
    {
     "data": {
      "text/latex": [
       "$\\displaystyle \\operatorname{P_{13}}{\\left(1 \\right)} = 0.466492804885307$"
      ],
      "text/plain": [
       "Eq(P_13(1), 0.466492804885307)"
      ]
     },
     "metadata": {},
     "output_type": "display_data"
    }
   ],
   "source": [
    "display(Markdown(\"***Manipulate***\"))\n",
    "eq12 = sy.Eq(sy.diff(eq7.rhs,x),sy.diff(eq7.lhs,x))\n",
    "eq13 = sy.Eq(P_13(x),sy.solve([eq6,eq8,eq9,eq12])[0][P_13(x)])\n",
    "eq14 = sy.Eq(sy.diff(eq13.lhs,x),sy.diff(eq13.rhs,x))\n",
    "display(eq12,eq13,eq14)\n",
    "\n",
    "display(Markdown(\"\\n***Solve eq14***\"))\n",
    "eq15 = sy.dsolve(eq14,ics={P_13(0):0,P_13(x).diff(x).subs(x,0):1})\n",
    "display(eq15)\n",
    "display(eq15.subs(x,1).evalf())"
   ]
  },
  {
   "cell_type": "code",
   "execution_count": 12,
   "id": "b7e1eeb5-7024-4c93-b162-ec5d4aac1b6b",
   "metadata": {},
   "outputs": [
    {
     "data": {
      "text/markdown": [
       "***From***"
      ],
      "text/plain": [
       "<IPython.core.display.Markdown object>"
      ]
     },
     "metadata": {},
     "output_type": "display_data"
    },
    {
     "data": {
      "text/latex": [
       "$\\displaystyle \\operatorname{P_{33}}{\\left(x \\right)} = \\frac{d}{d x} \\operatorname{P_{13}}{\\left(x \\right)}$"
      ],
      "text/plain": [
       "Eq(P_33(x), Derivative(P_13(x), x))"
      ]
     },
     "metadata": {},
     "output_type": "display_data"
    },
    {
     "data": {
      "text/markdown": [
       "***we get***"
      ],
      "text/plain": [
       "<IPython.core.display.Markdown object>"
      ]
     },
     "metadata": {},
     "output_type": "display_data"
    },
    {
     "data": {
      "text/latex": [
       "$\\displaystyle \\operatorname{P_{33}}{\\left(x \\right)} = - \\left(x - 1\\right) e^{- x} + e^{- x} + \\frac{\\sqrt{3} e^{- \\frac{x}{2}} \\sin{\\left(\\frac{\\sqrt{3} x}{2} \\right)}}{3} - e^{- \\frac{x}{2}} \\cos{\\left(\\frac{\\sqrt{3} x}{2} \\right)}$"
      ],
      "text/plain": [
       "Eq(P_33(x), -(x - 1)*exp(-x) + exp(-x) + sqrt(3)*exp(-x/2)*sin(sqrt(3)*x/2)/3 - exp(-x/2)*cos(sqrt(3)*x/2))"
      ]
     },
     "metadata": {},
     "output_type": "display_data"
    },
    {
     "data": {
      "text/latex": [
       "$\\displaystyle \\operatorname{P_{33}}{\\left(1 \\right)} = 0.241686482894434$"
      ],
      "text/plain": [
       "Eq(P_33(1), 0.241686482894434)"
      ]
     },
     "metadata": {},
     "output_type": "display_data"
    }
   ],
   "source": [
    "display(Markdown(\"***From***\"))\n",
    "display(eq12)\n",
    "display(Markdown(\"***we get***\"))\n",
    "eq16 =sy.Eq(P_33(x),eq15.rhs.diff(x))\n",
    "display(eq16)\n",
    "display(eq16.subs(x,1).evalf())"
   ]
  },
  {
   "cell_type": "code",
   "execution_count": 13,
   "id": "dd48583e-1fa0-4bf5-af7d-03e3b1f36361",
   "metadata": {},
   "outputs": [
    {
     "data": {
      "text/markdown": [
       "***So***"
      ],
      "text/plain": [
       "<IPython.core.display.Markdown object>"
      ]
     },
     "metadata": {},
     "output_type": "display_data"
    },
    {
     "data": {
      "text/latex": [
       "$\\displaystyle \\operatorname{P_{23}}{\\left(x \\right)} = - e^{- x} + \\frac{\\sqrt{3} e^{- \\frac{x}{2}} \\sin{\\left(\\frac{\\sqrt{3} x}{2} \\right)}}{3} + e^{- \\frac{x}{2}} \\cos{\\left(\\frac{\\sqrt{3} x}{2} \\right)}$"
      ],
      "text/plain": [
       "Eq(P_23(x), -exp(-x) + sqrt(3)*exp(-x/2)*sin(sqrt(3)*x/2)/3 + exp(-x/2)*cos(sqrt(3)*x/2))"
      ]
     },
     "metadata": {},
     "output_type": "display_data"
    },
    {
     "data": {
      "text/latex": [
       "$\\displaystyle \\operatorname{P_{23}}{\\left(1 \\right)} = 0.291820712220259$"
      ],
      "text/plain": [
       "Eq(P_23(1), 0.291820712220259)"
      ]
     },
     "metadata": {},
     "output_type": "display_data"
    }
   ],
   "source": [
    "display(Markdown(\"***So***\"))\n",
    "eq17 =sy.Eq(P_23(x),1-eq16.rhs-eq15.rhs)\n",
    "display(eq17)\n",
    "display(eq17.subs(x,1).evalf())"
   ]
  },
  {
   "cell_type": "code",
   "execution_count": 14,
   "id": "3f58d127-9d2d-4750-afc5-1a23e423e6ae",
   "metadata": {},
   "outputs": [
    {
     "name": "stdout",
     "output_type": "stream",
     "text": [
      "172 total paths\n",
      "Player 0 has a 0.0000000000 probability\n",
      "Player 1 has a 0.4664928049 probability\n",
      "Player 2 has a 0.2918207122 probability\n",
      "Player 3 has a 0.2416864829 probability\n"
     ]
    }
   ],
   "source": [
    "#Check vs tree\n",
    "output = tree(3,18)\n",
    "for i in range(4):\n",
    "    print(\"Player {} has a {:.10f} probability\".format(output[i][0],output[i][1]))"
   ]
  },
  {
   "cell_type": "code",
   "execution_count": 15,
   "id": "377ee4bb-4ae9-47f6-9d1a-02e357817246",
   "metadata": {},
   "outputs": [
    {
     "data": {
      "text/markdown": [
       "***Using***"
      ],
      "text/plain": [
       "<IPython.core.display.Markdown object>"
      ]
     },
     "metadata": {},
     "output_type": "display_data"
    },
    {
     "data": {
      "text/latex": [
       "$\\displaystyle \\operatorname{P_{13}}{\\left(x \\right)} = \\left(x - 1\\right) e^{- x} + 1 - \\frac{2 \\sqrt{3} e^{- \\frac{x}{2}} \\sin{\\left(\\frac{\\sqrt{3} x}{2} \\right)}}{3}$"
      ],
      "text/plain": [
       "Eq(P_13(x), (x - 1)*exp(-x) + 1 - 2*sqrt(3)*exp(-x/2)*sin(sqrt(3)*x/2)/3)"
      ]
     },
     "metadata": {},
     "output_type": "display_data"
    },
    {
     "data": {
      "text/latex": [
       "$\\displaystyle \\operatorname{P_{23}}{\\left(x \\right)} = - e^{- x} + \\frac{\\sqrt{3} e^{- \\frac{x}{2}} \\sin{\\left(\\frac{\\sqrt{3} x}{2} \\right)}}{3} + e^{- \\frac{x}{2}} \\cos{\\left(\\frac{\\sqrt{3} x}{2} \\right)}$"
      ],
      "text/plain": [
       "Eq(P_23(x), -exp(-x) + sqrt(3)*exp(-x/2)*sin(sqrt(3)*x/2)/3 + exp(-x/2)*cos(sqrt(3)*x/2))"
      ]
     },
     "metadata": {},
     "output_type": "display_data"
    },
    {
     "data": {
      "text/markdown": [
       "***And on to 4 player***"
      ],
      "text/plain": [
       "<IPython.core.display.Markdown object>"
      ]
     },
     "metadata": {},
     "output_type": "display_data"
    },
    {
     "data": {
      "text/latex": [
       "$\\displaystyle \\operatorname{P_{14}}{\\left(x \\right)} = \\int\\limits_{0}^{x} \\operatorname{P_{44}}{\\left(u \\right)}\\, du$"
      ],
      "text/plain": [
       "Eq(P_14(x), Integral(P_44(u), (u, 0, x)))"
      ]
     },
     "metadata": {},
     "output_type": "display_data"
    },
    {
     "data": {
      "text/latex": [
       "$\\displaystyle \\operatorname{P_{24}}{\\left(x \\right)} = \\left(1 - x\\right) \\operatorname{P_{13}}{\\left(x \\right)} + \\int\\limits_{0}^{x} \\operatorname{P_{14}}{\\left(u \\right)}\\, du$"
      ],
      "text/plain": [
       "Eq(P_24(x), (1 - x)*P_13(x) + Integral(P_14(u), (u, 0, x)))"
      ]
     },
     "metadata": {},
     "output_type": "display_data"
    },
    {
     "data": {
      "text/latex": [
       "$\\displaystyle \\operatorname{P_{34}}{\\left(x \\right)} = \\left(1 - x\\right) \\operatorname{P_{23}}{\\left(x \\right)} + \\int\\limits_{0}^{x} \\operatorname{P_{24}}{\\left(u \\right)}\\, du$"
      ],
      "text/plain": [
       "Eq(P_34(x), (1 - x)*P_23(x) + Integral(P_24(u), (u, 0, x)))"
      ]
     },
     "metadata": {},
     "output_type": "display_data"
    },
    {
     "data": {
      "text/latex": [
       "$\\displaystyle \\operatorname{P_{14}}{\\left(x \\right)} + \\operatorname{P_{24}}{\\left(x \\right)} + \\operatorname{P_{34}}{\\left(x \\right)} + \\operatorname{P_{44}}{\\left(x \\right)} = 1$"
      ],
      "text/plain": [
       "Eq(P_14(x) + P_24(x) + P_34(x) + P_44(x), 1)"
      ]
     },
     "metadata": {},
     "output_type": "display_data"
    },
    {
     "data": {
      "text/latex": [
       "$\\displaystyle \\operatorname{P_{14}}{\\left(0 \\right)} = 0$"
      ],
      "text/plain": [
       "Eq(P_14(0), 0)"
      ]
     },
     "metadata": {},
     "output_type": "display_data"
    },
    {
     "data": {
      "text/latex": [
       "$\\displaystyle \\operatorname{P_{24}}{\\left(0 \\right)} = 0$"
      ],
      "text/plain": [
       "Eq(P_24(0), 0)"
      ]
     },
     "metadata": {},
     "output_type": "display_data"
    },
    {
     "data": {
      "text/latex": [
       "$\\displaystyle \\operatorname{P_{34}}{\\left(0 \\right)} = 0$"
      ],
      "text/plain": [
       "Eq(P_34(0), 0)"
      ]
     },
     "metadata": {},
     "output_type": "display_data"
    }
   ],
   "source": [
    "eq18 = sy.Eq(P_14(x),sy.Integral(P_44(u),(u,0,x)))\n",
    "eq19 = sy.Eq(P_24(x),(1-x)*P_13(x)+sy.Integral(P_14(u),(u,0,x)))\n",
    "\n",
    "eq20 = sy.Eq(P_34(x),(1-x)*P_23(x)+sy.Integral(P_24(u),(u,0,x)))\n",
    "eq21 = sy.Eq(P_14(x) + P_24(x) + P_34(x) + P_44(x),1)\n",
    "eq22 = sy.Eq(P_14(0),0)\n",
    "eq23 = sy.Eq(P_24(0),0)\n",
    "eq24 = sy.Eq(P_34(0),0)\n",
    "display(Markdown(\"***Using***\"))\n",
    "display(eq15,eq17)\n",
    "display(Markdown(\"***And on to 4 player***\"))\n",
    "display(eq18,eq19,eq20,eq21,eq22,eq23,eq24)"
   ]
  },
  {
   "cell_type": "code",
   "execution_count": 16,
   "id": "62f86c70-7346-4f8c-8708-f184fda319bc",
   "metadata": {},
   "outputs": [
    {
     "data": {
      "text/markdown": [
       "***Manipulate***"
      ],
      "text/plain": [
       "<IPython.core.display.Markdown object>"
      ]
     },
     "metadata": {},
     "output_type": "display_data"
    },
    {
     "data": {
      "text/latex": [
       "$\\displaystyle \\operatorname{P_{44}}{\\left(x \\right)} = \\frac{d}{d x} \\operatorname{P_{14}}{\\left(x \\right)}$"
      ],
      "text/plain": [
       "Eq(P_44(x), Derivative(P_14(x), x))"
      ]
     },
     "metadata": {},
     "output_type": "display_data"
    },
    {
     "data": {
      "text/latex": [
       "$\\displaystyle \\left(1 - x\\right) \\frac{d}{d x} \\operatorname{P_{13}}{\\left(x \\right)} - \\operatorname{P_{13}}{\\left(x \\right)} + \\operatorname{P_{14}}{\\left(x \\right)} = \\frac{d}{d x} \\operatorname{P_{24}}{\\left(x \\right)}$"
      ],
      "text/plain": [
       "Eq((1 - x)*Derivative(P_13(x), x) - P_13(x) + P_14(x), Derivative(P_24(x), x))"
      ]
     },
     "metadata": {},
     "output_type": "display_data"
    },
    {
     "data": {
      "text/latex": [
       "$\\displaystyle \\left(1 - x\\right) \\frac{d}{d x} \\operatorname{P_{23}}{\\left(x \\right)} - \\operatorname{P_{23}}{\\left(x \\right)} + \\operatorname{P_{24}}{\\left(x \\right)} = \\frac{d}{d x} \\operatorname{P_{34}}{\\left(x \\right)}$"
      ],
      "text/plain": [
       "Eq((1 - x)*Derivative(P_23(x), x) - P_23(x) + P_24(x), Derivative(P_34(x), x))"
      ]
     },
     "metadata": {},
     "output_type": "display_data"
    }
   ],
   "source": [
    "display(Markdown(\"***Manipulate***\"))\n",
    "eq25 = sy.Eq(sy.diff(eq18.rhs,x),sy.diff(eq18.lhs,x))\n",
    "eq26 = sy.Eq(sy.diff(eq19.rhs,x),sy.diff(eq19.lhs,x))\n",
    "eq27 = sy.Eq(sy.diff(eq20.rhs,x),sy.diff(eq20.lhs,x))\n",
    "display(eq25,eq26,eq27)"
   ]
  },
  {
   "cell_type": "code",
   "execution_count": 17,
   "id": "da562974-1308-4bcf-a840-4177b8e7b354",
   "metadata": {},
   "outputs": [],
   "source": [
    "#sy.solve([eq25,eq19,eq20,eq21,eq15,eq17])"
   ]
  },
  {
   "cell_type": "code",
   "execution_count": null,
   "id": "24cecd4d-c472-4983-abba-b198b7e1ade3",
   "metadata": {},
   "outputs": [],
   "source": []
  }
 ],
 "metadata": {
  "kernelspec": {
   "display_name": "Python 3",
   "language": "python",
   "name": "python3"
  },
  "language_info": {
   "codemirror_mode": {
    "name": "ipython",
    "version": 3
   },
   "file_extension": ".py",
   "mimetype": "text/x-python",
   "name": "python",
   "nbconvert_exporter": "python",
   "pygments_lexer": "ipython3",
   "version": "3.7.10"
  }
 },
 "nbformat": 4,
 "nbformat_minor": 5
}
