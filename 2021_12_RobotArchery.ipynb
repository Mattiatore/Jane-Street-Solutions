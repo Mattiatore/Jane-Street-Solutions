{
 "cells": [
  {
   "cell_type": "code",
   "execution_count": 1,
   "id": "46823cb5-38bc-44d0-8cd7-22b98fcb380b",
   "metadata": {},
   "outputs": [],
   "source": [
    "import numpy as np\n",
    "from copy import copy\n",
    "import random\n",
    "import time\n",
    "import math\n",
    "import sympy as sy\n",
    "import itertools\n",
    "from fractions import Fraction\n",
    "import requests\n",
    "from bs4 import BeautifulSoup\n",
    "from IPython.display import Markdown, display,IFrame,HTML"
   ]
  },
  {
   "cell_type": "code",
   "execution_count": 2,
   "id": "7cc3a8b7-12ee-4ac5-b074-ffe705030f4d",
   "metadata": {},
   "outputs": [
    {
     "data": {
      "text/html": [
       "<div class=\"inner-wrapper\">\n",
       "<p>After a grueling year filled with a wide variety of <a href=\"https://www.janestreet.com/puzzles/robot-weightlifting-index/\" title=\"tug of war\">robot</a> <a href=\"https://www.janestreet.com/puzzles/robot-tug-of-war-index/\" title=\"swimming\">sporting</a> <a href=\"https://www.janestreet.com/puzzles/robot-swimming-trials-index/\" title=\"weightlifting\">events</a>, we have arrived at the final event of the year: <strong>Robot Archery</strong>. Four robots have qualified for this year’s finals, and have been seeded in the following order:</p>\n",
       "<table>\n",
       "<thead>\n",
       "<tr>\n",
       "<th>Robot</th>\n",
       "<th>Seed </th>\n",
       "</tr>\n",
       "</thead>\n",
       "<tbody>\n",
       "<tr>\n",
       "<td>Aaron</td>\n",
       "<td>1</td>\n",
       "</tr>\n",
       "<tr>\n",
       "<td>Barron  </td>\n",
       "<td>2</td>\n",
       "</tr>\n",
       "<tr>\n",
       "<td>Caren</td>\n",
       "<td>3</td>\n",
       "</tr>\n",
       "<tr>\n",
       "<td>Darrin </td>\n",
       "<td>4</td>\n",
       "</tr>\n",
       "</tbody>\n",
       "</table>\n",
       "<p><br/>\n",
       "The robots will take turns shooting arrows at a target<sup>1</sup>, starting with Aaron and proceeding in order by seed. When it is a given robot’s turn, they shoot a single arrow. If it is closer to the center of the target than <em>all</em> previous arrows by all players, that robot remains in the tournament, going to the back of the queue to await their next turn. Otherwise that robot is eliminated immediately. The last robot remaining in the queue is the winner.</p>\n",
       "<p>For example, here is how <em>last year’s</em> finals went, in which <strong>Caren</strong> was the winner. (Oddly enough it involved the same robots in the same seeding.)</p>\n",
       "<table>\n",
       "<thead>\n",
       "<tr>\n",
       "<th>Turn  </th>\n",
       "<th>Robot</th>\n",
       "<th>Distance</th>\n",
       "</tr>\n",
       "</thead>\n",
       "<tbody>\n",
       "<tr>\n",
       "<td>1</td>\n",
       "<td>Aaron</td>\n",
       "<td>10nm</td>\n",
       "</tr>\n",
       "<tr>\n",
       "<td>2</td>\n",
       "<td>Barron  </td>\n",
       "<td>8nm</td>\n",
       "</tr>\n",
       "<tr>\n",
       "<td>3</td>\n",
       "<td>Caren</td>\n",
       "<td>7nm</td>\n",
       "</tr>\n",
       "<tr>\n",
       "<td>4</td>\n",
       "<td>Darrin  </td>\n",
       "<td>1km</td>\n",
       "</tr>\n",
       "<tr>\n",
       "<td>5</td>\n",
       "<td>Aaron</td>\n",
       "<td>9nm</td>\n",
       "</tr>\n",
       "<tr>\n",
       "<td>6</td>\n",
       "<td>Barron</td>\n",
       "<td>2nm</td>\n",
       "</tr>\n",
       "<tr>\n",
       "<td>7</td>\n",
       "<td>Caren</td>\n",
       "<td>1nm</td>\n",
       "</tr>\n",
       "<tr>\n",
       "<td>8</td>\n",
       "<td>Barron</td>\n",
       "<td>1Ym<sup>2</sup></td>\n",
       "</tr>\n",
       "</tbody>\n",
       "</table>\n",
       "<p><br/>\n",
       "To ten decimal places, what is the probability that <strong>Darrin</strong> will be this year’s winner?\n",
       "(Or, if you want to send in the <em>exact answer</em>, that’s fine too!)</p>\n",
       "<p><br/></p>\n",
       "<p>[1] Each robot is equally skilled. Which is to say: for any region <em>R</em> on the target with nonzero area, the robots all have the same positive probability of landing an arrow within <em>R</em> on any given shot.</p>\n",
       "<p>[2] It’s a large target.</p>\n",
       "</div>"
      ],
      "text/plain": [
       "<IPython.core.display.HTML object>"
      ]
     },
     "execution_count": 2,
     "metadata": {},
     "output_type": "execute_result"
    }
   ],
   "source": [
    "url='https://www.janestreet.com/puzzles/robot-archery-index/'\n",
    "res = requests.get(url)\n",
    "soup = BeautifulSoup(res.content, 'html.parser')\n",
    "HTML(str(soup.find('div', {'class' :'inner-wrapper'})))\n",
    "# used a tree to work out the probability. Have worked through the published solution at the bottom in sympy. "
   ]
  },
  {
   "cell_type": "code",
   "execution_count": 3,
   "id": "6e08ae17-a7ac-4bdc-a204-99f7eedc0d37",
   "metadata": {},
   "outputs": [],
   "source": [
    "# build out the probability tree\n",
    "def tree(p,stopper):\n",
    "    game = [(np.ones(p),Fraction(1,1),1,1)]  # live players,probability, number of shots, next player\n",
    "    result = []\n",
    "    \n",
    "    while len(game) >0:\n",
    "        (players,prob,num,x) = game.pop()\n",
    "        if np.sum(players) ==1:\n",
    "            result.append([np.argmax(players)+1,prob])\n",
    "        elif num >stopper:\n",
    "            result.append([0,prob])\n",
    "        else:\n",
    "            num +=1\n",
    "            pass_prob = prob * Fraction(1,num)\n",
    "            fail_prob = prob * Fraction(num-1,num)\n",
    "            fail_players = copy(players)\n",
    "            fail_players[x] = 0\n",
    "            nextp = (x +1) % p\n",
    "            while players[nextp] ==0:\n",
    "                nextp = (nextp +1) % p\n",
    "            game.append([players,pass_prob,num,nextp])\n",
    "            game.append([fail_players,fail_prob,num,nextp])\n",
    "    print(len(result),\"total paths\")\n",
    "    return [(n,float(np.sum([j for i,j in result if i==n])))for n in range(p+1)]\n"
   ]
  },
  {
   "cell_type": "code",
   "execution_count": 4,
   "id": "74dd3b48-2ac0-48a9-aed2-53e3875c5ae9",
   "metadata": {},
   "outputs": [
    {
     "name": "stdout",
     "output_type": "stream",
     "text": [
      "988 total paths\n",
      "Player 0 has a 0.0000000000 probability\n",
      "Player 1 has a 0.3711532348 probability\n",
      "Player 2 has a 0.2421885526 probability\n",
      "Player 3 has a 0.2032205617 probability\n",
      "Player 4 has a 0.1834376509 probability\n"
     ]
    }
   ],
   "source": [
    "output = tree(4,18)\n",
    "for i in range(5):\n",
    "    print(\"Player {} has a {:.10f} probability\".format(output[i][0],output[i][1]))"
   ]
  },
  {
   "cell_type": "code",
   "execution_count": 5,
   "id": "a5598ed3-48f2-4784-bef5-00f2349271e2",
   "metadata": {},
   "outputs": [
    {
     "data": {
      "text/html": [
       "<div class=\"inner-wrapper\">\n",
       "<p>[Above is a Mathematica-derived solution to the systems of equations\n",
       "described in the 4-player tournament described below]</p>\n",
       "<p>Without loss of generality we can assume an arrow’s distance to the center of the target is U[0,1] distributed. Let <em>P<sub>j,k</sub></em>(<em>x</em>) denote the probability that Player <em>j</em> out of <em>k</em> in the <strong>current</strong> line will eventually win the game, given that the current best dart is at distance <em>x</em>.</p>\n",
       "<p>In a 2-player archery tournament, we would have <em>P</em><sub>1,2</sub>(<em>x</em>) + <em>P</em><sub>2,2</sub>(<em>x</em>) = 1, <em>P</em><sub>1,2</sub>(0) = 0, and <em>P</em><sub>1,2</sub>(<em>x</em>) = ∫<sub>0</sub><sup><em>x</em></sup> <em>P</em><sub>2,2</sub>(<em>u</em>) d<em>u</em>. Taking derivatives of both sides in that last equation and substituing gives <em>P</em>‘<sub>1,2</sub>(<em>x</em>) = −<em>P</em><sub>1,2</sub>(x). Solving gives <em>P</em><sub>1,2</sub>(<em>x</em>) = 1−e<sup>−<em>x</em></sup>.</p>\n",
       "<p>In the 3-player version of the game, we get the following system of equations:</p>\n",
       "<p><em>P</em><sub>1,3</sub>(<em>x</em>) = ∫<sub>0</sub><sup><em>x</em></sup> <em>P</em><sub>3,3</sub>(<em>u</em>) d<em>u</em></p>\n",
       "<p><em>P</em><sub>2,3</sub>(<em>x</em>) = (1 - <em>x</em>)<em>P</em><sub>1,2</sub>(<em>x</em>) + ∫<sub>0</sub><sup><em>x</em></sup> <em>P</em><sub>1,3</sub>(<em>u</em>) d<em>u</em></p>\n",
       "<p><em>P</em><sub>1,3</sub>(<em>x</em>) + <em>P</em><sub>2,3</sub>(<em>x</em>) + <em>P</em><sub>3,3</sub>(<em>x</em>) = 1</p>\n",
       "<p><em>P</em><sub>1,3</sub>(0) = <em>P</em><sub>2,3</sub>(0) = 0.</p>\n",
       "<p>And for the 4-player version we have the following:</p>\n",
       "<p><em>P</em><sub>1,4</sub>(<em>x</em>) = ∫<sub>0</sub><sup><em>x</em></sup> <em>P</em><sub>4,4</sub>(<em>u</em>) d<em>u</em></p>\n",
       "<p><em>P</em><sub>2,4</sub>(<em>x</em>) = (1 - <em>x</em>)<em>P</em><sub>1,3</sub>(<em>x</em>) + ∫<sub>0</sub><sup><em>x</em></sup> <em>P</em><sub>1,4</sub>(<em>u</em>) d<em>u</em></p>\n",
       "<p><em>P</em><sub>3,4</sub>(<em>x</em>) = (1 - <em>x</em>)<em>P</em><sub>2,3</sub>(<em>x</em>) + ∫<sub>0</sub><sup><em>x</em></sup> <em>P</em><sub>2,4</sub>(<em>u</em>) d<em>u</em></p>\n",
       "<p><em>P</em><sub>1,4</sub>(<em>x</em>) + <em>P</em><sub>2,4</sub>(<em>x</em>) + <em>P</em><sub>3,4</sub>(<em>x</em>) + <em>P</em><sub>4,4</sub>(<em>x</em>) = 1</p>\n",
       "<p><em>P</em><sub>1,4</sub>(0) = <em>P</em><sub>2,4</sub>(0) = <em>P</em><sub>3,4</sub>(0) = 0.</p>\n",
       "<p>In particular we have <em>P</em><sub>4,4</sub>(1) = (-5/4)*(cos(1) + sin(1)) + (1/2)*<em>e</em><sup>-1</sup> + (<em>e</em><sup>-1/2</sup>)*(cos(sqrt(3)/2) + 5/sqrt(3)*sin(sqrt(3)/2)), or approximately 0.18343765086.</p>\n",
       "<p><strong>Congrats to this month’s solvers!</strong></p>\n",
       "<h4 class=\"omit-as-of\" id=\"correct-submissions-from\"></h4>\n",
       "<p class=\"correct-submissions\" data-directory=\"2021-12-01-robot-archery\"></p>\n",
       "</div>"
      ],
      "text/plain": [
       "<IPython.core.display.HTML object>"
      ]
     },
     "execution_count": 5,
     "metadata": {},
     "output_type": "execute_result"
    }
   ],
   "source": [
    "url='https://www.janestreet.com/puzzles/robot-archery-solution/'\n",
    "res = requests.get(url)\n",
    "soup = BeautifulSoup(res.content, 'html.parser')\n",
    "HTML(str(soup.find_all('div', {'class' :'inner-wrapper'})[1]))"
   ]
  },
  {
   "cell_type": "markdown",
   "id": "c930e8b1-c5fd-4cd6-be6c-2a07663ab8df",
   "metadata": {},
   "source": [
    "<img src='https://www.janestreet.com/puzzles/2021-12-01-robot-archery-solution.png' width=500>"
   ]
  },
  {
   "cell_type": "code",
   "execution_count": 6,
   "id": "d4d50b18-2292-4d6f-b79e-8df3e342efcc",
   "metadata": {},
   "outputs": [
    {
     "data": {
      "text/markdown": [
       "***Initial Conditions***"
      ],
      "text/plain": [
       "<IPython.core.display.Markdown object>"
      ]
     },
     "metadata": {},
     "output_type": "display_data"
    },
    {
     "data": {
      "text/markdown": [
       "\n",
       "&emsp; $\n",
       "\\operatorname{P_{12}}{\\left(x \\right)} + \\operatorname{P_{22}}{\\left(x \\right)} = 1$ &emsp;&emsp;&emsp; **[ eq1 ]**\n",
       "\n"
      ],
      "text/plain": [
       "<IPython.core.display.Markdown object>"
      ]
     },
     "metadata": {},
     "output_type": "display_data"
    },
    {
     "data": {
      "text/markdown": [
       "\n",
       "&emsp; $\n",
       "\\operatorname{P_{12}}{\\left(0 \\right)} = 0$ &emsp;&emsp;&emsp; **[ eq2 ]**\n",
       "\n"
      ],
      "text/plain": [
       "<IPython.core.display.Markdown object>"
      ]
     },
     "metadata": {},
     "output_type": "display_data"
    },
    {
     "data": {
      "text/markdown": [
       "\n",
       "&emsp; $\n",
       "\\operatorname{P_{12}}{\\left(x \\right)} = \\int\\limits_{0}^{x} \\operatorname{P_{22}}{\\left(u \\right)}\\, du$ &emsp;&emsp;&emsp; **[ eq3 ]**\n",
       "\n"
      ],
      "text/plain": [
       "<IPython.core.display.Markdown object>"
      ]
     },
     "metadata": {},
     "output_type": "display_data"
    },
    {
     "data": {
      "text/markdown": [
       "\n",
       "Differentiate *eq3* and substitute into *eq1*&emsp; $\n",
       "\\operatorname{P_{12}}{\\left(x \\right)} = 1 - \\frac{d}{d x} \\operatorname{P_{12}}{\\left(x \\right)}$ &emsp;&emsp;&emsp; **[ eq5 ]**\n",
       "\n"
      ],
      "text/plain": [
       "<IPython.core.display.Markdown object>"
      ]
     },
     "metadata": {},
     "output_type": "display_data"
    },
    {
     "data": {
      "text/markdown": [
       "\n",
       "Solving differential equation in *eq5* gives&emsp; $\n",
       "\\operatorname{P_{12}}{\\left(x \\right)} = 1 - e^{- x}$ &emsp;&emsp;&emsp; **[ eq6 ]**\n",
       "\n"
      ],
      "text/plain": [
       "<IPython.core.display.Markdown object>"
      ]
     },
     "metadata": {},
     "output_type": "display_data"
    },
    {
     "data": {
      "text/latex": [
       "$\\displaystyle \\operatorname{P_{12}}{\\left(1 \\right)} = 0.632120558828558$"
      ],
      "text/plain": [
       "Eq(P_12(1), 0.632120558828558)"
      ]
     },
     "metadata": {},
     "output_type": "display_data"
    },
    {
     "data": {
      "text/markdown": [
       "\n",
       "and from *eq1*&emsp; $\n",
       "\\operatorname{P_{22}}{\\left(x \\right)} = e^{- x}$ &emsp;&emsp;&emsp; **[ eq6_1 ]**\n",
       "\n"
      ],
      "text/plain": [
       "<IPython.core.display.Markdown object>"
      ]
     },
     "metadata": {},
     "output_type": "display_data"
    },
    {
     "data": {
      "text/latex": [
       "$\\displaystyle \\operatorname{P_{22}}{\\left(1 \\right)} = 0.367879441171442$"
      ],
      "text/plain": [
       "Eq(P_22(1), 0.367879441171442)"
      ]
     },
     "metadata": {},
     "output_type": "display_data"
    }
   ],
   "source": [
    "# Try to work through the solution given\n",
    "# ~~~~~~~~~~~~~~~~~~~~~~~~~~~~~~~~~~~~~~\n",
    "\n",
    "def disp(eq,comments=\"\"):\n",
    "    display(Markdown('\\n{}&emsp; $\\n'.format(comments)+sy.latex(eval(eq))+'$ &emsp;&emsp;&emsp; **[ {} ]**\\n\\n'.format(eq)))\n",
    "\n",
    "#set up symbols\n",
    "x,u= sy.symbols('x u')\n",
    "# set up functions\n",
    "probs = sum([[\"P_\"+str(j+1)+str(i) for j in range(i)] for i in range(2,5) ],[])\n",
    "\n",
    "for i in probs:\n",
    "    locals()[i] =sy.Function(i) \n",
    "\n",
    "# 2 player case,starting conditions\n",
    "eq1 = sy.Eq(P_12(x) + P_22(x),1)\n",
    "eq2 = sy.Eq(P_12(0),0)\n",
    "eq3 = sy.Eq(P_12(x),sy.Integral(P_22(u),(u,0,x)))\n",
    "display(Markdown(\"***Initial Conditions***\"))\n",
    "disp(\"eq1\")\n",
    "disp(\"eq2\")\n",
    "disp(\"eq3\")\n",
    "\n",
    "eq4 = sy.Eq(sy.diff(eq3.lhs,x),sy.diff(eq3.rhs,x))\n",
    "eq5 = sy.Eq(P_12(x),sy.solve([eq1,eq2,eq4])[0][P_12(x)])\n",
    "disp(\"eq5\",\"Differentiate *eq3* and substitute into *eq1*\")\n",
    "eq6 = sy.dsolve(eq5,ics={P_12(0):0})\n",
    "disp(\"eq6\",\"Solving differential equation in *eq5* gives\")\n",
    "display(eq6.subs(x,1).evalf())\n",
    "eq6_1 = sy.Eq(P_22(x),sy.solve([eq1,eq6])[0][P_22(x)])\n",
    "disp(\"eq6_1\",\"and from *eq1*\")\n",
    "display(eq6_1.subs(x,1).evalf())              "
   ]
  },
  {
   "cell_type": "code",
   "execution_count": 7,
   "id": "44667fa9-ed7c-4a6a-80aa-4cf6888043e1",
   "metadata": {},
   "outputs": [
    {
     "data": {
      "text/markdown": [
       "***Expand to 3 player***"
      ],
      "text/plain": [
       "<IPython.core.display.Markdown object>"
      ]
     },
     "metadata": {},
     "output_type": "display_data"
    },
    {
     "data": {
      "text/markdown": [
       "\n",
       "&emsp; $\n",
       "\\operatorname{P_{13}}{\\left(x \\right)} = \\int\\limits_{0}^{x} \\operatorname{P_{33}}{\\left(u \\right)}\\, du$ &emsp;&emsp;&emsp; **[ eq7 ]**\n",
       "\n"
      ],
      "text/plain": [
       "<IPython.core.display.Markdown object>"
      ]
     },
     "metadata": {},
     "output_type": "display_data"
    },
    {
     "data": {
      "text/markdown": [
       "\n",
       "&emsp; $\n",
       "\\operatorname{P_{23}}{\\left(x \\right)} = \\left(1 - x\\right) \\operatorname{P_{12}}{\\left(x \\right)} + \\int\\limits_{0}^{x} \\operatorname{P_{13}}{\\left(u \\right)}\\, du$ &emsp;&emsp;&emsp; **[ eq8 ]**\n",
       "\n"
      ],
      "text/plain": [
       "<IPython.core.display.Markdown object>"
      ]
     },
     "metadata": {},
     "output_type": "display_data"
    },
    {
     "data": {
      "text/markdown": [
       "\n",
       "&emsp; $\n",
       "\\operatorname{P_{13}}{\\left(x \\right)} + \\operatorname{P_{23}}{\\left(x \\right)} + \\operatorname{P_{33}}{\\left(x \\right)} = 1$ &emsp;&emsp;&emsp; **[ eq9 ]**\n",
       "\n"
      ],
      "text/plain": [
       "<IPython.core.display.Markdown object>"
      ]
     },
     "metadata": {},
     "output_type": "display_data"
    },
    {
     "data": {
      "text/markdown": [
       "\n",
       "&emsp; $\n",
       "\\operatorname{P_{13}}{\\left(0 \\right)} = 0$ &emsp;&emsp;&emsp; **[ eq10 ]**\n",
       "\n"
      ],
      "text/plain": [
       "<IPython.core.display.Markdown object>"
      ]
     },
     "metadata": {},
     "output_type": "display_data"
    },
    {
     "data": {
      "text/markdown": [
       "\n",
       "&emsp; $\n",
       "\\operatorname{P_{23}}{\\left(0 \\right)} = 0$ &emsp;&emsp;&emsp; **[ eq11 ]**\n",
       "\n"
      ],
      "text/plain": [
       "<IPython.core.display.Markdown object>"
      ]
     },
     "metadata": {},
     "output_type": "display_data"
    }
   ],
   "source": [
    "display(Markdown(\"***Expand to 3 player***\"))\n",
    "eq7 = sy.Eq(P_13(x),sy.Integral(P_33(u),(u,0,x)))\n",
    "eq8 = sy.Eq(P_23(x),(1-x)*P_12(x)+sy.Integral(P_13(u),(u,0,x)))\n",
    "eq9 = sy.Eq(P_13(x) + P_23(x) + P_33(x),1)\n",
    "eq10 = sy.Eq(P_13(0),0)\n",
    "eq11 = sy.Eq(P_23(0),0)\n",
    "disp(\"eq7\")\n",
    "disp(\"eq8\")\n",
    "disp(\"eq9\")\n",
    "disp(\"eq10\")\n",
    "disp(\"eq11\")"
   ]
  },
  {
   "cell_type": "code",
   "execution_count": 8,
   "id": "bfbf6307-c51c-4ff5-a1dc-3c79dde9f4dc",
   "metadata": {},
   "outputs": [
    {
     "data": {
      "text/markdown": [
       "\n",
       "Diffentiate both sides of *eq7*&emsp; $\n",
       "\\operatorname{P_{33}}{\\left(x \\right)} = \\frac{d}{d x} \\operatorname{P_{13}}{\\left(x \\right)}$ &emsp;&emsp;&emsp; **[ eq12 ]**\n",
       "\n"
      ],
      "text/plain": [
       "<IPython.core.display.Markdown object>"
      ]
     },
     "metadata": {},
     "output_type": "display_data"
    },
    {
     "data": {
      "text/markdown": [
       "\n",
       "Solve for *eq6/eq8/eq9/eq12* gives&emsp; $\n",
       "\\operatorname{P_{13}}{\\left(x \\right)} = x - x e^{- x} - \\frac{d}{d x} \\operatorname{P_{13}}{\\left(x \\right)} - \\int\\limits_{0}^{x} \\operatorname{P_{13}}{\\left(u \\right)}\\, du + e^{- x}$ &emsp;&emsp;&emsp; **[ eq13 ]**\n",
       "\n"
      ],
      "text/plain": [
       "<IPython.core.display.Markdown object>"
      ]
     },
     "metadata": {},
     "output_type": "display_data"
    },
    {
     "data": {
      "text/markdown": [
       "\n",
       "Diffentiate both sides of *eq13*&emsp; $\n",
       "\\frac{d}{d x} \\operatorname{P_{13}}{\\left(x \\right)} = x e^{- x} - \\operatorname{P_{13}}{\\left(x \\right)} - \\frac{d^{2}}{d x^{2}} \\operatorname{P_{13}}{\\left(x \\right)} + 1 - 2 e^{- x}$ &emsp;&emsp;&emsp; **[ eq14 ]**\n",
       "\n"
      ],
      "text/plain": [
       "<IPython.core.display.Markdown object>"
      ]
     },
     "metadata": {},
     "output_type": "display_data"
    },
    {
     "data": {
      "text/markdown": [
       "\n",
       "Solving ...&emsp; $\n",
       "\\operatorname{P_{13}}{\\left(x \\right)} = \\left(x - 1\\right) e^{- x} + 1 - \\frac{2 \\sqrt{3} e^{- \\frac{x}{2}} \\sin{\\left(\\frac{\\sqrt{3} x}{2} \\right)}}{3}$ &emsp;&emsp;&emsp; **[ eq15 ]**\n",
       "\n"
      ],
      "text/plain": [
       "<IPython.core.display.Markdown object>"
      ]
     },
     "metadata": {},
     "output_type": "display_data"
    },
    {
     "data": {
      "text/latex": [
       "$\\displaystyle \\operatorname{P_{13}}{\\left(1 \\right)} = 0.466492804885307$"
      ],
      "text/plain": [
       "Eq(P_13(1), 0.466492804885307)"
      ]
     },
     "metadata": {},
     "output_type": "display_data"
    }
   ],
   "source": [
    "eq12 = sy.Eq(sy.diff(eq7.rhs,x),sy.diff(eq7.lhs,x))\n",
    "eq13 = sy.Eq(P_13(x),sy.solve([eq6,eq8,eq9,eq12])[0][P_13(x)])\n",
    "eq14 = sy.Eq(sy.diff(eq13.lhs,x),sy.diff(eq13.rhs,x))\n",
    "disp(\"eq12\",comments =\"Diffentiate both sides of *eq7*\")\n",
    "disp(\"eq13\",comments =\"Solve for *eq6/eq8/eq9/eq12* gives\")\n",
    "disp(\"eq14\",comments =\"Diffentiate both sides of *eq13*\")\n",
    "\n",
    "eq15 = sy.dsolve(eq14,ics={P_13(0):0,P_13(x).diff(x).subs(x,0):1})\n",
    "disp(\"eq15\",comments=\"Solving ...\")\n",
    "display(eq15.subs(x,1).evalf())"
   ]
  },
  {
   "cell_type": "code",
   "execution_count": 9,
   "id": "b7e1eeb5-7024-4c93-b162-ec5d4aac1b6b",
   "metadata": {},
   "outputs": [
    {
     "data": {
      "text/markdown": [
       "\n",
       "Now we have $P_{13}$ we can use this to work out $P_{33}$ as&emsp; $\n",
       "\\operatorname{P_{33}}{\\left(x \\right)} = \\frac{d}{d x} \\operatorname{P_{13}}{\\left(x \\right)}$ &emsp;&emsp;&emsp; **[ eq12 ]**\n",
       "\n"
      ],
      "text/plain": [
       "<IPython.core.display.Markdown object>"
      ]
     },
     "metadata": {},
     "output_type": "display_data"
    },
    {
     "data": {
      "text/markdown": [
       "\n",
       "Which gives&emsp; $\n",
       "\\operatorname{P_{33}}{\\left(x \\right)} = - \\left(x - 1\\right) e^{- x} + e^{- x} + \\frac{\\sqrt{3} e^{- \\frac{x}{2}} \\sin{\\left(\\frac{\\sqrt{3} x}{2} \\right)}}{3} - e^{- \\frac{x}{2}} \\cos{\\left(\\frac{\\sqrt{3} x}{2} \\right)}$ &emsp;&emsp;&emsp; **[ eq16 ]**\n",
       "\n"
      ],
      "text/plain": [
       "<IPython.core.display.Markdown object>"
      ]
     },
     "metadata": {},
     "output_type": "display_data"
    },
    {
     "data": {
      "text/latex": [
       "$\\displaystyle \\operatorname{P_{33}}{\\left(1 \\right)} = 0.241686482894434$"
      ],
      "text/plain": [
       "Eq(P_33(1), 0.241686482894434)"
      ]
     },
     "metadata": {},
     "output_type": "display_data"
    }
   ],
   "source": [
    "disp(\"eq12\",comments=\"Now we have $P_{13}$ we can use this to work out $P_{33}$ as\")\n",
    "\n",
    "eq16 =sy.Eq(P_33(x),eq15.rhs.diff(x))\n",
    "disp(\"eq16\",comments=\"Which gives\" )\n",
    "display(eq16.subs(x,1).evalf())"
   ]
  },
  {
   "cell_type": "code",
   "execution_count": 10,
   "id": "dd48583e-1fa0-4bf5-af7d-03e3b1f36361",
   "metadata": {},
   "outputs": [
    {
     "data": {
      "text/markdown": [
       "\n",
       "Using *Eq9* now we have $P_{12}$ and $P_{33}$ we get&emsp; $\n",
       "\\operatorname{P_{23}}{\\left(x \\right)} = - e^{- x} + \\frac{\\sqrt{3} e^{- \\frac{x}{2}} \\sin{\\left(\\frac{\\sqrt{3} x}{2} \\right)}}{3} + e^{- \\frac{x}{2}} \\cos{\\left(\\frac{\\sqrt{3} x}{2} \\right)}$ &emsp;&emsp;&emsp; **[ eq17 ]**\n",
       "\n"
      ],
      "text/plain": [
       "<IPython.core.display.Markdown object>"
      ]
     },
     "metadata": {},
     "output_type": "display_data"
    },
    {
     "data": {
      "text/latex": [
       "$\\displaystyle \\operatorname{P_{23}}{\\left(1 \\right)} = 0.291820712220259$"
      ],
      "text/plain": [
       "Eq(P_23(1), 0.291820712220259)"
      ]
     },
     "metadata": {},
     "output_type": "display_data"
    }
   ],
   "source": [
    "eq17 =sy.Eq(P_23(x),1-eq16.rhs-eq15.rhs)\n",
    "disp(\"eq17\",\"Using *Eq9* now we have $P_{12}$ and $P_{33}$ we get\")\n",
    "display(eq17.subs(x,1).evalf())"
   ]
  },
  {
   "cell_type": "code",
   "execution_count": 11,
   "id": "3f58d127-9d2d-4750-afc5-1a23e423e6ae",
   "metadata": {},
   "outputs": [
    {
     "name": "stdout",
     "output_type": "stream",
     "text": [
      "172 total paths\n",
      "Player 0 has a 0.0000000000 probability\n",
      "Player 1 has a 0.4664928049 probability\n",
      "Player 2 has a 0.2918207122 probability\n",
      "Player 3 has a 0.2416864829 probability\n"
     ]
    }
   ],
   "source": [
    "#Check vs tree\n",
    "output = tree(3,18)\n",
    "for i in range(4):\n",
    "    print(\"Player {} has a {:.10f} probability\".format(output[i][0],output[i][1]))"
   ]
  },
  {
   "cell_type": "code",
   "execution_count": 12,
   "id": "377ee4bb-4ae9-47f6-9d1a-02e357817246",
   "metadata": {},
   "outputs": [
    {
     "data": {
      "text/markdown": [
       "**From the 3 player game we have**"
      ],
      "text/plain": [
       "<IPython.core.display.Markdown object>"
      ]
     },
     "metadata": {},
     "output_type": "display_data"
    },
    {
     "data": {
      "text/markdown": [
       "\n",
       "&emsp; $\n",
       "\\operatorname{P_{13}}{\\left(x \\right)} = \\left(x - 1\\right) e^{- x} + 1 - \\frac{2 \\sqrt{3} e^{- \\frac{x}{2}} \\sin{\\left(\\frac{\\sqrt{3} x}{2} \\right)}}{3}$ &emsp;&emsp;&emsp; **[ eq15 ]**\n",
       "\n"
      ],
      "text/plain": [
       "<IPython.core.display.Markdown object>"
      ]
     },
     "metadata": {},
     "output_type": "display_data"
    },
    {
     "data": {
      "text/markdown": [
       "\n",
       "&emsp; $\n",
       "\\operatorname{P_{23}}{\\left(x \\right)} = - e^{- x} + \\frac{\\sqrt{3} e^{- \\frac{x}{2}} \\sin{\\left(\\frac{\\sqrt{3} x}{2} \\right)}}{3} + e^{- \\frac{x}{2}} \\cos{\\left(\\frac{\\sqrt{3} x}{2} \\right)}$ &emsp;&emsp;&emsp; **[ eq17 ]**\n",
       "\n"
      ],
      "text/plain": [
       "<IPython.core.display.Markdown object>"
      ]
     },
     "metadata": {},
     "output_type": "display_data"
    },
    {
     "data": {
      "text/markdown": [
       "**And on to 4 player**"
      ],
      "text/plain": [
       "<IPython.core.display.Markdown object>"
      ]
     },
     "metadata": {},
     "output_type": "display_data"
    },
    {
     "data": {
      "text/markdown": [
       "\n",
       "&emsp; $\n",
       "\\operatorname{P_{14}}{\\left(x \\right)} = \\int\\limits_{0}^{x} \\operatorname{P_{44}}{\\left(u \\right)}\\, du$ &emsp;&emsp;&emsp; **[ eq18 ]**\n",
       "\n"
      ],
      "text/plain": [
       "<IPython.core.display.Markdown object>"
      ]
     },
     "metadata": {},
     "output_type": "display_data"
    },
    {
     "data": {
      "text/markdown": [
       "\n",
       "&emsp; $\n",
       "\\operatorname{P_{24}}{\\left(x \\right)} = \\left(1 - x\\right) \\operatorname{P_{13}}{\\left(x \\right)} + \\int\\limits_{0}^{x} \\operatorname{P_{14}}{\\left(u \\right)}\\, du$ &emsp;&emsp;&emsp; **[ eq19 ]**\n",
       "\n"
      ],
      "text/plain": [
       "<IPython.core.display.Markdown object>"
      ]
     },
     "metadata": {},
     "output_type": "display_data"
    },
    {
     "data": {
      "text/markdown": [
       "\n",
       "&emsp; $\n",
       "\\operatorname{P_{34}}{\\left(x \\right)} = \\left(1 - x\\right) \\operatorname{P_{23}}{\\left(x \\right)} + \\int\\limits_{0}^{x} \\operatorname{P_{24}}{\\left(u \\right)}\\, du$ &emsp;&emsp;&emsp; **[ eq20 ]**\n",
       "\n"
      ],
      "text/plain": [
       "<IPython.core.display.Markdown object>"
      ]
     },
     "metadata": {},
     "output_type": "display_data"
    },
    {
     "data": {
      "text/markdown": [
       "\n",
       "&emsp; $\n",
       "\\operatorname{P_{14}}{\\left(x \\right)} + \\operatorname{P_{24}}{\\left(x \\right)} + \\operatorname{P_{34}}{\\left(x \\right)} + \\operatorname{P_{44}}{\\left(x \\right)} = 1$ &emsp;&emsp;&emsp; **[ eq21 ]**\n",
       "\n"
      ],
      "text/plain": [
       "<IPython.core.display.Markdown object>"
      ]
     },
     "metadata": {},
     "output_type": "display_data"
    },
    {
     "data": {
      "text/markdown": [
       "\n",
       "&emsp; $\n",
       "\\operatorname{P_{14}}{\\left(0 \\right)} = 0$ &emsp;&emsp;&emsp; **[ eq22 ]**\n",
       "\n"
      ],
      "text/plain": [
       "<IPython.core.display.Markdown object>"
      ]
     },
     "metadata": {},
     "output_type": "display_data"
    },
    {
     "data": {
      "text/markdown": [
       "\n",
       "&emsp; $\n",
       "\\operatorname{P_{24}}{\\left(0 \\right)} = 0$ &emsp;&emsp;&emsp; **[ eq23 ]**\n",
       "\n"
      ],
      "text/plain": [
       "<IPython.core.display.Markdown object>"
      ]
     },
     "metadata": {},
     "output_type": "display_data"
    },
    {
     "data": {
      "text/markdown": [
       "\n",
       "&emsp; $\n",
       "\\operatorname{P_{34}}{\\left(0 \\right)} = 0$ &emsp;&emsp;&emsp; **[ eq24 ]**\n",
       "\n"
      ],
      "text/plain": [
       "<IPython.core.display.Markdown object>"
      ]
     },
     "metadata": {},
     "output_type": "display_data"
    }
   ],
   "source": [
    "eq18 = sy.Eq(P_14(x),sy.Integral(P_44(u),(u,0,x)))\n",
    "eq19 = sy.Eq(P_24(x),(1-x)*P_13(x)+sy.Integral(P_14(u),(u,0,x)))\n",
    "eq20 = sy.Eq(P_34(x),(1-x)*P_23(x)+sy.Integral(P_24(u),(u,0,x)))\n",
    "eq21 = sy.Eq(P_14(x) + P_24(x) + P_34(x) + P_44(x),1)\n",
    "eq22 = sy.Eq(P_14(0),0)\n",
    "eq23 = sy.Eq(P_24(0),0)\n",
    "eq24 = sy.Eq(P_34(0),0)\n",
    "display(Markdown(\"**From the 3 player game we have**\"))\n",
    "disp(\"eq15\")\n",
    "disp(\"eq17\")\n",
    "display(Markdown(\"**And on to 4 player**\"))\n",
    "disp(\"eq18\")\n",
    "disp(\"eq19\")\n",
    "disp(\"eq20\")\n",
    "disp(\"eq21\")\n",
    "disp(\"eq22\")\n",
    "disp(\"eq23\")\n",
    "disp(\"eq24\")\n"
   ]
  },
  {
   "cell_type": "code",
   "execution_count": 13,
   "id": "62f86c70-7346-4f8c-8708-f184fda319bc",
   "metadata": {},
   "outputs": [
    {
     "data": {
      "text/markdown": [
       "\n",
       "Diffentiate both sides of *eq18*&emsp; $\n",
       "\\operatorname{P_{44}}{\\left(x \\right)} = \\frac{d}{d x} \\operatorname{P_{14}}{\\left(x \\right)}$ &emsp;&emsp;&emsp; **[ eq25 ]**\n",
       "\n"
      ],
      "text/plain": [
       "<IPython.core.display.Markdown object>"
      ]
     },
     "metadata": {},
     "output_type": "display_data"
    },
    {
     "data": {
      "text/markdown": [
       "\n",
       "Subsitute the solution for $P_{13}$ into *eq19*&emsp; $\n",
       "\\operatorname{P_{24}}{\\left(x \\right)} = \\left(1 - x\\right) \\left(\\left(x - 1\\right) e^{- x} + 1 - \\frac{2 \\sqrt{3} e^{- \\frac{x}{2}} \\sin{\\left(\\frac{\\sqrt{3} x}{2} \\right)}}{3}\\right) + \\int\\limits_{0}^{x} \\operatorname{P_{14}}{\\left(u \\right)}\\, du$ &emsp;&emsp;&emsp; **[ eq26 ]**\n",
       "\n"
      ],
      "text/plain": [
       "<IPython.core.display.Markdown object>"
      ]
     },
     "metadata": {},
     "output_type": "display_data"
    },
    {
     "data": {
      "text/markdown": [
       "\n",
       "Subsitute the solution for $P_{23}$ into *eq20*&emsp; $\n",
       "\\operatorname{P_{34}}{\\left(x \\right)} = \\left(1 - x\\right) \\left(- e^{- x} + \\frac{\\sqrt{3} e^{- \\frac{x}{2}} \\sin{\\left(\\frac{\\sqrt{3} x}{2} \\right)}}{3} + e^{- \\frac{x}{2}} \\cos{\\left(\\frac{\\sqrt{3} x}{2} \\right)}\\right) + \\int\\limits_{0}^{x} \\operatorname{P_{24}}{\\left(u \\right)}\\, du$ &emsp;&emsp;&emsp; **[ eq27 ]**\n",
       "\n"
      ],
      "text/plain": [
       "<IPython.core.display.Markdown object>"
      ]
     },
     "metadata": {},
     "output_type": "display_data"
    },
    {
     "data": {
      "text/markdown": [
       "\n",
       "Change variable in *eq26*&emsp; $\n",
       "\\operatorname{P_{24}}{\\left(u \\right)} = \\left(1 - u\\right) \\left(\\left(u - 1\\right) e^{- u} + 1 - \\frac{2 \\sqrt{3} e^{- \\frac{u}{2}} \\sin{\\left(\\frac{\\sqrt{3} u}{2} \\right)}}{3}\\right) + \\int\\limits_{0}^{u} \\operatorname{P_{14}}{\\left(u \\right)}\\, du$ &emsp;&emsp;&emsp; **[ eq28 ]**\n",
       "\n"
      ],
      "text/plain": [
       "<IPython.core.display.Markdown object>"
      ]
     },
     "metadata": {},
     "output_type": "display_data"
    },
    {
     "data": {
      "text/markdown": [
       "\n",
       "Substitute into *eq27*&emsp; $\n",
       "\\operatorname{P_{34}}{\\left(x \\right)} = \\left(1 - x\\right) \\left(- e^{- x} + \\frac{\\sqrt{3} e^{- \\frac{x}{2}} \\sin{\\left(\\frac{\\sqrt{3} x}{2} \\right)}}{3} + e^{- \\frac{x}{2}} \\cos{\\left(\\frac{\\sqrt{3} x}{2} \\right)}\\right) + \\int\\limits_{0}^{x} \\left(\\left(1 - u\\right) \\left(\\left(u - 1\\right) e^{- u} + 1 - \\frac{2 \\sqrt{3} e^{- \\frac{u}{2}} \\sin{\\left(\\frac{\\sqrt{3} u}{2} \\right)}}{3}\\right) + \\int\\limits_{0}^{u} \\operatorname{P_{14}}{\\left(u \\right)}\\, du\\right)\\, du$ &emsp;&emsp;&emsp; **[ eq29 ]**\n",
       "\n"
      ],
      "text/plain": [
       "<IPython.core.display.Markdown object>"
      ]
     },
     "metadata": {},
     "output_type": "display_data"
    }
   ],
   "source": [
    "eq25 = sy.Eq(sy.diff(eq18.rhs,x),sy.diff(eq18.lhs,x))\n",
    "eq26 = eq19.subs(eq15.lhs,eq15.rhs)\n",
    "eq27 = eq20.subs(eq17.lhs,eq17.rhs)\n",
    "eq28 = eq26.subs(x,u)\n",
    "disp(\"eq25\",comments =\"Diffentiate both sides of *eq18*\")\n",
    "disp(\"eq26\",comments =\"Subsitute the solution for $P_{13}$ into *eq19*\")\n",
    "disp(\"eq27\",comments =\"Subsitute the solution for $P_{23}$ into *eq20*\")\n",
    "disp(\"eq28\",comments =\"Change variable in *eq26*\")\n",
    "\n",
    "eq29 = eq27.subs(eq28.lhs,eq28.rhs)\n",
    "disp(\"eq29\",comments =\"Substitute into *eq27*\")"
   ]
  },
  {
   "cell_type": "code",
   "execution_count": 14,
   "id": "c83a1432-130c-4e65-b342-1877d2837888",
   "metadata": {},
   "outputs": [
    {
     "data": {
      "text/markdown": [
       "\n",
       "Substituting *eq26/29/25* into eq21 gives&emsp; $\n",
       "\\operatorname{P_{14}}{\\left(x \\right)} = - \\left(1 - x\\right) \\left(\\left(x - 1\\right) e^{- x} + 1 - \\frac{2 \\sqrt{3} e^{- \\frac{x}{2}} \\sin{\\left(\\frac{\\sqrt{3} x}{2} \\right)}}{3}\\right) - \\left(1 - x\\right) \\left(- e^{- x} + \\frac{\\sqrt{3} e^{- \\frac{x}{2}} \\sin{\\left(\\frac{\\sqrt{3} x}{2} \\right)}}{3} + e^{- \\frac{x}{2}} \\cos{\\left(\\frac{\\sqrt{3} x}{2} \\right)}\\right) - \\frac{d}{d x} \\operatorname{P_{14}}{\\left(x \\right)} - \\int\\limits_{0}^{x} \\left(\\left(1 - u\\right) \\left(\\left(u - 1\\right) e^{- u} + 1 - \\frac{2 \\sqrt{3} e^{- \\frac{u}{2}} \\sin{\\left(\\frac{\\sqrt{3} u}{2} \\right)}}{3}\\right) + \\int\\limits_{0}^{u} \\operatorname{P_{14}}{\\left(u \\right)}\\, du\\right)\\, du - \\int\\limits_{0}^{x} \\operatorname{P_{14}}{\\left(u \\right)}\\, du + 1$ &emsp;&emsp;&emsp; **[ eq30 ]**\n",
       "\n"
      ],
      "text/plain": [
       "<IPython.core.display.Markdown object>"
      ]
     },
     "metadata": {},
     "output_type": "display_data"
    },
    {
     "data": {
      "text/markdown": [
       "\n",
       " differentiating twice gives&emsp; $\n",
       "\\frac{d^{2}}{d x^{2}} \\operatorname{P_{14}}{\\left(x \\right)} = - \\frac{\\left(x - 1\\right) \\left(3 e^{- x} - \\sqrt{3} e^{- \\frac{x}{2}} \\sin{\\left(\\frac{\\sqrt{3} x}{2} \\right)} + 3 e^{- \\frac{x}{2}} \\cos{\\left(\\frac{\\sqrt{3} x}{2} \\right)}\\right)}{3} + \\frac{\\left(x - 1\\right) \\left(3 \\left(x - 1\\right) e^{- x} - 6 e^{- x} + \\sqrt{3} e^{- \\frac{x}{2}} \\sin{\\left(\\frac{\\sqrt{3} x}{2} \\right)} + 3 e^{- \\frac{x}{2}} \\cos{\\left(\\frac{\\sqrt{3} x}{2} \\right)}\\right)}{3} - \\frac{\\left(x - 1\\right) \\left(3 \\left(x - 1\\right) e^{- x} - 3 e^{- x} - \\sqrt{3} e^{- \\frac{x}{2}} \\sin{\\left(\\frac{\\sqrt{3} x}{2} \\right)} + 3 e^{- \\frac{x}{2}} \\cos{\\left(\\frac{\\sqrt{3} x}{2} \\right)}\\right)}{3} - \\left(x - 1\\right) e^{- x} - \\operatorname{P_{14}}{\\left(x \\right)} - \\frac{d}{d x} \\operatorname{P_{14}}{\\left(x \\right)} - \\frac{d^{3}}{d x^{3}} \\operatorname{P_{14}}{\\left(x \\right)} + 1 + 4 e^{- x} - \\frac{4 \\sqrt{3} e^{- \\frac{x}{2}} \\sin{\\left(\\frac{\\sqrt{3} x}{2} \\right)}}{3} - 2 e^{- \\frac{x}{2}} \\cos{\\left(\\frac{\\sqrt{3} x}{2} \\right)}$ &emsp;&emsp;&emsp; **[ eq31 ]**\n",
       "\n"
      ],
      "text/plain": [
       "<IPython.core.display.Markdown object>"
      ]
     },
     "metadata": {},
     "output_type": "display_data"
    }
   ],
   "source": [
    "eq30 = sy.Eq(P_14(x),1-eq26.rhs-eq29.rhs-eq25.rhs)\n",
    "disp(\"eq30\",comments =\"Substituting *eq26/29/25* into eq21 gives\")\n",
    "\n",
    "eq31 = sy.Eq(sy.diff(eq30.lhs,x,2),sy.diff(eq30.rhs,x,2))\n",
    "disp(\"eq31\",comments =\" differentiating twice gives\")"
   ]
  },
  {
   "cell_type": "code",
   "execution_count": 15,
   "id": "117143f2-132a-4cd0-9c58-cd0b5646f6ee",
   "metadata": {},
   "outputs": [
    {
     "data": {
      "text/markdown": [
       "\n",
       "**Need one more boundary condition** so differentiating once and substituting $x=0$ gives&emsp; $\n",
       "\\left. \\frac{d}{d x} \\operatorname{P_{14}}{\\left(x \\right)} \\right|_{\\substack{ x=0 }} = - \\operatorname{P_{14}}{\\left(0 \\right)} - \\left. \\frac{d^{2}}{d x^{2}} \\operatorname{P_{14}}{\\left(x \\right)} \\right|_{\\substack{ x=0 }} - 2$ &emsp;&emsp;&emsp; **[ eq31_1 ]**\n",
       "\n"
      ],
      "text/plain": [
       "<IPython.core.display.Markdown object>"
      ]
     },
     "metadata": {},
     "output_type": "display_data"
    },
    {
     "data": {
      "text/markdown": [
       "\n",
       "Using $P_{14}(0)=0$ and  $\\frac{d}{d x} \\operatorname{P_{14}}{\\left(x \\right)} = \\operatorname{P_{44}}{\\left(x \\right)}$ and $P_{44}(0)=1$ gives...&emsp; $\n",
       "1 = - \\left. \\frac{d^{2}}{d x^{2}} \\operatorname{P_{14}}{\\left(x \\right)} \\right|_{\\substack{ x=0 }} - 2$ &emsp;&emsp;&emsp; **[ eq31_2 ]**\n",
       "\n"
      ],
      "text/plain": [
       "<IPython.core.display.Markdown object>"
      ]
     },
     "metadata": {},
     "output_type": "display_data"
    },
    {
     "data": {
      "text/markdown": [
       "\n",
       "$\\implies$&emsp; $\n",
       "\\left. \\frac{d^{2}}{d x^{2}} \\operatorname{P_{14}}{\\left(x \\right)} \\right|_{\\substack{ x=0 }} = -3$ &emsp;&emsp;&emsp; **[ eq31_3 ]**\n",
       "\n"
      ],
      "text/plain": [
       "<IPython.core.display.Markdown object>"
      ]
     },
     "metadata": {},
     "output_type": "display_data"
    }
   ],
   "source": [
    "eq31_1 = sy.Eq(sy.diff(eq30.lhs,x,1),sy.diff(eq30.rhs,x,1)).subs(x,0).doit()\n",
    "disp(\"eq31_1\",comments =\"**Need one more boundary condition** so differentiating once and substituting $x=0$ gives\")\n",
    "eq31_2 = eq31_1.subs([(P_14(0),0),(P_14(x).diff(x).subs(x,0),1)])\n",
    "\n",
    "disp(\"eq31_2\",comments =\"Using $P_{14}(0)=0$ and  $\"+sy.latex(sy.Eq(eq25.rhs,eq25.lhs))+\"$ and $P_{44}(0)=1$ gives...\")\n",
    "\n",
    "eq31_3 = sy.Eq((eq31_2.rhs+2)*-1,(eq31_2.lhs+2)*-1)\n",
    "disp(\"eq31_3\",comments =\"$\\implies$\")\n"
   ]
  },
  {
   "cell_type": "code",
   "execution_count": 16,
   "id": "79356ee7-8e50-4bd2-9712-fa7ad0a26b81",
   "metadata": {},
   "outputs": [
    {
     "data": {
      "text/markdown": [
       "\n",
       "Solving *eq31* using $\\operatorname{P_{14}}{\\left(0 \\right)} = 0$ , $\\frac{d}{d x} \\operatorname{P_{14}}{\\left(x \\right)} = \\operatorname{P_{44}}{\\left(x \\right)}$ and $P_{44}(0)=1$ and $\\left. \\frac{d^{2}}{d x^{2}} \\operatorname{P_{14}}{\\left(x \\right)} \\right|_{\\substack{ x=0 }} = -3$ solution gives .....&emsp; $\n",
       "\\operatorname{P_{14}}{\\left(x \\right)} = - \\frac{x \\cos{\\left(\\frac{\\sqrt{3} x}{2} \\right)}}{\\sqrt{e^{x}}} + \\sqrt{3} x e^{- \\frac{x}{2}} \\sin{\\left(\\frac{\\sqrt{3} x}{2} \\right)} + \\left(- \\frac{3 x^{2}}{4} + 2 x - \\frac{5}{4}\\right) e^{- x} - \\frac{5 \\sin{\\left(x \\right)}}{4} + \\frac{5 \\cos{\\left(x \\right)}}{4} + 1 - \\frac{\\cos{\\left(\\frac{\\sqrt{3} x}{2} \\right)}}{\\sqrt{e^{x}}} - \\frac{\\sqrt{3} e^{- \\frac{x}{2}} \\sin{\\left(\\frac{\\sqrt{3} x}{2} \\right)}}{3}$ &emsp;&emsp;&emsp; **[ eq32 ]**\n",
       "\n"
      ],
      "text/plain": [
       "<IPython.core.display.Markdown object>"
      ]
     },
     "metadata": {},
     "output_type": "display_data"
    },
    {
     "data": {
      "text/latex": [
       "$\\displaystyle \\operatorname{P_{14}}{\\left(1 \\right)} = 0.371153234771287$"
      ],
      "text/plain": [
       "Eq(P_14(1), 0.371153234771287)"
      ]
     },
     "metadata": {},
     "output_type": "display_data"
    }
   ],
   "source": [
    "eq32 = sy.dsolve(eq31,ics={P_14(0):0,P_14(x).diff(x).subs(x,0):1,P_14(x).diff(x,2).subs(x,0):-3})\n",
    "disp(\"eq32\",comments =\"Solving *eq31* using $\"+sy.latex(eq22)+\"$ , $\"+sy.latex(sy.Eq(eq25.rhs,eq25.lhs))+\n",
    "     \"$ and $P_{44}(0)=1$ and $\"+sy.latex(eq31_3)+\"$ solution gives .....\")\n",
    "display(eq32.subs(x,1).evalf())"
   ]
  },
  {
   "cell_type": "code",
   "execution_count": 17,
   "id": "fea54c72-a0ac-4670-b2b3-c25057af3e7a",
   "metadata": {},
   "outputs": [
    {
     "data": {
      "text/markdown": [
       "\n",
       "differentiate to get $P_{44}$&emsp; $\n",
       "\\operatorname{P_{44}}{\\left(x \\right)} = \\frac{\\sqrt{3} x \\sin{\\left(\\frac{\\sqrt{3} x}{2} \\right)}}{2 \\sqrt{e^{x}}} + \\frac{x \\cos{\\left(\\frac{\\sqrt{3} x}{2} \\right)}}{2 \\sqrt{e^{x}}} - \\frac{\\sqrt{3} x e^{- \\frac{x}{2}} \\sin{\\left(\\frac{\\sqrt{3} x}{2} \\right)}}{2} + \\frac{3 x e^{- \\frac{x}{2}} \\cos{\\left(\\frac{\\sqrt{3} x}{2} \\right)}}{2} + \\left(2 - \\frac{3 x}{2}\\right) e^{- x} - \\left(- \\frac{3 x^{2}}{4} + 2 x - \\frac{5}{4}\\right) e^{- x} - \\frac{5 \\sin{\\left(x \\right)}}{4} - \\frac{5 \\cos{\\left(x \\right)}}{4} + \\frac{\\sqrt{3} \\sin{\\left(\\frac{\\sqrt{3} x}{2} \\right)}}{2 \\sqrt{e^{x}}} - \\frac{\\cos{\\left(\\frac{\\sqrt{3} x}{2} \\right)}}{2 \\sqrt{e^{x}}} + \\frac{7 \\sqrt{3} e^{- \\frac{x}{2}} \\sin{\\left(\\frac{\\sqrt{3} x}{2} \\right)}}{6} - \\frac{e^{- \\frac{x}{2}} \\cos{\\left(\\frac{\\sqrt{3} x}{2} \\right)}}{2}$ &emsp;&emsp;&emsp; **[ eq33 ]**\n",
       "\n"
      ],
      "text/plain": [
       "<IPython.core.display.Markdown object>"
      ]
     },
     "metadata": {},
     "output_type": "display_data"
    },
    {
     "data": {
      "text/latex": [
       "$\\displaystyle \\operatorname{P_{44}}{\\left(1 \\right)} = 0.183437650861763$"
      ],
      "text/plain": [
       "Eq(P_44(1), 0.183437650861763)"
      ]
     },
     "metadata": {},
     "output_type": "display_data"
    }
   ],
   "source": [
    "eq33 = sy.Eq(P_44(x),eq32.rhs.diff(x))\n",
    "disp(\"eq33\",\"differentiate to get $P_{44}$\")\n",
    "display(eq33.subs(x,1).evalf())"
   ]
  },
  {
   "cell_type": "code",
   "execution_count": 18,
   "id": "ec8cb3bf-b780-43ce-a751-f2de89932013",
   "metadata": {},
   "outputs": [
    {
     "data": {
      "text/markdown": [
       "\n",
       "### Published solutionn \n",
       "&emsp; $\n",
       "\\operatorname{P_{14}}{\\left(x \\right)} = \\frac{\\left(- 9 x^{2} + 12 \\sqrt{3} x e^{\\frac{x}{2}} \\sin{\\left(\\frac{\\sqrt{3} x}{2} \\right)} - 12 x e^{\\frac{x}{2}} \\cos{\\left(\\frac{\\sqrt{3} x}{2} \\right)} + 24 x - 4 \\sqrt{3} e^{\\frac{x}{2}} \\sin{\\left(\\frac{\\sqrt{3} x}{2} \\right)} - 12 e^{\\frac{x}{2}} \\cos{\\left(\\frac{\\sqrt{3} x}{2} \\right)} - 15 e^{x} \\sin{\\left(x \\right)} + 15 e^{x} \\cos{\\left(x \\right)} + 12 e^{x} - 15\\right) e^{- x}}{12}$ &emsp;&emsp;&emsp; **[ eq0 ]**\n",
       "\n"
      ],
      "text/plain": [
       "<IPython.core.display.Markdown object>"
      ]
     },
     "metadata": {},
     "output_type": "display_data"
    },
    {
     "data": {
      "text/latex": [
       "$\\displaystyle \\operatorname{P_{14}}{\\left(1 \\right)} = 0.371153234771287$"
      ],
      "text/plain": [
       "Eq(P_14(1), 0.371153234771287)"
      ]
     },
     "metadata": {},
     "output_type": "display_data"
    },
    {
     "data": {
      "text/markdown": [
       "\n",
       "\n",
       "differentiate to get $P_{44}$\n",
       "&emsp; $\n",
       "\\operatorname{P_{44}}{\\left(x \\right)} = \\left(\\sqrt{3} x e^{\\frac{x}{2}} \\sin{\\left(\\frac{\\sqrt{3} x}{2} \\right)} + x e^{\\frac{x}{2}} \\cos{\\left(\\frac{\\sqrt{3} x}{2} \\right)} - \\frac{3 x}{2} + \\frac{4 \\sqrt{3} e^{\\frac{x}{2}} \\sin{\\left(\\frac{\\sqrt{3} x}{2} \\right)}}{3} - 2 e^{\\frac{x}{2}} \\cos{\\left(\\frac{\\sqrt{3} x}{2} \\right)} - \\frac{5 e^{x} \\sin{\\left(x \\right)}}{2} + e^{x} + 2\\right) e^{- x} - \\left(- \\frac{3 x^{2}}{4} + \\sqrt{3} x e^{\\frac{x}{2}} \\sin{\\left(\\frac{\\sqrt{3} x}{2} \\right)} - x e^{\\frac{x}{2}} \\cos{\\left(\\frac{\\sqrt{3} x}{2} \\right)} + 2 x - \\frac{\\sqrt{3} e^{\\frac{x}{2}} \\sin{\\left(\\frac{\\sqrt{3} x}{2} \\right)}}{3} - e^{\\frac{x}{2}} \\cos{\\left(\\frac{\\sqrt{3} x}{2} \\right)} - \\frac{5 e^{x} \\sin{\\left(x \\right)}}{4} + \\frac{5 e^{x} \\cos{\\left(x \\right)}}{4} + e^{x} - \\frac{5}{4}\\right) e^{- x}$ &emsp;&emsp;&emsp; **[ eq0_1 ]**\n",
       "\n"
      ],
      "text/plain": [
       "<IPython.core.display.Markdown object>"
      ]
     },
     "metadata": {},
     "output_type": "display_data"
    },
    {
     "data": {
      "text/latex": [
       "$\\displaystyle \\operatorname{P_{44}}{\\left(1 \\right)} = 0.183437650861764$"
      ],
      "text/plain": [
       "Eq(P_44(1), 0.183437650861764)"
      ]
     },
     "metadata": {},
     "output_type": "display_data"
    }
   ],
   "source": [
    "### Published soln is.\n",
    "eq0 = sy.Eq(P_14(x),sy.Rational(1,12)*sy.exp(-x)* \\\n",
    "        (-15+12*sy.exp(x)+24*x+-9*x**2+15*sy.exp(x)*sy.cos(x)-12*sy.exp(x/2)*sy.cos(sy.sqrt(3)*x/2) \n",
    "         -12*sy.exp(x/2)*x*sy.cos(sy.sqrt(3)*x/2)-15*sy.exp(x)*sy.sin(x)-4*sy.sqrt(3)*sy.exp(x/2)*sy.sin(sy.sqrt(3)*x/2)+\n",
    "         12*sy.sqrt(3)*sy.exp(x/2)*x*sy.sin(sy.sqrt(3)*x/2)))\n",
    "         \n",
    "        \n",
    "disp(\"eq0\",\"### Published solutionn \\n\")\n",
    "display(eq0.subs(x,1).evalf())\n",
    "eq0_1 = sy.Eq(P_44(x),eq0.rhs.diff(x))\n",
    "disp(\"eq0_1\",\"\\ndifferentiate to get $P_{44}$\\n\")\n",
    "display(eq0_1.subs(x,1).evalf())"
   ]
  },
  {
   "cell_type": "code",
   "execution_count": null,
   "id": "f51bc1bf-6cce-4fa3-8444-8ec064d0dc41",
   "metadata": {},
   "outputs": [],
   "source": []
  }
 ],
 "metadata": {
  "kernelspec": {
   "display_name": "Python 3 (ipykernel)",
   "language": "python",
   "name": "python3"
  },
  "language_info": {
   "codemirror_mode": {
    "name": "ipython",
    "version": 3
   },
   "file_extension": ".py",
   "mimetype": "text/x-python",
   "name": "python",
   "nbconvert_exporter": "python",
   "pygments_lexer": "ipython3",
   "version": "3.7.12"
  }
 },
 "nbformat": 4,
 "nbformat_minor": 5
}
