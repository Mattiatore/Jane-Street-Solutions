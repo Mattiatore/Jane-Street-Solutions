{
 "cells": [
  {
   "cell_type": "code",
   "execution_count": 1,
   "metadata": {
    "id": "Oq1xibzMT1Wl"
   },
   "outputs": [],
   "source": [
    "import time\n",
    "import requests\n",
    "import numba as nb\n",
    "\n",
    "from bs4 import BeautifulSoup\n",
    "from IPython.display import Markdown, display\n",
    "from random import randrange\n",
    "from scipy.special import comb"
   ]
  },
  {
   "cell_type": "code",
   "execution_count": 2,
   "metadata": {
    "id": "ICTfvjZUT1Wr"
   },
   "outputs": [
    {
     "data": {
      "text/markdown": [
       "### Robot Swimming Trials\n",
       "\n",
       "Show Solution\n",
       "As we have\n",
       "twice\n",
       "before\n",
       ", we find ourselves engrossed in a robot sports competition. In the Robot Swimming Trials, 3\n",
       "N\n",
       "identical robots compete for\n",
       "N\n",
       "equivalent spots in the finals by swimming\n",
       "N\n",
       "races. Each robot precommits to spending a certain amount of its fuel in each race. After all the races are run, the spots in the finals are given to the winners of the races, moving from the fastest winner to the slowest. (Once a robot wins a race, it is ineligible to win another race.) A robot’s speed is strictly increasing in the amount of fuel it spends, and ties are broken by randomly choosing the winner among the robots that have spent the same amount of fuel.\n",
       "Mathematically speaking, the 3\n",
       "N\n",
       "robots each submit a strategy, which is an\n",
       "N\n",
       "-tuple of nonnegative real number “bids” summing to 1, representing the fuel burned in each of the\n",
       "N\n",
       "races. The winners of the races are then determined from the highest bid (across all races and all robots) on down, with ties broken randomly. Once a robot wins a race their other bids are deleted, so we are guaranteed to get\n",
       "N\n",
       "distinct qualifiers for the finals.\n",
       "For example, suppose\n",
       "N\n",
       "=3 and the 3\n",
       "N\n",
       "=9 robots submit their strategies as\n",
       "Robot\n",
       "Race 1\n",
       "Race 2\n",
       "Race 3\n",
       "Automatonya\n",
       "0.6\n",
       "0.1\n",
       "0.3\n",
       "Botty\n",
       "0.6\n",
       "0.3\n",
       "0.1\n",
       "Chroma\n",
       "0\n",
       "1\n",
       "0\n",
       "Data\n",
       "0.3\n",
       "0.5\n",
       "0.2\n",
       "Electro\n",
       "0.2\n",
       "0.8\n",
       "0\n",
       "Fernandroid\n",
       "0.4\n",
       "0.5\n",
       "0.1\n",
       "Gregulator\n",
       "0.5\n",
       "0.5\n",
       "0\n",
       "Hannanobot\n",
       "0\n",
       "0.9\n",
       "0.1\n",
       "IO\n",
       "0.2\n",
       "0.7\n",
       "0.1\n",
       "The second race gets resolved first because Chroma’s bid of 1 is the highest overall, and Chroma is declared the winner of that time trial. Next, the first race is resolved because 0.6 is the highest remaining bid (we ignore the 0.9, 0.8, and 0.7 in the second race because it already has a winner). We flip a fair coin to determine who is the winner between Automatonya and Botty; say that Automatonya gets lucky and is declared the winner. Then the third race is decided, and Data is declared the winner, because 0.2 is the highest bid among robots that have not yet won (Automatonya’s 0.3 is ignored).\n",
       "Over the storied history of the RST, the metagame settled into what was widely believed to be the Nash equilibrium: each robot uniformly randomly selects a race and devotes all of their fuel to it. Let’s call this the\n",
       "discrete strategy\n",
       ". However, rumors are circulating that this conventional wisdom is not entirely accurate: for a large enough\n",
       "N\n",
       ", the discrete strategy is not the Nash equilibrium. You’ve been tasked to find two pieces of information:\n",
       "What is the smallest\n",
       "N\n",
       "for which the trial does\n",
       "not\n",
       "have the discrete strategy as the Nash equilibrium?\n",
       "For this\n",
       "N\n",
       ", if the other 3\n",
       "N\n",
       "-1 robots naively play the discrete\n",
       "strategy and your robot plays optimally (exploiting this knowledge of\n",
       "your opponents’ strategies), with what probability\n",
       "p"
      ],
      "text/plain": [
       "<IPython.core.display.Markdown object>"
      ]
     },
     "metadata": {},
     "output_type": "display_data"
    }
   ],
   "source": [
    "url='https://www.janestreet.com/puzzles/robot-swimming-trials-index/'\n",
    "res = requests.get(url)\n",
    "soup = BeautifulSoup(res.content, 'html.parser')\n",
    "y =[text for text in soup.body.stripped_strings]\n",
    "\n",
    "#display([(i,j) for i,j in enumerate(y)])\n",
    "display(Markdown(\"### \"+y[7]+\"\\n\\n\"+str(\"\\n\".join(y[9:91]))))"
   ]
  },
  {
   "cell_type": "code",
   "execution_count": 3,
   "metadata": {
    "id": "844RhDFpT1Wu"
   },
   "outputs": [],
   "source": [
    "# A some point there is a larger than 1/3 probability of there being at least one race where every other robot choses zero. \n",
    "# So if the last robot spreads evenly over the other races he will win any race where there are no other robots who choose 1.\n",
    "# The probability of throwing N balls into k bins and there being a ball in every bin is as per the link below.\n",
    "# https://math.stackexchange.com/questions/174674/if-n-balls-are-thrown-into-k-bins-what-is-the-probability-that-every-bin-gets-a"
   ]
  },
  {
   "cell_type": "markdown",
   "metadata": {
    "id": "844RhDFpT1Wu"
   },
   "source": [
    "$P(X=0)=\\sum_{j=0}^k (-1)^j {k\\choose j}\\left(1-{j\\over k}\\right)^n$"
   ]
  },
  {
   "cell_type": "code",
   "execution_count": 8,
   "metadata": {
    "id": "844RhDFpT1Wu"
   },
   "outputs": [
    {
     "name": "stdout",
     "output_type": "stream",
     "text": [
      "For 2 rounds the chance is 0.062500 \n",
      "For 3 rounds the chance is 0.116598 \n",
      "For 4 rounds the chance is 0.166012 \n",
      "For 5 rounds the chance is 0.212093 \n",
      "For 6 rounds the chance is 0.255368 \n",
      "For 7 rounds the chance is 0.296128 \n",
      "For 8 rounds the chance is 0.334578 \n",
      "For 9 rounds the chance is 0.370878 \n"
     ]
    }
   ],
   "source": [
    "def calc(k):\n",
    "    n = 3* k - 1\n",
    "    return 1-sum([pow(-1,h)*comb(k,h)*(1-h/k)**n for h in range(k)])\n",
    "\n",
    "for i in range(2,10):\n",
    "    n=i*3\n",
    "    print(\"For {} rounds the chance is {:.6f} \".format(i,calc(i)))"
   ]
  },
  {
   "cell_type": "code",
   "execution_count": 5,
   "metadata": {},
   "outputs": [
    {
     "data": {
      "text/markdown": [
       "### October 2021 : Solution\n",
       "\n",
       "We are given that our opponents are all playing the discrete strategy,\n",
       "which means they will all be independently choosing a race uniformly\n",
       "randomly and devoting\n",
       "all of their fuel to it. Since we are searching for the smallest\n",
       "N\n",
       "so that the discrete strategy is not optimal, we will be playing\n",
       "something other than this strategy. This means we won’t be assigning\n",
       "all of our fuel to any one race, but since all of our opponents are\n",
       "“bidding” 1 or 0 on every race, the best non-discrete strategies will\n",
       "involve bidding a nonzero amount on every race, which will beat all of\n",
       "the 0 bids (but lose to all of the 1 bids). So without loss of\n",
       "generality we can assume the strategy of bidding 1/\n",
       "N\n",
       "on every race,\n",
       "we can call this the\n",
       "uniform\n",
       "strategy.\n",
       "Now we need to compute the smallest\n",
       "N\n",
       "for which this beats out the\n",
       "discrete strategy. The uniform strategy wins a race exactly when none\n",
       "of the 3\n",
       "N\n",
       "-1 other discrete-strategy-playing robots select that race\n",
       "for their fuel. It’s straightforward to compute this probability for a\n",
       "single race, (1-1/\n",
       "N\n",
       ")^(3\n",
       "N\n",
       "-1). But the assignment of discrete\n",
       "strategies is\n",
       "not independent\n",
       "across the\n",
       "N\n",
       "races! Assuming they were\n",
       "would give an incorrect answer of\n",
       "N\n",
       "=9 and\n",
       "p\n",
       "=0.350245…\n",
       "Also, these events of winning a race with the uniform strategy are\n",
       "not disjoint\n",
       "across the\n",
       "N\n",
       "races! Assuming they were would give\n",
       "an incorrect answer of\n",
       "N\n",
       "=8 and\n",
       "p\n",
       "=0.370916…\n",
       "Instead, a nice recursion could be found to count up the number of\n",
       "arrangements of the 3\n",
       "N\n",
       "-1 other players that left at least one race\n",
       "undefended. For example, let P(\n",
       "R\n",
       ",\n",
       "m\n",
       ",\n",
       "n\n",
       ") equal the probability that, if we\n",
       "need to assign\n",
       "R\n",
       "robots to (\n",
       "m\n",
       "+\n",
       "n\n",
       ") total races,\n",
       "m\n",
       "of which already have\n",
       "a robot assigned and\n",
       "n\n",
       "of which don’t, we will eventually assign at\n",
       "least one robot to all (\n",
       "m\n",
       "+\n",
       "n\n",
       ") races. Then assigning the next robot to a\n",
       "race uniformly randomly implies the recursion:\n",
       "P(\n",
       "R\n",
       ",\n",
       "m\n",
       ",\n",
       "n\n",
       ") = (\n",
       "m\n",
       "* P(\n",
       "R\n",
       "-1,\n",
       "m\n",
       ",\n",
       "n\n",
       ") +\n",
       "n\n",
       "* P(\n",
       "R\n",
       "-1,\n",
       "m\n",
       "+1,\n",
       "n\n",
       "-1))/(\n",
       "m\n",
       "+\n",
       "n\n",
       ").\n",
       "Along with the boundary values\n",
       "P(R,\n",
       "m\n",
       ",0) = 1 (all races have been assigned at least one robot)\n",
       "and for\n",
       "n\n",
       ">0,\n",
       "P(0,\n",
       "m\n",
       ",\n",
       "n\n",
       ") = 0 (we’ve run out of robots and we still have an unassigned\n",
       "race),\n",
       "we can compute values of P efficiently by induction. We want to find\n",
       "the smallest\n",
       "N\n",
       "such that\n",
       "1 - P(3\n",
       "N\n",
       "-1,0,\n",
       "N\n",
       ") > 1/3,\n",
       "which occurs at\n",
       "N\n",
       "=\n",
       "8\n",
       "and\n",
       "p\n",
       "=\n",
       "0.334578…\n",
       "."
      ],
      "text/plain": [
       "<IPython.core.display.Markdown object>"
      ]
     },
     "metadata": {},
     "output_type": "display_data"
    }
   ],
   "source": [
    "url='https://www.janestreet.com/puzzles/robot-swimming-trials-solution/'\n",
    "res = requests.get(url)\n",
    "soup = BeautifulSoup(res.content, 'html.parser')\n",
    "y =[text for text in soup.body.stripped_strings]\n",
    "#display([(i,j) for i,j in enumerate(y)])\n",
    "display(Markdown(\"### \"+y[8]+\"\\n\\n\"+str(\"\\n\".join(y[10:122]))))"
   ]
  },
  {
   "cell_type": "code",
   "execution_count": 6,
   "metadata": {},
   "outputs": [],
   "source": [
    "# Check with some simulations\n",
    "@nb.njit()\n",
    "def sim(N):\n",
    "    picks = [randrange(1, N+1) for p in range(N*3-1)]\n",
    "    for n in range(1,N+1):\n",
    "        if n not in picks:\n",
    "            return 1\n",
    "    return 0\n",
    "\n",
    "@nb.njit()\n",
    "def run_it(N,sims):\n",
    "    tot = 0\n",
    "    for x in range(sims):\n",
    "        tot += sim(N)\n",
    "    return tot/sims\n"
   ]
  },
  {
   "cell_type": "code",
   "execution_count": 7,
   "metadata": {},
   "outputs": [
    {
     "name": "stdout",
     "output_type": "stream",
     "text": [
      "Rounds\tSim\t\tCalc\n",
      "  2\t0.062389\t0.062500\n",
      "  3\t0.116644\t0.116598\n",
      "  4\t0.166192\t0.166012\n",
      "  5\t0.212212\t0.212093\n",
      "  6\t0.255415\t0.255368\n",
      "  7\t0.296339\t0.296128\n",
      "  8\t0.334660\t0.334578\n",
      "  9\t0.370837\t0.370878\n",
      "took 44.56086087226868\n"
     ]
    }
   ],
   "source": [
    "start= time.time()\n",
    "print(\"Rounds\\tSim\\t\\tCalc\")\n",
    "for N in range(2,10):\n",
    "    sims = 10000000\n",
    "    x = run_it(N,sims)\n",
    "    print(\"{:>3}\\t{:.6f}\\t{:.6f}\".format(N,x,calc(N)))\n",
    "print(\"took\",time.time()-start)"
   ]
  },
  {
   "cell_type": "code",
   "execution_count": null,
   "metadata": {},
   "outputs": [],
   "source": []
  }
 ],
 "metadata": {
  "colab": {
   "include_colab_link": true,
   "name": "JaneSt-Feb18.ipynb",
   "provenance": []
  },
  "kernelspec": {
   "display_name": "Python 3",
   "language": "python",
   "name": "python3"
  },
  "language_info": {
   "codemirror_mode": {
    "name": "ipython",
    "version": 3
   },
   "file_extension": ".py",
   "mimetype": "text/x-python",
   "name": "python",
   "nbconvert_exporter": "python",
   "pygments_lexer": "ipython3",
   "version": "3.7.10"
  }
 },
 "nbformat": 4,
 "nbformat_minor": 4
}
